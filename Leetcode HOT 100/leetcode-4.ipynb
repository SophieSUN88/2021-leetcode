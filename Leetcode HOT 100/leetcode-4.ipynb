{
 "cells": [
  {
   "cell_type": "markdown",
   "metadata": {},
   "source": [
    "## 4. Median of Two Sorted Arrays (hard)\n",
    "Given two sorted arrays nums1 and nums2 of size m and n respectively, return the median of the two sorted arrays.\n",
    "\n",
    "The overall run time complexity should be O(log (m+n)).\n",
    "\n",
    "- Example 1:\n",
    "\n",
    "Input: nums1 = [1,3], nums2 = [2]\n",
    "Output: 2.00000\n",
    "Explanation: merged array = [1,2,3] and median is 2.\n",
    "- Example 2:\n",
    "\n",
    "Input: nums1 = [1,2], nums2 = [3,4]\n",
    "Output: 2.50000\n",
    "Explanation: merged array = [1,2,3,4] and median is (2 + 3) / 2 = 2.5."
   ]
  },
  {
   "cell_type": "markdown",
   "metadata": {},
   "source": [
    "### solution 1\n",
    "1. merge 2 nums together\n",
    "2. sort()\n",
    "3. find the median\n",
    "\n",
    "- cons: ignore 2 nums are soted.\n",
    "\n",
    "- time complexity: O((m+n)log(m+n))\n",
    "- space comlexity: O(m+n)"
   ]
  },
  {
   "cell_type": "code",
   "execution_count": 1,
   "metadata": {},
   "outputs": [],
   "source": [
    "#import typing\n",
    "from typing import List"
   ]
  },
  {
   "cell_type": "code",
   "execution_count": 2,
   "metadata": {},
   "outputs": [
    {
     "data": {
      "text/plain": [
       "2.5"
      ]
     },
     "execution_count": 2,
     "metadata": {},
     "output_type": "execute_result"
    }
   ],
   "source": [
    "class Solution:\n",
    "    def findMedianSortedArrays(self, nums1: List[int], nums2: List[int]) -> float:\n",
    "        self.nums1=nums1\n",
    "        self.nums2=nums2\n",
    "\n",
    "        array=sorted(self.nums1+self.nums2)\n",
    "        n=len(array)\n",
    "        if (n % 2):\n",
    "            result=round(array[n//2],4)\n",
    "        else:\n",
    "            result=round((array[n//2]+array[n//2 -1])/2,4)\n",
    "        return result\n",
    "nums1 = [1,2]\n",
    "nums2 = [3,4]\n",
    "S = Solution()\n",
    "S.findMedianSortedArrays(nums1,nums2)"
   ]
  },
  {
   "cell_type": "markdown",
   "metadata": {},
   "source": [
    "### solution 2 : better in space complaxity\n",
    "- pros: don't need to store the list, just find the index,and return the result\n",
    "\n",
    "- time complexity: O(m+n)\n",
    "- space comlexity: O(1)"
   ]
  },
  {
   "cell_type": "code",
   "execution_count": 3,
   "metadata": {},
   "outputs": [],
   "source": [
    "def findMedianSortedArrays2(nums1, nums2):\n",
    "    p1,p2=0,0\n",
    "    n=len(nums1)+len(nums2)\n",
    "    while p1+p2+1 < n//2 :\n",
    "        if nums1[p1] <= nums2[p2]:\n",
    "            p1 +=1\n",
    "        else:\n",
    "            p2 +=1\n",
    "    if n % 2 == 1:\n",
    "        result=max(nums1[p1],nums2[p2])\n",
    "    else:\n",
    "        result=(nums1[p1]+nums2[p2])/2\n",
    "\n",
    "    return result\n"
   ]
  },
  {
   "cell_type": "code",
   "execution_count": 4,
   "metadata": {},
   "outputs": [
    {
     "data": {
      "text/plain": [
       "3"
      ]
     },
     "execution_count": 4,
     "metadata": {},
     "output_type": "execute_result"
    }
   ],
   "source": [
    "nums1 = [1,2,3]\n",
    "nums2 = [3,4]\n",
    "findMedianSortedArrays2(nums1,nums2)"
   ]
  },
  {
   "cell_type": "markdown",
   "metadata": {},
   "source": [
    "### solution 3 : binary search\n",
    "- separate the nums1+nums2 into left and right\n",
    "- len(left)= len(rifht) or len(left)=len(ritht)+1\n",
    "    - $size_{left}= \\frac {m+n+1}{2}$ \n",
    "- all the numbers on lef is less than all the numbers on right, so the condition is\n",
    "    - nums1[p1]< nums2[p2+1] and nums1[p1+1] > nums2[p2]"
   ]
  },
  {
   "cell_type": "code",
   "execution_count": 5,
   "metadata": {},
   "outputs": [
    {
     "data": {
      "text/plain": [
       "2"
      ]
     },
     "execution_count": 5,
     "metadata": {},
     "output_type": "execute_result"
    }
   ],
   "source": [
    "def findMedianSortedArrays3(nums1, nums2):\n",
    "    m=len(nums1)\n",
    "    n=len(nums2)\n",
    "    if m > n:\n",
    "        return findMedianSortedArrays3(nums2, nums1)\n",
    "    infinty = 2**40\n",
    "    \n",
    "    totalleft=(n+m+1) // 2\n",
    "\n",
    "    ## search resion for nums1 is [0:m], find the seperate line for nums1\n",
    "    left = 0\n",
    "    right = m\n",
    "\n",
    "    while left < right:\n",
    "        i = (left+right) // 2\n",
    "        j = totalleft - i\n",
    "\n",
    "        # nums_im1, nums_i, nums_jm1, nums_j 分别表示 nums1[i-1], nums1[i], nums2[j-1], nums2[j]\n",
    "        nums_im1 = (-infinty if i == 0 else nums1[i - 1])\n",
    "        nums_i = (infinty if i == m else nums1[i])\n",
    "        nums_jm1 = (-infinty if j == 0 else nums2[j - 1])\n",
    "        nums_j = (infinty if j == n else nums2[j])\n",
    "\n",
    "        if nums_im1 <= nums_j:\n",
    "            ## find the max on left side, and min on right side\n",
    "            median1, median2 = max(nums_im1, nums_jm1), min(nums_i, nums_j)\n",
    "            left = i + 1\n",
    "        else:\n",
    "            right = i - 1\n",
    "\n",
    "        return (median1 + median2) / 2 if (m + n) % 2 == 0 else median1\n",
    "nums1 = [1,2,3]\n",
    "nums2 = [0,1]\n",
    "findMedianSortedArrays3(nums1,nums2)"
   ]
  }
 ],
 "metadata": {
  "interpreter": {
   "hash": "aee8b7b246df8f9039afb4144a1f6fd8d2ca17a180786b69acc140d282b71a49"
  },
  "kernelspec": {
   "display_name": "Python 3.9.6 64-bit",
   "language": "python",
   "name": "python3"
  },
  "language_info": {
   "codemirror_mode": {
    "name": "ipython",
    "version": 3
   },
   "file_extension": ".py",
   "mimetype": "text/x-python",
   "name": "python",
   "nbconvert_exporter": "python",
   "pygments_lexer": "ipython3",
   "version": "3.9.6"
  },
  "orig_nbformat": 4
 },
 "nbformat": 4,
 "nbformat_minor": 2
}
