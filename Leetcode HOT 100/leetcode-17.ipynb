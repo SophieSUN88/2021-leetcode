{
 "cells": [
  {
   "cell_type": "markdown",
   "metadata": {},
   "source": [
    "## 17. 电话号码的字母组合\n",
    "- 给定一个仅包含数字 2-9 的字符串，返回所有它能表示的字母组合。答案可以按 任意顺序 返回。\n",
    "- 给出数字到字母的映射如下（与电话按键相同）。注意 1 不对应任何字母。\n",
    "- 输入：digits = \"23\"\n",
    "- 输出：[\"ad\",\"ae\",\"af\",\"bd\",\"be\",\"bf\",\"cd\",\"ce\",\"cf\"]\n",
    "\n",
    "- time complexity: O($3^m x 4^n$):m 输入中对应3个字母的数字个数，n 输入中对应4个字母的数字个数\n",
    "- space complexity: O(m+n)\n",
    "\n",
    "1. hash map\n",
    "2. backtracking\n",
    "\n"
   ]
  },
  {
   "cell_type": "code",
   "execution_count": 10,
   "metadata": {},
   "outputs": [],
   "source": [
    "def letterCombinations(digits):\n",
    "    result = []\n",
    "    if not digits:\n",
    "        return result\n",
    "    phoneMap = {'2':'abc','3':'def','4':'ghi','5':'jkl',\n",
    "                '6':'mno','7':'pqrs','8':'tuv','9':'wxyz'}\n",
    "    def backtrack(index):\n",
    "        if index == len(digits):\n",
    "            result.append(\"\".join(combination))\n",
    "        else:\n",
    "            digit = digits[index]\n",
    "            for i in phoneMap[digit]:\n",
    "                combination.append(i)\n",
    "                backtrack(index+1)\n",
    "                combination.pop()\n",
    "    combination=[]      \n",
    "    backtrack(0)\n",
    "    return result"
   ]
  },
  {
   "cell_type": "code",
   "execution_count": 12,
   "metadata": {},
   "outputs": [
    {
     "data": {
      "text/plain": [
       "['ad', 'ae', 'af', 'bd', 'be', 'bf', 'cd', 'ce', 'cf']"
      ]
     },
     "execution_count": 12,
     "metadata": {},
     "output_type": "execute_result"
    }
   ],
   "source": [
    "digits='23'\n",
    "letterCombinations(digits)"
   ]
  },
  {
   "cell_type": "code",
   "execution_count": 13,
   "metadata": {},
   "outputs": [
    {
     "data": {
      "text/plain": [
       "[]"
      ]
     },
     "execution_count": 13,
     "metadata": {},
     "output_type": "execute_result"
    }
   ],
   "source": [
    "digits=\"\"\n",
    "letterCombinations(digits)"
   ]
  }
 ],
 "metadata": {
  "interpreter": {
   "hash": "aee8b7b246df8f9039afb4144a1f6fd8d2ca17a180786b69acc140d282b71a49"
  },
  "kernelspec": {
   "display_name": "Python 3.9.6 64-bit",
   "language": "python",
   "name": "python3"
  },
  "language_info": {
   "codemirror_mode": {
    "name": "ipython",
    "version": 3
   },
   "file_extension": ".py",
   "mimetype": "text/x-python",
   "name": "python",
   "nbconvert_exporter": "python",
   "pygments_lexer": "ipython3",
   "version": "3.9.6"
  },
  "orig_nbformat": 4
 },
 "nbformat": 4,
 "nbformat_minor": 2
}
