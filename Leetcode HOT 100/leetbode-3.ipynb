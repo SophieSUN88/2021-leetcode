{
 "cells": [
  {
   "cell_type": "markdown",
   "metadata": {},
   "source": [
    "### 3. Longest Substring Without Repeating Characters\n",
    "Given a string s, find the length of the longest substring without repeating characters.\n",
    "\n",
    "Example 1:\n",
    "- Input: s = \"abcabcbb\"\n",
    "- Output: 3\n",
    "- Explanation: The answer is \"abc\", with the length of 3.\n",
    "\n",
    "Example 2:\n",
    "- Input: s = \"bbbbb\"\n",
    "- Output: 1\n",
    "- Explanation: The answer is \"b\", with the length of 1.\n",
    "\n",
    "Example 3:\n",
    "- Input: s = \"pwwkew\"\n",
    "- Output: 3\n",
    "- Explanation: The answer is \"wke\", with the length of 3.\n",
    "- Notice that the answer must be a substring, \"pwke\" is a subsequence and not a substring."
   ]
  },
  {
   "cell_type": "code",
   "execution_count": 11,
   "metadata": {},
   "outputs": [
    {
     "data": {
      "text/plain": [
       "7"
      ]
     },
     "execution_count": 11,
     "metadata": {},
     "output_type": "execute_result"
    }
   ],
   "source": [
    "class Solution():\n",
    "    def maxSubstring(self,s):\n",
    "        n = len(s)\n",
    "        max_count = 0\n",
    "        if 0<= n <=1:\n",
    "            return n\n",
    "        chars = {}\n",
    "        count = 0\n",
    "        i = 0\n",
    "        while i < n:\n",
    "            if s[i] not in chars:\n",
    "                chars[s[i]] = i\n",
    "                count +=1\n",
    "                max_count = max(max_count, count)\n",
    "                i +=1\n",
    "            else:\n",
    "                i = chars[s[i]] + 1\n",
    "                chars = {}\n",
    "                count = 0\n",
    "        return max_count\n",
    "s = 'abcbeftgaa'\n",
    "example = Solution()\n",
    "example.maxSubstring(s)\n",
    "\n"
   ]
  },
  {
   "cell_type": "code",
   "execution_count": null,
   "metadata": {},
   "outputs": [],
   "source": []
  },
  {
   "cell_type": "code",
   "execution_count": 1,
   "metadata": {},
   "outputs": [],
   "source": [
    "#80ms\n",
    "def lengthOfLongestSubstring(s):\n",
    "    n=len(s)\n",
    "    max_len=0\n",
    "    start=0\n",
    "    hashmap={}\n",
    "    for end in range(n):\n",
    "        hashmap[s[end]] = hashmap.get(s[end],0)+1\n",
    "        if len(hashmap) == end - start +1:\n",
    "            max_len = max(max_len, end-start+1)\n",
    "        while end - start +1 >len(hashmap):\n",
    "            head = s[start]\n",
    "            hashmap[head] -=1\n",
    "            if hashmap[head]==0:\n",
    "                del hashmap[head]\n",
    "            start +=1\n",
    "    return max_len"
   ]
  },
  {
   "cell_type": "code",
   "execution_count": 3,
   "metadata": {},
   "outputs": [
    {
     "name": "stdout",
     "output_type": "stream",
     "text": [
      "3\n",
      "3\n"
     ]
    }
   ],
   "source": [
    "s1 = \"abcabcbb\"\n",
    "s2 = \"pwwkew\"\n",
    "print(lengthOfLongestSubstring(s1))\n",
    "print(lengthOfLongestSubstring(s2))"
   ]
  },
  {
   "cell_type": "code",
   "execution_count": 6,
   "metadata": {},
   "outputs": [
    {
     "data": {
      "text/plain": [
       "{'h': 1, 'e': 1, 'l': 2, 'o': 1}"
      ]
     },
     "execution_count": 6,
     "metadata": {},
     "output_type": "execute_result"
    }
   ],
   "source": [
    "# a is a string\n",
    "a=\"hello\" \n",
    "# b is dictionary\n",
    "# b={'a':1}\n",
    "# b['a']\n",
    "b={}\n",
    "for i in range(len(a)):\n",
    "    b[a[i]]=b.get(a[i],0) + 1\n",
    "b\n"
   ]
  },
  {
   "cell_type": "code",
   "execution_count": 5,
   "metadata": {},
   "outputs": [
    {
     "data": {
      "text/plain": [
       "0"
      ]
     },
     "execution_count": 5,
     "metadata": {},
     "output_type": "execute_result"
    }
   ],
   "source": [
    "b={'a':1,'b':3}\n",
    "b.get('c',0)"
   ]
  },
  {
   "cell_type": "code",
   "execution_count": 8,
   "metadata": {},
   "outputs": [
    {
     "data": {
      "text/plain": [
       "{'a': 1, 'b': 1, 'c': 1}"
      ]
     },
     "execution_count": 8,
     "metadata": {},
     "output_type": "execute_result"
    }
   ],
   "source": [
    "s='hello'\n",
    "\n",
    "def abc(s):\n",
    "    result={}\n",
    "    for i in range(len(s)):\n",
    "        result[s[i]]=result.get(s[i],0)+1\n",
    "    return result\n",
    "a='abc'\n",
    "abc(a)\n"
   ]
  },
  {
   "cell_type": "code",
   "execution_count": 8,
   "metadata": {},
   "outputs": [
    {
     "data": {
      "text/plain": [
       "[3, 2, 1]"
      ]
     },
     "execution_count": 8,
     "metadata": {},
     "output_type": "execute_result"
    }
   ],
   "source": [
    "a=[1,2,3]\n",
    "a[::-1]"
   ]
  },
  {
   "cell_type": "code",
   "execution_count": 10,
   "metadata": {},
   "outputs": [
    {
     "data": {
      "text/plain": [
       "[3, 2, 1]"
      ]
     },
     "execution_count": 10,
     "metadata": {},
     "output_type": "execute_result"
    }
   ],
   "source": [
    "a=[1,2,3]\n",
    "b=[]\n",
    "n=len(a)\n",
    "for i in range(len(a)):\n",
    "    b.append(a[n-1-i])\n",
    "b"
   ]
  },
  {
   "cell_type": "code",
   "execution_count": 11,
   "metadata": {},
   "outputs": [
    {
     "name": "stdout",
     "output_type": "stream",
     "text": [
      "a: [1, 2, 3]\n",
      "a: [1, 2]\n",
      "b: [3]\n",
      "a: [1]\n",
      "b: [3, 2]\n",
      "a: []\n",
      "b: [3, 2, 1]\n"
     ]
    },
    {
     "data": {
      "text/plain": [
       "[3, 2, 1]"
      ]
     },
     "execution_count": 11,
     "metadata": {},
     "output_type": "execute_result"
    }
   ],
   "source": [
    "a=[1,2,3]\n",
    "b=[]\n",
    "print(\"a:\",a)\n",
    "for i in range(len(a)):\n",
    "## a.pop() 就是a这个list中最后一个移除掉，\n",
    "## 同时返回的是a这个list中最后一个值，所以返回值给b\n",
    "    b.append(a.pop())  \n",
    "    print(\"a:\",a)\n",
    "    print(\"b:\",b)\n",
    "\n",
    "b"
   ]
  },
  {
   "cell_type": "code",
   "execution_count": null,
   "metadata": {},
   "outputs": [],
   "source": []
  }
 ],
 "metadata": {
  "interpreter": {
   "hash": "aee8b7b246df8f9039afb4144a1f6fd8d2ca17a180786b69acc140d282b71a49"
  },
  "kernelspec": {
   "display_name": "Python 3.9.6 64-bit",
   "language": "python",
   "name": "python3"
  },
  "language_info": {
   "codemirror_mode": {
    "name": "ipython",
    "version": 3
   },
   "file_extension": ".py",
   "mimetype": "text/x-python",
   "name": "python",
   "nbconvert_exporter": "python",
   "pygments_lexer": "ipython3",
   "version": "3.9.6"
  },
  "orig_nbformat": 4
 },
 "nbformat": 4,
 "nbformat_minor": 2
}
