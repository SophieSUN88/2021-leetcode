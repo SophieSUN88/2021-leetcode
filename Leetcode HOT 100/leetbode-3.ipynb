{
 "cells": [
  {
   "cell_type": "markdown",
   "metadata": {},
   "source": [
    "### 3. Longest Substring Without Repeating Characters\n",
    "Given a string s, find the length of the longest substring without repeating characters.\n",
    "\n",
    "Example 1:\n",
    "- Input: s = \"abcabcbb\"\n",
    "- Output: 3\n",
    "- Explanation: The answer is \"abc\", with the length of 3.\n",
    "\n",
    "Example 2:\n",
    "- Input: s = \"bbbbb\"\n",
    "- Output: 1\n",
    "- Explanation: The answer is \"b\", with the length of 1.\n",
    "\n",
    "Example 3:\n",
    "- Input: s = \"pwwkew\"\n",
    "- Output: 3\n",
    "- Explanation: The answer is \"wke\", with the length of 3.\n",
    "- Notice that the answer must be a substring, \"pwke\" is a subsequence and not a substring."
   ]
  },
  {
   "cell_type": "code",
   "execution_count": 1,
   "metadata": {},
   "outputs": [],
   "source": [
    "#80ms\n",
    "def lengthOfLongestSubstring(s):\n",
    "    n=len(s)\n",
    "    max_len=0\n",
    "    start=0\n",
    "    hashmap={}\n",
    "    for end in range(n):\n",
    "        hashmap[s[end]] = hashmap.get(s[end],0)+1\n",
    "        if len(hashmap) == end - start +1:\n",
    "            max_len = max(max_len, end-start+1)\n",
    "        while end - start +1 >len(hashmap):\n",
    "            head = s[start]\n",
    "            hashmap[head] -=1\n",
    "            if hashmap[head]==0:\n",
    "                del hashmap[head]\n",
    "            start +=1\n",
    "    return max_len"
   ]
  },
  {
   "cell_type": "code",
   "execution_count": 3,
   "metadata": {},
   "outputs": [
    {
     "name": "stdout",
     "output_type": "stream",
     "text": [
      "3\n",
      "3\n"
     ]
    }
   ],
   "source": [
    "s1 = \"abcabcbb\"\n",
    "s2 = \"pwwkew\"\n",
    "print(lengthOfLongestSubstring(s1))\n",
    "print(lengthOfLongestSubstring(s2))"
   ]
  }
 ],
 "metadata": {
  "interpreter": {
   "hash": "aee8b7b246df8f9039afb4144a1f6fd8d2ca17a180786b69acc140d282b71a49"
  },
  "kernelspec": {
   "display_name": "Python 3.9.6 64-bit",
   "language": "python",
   "name": "python3"
  },
  "language_info": {
   "codemirror_mode": {
    "name": "ipython",
    "version": 3
   },
   "file_extension": ".py",
   "mimetype": "text/x-python",
   "name": "python",
   "nbconvert_exporter": "python",
   "pygments_lexer": "ipython3",
   "version": "3.9.6"
  },
  "orig_nbformat": 4
 },
 "nbformat": 4,
 "nbformat_minor": 2
}
