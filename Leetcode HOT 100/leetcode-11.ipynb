{
 "cells": [
  {
   "cell_type": "markdown",
   "metadata": {},
   "source": [
    "## 11. 盛最多水的容器\n",
    "- 给定一个长度为 n 的整数数组 height 。有 n 条垂线，第 i 条线的两个端点是 (i, 0) 和 (i, height[i]) 。\n",
    "- 找出其中的两条线，使得它们与 x 轴共同构成的容器可以容纳最多的水。\n",
    "- 返回容器可以储存的最大水量。\n",
    "- 说明：你不能倾斜容器。\n",
    "- example\n",
    "    - 输入：[1,8,6,2,5,4,8,3,7]\n",
    "    - 输出：49 \n",
    "    - 解释：图中垂直线代表输入数组 [1,8,6,2,5,4,8,3,7]。在此情况下，容器能够容纳水（表示为蓝色部分）的最大值为 49。"
   ]
  },
  {
   "cell_type": "code",
   "execution_count": 1,
   "metadata": {},
   "outputs": [],
   "source": [
    "def maxArea(height):\n",
    "    maxArea=0\n",
    "    l=0\n",
    "    r=len(height)-1\n",
    "    while (l<r):\n",
    "        area=min(height[l],height[r])*(r-l)\n",
    "        maxArea=max(maxArea,area)\n",
    "        if height[l]<height[r]:\n",
    "            l +=1\n",
    "        else:\n",
    "            r -=1\n",
    "    return maxArea"
   ]
  },
  {
   "cell_type": "code",
   "execution_count": 2,
   "metadata": {},
   "outputs": [
    {
     "data": {
      "text/plain": [
       "49"
      ]
     },
     "execution_count": 2,
     "metadata": {},
     "output_type": "execute_result"
    }
   ],
   "source": [
    "height=[1,8,6,2,5,4,8,3,7]\n",
    "maxArea(height)"
   ]
  },
  {
   "cell_type": "code",
   "execution_count": 3,
   "metadata": {},
   "outputs": [],
   "source": [
    "# 遍历所有的可能的area\n",
    "def maxArea2(height):\n",
    "    maxArea=0\n",
    "    for i in range(len(height)-1):\n",
    "        for j in range(i+1,len(height)):\n",
    "            y=min(height[i],height[j])\n",
    "            x=j-i\n",
    "            area=x*y\n",
    "            maxArea=max(maxArea, area)\n",
    "    return maxArea"
   ]
  },
  {
   "cell_type": "code",
   "execution_count": 4,
   "metadata": {},
   "outputs": [
    {
     "data": {
      "text/plain": [
       "49"
      ]
     },
     "execution_count": 4,
     "metadata": {},
     "output_type": "execute_result"
    }
   ],
   "source": [
    "height=[1,8,6,2,5,4,8,3,7]\n",
    "maxArea2(height)"
   ]
  }
 ],
 "metadata": {
  "interpreter": {
   "hash": "aee8b7b246df8f9039afb4144a1f6fd8d2ca17a180786b69acc140d282b71a49"
  },
  "kernelspec": {
   "display_name": "Python 3.9.6 64-bit",
   "language": "python",
   "name": "python3"
  },
  "language_info": {
   "codemirror_mode": {
    "name": "ipython",
    "version": 3
   },
   "file_extension": ".py",
   "mimetype": "text/x-python",
   "name": "python",
   "nbconvert_exporter": "python",
   "pygments_lexer": "ipython3",
   "version": "3.9.6"
  },
  "orig_nbformat": 4
 },
 "nbformat": 4,
 "nbformat_minor": 2
}
