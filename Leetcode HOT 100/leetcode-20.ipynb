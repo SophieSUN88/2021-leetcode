{
 "cells": [
  {
   "cell_type": "markdown",
   "metadata": {},
   "source": [
    "## 20. 有效的括号\n",
    "- 给定一个只包括 '('，')'，'{'，'}'，'['，']' 的字符串 s ，判断字符串是否有效。\n",
    "- 有效字符串需满足：\n",
    "    - 左括号必须用相同类型的右括号闭合。\n",
    "    - 左括号必须以正确的顺序闭合。\n",
    "- 输入：s = \"()[]{}\"\n",
    "- 输出：true"
   ]
  },
  {
   "cell_type": "markdown",
   "metadata": {},
   "source": [
    "- time complexity O(n)\n",
    "- space complexity O(n+|$\\sum$|)"
   ]
  },
  {
   "cell_type": "code",
   "execution_count": 23,
   "metadata": {},
   "outputs": [],
   "source": [
    "#36ms\n",
    "def isValid(s):\n",
    "    map = {\n",
    "            \")\": \"(\",\n",
    "            \"]\": \"[\",\n",
    "            \"}\": \"{\",\n",
    "        }\n",
    "    n=len(s)\n",
    "    if n % 2 ==1:\n",
    "        return False\n",
    "    stack =[]\n",
    "    for i in s:\n",
    "        if i in map:\n",
    "            if not stack or stack[-1] != map[i]:\n",
    "                return False\n",
    "            stack.pop()\n",
    "        else:\n",
    "            stack.append(i)           \n",
    "        \n",
    "    return not stack\n"
   ]
  },
  {
   "cell_type": "code",
   "execution_count": 29,
   "metadata": {},
   "outputs": [],
   "source": [
    "def isValid(s):\n",
    "    map={'(':')','{':'}','[':']','?':'?'}\n",
    "    n=len(s)\n",
    "    if n % 2 ==1:\n",
    "        return False\n",
    "    stack =[]\n",
    "    for i in s:\n",
    "        if i in map:\n",
    "            stack.append(i) \n",
    "        else:\n",
    "            if len(stack)==0:\n",
    "                return False\n",
    "            else:\n",
    "                if map[stack.pop()] != i:\n",
    "                    return False\n",
    "    return not stack\n"
   ]
  },
  {
   "cell_type": "code",
   "execution_count": 30,
   "metadata": {},
   "outputs": [
    {
     "data": {
      "text/plain": [
       "True"
      ]
     },
     "execution_count": 30,
     "metadata": {},
     "output_type": "execute_result"
    }
   ],
   "source": [
    "s = \"()[]{}\"\n",
    "isValid(s)"
   ]
  },
  {
   "cell_type": "code",
   "execution_count": 17,
   "metadata": {},
   "outputs": [],
   "source": [
    "#36ms\n",
    "def isValid2(s):\n",
    "    map={'(':')','{':'}','[':']','?':'?'}\n",
    "    stack=['?']\n",
    "    for i in s:\n",
    "        if i in map:\n",
    "            stack.append(i)\n",
    "        elif map[stack.pop()] !=i:\n",
    "            return False\n",
    "    return len(stack) == 1 "
   ]
  },
  {
   "cell_type": "code",
   "execution_count": 18,
   "metadata": {},
   "outputs": [
    {
     "data": {
      "text/plain": [
       "True"
      ]
     },
     "execution_count": 18,
     "metadata": {},
     "output_type": "execute_result"
    }
   ],
   "source": [
    "s = \"()[]{}\"\n",
    "isValid2(s)"
   ]
  }
 ],
 "metadata": {
  "interpreter": {
   "hash": "aee8b7b246df8f9039afb4144a1f6fd8d2ca17a180786b69acc140d282b71a49"
  },
  "kernelspec": {
   "display_name": "Python 3.9.6 64-bit",
   "language": "python",
   "name": "python3"
  },
  "language_info": {
   "codemirror_mode": {
    "name": "ipython",
    "version": 3
   },
   "file_extension": ".py",
   "mimetype": "text/x-python",
   "name": "python",
   "nbconvert_exporter": "python",
   "pygments_lexer": "ipython3",
   "version": "3.9.6"
  },
  "orig_nbformat": 4
 },
 "nbformat": 4,
 "nbformat_minor": 2
}
