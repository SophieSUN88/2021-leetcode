{
 "cells": [
  {
   "cell_type": "markdown",
   "metadata": {},
   "source": [
    "### 15. 三数之和\n",
    "- 给你一个包含 n 个整数的数组 nums，判断 nums 中是否存在三个元素 a，b，c ，使得 a + b + c = 0 ？请你找出所有和为 0 且不重复的三元组。\n",
    "- 注意：答案中不可以包含重复的三元组。\n",
    "- 输入：nums = [-1,0,1,2,-1,-4]\n",
    "- 输出：[[-1,-1,2],[-1,0,1]] \n"
   ]
  },
  {
   "cell_type": "code",
   "execution_count": 12,
   "metadata": {},
   "outputs": [
    {
     "name": "stdout",
     "output_type": "stream",
     "text": [
      "[-1, 0, 1]\n",
      "[[-1, 0, 1]]\n"
     ]
    }
   ],
   "source": [
    "nums = [-1,0,1,2,-1,-4]\n",
    "nums.sort()\n",
    "result=[]\n",
    "\n",
    "n=len(nums)\n",
    "for i in range(n-2):\n",
    "    if i == 0 and nums[i]!=nums[i+1]:\n",
    "        for j in range(i+1,n-1):\n",
    "            if j == i+1 and nums[j]!=nums[j+1]:\n",
    "                for k in range(j+1,n):\n",
    "                    if k == j+1 and nums[k]!=nums[k+1]:\n",
    "                        if nums[i]+nums[j]+nums[k]==0:\n",
    "                            a=[]\n",
    "                            a.append(nums[i])\n",
    "                            a.append(nums[j])\n",
    "                            a.append(nums[k])\n",
    "                            result.append(a)\n",
    "                            print(a)\n",
    "                            print(result)\n",
    "\n",
    "\n"
   ]
  },
  {
   "cell_type": "markdown",
   "metadata": {},
   "source": [
    "- time complexity : O($N^3$), N= len(nums)\n",
    "- space complexity : O(log N)/ O(N)"
   ]
  },
  {
   "cell_type": "code",
   "execution_count": 35,
   "metadata": {},
   "outputs": [],
   "source": [
    "def threeSum2(nums):\n",
    "    nums=sorted(nums)\n",
    "    result=[]\n",
    "    n=len(nums)\n",
    "    for i in range(n-2):\n",
    "        if i==0 or nums[i]!=nums[i-1]:\n",
    "            for j in range(i+1,n-1):\n",
    "                if j==i+1 or nums[j]!=nums[j-1]:\n",
    "                    for k in range(j+1,n):\n",
    "                        if k==j+1 or nums[k]!=nums[k-1]:\n",
    "                            if nums[i]+nums[j]+nums[k]==0:\n",
    "                                result.append([nums[i],nums[j],nums[k]])\n",
    "    return result"
   ]
  },
  {
   "cell_type": "code",
   "execution_count": 36,
   "metadata": {},
   "outputs": [
    {
     "data": {
      "text/plain": [
       "[[-1, -1, 2], [-1, 0, 1]]"
      ]
     },
     "execution_count": 36,
     "metadata": {},
     "output_type": "execute_result"
    }
   ],
   "source": [
    "nums = [-1,0,1,2,-1,-4]\n",
    "threeSum2(nums)"
   ]
  },
  {
   "cell_type": "code",
   "execution_count": 37,
   "metadata": {},
   "outputs": [
    {
     "data": {
      "text/plain": [
       "[[0, 0, 0]]"
      ]
     },
     "execution_count": 37,
     "metadata": {},
     "output_type": "execute_result"
    }
   ],
   "source": [
    "nums=[0,0,0,0,0]\n",
    "threeSum2(nums)"
   ]
  },
  {
   "cell_type": "markdown",
   "metadata": {},
   "source": [
    "- time complexity : O($N^2$), N= len(nums)\n",
    "- space complexity : O(log N)/ O(N)"
   ]
  },
  {
   "cell_type": "code",
   "execution_count": 29,
   "metadata": {},
   "outputs": [
    {
     "data": {
      "text/plain": [
       "[[-1, -1, 2], [-1, 0, 1]]"
      ]
     },
     "execution_count": 29,
     "metadata": {},
     "output_type": "execute_result"
    }
   ],
   "source": [
    "def threeSum(nums):\n",
    "    nums=sorted(nums)\n",
    "    n=len(nums)\n",
    "    result=[]\n",
    "    for first in range(n-2):\n",
    "        if first >0 and nums[first]==nums[first-1]:\n",
    "            continue\n",
    "        third=n-1\n",
    "        for second in range(first+1,third):\n",
    "            if second > first+1 and nums[second] == nums[second-1]:\n",
    "                continue\n",
    "            while second < third and nums[second] + nums[third] + nums[first] >0:\n",
    "                third -=1\n",
    "            if second == third:\n",
    "                break\n",
    "            if nums[first]+nums[second]+nums[third] == 0:\n",
    "                result.append([nums[first],nums[second],nums[third]])\n",
    "    return result"
   ]
  },
  {
   "cell_type": "code",
   "execution_count": 30,
   "metadata": {},
   "outputs": [
    {
     "data": {
      "text/plain": [
       "[[-1, -1, 2], [-1, 0, 1]]"
      ]
     },
     "execution_count": 30,
     "metadata": {},
     "output_type": "execute_result"
    }
   ],
   "source": [
    "nums = [-1,0,1,2,-1,-4]\n",
    "threeSum(nums)"
   ]
  },
  {
   "cell_type": "code",
   "execution_count": 32,
   "metadata": {},
   "outputs": [
    {
     "data": {
      "text/plain": [
       "[[0, 0, 0]]"
      ]
     },
     "execution_count": 32,
     "metadata": {},
     "output_type": "execute_result"
    }
   ],
   "source": [
    "nums=[0,0,0,0,0]\n",
    "threeSum(nums)\n"
   ]
  },
  {
   "cell_type": "code",
   "execution_count": null,
   "metadata": {},
   "outputs": [],
   "source": []
  }
 ],
 "metadata": {
  "interpreter": {
   "hash": "aee8b7b246df8f9039afb4144a1f6fd8d2ca17a180786b69acc140d282b71a49"
  },
  "kernelspec": {
   "display_name": "Python 3.9.6 64-bit",
   "language": "python",
   "name": "python3"
  },
  "language_info": {
   "codemirror_mode": {
    "name": "ipython",
    "version": 3
   },
   "file_extension": ".py",
   "mimetype": "text/x-python",
   "name": "python",
   "nbconvert_exporter": "python",
   "pygments_lexer": "ipython3",
   "version": "3.9.6"
  },
  "orig_nbformat": 4
 },
 "nbformat": 4,
 "nbformat_minor": 2
}
