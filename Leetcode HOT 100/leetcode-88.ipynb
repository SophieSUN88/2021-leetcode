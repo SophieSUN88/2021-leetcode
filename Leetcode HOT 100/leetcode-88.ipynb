{
 "cells": [
  {
   "cell_type": "markdown",
   "metadata": {},
   "source": [
    "## Merge Sorted Array (easy)\n",
    "\n",
    "You are given two integer arrays nums1 and nums2, sorted in non-decreasing order, and two integers m and n, representing the number of elements in nums1 and nums2 respectively.\n",
    "\n",
    "Merge nums1 and nums2 into a single array sorted in non-decreasing order.\n",
    "\n",
    "The final sorted array should not be returned by the function, but instead be stored inside the array nums1. To accommodate this, nums1 has a length of m + n, where the first m elements denote the elements that should be merged, and the last n elements are set to 0 and should be ignored. nums2 has a length of n.\n",
    "\n",
    "- Example 1:\n",
    "\n",
    "Input: nums1 = [1,2,3,0,0,0], m = 3, nums2 = [2,5,6], n = 3\n",
    "Output: [1,2,2,3,5,6]\n",
    "Explanation: The arrays we are merging are [1,2,3] and [2,5,6].\n",
    "The result of the merge is [1,2,2,3,5,6] with the underlined elements coming from nums1.\n",
    "- Example 2:\n",
    "\n",
    "Input: nums1 = [1], m = 1, nums2 = [], n = 0\n",
    "Output: [1]\n",
    "Explanation: The arrays we are merging are [1] and [].\n",
    "The result of the merge is [1]."
   ]
  },
  {
   "cell_type": "markdown",
   "metadata": {},
   "source": [
    "### Solution 2\n",
    "1. replace \n",
    "2. sort()\n",
    "\n",
    "- time complexity: O((m+n)log(m+n))\n",
    "- space complexity: O(m+n)"
   ]
  },
  {
   "cell_type": "code",
   "execution_count": 1,
   "metadata": {},
   "outputs": [],
   "source": [
    "def merge1(nums1,m,nums2,n):\n",
    "    nums1[m:]=nums2\n",
    "    nums1.sort()"
   ]
  },
  {
   "cell_type": "code",
   "execution_count": 2,
   "metadata": {},
   "outputs": [
    {
     "data": {
      "text/plain": [
       "[1, 2, 2, 3, 5, 6]"
      ]
     },
     "execution_count": 2,
     "metadata": {},
     "output_type": "execute_result"
    }
   ],
   "source": [
    "nums1 = [1,2,3,0,0,0]\n",
    "m = 3\n",
    "nums2 = [2,5,6]\n",
    "n = 3\n",
    "merge1(nums1,m,nums2,n)\n",
    "nums1"
   ]
  },
  {
   "cell_type": "markdown",
   "metadata": {},
   "source": [
    "### solution 2 :2 pointers\n",
    "- time complexity: O(m+n)\n",
    "- space complexity: O(m+n)"
   ]
  },
  {
   "cell_type": "code",
   "execution_count": 3,
   "metadata": {},
   "outputs": [],
   "source": [
    "def merge2(nums1,m,nums2,n):\n",
    "    sorted = []\n",
    "    p1, p2 = 0, 0\n",
    "    while p1 < m or p2 < n:\n",
    "        if p1 == m:\n",
    "            sorted[p1+p2:]=nums2[p2:n]\n",
    "            p2 = n\n",
    "        elif p2 == n:\n",
    "            sorted[p1+p2:]=nums1[p1:m]\n",
    "            p1 = m\n",
    "        elif nums1[p1] < nums2[p2]:\n",
    "            sorted.append(nums1[p1])\n",
    "            p1 += 1\n",
    "        else:\n",
    "            sorted.append(nums2[p2])\n",
    "            p2 += 1\n",
    "    nums1[:] = sorted\n"
   ]
  },
  {
   "cell_type": "code",
   "execution_count": 4,
   "metadata": {},
   "outputs": [
    {
     "data": {
      "text/plain": [
       "[1, 2, 2, 3, 5, 6]"
      ]
     },
     "execution_count": 4,
     "metadata": {},
     "output_type": "execute_result"
    }
   ],
   "source": [
    "nums1 = [1,2,3,0,0,0]\n",
    "m = 3\n",
    "nums2 = [2,5,6]\n",
    "n = 3\n",
    "merge2(nums1,m,nums2,n)\n",
    "nums1"
   ]
  },
  {
   "cell_type": "markdown",
   "metadata": {},
   "source": [
    "### Solution 3: 2 reverse pointers\n",
    "- pros: don't creat another list to store the result\n",
    "\n",
    "- time complexity: O(m+n), the worst case the pointers will move m+n times.\n",
    "- space complexity: O(1)"
   ]
  },
  {
   "cell_type": "code",
   "execution_count": 5,
   "metadata": {},
   "outputs": [],
   "source": [
    "def merge3(nums1,m,nums2,n):\n",
    "    p1, p2 = m - 1, n - 1\n",
    "    tail = m + n - 1\n",
    "    while p1 >= 0 or p2 >= 0:\n",
    "        if p1 == -1:\n",
    "            nums1[:tail] = nums2[:p2]\n",
    "            p2 = -1\n",
    "        elif p2 == -1:\n",
    "            nums1[:tail] = nums1[:p1]\n",
    "            p1 = -1\n",
    "        elif nums1[p1] > nums2[p2]:\n",
    "            nums1[tail] = nums1[p1]\n",
    "            p1 -= 1\n",
    "        else:\n",
    "            nums1[tail] = nums2[p2]                \n",
    "            p2 -= 1\n",
    "        tail -= 1"
   ]
  },
  {
   "cell_type": "code",
   "execution_count": 6,
   "metadata": {},
   "outputs": [
    {
     "data": {
      "text/plain": [
       "[1, 2, 2, 3, 5, 6]"
      ]
     },
     "execution_count": 6,
     "metadata": {},
     "output_type": "execute_result"
    }
   ],
   "source": [
    "nums1 = [1,2,3,0,0,0]\n",
    "m = 3\n",
    "nums2 = [2,5,6]\n",
    "n = 3\n",
    "merge3(nums1,m,nums2,n)\n",
    "nums1"
   ]
  },
  {
   "cell_type": "markdown",
   "metadata": {},
   "source": [
    "2022.3.23"
   ]
  }
 ],
 "metadata": {
  "interpreter": {
   "hash": "aee8b7b246df8f9039afb4144a1f6fd8d2ca17a180786b69acc140d282b71a49"
  },
  "kernelspec": {
   "display_name": "Python 3.9.6 64-bit",
   "language": "python",
   "name": "python3"
  },
  "language_info": {
   "codemirror_mode": {
    "name": "ipython",
    "version": 3
   },
   "file_extension": ".py",
   "mimetype": "text/x-python",
   "name": "python",
   "nbconvert_exporter": "python",
   "pygments_lexer": "ipython3",
   "version": "3.9.6"
  },
  "orig_nbformat": 4
 },
 "nbformat": 4,
 "nbformat_minor": 2
}
