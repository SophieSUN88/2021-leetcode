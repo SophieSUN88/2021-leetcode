{
 "cells": [
  {
   "cell_type": "markdown",
   "metadata": {},
   "source": [
    "### 55. Jump Game\n",
    "Medium\n",
    "\n",
    "You are given an integer array nums. You are initially positioned at the array's first index, and each element in the array represents your maximum jump length at that position.\n",
    "\n",
    "Return true if you can reach the last index, or false otherwise.\n",
    "\n",
    "Example 1:\n",
    "\n",
    "Input: nums = [2,3,1,1,4]\n",
    "Output: true\n",
    "Explanation: Jump 1 step from index 0 to 1, then 3 steps to the last index.\n",
    "\n",
    "Example 2:\n",
    "\n",
    "Input: nums = [3,2,1,0,4]\n",
    "Output: false\n",
    "Explanation: You will always arrive at index 3 no matter what. Its maximum jump length is 0, which makes it impossible to reach the last index.\n",
    " \n",
    "\n",
    "Constraints:\n",
    "\n",
    "1 <= nums.length <= 104\n",
    "0 <= nums[i] <= 105"
   ]
  },
  {
   "cell_type": "code",
   "execution_count": 1,
   "metadata": {},
   "outputs": [
    {
     "data": {
      "text/plain": [
       "True"
      ]
     },
     "execution_count": 1,
     "metadata": {},
     "output_type": "execute_result"
    }
   ],
   "source": [
    "# recursive\n",
    "class Solution:\n",
    "    def canJump(self, nums: list[int]) -> bool:\n",
    "        n = len(nums)\n",
    "        memo = [False] * n\n",
    "        def canJumpTry(nums,start):\n",
    "            if start == n-1 :\n",
    "                return True\n",
    "            if 0< n - start <= nums[start]:\n",
    "                return True\n",
    "            else:\n",
    "                for i in range(1,nums[start] + 1):\n",
    "                    result = canJumpTry(nums,start + i)\n",
    "                    if result:\n",
    "                        memo[start+i] = True\n",
    "                        return True\n",
    "            \n",
    "            return False\n",
    "        memo[n-1] = True\n",
    "        return canJumpTry(nums,0)\n",
    "example = Solution()\n",
    "example.canJump(nums = [2,3,1,1,4])"
   ]
  },
  {
   "cell_type": "markdown",
   "metadata": {},
   "source": [
    "- Time complexity: O($2^n$)\n",
    "- Space complexity: O(n)"
   ]
  },
  {
   "cell_type": "code",
   "execution_count": 2,
   "metadata": {},
   "outputs": [
    {
     "name": "stdout",
     "output_type": "stream",
     "text": [
      "[None, None, None, None, None]\n"
     ]
    }
   ],
   "source": [
    "# Dynamic Programming Top-Down\n",
    "from tkinter import N\n",
    "\n",
    "\n",
    "class Solution():\n",
    "    def canJump(self, nums: list[int]) -> bool:\n",
    "        n = len(nums)\n",
    "        global memo\n",
    "        memo = [None] * n \n",
    "        # print(memo)\n",
    "\n",
    "    def canJumpTry(self,nums:list[int],position:int):\n",
    "        global memo\n",
    "        if memo[position] is not None:\n",
    "            return memo[position]\n",
    "        else:\n",
    "            for i in range(1,nums[position] + 1):\n",
    "                result = self.canJumpTry(nums,position + i)\n",
    "                if result:\n",
    "                    memo[position+i] = True\n",
    "                    return True\n",
    "            return False\n",
    "\n",
    "    \n",
    "example = Solution()\n",
    "example.canJump(nums = [2,3,1,1,4])"
   ]
  },
  {
   "cell_type": "code",
   "execution_count": null,
   "metadata": {},
   "outputs": [],
   "source": []
  }
 ],
 "metadata": {
  "kernelspec": {
   "display_name": "Python 3.9.6 64-bit",
   "language": "python",
   "name": "python3"
  },
  "language_info": {
   "codemirror_mode": {
    "name": "ipython",
    "version": 3
   },
   "file_extension": ".py",
   "mimetype": "text/x-python",
   "name": "python",
   "nbconvert_exporter": "python",
   "pygments_lexer": "ipython3",
   "version": "3.9.6"
  },
  "orig_nbformat": 4,
  "vscode": {
   "interpreter": {
    "hash": "aee8b7b246df8f9039afb4144a1f6fd8d2ca17a180786b69acc140d282b71a49"
   }
  }
 },
 "nbformat": 4,
 "nbformat_minor": 2
}
