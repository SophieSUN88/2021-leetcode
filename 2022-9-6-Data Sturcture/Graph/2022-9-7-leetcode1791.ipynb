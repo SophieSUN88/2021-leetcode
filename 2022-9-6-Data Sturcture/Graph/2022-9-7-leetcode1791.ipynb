{
 "cells": [
  {
   "cell_type": "markdown",
   "metadata": {},
   "source": [
    "### 1791. Find Center of Star Graph\n",
    "Easy\n",
    "\n",
    "There is an undirected star graph consisting of n nodes labeled from 1 to n. A star graph is a graph where there is one center node and exactly n - 1 edges that connect the center node with every other node.\n",
    "\n",
    "You are given a 2D integer array edges where each edges[i] = [ui, vi] indicates that there is an edge between the nodes ui and vi. Return the center of the given star graph.\n",
    "\n",
    "Example 1:\n",
    "Input: edges = [[1,2],[2,3],[4,2]]\n",
    "Output: 2\n",
    "Explanation: As shown in the figure above, node 2 is connected to every other node, so 2 is the center.\n",
    "\n",
    "Example 2:\n",
    "Input: edges = [[1,2],[5,1],[1,3],[1,4]]\n",
    "Output: 1\n",
    " \n",
    "Constraints:\n",
    "\n",
    "3 <= n <= 105\n",
    "edges.length == n - 1\n",
    "edges[i].length == 2\n",
    "1 <= ui, vi <= n\n",
    "ui != vi"
   ]
  },
  {
   "cell_type": "code",
   "execution_count": 8,
   "metadata": {},
   "outputs": [
    {
     "name": "stdout",
     "output_type": "stream",
     "text": [
      "2\n",
      "1\n"
     ]
    }
   ],
   "source": [
    "class Solution:\n",
    "    def findCenter(self, edges: list[list[int]]) -> int:\n",
    "        edge_dict = {}\n",
    "        for node1, node2 in edges:\n",
    "            if node1 not in edge_dict:\n",
    "                edge_dict[node1] = [node2]\n",
    "            else:\n",
    "                edge_dict[node1].append(node2)\n",
    "            \n",
    "            if node2 not in edge_dict:\n",
    "                edge_dict[node2] = [node1]\n",
    "            else:\n",
    "                edge_dict[node2].append(node1)\n",
    "        n = len(edge_dict)\n",
    "        for node, nei in edge_dict.items():\n",
    "            if len(nei) == n-1:\n",
    "                return node\n",
    "\n",
    "        return -1\n",
    "\n",
    "example = Solution()\n",
    "print(example.findCenter(edges=[[1,2],[2,3],[4,2]]))\n",
    "print(example.findCenter(edges=[[1,2],[5,1],[1,3],[1,4]]))\n",
    "\n",
    "            \n",
    "            "
   ]
  },
  {
   "cell_type": "markdown",
   "metadata": {},
   "source": [
    "- Time complexity: O(n) \n",
    "- Space complexity: O(n)\n",
    "- Runtime: 1997 ms, faster than 5.02% of Python3 online submissions for Find Center of Star Graph.\n",
    "- Memory Usage: 50.7 MB, less than 11.23% of Python3 online submissions for Find Center of Star Graph."
   ]
  },
  {
   "cell_type": "code",
   "execution_count": 9,
   "metadata": {},
   "outputs": [
    {
     "name": "stdout",
     "output_type": "stream",
     "text": [
      "2\n",
      "1\n"
     ]
    }
   ],
   "source": [
    "class Solution:\n",
    "    def findCenter(self, edges: list[list[int]]) -> int:\n",
    "      Dict={}\n",
    "      for edge in edges:\n",
    "         for i in edge:\n",
    "               if i in Dict:\n",
    "                  Dict[i]+=1\n",
    "               else:\n",
    "                  Dict[i]=1\n",
    "      return max(Dict,key= lambda x:Dict[x])\n",
    "\n",
    "example = Solution()\n",
    "print(example.findCenter(edges=[[1,2],[2,3],[4,2]]))\n",
    "print(example.findCenter(edges=[[1,2],[5,1],[1,3],[1,4]]))"
   ]
  },
  {
   "cell_type": "code",
   "execution_count": 11,
   "metadata": {},
   "outputs": [
    {
     "name": "stdout",
     "output_type": "stream",
     "text": [
      "2\n",
      "1\n"
     ]
    }
   ],
   "source": [
    "class Solution:\n",
    "    def findCenter(self, edges: list[list[int]]) -> int:\n",
    "        if edges[0][0] == edges[1][0] or edges[0][0] == edges[1][1]:\n",
    "            return edges[0][0]\n",
    "        else:\n",
    "            return edges[0][1]\n",
    "\n",
    "\n",
    "example = Solution()\n",
    "print(example.findCenter(edges=[[1,2],[2,3],[4,2]]))\n",
    "print(example.findCenter(edges=[[1,2],[5,1],[1,3],[1,4]]))"
   ]
  },
  {
   "cell_type": "markdown",
   "metadata": {},
   "source": [
    "- Time complexity: O(1)\n",
    "- Space complexity: O(1)\n",
    "- Runtime: 1461 ms, faster than 29.46% of Python3 online submissions for Find Center of Star Graph.\n",
    "- Memory Usage: 50 MB, less than 41.38% of Python3 online submissions for Find Center of Star Graph."
   ]
  }
 ],
 "metadata": {
  "kernelspec": {
   "display_name": "Python 3.9.6 64-bit",
   "language": "python",
   "name": "python3"
  },
  "language_info": {
   "codemirror_mode": {
    "name": "ipython",
    "version": 3
   },
   "file_extension": ".py",
   "mimetype": "text/x-python",
   "name": "python",
   "nbconvert_exporter": "python",
   "pygments_lexer": "ipython3",
   "version": "3.9.6"
  },
  "orig_nbformat": 4,
  "vscode": {
   "interpreter": {
    "hash": "aee8b7b246df8f9039afb4144a1f6fd8d2ca17a180786b69acc140d282b71a49"
   }
  }
 },
 "nbformat": 4,
 "nbformat_minor": 2
}
