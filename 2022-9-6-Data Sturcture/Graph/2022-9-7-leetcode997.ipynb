{
 "cells": [
  {
   "cell_type": "code",
   "execution_count": 15,
   "metadata": {},
   "outputs": [
    {
     "name": "stdout",
     "output_type": "stream",
     "text": [
      "2\n",
      "3\n",
      "-1\n"
     ]
    }
   ],
   "source": [
    "class Solution:\n",
    "    def findJudge(self, n: int, trust: list[list[int]]) -> int:\n",
    "        if n ==1 :\n",
    "            return 1\n",
    "        trust_dict = {}\n",
    "        for node1, node2 in trust:\n",
    "            if node1 not in trust_dict:\n",
    "                trust_dict[node1] = {'from':1,'to':0}\n",
    "            else:\n",
    "                trust_dict[node1]['from'] += 1\n",
    "            if node2 not in trust_dict:\n",
    "                trust_dict[node2] = {'from':0,'to':1}\n",
    "            else:\n",
    "                trust_dict[node2]['to'] +=1\n",
    "        # print(trust_dict)\n",
    "        for index, value in trust_dict.items():\n",
    "            if value['from'] == 0 and value['to'] == n-1:\n",
    "                return index\n",
    "\n",
    "        return -1\n",
    "example = Solution() \n",
    "print(example.findJudge(n=2,trust=[[1,2]]))\n",
    "print(example.findJudge(n = 3, trust = [[1,3],[2,3]]))\n",
    "print(example.findJudge(n = 3, trust = [[1,3],[2,3],[3,1]]))"
   ]
  },
  {
   "cell_type": "markdown",
   "metadata": {},
   "source": [
    "- Time complexity: O(E) E is the trust number\n",
    "- Space complexity:O(N) N is the item nember\n",
    "- Runtime: 1374 ms, faster than 25.83% of Python3 online submissions for Find the Town Judge.\n",
    "- Memory Usage: 18.9 MB, less than 63.84% of Python3 online submissions for Find the Town Judge."
   ]
  },
  {
   "cell_type": "code",
   "execution_count": 17,
   "metadata": {},
   "outputs": [
    {
     "name": "stdout",
     "output_type": "stream",
     "text": [
      "2\n",
      "3\n",
      "-1\n"
     ]
    }
   ],
   "source": [
    "class Solution:\n",
    "    def findJudge(self, N: int, trust: list[list[int]]) -> int:\n",
    "        \n",
    "        if len(trust) < N - 1:\n",
    "            return -1\n",
    "        \n",
    "        indegree = [0] * (N + 1)\n",
    "        outdegree = [0] * (N + 1)\n",
    "        \n",
    "        for a, b in trust:\n",
    "            outdegree[a] += 1\n",
    "            indegree[b] += 1\n",
    "            \n",
    "        for i in range(1, N + 1):\n",
    "            if indegree[i] == N - 1 and outdegree[i] == 0:\n",
    "                return i\n",
    "        return -1\n",
    "example = Solution() \n",
    "print(example.findJudge(N=2,trust=[[1,2]]))\n",
    "print(example.findJudge(N = 3, trust = [[1,3],[2,3]]))\n",
    "print(example.findJudge(N = 3, trust = [[1,3],[2,3],[3,1]]))"
   ]
  },
  {
   "cell_type": "markdown",
   "metadata": {},
   "source": [
    "- Runtime: 1253 ms, faster than 40.81% of Python3 online submissions for Find the Town Judge.\n",
    "- Memory Usage: 18.8 MB, less than 91.74% of Python3 online submissions for Find the Town Judge."
   ]
  },
  {
   "cell_type": "code",
   "execution_count": 18,
   "metadata": {},
   "outputs": [
    {
     "name": "stdout",
     "output_type": "stream",
     "text": [
      "2\n",
      "3\n",
      "-1\n"
     ]
    }
   ],
   "source": [
    "class Solution:\n",
    "    def findJudge(self, N: int, trust: list[list[int]]) -> int:\n",
    "\n",
    "        if len(trust) < N - 1:\n",
    "            return -1\n",
    "\n",
    "        trust_scores = [0] * (N + 1)\n",
    "\n",
    "        for a, b in trust:\n",
    "            trust_scores[a] -= 1\n",
    "            trust_scores[b] += 1\n",
    "        \n",
    "        for i, score in enumerate(trust_scores[1:], 1):\n",
    "            if score == N - 1:\n",
    "                return i\n",
    "        return -1\n",
    "example = Solution() \n",
    "print(example.findJudge(N=2,trust=[[1,2]]))\n",
    "print(example.findJudge(N = 3, trust = [[1,3],[2,3]]))\n",
    "print(example.findJudge(N = 3, trust = [[1,3],[2,3],[3,1]]))"
   ]
  },
  {
   "cell_type": "code",
   "execution_count": null,
   "metadata": {},
   "outputs": [],
   "source": []
  }
 ],
 "metadata": {
  "kernelspec": {
   "display_name": "Python 3.9.6 64-bit",
   "language": "python",
   "name": "python3"
  },
  "language_info": {
   "codemirror_mode": {
    "name": "ipython",
    "version": 3
   },
   "file_extension": ".py",
   "mimetype": "text/x-python",
   "name": "python",
   "nbconvert_exporter": "python",
   "pygments_lexer": "ipython3",
   "version": "3.9.6"
  },
  "orig_nbformat": 4,
  "vscode": {
   "interpreter": {
    "hash": "aee8b7b246df8f9039afb4144a1f6fd8d2ca17a180786b69acc140d282b71a49"
   }
  }
 },
 "nbformat": 4,
 "nbformat_minor": 2
}
