{
 "cells": [
  {
   "cell_type": "markdown",
   "metadata": {},
   "source": [
    "### 1971. Find if Path Exists in Graph\n",
    "Easy\n",
    "\n",
    "There is a bi-directional graph with n vertices, where each vertex is labeled from 0 to n - 1 (inclusive). The edges in the graph are represented as a 2D integer array edges, where each edges[i] = [ui, vi] denotes a bi-directional edge between vertex ui and vertex vi. Every vertex pair is connected by at most one edge, and no vertex has an edge to itself.\n",
    "\n",
    "You want to determine if there is a valid path that exists from vertex source to vertex destination.\n",
    "\n",
    "Given edges and the integers n, source, and destination, return true if there is a valid path from source to destination, or false otherwise.\n",
    "\n",
    " \n",
    "\n",
    "Example 1:\n",
    "\n",
    "\n",
    "Input: n = 3, edges = [[0,1],[1,2],[2,0]], source = 0, destination = 2\n",
    "Output: true\n",
    "Explanation: There are two paths from vertex 0 to vertex 2:\n",
    "- 0 → 1 → 2\n",
    "- 0 → 2\n",
    "\n",
    "Example 2:\n",
    "\n",
    "\n",
    "Input: n = 6, edges = [[0,1],[0,2],[3,5],[5,4],[4,3]], source = 0, destination = 5\n",
    "Output: false\n",
    "Explanation: There is no path from vertex 0 to vertex 5.\n",
    " \n",
    "\n",
    "Constraints:\n",
    "\n",
    "1 <= n <= 2 * 105\n",
    "0 <= edges.length <= 2 * 105\n",
    "edges[i].length == 2\n",
    "0 <= ui, vi <= n - 1\n",
    "ui != vi\n",
    "0 <= source, destination <= n - 1\n",
    "There are no duplicate edges.\n",
    "There are no self edges."
   ]
  },
  {
   "cell_type": "code",
   "execution_count": 2,
   "metadata": {},
   "outputs": [
    {
     "name": "stdout",
     "output_type": "stream",
     "text": [
      "deque([0])\n",
      "deque([1])\n",
      "deque([1, 2])\n"
     ]
    },
    {
     "data": {
      "text/plain": [
       "True"
      ]
     },
     "execution_count": 2,
     "metadata": {},
     "output_type": "execute_result"
    }
   ],
   "source": [
    "# BFS\n",
    "from collections import defaultdict, deque\n",
    "class Solution:\n",
    "    def validPath(self, n: int, edges: list[list[int]], source: int, destination: int) -> bool:\n",
    "        # convert edges to adjacency list\n",
    "        adj = defaultdict(list)\n",
    "        visited= set()\n",
    "\n",
    "        for edge in edges:\n",
    "            adj[edge[0]].append(edge[1])\n",
    "            adj[edge[1]].append(edge[0])\n",
    "        \n",
    "        def bfs(vertice):\n",
    "            queue = deque([vertice])\n",
    "            print(queue)\n",
    "            visited.add(vertice)\n",
    "\n",
    "            while queue:\n",
    "                node = queue.popleft()\n",
    "                if node == destination:\n",
    "                    return True\n",
    "                \n",
    "                for nei in adj.get(node,[]):\n",
    "                    if nei not in visited:\n",
    "                        visited.add(nei)\n",
    "                        queue.append(nei)\n",
    "                        print(queue)\n",
    "\n",
    "            return False\n",
    "\n",
    "        return bfs(source)\n",
    "n = 3\n",
    "edges = [[0,1],[1,2],[2,0]]\n",
    "source = 0\n",
    "destination = 2\n",
    "example = Solution()\n",
    "example.validPath(n, edges, source, destination)\n",
    "\n"
   ]
  },
  {
   "cell_type": "markdown",
   "metadata": {},
   "source": [
    "- Time complexity:O(1), N is the number of nodes in graph\n",
    "- Space complexity:O(N)\n",
    "- Runtime: 2080 ms, faster than 88.30% of Python3 online submissions for Find if Path Exists in Graph.\n",
    "- Memory Usage: 106.8 MB, less than 36.12% of Python3 online submissions for Find if Path Exists in Graph."
   ]
  },
  {
   "cell_type": "code",
   "execution_count": 4,
   "metadata": {},
   "outputs": [
    {
     "data": {
      "text/plain": [
       "False"
      ]
     },
     "execution_count": 4,
     "metadata": {},
     "output_type": "execute_result"
    }
   ],
   "source": [
    "# DFS\n",
    "from collections import defaultdict, deque\n",
    "class Solution:\n",
    "    def validPath(self, n: int, edges: list[list[int]], source: int, destination: int) -> bool:\n",
    "        adj = defaultdict(list)\n",
    "        visited= set()\n",
    "\n",
    "        for edge in edges:\n",
    "            adj[edge[0]].append(edge[1])\n",
    "            adj[edge[1]].append(edge[0])\n",
    "        \n",
    "        def dfs(vertice):\n",
    "            visited.add(vertice)\n",
    "\n",
    "            if vertice == destination:\n",
    "                return True\n",
    "            for nei in adj.get(vertice,[]):\n",
    "                if nei not in visited:\n",
    "                    visited.add(vertice)\n",
    "                    if dfs(nei):\n",
    "                        return True\n",
    "            return False\n",
    "        \n",
    "        return dfs(source)\n",
    "n = 6\n",
    "edges = [[0,1],[0,2],[3,5],[5,4],[4,3]]\n",
    "source = 0\n",
    "destination = 5\n",
    "example = Solution()\n",
    "example.validPath(n, edges, source, destination)"
   ]
  },
  {
   "cell_type": "markdown",
   "metadata": {},
   "source": [
    "- Time complexity:O(1), N is the number of nodes in graph\n",
    "- Space complexity:O(N)\n",
    "- Runtime: 2306 ms, faster than 81.99% of Python3 online submissions for Find if Path Exists in Graph.\n",
    "- Memory Usage: 309.2 MB, less than 14.04% of Python3 online submissions for Find if Path Exists in Graph."
   ]
  },
  {
   "cell_type": "code",
   "execution_count": 5,
   "metadata": {},
   "outputs": [
    {
     "data": {
      "text/plain": [
       "False"
      ]
     },
     "execution_count": 5,
     "metadata": {},
     "output_type": "execute_result"
    }
   ],
   "source": [
    "# DFS recursive\n",
    "class Solution(object):\n",
    "    def validPath(self, n, edges, source, destination):\n",
    "        \n",
    "        def search_path(adj_list, src, dest, visited=set()):\n",
    "            # base cases\n",
    "            if src in visited:\n",
    "\t\t\n",
    "                return False\n",
    "            if src == dest:\n",
    "                return True\n",
    "            # update visited\n",
    "            visited.add(src)\n",
    "            # pass down adj node\n",
    "            for adj_node in adj_list[src]:\n",
    "                res = search_path(adj_list, adj_node, dest, visited)\n",
    "                if res:\n",
    "                    return True\n",
    "            return False\n",
    "            \n",
    "        adj = defaultdict(list)\n",
    "        for edge in edges:\n",
    "            adj[edge[0]].append(edge[1])\n",
    "            adj[edge[1]].append(edge[0])\n",
    "        return search_path(adj, source, destination, set()) \n",
    "n = 6\n",
    "edges = [[0,1],[0,2],[3,5],[5,4],[4,3]]\n",
    "source = 0\n",
    "destination = 5\n",
    "example = Solution()\n",
    "example.validPath(n, edges, source, destination)"
   ]
  },
  {
   "cell_type": "markdown",
   "metadata": {},
   "source": [
    "- Time complexity:O(N), N is the number of nodes in graph\n",
    "- Space complexity:O(N)\n",
    "- Runtime: 4503 ms, faster than 5.03% of Python3 online submissions for Find if Path Exists in Graph.\n",
    "- Memory Usage: 313 MB, less than 9.12% of Python3 online submissions for Find if Path Exists in Graph."
   ]
  },
  {
   "cell_type": "markdown",
   "metadata": {},
   "source": []
  }
 ],
 "metadata": {
  "kernelspec": {
   "display_name": "Python 3.9.6 64-bit",
   "language": "python",
   "name": "python3"
  },
  "language_info": {
   "codemirror_mode": {
    "name": "ipython",
    "version": 3
   },
   "file_extension": ".py",
   "mimetype": "text/x-python",
   "name": "python",
   "nbconvert_exporter": "python",
   "pygments_lexer": "ipython3",
   "version": "3.9.6"
  },
  "orig_nbformat": 4,
  "vscode": {
   "interpreter": {
    "hash": "aee8b7b246df8f9039afb4144a1f6fd8d2ca17a180786b69acc140d282b71a49"
   }
  }
 },
 "nbformat": 4,
 "nbformat_minor": 2
}
