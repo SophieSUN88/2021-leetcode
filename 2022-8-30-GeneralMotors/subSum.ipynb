{
 "cells": [
  {
   "cell_type": "markdown",
   "metadata": {},
   "source": [
    "### subSum\n",
    "Add number from 1 to n, except the number can be divided by 5 and 7.\n",
    "\n",
    "Example:\n",
    "- input: n = 50\n",
    "- output: 839\n"
   ]
  },
  {
   "cell_type": "code",
   "execution_count": 10,
   "metadata": {},
   "outputs": [
    {
     "data": {
      "text/plain": [
       "839"
      ]
     },
     "execution_count": 10,
     "metadata": {},
     "output_type": "execute_result"
    }
   ],
   "source": [
    "class Solution():\n",
    "    def subSum(self, n: int) -> int :\n",
    "        def total(k):\n",
    "            # print(k)\n",
    "            # print(int(k * (k+1) / 2))\n",
    "            return int(k * (k+1) / 2)\n",
    "        return total(n) - 5 * total(n//5) - 7 * total(n//7) + 35 * total(n//35)\n",
    "\n",
    "\n",
    "example = Solution()\n",
    "example.subSum(n=50)\n"
   ]
  },
  {
   "cell_type": "code",
   "execution_count": null,
   "metadata": {},
   "outputs": [],
   "source": []
  }
 ],
 "metadata": {
  "kernelspec": {
   "display_name": "Python 3.9.6 64-bit",
   "language": "python",
   "name": "python3"
  },
  "language_info": {
   "codemirror_mode": {
    "name": "ipython",
    "version": 3
   },
   "file_extension": ".py",
   "mimetype": "text/x-python",
   "name": "python",
   "nbconvert_exporter": "python",
   "pygments_lexer": "ipython3",
   "version": "3.9.6"
  },
  "orig_nbformat": 4,
  "vscode": {
   "interpreter": {
    "hash": "aee8b7b246df8f9039afb4144a1f6fd8d2ca17a180786b69acc140d282b71a49"
   }
  }
 },
 "nbformat": 4,
 "nbformat_minor": 2
}
