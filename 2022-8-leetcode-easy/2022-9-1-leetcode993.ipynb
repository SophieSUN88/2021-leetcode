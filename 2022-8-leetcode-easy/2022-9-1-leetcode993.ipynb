{
 "cells": [
  {
   "cell_type": "markdown",
   "metadata": {},
   "source": [
    "### 993. Cousins in Binary Tree\n",
    "Easy\n",
    "\n",
    "Given the root of a binary tree with unique values and the values of two different nodes of the tree x and y, return true if the nodes corresponding to the values x and y in the tree are cousins, or false otherwise.\n",
    "\n",
    "Two nodes of a binary tree are cousins if they have the same depth with different parents.\n",
    "\n",
    "Note that in a binary tree, the root node is at the depth 0, and children of each depth k node are at the depth k + 1.\n",
    "\n",
    " \n",
    "\n",
    "Example 1:\n",
    "\n",
    "\n",
    "Input: root = [1,2,3,4], x = 4, y = 3\n",
    "Output: false\n",
    "\n",
    "Example 2:\n",
    "\n",
    "\n",
    "Input: root = [1,2,3,null,4,null,5], x = 5, y = 4\n",
    "Output: true\n",
    "\n",
    "Example 3:\n",
    "\n",
    "\n",
    "Input: root = [1,2,3,null,4], x = 2, y = 3\n",
    "Output: false\n",
    " \n",
    "\n",
    "Constraints:\n",
    "\n",
    "The number of nodes in the tree is in the range [2, 100].\n",
    "1 <= Node.val <= 100\n",
    "Each node has a unique value.\n",
    "x != y\n",
    "x and y are exist in the tree."
   ]
  },
  {
   "cell_type": "code",
   "execution_count": 6,
   "metadata": {},
   "outputs": [
    {
     "name": "stdout",
     "output_type": "stream",
     "text": [
      "left: False\n",
      "11111\n",
      "2222 None\n",
      "3333 2\n",
      "right: True\n",
      "left: None\n",
      "left: False\n",
      "11111\n",
      "right: True\n",
      "right: None\n"
     ]
    },
    {
     "data": {
      "text/plain": [
       "True"
      ]
     },
     "execution_count": 6,
     "metadata": {},
     "output_type": "execute_result"
    }
   ],
   "source": [
    "# Definition for a binary tree node.\n",
    "from turtle import Turtle\n",
    "\n",
    "\n",
    "class TreeNode:\n",
    "    def __init__(self, val=0, left=None, right=None):\n",
    "        self.val = val\n",
    "        self.left = left\n",
    "        self.right = right\n",
    "class Solution:\n",
    "    def __init__(self):\n",
    "        # to save the depth of the first node\n",
    "        self.recorded_depth = None\n",
    "        self.is_cousin = False\n",
    "    def dfs(self, node, depth, x, y):\n",
    "        if node is None:\n",
    "            return False\n",
    "        \n",
    "        if self.recorded_depth and depth > self.recorded_depth:\n",
    "            return False\n",
    "\n",
    "        if node.val == x or node.val == y:\n",
    "            print(11111)\n",
    "            if self.recorded_depth is None:\n",
    "                print(2222,self.recorded_depth)\n",
    "                self.recorded_depth = depth\n",
    "                print(3333,self.recorded_depth)\n",
    "            return self.recorded_depth == depth\n",
    "        \n",
    "        left = self.dfs(node.left, depth +1 , x, y)\n",
    "        print('left:',left)\n",
    "        right = self.dfs(node.right, depth +1, x, y)\n",
    "        print('right:',right)\n",
    "\n",
    "        # self.recorded_depth != depth +1 would ensure node x and y are not immediate child nodes,\n",
    "        #  otherwise they would become siblings\n",
    "        if left == right and self.recorded_depth != depth +1:\n",
    "            self.is_cousin = True\n",
    "\n",
    "    def isCousins(self, root: TreeNode, x: int, y: int) -> bool:\n",
    "        # recurse the tree to find x and y\n",
    "        self.dfs(root, 0, x, y)\n",
    "        return self.is_cousin\n",
    "\n",
    "root = TreeNode(1)\n",
    "root.left = TreeNode(2)\n",
    "root.right = TreeNode(3)\n",
    "root.left.right = TreeNode(4)\n",
    "root.right.right = TreeNode(5)\n",
    "example = Solution()\n",
    "example.isCousins(root,x=4,y=5)\n"
   ]
  },
  {
   "cell_type": "code",
   "execution_count": null,
   "metadata": {},
   "outputs": [],
   "source": []
  }
 ],
 "metadata": {
  "kernelspec": {
   "display_name": "Python 3.9.6 64-bit",
   "language": "python",
   "name": "python3"
  },
  "language_info": {
   "codemirror_mode": {
    "name": "ipython",
    "version": 3
   },
   "file_extension": ".py",
   "mimetype": "text/x-python",
   "name": "python",
   "nbconvert_exporter": "python",
   "pygments_lexer": "ipython3",
   "version": "3.9.6"
  },
  "orig_nbformat": 4,
  "vscode": {
   "interpreter": {
    "hash": "aee8b7b246df8f9039afb4144a1f6fd8d2ca17a180786b69acc140d282b71a49"
   }
  }
 },
 "nbformat": 4,
 "nbformat_minor": 2
}
