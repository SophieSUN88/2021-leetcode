{
 "cells": [
  {
   "cell_type": "markdown",
   "metadata": {},
   "source": [
    "### 696. Count Binary Substrings\n",
    "Easy\n",
    "\n",
    "Given a binary string s, return the number of non-empty substrings that have the same number of 0's and 1's, and all the 0's and all the 1's in these substrings are grouped consecutively.\n",
    "\n",
    "Substrings that occur multiple times are counted the number of times they occur.\n",
    "\n",
    " \n",
    "\n",
    "Example 1:\n",
    "\n",
    "Input: s = \"00110011\"\n",
    "Output: 6\n",
    "Explanation: There are 6 substrings that have equal number of consecutive 1's and 0's: \"0011\", \"01\", \"1100\", \"10\", \"0011\", and \"01\".\n",
    "Notice that some of these substrings repeat and are counted the number of times they occur.\n",
    "Also, \"00110011\" is not a valid substring because all the 0's (and 1's) are not grouped together.\n",
    "\n",
    "Example 2:\n",
    "\n",
    "Input: s = \"10101\"\n",
    "Output: 4\n",
    "Explanation: There are 4 substrings: \"10\", \"01\", \"10\", \"01\" that have equal number of consecutive 1's and 0's.\n",
    " \n",
    "\n",
    "Constraints:\n",
    "\n",
    "1 <= s.length <= 105\n",
    "s[i] is either '0' or '1'.\n"
   ]
  },
  {
   "cell_type": "code",
   "execution_count": 1,
   "metadata": {},
   "outputs": [
    {
     "data": {
      "text/plain": [
       "4"
      ]
     },
     "execution_count": 1,
     "metadata": {},
     "output_type": "execute_result"
    }
   ],
   "source": [
    "class Solution:\n",
    "    def countBinarySubstrings(self, s: str) -> int:\n",
    "        left = 0\n",
    "        right = 0\n",
    "        count = 0 \n",
    "        now_count = 0\n",
    "        pre_count = 0\n",
    "        while right < len(s) :\n",
    "            if s[right] == s[left]:\n",
    "                # print(111)\n",
    "                \n",
    "                now_count +=1\n",
    "                # print('now_count:',now_count)\n",
    "                right +=1\n",
    "            else:\n",
    "                count += min(pre_count, now_count)\n",
    "                pre_count = now_count\n",
    "                now_count = 0\n",
    "                left = right\n",
    "                # print('left:',left)\n",
    "            # print(pre_count)\n",
    "            # print(now_count)\n",
    "        count +=min(pre_count, now_count)\n",
    "        # print('count:',count)\n",
    "        return count\n",
    "\n",
    "example = Solution()\n",
    "example.countBinarySubstrings('10101')"
   ]
  },
  {
   "cell_type": "markdown",
   "metadata": {},
   "source": [
    "Time complexity: O(N)\n",
    "Space complexity: O(1)\n",
    "- Runtime: 510 ms, faster than 6.88% of Python3 online submissions for Count Binary Substrings.\n",
    "- Memory Usage: 14.5 MB, less than 83.02% of Python3 online submissions for Count Binary Substrings."
   ]
  },
  {
   "cell_type": "code",
   "execution_count": null,
   "metadata": {},
   "outputs": [],
   "source": []
  }
 ],
 "metadata": {
  "kernelspec": {
   "display_name": "Python 3.9.6 64-bit",
   "language": "python",
   "name": "python3"
  },
  "language_info": {
   "codemirror_mode": {
    "name": "ipython",
    "version": 3
   },
   "file_extension": ".py",
   "mimetype": "text/x-python",
   "name": "python",
   "nbconvert_exporter": "python",
   "pygments_lexer": "ipython3",
   "version": "3.9.6"
  },
  "orig_nbformat": 4,
  "vscode": {
   "interpreter": {
    "hash": "aee8b7b246df8f9039afb4144a1f6fd8d2ca17a180786b69acc140d282b71a49"
   }
  }
 },
 "nbformat": 4,
 "nbformat_minor": 2
}
