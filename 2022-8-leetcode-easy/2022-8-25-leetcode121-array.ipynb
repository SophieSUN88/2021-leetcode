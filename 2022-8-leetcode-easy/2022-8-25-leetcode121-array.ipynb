{
 "cells": [
  {
   "cell_type": "markdown",
   "metadata": {},
   "source": [
    "121. Best Time to Buy and Sell Stock\n",
    "Easy\n",
    "\n",
    "You are given an array prices where prices[i] is the price of a given stock on the ith day.\n",
    "\n",
    "You want to maximize your profit by choosing a single day to buy one stock and choosing a different day in the future to sell that stock.\n",
    "\n",
    "Return the maximum profit you can achieve from this transaction. If you cannot achieve any profit, return 0.\n",
    "\n",
    "\n",
    "Example 1:\n",
    "\n",
    "Input: prices = [7,1,5,3,6,4]\n",
    "Output: 5\n",
    "Explanation: Buy on day 2 (price = 1) and sell on day 5 (price = 6), profit = 6-1 = 5.\n",
    "Note that buying on day 2 and selling on day 1 is not allowed because you must buy before you sell.\n",
    "\n",
    "Example 2:\n",
    "\n",
    "Input: prices = [7,6,4,3,1]\n",
    "Output: 0\n",
    "Explanation: In this case, no transactions are done and the max profit = 0.\n",
    " \n",
    "\n",
    "Constraints:\n",
    "\n",
    "1 <= prices.length <= 105\n",
    "0 <= prices[i] <= 104\n"
   ]
  },
  {
   "cell_type": "code",
   "execution_count": 1,
   "metadata": {},
   "outputs": [
    {
     "data": {
      "text/plain": [
       "5"
      ]
     },
     "execution_count": 1,
     "metadata": {},
     "output_type": "execute_result"
    }
   ],
   "source": [
    "from typing import List\n",
    "class Solution:\n",
    "    def maxProfit(self, prices: List[int]) -> int:\n",
    "        # solution 1\n",
    "        # Time: O(N*N), Space: O(1)\n",
    "        profit = 0\n",
    "        for i in range(len(prices)-1):\n",
    "            diff = max(prices[i+1:]) - prices[i]\n",
    "            profit = max(diff, profit)\n",
    "        return profit\n",
    "prices = [7,1,5,3,6,4]\n",
    "example = Solution()\n",
    "example.maxProfit(prices)\n",
    "# Time Limit Exceeded"
   ]
  },
  {
   "cell_type": "code",
   "execution_count": 3,
   "metadata": {},
   "outputs": [
    {
     "data": {
      "text/plain": [
       "5"
      ]
     },
     "execution_count": 3,
     "metadata": {},
     "output_type": "execute_result"
    }
   ],
   "source": [
    "class Solution:\n",
    "    def maxProfit(self, prices: List[int]) -> int:\n",
    "        # solution 2\n",
    "        # Time: O(N), Space: O(1)\n",
    "\n",
    "        i = 1\n",
    "        low = prices[0]\n",
    "        high = prices[0]\n",
    "        diff = 0\n",
    "        while i < len(prices):\n",
    "            if prices[i] <= prices[i-1]:\n",
    "                low = min(low,prices[i])\n",
    "                high = prices[i]\n",
    "            else:\n",
    "                high = prices[i]\n",
    "            diff = max(high - low,diff)\n",
    "            i +=1\n",
    "        return diff\n",
    "prices = [7,1,5,3,6,4]\n",
    "example = Solution()\n",
    "example.maxProfit(prices)"
   ]
  },
  {
   "cell_type": "markdown",
   "metadata": {},
   "source": [
    "Success\n",
    "\n",
    "- Runtime: 1290 ms, faster than 76.17% of Python3 online submissions for Best Time to Buy and Sell Stock.\n",
    "- Memory Usage: 24.9 MB, less than 86.17% of Python3 online submissions for Best Time to Buy and Sell Stock.\n"
   ]
  },
  {
   "cell_type": "code",
   "execution_count": null,
   "metadata": {},
   "outputs": [],
   "source": []
  }
 ],
 "metadata": {
  "kernelspec": {
   "display_name": "Python 3.9.6 64-bit",
   "language": "python",
   "name": "python3"
  },
  "language_info": {
   "codemirror_mode": {
    "name": "ipython",
    "version": 3
   },
   "file_extension": ".py",
   "mimetype": "text/x-python",
   "name": "python",
   "nbconvert_exporter": "python",
   "pygments_lexer": "ipython3",
   "version": "3.9.6"
  },
  "orig_nbformat": 4,
  "vscode": {
   "interpreter": {
    "hash": "aee8b7b246df8f9039afb4144a1f6fd8d2ca17a180786b69acc140d282b71a49"
   }
  }
 },
 "nbformat": 4,
 "nbformat_minor": 2
}
