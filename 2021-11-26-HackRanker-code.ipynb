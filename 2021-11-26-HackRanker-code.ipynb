{
 "cells": [
  {
   "cell_type": "markdown",
   "id": "e753f63c",
   "metadata": {},
   "source": [
    "# HackRanker code problems"
   ]
  },
  {
   "cell_type": "markdown",
   "id": "cf6dd661",
   "metadata": {},
   "source": [
    "## 1 add\n",
    "Write a function that returns the sum of two numbers."
   ]
  },
  {
   "cell_type": "code",
   "execution_count": 6,
   "id": "0e0537bc",
   "metadata": {},
   "outputs": [
    {
     "data": {
      "text/plain": [
       "3"
      ]
     },
     "execution_count": 6,
     "metadata": {},
     "output_type": "execute_result"
    }
   ],
   "source": [
    "def solution(param1, param2):\n",
    "    return param1+param2\n",
    "solution(1,2)"
   ]
  },
  {
   "cell_type": "markdown",
   "id": "7c231b15",
   "metadata": {},
   "source": [
    "## 2 centuryFromYear\n",
    "Given a year, return the century it is in. The first century spans from the year 1 up to and including the year 100, the second - from the year 101 up to and including the year 200, etc.\n",
    "\n",
    "Example\n",
    "\n",
    "For year = 1905, the output should be\n",
    "solution(year) = 20;\n",
    "For year = 1700, the output should be\n",
    "solution(year) = 17.\n"
   ]
  },
  {
   "cell_type": "code",
   "execution_count": 5,
   "id": "f1d69cfa",
   "metadata": {},
   "outputs": [
    {
     "data": {
      "text/plain": [
       "20"
      ]
     },
     "execution_count": 5,
     "metadata": {},
     "output_type": "execute_result"
    }
   ],
   "source": [
    "def solution(year):\n",
    "    a = year // 100\n",
    "    b = year % 100\n",
    "    if b == 0:\n",
    "        return a\n",
    "    else:\n",
    "        return a+1\n",
    "solution(1905)"
   ]
  },
  {
   "cell_type": "markdown",
   "id": "be5d6214",
   "metadata": {},
   "source": [
    "## 3 checkPalindrome\n",
    "Given the string, check if it is a palindrome.\n",
    "\n",
    "Example\n",
    "\n",
    "For inputString = \"aabaa\", the output should be\n",
    "solution(inputString) = true;\n",
    "For inputString = \"abac\", the output should be\n",
    "solution(inputString) = false;\n",
    "For inputString = \"a\", the output should be\n",
    "solution(inputString) = true."
   ]
  },
  {
   "cell_type": "code",
   "execution_count": 7,
   "id": "b10bac59",
   "metadata": {},
   "outputs": [
    {
     "data": {
      "text/plain": [
       "False"
      ]
     },
     "execution_count": 7,
     "metadata": {},
     "output_type": "execute_result"
    }
   ],
   "source": [
    "def solution(inputString):\n",
    "    n=len(inputString)\n",
    "    a=inputString\n",
    "    if n %2 ==0:\n",
    "        k= n/2\n",
    "    else:\n",
    "        k=(n-1)/2\n",
    "    k=int(k)\n",
    "    for i in range(k):\n",
    "        if a[i] != a[n-1-i] :\n",
    "            return False\n",
    "    return True\n",
    "solution(\"abac\")"
   ]
  },
  {
   "cell_type": "markdown",
   "id": "efa4dc49",
   "metadata": {},
   "source": [
    "## adjacentElementsProduct\n",
    "Given an array of integers, find the pair of adjacent elements that has the largest product and return that product.\n",
    "\n",
    "Example\n",
    "\n",
    "For inputArray = [3, 6, -2, -5, 7, 3], the output should be\n",
    "solution(inputArray) = 21.\n",
    "\n",
    "7 and 3 produce the largest product."
   ]
  },
  {
   "cell_type": "code",
   "execution_count": 14,
   "id": "42faf820",
   "metadata": {},
   "outputs": [
    {
     "data": {
      "text/plain": [
       "21"
      ]
     },
     "execution_count": 14,
     "metadata": {},
     "output_type": "execute_result"
    }
   ],
   "source": [
    "def solution(inputArray):\n",
    "    arr=inputArray\n",
    "    n=len(arr)\n",
    "    p=arr[0]*arr[1]\n",
    "    x=0\n",
    "    y=0\n",
    "    for i in range(n-1):\n",
    "        x=arr[i]\n",
    "        y=arr[i+1]\n",
    "        if x*y>p:\n",
    "            p=x*y\n",
    "    return p\n",
    "solution([3, 6, -2, -5, 7, 3])"
   ]
  },
  {
   "cell_type": "markdown",
   "id": "3181b1a0",
   "metadata": {},
   "source": [
    "## shapeArea\n",
    "Below we will define an n-interesting polygon. Your task is to find the area of a polygon for a given n.\n",
    "\n",
    "A 1-interesting polygon is just a square with a side of length 1. An n-interesting polygon is obtained by taking the n - 1-interesting polygon and appending 1-interesting polygons to its rim, side by side. You can see the 1-, 2-, 3- and 4-interesting polygons in the picture below.\n",
    "\n",
    "Example\n",
    "\n",
    "For n = 2, the output should be\n",
    "solution(n) = 5;\n",
    "For n = 3, the output should be\n",
    "solution(n) = 13."
   ]
  },
  {
   "cell_type": "code",
   "execution_count": 15,
   "id": "8d5ca2fd",
   "metadata": {},
   "outputs": [
    {
     "data": {
      "text/plain": [
       "13"
      ]
     },
     "execution_count": 15,
     "metadata": {},
     "output_type": "execute_result"
    }
   ],
   "source": [
    "def solution(n):\n",
    "    if n==1:\n",
    "        return 1\n",
    "    else:\n",
    "        return solution(n-1)+4*(n-1)\n",
    "solution(3)"
   ]
  },
  {
   "cell_type": "markdown",
   "id": "b592d590",
   "metadata": {},
   "source": [
    "## Make Array Consecutive 2\n",
    "Ratiorg got statues of different sizes as a present from CodeMaster for his birthday, each statue having an non-negative integer size. Since he likes to make things perfect, he wants to arrange them from smallest to largest so that each statue will be bigger than the previous one exactly by 1. He may need some additional statues to be able to accomplish that. Help him figure out the minimum number of additional statues needed.\n",
    "\n",
    "Example\n",
    "\n",
    "For statues = [6, 2, 3, 8], the output should be\n",
    "solution(statues) = 3.\n",
    "\n",
    "Ratiorg needs statues of sizes 4, 5 and 7."
   ]
  },
  {
   "cell_type": "code",
   "execution_count": 16,
   "id": "0f1bdeaa",
   "metadata": {},
   "outputs": [
    {
     "data": {
      "text/plain": [
       "3"
      ]
     },
     "execution_count": 16,
     "metadata": {},
     "output_type": "execute_result"
    }
   ],
   "source": [
    "def solution(statues):\n",
    "    a=max(statues)\n",
    "    b=min(statues)\n",
    "    n=len(statues)\n",
    "    return a-b+1-n\n",
    "solution([6,2,3,8])"
   ]
  },
  {
   "cell_type": "markdown",
   "id": "c14e5535",
   "metadata": {},
   "source": [
    "## almostIncreasingSequence\n",
    "Given a sequence of integers as an array, determine whether it is possible to obtain a strictly increasing sequence by removing no more than one element from the array.\n",
    "\n",
    "Note: sequence a0, a1, ..., an is considered to be a strictly increasing if a0 < a1 < ... < an. Sequence containing only one element is also considered to be strictly increasing.\n",
    "\n",
    "Example\n",
    "\n",
    "For sequence = [1, 3, 2, 1], the output should be\n",
    "solution(sequence) = false.\n",
    "\n",
    "There is no one element in this array that can be removed in order to get a strictly increasing sequence.\n",
    "\n",
    "For sequence = [1, 3, 2], the output should be\n",
    "solution(sequence) = true.\n",
    "\n",
    "You can remove 3 from the array to get the strictly increasing sequence [1, 2]. Alternately, you can remove 2 to get the strictly increasing sequence [1, 3]."
   ]
  },
  {
   "cell_type": "code",
   "execution_count": 54,
   "id": "0d79a546",
   "metadata": {},
   "outputs": [
    {
     "data": {
      "text/plain": [
       "True"
      ]
     },
     "execution_count": 54,
     "metadata": {},
     "output_type": "execute_result"
    }
   ],
   "source": [
    "def solution(sequence):\n",
    "    n=len(sequence)\n",
    "    count=0\n",
    "    for i in range(n-1):\n",
    "        if sequence[i]>= sequence[i+1]:\n",
    "            count +=1\n",
    "            a=sequence[0:i]+sequence[i+1:n]\n",
    "            b=sequence[0:i+1]+sequence[i+2:n]\n",
    "            if (increaseNumber(a)==False and increaseNumber(b)==False):\n",
    "                return False\n",
    "            if count>=2:\n",
    "                return False\n",
    "    \n",
    "    return True\n",
    "    \n",
    "def increaseNumber(sequence):\n",
    "    for i in range(len(sequence)-1):\n",
    "        if sequence[i]>=sequence[i+1]:\n",
    "            return False\n",
    "    return True\n",
    "solution([1, 2, 5, 3, 5])"
   ]
  },
  {
   "cell_type": "markdown",
   "id": "cf636109",
   "metadata": {},
   "source": [
    "## matrixElementsSum\n",
    "After becoming famous, the CodeBots decided to move into a new building together. Each of the rooms has a different cost, and some of them are free, but there's a rumour that all the free rooms are haunted! Since the CodeBots are quite superstitious, they refuse to stay in any of the free rooms, or any of the rooms below any of the free rooms.\n",
    "\n",
    "Given matrix, a rectangular matrix of integers, where each value represents the cost of the room, your task is to return the total sum of all rooms that are suitable for the CodeBots (ie: add up all the values that don't appear below a 0).\n",
    "\n",
    "Example\n",
    "\n",
    "For\n",
    "\n",
    "matrix = [[0, 1, 1, 2], \n",
    "          [0, 5, 0, 0], \n",
    "          [2, 0, 3, 3]]\n",
    "the output should be\n",
    "solution(matrix) = 9."
   ]
  },
  {
   "cell_type": "code",
   "execution_count": 62,
   "id": "587d7fa5",
   "metadata": {},
   "outputs": [
    {
     "data": {
      "text/plain": [
       "9"
      ]
     },
     "execution_count": 62,
     "metadata": {},
     "output_type": "execute_result"
    }
   ],
   "source": [
    "matrix = [[0, 1, 1, 2], \n",
    "          [0, 5, 0, 0], \n",
    "          [2, 0, 3, 3]]\n",
    "n=len(matrix)\n",
    "k=len(matrix[0])\n",
    "b=0\n",
    "c=0\n",
    "for i in range(n):\n",
    "    for j in range(k):\n",
    "        \n",
    "        b=b+matrix[i][j]\n",
    "        \n",
    "        if (matrix[i][j]==0 and i<n-1):\n",
    "            c=c+matrix[i+1][j]\n",
    "b-c"
   ]
  },
  {
   "cell_type": "code",
   "execution_count": null,
   "id": "27c84385",
   "metadata": {},
   "outputs": [],
   "source": []
  }
 ],
 "metadata": {
  "kernelspec": {
   "display_name": "Python 3",
   "language": "python",
   "name": "python3"
  },
  "language_info": {
   "codemirror_mode": {
    "name": "ipython",
    "version": 3
   },
   "file_extension": ".py",
   "mimetype": "text/x-python",
   "name": "python",
   "nbconvert_exporter": "python",
   "pygments_lexer": "ipython3",
   "version": "3.8.8"
  }
 },
 "nbformat": 4,
 "nbformat_minor": 5
}
