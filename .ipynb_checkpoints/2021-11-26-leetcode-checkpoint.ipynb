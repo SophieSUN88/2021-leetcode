{
 "cells": [
  {
   "cell_type": "markdown",
   "id": "5006ec8d",
   "metadata": {},
   "source": [
    "# LEETCODE 1507. 转变日期格式\n",
    "给你一个字符串 date ，它的格式为 Day Month Year ，其中：\n",
    "\n",
    "Day 是集合 {\"1st\", \"2nd\", \"3rd\", \"4th\", ..., \"30th\", \"31st\"} 中的一个元素。\n",
    "Month 是集合 {\"Jan\", \"Feb\", \"Mar\", \"Apr\", \"May\", \"Jun\", \"Jul\", \"Aug\", \"Sep\", \"Oct\", \"Nov\", \"Dec\"} 中的一个元素。\n",
    "Year 的范围在 ​[1900, 2100] 之间。\n",
    "请你将字符串转变为 YYYY-MM-DD 的格式，其中：\n",
    "\n",
    "YYYY 表示 4 位的年份。\n",
    "MM 表示 2 位的月份。\n",
    "DD 表示 2 位的天数。\n",
    "\n",
    "示例 1：\n",
    "\n",
    "输入：date = \"20th Oct 2052\"\n",
    "输出：\"2052-10-20\"\n",
    "示例 2：\n",
    "\n",
    "输入：date = \"6th Jun 1933\"\n",
    "输出：\"1933-06-06\"\n",
    "示例 3：\n",
    "\n",
    "输入：date = \"26th May 1960\"\n",
    "输出：\"1960-05-26\"\n",
    "\n",
    "来源：力扣（LeetCode）\n",
    "链接：https://leetcode-cn.com/problems/reformat-date\n",
    "著作权归领扣网络所有。商业转载请联系官方授权，非商业转载请注明出处。\n",
    "\n",
    "复杂度分析\n",
    "\n",
    "时间复杂度：O(1)。\n",
    "空间复杂度：O(1)。"
   ]
  },
  {
   "cell_type": "markdown",
   "id": "8c855096",
   "metadata": {},
   "source": [
    "### SOLUTION 1 Python3\n",
    "- split to get date,month, year.\n",
    "- zfill(2) to make sure the day has 2 number\n",
    "- use dict to get the month from str to number\n",
    "- use reverse to get date in y-m-d order\n",
    "- use \"-\".join() to get the formate of Date"
   ]
  },
  {
   "cell_type": "code",
   "execution_count": 1,
   "id": "b6b022a7",
   "metadata": {},
   "outputs": [
    {
     "data": {
      "text/plain": [
       "'2052-10-20'"
      ]
     },
     "execution_count": 1,
     "metadata": {},
     "output_type": "execute_result"
    }
   ],
   "source": [
    "date = \"20th Oct 2052\"\n",
    "date = date.split(\" \")\n",
    "date[0]=date[0][:-2].zfill(2)\n",
    "month={\"Jan\":'01', \"Feb\":'02', \"Mar\":'03', \"Apr\":'04', \"May\":'05', \n",
    "       \"Jun\":'06', \"Jul\":'07', \"Aug\":'08', \"Sep\":'09', \"Oct\":'10',\n",
    "       \"Nov\":'11', \"Dec\":'12'}\n",
    "date[1]=month.get(date[1])\n",
    "date.reverse()\n",
    "\"-\".join(date)"
   ]
  },
  {
   "cell_type": "code",
   "execution_count": 2,
   "id": "939a7294",
   "metadata": {},
   "outputs": [],
   "source": [
    "class Solution:\n",
    "    def __init__(self,date):\n",
    "        self.date=date\n",
    "    def reformatDate(self) :\n",
    "        date = self.date.split(\" \")\n",
    "        date[0]=date[0][:-2].zfill(2)\n",
    "        month={\"Jan\":'01', \"Feb\":'02', \"Mar\":'03', \"Apr\":'04', \"May\":'05', \n",
    "       \"Jun\":'06', \"Jul\":'07', \"Aug\":'08', \"Sep\":'09', \"Oct\":'10',\n",
    "       \"Nov\":'11', \"Dec\":'12'}\n",
    "        date[1]=month.get(date[1])\n",
    "        date.reverse()\n",
    "        return \"-\".join(date)"
   ]
  },
  {
   "cell_type": "code",
   "execution_count": 3,
   "id": "1188e0cb",
   "metadata": {},
   "outputs": [
    {
     "name": "stdout",
     "output_type": "stream",
     "text": [
      "2052-01-02\n"
     ]
    }
   ],
   "source": [
    "p1=Solution(\"2nd Jan 2052\")\n",
    "print(p1.reformatDate())"
   ]
  },
  {
   "cell_type": "markdown",
   "id": "5a612808",
   "metadata": {},
   "source": [
    "### Solution 2 format %02d"
   ]
  },
  {
   "cell_type": "code",
   "execution_count": 4,
   "id": "bc206604",
   "metadata": {},
   "outputs": [
    {
     "name": "stdout",
     "output_type": "stream",
     "text": [
      "2052-10-20\n"
     ]
    }
   ],
   "source": [
    "date = \"20th Oct 2052\"\n",
    "day, mon, year = date.split(\" \")\n",
    "mon_lst = [\"Jan\", \"Feb\", \"Mar\", \"Apr\", \"May\", \"Jun\", \"Jul\", \"Aug\", \"Sep\", \"Oct\", \"Nov\", \"Dec\"]\n",
    "mon_map = {mon:idx for idx,mon in enumerate(mon_lst,1)}\n",
    "day=int(day[:-2])\n",
    "print(\"%s-%02d-%02d\" % (year, mon_map[mon], day))\n"
   ]
  },
  {
   "cell_type": "markdown",
   "id": "9c29b438",
   "metadata": {},
   "source": [
    "### Solution 3 class/self"
   ]
  },
  {
   "cell_type": "code",
   "execution_count": 5,
   "id": "ef16b119",
   "metadata": {},
   "outputs": [
    {
     "name": "stdout",
     "output_type": "stream",
     "text": [
      "2052-01-02\n"
     ]
    }
   ],
   "source": [
    "class Solution(object):\n",
    "    def __init__(self,date):\n",
    "        self.date=date\n",
    "        \n",
    "    def Date(self):\n",
    "        dict_={\"Jan\":'01', \"Feb\":'02', \"Mar\":'03', \"Apr\":'04', \"May\":'05', \\\n",
    " \"Jun\":'06', \"Jul\":'07', \"Aug\":'08', \"Sep\":'09', \"Oct\":'10', \"Nov\":'11', \"Dec\":'12'}\n",
    "        l=self.date.split(' ')\n",
    "        y=l[-1]\n",
    "        m=dict_[l[-2]]\n",
    "        d=l[0][0:-2]\n",
    "        if len(d)==1:\n",
    "            ymd=y+'-'+m+'-'+'0'+d\n",
    "        else:\n",
    "            ymd=y+'-'+m+'-'+d\n",
    "        return ymd\n",
    "p1=Solution(\"2nd Jan 2052\")\n",
    "print(p1.Date())"
   ]
  },
  {
   "cell_type": "markdown",
   "id": "7ea57078",
   "metadata": {},
   "source": [
    "# LEETCODE 7. Reverse Integer\n",
    "Given a signed 32-bit integer x, return x with its digits reversed. If reversing x causes the value to go outside the signed 32-bit integer range [-2^31, 2^31 - 1], then return 0.\n",
    "\n",
    "Assume the environment does not allow you to store 64-bit integers (signed or unsigned).\n",
    "\n",
    " \n",
    "\n",
    "Example 1:\n",
    "\n",
    "Input: x = 123\n",
    "Output: 321\n",
    "Example 2:\n",
    "\n",
    "Input: x = -123\n",
    "Output: -321\n",
    "Example 3:\n",
    "\n",
    "Input: x = 120\n",
    "Output: 21\n",
    "Example 4:\n",
    "\n",
    "Input: x = 0\n",
    "Output: 0\n",
    " \n",
    "\n",
    "Constraints:\n",
    "\n",
    "-2^31 <= x <= 2^31 - 1\n",
    "\n",
    "\n",
    "来源：力扣（LeetCode）\n",
    "链接：https://leetcode-cn.com/problems/reverse-integer\n",
    "著作权归领扣网络所有。商业转载请联系官方授权，非商业转载请注明出处。"
   ]
  },
  {
   "cell_type": "markdown",
   "id": "4533ce19",
   "metadata": {},
   "source": [
    "### Solution 1\n",
    "- -2^31 <= x <= 2^31 - 1\n",
    "- x%10\n",
    "- if x is negative , then digit = x%10 is different when x is positive, so digit -10\n",
    "- get rev number,until x =0"
   ]
  },
  {
   "cell_type": "code",
   "execution_count": 21,
   "id": "125f295c",
   "metadata": {},
   "outputs": [],
   "source": [
    "def reverse(x: int) -> int:\n",
    "        INT_MIN, INT_MAX = -2**31, 2**31 - 1\n",
    "\n",
    "        rev = 0\n",
    "        while x != 0:\n",
    "            # INT_MIN 也是一个负数，不能写成 rev < INT_MIN // 10\n",
    "            if rev < INT_MIN // 10 + 1 or rev > INT_MAX // 10:\n",
    "                return 0\n",
    "            digit = x % 10\n",
    "            # Python3 的取模运算在 x 为负数时也会返回 [0, 9) 以内的结果，因此这里需要进行特殊判断\n",
    "            if x < 0 and digit > 0:\n",
    "                digit -= 10\n",
    "\n",
    "            # 同理，Python3 的整数除法在 x 为负数时会向下（更小的负数）取整，因此不能写成 x //= 10\n",
    "            x = (x - digit) // 10\n",
    "            rev = rev * 10 + digit\n",
    "        \n",
    "        return rev"
   ]
  },
  {
   "cell_type": "code",
   "execution_count": 24,
   "id": "47562871",
   "metadata": {},
   "outputs": [
    {
     "data": {
      "text/plain": [
       "-4321"
      ]
     },
     "execution_count": 24,
     "metadata": {},
     "output_type": "execute_result"
    }
   ],
   "source": [
    "reverse(-1234)"
   ]
  },
  {
   "cell_type": "code",
   "execution_count": 23,
   "id": "73d07615",
   "metadata": {},
   "outputs": [
    {
     "data": {
      "text/plain": [
       "0"
      ]
     },
     "execution_count": 23,
     "metadata": {},
     "output_type": "execute_result"
    }
   ],
   "source": [
    "reverse(0)"
   ]
  },
  {
   "cell_type": "code",
   "execution_count": 27,
   "id": "925b0557",
   "metadata": {},
   "outputs": [
    {
     "data": {
      "text/plain": [
       "632"
      ]
     },
     "execution_count": 27,
     "metadata": {},
     "output_type": "execute_result"
    }
   ],
   "source": [
    "reverse(236)"
   ]
  },
  {
   "cell_type": "markdown",
   "id": "9ffb9126",
   "metadata": {},
   "source": [
    "# LEETCODE 704. Binary Search\n",
    "Given an array of integers nums which is sorted in ascending order, and an integer target, write a function to search target in nums. If target exists, then return its index. Otherwise, return -1.\n",
    "\n",
    "You must write an algorithm with O(log n) runtime complexity.\n",
    "\n",
    " \n",
    "\n",
    "Example 1:\n",
    "\n",
    "Input: nums = [-1,0,3,5,9,12], target = 9\n",
    "Output: 4\n",
    "Explanation: 9 exists in nums and its index is 4\n",
    "Example 2:\n",
    "\n",
    "Input: nums = [-1,0,3,5,9,12], target = 2\n",
    "Output: -1\n",
    "Explanation: 2 does not exist in nums so return -1\n",
    " \n",
    "\n",
    "Constraints:\n",
    "\n",
    "1 <= nums.length <= 104\n",
    "-104 < nums[i], target < 104\n",
    "All the integers in nums are unique.\n",
    "nums is sorted in ascending order.\n",
    "\n",
    "\n",
    "来源：力扣（LeetCode）\n",
    "链接：https://leetcode-cn.com/problems/binary-search\n",
    "著作权归领扣网络所有。商业转载请联系官方授权，非商业转载请注明出处。"
   ]
  },
  {
   "cell_type": "markdown",
   "id": "dc19ce69",
   "metadata": {},
   "source": [
    "### Solution 1\n",
    "从第一个开始，遍历所有的数值来查找，但这样速度读慢"
   ]
  },
  {
   "cell_type": "code",
   "execution_count": 29,
   "id": "f6e066b7",
   "metadata": {},
   "outputs": [
    {
     "data": {
      "text/plain": [
       "2"
      ]
     },
     "execution_count": 29,
     "metadata": {},
     "output_type": "execute_result"
    }
   ],
   "source": [
    "def search(nums, target):\n",
    "    if target in nums:\n",
    "        i=0\n",
    "        while nums[i] != target:\n",
    "            i += 1\n",
    "        \n",
    "        return i\n",
    "    else:\n",
    "        return -1\n",
    "search([-1,0,9,8],9)    \n"
   ]
  },
  {
   "cell_type": "markdown",
   "id": "111c54ac",
   "metadata": {},
   "source": [
    "### Solution 2\n",
    "因为是升序数组nums，寻找target，如果\n",
    "- nums[i]==target, return i; \n",
    "- nums[i]>target,则target在下表i的左侧；\n",
    "- nums[i]<target,则target在下表i的右侧\n",
    "所以可以每次目标缩小一半，因此二分查找的时间复杂度是O（log n),n=len(nums)\n",
    "二分查找的条件是查找范围不为空，left<=right.如果target在数组中，返回target的下标i；如果不在数组中，当left>right，返回-1\n"
   ]
  },
  {
   "cell_type": "code",
   "execution_count": 34,
   "id": "bc0cfe97",
   "metadata": {},
   "outputs": [],
   "source": [
    "def search2(nums,target):\n",
    "    low = 0\n",
    "    high = len(nums)-1\n",
    "    while low<=high:\n",
    "        mid=(high-low)//2 + low  \n",
    "        num=nums[mid]\n",
    "        if num == target:\n",
    "            return mid\n",
    "        elif num > target:\n",
    "            high= mid-1\n",
    "        else:\n",
    "            low =  mid+1\n",
    "    \n",
    "    return -1"
   ]
  },
  {
   "cell_type": "code",
   "execution_count": 35,
   "id": "ce1fd21e",
   "metadata": {},
   "outputs": [
    {
     "data": {
      "text/plain": [
       "2"
      ]
     },
     "execution_count": 35,
     "metadata": {},
     "output_type": "execute_result"
    }
   ],
   "source": [
    "search2([-1,0,9,8],9)"
   ]
  },
  {
   "cell_type": "markdown",
   "id": "98cd5aca",
   "metadata": {},
   "source": [
    "# LEETCODE 278. First Bad Version\n",
    "You are a product manager and currently leading a team to develop a new product. Unfortunately, the latest version of your product fails the quality check. Since each version is developed based on the previous version, all the versions after a bad version are also bad.\n",
    "\n",
    "Suppose you have n versions [1, 2, ..., n] and you want to find out the first bad one, which causes all the following ones to be bad.\n",
    "\n",
    "You are given an API bool isBadVersion(version) which returns whether version is bad. Implement a function to find the first bad version. You should minimize the number of calls to the API.\n",
    "\n",
    " \n",
    "\n",
    "Example 1:\n",
    "\n",
    "Input: n = 5, bad = 4\n",
    "Output: 4\n",
    "Explanation:\n",
    "call isBadVersion(3) -> false\n",
    "call isBadVersion(5) -> true\n",
    "call isBadVersion(4) -> true\n",
    "Then 4 is the first bad version.\n",
    "Example 2:\n",
    "\n",
    "Input: n = 1, bad = 1\n",
    "Output: 1\n",
    " \n",
    "\n",
    "Constraints:\n",
    "\n",
    "1 <= bad <= n <= 231 - 1\n",
    "\n",
    "来源：力扣（LeetCode）\n",
    "链接：https://leetcode-cn.com/problems/first-bad-version\n",
    "著作权归领扣网络所有。商业转载请联系官方授权，非商业转载请注明出处。"
   ]
  },
  {
   "cell_type": "markdown",
   "id": "1445de8a",
   "metadata": {},
   "source": [
    "思路及算法\n",
    "\n",
    "因为题目要求尽量减少调用检查接口的次数，所以不能对每个版本都调用检查接口，而是应该将调用检查接口的次数降到最低。\n",
    "\n",
    "注意到一个性质：当一个版本为正确版本，则该版本之前的所有版本均为正确版本；当一个版本为错误版本，则该版本之后的所有版本均为错误版本。我们可以利用这个性质进行二分查找。\n",
    "\n",
    "具体地，将左右边界分别初始化为1 和 n，其中 n 是给定的版本数量。设定左右边界之后，每次我们都依据左右边界找到其中间的版本，检查其是否为正确版本。如果该版本为正确版本，那么第一个错误的版本必然位于该版本的右侧，我们缩紧左边界；否则第一个错误的版本必然位于该版本及该版本的左侧，我们缩紧右边界。\n",
    "\n",
    "这样我们每判断一次都可以缩紧一次边界，而每次缩紧时两边界距离将变为原来的一半，因此我们至多只需要缩紧 O(logn) 次。\n"
   ]
  },
  {
   "cell_type": "code",
   "execution_count": 40,
   "id": "e703ca30",
   "metadata": {},
   "outputs": [],
   "source": [
    "def firstBadVersion(self, n):\n",
    "        left = 0\n",
    "        right = n - 1\n",
    "        while(left<=right):\n",
    "            m = (left+right)//2\n",
    "            if isBadVersion(m)==True:\n",
    "                right = m - 1\n",
    "            else:\n",
    "                left = m + 1\n",
    "        return max(1,left)"
   ]
  },
  {
   "cell_type": "markdown",
   "id": "d2f37f02",
   "metadata": {},
   "source": [
    "# LEETCODE 35. Search Insert Position\n",
    "Given a sorted array of distinct integers and a target value, return the index if the target is found. If not, return the index where it would be if it were inserted in order.\n",
    "\n",
    "You must write an algorithm with O(log n) runtime complexity.\n",
    "\n",
    " \n",
    "\n",
    "Example 1:\n",
    "\n",
    "Input: nums = [1,3,5,6], target = 5\n",
    "Output: 2\n",
    "Example 2:\n",
    "\n",
    "Input: nums = [1,3,5,6], target = 2\n",
    "Output: 1\n",
    "Example 3:\n",
    "\n",
    "Input: nums = [1,3,5,6], target = 7\n",
    "Output: 4\n",
    "Example 4:\n",
    "\n",
    "Input: nums = [1,3,5,6], target = 0\n",
    "Output: 0\n",
    "Example 5:\n",
    "\n",
    "Input: nums = [1], target = 0\n",
    "Output: 0\n",
    "\n",
    "来源：力扣（LeetCode）\n",
    "链接：https://leetcode-cn.com/problems/search-insert-position\n",
    "著作权归领扣网络所有。商业转载请联系官方授权，非商业转载请注明出处。"
   ]
  },
  {
   "cell_type": "code",
   "execution_count": null,
   "id": "718caf25",
   "metadata": {},
   "outputs": [],
   "source": [
    "def search2(nums,target):\n",
    "    low = 0\n",
    "    high = len(nums)-1\n",
    "    while low<=high:\n",
    "        mid=(high-low)//2 + low  \n",
    "        num=nums[mid]\n",
    "        if num == target:\n",
    "            return mid\n",
    "        elif num > target:\n",
    "            high= mid-1\n",
    "        else:\n",
    "            low =  mid+1\n",
    "# when low > high, meand no target, then we need to find the index of low, it is where we can insert the target\n",
    "    return low"
   ]
  },
  {
   "cell_type": "code",
   "execution_count": null,
   "id": "ba7a7df8",
   "metadata": {},
   "outputs": [],
   "source": []
  }
 ],
 "metadata": {
  "kernelspec": {
   "display_name": "Python 3",
   "language": "python",
   "name": "python3"
  },
  "language_info": {
   "codemirror_mode": {
    "name": "ipython",
    "version": 3
   },
   "file_extension": ".py",
   "mimetype": "text/x-python",
   "name": "python",
   "nbconvert_exporter": "python",
   "pygments_lexer": "ipython3",
   "version": "3.8.8"
  }
 },
 "nbformat": 4,
 "nbformat_minor": 5
}
