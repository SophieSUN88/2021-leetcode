{
 "cells": [
  {
   "cell_type": "markdown",
   "id": "bd4a034c",
   "metadata": {},
   "source": [
    "# LEETCODE 1507. 转变日期格式\n",
    "给你一个字符串 date ，它的格式为 Day Month Year ，其中：\n",
    "\n",
    "Day 是集合 {\"1st\", \"2nd\", \"3rd\", \"4th\", ..., \"30th\", \"31st\"} 中的一个元素。\n",
    "Month 是集合 {\"Jan\", \"Feb\", \"Mar\", \"Apr\", \"May\", \"Jun\", \"Jul\", \"Aug\", \"Sep\", \"Oct\", \"Nov\", \"Dec\"} 中的一个元素。\n",
    "Year 的范围在 ​[1900, 2100] 之间。\n",
    "请你将字符串转变为 YYYY-MM-DD 的格式，其中：\n",
    "\n",
    "YYYY 表示 4 位的年份。\n",
    "MM 表示 2 位的月份。\n",
    "DD 表示 2 位的天数。\n",
    "\n",
    "示例 1：\n",
    "\n",
    "输入：date = \"20th Oct 2052\"\n",
    "输出：\"2052-10-20\"\n",
    "示例 2：\n",
    "\n",
    "输入：date = \"6th Jun 1933\"\n",
    "输出：\"1933-06-06\"\n",
    "示例 3：\n",
    "\n",
    "输入：date = \"26th May 1960\"\n",
    "输出：\"1960-05-26\"\n",
    "\n",
    "来源：力扣（LeetCode）\n",
    "链接：https://leetcode-cn.com/problems/reformat-date\n",
    "著作权归领扣网络所有。商业转载请联系官方授权，非商业转载请注明出处。\n",
    "\n",
    "复杂度分析\n",
    "\n",
    "时间复杂度：O(1)。\n",
    "空间复杂度：O(1)。"
   ]
  },
  {
   "cell_type": "markdown",
   "id": "9d2ce1f1",
   "metadata": {},
   "source": [
    "### SOLUTION 1 Python3\n",
    "- split to get date,month, year.\n",
    "- zfill(2) to make sure the day has 2 number\n",
    "- use dict to get the month from str to number\n",
    "- use reverse to get date in y-m-d order\n",
    "- use \"-\".join() to get the formate of Date"
   ]
  },
  {
   "cell_type": "code",
   "execution_count": 1,
   "id": "6e7a8cf7",
   "metadata": {},
   "outputs": [
    {
     "data": {
      "text/plain": [
       "'2052-10-20'"
      ]
     },
     "execution_count": 1,
     "metadata": {},
     "output_type": "execute_result"
    }
   ],
   "source": [
    "date = \"20th Oct 2052\"\n",
    "date = date.split(\" \")\n",
    "date[0]=date[0][:-2].zfill(2)\n",
    "month={\"Jan\":'01', \"Feb\":'02', \"Mar\":'03', \"Apr\":'04', \"May\":'05', \n",
    "       \"Jun\":'06', \"Jul\":'07', \"Aug\":'08', \"Sep\":'09', \"Oct\":'10',\n",
    "       \"Nov\":'11', \"Dec\":'12'}\n",
    "date[1]=month.get(date[1])\n",
    "date.reverse()\n",
    "\"-\".join(date)"
   ]
  },
  {
   "cell_type": "code",
   "execution_count": 2,
   "id": "fad1f22b",
   "metadata": {},
   "outputs": [],
   "source": [
    "class Solution:\n",
    "    def __init__(self,date):\n",
    "        self.date=date\n",
    "    def reformatDate(self) :\n",
    "        date = self.date.split(\" \")\n",
    "        date[0]=date[0][:-2].zfill(2)\n",
    "        month={\"Jan\":'01', \"Feb\":'02', \"Mar\":'03', \"Apr\":'04', \"May\":'05', \n",
    "       \"Jun\":'06', \"Jul\":'07', \"Aug\":'08', \"Sep\":'09', \"Oct\":'10',\n",
    "       \"Nov\":'11', \"Dec\":'12'}\n",
    "        date[1]=month.get(date[1])\n",
    "        date.reverse()\n",
    "        return \"-\".join(date)"
   ]
  },
  {
   "cell_type": "code",
   "execution_count": 3,
   "id": "7501d6f1",
   "metadata": {},
   "outputs": [
    {
     "name": "stdout",
     "output_type": "stream",
     "text": [
      "2052-01-02\n"
     ]
    }
   ],
   "source": [
    "p1=Solution(\"2nd Jan 2052\")\n",
    "print(p1.reformatDate())"
   ]
  },
  {
   "cell_type": "markdown",
   "id": "c0e65617",
   "metadata": {},
   "source": [
    "### Solution 2 format %02d"
   ]
  },
  {
   "cell_type": "code",
   "execution_count": 4,
   "id": "f6d38867",
   "metadata": {},
   "outputs": [
    {
     "name": "stdout",
     "output_type": "stream",
     "text": [
      "2052-10-20\n"
     ]
    }
   ],
   "source": [
    "date = \"20th Oct 2052\"\n",
    "day, mon, year = date.split(\" \")\n",
    "mon_lst = [\"Jan\", \"Feb\", \"Mar\", \"Apr\", \"May\", \"Jun\", \"Jul\", \"Aug\", \"Sep\", \"Oct\", \"Nov\", \"Dec\"]\n",
    "mon_map = {mon:idx for idx,mon in enumerate(mon_lst,1)}\n",
    "day=int(day[:-2])\n",
    "print(\"%s-%02d-%02d\" % (year, mon_map[mon], day))\n"
   ]
  },
  {
   "cell_type": "markdown",
   "id": "f48add17",
   "metadata": {},
   "source": [
    "### Solution 3 class/self"
   ]
  },
  {
   "cell_type": "code",
   "execution_count": 5,
   "id": "c1449ddd",
   "metadata": {},
   "outputs": [
    {
     "name": "stdout",
     "output_type": "stream",
     "text": [
      "2052-01-02\n"
     ]
    }
   ],
   "source": [
    "class Solution(object):\n",
    "    def __init__(self,date):\n",
    "        self.date=date\n",
    "        \n",
    "    def Date(self):\n",
    "        dict_={\"Jan\":'01', \"Feb\":'02', \"Mar\":'03', \"Apr\":'04', \"May\":'05', \\\n",
    " \"Jun\":'06', \"Jul\":'07', \"Aug\":'08', \"Sep\":'09', \"Oct\":'10', \"Nov\":'11', \"Dec\":'12'}\n",
    "        l=self.date.split(' ')\n",
    "        y=l[-1]\n",
    "        m=dict_[l[-2]]\n",
    "        d=l[0][0:-2]\n",
    "        if len(d)==1:\n",
    "            ymd=y+'-'+m+'-'+'0'+d\n",
    "        else:\n",
    "            ymd=y+'-'+m+'-'+d\n",
    "        return ymd\n",
    "p1=Solution(\"2nd Jan 2052\")\n",
    "print(p1.Date())"
   ]
  },
  {
   "cell_type": "markdown",
   "id": "f422bbb6",
   "metadata": {},
   "source": [
    "# LEETCODE 7. Reverse Integer\n",
    "Given a signed 32-bit integer x, return x with its digits reversed. If reversing x causes the value to go outside the signed 32-bit integer range [-2^31, 2^31 - 1], then return 0.\n",
    "\n",
    "Assume the environment does not allow you to store 64-bit integers (signed or unsigned).\n",
    "\n",
    " \n",
    "\n",
    "Example 1:\n",
    "\n",
    "Input: x = 123\n",
    "Output: 321\n",
    "Example 2:\n",
    "\n",
    "Input: x = -123\n",
    "Output: -321\n",
    "Example 3:\n",
    "\n",
    "Input: x = 120\n",
    "Output: 21\n",
    "Example 4:\n",
    "\n",
    "Input: x = 0\n",
    "Output: 0\n",
    " \n",
    "\n",
    "Constraints:\n",
    "\n",
    "-2^31 <= x <= 2^31 - 1\n",
    "\n",
    "\n",
    "来源：力扣（LeetCode）\n",
    "链接：https://leetcode-cn.com/problems/reverse-integer\n",
    "著作权归领扣网络所有。商业转载请联系官方授权，非商业转载请注明出处。"
   ]
  },
  {
   "cell_type": "markdown",
   "id": "36bd9cc8",
   "metadata": {},
   "source": [
    "### Solution 1\n",
    "- -2^31 <= x <= 2^31 - 1\n",
    "- x%10\n",
    "- if x is negative , then digit = x%10 is different when x is positive, so digit -10\n",
    "- get rev number,until x =0"
   ]
  },
  {
   "cell_type": "code",
   "execution_count": 21,
   "id": "0991697b",
   "metadata": {},
   "outputs": [],
   "source": [
    "def reverse(x: int) -> int:\n",
    "        INT_MIN, INT_MAX = -2**31, 2**31 - 1\n",
    "\n",
    "        rev = 0\n",
    "        while x != 0:\n",
    "            # INT_MIN 也是一个负数，不能写成 rev < INT_MIN // 10\n",
    "            if rev < INT_MIN // 10 + 1 or rev > INT_MAX // 10:\n",
    "                return 0\n",
    "            digit = x % 10\n",
    "            # Python3 的取模运算在 x 为负数时也会返回 [0, 9) 以内的结果，因此这里需要进行特殊判断\n",
    "            if x < 0 and digit > 0:\n",
    "                digit -= 10\n",
    "\n",
    "            # 同理，Python3 的整数除法在 x 为负数时会向下（更小的负数）取整，因此不能写成 x //= 10\n",
    "            x = (x - digit) // 10\n",
    "            rev = rev * 10 + digit\n",
    "        \n",
    "        return rev"
   ]
  },
  {
   "cell_type": "code",
   "execution_count": 24,
   "id": "9af51d5d",
   "metadata": {},
   "outputs": [
    {
     "data": {
      "text/plain": [
       "-4321"
      ]
     },
     "execution_count": 24,
     "metadata": {},
     "output_type": "execute_result"
    }
   ],
   "source": [
    "reverse(-1234)"
   ]
  },
  {
   "cell_type": "code",
   "execution_count": 23,
   "id": "9a2d939b",
   "metadata": {},
   "outputs": [
    {
     "data": {
      "text/plain": [
       "0"
      ]
     },
     "execution_count": 23,
     "metadata": {},
     "output_type": "execute_result"
    }
   ],
   "source": [
    "reverse(0)"
   ]
  },
  {
   "cell_type": "code",
   "execution_count": 27,
   "id": "9cfc9fc6",
   "metadata": {},
   "outputs": [
    {
     "data": {
      "text/plain": [
       "632"
      ]
     },
     "execution_count": 27,
     "metadata": {},
     "output_type": "execute_result"
    }
   ],
   "source": [
    "reverse(236)"
   ]
  },
  {
   "cell_type": "markdown",
   "id": "ffb8a5f3",
   "metadata": {},
   "source": [
    "# LEETCODE 704. Binary Search\n",
    "Given an array of integers nums which is sorted in ascending order, and an integer target, write a function to search target in nums. If target exists, then return its index. Otherwise, return -1.\n",
    "\n",
    "You must write an algorithm with O(log n) runtime complexity.\n",
    "\n",
    " \n",
    "\n",
    "Example 1:\n",
    "\n",
    "Input: nums = [-1,0,3,5,9,12], target = 9\n",
    "Output: 4\n",
    "Explanation: 9 exists in nums and its index is 4\n",
    "Example 2:\n",
    "\n",
    "Input: nums = [-1,0,3,5,9,12], target = 2\n",
    "Output: -1\n",
    "Explanation: 2 does not exist in nums so return -1\n",
    " \n",
    "\n",
    "Constraints:\n",
    "\n",
    "1 <= nums.length <= 104\n",
    "-104 < nums[i], target < 104\n",
    "All the integers in nums are unique.\n",
    "nums is sorted in ascending order.\n",
    "\n",
    "\n",
    "来源：力扣（LeetCode）\n",
    "链接：https://leetcode-cn.com/problems/binary-search\n",
    "著作权归领扣网络所有。商业转载请联系官方授权，非商业转载请注明出处。"
   ]
  },
  {
   "cell_type": "markdown",
   "id": "0c764b23",
   "metadata": {},
   "source": [
    "### Solution 1\n",
    "从第一个开始，遍历所有的数值来查找，但这样速度读慢"
   ]
  },
  {
   "cell_type": "code",
   "execution_count": 29,
   "id": "5930344f",
   "metadata": {},
   "outputs": [
    {
     "data": {
      "text/plain": [
       "2"
      ]
     },
     "execution_count": 29,
     "metadata": {},
     "output_type": "execute_result"
    }
   ],
   "source": [
    "def search(nums, target):\n",
    "    if target in nums:\n",
    "        i=0\n",
    "        while nums[i] != target:\n",
    "            i += 1\n",
    "        \n",
    "        return i\n",
    "    else:\n",
    "        return -1\n",
    "search([-1,0,9,8],9)    \n"
   ]
  },
  {
   "cell_type": "markdown",
   "id": "7e224ab5",
   "metadata": {},
   "source": [
    "### Solution 2\n",
    "因为是升序数组nums，寻找target，如果\n",
    "- nums[i]==target, return i; \n",
    "- nums[i]>target,则target在下表i的左侧；\n",
    "- nums[i]<target,则target在下表i的右侧\n",
    "所以可以每次目标缩小一半，因此二分查找的时间复杂度是O（log n),n=len(nums)\n",
    "二分查找的条件是查找范围不为空，left<=right.如果target在数组中，返回target的下标i；如果不在数组中，当left>right，返回-1\n"
   ]
  },
  {
   "cell_type": "code",
   "execution_count": 34,
   "id": "08da7146",
   "metadata": {},
   "outputs": [],
   "source": [
    "def search2(nums,target):\n",
    "    low = 0\n",
    "    high = len(nums)-1\n",
    "    while low<=high:\n",
    "        mid=(high-low)//2 + low  \n",
    "        num=nums[mid]\n",
    "        if num == target:\n",
    "            return mid\n",
    "        elif num > target:\n",
    "            high= mid-1\n",
    "        else:\n",
    "            low =  mid+1\n",
    "    \n",
    "    return -1"
   ]
  },
  {
   "cell_type": "code",
   "execution_count": 35,
   "id": "a411e352",
   "metadata": {},
   "outputs": [
    {
     "data": {
      "text/plain": [
       "2"
      ]
     },
     "execution_count": 35,
     "metadata": {},
     "output_type": "execute_result"
    }
   ],
   "source": [
    "search2([-1,0,9,8],9)"
   ]
  },
  {
   "cell_type": "markdown",
   "id": "49bc69fa",
   "metadata": {},
   "source": [
    "# LEETCODE 278. First Bad Version\n",
    "You are a product manager and currently leading a team to develop a new product. Unfortunately, the latest version of your product fails the quality check. Since each version is developed based on the previous version, all the versions after a bad version are also bad.\n",
    "\n",
    "Suppose you have n versions [1, 2, ..., n] and you want to find out the first bad one, which causes all the following ones to be bad.\n",
    "\n",
    "You are given an API bool isBadVersion(version) which returns whether version is bad. Implement a function to find the first bad version. You should minimize the number of calls to the API.\n",
    "\n",
    " \n",
    "\n",
    "Example 1:\n",
    "\n",
    "Input: n = 5, bad = 4\n",
    "Output: 4\n",
    "Explanation:\n",
    "call isBadVersion(3) -> false\n",
    "call isBadVersion(5) -> true\n",
    "call isBadVersion(4) -> true\n",
    "Then 4 is the first bad version.\n",
    "Example 2:\n",
    "\n",
    "Input: n = 1, bad = 1\n",
    "Output: 1\n",
    " \n",
    "\n",
    "Constraints:\n",
    "\n",
    "1 <= bad <= n <= 231 - 1\n",
    "\n",
    "来源：力扣（LeetCode）\n",
    "链接：https://leetcode-cn.com/problems/first-bad-version\n",
    "著作权归领扣网络所有。商业转载请联系官方授权，非商业转载请注明出处。"
   ]
  },
  {
   "cell_type": "markdown",
   "id": "60b2f164",
   "metadata": {},
   "source": [
    "思路及算法\n",
    "\n",
    "因为题目要求尽量减少调用检查接口的次数，所以不能对每个版本都调用检查接口，而是应该将调用检查接口的次数降到最低。\n",
    "\n",
    "注意到一个性质：当一个版本为正确版本，则该版本之前的所有版本均为正确版本；当一个版本为错误版本，则该版本之后的所有版本均为错误版本。我们可以利用这个性质进行二分查找。\n",
    "\n",
    "具体地，将左右边界分别初始化为1 和 n，其中 n 是给定的版本数量。设定左右边界之后，每次我们都依据左右边界找到其中间的版本，检查其是否为正确版本。如果该版本为正确版本，那么第一个错误的版本必然位于该版本的右侧，我们缩紧左边界；否则第一个错误的版本必然位于该版本及该版本的左侧，我们缩紧右边界。\n",
    "\n",
    "这样我们每判断一次都可以缩紧一次边界，而每次缩紧时两边界距离将变为原来的一半，因此我们至多只需要缩紧 O(logn) 次。\n"
   ]
  },
  {
   "cell_type": "code",
   "execution_count": 40,
   "id": "22f6de2a",
   "metadata": {},
   "outputs": [],
   "source": [
    "def firstBadVersion(self, n):\n",
    "        left = 0\n",
    "        right = n - 1\n",
    "        while(left<=right):\n",
    "            m = (left+right)//2\n",
    "            if isBadVersion(m)==True:\n",
    "                right = m - 1\n",
    "            else:\n",
    "                left = m + 1\n",
    "        return max(1,left)"
   ]
  },
  {
   "cell_type": "markdown",
   "id": "a3de0c79",
   "metadata": {},
   "source": [
    "# LEETCODE 35. Search Insert Position\n",
    "Given a sorted array of distinct integers and a target value, return the index if the target is found. If not, return the index where it would be if it were inserted in order.\n",
    "\n",
    "You must write an algorithm with O(log n) runtime complexity.\n",
    "\n",
    " \n",
    "\n",
    "Example 1:\n",
    "\n",
    "Input: nums = [1,3,5,6], target = 5\n",
    "Output: 2\n",
    "Example 2:\n",
    "\n",
    "Input: nums = [1,3,5,6], target = 2\n",
    "Output: 1\n",
    "Example 3:\n",
    "\n",
    "Input: nums = [1,3,5,6], target = 7\n",
    "Output: 4\n",
    "Example 4:\n",
    "\n",
    "Input: nums = [1,3,5,6], target = 0\n",
    "Output: 0\n",
    "Example 5:\n",
    "\n",
    "Input: nums = [1], target = 0\n",
    "Output: 0\n",
    "\n",
    "来源：力扣（LeetCode）\n",
    "链接：https://leetcode-cn.com/problems/search-insert-position\n",
    "著作权归领扣网络所有。商业转载请联系官方授权，非商业转载请注明出处。"
   ]
  },
  {
   "cell_type": "code",
   "execution_count": 42,
   "id": "547735f8",
   "metadata": {},
   "outputs": [],
   "source": [
    "def search3(nums,target):\n",
    "    low = 0\n",
    "    high = len(nums)-1\n",
    "    while low<=high:\n",
    "        mid=(high-low)//2 + low  \n",
    "        num=nums[mid]\n",
    "        if num == target:\n",
    "            return mid\n",
    "        elif num > target:\n",
    "            high= mid-1\n",
    "        else:\n",
    "            low =  mid+1\n",
    "# when low > high, meand no target, then we need to find the index of low, it is where we can insert the target\n",
    "    return low"
   ]
  },
  {
   "cell_type": "code",
   "execution_count": 45,
   "id": "41ca1b89",
   "metadata": {},
   "outputs": [
    {
     "data": {
      "text/plain": [
       "2"
      ]
     },
     "execution_count": 45,
     "metadata": {},
     "output_type": "execute_result"
    }
   ],
   "source": [
    "search3([1,3,5,6],5)"
   ]
  },
  {
   "cell_type": "markdown",
   "id": "d5c549f7",
   "metadata": {},
   "source": [
    "## 977. 有序数组的平方\n",
    "Given an integer array nums sorted in non-decreasing order, return an array of the squares of each number sorted in non-decreasing order.\n",
    "\n",
    "Example 1:\n",
    "\n",
    "Input: nums = [-4,-1,0,3,10]\n",
    "Output: [0,1,9,16,100]\n",
    "Explanation: After squaring, the array becomes [16,1,0,9,100].\n",
    "After sorting, it becomes [0,1,9,16,100].\n",
    "Example 2:\n",
    "\n",
    "Input: nums = [-7,-3,2,3,11]\n",
    "Output: [4,9,9,49,121]\n",
    "\n",
    "Constraints:\n",
    "\n",
    "1 <= nums.length <= 104\n",
    "-104 <= nums[i] <= 104\n",
    "nums is sorted in non-decreasing order.\n",
    "来源：力扣（LeetCode）链接：https://leetcode-cn.com/problems/squares-of-a-sorted-array\n",
    "\n",
    "\n",
    "因为nums是非递减顺序排序的数组，要求返回每个数字的平方组成的新数组，要求也按非递减顺序排序。\n",
    "- 1.所以可以用双指针的解法,左指针i指向0，右指针j指向len(nums)-1\n",
    "- 2.新建一个长度为n-1的数组temp,pos = n -1\n",
    "- 3.当n2i=num[i]*nums[i]>=n2j=num[j]*nums[j]时，n2i=temp[pos],指针i右移;当n2i=num[i]*nums[i]<n2j=num[j]*nums[j]时，n2j=temp[pos]，指针左移\n",
    "- 4.按照大小依次n2i和n2j放入temp[pos]\n",
    "- 5.当i<j时一直循环，直到当i=j时，得到的temp即为非递减顺序排序的每个数字的平方组成的新数组\n",
    "链接：https://leetcode-cn.com/problems/squares-of-a-sorted-array/solution/977shuang-zhi-zhen-jie-you-xu-shu-zu-de-u9cte/"
   ]
  },
  {
   "cell_type": "code",
   "execution_count": 2,
   "id": "1f1f4c84",
   "metadata": {},
   "outputs": [
    {
     "data": {
      "text/plain": [
       "[0, 1, 9, 16, 100]"
      ]
     },
     "execution_count": 2,
     "metadata": {},
     "output_type": "execute_result"
    }
   ],
   "source": [
    "# Solution 1 sorted 直接排序  44ms\n",
    "def sortedSquares(nums):\n",
    "    return sorted(num*num for num in nums)\n",
    "a=[-4,-1,0,3,10]\n",
    "sortedSquares(a)"
   ]
  },
  {
   "cell_type": "code",
   "execution_count": null,
   "id": "4f0eca88",
   "metadata": {},
   "outputs": [],
   "source": [
    "# 插入排序方法  超时\n",
    "# 首先，预设num数组并将nums[0]的平方放入num数组，默认该元素num[0]已经被排序。\n",
    "# 接着依次遍历nums数组取出每个元素，在已经排序的num数组中从后向前扫描，\n",
    "# 如果扫描到的元素大于待插入元素，将该元素移到下一位置，直到找到已排序的元素小于或者等于待插入元素的位置，将元素插入到该位置，重复以上步骤，\n",
    "# 直到将nums数组中的元素全部取出并完成排序！\n",
    "# 问题：时间太久了！\n",
    "\n",
    "class Solution:\n",
    "    def sortedSquares(self, nums: List[int]) -> List[int]:\n",
    "        num = []\n",
    "        num.append(nums[0]**2)\n",
    "        for i in range(1, len(nums)):\n",
    "            num.append(-1)\n",
    "            temp = nums[i]**2\n",
    "            j = i - 1\n",
    "            while temp < num[j]:\n",
    "                num[j+1] = num[j]\n",
    "                j = j - 1\n",
    "                if j < 0 : break\n",
    "            num[j+1] = temp\n",
    "        return num\n"
   ]
  },
  {
   "cell_type": "code",
   "execution_count": 4,
   "id": "0ad9cadc",
   "metadata": {},
   "outputs": [
    {
     "data": {
      "text/plain": [
       "[0, 1, 9, 16, 100]"
      ]
     },
     "execution_count": 4,
     "metadata": {},
     "output_type": "execute_result"
    }
   ],
   "source": [
    "# Solution 2 双指针 56ms\n",
    "# 思路：1.数组原本是有序的，只不过负数平方后可能称为最大数了\n",
    "# 2. 那么数组平方的最大值就在数组的两端，不是最左边就是最右边，不可能是中间\n",
    "# 3.用双指针指向数组的两端，必定能找到平方后的最大值，放到新数组末尾，之后不断想中间移动。\n",
    "def sortedSquares(nums):\n",
    "    n=len(nums)\n",
    "    ans = [0]*n\n",
    "    # 从两端开始遍历，找到平方后最大元素放到数组末尾\n",
    "    i,j,pos=0,n-1,n-1\n",
    "    while i<=j:\n",
    "        if nums[i]*nums[i]>nums[j]*nums[j]:\n",
    "            ans[pos]=nums[i]*nums[i]\n",
    "            i +=1\n",
    "        else:\n",
    "            ans[pos]=nums[j]*nums[j]\n",
    "            j -=1\n",
    "        pos -=1\n",
    "    return ans\n",
    "sortedSquares(a)\n"
   ]
  },
  {
   "cell_type": "code",
   "execution_count": 6,
   "id": "32e09abb",
   "metadata": {},
   "outputs": [
    {
     "ename": "SyntaxError",
     "evalue": "invalid syntax (133246986.py, line 3)",
     "output_type": "error",
     "traceback": [
      "\u001b[0;36m  File \u001b[0;32m\"/var/folders/z6/0pj6l08s5pb16r3bm3nnh_5m0000gn/T/ipykernel_49864/133246986.py\"\u001b[0;36m, line \u001b[0;32m3\u001b[0m\n\u001b[0;31m    class Solution {\u001b[0m\n\u001b[0m                   ^\u001b[0m\n\u001b[0;31mSyntaxError\u001b[0m\u001b[0;31m:\u001b[0m invalid syntax\n"
     ]
    }
   ],
   "source": [
    "# JAVA\n",
    "// 直接排序\n",
    "class Solution {\n",
    "    public int[] sortedSquares(int[] nums) {\n",
    "        int[] ans = new int[nums.length];\n",
    "        for (int i = 0; i < nums.length; ++i) {\n",
    "            ans[i] = nums[i] * nums[i];\n",
    "        }\n",
    "        Arrays.sort(ans);\n",
    "        return ans;\n",
    "    }\n",
    "}\n",
    "\n",
    "// 双指针\n",
    "class Solution {\n",
    "    public int[] sortedSquares(int[] nums) {\n",
    "        int n = nums.length;\n",
    "        int[] ans = new int[n];\n",
    "        // 从两端开始遍历, 找到平方最大元素放到数组末尾\n",
    "        for (int i = 0, j = n - 1, pos = n - 1; i <= j;) {\n",
    "            if (nums[i] * nums[i] > nums[j] * nums[j]) {\n",
    "                ans[pos] = nums[i] * nums[i];\n",
    "                ++i;\n",
    "            } else {\n",
    "                ans[pos] = nums[j] * nums[j];\n",
    "                --j;\n",
    "            }\n",
    "            --pos;\n",
    "        }\n",
    "        return ans;\n",
    "    }\n",
    "}"
   ]
  },
  {
   "cell_type": "markdown",
   "id": "009b9ef2",
   "metadata": {},
   "source": [
    "## 189. Rotate Array\n",
    "Given an array, rotate the array to the right by k steps, where k is non-negative.\n",
    "\n",
    "Example 1:\n",
    "\n",
    "Input: nums = [1,2,3,4,5,6,7], k = 3\n",
    "Output: [5,6,7,1,2,3,4]\n",
    "Explanation:\n",
    "rotate 1 steps to the right: [7,1,2,3,4,5,6]\n",
    "rotate 2 steps to the right: [6,7,1,2,3,4,5]\n",
    "rotate 3 steps to the right: [5,6,7,1,2,3,4]\n",
    "Example 2:\n",
    "\n",
    "Input: nums = [-1,-100,3,99], k = 2\n",
    "Output: [3,99,-1,-100]\n",
    "Explanation: \n",
    "rotate 1 steps to the right: [99,-1,-100,3]\n",
    "rotate 2 steps to the right: [3,99,-1,-100]\n",
    " \n",
    "\n",
    "Constraints:\n",
    "\n",
    "1 <= nums.length <= 105\n",
    "-231 <= nums[i] <= 231 - 1\n",
    "0 <= k <= 105\n",
    "\n",
    "来源：力扣（LeetCode）链接：https://leetcode-cn.com/problems/rotate-array\n"
   ]
  },
  {
   "cell_type": "code",
   "execution_count": 23,
   "id": "f85c9388",
   "metadata": {},
   "outputs": [],
   "source": [
    "# Solution 1 三个翻转 ， 整体翻转， 前k翻转，后k翻转 32ms\n",
    "def rotate(nums,k):\n",
    "    n=len(nums)\n",
    "    k %=n # k=k%n 因为n 大于k,所以就是k。这样是为了以免出现k>n的情况。保证一定在n以内。\n",
    "    nums.reverse()\n",
    "    nums[:k] = list(reversed(nums[:k])) # nums[:k]=nums[:k][::-1]\n",
    "    nums[k:] = list(reversed(nums[k:]))\n",
    "    return nums\n",
    "\n"
   ]
  },
  {
   "cell_type": "code",
   "execution_count": null,
   "id": "b05bd609",
   "metadata": {},
   "outputs": [],
   "source": [
    "# Solution 2 拼接 36ms\n",
    "#因为我们改变了nums的内存地址，python的切片是实例化了一个新的对象，所以我们可以临时用个新的列表做切片\n",
    "#然后把新的数据逐个赋值到nums\n",
    "def rotate(nums, k) -> None:\n",
    "    n = len(nums)\n",
    "    if k > n:\n",
    "        \n",
    "        k = k % n\n",
    "    temp = nums[n - k:] + nums[:n - k]\n",
    "    for i in range(n):\n",
    "        nums[i] = temp[i]\n",
    "    # nums[:] = nums[-k:] + nums[:-k]"
   ]
  },
  {
   "cell_type": "code",
   "execution_count": 28,
   "id": "9eb2743f",
   "metadata": {},
   "outputs": [],
   "source": [
    "# Solution 3 删除最后一个，插入到最前面0，逐个进行K次。 1908ms\n",
    "def rotate(nums, k) -> None:\n",
    "    n = len(nums)\n",
    "    k %= n\n",
    "    for _ in range(k):\n",
    "        nums.insert(0, nums.pop())\n",
    "    \n",
    "\n",
    "#作者：powcai 链接：https://leetcode-cn.com/problems/rotate-array/solution/chao-duo-chong-fang-fa-by-powcai/\n"
   ]
  },
  {
   "cell_type": "code",
   "execution_count": null,
   "id": "f755407a",
   "metadata": {},
   "outputs": [],
   "source": []
  },
  {
   "cell_type": "code",
   "execution_count": null,
   "id": "801b5c6a",
   "metadata": {},
   "outputs": [],
   "source": []
  },
  {
   "cell_type": "code",
   "execution_count": null,
   "id": "adaacf6e",
   "metadata": {},
   "outputs": [],
   "source": []
  }
 ],
 "metadata": {
  "kernelspec": {
   "display_name": "Python 3",
   "language": "python",
   "name": "python3"
  },
  "language_info": {
   "codemirror_mode": {
    "name": "ipython",
    "version": 3
   },
   "file_extension": ".py",
   "mimetype": "text/x-python",
   "name": "python",
   "nbconvert_exporter": "python",
   "pygments_lexer": "ipython3",
   "version": "3.9.6"
  }
 },
 "nbformat": 4,
 "nbformat_minor": 5
}
