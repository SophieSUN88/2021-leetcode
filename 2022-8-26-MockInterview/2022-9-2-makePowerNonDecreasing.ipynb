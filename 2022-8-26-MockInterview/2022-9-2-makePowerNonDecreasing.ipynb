{
 "cells": [
  {
   "cell_type": "markdown",
   "metadata": {},
   "source": [
    "### makePowerNonDecreasing(power):\n",
    "\n",
    "given you a list, you can add a same value to a range of continuous val in the list, get the minimum sum of adding value that make sure the list become undecreasing\n",
    "\n",
    "input: int power[n]:the computational powers of n different servers\n",
    "\n",
    "return the minimum possible sum of integers required to make the array non-decreasing\n",
    "\n",
    "Example 1:\n",
    "- [3, 1, 1] -> add 2 from 2 to 3 -> minimum sum is 2\n",
    "\n",
    "Example 2:\n",
    "- [3, 1, 1, 6, 2, 2] -> 1. add 2 from 2 to 3 2.add 4 from 4 to 5 -> sum of add value of the operation is 6\n",
    "\n",
    "Example 3:\n",
    "- [3,1,0 ] ->add 2 [3,3,2] -> add 1[3,3,3] --> sum =3\n",
    "\n",
    "\n",
    "\n"
   ]
  },
  {
   "cell_type": "code",
   "execution_count": null,
   "metadata": {},
   "outputs": [],
   "source": [
    "def makePowerNonDecreasing(power):\n",
    "    res = 0\n",
    "    for i in range(1, len(power)):\n",
    "        res += power[i] - power[i - 1] if power[i] - power[i - 1] < 0 else 0 # change the decreasing relationship\n",
    "    return res "
   ]
  },
  {
   "cell_type": "code",
   "execution_count": null,
   "metadata": {},
   "outputs": [],
   "source": [
    "def makePowerNonDecreasing(power):\n",
    "    # left = 0\n",
    "    # right = 0\n",
    "    # n = len(power)\n",
    "    # count = 0 \n",
    "    # while right < n:\n",
    "    #     if power[right] <= power[left]:\n",
    "    #         right +=1\n",
    "    #     else:\n",
    "    #         count += power[left] - min(power[left:right+1])\n",
    "    #         left = right\n",
    "    # return count"
   ]
  }
 ],
 "metadata": {
  "kernelspec": {
   "display_name": "Python 3.9.6 64-bit",
   "language": "python",
   "name": "python3"
  },
  "language_info": {
   "name": "python",
   "version": "3.9.6"
  },
  "orig_nbformat": 4,
  "vscode": {
   "interpreter": {
    "hash": "aee8b7b246df8f9039afb4144a1f6fd8d2ca17a180786b69acc140d282b71a49"
   }
  }
 },
 "nbformat": 4,
 "nbformat_minor": 2
}
