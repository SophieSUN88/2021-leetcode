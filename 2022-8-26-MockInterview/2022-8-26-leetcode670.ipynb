{
 "cells": [
  {
   "cell_type": "markdown",
   "metadata": {},
   "source": [
    "### 670. Maximum Swap\n",
    "Medium\n",
    "\n",
    "You are given an integer num. You can swap two digits at most once to get the maximum valued number.\n",
    "\n",
    "Return the maximum valued number you can get.\n",
    "\n",
    " \n",
    "\n",
    "Example 1:\n",
    "\n",
    "Input: num = 2736\n",
    "Output: 7236\n",
    "Explanation: Swap the number 2 and the number 7.\n",
    "\n",
    "Example 2:\n",
    "\n",
    "Input: num = 9973\n",
    "Output: 9973\n",
    "Explanation: No swap.\n",
    " \n",
    "\n",
    "Constraints:\n",
    "\n",
    "0 <= num <= 108\n",
    "\n",
    "https://leetcode.com/problems/maximum-swap/"
   ]
  },
  {
   "cell_type": "code",
   "execution_count": null,
   "metadata": {},
   "outputs": [],
   "source": [
    "#670. Maximum Swap\n",
    "def getmaximumValue(num):\n",
    "    num = list(str(num))\n",
    "    if len(num) <= 1:\n",
    "        return num\n",
    "    for i in range(len(num) - 1):\n",
    "        if num[i] < num[i + 1]: # check point\n",
    "            max_val = num[i + 1]\n",
    "            j = i + 1\n",
    "            while j < len(num):\n",
    "                if max_val <= num[j]:\n",
    "                    pos_need_to_change_after = j\n",
    "                    max_val = num[j]\n",
    "                j += 1\n",
    "            num[i], num[pos_need_to_change_after] = num[pos_need_to_change_after], num[i]\n",
    "            return int(\"\".join(num))\n",
    "    return int(\"\".join(num))\n",
    "# print(getmaximumValue(92736)) "
   ]
  },
  {
   "cell_type": "code",
   "execution_count": null,
   "metadata": {},
   "outputs": [],
   "source": [
    "# Brute Force\n",
    "class Solution:\n",
    "    def maximumSwap(self, nums: int) -> int:\n",
    "        \n",
    "        nums=list(str(nums))\n",
    "        l=len(nums)\n",
    "        k=1\n",
    "        for i in range(l-1):\n",
    "            m=i\n",
    "            for j in range(i+1,l):\n",
    "                if nums[m]<=nums[j]:\n",
    "                    m=j\n",
    "            if nums[m]!=nums[i] and k>0:\n",
    "                nums[m],nums[i]=nums[i],nums[m]\n",
    "                k-=1\n",
    "            if k==0:\n",
    "                break\n",
    "        \n",
    "        s=''.join(nums)\n",
    "        return int(s)"
   ]
  }
 ],
 "metadata": {
  "kernelspec": {
   "display_name": "Python 3.9.6 64-bit",
   "language": "python",
   "name": "python3"
  },
  "language_info": {
   "name": "python",
   "version": "3.9.6"
  },
  "orig_nbformat": 4,
  "vscode": {
   "interpreter": {
    "hash": "aee8b7b246df8f9039afb4144a1f6fd8d2ca17a180786b69acc140d282b71a49"
   }
  }
 },
 "nbformat": 4,
 "nbformat_minor": 2
}
