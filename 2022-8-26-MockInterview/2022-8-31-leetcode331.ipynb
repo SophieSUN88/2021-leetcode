{
 "cells": [
  {
   "cell_type": "markdown",
   "metadata": {},
   "source": [
    "### 331. Verify Preorder Serialization of a Binary Tree\n",
    "Medium\n",
    "\n",
    "One way to serialize a binary tree is to use preorder traversal. When we encounter a non-null node, we record the node's value. If it is a null node, we record using a sentinel value such as '#'.\n",
    "\n",
    "\n",
    "For example, the above binary tree can be serialized to the string \"9,3,4,#,#,1,#,#,2,#,6,#,#\", where '#' represents a null node.\n",
    "\n",
    "Given a string of comma-separated values preorder, return true if it is a correct preorder traversal serialization of a binary tree.\n",
    "\n",
    "It is guaranteed that each comma-separated value in the string must be either an integer or a character '#' representing null pointer.\n",
    "\n",
    "You may assume that the input format is always valid.\n",
    "\n",
    "For example, it could never contain two consecutive commas, such as \"1,,3\".\n",
    "Note: You are not allowed to reconstruct the tree.\n",
    "\n",
    " \n",
    "\n",
    "Example 1:\n",
    "\n",
    "Input: preorder = \"9,3,4,#,#,1,#,#,2,#,6,#,#\"\n",
    "Output: true\n",
    "tree: \n",
    "\n",
    "      9\n",
    "   3      4\n",
    "'#' '#'  1 '#'\n",
    "       '#' 2\n",
    "         '#' 6\n",
    "           '#' '#'\n",
    "\n",
    "\n",
    "\n",
    "Example 2:\n",
    "\n",
    "Input: preorder = \"1,#\"\n",
    "Output: false\n",
    "\n",
    "Example 3:\n",
    "\n",
    "Input: preorder = \"9,#,#,1\"\n",
    "Output: false\n",
    " \n",
    "\n",
    "Constraints:\n",
    "\n",
    "1 <= preorder.length <= 104\n",
    "preorder consist of integers in the range [0, 100] and '#' separated by commas ','."
   ]
  },
  {
   "cell_type": "code",
   "execution_count": 4,
   "metadata": {},
   "outputs": [
    {
     "name": "stdout",
     "output_type": "stream",
     "text": [
      "['9', '3', '4', '#', '#', '1', '#', '#', '2', '#', '6', '#', '#']\n"
     ]
    },
    {
     "data": {
      "text/plain": [
       "True"
      ]
     },
     "execution_count": 4,
     "metadata": {},
     "output_type": "execute_result"
    }
   ],
   "source": [
    "# bruce force\n",
    "class Solution:\n",
    "    def isValidSerialization(self, preorder: str) -> bool:\n",
    "        count = 1\n",
    "        preorder = preorder.split(',')\n",
    "        print(preorder)\n",
    "        for num in preorder:\n",
    "            # one node takes one count\n",
    "            count -= 1\n",
    "            # no more count available\n",
    "            if count < 0:\n",
    "                return False\n",
    "            if num != '#':\n",
    "                count +=2\n",
    "        return count == 0\n",
    "\n",
    "\n",
    "example = Solution()\n",
    "example.isValidSerialization(preorder = \"9,3,4,#,#,1,#,#,2,#,6,#,#\" )"
   ]
  },
  {
   "cell_type": "markdown",
   "metadata": {},
   "source": [
    "Time complexity: O(N)\n",
    "\n",
    "Space complexity: O(1)\n",
    "\n",
    "- Runtime: 42 ms, faster than 80.37% of Python3 online submissions for Verify Preorder Serialization of a Binary Tree.\n",
    "- Memory Usage: 14.1 MB, less than 14.35% of Python3 online submissions for Verify Preorder Serialization of a Binary Tree."
   ]
  },
  {
   "cell_type": "code",
   "execution_count": 5,
   "metadata": {},
   "outputs": [
    {
     "data": {
      "text/plain": [
       "True"
      ]
     },
     "execution_count": 5,
     "metadata": {},
     "output_type": "execute_result"
    }
   ],
   "source": [
    "# slack\n",
    "class Solution(object):\n",
    "    def isValidSerialization(self, preorder):\n",
    "        stack = []\n",
    "        for node in preorder.split(','):\n",
    "            stack.append(node)\n",
    "            while len(stack) >= 3 and stack[-1] == stack[-2] == '#' and stack[-3] != '#':\n",
    "                stack.pop(), stack.pop(), stack.pop()\n",
    "                stack.append('#')\n",
    "        return len(stack) == 1 and stack.pop() == '#'\n",
    "\n",
    "example = Solution()\n",
    "example.isValidSerialization(preorder = \"9,3,4,#,#,1,#,#,2,#,6,#,#\" )"
   ]
  },
  {
   "cell_type": "markdown",
   "metadata": {},
   "source": [
    "- Runtime: 35 ms, faster than 93.74% of Python3 online submissions for Verify Preorder Serialization of a Binary Tree.\n",
    "- Memory Usage: 14 MB, less than 14.35% of Python3 online submissions for Verify Preorder Serialization of a Binary Tree."
   ]
  },
  {
   "cell_type": "code",
   "execution_count": null,
   "metadata": {},
   "outputs": [],
   "source": []
  }
 ],
 "metadata": {
  "kernelspec": {
   "display_name": "Python 3.9.6 64-bit",
   "language": "python",
   "name": "python3"
  },
  "language_info": {
   "codemirror_mode": {
    "name": "ipython",
    "version": 3
   },
   "file_extension": ".py",
   "mimetype": "text/x-python",
   "name": "python",
   "nbconvert_exporter": "python",
   "pygments_lexer": "ipython3",
   "version": "3.9.6"
  },
  "orig_nbformat": 4,
  "vscode": {
   "interpreter": {
    "hash": "aee8b7b246df8f9039afb4144a1f6fd8d2ca17a180786b69acc140d282b71a49"
   }
  }
 },
 "nbformat": 4,
 "nbformat_minor": 2
}
