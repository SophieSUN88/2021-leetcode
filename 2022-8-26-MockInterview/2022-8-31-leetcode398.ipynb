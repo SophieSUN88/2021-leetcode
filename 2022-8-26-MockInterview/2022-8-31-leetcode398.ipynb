{
 "cells": [
  {
   "cell_type": "markdown",
   "metadata": {},
   "source": [
    "### 398. Random Pick Index\n",
    "Medium\n",
    "\n",
    "Given an integer array nums with possible duplicates, randomly output the index of a given target number. You can assume that the given target number must exist in the array.\n",
    "\n",
    "Implement the Solution class:\n",
    "\n",
    "Solution(int[] nums) Initializes the object with the array nums.\n",
    "int pick(int target) Picks a random index i from nums where nums[i] == target. If there are multiple valid i's, then each index should have an equal probability of returning.\n",
    " \n",
    "\n",
    "Example 1:\n",
    "\n",
    "Input\n",
    "[\"Solution\", \"pick\", \"pick\", \"pick\"]\n",
    "[[[1, 2, 3, 3, 3]], [3], [1], [3]]\n",
    "Output\n",
    "[null, 4, 0, 2]\n",
    "\n",
    "Explanation\n",
    "Solution solution = new Solution([1, 2, 3, 3, 3]);\n",
    "solution.pick(3); // It should return either index 2, 3, or 4 randomly. Each index should have equal probability of returning.\n",
    "solution.pick(1); // It should return 0. Since in the array only nums[0] is equal to 1.\n",
    "solution.pick(3); // It should return either index 2, 3, or 4 randomly. Each index should have equal probability of returning.\n",
    " \n",
    "\n",
    "Constraints:\n",
    "\n",
    "1 <= nums.length <= 2 * 104\n",
    "-231 <= nums[i] <= 231 - 1\n",
    "target is an integer from nums.\n",
    "At most 104 calls will be made to pick."
   ]
  },
  {
   "cell_type": "code",
   "execution_count": 4,
   "metadata": {},
   "outputs": [
    {
     "data": {
      "text/plain": [
       "2"
      ]
     },
     "execution_count": 4,
     "metadata": {},
     "output_type": "execute_result"
    }
   ],
   "source": [
    "from doctest import Example\n",
    "import random\n",
    "class Solution:\n",
    "\n",
    "    def __init__(self, nums: list[int]):\n",
    "        self.nums_dict = {}\n",
    "        for i, num in enumerate(nums):\n",
    "            self.nums_dict[num] = self.nums_dict.get(num,[]) + [i]\n",
    "\n",
    "        \n",
    "\n",
    "    def pick(self, target: int) -> int:\n",
    "        return random.choice(self.nums_dict[target])\n",
    "        \n",
    "\n",
    "\n",
    "# Your Solution object will be instantiated and called as such:\n",
    "# obj = Solution(nums)\n",
    "# param_1 = obj.pick(target)\n",
    "nums = [1,2,3,3,3]\n",
    "example = Solution(nums)\n",
    "example.pick(target = 3)"
   ]
  },
  {
   "cell_type": "markdown",
   "metadata": {},
   "source": [
    "Complexity Analysis\n",
    "- Time Complexity\n",
    "\n",
    "If N represents the size of the nums array, building indices takes O(N) time.\n",
    "\n",
    "pick method takes \n",
    "O(1) time.\n",
    "\n",
    "- Space Complexity: \n",
    "O(N) required for indices."
   ]
  },
  {
   "cell_type": "markdown",
   "metadata": {},
   "source": [
    "- Runtime: 1216 ms, faster than 5.06% of Python3 online submissions for Random Pick Index.\n",
    "- Memory Usage: 23.5 MB, less than 78.49% of Python3 online submissions for Random Pick Index."
   ]
  }
 ],
 "metadata": {
  "kernelspec": {
   "display_name": "Python 3.9.6 64-bit",
   "language": "python",
   "name": "python3"
  },
  "language_info": {
   "codemirror_mode": {
    "name": "ipython",
    "version": 3
   },
   "file_extension": ".py",
   "mimetype": "text/x-python",
   "name": "python",
   "nbconvert_exporter": "python",
   "pygments_lexer": "ipython3",
   "version": "3.9.6"
  },
  "orig_nbformat": 4,
  "vscode": {
   "interpreter": {
    "hash": "aee8b7b246df8f9039afb4144a1f6fd8d2ca17a180786b69acc140d282b71a49"
   }
  }
 },
 "nbformat": 4,
 "nbformat_minor": 2
}
