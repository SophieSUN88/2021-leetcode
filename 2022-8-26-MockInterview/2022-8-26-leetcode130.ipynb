{
 "cells": [
  {
   "cell_type": "markdown",
   "metadata": {},
   "source": [
    "### 130. Surrounded Regions\n",
    "Medium\n",
    "\n",
    "Given an m x n matrix board containing 'X' and 'O', capture all regions that are 4-directionally surrounded by 'X'.\n",
    "\n",
    "A region is captured by flipping all 'O's into 'X's in that surrounded region.\n",
    "\n",
    " \n",
    "\n",
    "Example 1:\n",
    "\n",
    "\n",
    "Input: board = [[\"X\",\"X\",\"X\",\"X\"],[\"X\",\"O\",\"O\",\"X\"],[\"X\",\"X\",\"O\",\"X\"],[\"X\",\"O\",\"X\",\"X\"]]\n",
    "Output: [[\"X\",\"X\",\"X\",\"X\"],[\"X\",\"X\",\"X\",\"X\"],[\"X\",\"X\",\"X\",\"X\"],[\"X\",\"O\",\"X\",\"X\"]]\n",
    "Explanation: Notice that an 'O' should not be flipped if:\n",
    "- It is on the border, or\n",
    "- It is adjacent to an 'O' that should not be flipped.\n",
    "The bottom 'O' is on the border, so it is not flipped.\n",
    "The other three 'O' form a surrounded region, so they are flipped.\n",
    "\n",
    "Example 2:\n",
    "\n",
    "Input: board = [[\"X\"]]\n",
    "Output: [[\"X\"]]\n",
    " \n",
    "\n",
    "Constraints:\n",
    "\n",
    "m == board.length\n",
    "n == board[i].length\n",
    "1 <= m, n <= 200\n",
    "board[i][j] is 'X' or 'O'."
   ]
  },
  {
   "cell_type": "code",
   "execution_count": null,
   "metadata": {},
   "outputs": [],
   "source": [
    "from typing import List\n",
    "class Solution:\n",
    "    def solve(self, board: List[List[str]]) -> None:\n",
    "        \"\"\"\n",
    "        Do not return anything, modify board in-place instead.\n",
    "        \"\"\"\n",
    "        \n",
    "        row, col = len(board), len(board[0])\n",
    "        mark = [[0] * col for _ in range(row)]\n",
    "        def dfs(x, y):\n",
    "            if 0 <= x < row and 0<= y < col:\n",
    "                if board[x][y] == 'O' and mark[x][y] != 1:\n",
    "                    mark[x][y] = 1\n",
    "                    dfs(x + 1, y)\n",
    "                    dfs(x - 1, y)\n",
    "                    dfs(x, y - 1)\n",
    "                    dfs(x, y + 1)\n",
    "        for j in range(col):\n",
    "            dfs(0, j)\n",
    "            dfs(row - 1, j)\n",
    "        for i in range(row):\n",
    "            dfs(i, 0)\n",
    "            dfs(i, col - 1)\n",
    "        for x in range(row):\n",
    "            for y in range(col):\n",
    "                if board[x][y] == 'O' and mark[x][y] != 1:\n",
    "                    board[x][y] = 'X'"
   ]
  },
  {
   "cell_type": "code",
   "execution_count": null,
   "metadata": {},
   "outputs": [],
   "source": []
  }
 ],
 "metadata": {
  "kernelspec": {
   "display_name": "Python 3.9.6 64-bit",
   "language": "python",
   "name": "python3"
  },
  "language_info": {
   "name": "python",
   "version": "3.9.6"
  },
  "orig_nbformat": 4,
  "vscode": {
   "interpreter": {
    "hash": "aee8b7b246df8f9039afb4144a1f6fd8d2ca17a180786b69acc140d282b71a49"
   }
  }
 },
 "nbformat": 4,
 "nbformat_minor": 2
}
