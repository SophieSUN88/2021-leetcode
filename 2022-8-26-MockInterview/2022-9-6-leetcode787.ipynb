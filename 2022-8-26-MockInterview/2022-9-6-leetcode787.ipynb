{
 "cells": [
  {
   "cell_type": "markdown",
   "metadata": {},
   "source": [
    "### 787. Cheapest Flights Within K Stops\n",
    "Medium\n",
    "\n",
    "There are n cities connected by some number of flights. You are given an array flights where flights[i] = [fromi, toi, pricei] indicates that there is a flight from city fromi to city toi with cost pricei.\n",
    "\n",
    "You are also given three integers src, dst, and k, return the cheapest price from src to dst with at most k stops. If there is no such route, return -1.\n",
    "\n",
    " \n",
    "\n",
    "Example 1:\n",
    "\n",
    "\n",
    "Input: n = 4, flights = [[0,1,100],[1,2,100],[2,0,100],[1,3,600],[2,3,200]], src = 0, dst = 3, k = 1\n",
    "Output: 700\n",
    "Explanation:\n",
    "The graph is shown above.\n",
    "The optimal path with at most 1 stop from city 0 to 3 is marked in red and has cost 100 + 600 = 700.\n",
    "Note that the path through cities [0,1,2,3] is cheaper but is invalid because it uses 2 stops.\n",
    "\n",
    "\n",
    "Example 2:\n",
    "\n",
    "\n",
    "Input: n = 3, flights = [[0,1,100],[1,2,100],[0,2,500]], src = 0, dst = 2, k = 1\n",
    "Output: 200\n",
    "Explanation:\n",
    "The graph is shown above.\n",
    "The optimal path with at most 1 stop from city 0 to 2 is marked in red and has cost 100 + 100 = 200.\n",
    "Example 3:\n",
    "\n",
    "\n",
    "Input: n = 3, flights = [[0,1,100],[1,2,100],[0,2,500]], src = 0, dst = 2, k = 0\n",
    "Output: 500\n",
    "Explanation:\n",
    "The graph is shown above.\n",
    "The optimal path with no stops from city 0 to 2 is marked in red and has cost 500.\n",
    " \n",
    "\n",
    "Constraints:\n",
    "\n",
    "1 <= n <= 100\n",
    "0 <= flights.length <= (n * (n - 1) / 2)\n",
    "flights[i].length == 3\n",
    "0 <= fromi, toi < n\n",
    "fromi != toi\n",
    "1 <= pricei <= 104\n",
    "There will not be any multiple flights between two cities.\n",
    "0 <= src, dst, k < n\n",
    "src != dst\n"
   ]
  },
  {
   "cell_type": "code",
   "execution_count": null,
   "metadata": {},
   "outputs": [],
   "source": [
    "class Solution:\n",
    "    def findCheapestPrice(self, n: int, flights: list[list[int]], src: int, dst: int, k: int) -> int:\n",
    "        def checkPath(src,dst,count):\n",
    "            if dst == src:\n",
    "                return count\n",
    "            for temp in src.neigbours():\n",
    "                count = checkPath(temp,dst,count+1)\n",
    "                if count > k :\n",
    "                    continue\n",
    "                else:\n",
    "                    counts.append(count)"
   ]
  },
  {
   "cell_type": "code",
   "execution_count": null,
   "metadata": {},
   "outputs": [],
   "source": [
    "def checkPath(start,end,count):\n",
    "    \n"
   ]
  },
  {
   "cell_type": "code",
   "execution_count": null,
   "metadata": {},
   "outputs": [],
   "source": []
  }
 ],
 "metadata": {
  "kernelspec": {
   "display_name": "Python 3.9.6 64-bit",
   "language": "python",
   "name": "python3"
  },
  "language_info": {
   "name": "python",
   "version": "3.9.6"
  },
  "orig_nbformat": 4,
  "vscode": {
   "interpreter": {
    "hash": "aee8b7b246df8f9039afb4144a1f6fd8d2ca17a180786b69acc140d282b71a49"
   }
  }
 },
 "nbformat": 4,
 "nbformat_minor": 2
}
