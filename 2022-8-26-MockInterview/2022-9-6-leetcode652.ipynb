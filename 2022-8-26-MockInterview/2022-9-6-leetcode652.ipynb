{
 "cells": [
  {
   "cell_type": "markdown",
   "metadata": {},
   "source": [
    "### 652. Find Duplicate Subtrees\n",
    "Medium\n",
    "\n",
    "Given the root of a binary tree, return all duplicate subtrees.\n",
    "\n",
    "For each kind of duplicate subtrees, you only need to return the root node of any one of them.\n",
    "\n",
    "Two trees are duplicate if they have the same structure with the same node values.\n",
    "\n",
    " \n",
    "\n",
    "Example 1:\n",
    "\n",
    "\n",
    "Input: root = [1,2,3,4,null,2,4,null,null,4]\n",
    "Output: [[2,4],[4]]\n",
    "\n",
    "Example 2:\n",
    "\n",
    "\n",
    "Input: root = [2,1,1]\n",
    "Output: [[1]]\n",
    "\n",
    "Example 3:\n",
    "\n",
    "\n",
    "Input: root = [2,2,2,3,null,3,null]\n",
    "Output: [[2,3],[3]]\n",
    " \n",
    "\n",
    "Constraints:\n",
    "\n",
    "The number of the nodes in the tree will be in the range [1, 10^4]\n",
    "-200 <= Node.val <= 200\n"
   ]
  },
  {
   "cell_type": "code",
   "execution_count": 11,
   "metadata": {},
   "outputs": [
    {
     "name": "stdout",
     "output_type": "stream",
     "text": [
      "subtree: 2,4,#\n",
      "subtree: 2,4,#\n",
      "subtree: 3,2,4,#,4\n",
      "subtree: 1,2,4,#,3,2,4,#,4\n"
     ]
    },
    {
     "data": {
      "text/plain": [
       "{<__main__.TreeNode at 0x7f8d81b956a0>, <__main__.TreeNode at 0x7f8d81b95760>}"
      ]
     },
     "execution_count": 11,
     "metadata": {},
     "output_type": "execute_result"
    }
   ],
   "source": [
    "# Definition for a binary tree node.\n",
    "\n",
    "class TreeNode:\n",
    "    def __init__(self, val=0, left=None, right=None):\n",
    "        self.val = val\n",
    "        self.left = left\n",
    "        self.right = right\n",
    "class Solution:\n",
    "    def __init__(self):\n",
    "        self.memo = {}\n",
    "        self.res = set()\n",
    "\n",
    "    def findDuplicateSubtrees(self, root):\n",
    "        self.check(root)\n",
    "        return self.res\n",
    "\n",
    "    def check(self, node):\n",
    "        if not node:\n",
    "            return '#'\n",
    "        subtree = ''\n",
    "        if not node.left and not node.right:\n",
    "            subtree += str(node.val)\n",
    "            self.memo[subtree] = self.memo.get(subtree, 0 ) + 1\n",
    "            if self.memo[subtree] == 2:\n",
    "                self.res.add(node)\n",
    "            return subtree\n",
    "        \n",
    "        subtree = subtree + str(node.val)\n",
    "        subtree = subtree + ',' + self.check(node.left)\n",
    "        subtree = subtree +',' + self.check(node.right)\n",
    "        print('subtree:',subtree)\n",
    "        # self.memo[subtree] = memo.get(subtree,0) + 1\n",
    "        if subtree not in self.memo:\n",
    "            self.memo[subtree] = 1\n",
    "        else:\n",
    "            self.memo[subtree] +=1\n",
    "            if self.memo[subtree] == 2:\n",
    "                self.res.add(node)\n",
    "        # print(self.res)\n",
    "        return subtree\n",
    "root = TreeNode(1)\n",
    "root.left = TreeNode(2)\n",
    "root.right = TreeNode(3)\n",
    "root.left.left = TreeNode(4)\n",
    "root.right.left = TreeNode(2)\n",
    "root.right.right = TreeNode(4)\n",
    "root.right.left.left = TreeNode(4)\n",
    "example = Solution()\n",
    "example.findDuplicateSubtrees(root)\n",
    "        "
   ]
  },
  {
   "cell_type": "markdown",
   "metadata": {},
   "source": [
    "- Time complexity: O(N) N is the number of nodes\n",
    "- Space complexity: O(N)\n",
    "- Runtime: 89 ms, faster than 71.35% of Python3 online submissions for Find Duplicate Subtrees.\n",
    "- Memory Usage: 23.3 MB, less than 64.00% of Python3 online submissions for Find Duplicate Subtrees."
   ]
  },
  {
   "cell_type": "code",
   "execution_count": 10,
   "metadata": {},
   "outputs": [
    {
     "data": {
      "text/plain": [
       "{<__main__.TreeNode at 0x7f8d81b9e3a0>, <__main__.TreeNode at 0x7f8d81b9e430>}"
      ]
     },
     "execution_count": 10,
     "metadata": {},
     "output_type": "execute_result"
    }
   ],
   "source": [
    "class Solution:\n",
    "    def findDuplicateSubtrees(self, root) :\n",
    "        mapped = {}\n",
    "        ans = set()\n",
    "        def duplicated(node):\n",
    "            if not node:\n",
    "                return '#'\n",
    "            s = ''\n",
    "            if not node.left and not node.right:\n",
    "                s += str(node.val)\n",
    "                mapped[s] = mapped.get(s,0)+1\n",
    "                if mapped[s]==2:\n",
    "                    ans.add(node)\n",
    "                return s\n",
    "            s  = s + str(node.val)\n",
    "            s = s + \",\" + duplicated(node.left)\n",
    "            s = s+ \",\" + duplicated(node.right)\n",
    "            mapped[s]  = mapped.get(s,0)+1\n",
    "            if mapped[s]==2:\n",
    "                ans.add(node)\n",
    "            return s\n",
    "        \n",
    "        duplicated(root)\n",
    "        return ans\n",
    "root = TreeNode(1)\n",
    "root.left = TreeNode(2)\n",
    "root.right = TreeNode(3)\n",
    "root.left.left = TreeNode(4)\n",
    "root.right.left = TreeNode(2)\n",
    "root.right.right = TreeNode(4)\n",
    "root.right.left.left = TreeNode(4)\n",
    "example = Solution()\n",
    "example.findDuplicateSubtrees(root)"
   ]
  },
  {
   "cell_type": "markdown",
   "metadata": {},
   "source": [
    "- Runtime: 168 ms, faster than 12.87% of Python3 online submissions for Find Duplicate Subtrees.\n",
    "- Memory Usage: 23.4 MB, less than 64.00% of Python3 online submissions for Find Duplicate Subtrees."
   ]
  }
 ],
 "metadata": {
  "kernelspec": {
   "display_name": "Python 3.9.6 64-bit",
   "language": "python",
   "name": "python3"
  },
  "language_info": {
   "codemirror_mode": {
    "name": "ipython",
    "version": 3
   },
   "file_extension": ".py",
   "mimetype": "text/x-python",
   "name": "python",
   "nbconvert_exporter": "python",
   "pygments_lexer": "ipython3",
   "version": "3.9.6"
  },
  "orig_nbformat": 4,
  "vscode": {
   "interpreter": {
    "hash": "aee8b7b246df8f9039afb4144a1f6fd8d2ca17a180786b69acc140d282b71a49"
   }
  }
 },
 "nbformat": 4,
 "nbformat_minor": 2
}
