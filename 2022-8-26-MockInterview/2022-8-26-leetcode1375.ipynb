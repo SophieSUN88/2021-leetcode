{
 "cells": [
  {
   "cell_type": "markdown",
   "metadata": {},
   "source": [
    "### 1375. Number of Times Binary String Is Prefix-Aligned\n",
    "Medium\n",
    "\n",
    "You have a 1-indexed binary string of length n where all the bits are 0 initially. We will flip all the bits of this binary string (i.e., change them from 0 to 1) one by one. You are given a 1-indexed integer array flips where flips[i] indicates that the bit at index i will be flipped in the ith step.\n",
    "\n",
    "A binary string is prefix-aligned if, after the ith step, all the bits in the inclusive range [1, i] are ones and all the other bits are zeros.\n",
    "\n",
    "Return the number of times the binary string is prefix-aligned during the flipping process.\n",
    "\n",
    " \n",
    "\n",
    "Example 1:\n",
    "\n",
    "Input: flips = [3,2,4,1,5]\n",
    "Output: 2\n",
    "Explanation: The binary string is initially \"00000\".\n",
    "- After applying step 1: The string becomes \"00100\", which is not prefix-aligned.\n",
    "- After applying step 2: The string becomes \"01100\", which is not prefix-aligned.\n",
    "- After applying step 3: The string becomes \"01110\", which is not prefix-aligned.\n",
    "- After applying step 4: The string becomes \"11110\", which is prefix-aligned.\n",
    "- After applying step 5: The string becomes \"11111\", which is prefix-aligned.\n",
    "- We can see that the string was prefix-aligned 2 times, so we return 2.\n",
    "\n",
    "Example 2:\n",
    "\n",
    "Input: flips = [4,1,2,3]\n",
    "Output: 1\n",
    "Explanation: The binary string is initially \"0000\".\n",
    "- After applying step 1: The string becomes \"0001\", which is not prefix-aligned.\n",
    "- After applying step 2: The string becomes \"1001\", which is not prefix-aligned.\n",
    "- After applying step 3: The string becomes \"1101\", which is not prefix-aligned.\n",
    "- After applying step 4: The string becomes \"1111\", which is prefix-aligned.\n",
    "- We can see that the string was prefix-aligned 1 time, so we return 1.\n",
    " \n",
    "\n",
    "Constraints:\n",
    "\n",
    "n == flips.length\n",
    "1 <= n <= 5 * 104\n",
    "flips is a permutation of the integers in the range [1, n]."
   ]
  },
  {
   "cell_type": "markdown",
   "metadata": {},
   "source": []
  },
  {
   "cell_type": "code",
   "execution_count": 4,
   "metadata": {},
   "outputs": [
    {
     "data": {
      "text/plain": [
       "True"
      ]
     },
     "execution_count": 4,
     "metadata": {},
     "output_type": "execute_result"
    }
   ],
   "source": [
    "class Solution():\n",
    "    def checkpreAligned(self, s: str, k :int) -> bool:\n",
    "        for i in range(k):\n",
    "            if s[i] == '0':\n",
    "                return False\n",
    "        return True\n",
    "    def checkFlips()\n",
    "\n",
    "example = Solution()\n",
    "example.checkpreAligned(s = '1111', k =4)\n"
   ]
  },
  {
   "cell_type": "code",
   "execution_count": null,
   "metadata": {},
   "outputs": [],
   "source": []
  },
  {
   "cell_type": "code",
   "execution_count": null,
   "metadata": {},
   "outputs": [],
   "source": []
  },
  {
   "cell_type": "code",
   "execution_count": null,
   "metadata": {},
   "outputs": [],
   "source": []
  },
  {
   "cell_type": "code",
   "execution_count": null,
   "metadata": {},
   "outputs": [],
   "source": []
  },
  {
   "cell_type": "code",
   "execution_count": null,
   "metadata": {},
   "outputs": [],
   "source": [
    "\n",
    "def flips_check(flips):\n",
    "    string = ['0'] * len(flips)\n",
    "    # print(string)\n",
    "    count = 0\n",
    "    def preAligned(string,i):\n",
    "        for k in range(i):\n",
    "            # print(string[k])\n",
    "            if string[k] != '1':\n",
    "                return False\n",
    "        return True\n",
    "    \n",
    "    for i in range(len(flips)):\n",
    "        \n",
    "        string[i - 1] = '1'\n",
    "        print(string)\n",
    "        if preAligned(string,i):\n",
    "            count +=1\n",
    "    return count"
   ]
  },
  {
   "cell_type": "code",
   "execution_count": null,
   "metadata": {},
   "outputs": [],
   "source": [
    "class Solution:\n",
    "    def numTimesAllBlue(self, flips: List[int]) -> int:\n",
    "        # brute force len(flips) * len(flips) -> n ** 2\n",
    "        # permutation, 1 3 -> + 1 -> 2 ** n -> res += 2 ** (num - 1) judge res == 2 ** i - 1\n",
    "        sum_str, res = 0, 0\n",
    "        map_2 = {}\n",
    "        map_2[0] = 1\n",
    "        for i in range(1, len(flips) + 1):\n",
    "            map_2[i] = map_2[i - 1] * 2\n",
    "        for i in range(len(flips)):\n",
    "            sum_str += map_2[flips[i] - 1]\n",
    "            if sum_str == map_2[i + 1] - 1:\n",
    "                res += 1\n",
    "        return res"
   ]
  }
 ],
 "metadata": {
  "kernelspec": {
   "display_name": "Python 3.9.6 64-bit",
   "language": "python",
   "name": "python3"
  },
  "language_info": {
   "codemirror_mode": {
    "name": "ipython",
    "version": 3
   },
   "file_extension": ".py",
   "mimetype": "text/x-python",
   "name": "python",
   "nbconvert_exporter": "python",
   "pygments_lexer": "ipython3",
   "version": "3.9.6"
  },
  "orig_nbformat": 4,
  "vscode": {
   "interpreter": {
    "hash": "aee8b7b246df8f9039afb4144a1f6fd8d2ca17a180786b69acc140d282b71a49"
   }
  }
 },
 "nbformat": 4,
 "nbformat_minor": 2
}
