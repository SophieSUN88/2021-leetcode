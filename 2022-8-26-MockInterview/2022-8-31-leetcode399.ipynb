{
 "cells": [
  {
   "cell_type": "markdown",
   "metadata": {},
   "source": [
    "### 399. Evaluate Division\n",
    "Medium\n",
    "\n",
    "You are given an array of variable pairs equations and an array of real numbers values, where equations[i] = [Ai, Bi] and values[i] represent the equation Ai / Bi = values[i]. Each Ai or Bi is a string that represents a single variable.\n",
    "\n",
    "You are also given some queries, where queries[j] = [Cj, Dj] represents the jth query where you must find the answer for Cj / Dj = ?.\n",
    "\n",
    "Return the answers to all queries. If a single answer cannot be determined, return -1.0.\n",
    "\n",
    "Note: The input is always valid. You may assume that evaluating the queries will not result in division by zero and that there is no contradiction.\n",
    "\n",
    " \n",
    "\n",
    "Example 1:\n",
    "\n",
    "Input: equations = [[\"a\",\"b\"],[\"b\",\"c\"]], values = [2.0,3.0], queries = [[\"a\",\"c\"],[\"b\",\"a\"],[\"a\",\"e\"],[\"a\",\"a\"],[\"x\",\"x\"]]\n",
    "Output: [6.00000,0.50000,-1.00000,1.00000,-1.00000]\n",
    "Explanation: \n",
    "Given: a / b = 2.0, b / c = 3.0\n",
    "queries are: a / c = ?, b / a = ?, a / e = ?, a / a = ?, x / x = ?\n",
    "return: [6.0, 0.5, -1.0, 1.0, -1.0 ]\n",
    "\n",
    "Example 2:\n",
    "\n",
    "Input: equations = [[\"a\",\"b\"],[\"b\",\"c\"],[\"bc\",\"cd\"]], values = [1.5,2.5,5.0], queries = [[\"a\",\"c\"],[\"c\",\"b\"],[\"bc\",\"cd\"],[\"cd\",\"bc\"]]\n",
    "Output: [3.75000,0.40000,5.00000,0.20000]\n",
    "\n",
    "Example 3:\n",
    "\n",
    "Input: equations = [[\"a\",\"b\"]], values = [0.5], queries = [[\"a\",\"b\"],[\"b\",\"a\"],[\"a\",\"c\"],[\"x\",\"y\"]]\n",
    "Output: [0.50000,2.00000,-1.00000,-1.00000]\n",
    " \n",
    "\n",
    "Constraints:\n",
    "\n",
    "- 1 <= equations.length <= 20\n",
    "- equations[i].length == 2\n",
    "- 1 <= Ai.length, Bi.length <= 5\n",
    "- values.length == equations.length\n",
    "- 0.0 < values[i] <= 20.0\n",
    "- 1 <= queries.length <= 20\n",
    "- queries[i].length == 2\n",
    "- 1 <= Cj.length, Dj.length <= 5\n",
    "- Ai, Bi, Cj, Dj consist of lower case English letters and digits."
   ]
  },
  {
   "cell_type": "code",
   "execution_count": 1,
   "metadata": {},
   "outputs": [
    {
     "name": "stdout",
     "output_type": "stream",
     "text": [
      "defaultdict(<class 'collections.defaultdict'>, {'a': defaultdict(None, {'b': 1.5}), 'b': defaultdict(None, {'a': 0.6666666666666666, 'c': 2.5}), 'c': defaultdict(None, {'b': 0.4}), 'bc': defaultdict(None, {'cd': 5.0}), 'cd': defaultdict(None, {'bc': 0.2})})\n"
     ]
    }
   ],
   "source": [
    "from collections import defaultdict\n",
    "class Solution:\n",
    "    def calcEquation(self, equations: list[list[str]], values: list[float], \n",
    "                     queries: list[list[str]]) -> list[float]:\n",
    "        graph = defaultdict(defaultdict)\n",
    "        for (dividend, division) , value in zip(equations, values):\n",
    "            graph[dividend][division] = value\n",
    "            graph[division][dividend] = 1 / value\n",
    "        print(graph)\n",
    "equations = [[\"a\",\"b\"],[\"b\",\"c\"],[\"bc\",\"cd\"]]\n",
    "values = [1.5,2.5,5.0]\n",
    "queries = [[\"a\",\"c\"],[\"c\",\"b\"],[\"bc\",\"cd\"],[\"cd\",\"bc\"]]\n",
    "example = Solution()\n",
    "example.calcEquation(equations, values, queries)\n",
    "        "
   ]
  },
  {
   "cell_type": "code",
   "execution_count": 12,
   "metadata": {},
   "outputs": [
    {
     "data": {
      "text/plain": [
       "[3.75, 0.4, 5.0, 0.2]"
      ]
     },
     "execution_count": 12,
     "metadata": {},
     "output_type": "execute_result"
    }
   ],
   "source": [
    "\n",
    "\n",
    "from collections import defaultdict, deque\n",
    "class Solution:\n",
    "    def calcEquation(self, equations, values, queries):\n",
    "        graph = defaultdict(dict)\n",
    "        for ([x,y],value) in zip(equations, values):\n",
    "            graph[x][y] = value\n",
    "            graph[y][x] = 1/value\n",
    "        \n",
    "        def find_prod(s,e):\n",
    "            if s not in graph or e not in graph:\n",
    "                return -1.0\n",
    "            if s==e: return 1.0\n",
    "            q = deque([(s, 1.0)])\n",
    "            visited = {s}\n",
    "            while q:\n",
    "                n, curr = q.popleft()\n",
    "                for child,value in graph[n].items():\n",
    "                    if child in visited:\n",
    "                        continue\n",
    "                    nc = curr*value\n",
    "                    if child == e:\n",
    "                        return nc\n",
    "                    # graph[s][child] = nc\n",
    "                    # graph[child][s] = 1/nc\n",
    "                    visited.add(child)\n",
    "                    q.append((child, nc))\n",
    "            return -1.0\n",
    "        \n",
    "        return [find_prod(s,e) for [s,e] in queries]\n",
    "equations = [[\"a\",\"b\"],[\"b\",\"c\"],[\"bc\",\"cd\"]]\n",
    "values = [1.5,2.5,5.0]\n",
    "queries = [[\"a\",\"c\"],[\"c\",\"b\"],[\"bc\",\"cd\"],[\"cd\",\"bc\"]]\n",
    "example = Solution()\n",
    "example.calcEquation(equations, values, queries)"
   ]
  },
  {
   "cell_type": "markdown",
   "metadata": {},
   "source": [
    "- Runtime: 39 ms, faster than 77.72% of Python3 online submissions for Evaluate Division.\n",
    "- Memory Usage: 13.9 MB, less than 95.14% of Python3 online "
   ]
  },
  {
   "cell_type": "code",
   "execution_count": 14,
   "metadata": {},
   "outputs": [
    {
     "data": {
      "text/plain": [
       "[3.75, 0.4, 5.0, 0.2]"
      ]
     },
     "execution_count": 14,
     "metadata": {},
     "output_type": "execute_result"
    }
   ],
   "source": [
    "### bfs\n",
    "from typing import List\n",
    "class Solution:\n",
    "    def calcEquation(self, equations: List[List[str]], values: List[float], queries: List[List[str]]) -> List[float]:\n",
    "\n",
    "        graph = defaultdict(defaultdict)\n",
    "\n",
    "        def backtrack_evaluate(curr_node, target_node, acc_product, visited):\n",
    "            visited.add(curr_node)\n",
    "            ret = -1.0\n",
    "            neighbors = graph[curr_node]\n",
    "            if target_node in neighbors:\n",
    "                ret = acc_product * neighbors[target_node]\n",
    "            else:\n",
    "                for neighbor, value in neighbors.items():\n",
    "                    if neighbor in visited:\n",
    "                        continue\n",
    "                    ret = backtrack_evaluate(\n",
    "                        neighbor, target_node, acc_product * value, visited)\n",
    "                    if ret != -1.0:\n",
    "                        break\n",
    "            visited.remove(curr_node)\n",
    "            return ret\n",
    "\n",
    "        # Step 1). build the graph from the equations\n",
    "        for (dividend, divisor), value in zip(equations, values):\n",
    "            # add nodes and two edges into the graph\n",
    "            graph[dividend][divisor] = value\n",
    "            graph[divisor][dividend] = 1 / value\n",
    "\n",
    "        # Step 2). Evaluate each query via backtracking (DFS)\n",
    "        #  by verifying if there exists a path from dividend to divisor\n",
    "        results = []\n",
    "        for dividend, divisor in queries:\n",
    "            if dividend not in graph or divisor not in graph:\n",
    "                # case 1): either node does not exist\n",
    "                ret = -1.0\n",
    "            elif dividend == divisor:\n",
    "                # case 2): origin and destination are the same node\n",
    "                ret = 1.0\n",
    "            else:\n",
    "                visited = set()\n",
    "                ret = backtrack_evaluate(dividend, divisor, 1, visited)\n",
    "            results.append(ret)\n",
    "\n",
    "        return results\n",
    "equations = [[\"a\",\"b\"],[\"b\",\"c\"],[\"bc\",\"cd\"]]\n",
    "values = [1.5,2.5,5.0]\n",
    "queries = [[\"a\",\"c\"],[\"c\",\"b\"],[\"bc\",\"cd\"],[\"cd\",\"bc\"]]\n",
    "example = Solution()\n",
    "example.calcEquation(equations, values, queries)"
   ]
  },
  {
   "cell_type": "markdown",
   "metadata": {},
   "source": [
    "- Runtime: 45 ms, faster than 60.74% of Python3 online submissions for Evaluate Division.\n",
    "- Memory Usage: 14 MB, less than 58.79% of Python3 online submissions for Evaluate Division."
   ]
  },
  {
   "cell_type": "code",
   "execution_count": 8,
   "metadata": {},
   "outputs": [
    {
     "name": "stdout",
     "output_type": "stream",
     "text": [
      "['d', 'a', 'c']\n"
     ]
    }
   ],
   "source": [
    "# Python program to generate shortest path\n",
    "  \n",
    "graph ={\n",
    "'a':['c'],\n",
    "'b':['d'],\n",
    "'c':['e'],\n",
    "'d':['a', 'e'],\n",
    "'e':['b', 'c']\n",
    "}\n",
    "  \n",
    "# function to find the shortest path\n",
    "def find_shortest_path(graph, start, end, path =[]):\n",
    "    path = path + [start]\n",
    "    if start == end:\n",
    "        return path\n",
    "    shortest = None\n",
    "    for node in graph[start]:\n",
    "        if node not in path:\n",
    "            newpath = find_shortest_path(graph, node, end, path)\n",
    "            if newpath:\n",
    "                if not shortest or len(newpath) < len(shortest):\n",
    "                    shortest = newpath\n",
    "    return shortest\n",
    "          \n",
    "# Driver function call to print\n",
    "# the shortest path\n",
    "print(find_shortest_path(graph, 'd', 'c'))"
   ]
  },
  {
   "cell_type": "code",
   "execution_count": 11,
   "metadata": {},
   "outputs": [
    {
     "name": "stdout",
     "output_type": "stream",
     "text": [
      "[['d', 'a', 'c'], ['d', 'a', 'c']]\n"
     ]
    }
   ],
   "source": [
    "\n",
    "# Python program to generate the all possible\n",
    "# path of the graph from the nodes provided\n",
    "graph ={\n",
    "'a':['c'],\n",
    "'b':['d'],\n",
    "'c':['e'],\n",
    "'d':['a', 'd'],\n",
    "'e':['b', 'c']\n",
    "}\n",
    "  \n",
    "# function to generate all possible paths\n",
    "def find_all_paths(graph, start, end, path =[]):\n",
    "  path = path + [start]\n",
    "  if start == end:\n",
    "    return [path]\n",
    "  paths = []\n",
    "  for node in graph[start]:\n",
    "    if node not in path:\n",
    "      newpaths = find_all_paths(graph, node, end, path)\n",
    "    for newpath in newpaths:\n",
    "      paths.append(newpath)\n",
    "  return paths\n",
    "    \n",
    "# Driver function call to print all \n",
    "# generated paths\n",
    "print(find_all_paths(graph, 'd', 'c'))"
   ]
  },
  {
   "cell_type": "code",
   "execution_count": null,
   "metadata": {},
   "outputs": [],
   "source": []
  }
 ],
 "metadata": {
  "kernelspec": {
   "display_name": "Python 3.9.6 64-bit",
   "language": "python",
   "name": "python3"
  },
  "language_info": {
   "codemirror_mode": {
    "name": "ipython",
    "version": 3
   },
   "file_extension": ".py",
   "mimetype": "text/x-python",
   "name": "python",
   "nbconvert_exporter": "python",
   "pygments_lexer": "ipython3",
   "version": "3.9.6"
  },
  "orig_nbformat": 4,
  "vscode": {
   "interpreter": {
    "hash": "aee8b7b246df8f9039afb4144a1f6fd8d2ca17a180786b69acc140d282b71a49"
   }
  }
 },
 "nbformat": 4,
 "nbformat_minor": 2
}
