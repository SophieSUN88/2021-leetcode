{
 "cells": [
  {
   "cell_type": "markdown",
   "metadata": {},
   "source": [
    "### subListNumber\n",
    "\n",
    "Given you a list, and try to how many consecutively decreasing sublist exist in the list, The sublist is consecutively decreasing if it has the form: r,r-1,r-2. return the number of decreasing continous sublist [r,r-1,r-2...]\n",
    "\n",
    "Example: [4, 3, 5, 4,3]\n",
    "- length 1 [[4], [3], [5], [4], [3]] \n",
    "- length 2:[[4,3], [5,4], [4,3]]\n",
    "- length 3:[5,4,3] -> total number is 9."
   ]
  },
  {
   "cell_type": "code",
   "execution_count": 5,
   "metadata": {},
   "outputs": [
    {
     "name": "stdout",
     "output_type": "stream",
     "text": [
      "9\n"
     ]
    }
   ],
   "source": [
    "def subListNum(num):\n",
    "    result = 0\n",
    "    if len(num) <=1:\n",
    "        return len(num)\n",
    "    count = 1\n",
    "    for i in range(1,len(num)):\n",
    "        # print('i:',i)\n",
    "        if num[i-1] - num[i] == 1:\n",
    "            count +=1\n",
    "            # print('count:',count)\n",
    "        else:\n",
    "            \n",
    "            result += int((count + 1) * count / 2)\n",
    "            # print('result:',result)\n",
    "            count = 1\n",
    "    result += int((count + 1) * count / 2)\n",
    "    return result\n",
    "\n",
    "print(subListNum(num=[4,3,5,4,3]))"
   ]
  },
  {
   "cell_type": "markdown",
   "metadata": {},
   "source": [
    "- Time complexity O(N)\n",
    "- Space complexity O(1)"
   ]
  },
  {
   "cell_type": "code",
   "execution_count": 6,
   "metadata": {},
   "outputs": [
    {
     "name": "stdout",
     "output_type": "stream",
     "text": [
      "9\n"
     ]
    }
   ],
   "source": [
    "def subListNum(num):\n",
    "    if not num: return 0\n",
    "    dp = [1] * len(num)\n",
    "    for i in range(1, len(num)):\n",
    "        if num[i] == num[i - 1] - 1: # the number of meeted sublist ended with value[i]\n",
    "            dp[i] = dp[i - 1] + 1\n",
    "    return sum(dp)\n",
    "print(subListNum(num=[4,3,5,4,3]))"
   ]
  },
  {
   "cell_type": "markdown",
   "metadata": {},
   "source": [
    "- Time complexity O(N)\n",
    "- Space complexity O(N)"
   ]
  },
  {
   "cell_type": "code",
   "execution_count": 12,
   "metadata": {},
   "outputs": [
    {
     "name": "stdout",
     "output_type": "stream",
     "text": [
      "curr: 1\n",
      "prev: 1\n",
      "111\n",
      "curr: 3\n",
      "prev: 3\n",
      "curr: 3\n",
      "prev: 3\n",
      "res: 4\n",
      "curr: 1\n",
      "prev: 1\n",
      "res: 5\n",
      "111\n",
      "curr: 3\n",
      "prev: 3\n",
      "curr: 3\n",
      "prev: 3\n",
      "res: 8\n",
      "111\n",
      "curr: 7\n",
      "prev: 7\n",
      "curr: 7\n",
      "prev: 7\n",
      "res: 15\n",
      "15\n"
     ]
    }
   ],
   "source": [
    "def subListNum(num):\n",
    "    curr, prev = 1, 1\n",
    "    print('curr:',curr)\n",
    "    print('prev:',prev)\n",
    "    res = 1\n",
    "    for i in range(1, len(num)):\n",
    "        if num[i] == num[i - 1] - 1:\n",
    "            curr += prev + 1\n",
    "            prev = curr\n",
    "            print(111)\n",
    "            print('curr:',curr)\n",
    "            print('prev:',prev)\n",
    "        else:\n",
    "            curr, prev = 1, 1\n",
    "        print('curr:',curr)\n",
    "        print('prev:',prev)\n",
    "        res += curr\n",
    "        print('res:',res)\n",
    "    return res\n",
    "print(subListNum(num=[4,3,5,4,3]))"
   ]
  },
  {
   "cell_type": "markdown",
   "metadata": {},
   "source": [
    "- Time complexity O(N)\n",
    "- Space complexity O(1)"
   ]
  }
 ],
 "metadata": {
  "kernelspec": {
   "display_name": "Python 3.9.6 64-bit",
   "language": "python",
   "name": "python3"
  },
  "language_info": {
   "codemirror_mode": {
    "name": "ipython",
    "version": 3
   },
   "file_extension": ".py",
   "mimetype": "text/x-python",
   "name": "python",
   "nbconvert_exporter": "python",
   "pygments_lexer": "ipython3",
   "version": "3.9.6"
  },
  "orig_nbformat": 4,
  "vscode": {
   "interpreter": {
    "hash": "aee8b7b246df8f9039afb4144a1f6fd8d2ca17a180786b69acc140d282b71a49"
   }
  }
 },
 "nbformat": 4,
 "nbformat_minor": 2
}
