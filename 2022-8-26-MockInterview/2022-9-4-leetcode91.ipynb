{
 "cells": [
  {
   "cell_type": "markdown",
   "metadata": {},
   "source": [
    "### 91. Decode Ways\n",
    "Medium\n",
    "\n",
    "A message containing letters from A-Z can be encoded into numbers using the following mapping:\n",
    "\n",
    "'A' -> \"1\"\n",
    "'B' -> \"2\"\n",
    "...\n",
    "'Z' -> \"26\"\n",
    "To decode an encoded message, all the digits must be grouped then mapped back into letters using the reverse of the mapping above (there may be multiple ways). For example, \"11106\" can be mapped into:\n",
    "\n",
    "\"AAJF\" with the grouping (1 1 10 6)\n",
    "\"KJF\" with the grouping (11 10 6)\n",
    "Note that the grouping (1 11 06) is invalid because \"06\" cannot be mapped into 'F' since \"6\" is different from \"06\".\n",
    "\n",
    "Given a string s containing only digits, return the number of ways to decode it.\n",
    "\n",
    "The test cases are generated so that the answer fits in a 32-bit integer.\n",
    "\n",
    " \n",
    "\n",
    "Example 1:\n",
    "\n",
    "Input: s = \"12\"\n",
    "Output: 2\n",
    "Explanation: \"12\" could be decoded as \"AB\" (1 2) or \"L\" (12).\n",
    "\n",
    "Example 2:\n",
    "\n",
    "Input: s = \"226\"\n",
    "Output: 3\n",
    "Explanation: \"226\" could be decoded as \"BZ\" (2 26), \"VF\" (22 6), or \"BBF\" (2 2 6).\n",
    "\n",
    "Example 3:\n",
    "\n",
    "Input: s = \"06\"\n",
    "Output: 0\n",
    "Explanation: \"06\" cannot be mapped to \"F\" because of the leading zero (\"6\" is different from \"06\").\n",
    " \n",
    "\n",
    "Constraints:\n",
    "\n",
    "1 <= s.length <= 100\n",
    "s contains only digits and may contain leading zero(s).\n"
   ]
  },
  {
   "cell_type": "code",
   "execution_count": 3,
   "metadata": {},
   "outputs": [
    {
     "data": {
      "text/plain": [
       "2"
      ]
     },
     "execution_count": 3,
     "metadata": {},
     "output_type": "execute_result"
    }
   ],
   "source": [
    "#Approach 1: Recursive Approach with Memoization\n",
    "class Solution:\n",
    "\n",
    "    # @lru_cache(maxsize=None)\n",
    "    def recursiveWithMemo(self, index, s) -> int:\n",
    "        # If you reach the end of the string\n",
    "        # Return 1 for success.\n",
    "        if index == len(s):\n",
    "            return 1\n",
    "\n",
    "        # If the string starts with a zero, it can't be decoded\n",
    "        if s[index] == '0':\n",
    "            return 0\n",
    "\n",
    "        if index == len(s)-1:\n",
    "            return 1\n",
    "        \n",
    "        answer = self.recursiveWithMemo(index + 1, s)\n",
    "        if int(s[index : index + 2]) <= 26:\n",
    "            answer += self.recursiveWithMemo(index + 2, s)\n",
    "\n",
    "        return answer\n",
    "\n",
    "    def numDecodings(self, s: str) -> int:\n",
    "        return self.recursiveWithMemo(0, s)\n",
    "example= Solution()\n",
    "example.numDecodings('11106')"
   ]
  },
  {
   "cell_type": "markdown",
   "metadata": {},
   "source": [
    "- Time Complexity: O(N)\n",
    "- Space Complexity: O(N)\n",
    "- Runtime: 57 ms, faster than 35.46% of Python3 online submissions for Decode Ways.\n",
    "- Memory Usage: 14.5 MB, less than 6.77% of Python3 online submissions for Decode Ways."
   ]
  },
  {
   "cell_type": "code",
   "execution_count": 5,
   "metadata": {},
   "outputs": [
    {
     "data": {
      "text/plain": [
       "3"
      ]
     },
     "execution_count": 5,
     "metadata": {},
     "output_type": "execute_result"
    }
   ],
   "source": [
    "#Approach 2: Iterative Approach\n",
    "class Solution:\n",
    "    def numDecodings(self, s: str) -> int:\n",
    "        # Array to store the subproblem results\n",
    "        dp = [0 for _ in range(len(s) + 1)]\n",
    "\n",
    "        dp[0] = 1\n",
    "        # Ways to decode a string of size 1 is 1. Unless the string is '0'.\n",
    "        # '0' doesn't have a single digit decode.\n",
    "        dp[1] = 0 if s[0] == '0' else 1\n",
    "\n",
    "\n",
    "        for i in range(2, len(dp)):\n",
    "\n",
    "            # Check if successful single digit decode is possible.\n",
    "            if s[i - 1] != '0':\n",
    "                dp[i] = dp[i - 1]\n",
    "\n",
    "            # Check if successful two digit decode is possible.\n",
    "            two_digit = int(s[i - 2 : i])\n",
    "            if two_digit >= 10 and two_digit <= 26:\n",
    "                dp[i] += dp[i - 2]\n",
    "                \n",
    "        return dp[len(s)]\n",
    "example= Solution()\n",
    "example.numDecodings('111106')"
   ]
  },
  {
   "cell_type": "markdown",
   "metadata": {},
   "source": [
    "- Time Complexity: O(N), where N is length of the string. We iterate the length of dp array which is N+1.\n",
    "- Space Complexity: O(N). The length of the DP array.\n",
    "- Runtime: 25 ms, faster than 99.55% of Python3 online submissions for Decode Ways.\n",
    "- Memory Usage: 13.9 MB, less than 46.52% of Python3 online submissions for Decode Ways."
   ]
  },
  {
   "cell_type": "code",
   "execution_count": 6,
   "metadata": {},
   "outputs": [
    {
     "data": {
      "text/plain": [
       "2"
      ]
     },
     "execution_count": 6,
     "metadata": {},
     "output_type": "execute_result"
    }
   ],
   "source": [
    "# Approach 3: Iterative, Constant Space\n",
    "class Solution:\n",
    "    def numDecodings(self, s: str) -> int:\n",
    "        if s[0] == \"0\":\n",
    "            return 0\n",
    "    \n",
    "        two_back = 1\n",
    "        one_back = 1\n",
    "        for i in range(1, len(s)):\n",
    "            current = 0\n",
    "            if s[i] != \"0\":\n",
    "                current = one_back\n",
    "            two_digit = int(s[i - 1: i + 1])\n",
    "            if two_digit >= 10 and two_digit <= 26:\n",
    "                current += two_back\n",
    "            two_back = one_back\n",
    "            one_back = current\n",
    "        \n",
    "        return one_back\n",
    "example= Solution()\n",
    "example.numDecodings('11106')"
   ]
  },
  {
   "cell_type": "markdown",
   "metadata": {},
   "source": [
    "- Time Complexity: O(N)\n",
    "- Space Complexity: O(1)\n",
    "- Runtime: 52 ms, faster than 48.54% of Python3 online submissions for Decode Ways.\n",
    "- Memory Usage: 14 MB, less than 30.92% of Python3 online submissions for Decode Ways."
   ]
  }
 ],
 "metadata": {
  "kernelspec": {
   "display_name": "Python 3.9.6 64-bit",
   "language": "python",
   "name": "python3"
  },
  "language_info": {
   "codemirror_mode": {
    "name": "ipython",
    "version": 3
   },
   "file_extension": ".py",
   "mimetype": "text/x-python",
   "name": "python",
   "nbconvert_exporter": "python",
   "pygments_lexer": "ipython3",
   "version": "3.9.6"
  },
  "orig_nbformat": 4,
  "vscode": {
   "interpreter": {
    "hash": "aee8b7b246df8f9039afb4144a1f6fd8d2ca17a180786b69acc140d282b71a49"
   }
  }
 },
 "nbformat": 4,
 "nbformat_minor": 2
}
