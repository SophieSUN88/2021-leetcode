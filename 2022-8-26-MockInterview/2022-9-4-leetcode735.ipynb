{
 "cells": [
  {
   "cell_type": "markdown",
   "metadata": {},
   "source": [
    "### 735. Asteroid Collision\n",
    "Medium\n",
    "\n",
    "\n",
    "We are given an array asteroids of integers representing asteroids in a row.\n",
    "\n",
    "For each asteroid, the absolute value represents its size, and the sign represents its direction (positive meaning right, negative meaning left). Each asteroid moves at the same speed.\n",
    "\n",
    "Find out the state of the asteroids after all collisions. If two asteroids meet, the smaller one will explode. If both are the same size, both will explode. Two asteroids moving in the same direction will never meet.\n",
    "\n",
    " \n",
    "\n",
    "Example 1:\n",
    "\n",
    "Input: asteroids = [5,10,-5]\n",
    "Output: [5,10]\n",
    "Explanation: The 10 and -5 collide resulting in 10. The 5 and 10 never collide.\n",
    "\n",
    "Example 2:\n",
    "\n",
    "Input: asteroids = [8,-8]\n",
    "Output: []\n",
    "Explanation: The 8 and -8 collide exploding each other.\n",
    "\n",
    "Example 3:\n",
    "\n",
    "Input: asteroids = [10,2,-5]\n",
    "Output: [10]\n",
    "Explanation: The 2 and -5 collide resulting in -5. The 10 and -5 collide resulting in 10.\n",
    " \n",
    "\n",
    "Constraints:\n",
    "\n",
    "2 <= asteroids.length <= 104\n",
    "-1000 <= asteroids[i] <= 1000\n",
    "asteroids[i] != 0"
   ]
  },
  {
   "cell_type": "code",
   "execution_count": 2,
   "metadata": {},
   "outputs": [
    {
     "data": {
      "text/plain": [
       "[10]"
      ]
     },
     "execution_count": 2,
     "metadata": {},
     "output_type": "execute_result"
    }
   ],
   "source": [
    "class Solution(object):\n",
    "    def asteroidCollision(self, asteroids):\n",
    "        \"\"\"\n",
    "        :type asteroids: List[int]\n",
    "        :rtype: List[int]\n",
    "        \"\"\"\n",
    "        stack = []\n",
    "        for asteroid in asteroids:\n",
    "            if asteroid > 0:\n",
    "                stack.append(asteroid)\n",
    "            else:\n",
    "                while stack and stack[-1] > 0 and stack[-1] < abs(asteroid):\n",
    "                    stack.pop()\n",
    "                if not stack or stack[-1] < 0:\n",
    "                    stack.append(asteroid)\n",
    "                if stack[-1] == -asteroid:\n",
    "                    stack.pop()\n",
    "        return stack\n",
    "example = Solution()\n",
    "example.asteroidCollision([10,5,-5])"
   ]
  },
  {
   "cell_type": "markdown",
   "metadata": {},
   "source": [
    "- Time complexity: O(N)\n",
    "- Space complexity: O(N)\n",
    "- Runtime: 112 ms, faster than 84.94% of Python3 online submissions for Asteroid Collision.\n",
    "- Memory Usage: 15.2 MB, less than 73.00% of Python3 online submissions for Asteroid Collision."
   ]
  }
 ],
 "metadata": {
  "kernelspec": {
   "display_name": "Python 3.9.6 64-bit",
   "language": "python",
   "name": "python3"
  },
  "language_info": {
   "codemirror_mode": {
    "name": "ipython",
    "version": 3
   },
   "file_extension": ".py",
   "mimetype": "text/x-python",
   "name": "python",
   "nbconvert_exporter": "python",
   "pygments_lexer": "ipython3",
   "version": "3.9.6"
  },
  "orig_nbformat": 4,
  "vscode": {
   "interpreter": {
    "hash": "aee8b7b246df8f9039afb4144a1f6fd8d2ca17a180786b69acc140d282b71a49"
   }
  }
 },
 "nbformat": 4,
 "nbformat_minor": 2
}
