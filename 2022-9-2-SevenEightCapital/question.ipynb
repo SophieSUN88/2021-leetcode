{
 "cells": [
  {
   "cell_type": "code",
   "execution_count": 5,
   "metadata": {},
   "outputs": [
    {
     "name": "stdout",
     "output_type": "stream",
     "text": [
      "char: A\n",
      "chars_stack: ['A']\n",
      "char: A\n",
      "chars_stack: ['A', 'A']\n",
      "char: B\n",
      "chars_stack: ['A']\n",
      "char: B\n",
      "chars_stack: []\n",
      "char: A\n",
      "chars_stack: ['A']\n",
      "char: B\n",
      "chars_stack: []\n",
      "char: X\n",
      "chars_stack: ['X']\n",
      "char: Y\n",
      "chars_stack: []\n",
      "char: Y\n",
      "chars_stack: ['Y']\n",
      "char: X\n",
      "chars_stack: []\n"
     ]
    },
    {
     "data": {
      "text/plain": [
       "''"
      ]
     },
     "execution_count": 5,
     "metadata": {},
     "output_type": "execute_result"
    }
   ],
   "source": [
    "def solution(chars):\n",
    "    chars_stack = []\n",
    "    chars_dict = {'A':'B','B':'A','X':'Y','Y':'X'}\n",
    "    for char in chars:\n",
    "        print('char:',char)\n",
    "        if len(chars_stack) == 0:\n",
    "            chars_stack.append(char)\n",
    "        else:\n",
    "            if chars_dict[char] ==  chars_stack[-1]:\n",
    "                chars_stack.pop()\n",
    "            else:\n",
    "                chars_stack.append(char)\n",
    "        print('chars_stack:',chars_stack)\n",
    "    return ''.join(chars_stack)\n",
    "solution(chars='AABBABXYYX')\n"
   ]
  },
  {
   "cell_type": "code",
   "execution_count": null,
   "metadata": {},
   "outputs": [],
   "source": []
  }
 ],
 "metadata": {
  "kernelspec": {
   "display_name": "Python 3.9.6 64-bit",
   "language": "python",
   "name": "python3"
  },
  "language_info": {
   "codemirror_mode": {
    "name": "ipython",
    "version": 3
   },
   "file_extension": ".py",
   "mimetype": "text/x-python",
   "name": "python",
   "nbconvert_exporter": "python",
   "pygments_lexer": "ipython3",
   "version": "3.9.6"
  },
  "orig_nbformat": 4,
  "vscode": {
   "interpreter": {
    "hash": "aee8b7b246df8f9039afb4144a1f6fd8d2ca17a180786b69acc140d282b71a49"
   }
  }
 },
 "nbformat": 4,
 "nbformat_minor": 2
}
