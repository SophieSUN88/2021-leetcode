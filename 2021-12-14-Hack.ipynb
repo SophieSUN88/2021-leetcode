{
 "cells": [
  {
   "cell_type": "markdown",
   "metadata": {},
   "source": [
    "##  Plus Minus\n",
    "Given an array of integers, calculate the ratios of its elements that are positive, negative, and zero. Print the decimal value of each fraction on a new line with  places after the decimal.\n",
    "* Note: This challenge introduces precision problems. The test cases are scaled to six decimal places, though answers with absolute error of up to  are acceptable.  \n",
    "**Example**\n",
    "* Sample Input  \n",
    "6  \n",
    "-4 3 -9 0 4 1           \n",
    "*  Sample Output  \n",
    "0.500000  \n",
    "0.333333  \n",
    "0.166667  \n"
   ]
  },
  {
   "cell_type": "code",
   "execution_count": null,
   "metadata": {},
   "outputs": [],
   "source": [
    "#!/bin/python3\n",
    "\n",
    "import math\n",
    "import os\n",
    "import random\n",
    "import re\n",
    "import sys\n",
    "\n",
    "#\n",
    "# Complete the 'plusMinus' function below.\n",
    "#\n",
    "# The function accepts INTEGER_ARRAY arr as parameter.\n",
    "#\n",
    "\n",
    "def plusMinus(arr):\n",
    "    # Write your code here\n",
    "    r1,r2,r3 = 0,0,0\n",
    "    n=len(arr)\n",
    "    for i in range(n):\n",
    "        if arr[i] > 0 :\n",
    "            r1 +=1\n",
    "        elif arr[i] < 0 :\n",
    "            r2 +=1\n",
    "        else:\n",
    "            r3 +=1\n",
    "    print(\"%.6f\"%(r1/n))\n",
    "    print(\"%.6f\"%(r2/n))\n",
    "    print(\"%.6f\"%(r3/n))\n",
    "    \n",
    "\n",
    "if __name__ == '__main__':\n",
    "    n = int(input().strip())\n",
    "\n",
    "    arr = list(map(int, input().rstrip().split()))\n",
    "\n",
    "    plusMinus(arr)"
   ]
  },
  {
   "cell_type": "markdown",
   "metadata": {},
   "source": [
    "arr = list(map(int, input().rstrip().split()))\n",
    "* input() looks like it gets the next line of input. From the example this is the string \"1 2 3 4 5\\n\" (it has a newline on the end).\n",
    "* rstrip() then removes whitespace at the right end of the input, including the newline.\n",
    "* split() with no arguments splits on whitespace, transforming the input to an iterable of strings. e.g. ['1', '2', '3', '4', '5']\n",
    "* map(int, sequence) applies int to each string. e.g. int('1') -> 1, int('2') -> 2 etc.. So your sequence of strings is now a sequence of integers.\n",
    "* Finally list(seq) transforms the sequence to a list type. So now you have [1,2,3,4,5]."
   ]
  },
  {
   "cell_type": "markdown",
   "metadata": {},
   "source": [
    "## Min-Max Sum\n",
    "minimum and maximum values that can be calculated by summing exactly four of the five integers. Then print the respective minimum and maximum values as a singe line of two space-separated long integers.  \n",
    "**Example**\n",
    "* input:1,2,3,4,5\n",
    "* output:10 14"
   ]
  },
  {
   "cell_type": "code",
   "execution_count": 11,
   "metadata": {},
   "outputs": [
    {
     "data": {
      "text/plain": [
       "[1, 4, 3]"
      ]
     },
     "execution_count": 11,
     "metadata": {},
     "output_type": "execute_result"
    }
   ],
   "source": [
    "#!/bin/python3\n",
    "\n",
    "import math\n",
    "import os\n",
    "import random\n",
    "import re\n",
    "import sys\n",
    "\n",
    "#\n",
    "# Complete the 'miniMaxSum' function below.\n",
    "#\n",
    "# The function accepts INTEGER_ARRAY arr as parameter.\n",
    "#\n",
    "\n",
    "def miniMaxSum(arr):\n",
    "    # Write your code here\n",
    "    a= sum(arr)\n",
    "    b=[]\n",
    "    n=len(arr)\n",
    "    for i in range(n):\n",
    "        b.append(a-arr[i])\n",
    "    b.sort()\n",
    "    print(b[0],b[n-1])    \n",
    "if __name__ == '__main__':\n",
    "\n",
    "    arr = list(map(int, input().rstrip().split()))\n",
    "\n",
    "    miniMaxSum(arr)"
   ]
  },
  {
   "cell_type": "code",
   "execution_count": 24,
   "metadata": {},
   "outputs": [
    {
     "name": "stdout",
     "output_type": "stream",
     "text": [
      "12:00:02\n"
     ]
    }
   ],
   "source": [
    "a=\"12:00:02PM\"\n",
    "b=a[8:10]\n",
    "h,m,s = a[0:8].split(\":\")\n",
    "if b==\"AM\":\n",
    "    if int(h) == 12:\n",
    "        h1=\"00\"\n",
    "    else:\n",
    "        h1=h\n",
    "elif b==\"PM\":\n",
    "    if int(h) == 12:\n",
    "        h1=\"12\"\n",
    "    else:\n",
    "        h1=str(int(h)+12)\n",
    "print(h1,m,s, sep=\":\")\n",
    "\n"
   ]
  },
  {
   "cell_type": "markdown",
   "metadata": {},
   "source": [
    "## Sparse Arrays\n",
    "There is a collection of input strings and a collection of query strings. For each query string, determine how many times it occurs in the list of input strings. Return an array of the results.\n",
    "* Eample\n",
    "* Input:\n",
    "4  \n",
    "aba  \n",
    "baba  \n",
    "aba  \n",
    "xzxb  \n",
    "3  \n",
    "aba  \n",
    "xzxb  \n",
    "ab\n",
    "* Output:\n",
    "2  \n",
    "1  \n",
    "0  "
   ]
  },
  {
   "cell_type": "code",
   "execution_count": 25,
   "metadata": {},
   "outputs": [
    {
     "data": {
      "text/plain": [
       "[2, 1, 0]"
      ]
     },
     "execution_count": 25,
     "metadata": {},
     "output_type": "execute_result"
    }
   ],
   "source": [
    "# Solution1\n",
    "def matchingStrings(strings, queries):\n",
    "    # Write your code here\n",
    "    store = dict()\n",
    "    ans =[]\n",
    "    for w in strings:\n",
    "        if w in store:\n",
    "            store[w] +=1\n",
    "        else:\n",
    "            store[w]=1\n",
    "    for q in queries:\n",
    "        if q in store:\n",
    "            ans.append(store[q])\n",
    "        else:\n",
    "            ans.append(0)\n",
    "            \n",
    "    return ans\n",
    "\n",
    "strings=[\"aba\",\"baba\",\"aba\",\"xzxb\"]\n",
    "queries=[\"aba\",\"xzxb\",\"ab\"]\n",
    "matchingStrings(strings,queries)\n"
   ]
  },
  {
   "cell_type": "code",
   "execution_count": 26,
   "metadata": {},
   "outputs": [
    {
     "data": {
      "text/plain": [
       "[2, 1, 0]"
      ]
     },
     "execution_count": 26,
     "metadata": {},
     "output_type": "execute_result"
    }
   ],
   "source": [
    "# Solution 2\n",
    "from collections import Counter\n",
    "def matchingStrings2(strings, queries):\n",
    "    store = Counter(strings)\n",
    "    ans=[]\n",
    "    for q in queries:\n",
    "        ans.append(store[q])\n",
    "    return ans\n",
    "matchingStrings2(strings, queries)"
   ]
  },
  {
   "cell_type": "markdown",
   "metadata": {},
   "source": [
    "## LonelyInteger\n",
    "Given an array of integers, where all elements but one occur twice, find the unique element.\n",
    "* EAMPLE\n",
    "* Input: a=[1,2,3,4,3,2,1]\n",
    "* Output : 4\n"
   ]
  },
  {
   "cell_type": "code",
   "execution_count": 27,
   "metadata": {},
   "outputs": [
    {
     "data": {
      "text/plain": [
       "4"
      ]
     },
     "execution_count": 27,
     "metadata": {},
     "output_type": "execute_result"
    }
   ],
   "source": [
    "def lonelyinteger(a):\n",
    "    # Write your code here\n",
    "    store = dict()\n",
    "    for w in a:\n",
    "        if w in store:\n",
    "            store[w] +=1\n",
    "        else:\n",
    "            store[w]=1\n",
    "    for w in a:\n",
    "        if store[w]==1:\n",
    "            return w\n",
    "a=[1,2,3,4,3,2,1]\n",
    "lonelyinteger(a)"
   ]
  },
  {
   "cell_type": "markdown",
   "metadata": {},
   "source": [
    "## Flipping Bits\n",
    "You will be given a list of 32 bit unsigned integers. Flip all the bits（1->0 and 0->1) and return the result as an unsigned integer.\n",
    "* Example\n",
    "n=9 (10进制)\n",
    "9=1001(2进制)\n",
    "00000000 00000000 00000000 00001001 = 9 \n",
    "11111111 11111111 11111111 11110110 = 4294967286\n",
    "* Return :4294967286"
   ]
  },
  {
   "cell_type": "code",
   "execution_count": 1,
   "metadata": {},
   "outputs": [
    {
     "name": "stdout",
     "output_type": "stream",
     "text": [
      "1\n",
      "2\n",
      "4\n",
      "0\n",
      "16\n"
     ]
    }
   ],
   "source": [
    "import math\n",
    "a=\"11101\"\n",
    "for i in range(len(a)):\n",
    "    print(int(a[i])*int(math.pow(2,i)))"
   ]
  },
  {
   "cell_type": "markdown",
   "metadata": {},
   "source": [
    "## Flipping Bits\n",
    "You will be given a list of 32 bit unsigned integers. Flip all the bits(1->0 and 0->1) and return the result as an unsigned integer.\n",
    "* Example: n=9(10)=1001(2)->11111111 11111111 11110110(2)=4294967286(10)\n",
    "* Input:9\n",
    "* Output : 4294967286"
   ]
  },
  {
   "cell_type": "code",
   "execution_count": 43,
   "metadata": {},
   "outputs": [
    {
     "data": {
      "text/plain": [
       "4294967286"
      ]
     },
     "execution_count": 43,
     "metadata": {},
     "output_type": "execute_result"
    }
   ],
   "source": [
    "def flippingBits(n):\n",
    "    # Write your code here\n",
    "    number1 = bin(n)[2:]\n",
    "    a=[\"1\"]*32\n",
    "    for i in range(len(number1)):\n",
    "        if int(number1[i])==1:\n",
    "            a[i-len(number1)]=\"0\"\n",
    "    str=\"\"\n",
    "    c=str.join(a)\n",
    "    number2=int(c,2)\n",
    "    return number2\n",
    "flippingBits(9)"
   ]
  },
  {
   "cell_type": "code",
   "execution_count": 42,
   "metadata": {},
   "outputs": [
    {
     "data": {
      "text/plain": [
       "4294967286"
      ]
     },
     "execution_count": 42,
     "metadata": {},
     "output_type": "execute_result"
    }
   ],
   "source": [
    "# Solution 2\n",
    "# The translate() method returns a string where some specified characters are replaced \n",
    "# with the character described in a dictionary, or in a mapping table.\n",
    "# Use the maketrans() method to create a mapping table.\n",
    "# maketrans(x,y,z): x和y的长度一样，作为str可以有多个一一对应的替换，z是需要删除的str\n",
    "# ex: translate(\"Good night Sam\".maketrans(\"mSa\",\"eJo\",\"odnght\"))=>\"G i Joe\"\n",
    "\n",
    "def flippingBits2(n):\n",
    "    s = bin(n)[2:]\n",
    "    t = s.maketrans(\"01\",\"10\")\n",
    "    s = s.translate(t)\n",
    "    s = (32-len(s))*'1'+s\n",
    "    return int(s,2)\n",
    "flippingBits2(9)"
   ]
  },
  {
   "cell_type": "markdown",
   "metadata": {},
   "source": [
    "## Diagonal Difference\n",
    "Given a square matrix, calculate the absolute difference between the sums of its diagonals.\n",
    "* Eample: \n",
    "1 2 3  \n",
    "4 5 6  \n",
    "3 8 9  \n",
    "left-to-right diagonal=1+5+9=15    \n",
    "right-to-left diagonal=3+5+3=11  \n",
    "difference=|11-15|=4  "
   ]
  },
  {
   "cell_type": "code",
   "execution_count": 46,
   "metadata": {},
   "outputs": [
    {
     "data": {
      "text/plain": [
       "4"
      ]
     },
     "execution_count": 46,
     "metadata": {},
     "output_type": "execute_result"
    }
   ],
   "source": [
    "def diagonalDifference(arr):\n",
    "    # Write your code here\n",
    "    n=len(arr)\n",
    "    sum1=0\n",
    "    sum2=0\n",
    "    for i in range(n):\n",
    "        for j in range(n):\n",
    "            if i==j:\n",
    "                sum1 +=arr[i][j]\n",
    "            if i+j==n-1:\n",
    "                sum2 +=arr[i][j]\n",
    "    return abs(sum1-sum2)\n",
    "arr=[[1,2,3],[4,5,6],[3,8,9]]\n",
    "diagonalDifference(arr)"
   ]
  },
  {
   "cell_type": "code",
   "execution_count": 47,
   "metadata": {},
   "outputs": [
    {
     "data": {
      "text/plain": [
       "4"
      ]
     },
     "execution_count": 47,
     "metadata": {},
     "output_type": "execute_result"
    }
   ],
   "source": [
    "def diagonalDifference2(arr):\n",
    "    d1=sum([arr[x][x] for x in range(len(arr))])\n",
    "    d2=sum([arr[x][n-1-x] for x in range(len(arr))])\n",
    "    return abs(d1-d2)\n",
    "diagonalDifference2(arr)"
   ]
  },
  {
   "cell_type": "code",
   "execution_count": null,
   "metadata": {},
   "outputs": [],
   "source": []
  },
  {
   "cell_type": "code",
   "execution_count": null,
   "metadata": {},
   "outputs": [],
   "source": []
  },
  {
   "cell_type": "code",
   "execution_count": null,
   "metadata": {},
   "outputs": [],
   "source": []
  }
 ],
 "metadata": {
  "interpreter": {
   "hash": "aee8b7b246df8f9039afb4144a1f6fd8d2ca17a180786b69acc140d282b71a49"
  },
  "kernelspec": {
   "display_name": "Python 3.9.6 64-bit",
   "language": "python",
   "name": "python3"
  },
  "language_info": {
   "codemirror_mode": {
    "name": "ipython",
    "version": 3
   },
   "file_extension": ".py",
   "mimetype": "text/x-python",
   "name": "python",
   "nbconvert_exporter": "python",
   "pygments_lexer": "ipython3",
   "version": "3.9.6"
  },
  "orig_nbformat": 4
 },
 "nbformat": 4,
 "nbformat_minor": 2
}
