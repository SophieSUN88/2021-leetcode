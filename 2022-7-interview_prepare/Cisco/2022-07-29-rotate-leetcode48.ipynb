{
 "cells": [
  {
   "cell_type": "markdown",
   "metadata": {},
   "source": [
    "### Rotate Image\n",
    "Given an image representing by an N X M matrix, where each pixel in the image is 4 bytes.\n",
    "\n",
    "Write an algorithm to rotate the image by 90 degrees right.\n",
    "\n",
    "Input: The first line of the input consists of two space-separated integers, matrix_rows and matrix_cols, representing the number of rows of the matrix(N) and number of columns of the matrix(M); The next N lines consist of M space-separated integer, representing the pixel of the matrix.\n",
    "\n",
    "Output: Print M lines consist of N space-separated integers representing the rotated image by 90 degrees.\n",
    "\n",
    "Example:\n",
    "\n",
    "Input:\n",
    "- 3 3\n",
    "- 1 2 3\n",
    "- 4 5 6\n",
    "- 7 8 9\n",
    "\n",
    "Output:\n",
    "- 7 4 1\n",
    "- 8 5 2\n",
    "- 9 6 3"
   ]
  },
  {
   "cell_type": "code",
   "execution_count": 16,
   "metadata": {},
   "outputs": [
    {
     "name": "stdout",
     "output_type": "stream",
     "text": [
      "[[9, 5, 1], [10, 6, 2], [11, 7, 3], [12, 8, 4]]\n",
      "[[7, 4, 1], [8, 5, 2], [9, 6, 3]]\n",
      "[[15, 13, 2, 5], [14, 3, 4, 1], [12, 6, 8, 9], [16, 7, 10, 11]]\n"
     ]
    }
   ],
   "source": [
    "class Solution():\n",
    "    def rotateImage(self,row_n, col_m, matrix):\n",
    "        result = [[0 for x in range(row_n)] for y in range(col_m)] \n",
    "        # print(result)\n",
    "        for i in range(row_n):\n",
    "            for j in range(col_m):\n",
    "                # print(matrix[i][j])\n",
    "                result[j][row_n - i -1] = matrix[i][j]\n",
    "        # print(result)\n",
    "        return result\n",
    "\n",
    "matrix = [[1,2,3,4],[5,6,7,8],[9,10,11,12]]\n",
    "example = Solution()\n",
    "print(example.rotateImage(3,4,matrix))\n",
    "\n",
    "matrix = [[1,2,3],[4,5,6],[7,8,9]]\n",
    "example = Solution()\n",
    "print(example.rotateImage(3,3,matrix))\n",
    "\n",
    "matrix = [[5,1,9,11],[2,4,8,10],[13,3,6,7],[15,14,12,16]]\n",
    "example = Solution()\n",
    "print(example.rotateImage(4,4,matrix))\n"
   ]
  },
  {
   "cell_type": "markdown",
   "metadata": {},
   "source": [
    "- Time complexity: O(nm)\n",
    "- Space complexity: O(nm)"
   ]
  },
  {
   "cell_type": "markdown",
   "metadata": {},
   "source": []
  },
  {
   "cell_type": "markdown",
   "metadata": {},
   "source": [
    "48. Rotate Image\n",
    "Medium\n",
    "\n",
    "You are given an n x n 2D matrix representing an image, rotate the image by 90 degrees (clockwise).\n",
    "\n",
    "You have to rotate the image in-place, which means you have to modify the input 2D matrix directly. DO NOT allocate another 2D matrix and do the rotation.\n",
    "\n",
    " \n",
    "\n",
    "Example 1:\n",
    "\n",
    "\n",
    "Input: matrix = [[1,2,3],[4,5,6],[7,8,9]]\n",
    "Output: [[7,4,1],[8,5,2],[9,6,3]]\n",
    "\n",
    "Example 2:\n",
    "\n",
    "\n",
    "Input: matrix = [[5,1,9,11],[2,4,8,10],[13,3,6,7],[15,14,12,16]]\n",
    "Output: [[15,13,2,5],[14,3,4,1],[12,6,8,9],[16,7,10,11]]\n",
    " \n",
    "\n",
    "Constraints:\n",
    "\n",
    "n == matrix.length == matrix[i].length\n",
    "1 <= n <= 20\n",
    "-1000 <= matrix[i][j] <= 1000"
   ]
  },
  {
   "cell_type": "code",
   "execution_count": 26,
   "metadata": {},
   "outputs": [
    {
     "name": "stdout",
     "output_type": "stream",
     "text": [
      "3\n",
      "tmp: 7\n",
      "tmp: 8\n",
      "[[7, 4, 1], [8, 5, 2], [9, 6, 3]]\n",
      "4\n",
      "tmp: 15\n",
      "tmp: 13\n",
      "tmp: 14\n",
      "tmp: 3\n",
      "[[15, 13, 2, 5], [14, 3, 4, 1], [12, 6, 8, 9], [16, 7, 10, 11]]\n"
     ]
    }
   ],
   "source": [
    "# N X N matrix\n",
    "# Approach 1: Rotate Groups of Four Cells\n",
    "from typing import List\n",
    "class Solution:\n",
    "    def rotateImage(self, matrix: List[List[int]]) -> None:\n",
    "        n = len(matrix[0])\n",
    "        print(n)\n",
    "        for i in range(n // 2 + n % 2):\n",
    "            for j in range(n // 2):\n",
    "                tmp = matrix[n - 1 - j][i]\n",
    "                print(\"tmp:\",tmp)\n",
    "                matrix[n - 1 - j][i] = matrix[n - 1 - i][n - j - 1]\n",
    "                matrix[n - 1 - i][n - j - 1] = matrix[j][n - 1 -i]\n",
    "                matrix[j][n - 1 - i] = matrix[i][j]\n",
    "                matrix[i][j] = tmp\n",
    "\n",
    "\n",
    "matrix = [[1,2,3],[4,5,6],[7,8,9]]\n",
    "example = Solution()\n",
    "example.rotateImage(matrix)\n",
    "print(matrix)\n",
    "\n",
    "matrix = [[5,1,9,11],[2,4,8,10],[13,3,6,7],[15,14,12,16]]\n",
    "example = Solution()\n",
    "example.rotateImage(matrix)\n",
    "print(matrix)\n"
   ]
  },
  {
   "cell_type": "markdown",
   "metadata": {},
   "source": [
    "- Time complexity: O(n * n)\n",
    "- Space complexity: O(1)\n",
    "\n",
    "Runtime: 30 ms, faster than 99.01% of Python3 online submissions for Rotate Image.\n",
    "\n",
    "Memory Usage: 13.8 MB, less than 74.44% of Python3 online submissions for Rotate Image."
   ]
  },
  {
   "cell_type": "code",
   "execution_count": 28,
   "metadata": {},
   "outputs": [
    {
     "name": "stdout",
     "output_type": "stream",
     "text": [
      "[[7, 4, 1], [8, 5, 2], [9, 6, 3]]\n",
      "[[15, 13, 2, 5], [14, 3, 4, 1], [12, 6, 8, 9], [16, 7, 10, 11]]\n"
     ]
    }
   ],
   "source": [
    "# N X N matrix\n",
    "# Approach 2: Reverse on Diagonal and then Reverse Left to Right\n",
    "class Solution:\n",
    "    def rotateImage(self, matrix: List[List[int]]) -> None:\n",
    "        self.transpose(matrix)\n",
    "        self.reflect(matrix)\n",
    "    \n",
    "    def transpose(self, matrix):\n",
    "        n = len(matrix)\n",
    "        for i in range(n):\n",
    "            for j in range(i + 1, n):\n",
    "                matrix[j][i], matrix[i][j] = matrix[i][j], matrix[j][i]\n",
    "\n",
    "    def reflect(self, matrix):\n",
    "        n = len(matrix)\n",
    "        for i in range(n):\n",
    "            for j in range(n // 2):\n",
    "                matrix[i][j], matrix[i][-j - 1] = matrix[i][-j - 1], matrix[i][j]\n",
    "matrix = [[1,2,3],[4,5,6],[7,8,9]]\n",
    "example = Solution()\n",
    "example.rotateImage(matrix)\n",
    "print(matrix)\n",
    "\n",
    "matrix = [[5,1,9,11],[2,4,8,10],[13,3,6,7],[15,14,12,16]]\n",
    "example = Solution()\n",
    "example.rotateImage(matrix)\n",
    "print(matrix)\n"
   ]
  },
  {
   "cell_type": "markdown",
   "metadata": {},
   "source": [
    "Runtime: 45 ms, faster than 76.04% of Python3 online submissions for Rotate Image.\n",
    "\n",
    "Memory Usage: 13.9 MB, less than 74.44% of Python3 online submissions for Rotate Image."
   ]
  },
  {
   "cell_type": "code",
   "execution_count": null,
   "metadata": {},
   "outputs": [],
   "source": []
  },
  {
   "cell_type": "code",
   "execution_count": null,
   "metadata": {},
   "outputs": [],
   "source": []
  },
  {
   "cell_type": "code",
   "execution_count": null,
   "metadata": {},
   "outputs": [],
   "source": []
  }
 ],
 "metadata": {
  "kernelspec": {
   "display_name": "Python 3.9.6 64-bit",
   "language": "python",
   "name": "python3"
  },
  "language_info": {
   "codemirror_mode": {
    "name": "ipython",
    "version": 3
   },
   "file_extension": ".py",
   "mimetype": "text/x-python",
   "name": "python",
   "nbconvert_exporter": "python",
   "pygments_lexer": "ipython3",
   "version": "3.9.6"
  },
  "orig_nbformat": 4,
  "vscode": {
   "interpreter": {
    "hash": "aee8b7b246df8f9039afb4144a1f6fd8d2ca17a180786b69acc140d282b71a49"
   }
  }
 },
 "nbformat": 4,
 "nbformat_minor": 2
}
