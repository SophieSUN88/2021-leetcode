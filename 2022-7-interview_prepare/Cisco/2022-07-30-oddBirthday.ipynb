{
 "cells": [
  {
   "cell_type": "markdown",
   "metadata": {},
   "source": [
    "### odd dates in Birthday data\n",
    "In the hostel, there are birthday celebrations every month. Ginven N number of days with are presenting the birthday. Find the number of days where there are an odd number of birthday celebrations.\n",
    "\n",
    "Example:\n",
    "- Input: 5, [4,8,2,8,9]\n",
    "- Output:3\n"
   ]
  },
  {
   "cell_type": "code",
   "execution_count": 18,
   "metadata": {},
   "outputs": [
    {
     "name": "stdout",
     "output_type": "stream",
     "text": [
      "{2: 4, 3: 2, 5: 3, 4: 4}\n"
     ]
    },
    {
     "data": {
      "text/plain": [
       "1"
      ]
     },
     "execution_count": 18,
     "metadata": {},
     "output_type": "execute_result"
    }
   ],
   "source": [
    "class Solution():\n",
    "    def oddBirthday(self,nums):\n",
    "        nums_dict = {}\n",
    "        for num in nums:\n",
    "            if num not in nums_dict:\n",
    "                nums_dict[num] = 1\n",
    "            else:\n",
    "                nums_dict[num] +=1\n",
    "        count = 0\n",
    "        print(nums_dict)\n",
    "        for num in nums_dict:\n",
    "            if nums_dict[num] % 2 == 1:\n",
    "                count +=1\n",
    "        return count\n",
    "nums = [2, 3, 5, 4, 5, 2, 4,3, 5, 2, 4, 4, 2]\n",
    "example = Solution()\n",
    "example.oddBirthday(nums)\n",
    "\n"
   ]
  },
  {
   "cell_type": "markdown",
   "metadata": {},
   "source": [
    "- Time complexity: O(N)\n",
    "- Space complexity: O(N)"
   ]
  },
  {
   "cell_type": "code",
   "execution_count": 25,
   "metadata": {},
   "outputs": [
    {
     "name": "stdout",
     "output_type": "stream",
     "text": [
      "5\n"
     ]
    },
    {
     "data": {
      "text/plain": [
       "5"
      ]
     },
     "execution_count": 25,
     "metadata": {},
     "output_type": "execute_result"
    }
   ],
   "source": [
    "# ？？？\n",
    "class Solution():\n",
    "    def oddBirthday(self,nums):\n",
    "        result = 0\n",
    "        for num in nums:\n",
    "            result = result ^ num\n",
    "            \n",
    "        print(result)\n",
    "\n",
    "        return result\n",
    "arr=[2, 3, 5, 4, 5, 2, 4,3, 5, 2, 4, 4, 2]\n",
    "example = Solution()\n",
    "example.oddBirthday(arr)\n",
    "\n"
   ]
  },
  {
   "cell_type": "markdown",
   "metadata": {},
   "source": []
  }
 ],
 "metadata": {
  "kernelspec": {
   "display_name": "Python 3.9.6 64-bit",
   "language": "python",
   "name": "python3"
  },
  "language_info": {
   "codemirror_mode": {
    "name": "ipython",
    "version": 3
   },
   "file_extension": ".py",
   "mimetype": "text/x-python",
   "name": "python",
   "nbconvert_exporter": "python",
   "pygments_lexer": "ipython3",
   "version": "3.9.6"
  },
  "orig_nbformat": 4,
  "vscode": {
   "interpreter": {
    "hash": "aee8b7b246df8f9039afb4144a1f6fd8d2ca17a180786b69acc140d282b71a49"
   }
  }
 },
 "nbformat": 4,
 "nbformat_minor": 2
}
