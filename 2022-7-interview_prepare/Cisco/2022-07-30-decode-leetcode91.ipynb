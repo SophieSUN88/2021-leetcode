{
 "cells": [
  {
   "cell_type": "markdown",
   "metadata": {},
   "source": [
    "### 91. Decode Ways (Medium)\n",
    "\n",
    "A message containing letters from A-Z can be encoded into numbers using the following mapping:\n",
    "\n",
    "'A' -> \"1\"\n",
    "'B' -> \"2\"\n",
    "...\n",
    "'Z' -> \"26\"\n",
    "To decode an encoded message, all the digits must be grouped then mapped back into letters using the reverse of the mapping above (there may be multiple ways). For example, \"11106\" can be mapped into:\n",
    "\n",
    "\"AAJF\" with the grouping (1 1 10 6)\n",
    "\"KJF\" with the grouping (11 10 6)\n",
    "Note that the grouping (1 11 06) is invalid because \"06\" cannot be mapped into 'F' since \"6\" is different from \"06\".\n",
    "\n",
    "Given a string s containing only digits, return the number of ways to decode it.\n",
    "\n",
    "The test cases are generated so that the answer fits in a 32-bit integer.\n",
    "\n",
    " \n",
    "\n",
    "Example 1:\n",
    "\n",
    "Input: s = \"12\"\n",
    "Output: 2\n",
    "Explanation: \"12\" could be decoded as \"AB\" (1 2) or \"L\" (12).\n",
    "\n",
    "Example 2:\n",
    "\n",
    "Input: s = \"226\"\n",
    "Output: 3\n",
    "Explanation: \"226\" could be decoded as \"BZ\" (2 26), \"VF\" (22 6), or \"BBF\" (2 2 6).\n",
    "\n",
    "Example 3:\n",
    "\n",
    "Input: s = \"06\"\n",
    "Output: 0\n",
    "Explanation: \"06\" cannot be mapped to \"F\" because of the leading zero (\"6\" is different from \"06\").\n",
    " \n",
    "\n",
    "Constraints:\n",
    "\n",
    "1 <= s.length <= 100\n",
    "s contains only digits and may contain leading zero(s).\n"
   ]
  },
  {
   "cell_type": "code",
   "execution_count": 10,
   "metadata": {},
   "outputs": [
    {
     "name": "stdout",
     "output_type": "stream",
     "text": [
      "6\n",
      "2\n",
      "2\n"
     ]
    }
   ],
   "source": [
    "class Solution():\n",
    "    def decode(self,str):\n",
    "        result = 1\n",
    "        i = len(str) -1\n",
    "        num = ''\n",
    "        while i >= 0:\n",
    "            print(str[i])\n",
    "            if not num:\n",
    "           \n",
    "                if str[i] == '0':\n",
    "                    i -=1\n",
    "                if int(str[i]) > 2:\n",
    "                    continue\n",
    "                else:\n",
    "                    if int(str[i+1])<= 6:\n",
    "                        nums = str[i:i+2]\n",
    "                    else:\n",
    "                        nums = str[i]\n",
    "\n",
    "                result *=2\n",
    "            i -=1\n",
    "\n",
    "        \n",
    "            \n",
    "\n",
    "str='2206'\n",
    "example = Solution()\n",
    "example.decode(str)\n"
   ]
  },
  {
   "cell_type": "code",
   "execution_count": 11,
   "metadata": {},
   "outputs": [
    {
     "data": {
      "text/plain": [
       "['Yes', 'No', 'Yes', 'No']"
      ]
     },
     "execution_count": 11,
     "metadata": {},
     "output_type": "execute_result"
    }
   ],
   "source": [
    "def isWordPresent(letters, words):\n",
    "\tword_set = set()\n",
    "\tfor row in letters:\n",
    "\t\tword_set.add(\"\".join(row))\n",
    "\tfor col_id in range(len(letters[0])):\n",
    "\t\tword_set.add(\"\".join([letters[row_id][col_id] for row_id in range(len(letters))]))\n",
    "\n",
    "\t# Test every word\n",
    "\tresult = []\n",
    "\tfor word in words:\n",
    "\t\tis_present = False\n",
    "\t\tfor word_in_set in word_set:\n",
    "\t\t\tif word in word_in_set: \n",
    "\t\t\t\tis_present = True\n",
    "\t\t\t\tbreak\n",
    "\t\tif is_present:\n",
    "\t\t\tresult.append(\"Yes\")\n",
    "\t\telse:\n",
    "\t\t\tresult.append(\"No\")\n",
    "\treturn result\n",
    "\n",
    "words  = ['MNT','RAH','MSR','OOB']\n",
    "letters = [['M','N','M'],['S','O','N'],['R','A','T']]\n",
    "isWordPresent(letters, words)\n"
   ]
  },
  {
   "cell_type": "code",
   "execution_count": null,
   "metadata": {},
   "outputs": [],
   "source": []
  }
 ],
 "metadata": {
  "kernelspec": {
   "display_name": "Python 3.9.6 64-bit",
   "language": "python",
   "name": "python3"
  },
  "language_info": {
   "codemirror_mode": {
    "name": "ipython",
    "version": 3
   },
   "file_extension": ".py",
   "mimetype": "text/x-python",
   "name": "python",
   "nbconvert_exporter": "python",
   "pygments_lexer": "ipython3",
   "version": "3.9.6"
  },
  "orig_nbformat": 4,
  "vscode": {
   "interpreter": {
    "hash": "aee8b7b246df8f9039afb4144a1f6fd8d2ca17a180786b69acc140d282b71a49"
   }
  }
 },
 "nbformat": 4,
 "nbformat_minor": 2
}
