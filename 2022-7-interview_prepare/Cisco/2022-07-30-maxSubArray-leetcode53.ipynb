{
 "cells": [
  {
   "cell_type": "markdown",
   "metadata": {},
   "source": [
    "### find max subArray\n",
    "\n",
    "You are given a list of N integers. Find the largest sum of a continuous sequence from the given list.\n",
    "\n",
    "Input: The first line of the input consists of an integer - inputArr_size, representing the size of the list(N). The second line of the inpurt consists of N space-separated integers - inputArr, representing the elements of the given list.\n",
    "\n",
    "Output: Print an integer representing the largest sum of a continuous sequence."
   ]
  },
  {
   "cell_type": "code",
   "execution_count": 2,
   "metadata": {},
   "outputs": [
    {
     "data": {
      "text/plain": [
       "5"
      ]
     },
     "execution_count": 2,
     "metadata": {},
     "output_type": "execute_result"
    }
   ],
   "source": [
    "# the rude solution- time limit exceeded\n",
    "class Solution():\n",
    "    def largestSumSubarray(self,nums):\n",
    "        n = len(nums)\n",
    "        max_sum = float('-inf')\n",
    "        for i in range(n):\n",
    "            for j in range(i,n):\n",
    "                sub_sum = sum(nums[i:j+1])\n",
    "                max_sum = max(max_sum,sub_sum)\n",
    "        return max_sum\n",
    "\n",
    "\n",
    "nums = [2,-8,3,-2,4,-10]\n",
    "example = Solution()\n",
    "example.largestSumSubarray(nums)"
   ]
  },
  {
   "cell_type": "markdown",
   "metadata": {},
   "source": [
    "- Time complexity : O(n * n)\n",
    "- Space comlexity :  O(1)\n",
    "- Time Limit Exceeded."
   ]
  },
  {
   "cell_type": "markdown",
   "metadata": {},
   "source": [
    "### 53. Maximum Subarray Medium\n",
    "\n",
    "Given an integer array nums, find the contiguous subarray (containing at least one number) which has the largest sum and return its sum.\n",
    "\n",
    "A subarray is a contiguous part of an array.\n",
    "\n",
    "\n",
    "Example 1:\n",
    "\n",
    "Input: nums = [-2,1,-3,4,-1,2,1,-5,4]\n",
    "Output: 6\n",
    "Explanation: [4,-1,2,1] has the largest sum = 6.\n",
    "\n",
    "Example 2:\n",
    "\n",
    "Input: nums = [1]\n",
    "Output: 1\n",
    "\n",
    "Example 3:\n",
    "\n",
    "Input: nums = [5,4,-1,7,8]\n",
    "Output: 23"
   ]
  },
  {
   "cell_type": "code",
   "execution_count": 9,
   "metadata": {},
   "outputs": [
    {
     "data": {
      "text/plain": [
       "5"
      ]
     },
     "execution_count": 9,
     "metadata": {},
     "output_type": "execute_result"
    }
   ],
   "source": [
    "class Solution():\n",
    "    def largestSumSubarray(self,nums):\n",
    "        n = len(nums)\n",
    "        max_sum = float('-inf')\n",
    "        for i in range(n):\n",
    "            if nums[i] < 0:\n",
    "                continue\n",
    "            else:\n",
    "                sub_sum = nums[i]\n",
    "                max_sum = max(max_sum,sub_sum)\n",
    "                for j in range(i+1,n):\n",
    "                    if nums[j] < 0:\n",
    "                        continue\n",
    "                    else:\n",
    "                        sub_sum = sum(nums[i:j+1])\n",
    "                        max_sum = max(max_sum,sub_sum)\n",
    "        return max_sum\n",
    "\n",
    "\n",
    "nums = [2,-8,3,-2,4,-10]\n",
    "example = Solution()\n",
    "example.largestSumSubarray(nums)"
   ]
  },
  {
   "cell_type": "markdown",
   "metadata": {},
   "source": [
    "### Dynamic Programming, Kadane's Algorithm"
   ]
  },
  {
   "cell_type": "code",
   "execution_count": 8,
   "metadata": {},
   "outputs": [],
   "source": [
    "class Solution():\n",
    "    def largestSumSubarray(self,nums):\n",
    "        # Initialize our variables using the first element.\n",
    "        current_subarray = max_subarray = nums[0]\n",
    "        \n",
    "        # Start with the 2nd element since we already used the first one.\n",
    "        for num in nums[1:]:\n",
    "            # If current_subarray is negative, throw it away. and restart from num.\n",
    "            # Otherwise, keep adding to it.\n",
    "            current_subarray = max(num, current_subarray + num)\n",
    "            max_subarray = max(max_subarray, current_subarray)\n",
    "        \n",
    "        return max_subarray"
   ]
  },
  {
   "cell_type": "markdown",
   "metadata": {},
   "source": [
    "- Time complexity: O(N)\n",
    "- Space complexity: O(1)\n",
    "\n",
    "Runtime: 919 ms, faster than 73.67% of Python3 online submissions for Maximum Subarray.\n",
    "\n",
    "Memory Usage: 27.9 MB, less than 39.36% of Python3 online submissions for Maximum Subarray."
   ]
  },
  {
   "cell_type": "markdown",
   "metadata": {},
   "source": [
    "### Approach 3: Divide and Conquer (Advanced)"
   ]
  },
  {
   "cell_type": "code",
   "execution_count": 10,
   "metadata": {},
   "outputs": [
    {
     "data": {
      "text/plain": [
       "5"
      ]
     },
     "execution_count": 10,
     "metadata": {},
     "output_type": "execute_result"
    }
   ],
   "source": [
    "from typing import List\n",
    "import math\n",
    "class Solution:\n",
    "    def maxSubArray(self, nums: List[int]) -> int:\n",
    "        def findBestSubarray(nums, left, right):\n",
    "            # Base case - empty array.\n",
    "            if left > right:\n",
    "                return -math.inf\n",
    "\n",
    "            mid = (left + right) // 2\n",
    "            curr = best_left_sum = best_right_sum = 0\n",
    "\n",
    "            # Iterate from the middle to the beginning.\n",
    "            for i in range(mid - 1, left - 1, -1):\n",
    "                curr += nums[i]\n",
    "                best_left_sum = max(best_left_sum, curr)\n",
    "\n",
    "            # Reset curr and iterate from the middle to the end.\n",
    "            curr = 0\n",
    "            for i in range(mid + 1, right + 1):\n",
    "                curr += nums[i]\n",
    "                best_right_sum = max(best_right_sum, curr)\n",
    "\n",
    "            # The best_combined_sum uses the middle element and\n",
    "            # the best possible sum from each half.\n",
    "            best_combined_sum = nums[mid] + best_left_sum + best_right_sum\n",
    "\n",
    "            # Find the best subarray possible from both halves.\n",
    "            left_half = findBestSubarray(nums, left, mid - 1)\n",
    "            right_half = findBestSubarray(nums, mid + 1, right)\n",
    "\n",
    "            # The largest of the 3 is the answer for any given input array.\n",
    "            return max(best_combined_sum, left_half, right_half)\n",
    "        \n",
    "        # Our helper function is designed to solve this problem for\n",
    "        # any array - so just call it using the entire input!\n",
    "        return findBestSubarray(nums, 0, len(nums) - 1)\n",
    "nums = [2,-8,3,-2,4,-10]\n",
    "example = Solution()\n",
    "example.maxSubArray(nums)\n"
   ]
  },
  {
   "cell_type": "markdown",
   "metadata": {},
   "source": [
    "- Time complexity: O(N log N)\n",
    "- Space complexity: O(log N)\n",
    "\n",
    "Runtime: 4653 ms, faster than 5.01% of Python3 online submissions for Maximum Subarray.\n",
    "\n",
    "Memory Usage: 28 MB, less than 21.87% of Python3 online submissions for Maximum Subarray."
   ]
  },
  {
   "cell_type": "code",
   "execution_count": null,
   "metadata": {},
   "outputs": [],
   "source": []
  }
 ],
 "metadata": {
  "kernelspec": {
   "display_name": "Python 3.9.6 64-bit",
   "language": "python",
   "name": "python3"
  },
  "language_info": {
   "codemirror_mode": {
    "name": "ipython",
    "version": 3
   },
   "file_extension": ".py",
   "mimetype": "text/x-python",
   "name": "python",
   "nbconvert_exporter": "python",
   "pygments_lexer": "ipython3",
   "version": "3.9.6"
  },
  "orig_nbformat": 4,
  "vscode": {
   "interpreter": {
    "hash": "aee8b7b246df8f9039afb4144a1f6fd8d2ca17a180786b69acc140d282b71a49"
   }
  }
 },
 "nbformat": 4,
 "nbformat_minor": 2
}
