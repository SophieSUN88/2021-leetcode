{
 "cells": [
  {
   "cell_type": "markdown",
   "metadata": {},
   "source": [
    "### check IPv4 Address\n",
    "\n",
    "Given an input IPv4 address as a string. Check whether the IPv4 address is valid.\n",
    "\n",
    "Input: The first line of the input consists of a string - addressIP, representing the IPv4 address.\n",
    "\n",
    "Output: Print a string \"VALID\" if the IPv4 address is valid. Otherwise, print \"INVALID\".\n",
    "\n",
    "Not: the output should be VALID or INVALID\n",
    "\n",
    "Example:\n",
    "- Input: 10.102.34.48\n",
    "- Output: VALID\n",
    "\n",
    "Explanation: Here, all four parts of the IP address have ranges between 0-225. So the IP address is valid."
   ]
  },
  {
   "cell_type": "code",
   "execution_count": 6,
   "metadata": {},
   "outputs": [
    {
     "name": "stdout",
     "output_type": "stream",
     "text": [
      "['10', '102', '34', '489']\n",
      "INVALID\n"
     ]
    }
   ],
   "source": [
    "class Solution():\n",
    "    def checkIPv4(self,str):\n",
    "        str = str.split(\".\")\n",
    "        print(str)\n",
    "        for num in str:\n",
    "            if 0 <= int(num) <=255:\n",
    "                continue\n",
    "            else:\n",
    "                print(\"INVALID\")\n",
    "                return \n",
    "        print(\"VALID\")\n",
    "        return\n",
    "\n",
    "str = \"10.102.34.489\"\n",
    "example = Solution()\n",
    "example.checkIPv4(str)"
   ]
  },
  {
   "cell_type": "markdown",
   "metadata": {},
   "source": [
    "### 468. Validate IP Address (Medium)\n",
    "\n",
    "Given a string queryIP, return \"IPv4\" if IP is a valid IPv4 address, \"IPv6\" if IP is a valid IPv6 address or \"Neither\" if IP is not a correct IP of any type.\n",
    "\n",
    "A valid IPv4 address is an IP in the form \"x1.x2.x3.x4\" where 0 <= xi <= 255 and xi cannot contain leading zeros. For example, \"192.168.1.1\" and \"192.168.1.0\" are valid IPv4 addresses while \"192.168.01.1\", \"192.168.1.00\", and \"192.168@1.1\" are invalid IPv4 addresses.\n",
    "\n",
    "A valid IPv6 address is an IP in the form \"x1:x2:x3:x4:x5:x6:x7:x8\" where:\n",
    "\n",
    "1 <= xi.length <= 4\n",
    "xi is a hexadecimal string which may contain digits, lowercase English letter ('a' to 'f') and upper-case English letters ('A' to 'F').\n",
    "Leading zeros are allowed in xi.\n",
    "For example, \"2001:0db8:85a3:0000:0000:8a2e:0370:7334\" and \"2001:db8:85a3:0:0:8A2E:0370:7334\" are valid IPv6 addresses, while \"2001:0db8:85a3::8A2E:037j:7334\" and \"02001:0db8:85a3:0000:0000:8a2e:0370:7334\" are invalid IPv6 addresses.\n",
    "\n",
    " \n",
    "\n",
    "Example 1:\n",
    "\n",
    "Input: queryIP = \"172.16.254.1\"\n",
    "Output: \"IPv4\"\n",
    "Explanation: This is a valid IPv4 address, return \"IPv4\".\n",
    "Example 2:\n",
    "\n",
    "Input: queryIP = \"2001:0db8:85a3:0:0:8A2E:0370:7334\"\n",
    "Output: \"IPv6\"\n",
    "Explanation: This is a valid IPv6 address, return \"IPv6\".\n",
    "Example 3:\n",
    "\n",
    "Input: queryIP = \"256.256.256.256\"\n",
    "Output: \"Neither\"\n",
    "Explanation: This is neither a IPv4 address nor a IPv6 address."
   ]
  },
  {
   "cell_type": "code",
   "execution_count": 34,
   "metadata": {},
   "outputs": [
    {
     "name": "stdout",
     "output_type": "stream",
     "text": [
      "IPv4\n",
      "Neither\n",
      "IPv6\n"
     ]
    }
   ],
   "source": [
    "# Divide and Conquer\n",
    "class Solution:\n",
    "    def validIPAddress(self, str) -> str:\n",
    "        chars = ('a','b','c','d','e','f','A','B','C','D','E','F')\n",
    "        if '.' in str:\n",
    "            str = str.split(\".\")\n",
    "            # print(str)\n",
    "            if len(str) != 4:\n",
    "                return \"Neither\"\n",
    "\n",
    "            for num in str:\n",
    "                if num.isnumeric() and 0 <= int(num) <= 255 :\n",
    "                    # print(num)\n",
    "                    # print(\"len(num):\",len(num))\n",
    "                    if len(num) > 1 and num[0] == '0':  \n",
    "                        # print(111,\"---\",num)\n",
    "                        return \"Neither\"\n",
    "                    else:\n",
    "                        continue\n",
    "                else:\n",
    "                    return \"Neither\"\n",
    "            return \"IPv4\"\n",
    "        elif ':' in str:\n",
    "            str = str.split(\":\")\n",
    "            # print(str)\n",
    "            if len(str) != 8:\n",
    "                return \"Neither\"\n",
    "            for num in str:\n",
    "                if num == ''  or len(num) > 4:\n",
    "                    return 'Neither'\n",
    "                for char in num:\n",
    "                    # print(char)\n",
    "                    if char.isalpha() and char not in chars:\n",
    "                            # print(222)\n",
    "                            return \"Neither\"\n",
    "            return \"IPv6\"\n",
    "        else:\n",
    "            return \"Neither\"\n",
    "str = \"172.16.254.1\"\n",
    "example = Solution()\n",
    "print(example.validIPAddress(str) )                       \n",
    "        \n",
    "str = \"01.01.01.01\"\n",
    "example = Solution()\n",
    "print(example.validIPAddress(str) )\n",
    "\n",
    "str = \"2001:0db8:85a3:0:0:8A2E:0370:7334\"\n",
    "example = Solution()\n",
    "print(example.validIPAddress(str) )"
   ]
  },
  {
   "cell_type": "code",
   "execution_count": 35,
   "metadata": {},
   "outputs": [
    {
     "name": "stdout",
     "output_type": "stream",
     "text": [
      "IPv4\n",
      "Neither\n",
      "IPv6\n"
     ]
    }
   ],
   "source": [
    "class Solution:\n",
    "    def validate_IPv4(self, IP: str) -> str:\n",
    "        nums = IP.split('.')\n",
    "        for x in nums:\n",
    "            # Validate integer in range (0, 255):\n",
    "            # 1. length of chunk is between 1 and 3\n",
    "            if len(x) == 0 or len(x) > 3:\n",
    "                return \"Neither\"\n",
    "            # 2. no extra leading zeros\n",
    "            # 3. only digits are allowed\n",
    "            # 4. less than 255\n",
    "            if x[0] == '0' and len(x) != 1 or not x.isdigit() or int(x) > 255:\n",
    "                return \"Neither\"\n",
    "        return \"IPv4\"\n",
    "    \n",
    "    def validate_IPv6(self, IP: str) -> str:\n",
    "        nums = IP.split(':')\n",
    "        hexdigits = '0123456789abcdefABCDEF'\n",
    "        for x in nums:\n",
    "            # Validate hexadecimal in range (0, 2**16):\n",
    "            # 1. at least one and not more than 4 hexdigits in one chunk\n",
    "            # 2. only hexdigits are allowed: 0-9, a-f, A-F\n",
    "            if len(x) == 0 or len(x) > 4 or not all(c in hexdigits for c in x):\n",
    "                return \"Neither\"\n",
    "        return \"IPv6\"\n",
    "        \n",
    "    def validIPAddress(self, IP: str) -> str:\n",
    "        if IP.count('.') == 3:\n",
    "            return self.validate_IPv4(IP)\n",
    "        elif IP.count(':') == 7:\n",
    "            return self.validate_IPv6(IP)\n",
    "        else:\n",
    "            return \"Neither\"\n",
    "str = \"172.16.254.1\"\n",
    "example = Solution()\n",
    "print(example.validIPAddress(str) )                       \n",
    "        \n",
    "str = \"01.01.01.01\"\n",
    "example = Solution()\n",
    "print(example.validIPAddress(str) )\n",
    "\n",
    "str = \"2001:0db8:85a3:0:0:8A2E:0370:7334\"\n",
    "example = Solution()\n",
    "print(example.validIPAddress(str) )"
   ]
  },
  {
   "cell_type": "markdown",
   "metadata": {},
   "source": [
    "- Time complexity: O(N)\n",
    "- Space complexity: O(1)\n",
    "\n",
    "Runtime: 39 ms, faster than 72.13% of Python3 online submissions for Validate IP Address.\n",
    "\n",
    "Memory Usage: 13.9 MB, less than 35.96% of Python3 online submissions for Validate IP Address.\n",
    "\n"
   ]
  },
  {
   "cell_type": "markdown",
   "metadata": {},
   "source": [
    "## Re to match the pattern\n",
    "\n",
    "- construct step by step regex for IPv4 \n",
    "- the chunk_IPv4 = r'([0-9]|[1-9][0-9]|1[0-9][0-9]|2[0-4][0-9]|25[0-5])'\n",
    "- The chunk_IPv6 = r'([0-9a-fA-F]{1,4})'\n",
    "\n",
    "- about regex:\n",
    "link: https://docs.python.org/3/library/re.html"
   ]
  },
  {
   "cell_type": "markdown",
   "metadata": {},
   "source": [
    "![picTitle](exams_from_web/re_explain.jpg)"
   ]
  },
  {
   "cell_type": "code",
   "execution_count": 31,
   "metadata": {},
   "outputs": [
    {
     "data": {
      "text/plain": [
       "'Neither'"
      ]
     },
     "execution_count": 31,
     "metadata": {},
     "output_type": "execute_result"
    }
   ],
   "source": [
    "import re\n",
    "class Solution:\n",
    "    chunk_IPv4 = r'([0-9]|[1-9][0-9]|1[0-9][0-9]|2[0-4][0-9]|25[0-5])'\n",
    "    patten_IPv4 = re.compile(r'^(' + chunk_IPv4 + r'\\.){3}' + chunk_IPv4 + r'$')\n",
    "    \n",
    "    chunk_IPv6 = r'([0-9a-fA-F]{1,4})'\n",
    "    patten_IPv6 = re.compile(r'^(' + chunk_IPv6 + r'\\:){7}' + chunk_IPv6 + r'$')\n",
    "\n",
    "    def validIPAddress(self, IP: str) -> str:        \n",
    "        if self.patten_IPv4.match(IP):\n",
    "            return \"IPv4\"\n",
    "        return \"IPv6\" if self.patten_IPv6.match(IP) else \"Neither\" \n",
    "str = \"2001:0db80:85a3:0:0:8A2E:0370:7334\"\n",
    "example = Solution()\n",
    "example.validIPAddress(str)"
   ]
  },
  {
   "cell_type": "markdown",
   "metadata": {},
   "source": [
    "- Time complexity : O(1)\n",
    "- Space complexity : O(1)\n",
    "\n",
    "Runtime: 37 ms, faster than 79.50% of Python3 online submissions for Validate IP Address.\n",
    "\n",
    "Memory Usage: 13.9 MB, less than 35.96% of Python3 online submissions for Validate IP Address."
   ]
  },
  {
   "cell_type": "code",
   "execution_count": null,
   "metadata": {},
   "outputs": [],
   "source": []
  }
 ],
 "metadata": {
  "kernelspec": {
   "display_name": "Python 3.9.6 64-bit",
   "language": "python",
   "name": "python3"
  },
  "language_info": {
   "codemirror_mode": {
    "name": "ipython",
    "version": 3
   },
   "file_extension": ".py",
   "mimetype": "text/x-python",
   "name": "python",
   "nbconvert_exporter": "python",
   "pygments_lexer": "ipython3",
   "version": "3.9.6"
  },
  "orig_nbformat": 4,
  "vscode": {
   "interpreter": {
    "hash": "aee8b7b246df8f9039afb4144a1f6fd8d2ca17a180786b69acc140d282b71a49"
   }
  }
 },
 "nbformat": 4,
 "nbformat_minor": 2
}
