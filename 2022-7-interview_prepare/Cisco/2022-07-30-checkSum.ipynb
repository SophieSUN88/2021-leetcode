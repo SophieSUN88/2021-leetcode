{
 "cells": [
  {
   "cell_type": "markdown",
   "metadata": {},
   "source": [
    "### Chedk Sum of X to Y\n",
    "\n",
    "Given an integer X, find the number of integers less than or equals to X whose digits adds up to Y.\n",
    "\n",
    "Input: The first line of the input consists of an integer- numX, representing the input number (X).The seconde line consists of an integer- numY, representing the number (Y).\n",
    "\n",
    "Output: Print an integer representing the count of numbers whose difits adds up to Y for the given number X.\n",
    "\n",
    "Example: \n",
    "- Input 20,5\n",
    "- Output: 2"
   ]
  },
  {
   "cell_type": "markdown",
   "metadata": {},
   "source": [
    "- Time complexity: O(X//10)\n",
    "- Space complexity: O(1)"
   ]
  },
  {
   "cell_type": "code",
   "execution_count": 12,
   "metadata": {},
   "outputs": [
    {
     "name": "stdout",
     "output_type": "stream",
     "text": [
      "0\n",
      "9 9\n",
      "1\n",
      "8 9\n",
      "9 8\n",
      "2\n",
      "7 9\n",
      "8 8\n",
      "9 7\n",
      "3\n",
      "6 9\n",
      "7 8\n",
      "8 7\n",
      "9 6\n",
      "4\n",
      "5 9\n",
      "6 8\n",
      "7 7\n",
      "8 6\n",
      "9 5\n",
      "5\n"
     ]
    },
    {
     "data": {
      "text/plain": [
       "15"
      ]
     },
     "execution_count": 12,
     "metadata": {},
     "output_type": "execute_result"
    }
   ],
   "source": [
    "class Solution():\n",
    "    def checkSumToY(self,numX, Y):\n",
    "        count = 0\n",
    "        if numX <10:\n",
    "            if numX >= Y:\n",
    "                return 1\n",
    "            else:\n",
    "                return 0\n",
    "        \n",
    "        elif numX<100:\n",
    "            for digit1 in range(numX//10+1):\n",
    "                digit2 = Y - digit1\n",
    "                if digit2 < 0:\n",
    "                    break\n",
    "                if digit2 < 10 and digit1 * 10 +digit2 <= numX:\n",
    "                    print(digit1,digit2)\n",
    "                    count +=1\n",
    "            \n",
    "            return count\n",
    "        else:\n",
    "            for digit1 in range(numX//100+1):\n",
    "                print(digit1)\n",
    "                if digit1 == numX//100:\n",
    "                    num = numX % 100\n",
    "                else:\n",
    "                    num = 99\n",
    "                y = Y - digit1\n",
    "                count += self.checkSumToY(num,y)\n",
    "              \n",
    "            return count\n",
    "numX = 500\n",
    "Y =18\n",
    "example = Solution()\n",
    "example.checkSumToY(numX,Y)\n",
    "\n"
   ]
  },
  {
   "cell_type": "code",
   "execution_count": null,
   "metadata": {},
   "outputs": [],
   "source": []
  }
 ],
 "metadata": {
  "kernelspec": {
   "display_name": "Python 3.9.6 64-bit",
   "language": "python",
   "name": "python3"
  },
  "language_info": {
   "codemirror_mode": {
    "name": "ipython",
    "version": 3
   },
   "file_extension": ".py",
   "mimetype": "text/x-python",
   "name": "python",
   "nbconvert_exporter": "python",
   "pygments_lexer": "ipython3",
   "version": "3.9.6"
  },
  "orig_nbformat": 4,
  "vscode": {
   "interpreter": {
    "hash": "aee8b7b246df8f9039afb4144a1f6fd8d2ca17a180786b69acc140d282b71a49"
   }
  }
 },
 "nbformat": 4,
 "nbformat_minor": 2
}
