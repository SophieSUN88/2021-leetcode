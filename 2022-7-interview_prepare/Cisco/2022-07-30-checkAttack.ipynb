{
 "cells": [
  {
   "cell_type": "markdown",
   "metadata": {},
   "source": [
    "### Check Attack\n",
    "\n",
    "\n",
    "Question: Opponent if the piece is located in the same row , same column, or same diagonal.\n",
    "\n",
    "Write a program that takes the position of the queen and position of the opponent piece on an empty chessboard and determine if the queen may attack the piece.\n",
    "\n",
    "Input: \n",
    "- The first line of the input consists of an interger- cord_x1, representing the x coordinate of the queen;\n",
    "- The seconde line of the input consists of an interger- cord_y1, representing the x coordinate of the queen;\n",
    "- The third line of the input consists of an integer- cord_x2, representing the x coordinate of the opponent piece;\n",
    "- The fourth line of the input consists of an integer- cord_y2, representing the y coordinate of the opponent piece.\n",
    "\n",
    "Output: Print a string \"Yes\" if the queen can attack the opponent piece. Other wise, print \"No.\"\n",
    "\n",
    "Examples:\n",
    "- Input: 4,5,6,7\n",
    "- Output: \"Yes\"\n"
   ]
  },
  {
   "cell_type": "markdown",
   "metadata": {},
   "source": []
  },
  {
   "cell_type": "code",
   "execution_count": 2,
   "metadata": {},
   "outputs": [
    {
     "data": {
      "text/plain": [
       "'Yes'"
      ]
     },
     "execution_count": 2,
     "metadata": {},
     "output_type": "execute_result"
    }
   ],
   "source": [
    "class Solution():\n",
    "    def checkAttack(self,x1,y1,x2,y2):\n",
    "        if x1 == x2 or y1 == y2:\n",
    "            return \"Yes\"\n",
    "        elif abs(x1-x2) == abs(y1-y2):\n",
    "            return \"Yes\"\n",
    "        else:\n",
    "            return \"No\"\n",
    "x1 = 4\n",
    "y1 = 5\n",
    "x2 = 6\n",
    "y2 = 7\n",
    "example = Solution()\n",
    "example.checkAttack(x1,y1,x2,y2)"
   ]
  }
 ],
 "metadata": {
  "kernelspec": {
   "display_name": "Python 3.9.6 64-bit",
   "language": "python",
   "name": "python3"
  },
  "language_info": {
   "codemirror_mode": {
    "name": "ipython",
    "version": 3
   },
   "file_extension": ".py",
   "mimetype": "text/x-python",
   "name": "python",
   "nbconvert_exporter": "python",
   "pygments_lexer": "ipython3",
   "version": "3.9.6"
  },
  "orig_nbformat": 4,
  "vscode": {
   "interpreter": {
    "hash": "aee8b7b246df8f9039afb4144a1f6fd8d2ca17a180786b69acc140d282b71a49"
   }
  }
 },
 "nbformat": 4,
 "nbformat_minor": 2
}
