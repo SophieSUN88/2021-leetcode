{
 "cells": [
  {
   "cell_type": "markdown",
   "metadata": {},
   "source": [
    "### max number in a Jar\n",
    "\n",
    "There is a set of N Jars. The jars contain differing numbers of chocolates. Some of the jars may be empty. Andrew may pick multiple jars but he may not pick any jar that is adjacent to a jar that he has already picked.\n",
    "\n",
    "Write an algotithm to calculate the maximum number of chocolates that Andrew may collect by picking jars.\n",
    "\n",
    "Input: The first line of the input consists of an integer- choco_size, representing the number of jars of chocolates(N). The second line of the input consists of N space-separated integers- choco, representing the number of chocolates in each jar.\n",
    "\n",
    "Output: Print an integer representing the maximum number of chocolates that Andrew may collect.\n",
    "\n",
    "Constraints: 1< choco_size < $10^3$, $-10^5$ <= choco[i] <= $10^5$; where i is representing the index of the jars of chocolate. 0 <= i < choco_size\n",
    "\n",
    "Example:\n",
    "- Input: 6, [5,30,99,60,5,10]\n",
    "- Output: 114\n"
   ]
  },
  {
   "cell_type": "code",
   "execution_count": null,
   "metadata": {},
   "outputs": [],
   "source": []
  },
  {
   "cell_type": "code",
   "execution_count": null,
   "metadata": {},
   "outputs": [],
   "source": []
  },
  {
   "cell_type": "code",
   "execution_count": null,
   "metadata": {},
   "outputs": [],
   "source": []
  }
 ],
 "metadata": {
  "kernelspec": {
   "display_name": "Python 3.9.6 64-bit",
   "language": "python",
   "name": "python3"
  },
  "language_info": {
   "name": "python",
   "version": "3.9.6"
  },
  "orig_nbformat": 4,
  "vscode": {
   "interpreter": {
    "hash": "aee8b7b246df8f9039afb4144a1f6fd8d2ca17a180786b69acc140d282b71a49"
   }
  }
 },
 "nbformat": 4,
 "nbformat_minor": 2
}
