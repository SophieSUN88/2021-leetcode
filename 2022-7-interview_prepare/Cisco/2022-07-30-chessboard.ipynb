{
 "cells": [
  {
   "cell_type": "markdown",
   "metadata": {},
   "source": [
    "### chessboard pattern\n",
    "Write a function that returns a chessboard pattern (\"B\" for black squares, \"W\" for white squares). The function takes a number N as input and generates the corresponding board.\n",
    "\n",
    "Example:\n",
    "- Input: 5\n",
    "- Output: \n",
    "- WBWBW\n",
    "- BWBWB\n",
    "- WBWBW\n",
    "- BWBWB\n",
    "- WBWBW"
   ]
  },
  {
   "cell_type": "code",
   "execution_count": 7,
   "metadata": {},
   "outputs": [
    {
     "data": {
      "text/plain": [
       "[['W', 'B', 'W', 'B', 'W'],\n",
       " ['B', 'W', 'B', 'W', 'B'],\n",
       " ['W', 'B', 'W', 'B', 'W'],\n",
       " ['B', 'W', 'B', 'W', 'B'],\n",
       " ['W', 'B', 'W', 'B', 'W']]"
      ]
     },
     "execution_count": 7,
     "metadata": {},
     "output_type": "execute_result"
    }
   ],
   "source": [
    "class Solution():\n",
    "    def chessboardPattern(self,n):\n",
    "        k = n // 2\n",
    "        if n % 2 == 0 :\n",
    "            line = ['W','B'] * k\n",
    "            result = [line, line[::-1]] * k\n",
    "        else:\n",
    "            line1 = ['W','B'] * k +['W']\n",
    "            line2 = ['B','W'] * k +['B']\n",
    "            result = [line1, line2] * k + [line1]\n",
    "        return result\n",
    "            \n",
    "\n",
    "n = 5\n",
    "example = Solution()\n",
    "example.chessboardPattern(n)"
   ]
  },
  {
   "cell_type": "code",
   "execution_count": 26,
   "metadata": {},
   "outputs": [
    {
     "data": {
      "text/plain": [
       "[['W', 'B', 'W', 'B', 'W'],\n",
       " ['B', 'W', 'B', 'W', 'B'],\n",
       " ['W', 'B', 'W', 'B', 'W'],\n",
       " ['B', 'W', 'B', 'W', 'B'],\n",
       " ['W', 'B', 'W', 'B', 'W']]"
      ]
     },
     "execution_count": 26,
     "metadata": {},
     "output_type": "execute_result"
    }
   ],
   "source": [
    "def get_chessboard(dim):\n",
    "    chessboard = [[None for i in range(dim)] for j in range(dim)]\n",
    "    \n",
    "    for i in range(dim * dim):\n",
    "        # print(i)\n",
    "        m, n = divmod(i, dim)\n",
    "        # print(m,n)\n",
    "        \n",
    "        if (m + n) % 2:\n",
    "            chessboard[m][n] = 'B'\n",
    "        else:\n",
    "            chessboard[m][n] = 'W'\n",
    "    \n",
    "    return chessboard\n",
    "n = 5\n",
    "get_chessboard(n)"
   ]
  },
  {
   "cell_type": "code",
   "execution_count": 21,
   "metadata": {},
   "outputs": [
    {
     "name": "stdout",
     "output_type": "stream",
     "text": [
      "Checkerboard pattern:\n",
      "0 1 0 1 0 \n",
      "1 0 1 0 1 \n",
      "0 1 0 1 0 \n",
      "1 0 1 0 1 \n",
      "0 1 0 1 0 \n"
     ]
    }
   ],
   "source": [
    "import numpy as np\n",
    "  \n",
    "# function to print Checkerboard pattern\n",
    "def printcheckboard(n):\n",
    "      \n",
    "    print(\"Checkerboard pattern:\")\n",
    "  \n",
    "    # create a n * n matrix\n",
    "    x = np.zeros((n, n), dtype= int)\n",
    "  \n",
    "    # fill with 1 the alternate rows and columns\n",
    "    x[1::2, ::2] = 1\n",
    "\n",
    "    x[::2, 1::2] = 1\n",
    "\n",
    "      \n",
    "    # print the pattern\n",
    "    for i in range(n):\n",
    "        for j in range(n):\n",
    "            print(x[i][j], end =\" \") \n",
    "        print() \n",
    "printcheckboard(5)"
   ]
  },
  {
   "cell_type": "code",
   "execution_count": 20,
   "metadata": {},
   "outputs": [
    {
     "name": "stdout",
     "output_type": "stream",
     "text": [
      "[[0 1 0 1 0 1 0 1]\n",
      " [1 0 1 0 1 0 1 0]\n",
      " [0 1 0 1 0 1 0 1]\n",
      " [1 0 1 0 1 0 1 0]\n",
      " [0 1 0 1 0 1 0 1]\n",
      " [1 0 1 0 1 0 1 0]\n",
      " [0 1 0 1 0 1 0 1]\n",
      " [1 0 1 0 1 0 1 0]]\n"
     ]
    }
   ],
   "source": [
    "import numpy as np\n",
    "def printcheckboard(n):\n",
    "    final = []\n",
    "    for i in range(n):\n",
    "        final.append(list(np.tile([0,1],int(n/2))) if i%2==0 else list(np.tile([1,0],int(n/2))))\n",
    "    print(np.array(final))\n",
    "  \n",
    "  \n",
    "# driver code\n",
    "n = 8\n",
    "printcheckboard(n)"
   ]
  },
  {
   "cell_type": "code",
   "execution_count": null,
   "metadata": {},
   "outputs": [],
   "source": []
  }
 ],
 "metadata": {
  "kernelspec": {
   "display_name": "Python 3.9.6 64-bit",
   "language": "python",
   "name": "python3"
  },
  "language_info": {
   "codemirror_mode": {
    "name": "ipython",
    "version": 3
   },
   "file_extension": ".py",
   "mimetype": "text/x-python",
   "name": "python",
   "nbconvert_exporter": "python",
   "pygments_lexer": "ipython3",
   "version": "3.9.6"
  },
  "orig_nbformat": 4,
  "vscode": {
   "interpreter": {
    "hash": "aee8b7b246df8f9039afb4144a1f6fd8d2ca17a180786b69acc140d282b71a49"
   }
  }
 },
 "nbformat": 4,
 "nbformat_minor": 2
}
