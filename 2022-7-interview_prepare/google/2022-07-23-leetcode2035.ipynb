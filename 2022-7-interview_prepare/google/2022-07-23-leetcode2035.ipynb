{
 "cells": [
  {
   "cell_type": "markdown",
   "metadata": {},
   "source": [
    "2035. Partition Array Into Two Arrays to Minimize Sum Difference  Hard\n",
    "\n",
    "You are given an integer array nums of 2 * n integers. You need to partition nums into two arrays of length n to minimize the absolute difference of the sums of the arrays. To partition nums, put each element of nums into one of the two arrays.\n",
    "\n",
    "Return the minimum possible absolute difference.\n",
    "\n",
    "Example 1:\n",
    "\n",
    "Input: nums = [3,9,7,3]\n",
    "Output: 2\n",
    "Explanation: One optimal partition is: [3,9] and [7,3].\n",
    "The absolute difference between the sums of the arrays is abs((3 + 9) - (7 + 3)) = 2.\n",
    "\n",
    "Example 2:\n",
    "\n",
    "Input: nums = [-36,36]\n",
    "Output: 72\n",
    "Explanation: One optimal partition is: [-36] and [36].\n",
    "The absolute difference between the sums of the arrays is abs((-36) - (36)) = 72.\n",
    "\n",
    "Example 3:\n",
    "\n",
    "Input: nums = [2,-1,0,4,-2,-9]\n",
    "Output: 0\n",
    "Explanation: One optimal partition is: [2,4,-9] and [-1,0,-2].\n",
    "The absolute difference between the sums of the arrays is abs((2 + 4 + -9) - (-1 + 0 + -2)) = 0."
   ]
  },
  {
   "cell_type": "code",
   "execution_count": 8,
   "metadata": {},
   "outputs": [],
   "source": [
    "## solution1 : meet in the middle\n",
    "from typing import List\n",
    "class Solution:\n",
    "    def minimumDifference(self, nums: List[int]) -> int:\n",
    "        # abs(s - 2*i)\n",
    "        # i <= s / 2\n",
    "        def f(A):\n",
    "            n = len(A)\n",
    "            a = [set() for _ in range(n+1)]\n",
    "            a[0].add(0)\n",
    "            for i in A:\n",
    "                for j in range(n,0,-1):\n",
    "                    for v in a[j-1]:\n",
    "                        a[j].add(v+i)\n",
    "            return list(map(sorted, a))\n",
    "        s = sum(nums)\n",
    "        n = len(nums)\n",
    "        a = f(nums[:n//2])\n",
    "        b = f(nums[n//2:])\n",
    "        res = float('inf')\n",
    "        for i in range(n//2+1):\n",
    "            j = len(b[n//2-i]) - 1\n",
    "            for v in a[i]:\n",
    "                while j >= 0 and v + b[n//2-i][j] > s // 2:\n",
    "                    j -= 1\n",
    "                if j >=0:\n",
    "                    res = min(res, s - 2 * (v+b[n//2-i][j]))\n",
    "        return res"
   ]
  },
  {
   "cell_type": "code",
   "execution_count": 9,
   "metadata": {},
   "outputs": [
    {
     "data": {
      "text/plain": [
       "2"
      ]
     },
     "execution_count": 9,
     "metadata": {},
     "output_type": "execute_result"
    }
   ],
   "source": [
    "nums = [3,9,7,3]\n",
    "example = Solution()\n",
    "example.minimumDifference(nums)"
   ]
  },
  {
   "cell_type": "code",
   "execution_count": 10,
   "metadata": {},
   "outputs": [
    {
     "data": {
      "text/plain": [
       "0"
      ]
     },
     "execution_count": 10,
     "metadata": {},
     "output_type": "execute_result"
    }
   ],
   "source": [
    "nums = [2,-1,0,4,-2,-9]\n",
    "example = Solution()\n",
    "example.minimumDifference(nums)"
   ]
  },
  {
   "cell_type": "code",
   "execution_count": 11,
   "metadata": {},
   "outputs": [
    {
     "data": {
      "text/plain": [
       "72"
      ]
     },
     "execution_count": 11,
     "metadata": {},
     "output_type": "execute_result"
    }
   ],
   "source": [
    "nums = [-36,36]\n",
    "example = Solution()\n",
    "example.minimumDifference(nums)"
   ]
  },
  {
   "cell_type": "code",
   "execution_count": 6,
   "metadata": {},
   "outputs": [
    {
     "name": "stdout",
     "output_type": "stream",
     "text": [
      "[{0}, set(), set(), set()]\n",
      "i: 1\n",
      "j: 3\n",
      "j: 2\n",
      "j: 1\n",
      "v: 0\n",
      "a [{0}, {1}, set(), set()]\n",
      "i: 2\n",
      "j: 3\n",
      "j: 2\n",
      "v: 1\n",
      "a [{0}, {1}, {3}, set()]\n",
      "j: 1\n",
      "v: 0\n",
      "a [{0}, {1, 2}, {3}, set()]\n",
      "i: 3\n",
      "j: 3\n",
      "v: 3\n",
      "a [{0}, {1, 2}, {3}, {6}]\n",
      "j: 2\n",
      "v: 1\n",
      "a [{0}, {1, 2}, {3, 4}, {6}]\n",
      "v: 2\n",
      "a [{0}, {1, 2}, {3, 4, 5}, {6}]\n",
      "j: 1\n",
      "v: 0\n",
      "a [{0}, {1, 2, 3}, {3, 4, 5}, {6}]\n"
     ]
    },
    {
     "data": {
      "text/plain": [
       "[[0], [1, 2, 3], [3, 4, 5], [6]]"
      ]
     },
     "execution_count": 6,
     "metadata": {},
     "output_type": "execute_result"
    }
   ],
   "source": [
    "def f(A):\n",
    "    n = len(A)\n",
    "    a = [set() for _ in range(n+1)]\n",
    "    a[0].add(0)\n",
    "    print(a)\n",
    "    for i in A:\n",
    "        print('i:',i)\n",
    "        for j in range(n,0,-1):\n",
    "            print('j:',j)\n",
    "            for v in a[j-1]:\n",
    "                print('v:',v)\n",
    "                a[j].add(v+i)\n",
    "                print('a',a)\n",
    "    return list(map(sorted, a))\n",
    "A=[1,2,3]\n",
    "f(A)"
   ]
  },
  {
   "cell_type": "code",
   "execution_count": null,
   "metadata": {},
   "outputs": [],
   "source": []
  },
  {
   "cell_type": "code",
   "execution_count": null,
   "metadata": {},
   "outputs": [],
   "source": []
  },
  {
   "cell_type": "code",
   "execution_count": null,
   "metadata": {},
   "outputs": [],
   "source": []
  }
 ],
 "metadata": {
  "kernelspec": {
   "display_name": "Python 3.9.6 64-bit",
   "language": "python",
   "name": "python3"
  },
  "language_info": {
   "codemirror_mode": {
    "name": "ipython",
    "version": 3
   },
   "file_extension": ".py",
   "mimetype": "text/x-python",
   "name": "python",
   "nbconvert_exporter": "python",
   "pygments_lexer": "ipython3",
   "version": "3.9.6"
  },
  "orig_nbformat": 4,
  "vscode": {
   "interpreter": {
    "hash": "aee8b7b246df8f9039afb4144a1f6fd8d2ca17a180786b69acc140d282b71a49"
   }
  }
 },
 "nbformat": 4,
 "nbformat_minor": 2
}
