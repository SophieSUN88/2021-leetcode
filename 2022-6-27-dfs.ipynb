{
 "cells": [
  {
   "cell_type": "code",
   "execution_count": 24,
   "metadata": {},
   "outputs": [
    {
     "data": {
      "text/plain": [
       "[1, 2, 3, 5, 8, 11, 10, 7, 4, 3, 6, 9]"
      ]
     },
     "execution_count": 24,
     "metadata": {},
     "output_type": "execute_result"
    }
   ],
   "source": [
    "import numpy\n",
    "directions=[[-1,0],[0,1],[1,0],[0,-1]] # up, right, down, left\n",
    "def dfs(matrix, row, col,seen,values):\n",
    "    if row < 0  or row >= len(matrix) or col<0 or col >= len(matrix[0]) or seen[row][col]:\n",
    "        return\n",
    "    values.append(matrix[row][col])\n",
    "    seen[row][col] = True\n",
    "\n",
    "    for i in range(len(directions)):\n",
    "        currentDirection = directions[i]\n",
    "        dfs(matrix, row+currentDirection[0],col+currentDirection[1],seen,values)\n",
    "\n",
    "def traversalDFS(matrix):\n",
    "    seen = numpy.full((len(matrix),len(matrix[0])),False)\n",
    "    values = []\n",
    "    dfs(matrix, 0 , 0 , seen, values)\n",
    "    return values\n",
    "\n",
    "matrix = [[1,2,3],[3,4,5],[6,7,8],[9,10,11]]\n",
    "traversalDFS(matrix)"
   ]
  },
  {
   "cell_type": "code",
   "execution_count": 18,
   "metadata": {},
   "outputs": [
    {
     "data": {
      "text/plain": [
       "array([[False, False, False],\n",
       "       [False, False, False]])"
      ]
     },
     "execution_count": 18,
     "metadata": {},
     "output_type": "execute_result"
    }
   ],
   "source": [
    "matrix=[[1,2,3],[3,4,5]]\n",
    "seen = numpy.full((len(matrix),len(matrix[0])),False)\n",
    "seen"
   ]
  },
  {
   "cell_type": "code",
   "execution_count": null,
   "metadata": {},
   "outputs": [],
   "source": []
  }
 ],
 "metadata": {
  "interpreter": {
   "hash": "aee8b7b246df8f9039afb4144a1f6fd8d2ca17a180786b69acc140d282b71a49"
  },
  "kernelspec": {
   "display_name": "Python 3.9.6 64-bit",
   "language": "python",
   "name": "python3"
  },
  "language_info": {
   "codemirror_mode": {
    "name": "ipython",
    "version": 3
   },
   "file_extension": ".py",
   "mimetype": "text/x-python",
   "name": "python",
   "nbconvert_exporter": "python",
   "pygments_lexer": "ipython3",
   "version": "3.9.6"
  },
  "orig_nbformat": 4
 },
 "nbformat": 4,
 "nbformat_minor": 2
}
