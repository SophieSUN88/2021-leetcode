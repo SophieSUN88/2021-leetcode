{
 "cells": [
  {
   "cell_type": "markdown",
   "metadata": {},
   "source": [
    "## leetcode 266 canPermutePalindrome\n",
    "- given a string, determine whether the string can be rearranged and combined to form a palindrome string.\n",
    "- example1\n",
    "    - input:\"code\"\n",
    "    - output:false\n",
    "- example2\n",
    "    - input:\"aab\"\n",
    "    - output:true"
   ]
  },
  {
   "cell_type": "code",
   "execution_count": 7,
   "metadata": {},
   "outputs": [
    {
     "data": {
      "text/plain": [
       "False"
      ]
     },
     "execution_count": 7,
     "metadata": {},
     "output_type": "execute_result"
    }
   ],
   "source": [
    "## Solution 1 Counter() (40ms)\n",
    "from collections import Counter\n",
    "def canPermutePalindrome( s: str) -> bool:\n",
    "    counter = Counter(s)\n",
    "    sum = 0\n",
    "    for i in set(s):\n",
    "        if counter[i] % 2 ==1:\n",
    "            sum +=1\n",
    "        if sum >=2:\n",
    "            return False\n",
    "    return True\n",
    "        \n",
    "s=\"code\"\n",
    "canPermutePalindrome(s)"
   ]
  },
  {
   "cell_type": "code",
   "execution_count": 12,
   "metadata": {},
   "outputs": [
    {
     "data": {
      "text/plain": [
       "False"
      ]
     },
     "execution_count": 12,
     "metadata": {},
     "output_type": "execute_result"
    }
   ],
   "source": [
    "## Solution 2 set() (24)\n",
    "def canPermutePalindrome2( s: str) -> bool:\n",
    "    seen = set()\n",
    "    for char in s:\n",
    "        if char in seen:\n",
    "            seen.remove(char)\n",
    "        else:                \n",
    "            seen.add(char)\n",
    "    return len(seen) <= 1\n",
    "s=\"code\"\n",
    "canPermutePalindrome2(s)"
   ]
  },
  {
   "cell_type": "code",
   "execution_count": 13,
   "metadata": {},
   "outputs": [
    {
     "data": {
      "text/plain": [
       "False"
      ]
     },
     "execution_count": 13,
     "metadata": {},
     "output_type": "execute_result"
    }
   ],
   "source": [
    "## Solution 3 defaultdict()\n",
    "from collections import defaultdict\n",
    "def canPermutePalindrome3( s: str) -> bool:\n",
    "    char_freq = defaultdict(int)\n",
    "    for c in s:\n",
    "        char_freq[c] += 1\n",
    "    cnt = 0\n",
    "    for c, freq in char_freq.items():\n",
    "        if freq % 2 == 1:\n",
    "            cnt += 1\n",
    "            if cnt > 1:         \n",
    "                return False\n",
    "    return True\n",
    "s=\"code\"\n",
    "canPermutePalindrome3(s)"
   ]
  }
 ],
 "metadata": {
  "interpreter": {
   "hash": "aee8b7b246df8f9039afb4144a1f6fd8d2ca17a180786b69acc140d282b71a49"
  },
  "kernelspec": {
   "display_name": "Python 3.9.6 64-bit",
   "language": "python",
   "name": "python3"
  },
  "language_info": {
   "codemirror_mode": {
    "name": "ipython",
    "version": 3
   },
   "file_extension": ".py",
   "mimetype": "text/x-python",
   "name": "python",
   "nbconvert_exporter": "python",
   "pygments_lexer": "ipython3",
   "version": "3.9.6"
  },
  "orig_nbformat": 4
 },
 "nbformat": 4,
 "nbformat_minor": 2
}
