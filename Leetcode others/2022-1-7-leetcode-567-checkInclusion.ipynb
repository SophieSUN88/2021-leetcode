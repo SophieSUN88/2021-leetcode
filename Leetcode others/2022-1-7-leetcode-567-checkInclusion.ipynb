{
 "cells": [
  {
   "cell_type": "markdown",
   "metadata": {},
   "source": [
    "## leetcode 567. Permutation in String\n",
    "- Given two strings s1 and s2, return true if s2 contains a permutation of s1, or false otherwise.\n",
    "- In other words, return true if one of s1's permutations is the substring of s2.\n",
    "- Example 1:\n",
    "    - Input: s1 = \"ab\", s2 = \"eidbaooo\"\n",
    "    - Output: true\n",
    "    - Explanation: s2 contains one permutation of s1 (\"ba\").\n",
    "- Example 2:\n",
    "    - Input: s1 = \"ab\", s2 = \"eidboaoo\"\n",
    "    - Output: false"
   ]
  },
  {
   "cell_type": "code",
   "execution_count": 6,
   "metadata": {},
   "outputs": [
    {
     "name": "stdout",
     "output_type": "stream",
     "text": [
      "True\n",
      "False\n"
     ]
    }
   ],
   "source": [
    "\n",
    "## firstly , misunderstanding the substring of 2, only think about the examples, \n",
    "## so only exam the string1 and reverse of string1 to the second string\n",
    "def checkInclusion1(s1,s2):\n",
    "    return s1 in s2 or s1[::-1] in s2\n",
    "\n",
    "s1=\"ab\"\n",
    "s2=\"eidbaooo\"\n",
    "s3=\"ab\"\n",
    "s4=\"eidboaoo\"\n",
    "print(checkInclusion1(s1,s2))\n",
    "print(checkInclusion1(s3,s4))"
   ]
  },
  {
   "cell_type": "code",
   "execution_count": 9,
   "metadata": {},
   "outputs": [
    {
     "name": "stdout",
     "output_type": "stream",
     "text": [
      "True\n",
      "False\n"
     ]
    }
   ],
   "source": [
    "## Solution 1: string1 is the substring of string2 (56ms)\n",
    "from collections import Counter\n",
    "def checkInclusion2(s1,s2):\n",
    "    if len(s1) > len(s2):\n",
    "        return False\n",
    "    # calculate the frequence of each letter in s1 as counter1\n",
    "    counter1 = Counter(s1)\n",
    "    n = len(s2)\n",
    "    # define the slide window, range from left to right, equal to the length of s1 \n",
    "    left = 0\n",
    "    right = len(s1)-1\n",
    "    # calculate the frequance of each letter in the window from left to right-1 position in s2 as counter2\n",
    "    counter2=Counter(s2[0:right])\n",
    "    while right < n:\n",
    "        # put the right position of widown of s2 into the counter2\n",
    "        counter2[s2[right]] +=1\n",
    "        if counter1 == counter2:\n",
    "            return True\n",
    "        # delete once of the left position of windown of s2 in the counter2\n",
    "        counter2[s2[left]] -=1\n",
    "        if counter2[s2[left]] == 0:\n",
    "        # if counter[s2[left]]==0, we need to delete it from the dictionary, or it will affect the comparation between s1 and s2\n",
    "            del counter2[s2[left]]\n",
    "        # windown move right by 1 step\n",
    "        left +=1\n",
    "        right +=1\n",
    "    return False\n",
    "s1=\"ab\"\n",
    "s2=\"eidbaooo\"\n",
    "s3=\"ab\"\n",
    "s4=\"eidboaoo\"\n",
    "print(checkInclusion2(s1,s2))\n",
    "print(checkInclusion2(s3,s4))"
   ]
  }
 ],
 "metadata": {
  "interpreter": {
   "hash": "40d3a090f54c6569ab1632332b64b2c03c39dcf918b08424e98f38b5ae0af88f"
  },
  "kernelspec": {
   "display_name": "Python 3.8.8 64-bit ('base': conda)",
   "language": "python",
   "name": "python3"
  },
  "language_info": {
   "codemirror_mode": {
    "name": "ipython",
    "version": 3
   },
   "file_extension": ".py",
   "mimetype": "text/x-python",
   "name": "python",
   "nbconvert_exporter": "python",
   "pygments_lexer": "ipython3",
   "version": "3.8.8"
  },
  "orig_nbformat": 4
 },
 "nbformat": 4,
 "nbformat_minor": 2
}
