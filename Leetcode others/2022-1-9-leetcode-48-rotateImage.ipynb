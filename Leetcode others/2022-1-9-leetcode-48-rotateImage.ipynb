{
 "cells": [
  {
   "cell_type": "markdown",
   "metadata": {},
   "source": [
    "## leetcode 48. Rotate Image (medium)\n",
    "- You are given an n x n 2D matrix representing an image, rotate the image by 90 degrees (clockwise).\n",
    "- You have to rotate the image in-place, which means you have to modify the input 2D matrix directly. DO NOT allocate another 2D matrix and do the rotation.\n",
    "- Example 1:\n",
    "    - Input: matrix = [[1,2,3],[4,5,6],[7,8,9]]\n",
    "    - Output: [[7,4,1],[8,5,2],[9,6,3]]\n",
    "- Example 2:\n",
    "    - Input: matrix = [[5,1,9,11],[2,4,8,10],[13,3,6,7],[15,14,12,16]]\n",
    "    - Output: [[15,13,2,5],[14,3,4,1],[12,6,8,9],[16,7,10,11]]"
   ]
  },
  {
   "cell_type": "markdown",
   "metadata": {},
   "source": [
    "## Solution 1\n",
    "After rotation, the value in cell ith row jth column shows in jth row (n-i-1)th column"
   ]
  },
  {
   "cell_type": "code",
   "execution_count": 1,
   "metadata": {},
   "outputs": [],
   "source": [
    "# Solution 1 （28ms)\n",
    "def rotateImage(matrix):\n",
    "    # Do not return anything, modify matrix in-place instead.\n",
    "    n = len(matrix)\n",
    "    matrix_new = [[0]*n for _ in range(n)]\n",
    "    for i in range(n):\n",
    "        for j in range(n):\n",
    "            matrix_new[j][n-i-1]=matrix[i][j]\n",
    "    matrix[:]=matrix_new\n"
   ]
  },
  {
   "cell_type": "code",
   "execution_count": 3,
   "metadata": {},
   "outputs": [
    {
     "name": "stdout",
     "output_type": "stream",
     "text": [
      "[[7, 4, 1], [8, 5, 2], [9, 6, 3]]\n",
      "[[15, 13, 2, 5], [14, 3, 4, 1], [12, 6, 8, 9], [16, 7, 10, 11]]\n"
     ]
    }
   ],
   "source": [
    "matrix1 = [[1,2,3],[4,5,6],[7,8,9]]\n",
    "matrix2 = [[5,1,9,11],[2,4,8,10],[13,3,6,7],[15,14,12,16]]\n",
    "print(rotateImage(matrix1))\n",
    "print(rotateImage(matrix2))"
   ]
  },
  {
   "cell_type": "code",
   "execution_count": 17,
   "metadata": {},
   "outputs": [],
   "source": [
    "# Solutioin 2  (36ms)\n",
    "\n",
    "def rotateImage2(matrix):\n",
    "    pos1 = 0\n",
    "    pos2 = len(matrix)-1\n",
    "    while   pos1<pos2:\n",
    "        add = 0\n",
    "        while   add < pos2-pos1:\n",
    "            #左上角为0块，右上角为1块，右下角为2块，左下角为3块\n",
    "            temp = matrix[pos2-add][pos1]                \n",
    "            matrix[pos2-add][pos1] = matrix[pos2][pos2-add]\n",
    "            #3 = 2\n",
    "            matrix[pos2][pos2-add] = matrix[pos1+add][pos2]\n",
    "            #2 = 1\n",
    "            matrix[pos1+add][pos2] = matrix[pos1][pos1+add]\n",
    "            #1 = 0\n",
    "            matrix[pos1][pos1+add] = temp\n",
    "            #0 = temp\n",
    "            add = add+1\n",
    "        pos1 = pos1+1\n",
    "        pos2 = pos2-1\n"
   ]
  },
  {
   "cell_type": "code",
   "execution_count": 18,
   "metadata": {},
   "outputs": [
    {
     "name": "stdout",
     "output_type": "stream",
     "text": [
      "[[7, 4, 1], [8, 5, 2], [9, 6, 3]]\n",
      "[[15, 13, 2, 5], [14, 3, 4, 1], [12, 6, 8, 9], [16, 7, 10, 11]]\n"
     ]
    }
   ],
   "source": [
    "matrix1 = [[1,2,3],[4,5,6],[7,8,9]]\n",
    "rotateImage2(matrix1)\n",
    "print(matrix1)\n",
    "matrix2 = [[5,1,9,11],[2,4,8,10],[13,3,6,7],[15,14,12,16]]\n",
    "rotateImage2(matrix2)\n",
    "print(matrix2)"
   ]
  },
  {
   "cell_type": "code",
   "execution_count": 13,
   "metadata": {},
   "outputs": [],
   "source": [
    "# Solution 3 (32ms)\n",
    "def rotateImage3(matrix):\n",
    "        numSet = set()\n",
    "        l = len(matrix)\n",
    "        #首先以左上到右下的对角线交换元素\n",
    "        for i in range(l):\n",
    "            for j in range(l):\n",
    "                if i != j and (i,j) not in numSet:\n",
    "                    temp = matrix[i][j]\n",
    "                    matrix[i][j] = matrix[j][i]\n",
    "                    matrix[j][i] = temp\n",
    "                    numSet.add((j,i))\n",
    "        #随后交换左右两侧的元素\n",
    "        for i in range(l):\n",
    "            for j in range(l//2):\n",
    "                temp = matrix[i][l-j-1]\n",
    "                matrix[i][l-j-1] = matrix[i][j]\n",
    "                matrix[i][j] = temp\n"
   ]
  },
  {
   "cell_type": "code",
   "execution_count": 14,
   "metadata": {},
   "outputs": [
    {
     "name": "stdout",
     "output_type": "stream",
     "text": [
      "[[7, 4, 1], [8, 5, 2], [9, 6, 3]]\n",
      "[[15, 13, 2, 5], [14, 3, 4, 1], [12, 6, 8, 9], [16, 7, 10, 11]]\n"
     ]
    }
   ],
   "source": [
    "matrix1 = [[1,2,3],[4,5,6],[7,8,9]]\n",
    "rotateImage3(matrix1)\n",
    "print(matrix1)\n",
    "matrix2 = [[5,1,9,11],[2,4,8,10],[13,3,6,7],[15,14,12,16]]\n",
    "rotateImage3(matrix2)\n",
    "print(matrix2)"
   ]
  },
  {
   "cell_type": "code",
   "execution_count": null,
   "metadata": {},
   "outputs": [],
   "source": []
  }
 ],
 "metadata": {
  "interpreter": {
   "hash": "aee8b7b246df8f9039afb4144a1f6fd8d2ca17a180786b69acc140d282b71a49"
  },
  "kernelspec": {
   "display_name": "Python 3.9.6 64-bit",
   "language": "python",
   "name": "python3"
  },
  "language_info": {
   "codemirror_mode": {
    "name": "ipython",
    "version": 3
   },
   "file_extension": ".py",
   "mimetype": "text/x-python",
   "name": "python",
   "nbconvert_exporter": "python",
   "pygments_lexer": "ipython3",
   "version": "3.9.6"
  },
  "orig_nbformat": 4
 },
 "nbformat": 4,
 "nbformat_minor": 2
}
