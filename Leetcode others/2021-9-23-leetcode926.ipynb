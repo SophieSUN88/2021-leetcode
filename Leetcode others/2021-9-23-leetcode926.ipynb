{
 "cells": [
  {
   "cell_type": "markdown",
   "metadata": {},
   "source": [
    "926. Flip String to Monotone Increasing  Medium\n",
    "\n",
    "A binary string is monotone increasing if it consists of some number of 0's (possibly none), followed by some number of 1's (also possibly none).\n",
    "\n",
    "You are given a binary string s. You can flip s[i] changing it from 0 to 1 or from 1 to 0.\n",
    "\n",
    "Return the minimum number of flips to make s monotone increasing.\n",
    "\n",
    " \n",
    "\n",
    "Example 1:\n",
    "\n",
    "Input: s = \"00110\"\n",
    "Output: 1\n",
    "Explanation: We flip the last digit to get 00111.\n",
    "\n",
    "Example 2:\n",
    "\n",
    "Input: s = \"010110\"\n",
    "Output: 2\n",
    "Explanation: We flip to get 011111, or alternatively 000111.\n",
    "\n",
    "Example 3:\n",
    "\n",
    "Input: s = \"00011000\"\n",
    "Output: 2\n",
    "Explanation: We flip to get 00000000."
   ]
  },
  {
   "cell_type": "code",
   "execution_count": 3,
   "metadata": {},
   "outputs": [
    {
     "data": {
      "text/plain": [
       "2"
      ]
     },
     "execution_count": 3,
     "metadata": {},
     "output_type": "execute_result"
    }
   ],
   "source": [
    "#Solution 1 is better\n",
    "def minFlipsMonolncr(s):\n",
    "    toZero = 0\n",
    "    flipCount = 0\n",
    "    for i in s:\n",
    "        if int(i) == 0:\n",
    "            # i = 0, so compare the count to flip to 0 , or the count flip to 1, which is small\n",
    "            # flipCount is the small count of 2 choices.\n",
    "            flipCount = min(toZero, flipCount+1)\n",
    "        else:\n",
    "            # i = 1, so flip 1 to 0\n",
    "            toZero +=1\n",
    "    return min(toZero, flipCount)\n",
    "\n",
    "s='00011000'\n",
    "minFlipsMonolncr(s)\n",
    "    \n"
   ]
  },
  {
   "cell_type": "markdown",
   "metadata": {},
   "source": [
    "- Time complexity: O(N)\n",
    "- Space complexity: O(1)\n",
    "\n",
    "Runtime: 238 ms, faster than 79.70% of Python3 online submissions for Flip String to Monotone Increasing.\n",
    "\n",
    "Memory Usage: 14.9 MB, less than 73.82% of Python3 online submissions for Flip String to Monotone Increasing."
   ]
  },
  {
   "cell_type": "markdown",
   "metadata": {},
   "source": [
    "### solution 2\n",
    "count the 0 on the left side, 1 on the right side. so we just check for each condition, if we flip all 1 on left side to 0 + flip all 0 on right side to 1. "
   ]
  },
  {
   "cell_type": "code",
   "execution_count": 4,
   "metadata": {},
   "outputs": [
    {
     "data": {
      "text/plain": [
       "2"
      ]
     },
     "execution_count": 4,
     "metadata": {},
     "output_type": "execute_result"
    }
   ],
   "source": [
    "def minFlipsMonolncr2(s):\n",
    "    n = len(s)\n",
    "    min_flip = n\n",
    "    one_left = 0\n",
    "    zero_right = s.count('0')\n",
    "    for i in range(n+1):\n",
    "        min_flip = min(min_flip, one_left+zero_right)\n",
    "        # edge case for i = n or all zero(000..000)\n",
    "        if i == n:\n",
    "            continue\n",
    "        if s[i] =='0':\n",
    "            zero_right -=1\n",
    "        else:\n",
    "            one_left +=1\n",
    "    return min_flip\n",
    "\n",
    "s='00011000'\n",
    "minFlipsMonolncr2(s)"
   ]
  },
  {
   "cell_type": "markdown",
   "metadata": {},
   "source": [
    "- Time complexity: O(n)\n",
    "- Space complexity :O(1)\n",
    "\n",
    "Runtime: 375 ms, faster than 54.42% of Python3 online submissions for Flip String to Monotone Increasing.\n",
    "\n",
    "Memory Usage: 15 MB, less than 50.59% of Python3 online submissions for Flip String to Monotone Increasing."
   ]
  },
  {
   "cell_type": "code",
   "execution_count": null,
   "metadata": {},
   "outputs": [],
   "source": []
  },
  {
   "cell_type": "code",
   "execution_count": null,
   "metadata": {},
   "outputs": [],
   "source": []
  }
 ],
 "metadata": {
  "kernelspec": {
   "display_name": "Python 3.9.6 64-bit",
   "language": "python",
   "name": "python3"
  },
  "language_info": {
   "codemirror_mode": {
    "name": "ipython",
    "version": 3
   },
   "file_extension": ".py",
   "mimetype": "text/x-python",
   "name": "python",
   "nbconvert_exporter": "python",
   "pygments_lexer": "ipython3",
   "version": "3.9.6"
  },
  "orig_nbformat": 4,
  "vscode": {
   "interpreter": {
    "hash": "aee8b7b246df8f9039afb4144a1f6fd8d2ca17a180786b69acc140d282b71a49"
   }
  }
 },
 "nbformat": 4,
 "nbformat_minor": 2
}
