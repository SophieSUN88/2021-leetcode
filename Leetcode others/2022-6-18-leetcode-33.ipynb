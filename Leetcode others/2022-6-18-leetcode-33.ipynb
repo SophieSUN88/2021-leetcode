{
 "cells": [
  {
   "cell_type": "markdown",
   "metadata": {},
   "source": [
    "### 33. 搜索旋转排序数组 medium\n",
    "整数数组 nums 按升序排列，数组中的值 互不相同 。\n",
    "\n",
    "在传递给函数之前，nums 在预先未知的某个下标 k（0 <= k < nums.length）上进行了 旋转，使数组变为 [nums[k], nums[k+1], ..., nums[n-1], nums[0], nums[1], ..., nums[k-1]]（下标 从 0 开始 计数）。例如， [0,1,2,4,5,6,7] 在下标 3 处经旋转后可能变为 [4,5,6,7,0,1,2] 。\n",
    "\n",
    "给你 旋转后 的数组 nums 和一个整数 target ，如果 nums 中存在这个目标值 target ，则返回它的下标，否则返回 -1 。\n",
    "\n",
    "你必须设计一个时间复杂度为 O(log n) 的算法解决此问题。\n",
    "\n",
    "输入：nums = [4,5,6,7,0,1,2], target = 0\n",
    "输出：4\n",
    "\n",
    "输入：nums = [4,5,6,7,0,1,2], target = 3\n",
    "输出：-1\n",
    "\n",
    "输入：nums = [1], target = 0\n",
    "输出：-1"
   ]
  },
  {
   "cell_type": "code",
   "execution_count": 52,
   "metadata": {},
   "outputs": [],
   "source": [
    "class Solution(object):\n",
    "    def search(self, nums, target):\n",
    "        \"\"\"\n",
    "        :type nums: List[int]\n",
    "        :type target: int\n",
    "        :rtype: int\n",
    "        \"\"\"\n",
    "        if len(nums) <1:\n",
    "            return -1\n",
    "        if len(nums) == 1:\n",
    "            if nums[0] == target:\n",
    "                return 0\n",
    "            else:\n",
    "                return -1\n",
    "        def find_k(nums):\n",
    "            l = 0\n",
    "            r=len(nums)-1\n",
    "            mid = 0\n",
    "            if len(nums)<2:\n",
    "                return -1\n",
    "            while l < r:\n",
    "                mid = (l+r)//2\n",
    "                # print(\"left:\",l)\n",
    "                # print(\"right:\",r)\n",
    "                # print(\"mid:\",mid)\n",
    "                if nums[mid] >=nums[0]:\n",
    "                    l = mid\n",
    "                else:\n",
    "                    r = mid \n",
    "                if r - l == 1:\n",
    "                    mid = r\n",
    "                    break\n",
    "            return mid\n",
    "        k = find_k(nums)\n",
    "        # print(\"k:\",k)\n",
    "\n",
    "        def find_target(nums,target):\n",
    "            if len(nums) <1:\n",
    "                return -1\n",
    "            if len(nums) == 1:\n",
    "                if nums[0] == target:\n",
    "                    return 0\n",
    "                else:\n",
    "                    return -1\n",
    "            l = 0\n",
    "            r =len(nums) -1\n",
    "            while l <= r:\n",
    "                mid = (l+r)//2\n",
    "                if nums[mid] == target :\n",
    "                    return mid\n",
    "                elif nums[mid] > target:\n",
    "                    r = mid -1\n",
    "                else:\n",
    "                    l = mid +1\n",
    "            return -1\n",
    "        if k == len(nums)-1:\n",
    "            if nums[k] == target:\n",
    "                return k\n",
    "            else:\n",
    "                result = find_target(nums[:k],target)\n",
    "                return result\n",
    "\n",
    "        if nums[0] == target:\n",
    "            return 0\n",
    "        elif nums[0] > target:\n",
    "            result = find_target(nums[k:],target)\n",
    "            if result != -1:\n",
    "                result +=k\n",
    "        else:\n",
    "            result = find_target(nums[:k],target)\n",
    "        return result"
   ]
  },
  {
   "cell_type": "code",
   "execution_count": 53,
   "metadata": {},
   "outputs": [
    {
     "data": {
      "text/plain": [
       "-1"
      ]
     },
     "execution_count": 53,
     "metadata": {},
     "output_type": "execute_result"
    }
   ],
   "source": [
    "nums = [1,2,3]\n",
    "target = 0\n",
    "example = Solution()\n",
    "example.search(nums,target)"
   ]
  },
  {
   "cell_type": "code",
   "execution_count": 57,
   "metadata": {},
   "outputs": [
    {
     "data": {
      "text/plain": [
       "2"
      ]
     },
     "execution_count": 57,
     "metadata": {},
     "output_type": "execute_result"
    }
   ],
   "source": [
    "nums = [1,2,3]\n",
    "target = 3\n",
    "example = Solution()\n",
    "example.search(nums,target)"
   ]
  },
  {
   "cell_type": "code",
   "execution_count": 54,
   "metadata": {},
   "outputs": [
    {
     "data": {
      "text/plain": [
       "1"
      ]
     },
     "execution_count": 54,
     "metadata": {},
     "output_type": "execute_result"
    }
   ],
   "source": [
    "nums = [4,3]\n",
    "target = 3\n",
    "example = Solution()\n",
    "example.search(nums,target)"
   ]
  },
  {
   "cell_type": "code",
   "execution_count": 56,
   "metadata": {},
   "outputs": [
    {
     "data": {
      "text/plain": [
       "1"
      ]
     },
     "execution_count": 56,
     "metadata": {},
     "output_type": "execute_result"
    }
   ],
   "source": [
    "nums = [4,5,6,0,1]\n",
    "target = 5\n",
    "example = Solution()\n",
    "example.search(nums,target)"
   ]
  },
  {
   "cell_type": "code",
   "execution_count": null,
   "metadata": {},
   "outputs": [],
   "source": []
  },
  {
   "cell_type": "code",
   "execution_count": null,
   "metadata": {},
   "outputs": [],
   "source": []
  },
  {
   "cell_type": "code",
   "execution_count": 60,
   "metadata": {},
   "outputs": [
    {
     "data": {
      "text/plain": [
       "-1"
      ]
     },
     "execution_count": 60,
     "metadata": {},
     "output_type": "execute_result"
    }
   ],
   "source": [
    "def find_target(nums,target):\n",
    "    if len(nums) <1:\n",
    "        return -1\n",
    "    if len(nums) == 1:\n",
    "        if nums[0] == target:\n",
    "            return 0\n",
    "        else:\n",
    "            return -1\n",
    "    l = 0\n",
    "    r =len(nums) -1\n",
    "    while l <= r:\n",
    "        mid = (l+r)//2\n",
    "        if nums[mid] == target :\n",
    "            return mid\n",
    "        elif nums[mid] > target:\n",
    "            r = mid -1\n",
    "        else:\n",
    "            l = mid +1\n",
    "    return -1\n",
    "nums = [0,1,2,4]\n",
    "find_target(nums,3)\n",
    "\n"
   ]
  },
  {
   "cell_type": "code",
   "execution_count": 59,
   "metadata": {},
   "outputs": [
    {
     "name": "stdout",
     "output_type": "stream",
     "text": [
      "3\n"
     ]
    }
   ],
   "source": [
    "def find_k(nums):\n",
    "    l = 0\n",
    "    r=len(nums)-1\n",
    "    if len(nums)<2:\n",
    "        return -1\n",
    "    while l < r:\n",
    "        mid = (l+r)//2\n",
    "        if nums[mid] >=nums[0]:\n",
    "            l = mid\n",
    "        else:\n",
    "            r = mid \n",
    "\n",
    "        if r - l == 1:\n",
    "            mid = r\n",
    "            break\n",
    "    return mid\n",
    "nums=[1,2,3,4]\n",
    "k = find_k(nums)\n",
    "print(k)"
   ]
  },
  {
   "cell_type": "code",
   "execution_count": 61,
   "metadata": {},
   "outputs": [
    {
     "data": {
      "text/plain": [
       "1"
      ]
     },
     "execution_count": 61,
     "metadata": {},
     "output_type": "execute_result"
    }
   ],
   "source": [
    "class Solution(object):\n",
    "    def search(self, nums, target):\n",
    "        l = 0 \n",
    "        r = len(nums)-1\n",
    "        while l <=r:\n",
    "            mid = (l+r)//2\n",
    "            if nums[mid] == target:\n",
    "                return mid\n",
    "\n",
    "            if nums[mid] >= nums[l]:\n",
    "                if target >= nums[l] and target < nums[mid]:\n",
    "                    r = mid -1\n",
    "                else:\n",
    "                    l = mid +1\n",
    "            else:\n",
    "                if target <= nums[r] and target > nums[mid]:\n",
    "                    l = mid +1\n",
    "                else:\n",
    "                    r = mid -1\n",
    "        return -1\n",
    "nums = [4,5,6,0,1]\n",
    "target = 5\n",
    "example = Solution()\n",
    "example.search(nums,target)\n",
    "\n"
   ]
  },
  {
   "cell_type": "code",
   "execution_count": null,
   "metadata": {},
   "outputs": [],
   "source": []
  }
 ],
 "metadata": {
  "interpreter": {
   "hash": "aee8b7b246df8f9039afb4144a1f6fd8d2ca17a180786b69acc140d282b71a49"
  },
  "kernelspec": {
   "display_name": "Python 3.9.6 64-bit",
   "language": "python",
   "name": "python3"
  },
  "language_info": {
   "codemirror_mode": {
    "name": "ipython",
    "version": 3
   },
   "file_extension": ".py",
   "mimetype": "text/x-python",
   "name": "python",
   "nbconvert_exporter": "python",
   "pygments_lexer": "ipython3",
   "version": "3.9.6"
  },
  "orig_nbformat": 4
 },
 "nbformat": 4,
 "nbformat_minor": 2
}
