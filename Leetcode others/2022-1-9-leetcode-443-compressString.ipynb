{
 "cells": [
  {
   "cell_type": "markdown",
   "metadata": {},
   "source": [
    "## leetcode 443. String Compression (medium)\n",
    "- Given an array of characters chars, compress it using the following algorithm:\n",
    "    - Begin with an empty string s. For each group of consecutive repeating characters in chars:\n",
    "        - If the group's length is 1, append the character to s.\n",
    "        - Otherwise, append the character followed by the group's length.\n",
    "- The compressed string s should not be returned separately, but instead, be stored in the input character array chars. Note that group lengths that are 10 or longer will be split into multiple characters in chars.\n",
    "- After you are done modifying the input array, return the new length of the array.\n",
    "- You must write an algorithm that uses only constant extra space.\n",
    "\n",
    "- Example 1:\n",
    "    - Input: chars = [\"a\",\"a\",\"b\",\"b\",\"c\",\"c\",\"c\"]\n",
    "    - Output: Return 6, and the first 6 characters of the input array should be: [\"a\",\"2\",\"b\",\"2\",\"c\",\"3\"]\n",
    "    - Explanation: The groups are \"aa\", \"bb\", and \"ccc\". This compresses to \"a2b2c3\".\n",
    "- Example 2:\n",
    "    - Input: chars = [\"a\"]\n",
    "    - Output: Return 1, and the first character of the input array should be: [\"a\"]\n",
    "    - Explanation: The only group is \"a\", which remains uncompressed since it's a single character.\n",
    "- Example 3:\n",
    "    - Input: chars = [\"a\",\"b\",\"b\",\"b\",\"b\",\"b\",\"b\",\"b\",\"b\",\"b\",\"b\",\"b\",\"b\"]\n",
    "    - Output: Return 4, and the first 4 characters of the input array should be: [\"a\",\"b\",\"1\",\"2\"].\n",
    "    - Explanation: The groups are \"a\" and \"bbbbbbbbbbbb\". This compresses to \"ab12\"."
   ]
  },
  {
   "cell_type": "markdown",
   "metadata": {},
   "source": [
    "### Solution:\n",
    "- use 3 index: left, read, write\n",
    "- read stop at the right side of the continous letter\n",
    "- left is the left start of the the continous letter\n",
    "- num is the length of the continous letter\n",
    "- write is the index to write the letter and count which is more than 1 in chars"
   ]
  },
  {
   "cell_type": "code",
   "execution_count": 1,
   "metadata": {},
   "outputs": [],
   "source": [
    "# Solution 1 (36ms)\n",
    "def compressString1(chars): \n",
    "    def reverse(left,right):\n",
    "        while left < right:\n",
    "            chars[left],chars[right] = chars[right], chars[left]\n",
    "            left +=1\n",
    "            right -=1\n",
    "\n",
    "    n=len(chars)\n",
    "    write = 0\n",
    "    read = 0\n",
    "    left = 0\n",
    "    for read in range(n):\n",
    "        if read == n-1 or chars[read]!=chars[read+1]:\n",
    "            chars[write] =chars[read]\n",
    "            write +=1\n",
    "            num = read - left + 1\n",
    "            if num >1:\n",
    "                anchor = write\n",
    "                while num >0 :\n",
    "                    chars[write] = str(num % 10)\n",
    "                    write +=1\n",
    "                    num //=10\n",
    "                reverse(anchor,write-1)\n",
    "            left = read + 1\n",
    "    return write\n"
   ]
  },
  {
   "cell_type": "code",
   "execution_count": 2,
   "metadata": {},
   "outputs": [
    {
     "name": "stdout",
     "output_type": "stream",
     "text": [
      "6\n",
      "1\n",
      "4\n"
     ]
    }
   ],
   "source": [
    "chars1 = [\"a\",\"a\",\"b\",\"b\",\"c\",\"c\",\"c\"]\n",
    "chars2 = [\"a\"]\n",
    "chars3 = [\"a\",\"b\",\"b\",\"b\",\"b\",\"b\",\"b\",\"b\",\"b\",\"b\",\"b\",\"b\",\"b\"]\n",
    "print(compressString1(chars1))\n",
    "print(compressString1(chars2))\n",
    "print(compressString1(chars3))"
   ]
  },
  {
   "cell_type": "code",
   "execution_count": 3,
   "metadata": {},
   "outputs": [],
   "source": [
    "# Solution 2 (32ms)\n",
    "def compressString2(chars):\n",
    "    n = len(chars)\n",
    "    left = 0\n",
    "    write = 0\n",
    "    while left < n :\n",
    "        read = left\n",
    "        while read < n and chars[read] == chars[left]:\n",
    "            read +=1\n",
    "        chars[write]=chars[left]\n",
    "        write +=1\n",
    "        if read - left >1:\n",
    "            for c in str(read-left):\n",
    "                chars[write] = c\n",
    "                write +=1\n",
    "        left = read\n",
    "    return write"
   ]
  },
  {
   "cell_type": "code",
   "execution_count": 4,
   "metadata": {},
   "outputs": [
    {
     "name": "stdout",
     "output_type": "stream",
     "text": [
      "6\n",
      "1\n",
      "4\n"
     ]
    }
   ],
   "source": [
    "chars1 = [\"a\",\"a\",\"b\",\"b\",\"c\",\"c\",\"c\"]\n",
    "chars2 = [\"a\"]\n",
    "chars3 = [\"a\",\"b\",\"b\",\"b\",\"b\",\"b\",\"b\",\"b\",\"b\",\"b\",\"b\",\"b\",\"b\"]\n",
    "print(compressString2(chars1))\n",
    "print(compressString2(chars2))\n",
    "print(compressString2(chars3))"
   ]
  }
 ],
 "metadata": {
  "interpreter": {
   "hash": "aee8b7b246df8f9039afb4144a1f6fd8d2ca17a180786b69acc140d282b71a49"
  },
  "kernelspec": {
   "display_name": "Python 3.9.6 64-bit",
   "language": "python",
   "name": "python3"
  },
  "language_info": {
   "codemirror_mode": {
    "name": "ipython",
    "version": 3
   },
   "file_extension": ".py",
   "mimetype": "text/x-python",
   "name": "python",
   "nbconvert_exporter": "python",
   "pygments_lexer": "ipython3",
   "version": "3.9.6"
  },
  "orig_nbformat": 4
 },
 "nbformat": 4,
 "nbformat_minor": 2
}
