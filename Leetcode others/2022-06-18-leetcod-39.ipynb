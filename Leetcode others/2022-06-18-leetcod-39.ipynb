{
 "cells": [
  {
   "cell_type": "markdown",
   "metadata": {},
   "source": [
    "### 39. 组合总和 medium\n",
    "\n",
    "给你一个 无重复元素 的整数数组 candidates 和一个目标整数 target ，找出 candidates 中可以使数字和为目标数 target 的 所有 不同组合 ，并以列表形式返回。你可以按 任意顺序 返回这些组合。\n",
    "\n",
    "candidates 中的 同一个 数字可以 无限制重复被选取 。如果至少一个数字的被选数量不同，则两种组合是不同的。 \n",
    "\n",
    "对于给定的输入，保证和为 target 的不同组合数少于 150 个。\n",
    "\n",
    "输入：candidates = [2,3,6,7], target = 7\n",
    "输出：[[2,2,3],[7]]\n",
    "解释：2 和 3 可以形成一组候选，2 + 2 + 3 = 7 。注意 2 可以使用多次。7 也是一个候选， 7 = 7 。仅有这两种组合."
   ]
  },
  {
   "cell_type": "code",
   "execution_count": 16,
   "metadata": {},
   "outputs": [
    {
     "name": "stdout",
     "output_type": "stream",
     "text": [
      "try again\n",
      "k: 2\n",
      "try again\n",
      "k: 2\n",
      "try again\n",
      "k: 2\n",
      "k: 3\n",
      "results: [[2]]\n",
      "items: [[2]]\n",
      "k: 3\n",
      "try again\n",
      "k: 2\n",
      "k: 3\n",
      "results: []\n",
      "items: []\n",
      "results: [[2, 2]]\n",
      "items: [[2, 2]]\n",
      "k: 3\n",
      "try again\n",
      "k: 2\n",
      "try again\n",
      "k: 2\n",
      "k: 3\n",
      "results: []\n",
      "items: []\n",
      "k: 3\n",
      "results: [[3]]\n",
      "items: [[3]]\n",
      "results: [[2, 2, 2], [3, 3]]\n"
     ]
    },
    {
     "data": {
      "text/plain": [
       "[[2, 2, 2], [3, 3]]"
      ]
     },
     "execution_count": 16,
     "metadata": {},
     "output_type": "execute_result"
    }
   ],
   "source": [
    "class Solution(object):\n",
    "    def combinationSum(self, candidates, target):\n",
    "        \"\"\"\n",
    "        :type candidates: List[int]\n",
    "        :type target: int\n",
    "        :rtype: List[List[int]]\n",
    "        \"\"\"\n",
    "        print(\"try again\")\n",
    "        result = []\n",
    "        if len(candidates) == 0:\n",
    "            return []\n",
    "        if len(candidates)==1:\n",
    "            print(\"len(candidates)==1\")\n",
    "            if candidates[0] == target:\n",
    "                return candidates\n",
    "            # elif candidates[0]< target:\n",
    "            #     if target % candidates[0] == 0:\n",
    "            #         return candidates*(target//candidates[0])\n",
    "            else:\n",
    "                return []\n",
    "        else:\n",
    "            for k in candidates:\n",
    "                print(\"k:\",k)\n",
    "                if k == target:\n",
    "                    result.append([target])\n",
    "                elif k > target:\n",
    "                    continue\n",
    "                else:\n",
    "                    items = self.combinationSum(candidates,target-k)\n",
    "                    print(\"items:\",items)\n",
    "                    for item in items:\n",
    "\n",
    "                        item = [k] + item\n",
    "                        item.sort()\n",
    "                        if item not in result:\n",
    "                            result.append(item)\n",
    "        print(\"results:\",result)\n",
    "        return result\n",
    "\n",
    "# candidates = [2,3,6,7]\n",
    "candidates = [2,3,]\n",
    "target = 6\n",
    "example = Solution()\n",
    "example.combinationSum(candidates, target)"
   ]
  },
  {
   "cell_type": "code",
   "execution_count": 20,
   "metadata": {},
   "outputs": [
    {
     "name": "stdout",
     "output_type": "stream",
     "text": [
      "[2, 3, 6, 7] 0 4 [] [] 7\n",
      "[2, 3, 6, 7] 0 4 [2] [] 5\n",
      "[2, 3, 6, 7] 0 4 [2, 2] [] 3\n",
      "[2, 3, 6, 7] 0 4 [2, 2, 2] [] 1\n",
      "[2, 3, 6, 7] 0 4 [2, 2, 2, 2] [] -1\n",
      "[2, 3, 6, 7] 1 4 [2, 2, 2, 3] [] -2\n",
      "[2, 3, 6, 7] 2 4 [2, 2, 2, 6] [] -5\n",
      "[2, 3, 6, 7] 3 4 [2, 2, 2, 7] [] -6\n",
      "[2, 3, 6, 7] 1 4 [2, 2, 3] [] 0\n",
      "[2, 3, 6, 7] 2 4 [2, 2, 6] [[2, 2, 3]] -3\n",
      "[2, 3, 6, 7] 3 4 [2, 2, 7] [[2, 2, 3]] -4\n",
      "[2, 3, 6, 7] 1 4 [2, 3] [[2, 2, 3]] 2\n",
      "[2, 3, 6, 7] 1 4 [2, 3, 3] [[2, 2, 3]] -1\n",
      "[2, 3, 6, 7] 2 4 [2, 3, 6] [[2, 2, 3]] -4\n",
      "[2, 3, 6, 7] 3 4 [2, 3, 7] [[2, 2, 3]] -5\n",
      "[2, 3, 6, 7] 2 4 [2, 6] [[2, 2, 3]] -1\n",
      "[2, 3, 6, 7] 3 4 [2, 7] [[2, 2, 3]] -2\n",
      "[2, 3, 6, 7] 1 4 [3] [[2, 2, 3]] 4\n",
      "[2, 3, 6, 7] 1 4 [3, 3] [[2, 2, 3]] 1\n",
      "[2, 3, 6, 7] 1 4 [3, 3, 3] [[2, 2, 3]] -2\n",
      "[2, 3, 6, 7] 2 4 [3, 3, 6] [[2, 2, 3]] -5\n",
      "[2, 3, 6, 7] 3 4 [3, 3, 7] [[2, 2, 3]] -6\n",
      "[2, 3, 6, 7] 2 4 [3, 6] [[2, 2, 3]] -2\n",
      "[2, 3, 6, 7] 3 4 [3, 7] [[2, 2, 3]] -3\n",
      "[2, 3, 6, 7] 2 4 [6] [[2, 2, 3]] 1\n",
      "[2, 3, 6, 7] 2 4 [6, 6] [[2, 2, 3]] -5\n",
      "[2, 3, 6, 7] 3 4 [6, 7] [[2, 2, 3]] -6\n",
      "[2, 3, 6, 7] 3 4 [7] [[2, 2, 3]] 0\n"
     ]
    },
    {
     "data": {
      "text/plain": [
       "[[2, 2, 3], [7]]"
      ]
     },
     "execution_count": 20,
     "metadata": {},
     "output_type": "execute_result"
    }
   ],
   "source": [
    "class Solution(object):\n",
    "    def combinationSum(self, candidates, target):\n",
    "        def dfs(candidates, begin, size, path, res, target):\n",
    "            print(candidates, begin, size, path, res, target)\n",
    "            if target < 0:\n",
    "                return\n",
    "            if target == 0:\n",
    "                res.append(path)\n",
    "                return\n",
    "\n",
    "            for index in range(begin, size):\n",
    "                dfs(candidates, index, size, path + [candidates[index]], res, target - candidates[index])\n",
    "\n",
    "        size = len(candidates)\n",
    "        if size == 0:\n",
    "            return []\n",
    "        path = []\n",
    "        res = []\n",
    "        dfs(candidates, 0, size, path, res, target)\n",
    "        return res\n",
    "candidates = [2,3,6,7]\n",
    "\n",
    "target = 7\n",
    "example = Solution()\n",
    "example.combinationSum(candidates, target)\n"
   ]
  },
  {
   "cell_type": "code",
   "execution_count": 23,
   "metadata": {},
   "outputs": [
    {
     "name": "stdout",
     "output_type": "stream",
     "text": [
      "[2, 3, 6, 7] 0 [] [] 7\n",
      "[2, 3, 6, 7] 0 [2] [] 5\n",
      "[2, 3, 6, 7] 0 [2, 2] [] 3\n",
      "[2, 3, 6, 7] 0 [2, 2, 2] [] 1\n",
      "[2, 3, 6, 7] 0 [2, 2, 2, 2] [] -1\n",
      "[2, 3, 6, 7] 1 [2, 2, 2, 3] [] -2\n",
      "[2, 3, 6, 7] 2 [2, 2, 2, 6] [] -5\n",
      "[2, 3, 6, 7] 3 [2, 2, 2, 7] [] -6\n",
      "[2, 3, 6, 7] 1 [2, 2, 3] [] 0\n",
      "[2, 3, 6, 7] 2 [2, 2, 6] [[2, 2, 3]] -3\n",
      "[2, 3, 6, 7] 3 [2, 2, 7] [[2, 2, 3]] -4\n",
      "[2, 3, 6, 7] 1 [2, 3] [[2, 2, 3]] 2\n",
      "[2, 3, 6, 7] 1 [2, 3, 3] [[2, 2, 3]] -1\n",
      "[2, 3, 6, 7] 2 [2, 3, 6] [[2, 2, 3]] -4\n",
      "[2, 3, 6, 7] 3 [2, 3, 7] [[2, 2, 3]] -5\n",
      "[2, 3, 6, 7] 2 [2, 6] [[2, 2, 3]] -1\n",
      "[2, 3, 6, 7] 3 [2, 7] [[2, 2, 3]] -2\n",
      "[2, 3, 6, 7] 1 [3] [[2, 2, 3]] 4\n",
      "[2, 3, 6, 7] 1 [3, 3] [[2, 2, 3]] 1\n",
      "[2, 3, 6, 7] 1 [3, 3, 3] [[2, 2, 3]] -2\n",
      "[2, 3, 6, 7] 2 [3, 3, 6] [[2, 2, 3]] -5\n",
      "[2, 3, 6, 7] 3 [3, 3, 7] [[2, 2, 3]] -6\n",
      "[2, 3, 6, 7] 2 [3, 6] [[2, 2, 3]] -2\n",
      "[2, 3, 6, 7] 3 [3, 7] [[2, 2, 3]] -3\n",
      "[2, 3, 6, 7] 2 [6] [[2, 2, 3]] 1\n",
      "[2, 3, 6, 7] 2 [6, 6] [[2, 2, 3]] -5\n",
      "[2, 3, 6, 7] 3 [6, 7] [[2, 2, 3]] -6\n",
      "[2, 3, 6, 7] 3 [7] [[2, 2, 3]] 0\n"
     ]
    },
    {
     "data": {
      "text/plain": [
       "[[2, 2, 3], [7]]"
      ]
     },
     "execution_count": 23,
     "metadata": {},
     "output_type": "execute_result"
    }
   ],
   "source": [
    "class Solution(object):\n",
    "    def combinationSum(self, candidates, target):\n",
    "        def dfs(candidates, begin, path, res, target):\n",
    "            print(candidates, begin, path, res, target)\n",
    "            size = len(candidates)\n",
    "            if size == 0:\n",
    "                return []\n",
    "            if target < 0:\n",
    "                return\n",
    "            if target == 0:\n",
    "                res.append(path)\n",
    "                return\n",
    "\n",
    "            for index in range(begin, len(candidates)):\n",
    "                dfs(candidates, index, path + [candidates[index]], res, target - candidates[index])\n",
    "\n",
    "        size = len(candidates)\n",
    "        if size == 0:\n",
    "            return []\n",
    "        path = []\n",
    "        res = []\n",
    "        dfs(candidates, 0, path, res, target)\n",
    "        return res\n",
    "candidates = [2,3,6,7]\n",
    "\n",
    "target = 7\n",
    "example = Solution()\n",
    "example.combinationSum(candidates, target)\n"
   ]
  },
  {
   "cell_type": "code",
   "execution_count": 8,
   "metadata": {},
   "outputs": [
    {
     "name": "stdout",
     "output_type": "stream",
     "text": [
      "[2, 3]\n"
     ]
    }
   ],
   "source": [
    "a= [[1],[2,3],[4,5,6]]\n",
    "b=[2,3]\n",
    "if b in a:\n",
    "    print(b)"
   ]
  },
  {
   "cell_type": "code",
   "execution_count": null,
   "metadata": {},
   "outputs": [],
   "source": []
  }
 ],
 "metadata": {
  "interpreter": {
   "hash": "aee8b7b246df8f9039afb4144a1f6fd8d2ca17a180786b69acc140d282b71a49"
  },
  "kernelspec": {
   "display_name": "Python 3.9.6 64-bit",
   "language": "python",
   "name": "python3"
  },
  "language_info": {
   "codemirror_mode": {
    "name": "ipython",
    "version": 3
   },
   "file_extension": ".py",
   "mimetype": "text/x-python",
   "name": "python",
   "nbconvert_exporter": "python",
   "pygments_lexer": "ipython3",
   "version": "3.9.6"
  },
  "orig_nbformat": 4
 },
 "nbformat": 4,
 "nbformat_minor": 2
}
