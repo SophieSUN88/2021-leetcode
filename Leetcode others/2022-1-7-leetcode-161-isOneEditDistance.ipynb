{
 "cells": [
  {
   "cell_type": "markdown",
   "metadata": {},
   "source": [
    "## leetcode 161 isOneEditDistance\n",
    "- given 2 strings: s and t, determine the distance between 2 strings is 1 step.\n",
    "- 1 distance means: insert, delete or replace 1 letter into s is equal to t\n",
    "- Example 1\n",
    "    - input: s=\"cab\",t=\"acb\"\n",
    "    - output: true\n",
    "    - explination: insert \"c\" to s get t\n",
    "- Example 2\n",
    "    - input: s=\"cab\", t=\"ad\"\n",
    "    - output: false\n",
    "- Example 3\n",
    "    - input: s=\"1203\",t=\"1213\"\n",
    "    - output: true\n"
   ]
  },
  {
   "cell_type": "code",
   "execution_count": 27,
   "metadata": {},
   "outputs": [],
   "source": [
    "# Solution 1 (760ms)\n",
    "def isOneEditDistance(s,t):\n",
    "    # length of s is same to length of t\n",
    "    if len(s) == len(t):\n",
    "        if s == t:\n",
    "            return False\n",
    "        distance = 0\n",
    "        for i in range(len(s)):\n",
    "            if s[i] != t[i]:\n",
    "        # count the differenct letter between s and t.\n",
    "                distance +=1\n",
    "            if distance >1:\n",
    "                return False\n",
    "    # length of s is greater than length of t, the difference is 1\n",
    "    # if there are more than 1 letters are different, return false\n",
    "    elif len(s)-len(t)==1:\n",
    "        for i in range(len(t)):\n",
    "            if s[i] != t[i]:\n",
    "                for j in range(i,len(t)):\n",
    "                    if s[j+1] != t[j]:\n",
    "                        return False\n",
    "    # length of t is greater than length of s, the difference is 1\n",
    "    # if there are more than 1 letters are different, return false\n",
    "    elif len(s)-len(t)==-1:\n",
    "        for i in range(len(s)):\n",
    "            if t[i] != s[i]:\n",
    "                for j in range(i,len(s)):\n",
    "                    if t[j+1] != s[j]:\n",
    "                        return False\n",
    "    # the difference of length between s and t is greater than 1, return false\n",
    "    else:\n",
    "        return False\n",
    "    return True\n",
    "\n"
   ]
  },
  {
   "cell_type": "code",
   "execution_count": 32,
   "metadata": {},
   "outputs": [
    {
     "name": "stdout",
     "output_type": "stream",
     "text": [
      "True\n",
      "False\n",
      "False\n"
     ]
    }
   ],
   "source": [
    "s1=\"ab\"\n",
    "t1=\"acb\"\n",
    "print(isOneEditDistance(s1,t1))\n",
    "s2=\"cab\"\n",
    "t2=\"ad\"\n",
    "print(isOneEditDistance(s2,t2))\n",
    "s3=\"1200\"\n",
    "t3=\"1213\"\n",
    "print(isOneEditDistance(s3,t3))"
   ]
  },
  {
   "cell_type": "code",
   "execution_count": 41,
   "metadata": {},
   "outputs": [
    {
     "name": "stdout",
     "output_type": "stream",
     "text": [
      "True\n",
      "False\n",
      "False\n"
     ]
    }
   ],
   "source": [
    "# Solution 2 (36ms)-- better\n",
    "def isOneEditDistance2(s,t):\n",
    "    if len(s) == len(t):\n",
    "        if s == t:\n",
    "            return False\n",
    "        for i in range(len(s)):\n",
    "            if s[i] != t[i]:\n",
    "                return s[i+1:] == t[i+1:]\n",
    "    # find the first different letter， then the substring of s and t should be same, or return false\n",
    "    elif len(s)-len(t) == 1:\n",
    "        for i in range(len(t)):\n",
    "            if s[i] != t[i]:\n",
    "                return s[i+1:]==t[i:]\n",
    "    elif len(s)-len(t) == -1:\n",
    "        for i in range(len(s)):\n",
    "            if t[i] != s[i]:\n",
    "                return t[i+1:]==s[i:]\n",
    "    else:\n",
    "        return False\n",
    "    return True\n",
    "s1=\"ab\"\n",
    "t1=\"acb\"\n",
    "print(isOneEditDistance2(s1,t1))\n",
    "s2=\"cab\"\n",
    "t2=\"ad\"\n",
    "print(isOneEditDistance2(s2,t2))\n",
    "s3=\"1200\"\n",
    "t3=\"1213\"\n",
    "print(isOneEditDistance2(s3,t3))"
   ]
  },
  {
   "cell_type": "code",
   "execution_count": 39,
   "metadata": {},
   "outputs": [
    {
     "name": "stdout",
     "output_type": "stream",
     "text": [
      "True\n",
      "False\n",
      "False\n"
     ]
    }
   ],
   "source": [
    "# Solution 3 (28ms)-- better\n",
    "def isOneEditDistance3(s,t):\n",
    "    # if s < t, compare isOneEditDistance(t,s)\n",
    "    if len(s) < len(t):\n",
    "        return isOneEditDistance1(t,s)\n",
    "    # length of s is same to length of t\n",
    "    if len(s) == len(t):\n",
    "        if s == t:\n",
    "            return False\n",
    "        for i in range(len(s)):\n",
    "            if s[i] != t[i]:\n",
    "                return s[i+1:] == t[i+1:]\n",
    "    # length of s is 1 greater than length of t\n",
    "    elif len(s)-len(t) == 1:\n",
    "        for i in range(len(t)):\n",
    "            # find the first different letter， then the substring of s and t should be same, or return false\n",
    "            if s[i] != t[i]:\n",
    "                return s[i+1:]==t[i:]\n",
    "    else:\n",
    "        return False\n",
    "    return True\n",
    "\n",
    "s1=\"ab\"\n",
    "t1=\"acb\"\n",
    "print(isOneEditDistance3(s1,t1))\n",
    "s2=\"cab\"\n",
    "t2=\"ad\"\n",
    "print(isOneEditDistance3(s2,t2))\n",
    "s3=\"1200\"\n",
    "t3=\"1213\"\n",
    "print(isOneEditDistance3(s3,t3))\n"
   ]
  }
 ],
 "metadata": {
  "interpreter": {
   "hash": "aee8b7b246df8f9039afb4144a1f6fd8d2ca17a180786b69acc140d282b71a49"
  },
  "kernelspec": {
   "display_name": "Python 3.9.6 64-bit",
   "language": "python",
   "name": "python3"
  },
  "language_info": {
   "codemirror_mode": {
    "name": "ipython",
    "version": 3
   },
   "file_extension": ".py",
   "mimetype": "text/x-python",
   "name": "python",
   "nbconvert_exporter": "python",
   "pygments_lexer": "ipython3",
   "version": "3.9.6"
  },
  "orig_nbformat": 4
 },
 "nbformat": 4,
 "nbformat_minor": 2
}
