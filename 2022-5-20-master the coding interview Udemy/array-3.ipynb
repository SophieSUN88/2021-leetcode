{
 "cells": [
  {
   "cell_type": "markdown",
   "metadata": {},
   "source": [
    "### Array-3: 42. Trapping Rain Water (Hard)\n",
    "\n",
    "Given n non-negative integers representing an elevation map where the width of each bar is 1, compute how much water it can trap after raining.\n",
    "\n",
    "Example 1:\n",
    "- Input: height = [0,1,0,2,1,0,1,3,2,1,2,1]\n",
    "- Output: 6\n",
    "- Explanation: The above elevation map (black section) is represented by array [0,1,0,2,1,0,1,3,2,1,2,1]. In this case, 6 units of rain water (blue section) are being trapped.\n",
    "\n",
    "Example 2:\n",
    "- Input: height = [4,2,0,3,2,5]\n",
    "- Output: 9\n",
    "\n"
   ]
  },
  {
   "cell_type": "code",
   "execution_count": 22,
   "metadata": {},
   "outputs": [
    {
     "data": {
      "text/plain": [
       "8"
      ]
     },
     "execution_count": 22,
     "metadata": {},
     "output_type": "execute_result"
    }
   ],
   "source": [
    "class Solution(object):\n",
    "    def trap(self, height):\n",
    "        \"\"\"\n",
    "        :type height: List[int]\n",
    "        :rtype: int\n",
    "        \"\"\"\n",
    "        n=len(height)\n",
    "        total = 0\n",
    "        for i in range(1,n-1):\n",
    "            maxL = 0\n",
    "            for j in range(0,i):\n",
    "                maxL=max(maxL,height[j])\n",
    "            #print(\"maxL:\",maxL)\n",
    "            maxR = 0\n",
    "            for p in range(i+1,n):\n",
    "                maxR = max(maxR,height[p])\n",
    "            #print(\"maxR:\",maxR)\n",
    "            if min(maxL, maxR) > height[i]:\n",
    "                area = min(maxL, maxR) - height[i]\n",
    "            else:\n",
    "                area = 0\n",
    "            #print(\"area:\",area)\n",
    "            total +=area\n",
    "            #print(\"total:\",total)\n",
    "        return total\n",
    "height=[0,1,0,2,1,0,3,1,0,1,2]\n",
    "example = Solution()\n",
    "example.trap(height)\n"
   ]
  },
  {
   "cell_type": "code",
   "execution_count": 23,
   "metadata": {},
   "outputs": [
    {
     "data": {
      "text/plain": [
       "6"
      ]
     },
     "execution_count": 23,
     "metadata": {},
     "output_type": "execute_result"
    }
   ],
   "source": [
    "height=[0,1,0,2,1,0,1,3,2,1,2,1]\n",
    "example = Solution()\n",
    "example.trap(height)"
   ]
  },
  {
   "cell_type": "code",
   "execution_count": 24,
   "metadata": {},
   "outputs": [
    {
     "data": {
      "text/plain": [
       "9"
      ]
     },
     "execution_count": 24,
     "metadata": {},
     "output_type": "execute_result"
    }
   ],
   "source": [
    "height=[4,2,0,3,2,5]\n",
    "example = Solution()\n",
    "example.trap(height)"
   ]
  },
  {
   "cell_type": "markdown",
   "metadata": {},
   "source": [
    "### Solution 2\n",
    "- two pointer"
   ]
  },
  {
   "cell_type": "markdown",
   "metadata": {},
   "source": [
    "- Time complexity: O(n)\n",
    "- Space complexity: O(1)\n",
    "\n",
    "- us \n",
    "\n",
    "Runtime: 88 ms, faster than 66.15% of Python online submissions for Trapping Rain Water.\n",
    "\n",
    "Memory Usage: 15.2 MB, less than 15.81% of Python online submissions for Trapping Rain Water."
   ]
  },
  {
   "cell_type": "markdown",
   "metadata": {},
   "source": [
    "- cn \n",
    "- 执行用时：44 ms, 在所有 Python3 提交中击败了96.11%的用户\n",
    "- 内存消耗：16.5 MB, 在所有 Python3 提交中击败了18.02%的用户\n",
    "- 通过测试用例：322 / 322"
   ]
  },
  {
   "cell_type": "code",
   "execution_count": 33,
   "metadata": {},
   "outputs": [
    {
     "data": {
      "text/plain": [
       "8"
      ]
     },
     "execution_count": 33,
     "metadata": {},
     "output_type": "execute_result"
    }
   ],
   "source": [
    "# optimization\n",
    "class Solution2(object):\n",
    "    def trap(self, height):\n",
    "        n=len(height)\n",
    "        maxL = 0\n",
    "        maxR = 0\n",
    "        total = 0\n",
    "        left = 0\n",
    "        right = n-1\n",
    "        while left < right:\n",
    "            if height[left]<=height[right]:\n",
    "                if height[left] >= maxL:\n",
    "                    maxL=height[left]\n",
    "\n",
    "                else:\n",
    "                    total += maxL-height[left]\n",
    "                left +=1\n",
    "            else:\n",
    "                if height[right] >= maxR:\n",
    "                    maxR = height[right]\n",
    "                else:\n",
    "                    total += maxR - height[right]\n",
    "                right -=1\n",
    "\n",
    "        return total\n",
    "\n",
    "height=[0,1,0,2,1,0,3,1,0,1,2]\n",
    "example = Solution2()\n",
    "example.trap(height)"
   ]
  },
  {
   "cell_type": "markdown",
   "metadata": {},
   "source": [
    "### solution 3: stack\n",
    "- optimization"
   ]
  },
  {
   "cell_type": "markdown",
   "metadata": {},
   "source": [
    "- Time complexity: O(n)\n",
    "- Space complexity: O(n)\n",
    "- cn \n",
    "- 执行用时：52 ms, 在所有 Python3 提交中击败了81.11%的用户\n",
    "- 内存消耗：16.5 MB, 在所有 Python3 提交中击败了16.02%的用户\n",
    "- 通过测试用例：322 / 322"
   ]
  },
  {
   "cell_type": "code",
   "execution_count": 57,
   "metadata": {},
   "outputs": [
    {
     "data": {
      "text/plain": [
       "8"
      ]
     },
     "execution_count": 57,
     "metadata": {},
     "output_type": "execute_result"
    }
   ],
   "source": [
    "class Solution3(object):\n",
    "    def trap(self, height):\n",
    "        stack = []\n",
    "        current = 0\n",
    "        total = 0\n",
    "        n =len(height)\n",
    "        while current < n:\n",
    "            \n",
    "            while (len(stack)!=0) and (height[current] > height[stack[-1]]):\n",
    "                top = stack.pop()\n",
    "                if (len(stack) == 0):\n",
    "                    break\n",
    "                distance = current - stack[-1] - 1\n",
    "                bounded_height = min(height[current],height[stack[-1]]) - height[top]\n",
    "                #print(\"distance:\",distance)\n",
    "                #print(\"bounded_height:\",bounded_height)\n",
    "                total += distance * bounded_height\n",
    "            stack.append(current)\n",
    "            current +=1\n",
    "            #print(\"total:\",total)\n",
    "            #print(\"current:\",current)\n",
    "            #print(\"stack:\",stack)\n",
    "        return total\n",
    "height=[0,1,0,2,1,0,3,1,0,1,2]\n",
    "example = Solution3()\n",
    "example.trap(height)\n",
    "\n",
    "\n"
   ]
  },
  {
   "cell_type": "code",
   "execution_count": 59,
   "metadata": {},
   "outputs": [
    {
     "data": {
      "text/plain": [
       "6"
      ]
     },
     "execution_count": 59,
     "metadata": {},
     "output_type": "execute_result"
    }
   ],
   "source": [
    "height=[0,1,0,2,1,0,1,3,2,1,2,1]\n",
    "example = Solution3()\n",
    "example.trap(height)"
   ]
  }
 ],
 "metadata": {
  "interpreter": {
   "hash": "aee8b7b246df8f9039afb4144a1f6fd8d2ca17a180786b69acc140d282b71a49"
  },
  "kernelspec": {
   "display_name": "Python 3.9.6 64-bit",
   "language": "python",
   "name": "python3"
  },
  "language_info": {
   "name": "python",
   "version": "3.9.6"
  },
  "orig_nbformat": 4
 },
 "nbformat": 4,
 "nbformat_minor": 2
}
