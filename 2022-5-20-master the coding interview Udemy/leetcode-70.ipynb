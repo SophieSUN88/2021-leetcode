{
 "cells": [
  {
   "cell_type": "markdown",
   "metadata": {},
   "source": [
    "### 70 爬楼梯\n",
    "假设你正在爬楼梯。需要 n 阶你才能到达楼顶。\n",
    "\n",
    "每次你可以爬 1 或 2 个台阶。你有多少种不同的方法可以爬到楼顶呢？\n",
    "\n",
    "示例 1：\n",
    "- 输入：n = 2\n",
    "- 输出：2\n",
    "- 解释：有两种方法可以爬到楼顶。\n",
    "1. 1 阶 + 1 阶\n",
    "2. 2 阶\n",
    "\n",
    "示例 2：\n",
    "- 输入：n = 3\n",
    "- 输出：3\n",
    "- 解释：有三种方法可以爬到楼顶。\n",
    "1. 1 阶 + 1 阶 + 1 阶\n",
    "2. 1 阶 + 2 阶\n",
    "3. 2 阶 + 1 阶\n"
   ]
  },
  {
   "cell_type": "markdown",
   "metadata": {},
   "source": [
    "Solution 1\n",
    "\n",
    "Time complexity: O($n^2$)\n",
    "\n",
    "Space complexity: O(n)\n",
    "超出时间限制"
   ]
  },
  {
   "cell_type": "code",
   "execution_count": 15,
   "metadata": {},
   "outputs": [
    {
     "name": "stdout",
     "output_type": "stream",
     "text": [
      "8\n"
     ]
    }
   ],
   "source": [
    "class Solution1:\n",
    "    def climbStairs(self, n: int) -> int:\n",
    "        if n==1:\n",
    "            return 1\n",
    "        elif n==2:\n",
    "            return 2\n",
    "        else:\n",
    "            return (Solution1.climbStairs(self,(n-1))+Solution1.climbStairs(self,(n-2)))\n",
    "example = Solution1()\n",
    "result = example.climbStairs(5)\n",
    "print(result)"
   ]
  },
  {
   "cell_type": "code",
   "execution_count": 17,
   "metadata": {},
   "outputs": [
    {
     "name": "stdout",
     "output_type": "stream",
     "text": [
      "8\n"
     ]
    }
   ],
   "source": [
    "class Solution1:\n",
    "    # 同样的方法，不过去掉了self，加了@staticmethod\n",
    "    @staticmethod  \n",
    "    def climbStairs(n: int) -> int:\n",
    "        if n==1:\n",
    "            return 1\n",
    "        elif n==2:\n",
    "            return 2\n",
    "        else:\n",
    "            return (Solution1.climbStairs(n-1)+Solution1.climbStairs(n-2))\n",
    "example = Solution1()\n",
    "result = example.climbStairs(5)\n",
    "print(result)"
   ]
  },
  {
   "cell_type": "markdown",
   "metadata": {},
   "source": [
    "Solution 2\n",
    "\n",
    "Time complexity: O(n)\n",
    "\n",
    "Space complexity: O(n)\n",
    "- 执行用时：24 ms, 在所有 Python3 提交中击败了99.43%的用户\n",
    "- 内存消耗：15 MB, 在所有 Python3 提交中击败了16.43%的用户\n",
    "- 通过测试用例：45 / 45"
   ]
  },
  {
   "cell_type": "code",
   "execution_count": 32,
   "metadata": {},
   "outputs": [
    {
     "name": "stdout",
     "output_type": "stream",
     "text": [
      "8\n"
     ]
    }
   ],
   "source": [
    "class Solution2:\n",
    "    def climbStairs(self, n: int) -> int:\n",
    "        df = [0]*(n+1)\n",
    "        df[0]=1\n",
    "        df[1]=1\n",
    "        if n == 2:\n",
    "            df[2]=df[0]+df[1]\n",
    "        elif n > 2:\n",
    "            for i in range(2,n+1):\n",
    "                df[i]=df[i-1]+df[i-2]\n",
    "        return df[n]\n",
    "example = Solution2()\n",
    "result = example.climbStairs(5)\n",
    "print(result)"
   ]
  },
  {
   "cell_type": "markdown",
   "metadata": {},
   "source": [
    "Solution 2\n",
    "\n",
    "Time complexity: O(n)\n",
    "\n",
    "Space complexity: O(1)\n",
    "- 执行用时：28 ms, 在所有 Python3 提交中击败了96.92%的用户\n",
    "- 内存消耗：15 MB, 在所有 Python3 提交中击败了9.38%的用户\n",
    "- 通过测试用例：45 / 45"
   ]
  },
  {
   "cell_type": "code",
   "execution_count": 35,
   "metadata": {},
   "outputs": [
    {
     "name": "stdout",
     "output_type": "stream",
     "text": [
      "8\n"
     ]
    }
   ],
   "source": [
    "class Solution3:\n",
    "    def climbStairs(self, n: int) -> int:\n",
    "        p = 0\n",
    "        q = 0\n",
    "        r = 1\n",
    "        for i in range(n):\n",
    "            p = q\n",
    "            q = r\n",
    "            r = p+q\n",
    "        return r\n",
    "example = Solution3()\n",
    "result = example.climbStairs(5)\n",
    "print(result)"
   ]
  },
  {
   "cell_type": "code",
   "execution_count": null,
   "metadata": {},
   "outputs": [],
   "source": []
  }
 ],
 "metadata": {
  "interpreter": {
   "hash": "aee8b7b246df8f9039afb4144a1f6fd8d2ca17a180786b69acc140d282b71a49"
  },
  "kernelspec": {
   "display_name": "Python 3.9.6 64-bit",
   "language": "python",
   "name": "python3"
  },
  "language_info": {
   "codemirror_mode": {
    "name": "ipython",
    "version": 3
   },
   "file_extension": ".py",
   "mimetype": "text/x-python",
   "name": "python",
   "nbconvert_exporter": "python",
   "pygments_lexer": "ipython3",
   "version": "3.9.6"
  },
  "orig_nbformat": 4
 },
 "nbformat": 4,
 "nbformat_minor": 2
}
