{
 "cells": [
  {
   "cell_type": "code",
   "execution_count": 76,
   "metadata": {},
   "outputs": [],
   "source": [
    "class ListNode:\n",
    "  def __init__(self, val=None, next=None):\n",
    "    self.val = val\n",
    "    self.next = next\n",
    "class LinkedList:\n",
    "    def __init__(self,head=None):\n",
    "        self.head = head\n",
    "    def insert(self,value):\n",
    "        newNode = ListNode(value)\n",
    "        if self.head is None:\n",
    "            self.head = newNode\n",
    "            return\n",
    "        currentNode = self.head\n",
    "        while currentNode.next:\n",
    "            currentNode= currentNode.next\n",
    "        currentNode.next = newNode"
   ]
  },
  {
   "cell_type": "markdown",
   "metadata": {},
   "source": [
    "### 21. 合并两个有序链表\n",
    "\n",
    "将两个升序链表合并为一个新的 升序 链表并返回。新链表是通过拼接给定的两个链表的所有节点组成的。 \n",
    "\n",
    "- 输入：l1 = [1,2,4], l2 = [1,3,4]\n",
    "- 输出：[1,1,2,3,4,4]"
   ]
  },
  {
   "cell_type": "code",
   "execution_count": 77,
   "metadata": {},
   "outputs": [],
   "source": [
    "def printLists(head):\n",
    "    currentNode = head\n",
    "    result = []\n",
    "    while currentNode:\n",
    "        result.append(currentNode.val)\n",
    "        currentNode = currentNode.next\n",
    "    return print(result)\n",
    "        "
   ]
  },
  {
   "cell_type": "code",
   "execution_count": 80,
   "metadata": {},
   "outputs": [
    {
     "name": "stdout",
     "output_type": "stream",
     "text": [
      "[1, 2, 4]\n",
      "[1, 3, 4]\n"
     ]
    }
   ],
   "source": [
    "l1=LinkedList()\n",
    "l1.insert(1)\n",
    "l1.insert(2)\n",
    "l1.insert(4)\n",
    "printLists(l1.head)\n",
    "l2=LinkedList()\n",
    "l2.insert(1)\n",
    "l2.insert(3)\n",
    "l2.insert(4)\n",
    "printLists(l2.head)\n"
   ]
  },
  {
   "cell_type": "code",
   "execution_count": 5,
   "metadata": {},
   "outputs": [],
   "source": [
    "def mergeTwoLists(a,b):\n",
    "    left = a\n",
    "    right = b\n",
    "    if left is None:\n",
    "        print(1)\n",
    "        return right\n",
    "    if right is None:\n",
    "        print(2)\n",
    "        return left\n",
    "        \n",
    "    if left.val <= right.val:\n",
    "        print(4)\n",
    "        head = left\n",
    "        left = left.next\n",
    "    else:\n",
    "        print(5)\n",
    "        head = right\n",
    "        right = right.next\n",
    "    currentNode=head \n",
    "    result = currentNode\n",
    "    print(\"head:\",head.val)\n",
    "\n",
    "    while left or right:\n",
    "        \n",
    "        if left is None:\n",
    "            currentNode.next = right\n",
    "            break\n",
    "        elif right is None:\n",
    "            currentNode.next = left\n",
    "            break\n",
    "        else:\n",
    "            print(\"left:\",left.val)\n",
    "            print(\"right:\",right.val)\n",
    "            if left.val <= right.val:\n",
    "                print(7)\n",
    "                currentNode.next = left\n",
    "                left = left.next\n",
    "            else:\n",
    "                print(8)\n",
    "                currentNode.next = right\n",
    "                right = right.next\n",
    "            currentNode = currentNode.next\n",
    "    print(9)\n",
    "    return result"
   ]
  },
  {
   "cell_type": "code",
   "execution_count": 6,
   "metadata": {},
   "outputs": [
    {
     "name": "stdout",
     "output_type": "stream",
     "text": [
      "4\n",
      "head: 1\n",
      "left: 2\n",
      "right: 1\n",
      "8\n",
      "left: 2\n",
      "right: 3\n",
      "7\n",
      "left: 4\n",
      "right: 3\n",
      "8\n",
      "left: 4\n",
      "right: 4\n",
      "7\n",
      "9\n",
      "[1, 1, 2, 3, 4, 4]\n"
     ]
    }
   ],
   "source": [
    "a=mergeTwoLists(l1.head,l2.head)\n",
    "printLists(a)"
   ]
  },
  {
   "cell_type": "markdown",
   "metadata": {},
   "source": [
    "Time complexity : O(n+m)\n",
    "\n",
    "Space complexity : O(1)\n",
    "\n",
    "40ms"
   ]
  },
  {
   "cell_type": "code",
   "execution_count": 7,
   "metadata": {},
   "outputs": [],
   "source": [
    "def mergeTwoLists2(a,b):\n",
    "    if a is None:\n",
    "        print(1)\n",
    "        return b\n",
    "    elif b is None:\n",
    "        print(2)\n",
    "        return a\n",
    "    elif a.val <= b.val:\n",
    "        print(3)\n",
    "        a.next = mergeTwoLists2(a.next, b)\n",
    "        return a\n",
    "    else:\n",
    "        print(4)\n",
    "        b.next = mergeTwoLists2(a,b.next)\n",
    "        return b\n",
    "    "
   ]
  },
  {
   "cell_type": "code",
   "execution_count": 10,
   "metadata": {},
   "outputs": [
    {
     "name": "stdout",
     "output_type": "stream",
     "text": [
      "[1, 2, 4]\n",
      "[1, 3, 4]\n",
      "3\n",
      "4\n",
      "3\n",
      "4\n",
      "3\n",
      "1\n",
      "[1, 1, 2, 3, 4, 4]\n"
     ]
    }
   ],
   "source": [
    "l1=LinkedList()\n",
    "l1.insert(1)\n",
    "l1.insert(2)\n",
    "l1.insert(4)\n",
    "printLists(l1.head)\n",
    "l2=LinkedList()\n",
    "l2.insert(1)\n",
    "l2.insert(3)\n",
    "l2.insert(4)\n",
    "printLists(l2.head)\n",
    "a=mergeTwoLists2(l1.head,l2.head)\n",
    "printLists(a)"
   ]
  },
  {
   "cell_type": "markdown",
   "metadata": {},
   "source": [
    "执行用时：40 ms, 在所有 Python3 提交中击败了70.57%的用户\n",
    "\n",
    "内存消耗：15 MB, 在所有 Python3 提交中击败了18.76%的用户\n",
    "\n",
    "通过测试用例：208 / 208"
   ]
  },
  {
   "cell_type": "markdown",
   "metadata": {},
   "source": [
    "### 206. 反转链表\n",
    "\n",
    "给你单链表的头节点 head ，请你反转链表，并返回反转后的链表。"
   ]
  },
  {
   "cell_type": "code",
   "execution_count": 11,
   "metadata": {},
   "outputs": [
    {
     "name": "stdout",
     "output_type": "stream",
     "text": [
      "[4, 2, 1]\n"
     ]
    }
   ],
   "source": [
    "class Solution:\n",
    "    def reverseList(self, head):\n",
    "        currentNode = head\n",
    "        # print(\"c:\",currentNode.val)\n",
    "        prevNode = None\n",
    "\n",
    "        while currentNode:\n",
    "            temp = currentNode\n",
    "            # print(\"t:\",temp.val)\n",
    "            currentNode = currentNode.next\n",
    "            # if currentNode is not None:\n",
    "            #     print(\"c:\",currentNode.val)\n",
    "            temp.next = prevNode\n",
    "            # printLists(temp)\n",
    "            prevNode = temp\n",
    "            # printLists(prevNode)\n",
    "            \n",
    "        return prevNode\n",
    "l1=LinkedList()\n",
    "l1.insert(1)\n",
    "l1.insert(2)\n",
    "l1.insert(4)\n",
    "example = Solution()\n",
    "a=example.reverseList(l1.head)\n",
    "printLists(a)"
   ]
  },
  {
   "cell_type": "markdown",
   "metadata": {},
   "source": [
    "Time complexity : O(n)\n",
    "Space complexity :  O(n)\n",
    "\n",
    "执行用时：40 ms, 在所有 Python3 提交中击败了68.23%的用户\n",
    "\n",
    "内存消耗：16 MB, 在所有 Python3 提交中击败了83.31%的用户\n",
    "\n",
    "通过测试用例：28 / 28"
   ]
  },
  {
   "cell_type": "markdown",
   "metadata": {},
   "source": [
    "### 141. 环形链表\n",
    "\n",
    "给你一个链表的头节点 head ，判断链表中是否有环。\n",
    "\n",
    "如果链表中有某个节点，可以通过连续跟踪 next 指针再次到达，则链表中存在环。 为了表示给定链表中的环，评测系统内部使用整数 pos 来表示链表尾连接到链表中的位置（索引从 0 开始）。注意：pos 不作为参数进行传递 。仅仅是为了标识链表的实际情况。\n",
    "\n",
    "如果链表中存在环 ，则返回 true 。 否则，返回 false 。\n",
    "\n",
    "example\n",
    "- 输入：head = [3,2,0,-4], pos = 1\n",
    "- 输出：true\n",
    "- 解释：链表中有一个环，其尾部连接到第二个节点。\n",
    "\n",
    "example\n",
    "- 输入：head = [1], pos = -1\n",
    "- 输出：false\n",
    "- 解释：链表中没有环。"
   ]
  },
  {
   "cell_type": "code",
   "execution_count": 13,
   "metadata": {},
   "outputs": [],
   "source": [
    "# Definition for singly-linked list.\n",
    "# class ListNode:\n",
    "#     def __init__(self, x):\n",
    "#         self.val = x\n",
    "#         self.next = None\n",
    "\n",
    "class Solution:\n",
    "    def hasCycle(self, head) :\n",
    "        slow = head \n",
    "        fast = head\n",
    "        if head is None:\n",
    "            return False\n",
    "        elif head.next is None:\n",
    "            return False\n",
    "        while slow.next and fast.next:\n",
    "            slow = slow.next\n",
    "            fast = fast.next\n",
    "            if fast.next:\n",
    "                fast = fast.next\n",
    "            else: \n",
    "                return False\n",
    "            if slow == fast:\n",
    "                meet = slow\n",
    "                return True\n",
    "        # start = head\n",
    "        # while start != meet:\n",
    "        #     start = start.next\n",
    "        #     meet = meet.next\n",
    "        return False"
   ]
  },
  {
   "cell_type": "code",
   "execution_count": 14,
   "metadata": {},
   "outputs": [
    {
     "data": {
      "text/plain": [
       "True"
      ]
     },
     "execution_count": 14,
     "metadata": {},
     "output_type": "execute_result"
    }
   ],
   "source": [
    "l1 = LinkedList()\n",
    "l1.insert(1)\n",
    "l1.insert(2)\n",
    "l1.insert(3)\n",
    "a = l1.head\n",
    "b = l1.head.next.next\n",
    "b.next = a\n",
    "example = Solution()\n",
    "example.hasCycle(l1.head)"
   ]
  },
  {
   "cell_type": "markdown",
   "metadata": {},
   "source": [
    "### 160. 相交链表\n",
    "\n",
    "给你两个单链表的头节点 headA 和 headB ，请你找出并返回两个单链表相交的起始节点。如果两个链表不存在相交节点，返回 null 。"
   ]
  },
  {
   "cell_type": "code",
   "execution_count": 15,
   "metadata": {},
   "outputs": [
    {
     "name": "stdout",
     "output_type": "stream",
     "text": [
      "2\n"
     ]
    }
   ],
   "source": [
    "# 双指针法\n",
    "class Solution:\n",
    "    def getIntersectionNode(self, headA, headB):\n",
    "        A, B = headA, headB\n",
    "        while A != B:\n",
    "            A = A.next if A else headB\n",
    "            B = B.next if B else headA\n",
    "        return A\n",
    "l1 = LinkedList()\n",
    "l1.insert(1)\n",
    "l1.insert(2)\n",
    "l1.insert(3)\n",
    "l1.insert(4)\n",
    "a = l1.head.next\n",
    "l2 = LinkedList()\n",
    "l2.insert(5)\n",
    "l2.insert(7)\n",
    "l2.insert(8)\n",
    "l2.head.next.next.next=a\n",
    "example = Solution()\n",
    "c = example.getIntersectionNode(l1.head, l2.head)\n",
    "print(c.val)"
   ]
  },
  {
   "cell_type": "markdown",
   "metadata": {},
   "source": [
    "Time complexity : O(n+m)\n",
    "\n",
    "Space complexity : O(1)\n",
    "\n",
    "执行用时：140 ms, 在所有 Python3 提交中击败了86.20%的用户\n",
    "\n",
    "内存消耗：30 MB, 在所有 Python3 提交中击败了22.73%的用户\n",
    "\n",
    "通过测试用例：39 / 39"
   ]
  },
  {
   "cell_type": "code",
   "execution_count": 17,
   "metadata": {},
   "outputs": [
    {
     "name": "stdout",
     "output_type": "stream",
     "text": [
      "2\n"
     ]
    }
   ],
   "source": [
    "class Solution:\n",
    "    def getIntersectionNode(self, headA, headB) :\n",
    "        s = set()\n",
    "        left = headA\n",
    "        while left:\n",
    "            if left not in s:\n",
    "                s.add(left)\n",
    "            left = left.next\n",
    "        \n",
    "        right = headB\n",
    "        while right:\n",
    "            if right in s:\n",
    "                return right\n",
    "            right = right.next\n",
    "        return None\n",
    "l1 = LinkedList()\n",
    "l1.insert(1)\n",
    "l1.insert(2)\n",
    "l1.insert(3)\n",
    "l1.insert(4)\n",
    "a = l1.head.next\n",
    "l2 = LinkedList()\n",
    "l2.insert(5)\n",
    "l2.insert(7)\n",
    "l2.insert(8)\n",
    "l2.head.next.next.next=a\n",
    "example = Solution()\n",
    "c = example.getIntersectionNode(l1.head, l2.head)\n",
    "print(c.val)"
   ]
  },
  {
   "cell_type": "markdown",
   "metadata": {},
   "source": [
    "### 234. 回文链表\n",
    "\n",
    "给你一个单链表的头节点 head ，请你判断该链表是否为回文链表。如果是，返回 true ；否则，返回 false 。\n",
    "\n",
    "example\n",
    "- 输入：head = [1,2,2,1]\n",
    "- 输出：true\n",
    "\n",
    "example\n",
    "- 输入：head = [1,2]\n",
    "- 输出：false\n"
   ]
  },
  {
   "cell_type": "code",
   "execution_count": 38,
   "metadata": {},
   "outputs": [
    {
     "name": "stdout",
     "output_type": "stream",
     "text": [
      "[1, 2, 3, 1, 1]\n"
     ]
    }
   ],
   "source": [
    "l1 = LinkedList()\n",
    "l1.insert(1)\n",
    "l1.insert(2)\n",
    "l1.insert(3)\n",
    "l1.insert(1)\n",
    "l1.insert(1)\n",
    "printLists(l1.head)"
   ]
  },
  {
   "cell_type": "code",
   "execution_count": 39,
   "metadata": {},
   "outputs": [
    {
     "name": "stdout",
     "output_type": "stream",
     "text": [
      "1\n",
      "[1, 2, 3, 1, 1]\n"
     ]
    },
    {
     "data": {
      "text/plain": [
       "False"
      ]
     },
     "execution_count": 39,
     "metadata": {},
     "output_type": "execute_result"
    }
   ],
   "source": [
    "class Solution:\n",
    "    def isPalindrome(self, head) -> bool:\n",
    "        if head is None or head.next is None:\n",
    "            return True\n",
    "        slow = head\n",
    "        fast = head\n",
    "        pre = head\n",
    "        reverse = None\n",
    "        while fast and fast.next:\n",
    "            #print(1)\n",
    "            pre = slow\n",
    "            slow = slow.next\n",
    "            fast = fast.next.next\n",
    "            pre.next = reverse\n",
    "            reverse = pre\n",
    "        if fast is not None:\n",
    "            #print(2)\n",
    "            slow = slow.next\n",
    "        while reverse and slow:\n",
    "            #print(3)\n",
    "            if reverse.val != slow.val:\n",
    "                return False\n",
    "            else:\n",
    "                reverse = reverse.next\n",
    "                slow = slow.next\n",
    "        return True\n",
    "example = Solution()\n",
    "print(l1.head.val)\n",
    "printLists(l1.head)\n",
    "example.isPalindrome(l1.head)"
   ]
  },
  {
   "cell_type": "markdown",
   "metadata": {},
   "source": [
    "Time complexity : O(N)\n",
    "\n",
    "Space complexity : O(1)\n",
    "\n",
    "- 执行用时：564 ms, 在所有 Python3 提交中击败了98.56%的用户\n",
    "- 内存消耗：33 MB, 在所有 Python3 提交中击败了93.97%的用户\n",
    "- 通过测试用例：86 / 86"
   ]
  },
  {
   "cell_type": "markdown",
   "metadata": {},
   "source": [
    "### 148. 排序链表 (medium)\n",
    "\n",
    "给你链表的头结点 head ，请将其按 升序 排列并返回 排序后的链表 。\n",
    "\n"
   ]
  },
  {
   "cell_type": "code",
   "execution_count": 57,
   "metadata": {},
   "outputs": [
    {
     "name": "stdout",
     "output_type": "stream",
     "text": [
      "[0, 2, 3, 5]\n"
     ]
    }
   ],
   "source": [
    "class Solution:\n",
    "    def sortList(self, head) :\n",
    "        if head is None or head.next is None:\n",
    "            return head\n",
    "        slow = head\n",
    "        fast = head.next\n",
    "        while fast and fast.next:\n",
    "            slow = slow.next\n",
    "            fast = fast.next.next \n",
    "            \n",
    "        mid = slow.next\n",
    "        slow.next = None\n",
    "\n",
    "        left = self.sortList(head)\n",
    "        #print(\"left:\")\n",
    "        #printLists(left)\n",
    "        right = self.sortList(mid)\n",
    "        #print(\"right:\")\n",
    "        #printLists(right)\n",
    "        dumyNode = ListNode(0)\n",
    "        #print(\"dumyNode\",dumyNode.val)\n",
    "        pre = dumyNode\n",
    "        while left and right:\n",
    "            if left.val < right.val:\n",
    "                pre.next = left\n",
    "                left = left.next\n",
    "            else:\n",
    "                pre.next = right\n",
    "                right = right.next\n",
    "            pre = pre.next \n",
    "        if left:\n",
    "            pre.next = left\n",
    "        else:\n",
    "            pre.next = right\n",
    "        return dumyNode.next\n",
    "\n",
    "l1 = LinkedList()\n",
    "l1.insert(3)\n",
    "l1.insert(2)\n",
    "l1.insert(5)\n",
    "l1.insert(0)\n",
    "example =Solution()\n",
    "a=example.sortList(l1.head)\n",
    "printLists(a)\n"
   ]
  },
  {
   "cell_type": "markdown",
   "metadata": {},
   "source": [
    "Time complexity : O(nlogn)\n",
    "\n",
    "Spcae complexity : O(n)\n",
    "\n",
    "- 执行用时：520 ms, 在所有 Python3 提交中击败了23.16%的用户\n",
    "- 内存消耗：35 MB, 在所有 Python3 提交中击败了20.97%的用户\n",
    "- 通过测试用例：30 / 30 "
   ]
  },
  {
   "cell_type": "code",
   "execution_count": 47,
   "metadata": {},
   "outputs": [
    {
     "name": "stdout",
     "output_type": "stream",
     "text": [
      "[0, 2, 3, 5]\n"
     ]
    }
   ],
   "source": [
    "class Solution:\n",
    "    def sortList(self, head: ListNode) -> ListNode:\n",
    "        if not head or not head.next: return head # termination.\n",
    "        # cut the LinkedList at the mid index.\n",
    "        slow, fast = head, head.next\n",
    "        while fast and fast.next:\n",
    "            fast, slow = fast.next.next, slow.next\n",
    "        mid, slow.next = slow.next, None # save and cut.\n",
    "        # recursive for cutting.\n",
    "        left, right = self.sortList(head), self.sortList(mid)\n",
    "        # merge `left` and `right` linked list and return it.\n",
    "        h = res = ListNode(0)\n",
    "        while left and right:\n",
    "            if left.val < right.val: h.next, left = left, left.next\n",
    "            else: h.next, right = right, right.next\n",
    "            h = h.next\n",
    "        h.next = left if left else right\n",
    "        return res.next\n",
    "l1 = LinkedList()\n",
    "l1.insert(3)\n",
    "l1.insert(2)\n",
    "l1.insert(5)\n",
    "l1.insert(0)\n",
    "example =Solution()\n",
    "a=example.sortList(l1.head)\n",
    "printLists(a)"
   ]
  },
  {
   "cell_type": "markdown",
   "metadata": {},
   "source": [
    "自底向上的归并排序\n",
    "\n",
    "自底向上的归并排序写起来比较复杂，需要移动指针的同时维护好多个指针，移麻了...\n",
    "时间复杂度 : O(nlogn)\n",
    "空间复杂度 : O(1)\n"
   ]
  },
  {
   "cell_type": "code",
   "execution_count": 69,
   "metadata": {},
   "outputs": [
    {
     "name": "stdout",
     "output_type": "stream",
     "text": [
      "[0, 1, 2, 3, 5]\n"
     ]
    }
   ],
   "source": [
    "class Solution():\n",
    "    def merge(self,head1,head2):\n",
    "        dummyNode = ListNode(0)\n",
    "        pre = dummyNode\n",
    "        while head1 and head2:\n",
    "            if head1.val <= head2.val:\n",
    "                pre.next = head1\n",
    "                head1=head1.next\n",
    "            else:\n",
    "                pre.next = head2\n",
    "                head2=head2.next\n",
    "            pre=pre.next\n",
    "        if head1:\n",
    "            pre.next = head1\n",
    "        else:\n",
    "            pre.next = head2\n",
    "        #print(\"After merge:\")\n",
    "        #printLists(dummyNode.next)\n",
    "        return dummyNode.next\n",
    "\n",
    "    def sortList(self,head):\n",
    "        n = 0\n",
    "        currentNode = head \n",
    "        while currentNode:\n",
    "            n +=1\n",
    "            currentNode = currentNode.next\n",
    "        ##print(\"n:\",n)\n",
    "        dummyNode = ListNode(0,head)\n",
    "        #print(\"dummyNode:\")\n",
    "        ##printLists(dummyNode.next)\n",
    "        i = 1\n",
    "        while i < n:\n",
    "            pre = dummyNode\n",
    "            currentNode = dummyNode.next\n",
    "            while currentNode:\n",
    "                head1=currentNode\n",
    "                for j in range(1,i):\n",
    "                    if currentNode.next:\n",
    "                        currentNode = currentNode.next\n",
    "                #print(\"head1:\")\n",
    "                #printLists(head1)\n",
    "                head2 = currentNode.next\n",
    "                currentNode.next = None\n",
    "                currentNode = head2\n",
    "                for j in range(1,i):\n",
    "                    if currentNode:\n",
    "                        if currentNode.next:\n",
    "                            currentNode = currentNode.next\n",
    "                #print(\"head2:\")\n",
    "                #printLists(head2)\n",
    "                next = None\n",
    "                \n",
    "                if currentNode:\n",
    "                    next = currentNode.next\n",
    "                    currentNode.next = None\n",
    "                #print(\"next:\")\n",
    "                #printLists(next)\n",
    "                pre.next = self.merge(head1,head2)\n",
    "                #print(\"pre:\")\n",
    "                #printLists(pre.next)\n",
    "\n",
    "                while pre.next:\n",
    "                    pre = pre.next\n",
    "                currentNode = next\n",
    "            i = i*2\n",
    "        return dummyNode.next\n",
    "l1 = LinkedList()\n",
    "l1.insert(3)\n",
    "l1.insert(2)\n",
    "l1.insert(5)\n",
    "l1.insert(0)\n",
    "l1.insert(1)\n",
    "example =Solution()\n",
    "a=example.sortList(l1.head)\n",
    "printLists(a)"
   ]
  },
  {
   "cell_type": "markdown",
   "metadata": {},
   "source": [
    "Time complexity : O(nlogn)\n",
    "\n",
    "Spcae complexity : O(1)\n",
    "\n",
    "- 执行用时：804 ms, 在所有 Python3 提交中击败了5.46%的用户\n",
    "- 内存消耗：35.6 MB, 在所有 Python3 提交中击败了13.28%的用户\n",
    "- 通过测试用例：30 / 30"
   ]
  },
  {
   "cell_type": "markdown",
   "metadata": {},
   "source": [
    "### 114. 二叉树展开为链表\n",
    "\n",
    "给你二叉树的根结点 root ，请你将它展开为一个单链表：\n",
    "\n",
    "展开后的单链表应该同样使用 TreeNode ，其中 right 子指针指向链表中下一个结点，而左子指针始终为 null 。\n",
    "展开后的单链表应该与二叉树 先序遍历 顺序相同。\n",
    "\n",
    "example\n",
    "- 输入：root = [1,2,5,3,4,null,6]\n",
    "- 输出：[1,null,2,null,3,null,4,null,5,null,6]\n",
    "\n",
    "example\n",
    "- 输入：root = []\n",
    "- 输出：[]\n"
   ]
  },
  {
   "cell_type": "code",
   "execution_count": null,
   "metadata": {},
   "outputs": [],
   "source": [
    "# Definition for a binary tree node.\n",
    "class TreeNode:\n",
    "    def __init__(self, val=0, left=None, right=None):\n",
    "        self.val = val\n",
    "        self.left = left\n",
    "        self.right = right\n",
    "\n",
    "class BitreeLinkedList:\n",
    "    def __init__(self,head=None):\n",
    "        self.head = head\n",
    "\n",
    "a = TreeNode(val = 3)\n",
    "b = TreeNode(val = 4)\n",
    "c = TreeNode(val = 8)\n",
    "d = TreeNode(val = 2,left=a,right=b)\n",
    "f = TreeNode(val = 5, left =None,right=c)\n",
    "e = TreeNode(val = 1,left=d,right=f)\n",
    "l = BitreeLinkedList(e)\n",
    "\n"
   ]
  },
  {
   "cell_type": "code",
   "execution_count": null,
   "metadata": {},
   "outputs": [],
   "source": [
    "def printLists(head):\n",
    "    currentNode = head\n",
    "    result = []\n",
    "    while currentNode:\n",
    "        result.append(currentNode.val)\n",
    "        currentNode = currentNode.next\n",
    "    return print(result)"
   ]
  },
  {
   "cell_type": "code",
   "execution_count": null,
   "metadata": {},
   "outputs": [],
   "source": [
    "class Solution:\n",
    "    def flatten(self, root: TreeNode) -> None:\n",
    "        \"\"\"\n",
    "        Do not return anything, modify root in-place instead.\n",
    "        \"\"\"\n",
    "        while currentNode:\n",
    "            if currentNode.left:\n",
    "                start = currentNode.left\n",
    "                tail = currentNode.left\n",
    "                while tail.right:\n",
    "                    tail = tail.right\n",
    "                tail.right = currentNode.right\n",
    "                currentNode.right = start\n",
    "                currentNode.left = None\n",
    "            currentNode= currentNode.right\n"
   ]
  },
  {
   "cell_type": "markdown",
   "metadata": {},
   "source": [
    "Time complexity : O(n)\n",
    "\n",
    "Space complexity : O(1)\n",
    "\n",
    "- 执行用时：24 ms, 在所有 Python3 提交中击败了99.97%的用户\n",
    "- 内存消耗：15.3 MB, 在所有 Python3 提交中击败了16.20%的用户\n",
    "- 通过测试用例：225 / 225"
   ]
  },
  {
   "cell_type": "code",
   "execution_count": null,
   "metadata": {},
   "outputs": [],
   "source": [
    "class Solution:\n",
    "    def flatten(self, root: TreeNode) -> None:\n",
    "        if root == None: return\n",
    "        self.flatten(root.left)\n",
    "        self.flatten(root.right)\n",
    "        while root.left != None: # 后序遍历\n",
    "            pre = root.left # 令 pre 指向左子树\n",
    "            while pre.right: \n",
    "                pre = pre.right # 找到左子树中的最右节点\n",
    "            pre.right = root.right # 令左子树中的最右节点的右子树 指向 根节点的右子树\n",
    "            root.right = root.left # 令根节点的右子树指向根节点的左子树\n",
    "            root.left = None # 置空根节点的左子树\n",
    "            root = root.right # 令当前节点指向下一个节点"
   ]
  },
  {
   "cell_type": "markdown",
   "metadata": {},
   "source": [
    "- 执行用时：28 ms, 在所有 Python3 提交中击败了99.52%的用户\n",
    "- 内存消耗：15.2 MB, 在所有 Python3 提交中击败了35.27%的用户\n",
    "- 通过测试用例：225 / 225"
   ]
  },
  {
   "cell_type": "markdown",
   "metadata": {},
   "source": [
    "### 23. 合并K个升序链表 (hard)\n",
    "\n",
    "给你一个链表数组，每个链表都已经按升序排列。\n",
    "\n",
    "请你将所有链表合并到一个升序链表中，返回合并后的链表。\n",
    "\n",
    "示例 1：\n",
    "\n",
    "- 输入：lists = [[1,4,5],[1,3,4],[2,6]]\n",
    "- 输出：[1,1,2,3,4,4,5,6]\n",
    "- 解释：链表数组如下：\n",
    "[\n",
    "  1->4->5,\n",
    "  1->3->4,\n",
    "  2->6\n",
    "]\n",
    "将它们合并到一个有序链表中得到。\n",
    "1->1->2->3->4->4->5->6\n",
    "\n",
    "示例 2：\n",
    "\n",
    "- 输入：lists = []\n",
    "- 输出：[]\n",
    "\n",
    "示例 3：\n",
    "\n",
    "- 输入：lists = [[]]\n",
    "- 输出：[]\n"
   ]
  },
  {
   "cell_type": "code",
   "execution_count": 84,
   "metadata": {},
   "outputs": [
    {
     "name": "stdout",
     "output_type": "stream",
     "text": [
      "[1, 3, 4]\n",
      "[1, 1, 3, 4, 4, 5]\n",
      "[2, 6]\n",
      "[1, 1, 2, 3, 4, 4, 5, 6]\n",
      "[1, 1, 2, 3, 4, 4, 5, 6]\n"
     ]
    }
   ],
   "source": [
    "class Solution:\n",
    "    def mergeKLists(self, lists):\n",
    "        def mergeLists(head1,head2):\n",
    "            if head1 is None:\n",
    "                return head2\n",
    "            if head2 is None:\n",
    "                return head1\n",
    "            dummyNode = ListNode(0)\n",
    "            currentNode = dummyNode\n",
    "\n",
    "            while head1 and head2:\n",
    "                if head1.val <= head2.val:\n",
    "                    currentNode.next = head1\n",
    "                    head1 = head1.next\n",
    "                else:\n",
    "                    currentNode.next = head2\n",
    "                    head2 = head2.next\n",
    "                currentNode = currentNode.next\n",
    "            if head1:\n",
    "                currentNode.next = head1\n",
    "            else:\n",
    "                currentNode.next = head2\n",
    "            return dummyNode.next\n",
    "\n",
    "\n",
    "        n = len(lists)\n",
    "        if n == 0:\n",
    "            return None\n",
    "        if n == 1:\n",
    "            return lists[0]\n",
    "\n",
    "        head1 = lists[0]\n",
    "        for i in range(1,n):\n",
    "            head2 = lists[i]\n",
    "            printLists(head2)\n",
    "            head1 = mergeLists(head1,head2)\n",
    "            printLists(head1)\n",
    "            \n",
    "        return head1\n",
    "list = []\n",
    "l1 = LinkedList()\n",
    "l1.insert(1)\n",
    "l1.insert(4)\n",
    "l1.insert(5)\n",
    "l2 = LinkedList()\n",
    "l2.insert(1)\n",
    "l2.insert(3)\n",
    "l2.insert(4)\n",
    "l3 = LinkedList()\n",
    "l3.insert(2)\n",
    "l3.insert(6)\n",
    "list.append(l1.head)\n",
    "list.append(l2.head)\n",
    "list.append(l3.head)\n",
    "example = Solution()\n",
    "a=example.mergeKLists(list)\n",
    "printLists(a)\n"
   ]
  },
  {
   "cell_type": "markdown",
   "metadata": {},
   "source": [
    "Time complexity : O(n*k)\n",
    "Space complexity : O(1) \n",
    "- 执行用时：2448 ms, 在所有 Python3 提交中击败了19.69%的用户\n",
    "- 内存消耗：18.1 MB, 在所有 Python3 提交中击败了53.16%的用户\n",
    "- 通过测试用例：133 / 133"
   ]
  },
  {
   "cell_type": "code",
   "execution_count": 86,
   "metadata": {},
   "outputs": [
    {
     "name": "stdout",
     "output_type": "stream",
     "text": [
      "[1, 1, 2, 3, 4, 4, 5, 6]\n"
     ]
    }
   ],
   "source": [
    "class Solution:\n",
    "    def mergeKLists2(self, lists):\n",
    "        import heapq\n",
    "        dummy = ListNode(0)\n",
    "        p = dummy\n",
    "        head = []\n",
    "        # head 的大小为k\n",
    "        # 先把list中的每个的第一个node放到head中，每个node往后移动一个\n",
    "        for i in range(len(lists)):\n",
    "            if lists[i] :\n",
    "                heapq.heappush(head, (lists[i].val, i))\n",
    "                lists[i] = lists[i].next\n",
    "        while head:\n",
    "            #从heapq中拿出最小的一个元素，创建新的node，给p\n",
    "            val, idx = heapq.heappop(head)\n",
    "            p.next = ListNode(val)\n",
    "            p = p.next\n",
    "            if lists[idx]:\n",
    "                # 补充新的node到head中\n",
    "                heapq.heappush(head, (lists[idx].val, idx))\n",
    "                lists[idx] = lists[idx].next\n",
    "        return dummy.next\n",
    "list = []\n",
    "l1 = LinkedList()\n",
    "l1.insert(1)\n",
    "l1.insert(4)\n",
    "l1.insert(5)\n",
    "l2 = LinkedList()\n",
    "l2.insert(1)\n",
    "l2.insert(3)\n",
    "l2.insert(4)\n",
    "l3 = LinkedList()\n",
    "l3.insert(2)\n",
    "l3.insert(6)\n",
    "list.append(l1.head)\n",
    "list.append(l2.head)\n",
    "list.append(l3.head)\n",
    "example = Solution()\n",
    "a=example.mergeKLists2(list)\n",
    "printLists(a)"
   ]
  },
  {
   "cell_type": "markdown",
   "metadata": {},
   "source": [
    "Time complesity: O(nlogk)\n",
    "\n",
    "Space complesity : O(k)\n",
    "\n",
    "- 执行用时：80 ms, 在所有 Python3 提交中击败了60.03%的用户\n",
    "- 内存消耗：18 MB, 在所有 Python3 提交中击败了65.71%的用户\n",
    "- 通过测试用例：133 / 133"
   ]
  }
 ],
 "metadata": {
  "interpreter": {
   "hash": "aee8b7b246df8f9039afb4144a1f6fd8d2ca17a180786b69acc140d282b71a49"
  },
  "kernelspec": {
   "display_name": "Python 3.9.6 64-bit",
   "language": "python",
   "name": "python3"
  },
  "language_info": {
   "codemirror_mode": {
    "name": "ipython",
    "version": 3
   },
   "file_extension": ".py",
   "mimetype": "text/x-python",
   "name": "python",
   "nbconvert_exporter": "python",
   "pygments_lexer": "ipython3",
   "version": "3.9.6"
  },
  "orig_nbformat": 4
 },
 "nbformat": 4,
 "nbformat_minor": 2
}
