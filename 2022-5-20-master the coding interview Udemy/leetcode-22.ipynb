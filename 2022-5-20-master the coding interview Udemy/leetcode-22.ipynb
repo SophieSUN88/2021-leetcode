{
 "cells": [
  {
   "cell_type": "markdown",
   "metadata": {},
   "source": [
    "### 22. 括号的生产\n",
    "\n",
    "数字 n 代表生成括号的对数，请你设计一个函数，用于能够生成所有可能的并且 有效的 括号组合。\n",
    "\n",
    "示例 1：\n",
    "- 输入：n = 3\n",
    "- 输出：[\"((()))\",\"(()())\",\"(())()\",\"()(())\",\"()()()\"]\n",
    "\n",
    "示例 2：\n",
    "- 输入：n = 1\n",
    "- 输出：[\"()\"]\n",
    " "
   ]
  },
  {
   "cell_type": "code",
   "execution_count": null,
   "metadata": {},
   "outputs": [],
   "source": [
    "class Solution:\n",
    "    def generateParenthesis(self, n: int) -> List[str]:\n",
    "        df= [0] * (n+1)\n",
    "        df[0] = []\n",
    "        df[1] = [\"()\"]\n",
    "        df[2] = [\"()()\",\"(())\"]\n",
    "        for i in range(n+1):\n",
    "            for j in range(0,n+1):\n",
    "                df[i][j]\n",
    "        "
   ]
  },
  {
   "cell_type": "code",
   "execution_count": 1,
   "metadata": {},
   "outputs": [
    {
     "data": {
      "text/plain": [
       "'()'"
      ]
     },
     "execution_count": 1,
     "metadata": {},
     "output_type": "execute_result"
    }
   ],
   "source": [
    "a = [\"()\"]\n",
    "a[0]"
   ]
  },
  {
   "cell_type": "markdown",
   "metadata": {},
   "source": [
    "- Time complexity : O($n^2$)\n",
    "- Space complexity : O($n^2$)\n",
    "\n",
    "- 执行用时：32 ms, 在所有 Python3 提交中击败了94.06%的用户\n",
    "- 内存消耗：15.1 MB, 在所有 Python3 提交中击败了67.01%的用户\n",
    "- 通过测试用例：8 / 8"
   ]
  },
  {
   "cell_type": "code",
   "execution_count": 13,
   "metadata": {},
   "outputs": [
    {
     "data": {
      "text/plain": [
       "['()()()', '()(())', '(())()', '(()())', '((()))']"
      ]
     },
     "execution_count": 13,
     "metadata": {},
     "output_type": "execute_result"
    }
   ],
   "source": [
    "class Solution:\n",
    "    def generateParenthesis(self, n):\n",
    "        if n == 0:\n",
    "            return []\n",
    "        total_list=[]\n",
    "        total_list.append([\"\"])\n",
    "        total_list.append([\"()\"])\n",
    "        for i in range(2,n+1):\n",
    "            list = []\n",
    "            for j in range(i):\n",
    "                letf_list = total_list[j]\n",
    "                right_list = total_list[i-1-j]\n",
    "                for left in letf_list:\n",
    "                    for right in right_list:\n",
    "                        result=\"(\"+left+\")\"+right\n",
    "                        list.append(result)\n",
    "            total_list.append(list)\n",
    "        return total_list[n]\n",
    "example = Solution()\n",
    "example.generateParenthesis(3)\n"
   ]
  },
  {
   "cell_type": "code",
   "execution_count": 9,
   "metadata": {},
   "outputs": [
    {
     "data": {
      "text/plain": [
       "''"
      ]
     },
     "execution_count": 9,
     "metadata": {},
     "output_type": "execute_result"
    }
   ],
   "source": [
    "total_list=[]\n",
    "total_list.append([\"\"])\n",
    "total_list.append([\"()\"])\n",
    "total_list[0][0]"
   ]
  },
  {
   "cell_type": "code",
   "execution_count": null,
   "metadata": {},
   "outputs": [],
   "source": []
  }
 ],
 "metadata": {
  "interpreter": {
   "hash": "aee8b7b246df8f9039afb4144a1f6fd8d2ca17a180786b69acc140d282b71a49"
  },
  "kernelspec": {
   "display_name": "Python 3.9.6 64-bit",
   "language": "python",
   "name": "python3"
  },
  "language_info": {
   "codemirror_mode": {
    "name": "ipython",
    "version": 3
   },
   "file_extension": ".py",
   "mimetype": "text/x-python",
   "name": "python",
   "nbconvert_exporter": "python",
   "pygments_lexer": "ipython3",
   "version": "3.9.6"
  },
  "orig_nbformat": 4
 },
 "nbformat": 4,
 "nbformat_minor": 2
}
