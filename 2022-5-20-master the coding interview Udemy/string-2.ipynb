{
 "cells": [
  {
   "cell_type": "markdown",
   "metadata": {},
   "source": [
    "### string 3: 3. Longest Substring Without Repeating Characters (medium)\n",
    "\n",
    "Given a string s, find the length of the longest substring without repeating characters.\n",
    "\n",
    " \n",
    "\n",
    "Example 1:\n",
    "\n",
    "- Input: s = \"abcabcbb\"\n",
    "- Output: 3\n",
    "- Explanation: The answer is \"abc\", with the length of 3.\n",
    "\n",
    "Example 2:\n",
    "\n",
    "- Input: s = \"bbbbb\"\n",
    "- Output: 1\n",
    "- Explanation: The answer is \"b\", with the length of 1.\n",
    "\n",
    "Example 3:\n",
    "\n",
    "- Input: s = \"pwwkew\"\n",
    "- Output: 3\n",
    "- Explanation: The answer is \"wke\", with the length of 3.\n",
    "\n",
    "Notice that the answer must be a substring, \"pwke\" is a subsequence and not a substring."
   ]
  },
  {
   "cell_type": "markdown",
   "metadata": {},
   "source": [
    "### Solution 1: Brute Force\n",
    "- Time complexity : O($n^2$)\n",
    "- Space complexity : O(n)\n",
    "\n",
    "Runtime: 4042 ms, faster than 7.87% of Python online submissions for Longest Substring Without Repeating Characters.\n",
    "\n",
    "Memory Usage: 15.4 MB, less than 5.64% of Python online submissions for Longest Substring Without Repeating Characters."
   ]
  },
  {
   "cell_type": "code",
   "execution_count": 25,
   "metadata": {},
   "outputs": [
    {
     "data": {
      "text/plain": [
       "4"
      ]
     },
     "execution_count": 25,
     "metadata": {},
     "output_type": "execute_result"
    }
   ],
   "source": [
    "# brute force\n",
    "class Solution(object):\n",
    "    def lengthOfLongestSubstring(self, s):\n",
    "        \"\"\"\n",
    "        :type s: str\n",
    "        :rtype: int\n",
    "        \"\"\"\n",
    "        # n=0 or 1, just return n\n",
    "        n=len(s)\n",
    "        if n<=1:\n",
    "            return n\n",
    "        longest = 0\n",
    "        for left in range(n):\n",
    "            chars={}\n",
    "            count=0\n",
    "            for right in range(left,n):\n",
    "                # check the char is in dict or not\n",
    "                # if not, add the char to the dict\n",
    "                if s[right] not in chars:\n",
    "                    chars[s[right]]=1\n",
    "                    count +=1\n",
    "                    longest= max(longest,count)\n",
    "                # if in the dict, means duplicate, break\n",
    "                else:\n",
    "                    break\n",
    "        return longest\n",
    "\n",
    "s=\"aabcd\"\n",
    "example = Solution()\n",
    "example.lengthOfLongestSubstring(s)\n"
   ]
  },
  {
   "cell_type": "markdown",
   "metadata": {},
   "source": [
    "### Opitimization\n",
    "\n",
    "Form a window over some portion of sequential data, then move that window throughout the data to capture diferent parts of it.\n",
    "- 1st Hint: Use a sliding window to represent the current substring\n",
    "- 2nd Hint: The size of the window will change based on new characters, and characters we've already seen before\n",
    "- 3rd Hint: Our seen characters hashmap keeps track of what characters we've seen, and the index we saw them at."
   ]
  },
  {
   "cell_type": "markdown",
   "metadata": {},
   "source": [
    "- Time complexity : O（n)\n",
    "- Space complexity : O(n)\n",
    "\n",
    "Runtime: 49 ms, faster than 81.10% of Python online submissions for Longest Substring Without Repeating Characters.\n",
    "\n",
    "Memory Usage: 14.2 MB, less than 47.89% of Python online submissions for Longest Substring Without Repeating Characters."
   ]
  },
  {
   "cell_type": "code",
   "execution_count": 37,
   "metadata": {},
   "outputs": [
    {
     "data": {
      "text/plain": [
       "4"
      ]
     },
     "execution_count": 37,
     "metadata": {},
     "output_type": "execute_result"
    }
   ],
   "source": [
    "class Solution(object):\n",
    "    def lengthOfLongestSubstring(self, s):\n",
    "        \"\"\"\n",
    "        :type s: str\n",
    "        :rtype: int\n",
    "        \"\"\"\n",
    "        # n=0 or 1, just return n\n",
    "        n=len(s)\n",
    "        if n<=1:\n",
    "            return n\n",
    "            \n",
    "        longest = 0\n",
    "        left = 0\n",
    "        chars={}\n",
    "                    \n",
    "        for right in range(n):\n",
    "            \n",
    "            currentChar = s[right]\n",
    "            if currentChar not in chars:\n",
    "                chars[currentChar] = right\n",
    "            else:\n",
    "                previousChar = chars[currentChar]\n",
    "                if previousChar >= left :\n",
    "                    left = previousChar +1\n",
    "                \n",
    "            chars[currentChar] = right\n",
    "            longest = max(longest, right - left +1)\n",
    "\n",
    "                \n",
    "        return longest\n",
    "s=\"aabdcdd\"\n",
    "example = Solution()\n",
    "example.lengthOfLongestSubstring(s)"
   ]
  },
  {
   "cell_type": "code",
   "execution_count": null,
   "metadata": {},
   "outputs": [],
   "source": []
  }
 ],
 "metadata": {
  "interpreter": {
   "hash": "aee8b7b246df8f9039afb4144a1f6fd8d2ca17a180786b69acc140d282b71a49"
  },
  "kernelspec": {
   "display_name": "Python 3.9.6 64-bit",
   "language": "python",
   "name": "python3"
  },
  "language_info": {
   "codemirror_mode": {
    "name": "ipython",
    "version": 3
   },
   "file_extension": ".py",
   "mimetype": "text/x-python",
   "name": "python",
   "nbconvert_exporter": "python",
   "pygments_lexer": "ipython3",
   "version": "3.9.6"
  },
  "orig_nbformat": 4
 },
 "nbformat": 4,
 "nbformat_minor": 2
}
