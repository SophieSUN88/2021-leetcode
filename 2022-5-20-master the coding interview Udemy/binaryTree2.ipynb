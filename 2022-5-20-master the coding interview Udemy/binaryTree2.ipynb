{
 "cells": [
  {
   "cell_type": "markdown",
   "metadata": {},
   "source": [
    "### 222. Count Complete Tree Nodes\n",
    "Given the root of a complete binary tree, return the number of the nodes in the tree.\n",
    "\n",
    "According to Wikipedia, every level, except possibly the last, is completely filled in a complete binary tree, and all nodes in the last level are as far left as possible. It can have between 1 and 2h nodes inclusive at the last level h.\n",
    "\n",
    "Design an algorithm that runs in less than O(n) time complexity.\n",
    "\n",
    "Example1:\n",
    "Input: root = [1,2,3,4,5,6]\n",
    "Output: 6\n",
    "\n",
    "Example 2:\n",
    "\n",
    "Input: root = []\n",
    "Output: 0\n",
    "\n",
    "Example 3:\n",
    "\n",
    "Input: root = [1]\n",
    "Output: 1"
   ]
  },
  {
   "cell_type": "code",
   "execution_count": 38,
   "metadata": {},
   "outputs": [],
   "source": [
    "# Definition for a binary tree node.\n",
    "# class TreeNode:\n",
    "#     def __init__(self, val=0, left=None, right=None):\n",
    "#         self.val = val\n",
    "#         self.left = left\n",
    "#         self.right = right\n",
    "import math\n",
    "class Solution:\n",
    "    def countNodes(self, root) -> int:\n",
    "        if not root:\n",
    "            return 0\n",
    "        height = self.getTreeHeight(root)\n",
    "        print(\"height:\",height)\n",
    "\n",
    "        if height == 0:\n",
    "            return 1\n",
    "\n",
    "        upperCount = int(math.pow(2,height) - 1 )\n",
    "        print(\"upperCount\",upperCount)\n",
    "        left = 0\n",
    "        print(\"left:\",left)\n",
    "        right = upperCount\n",
    "        print(\"right:\",right)\n",
    "        while left < right:\n",
    "            id = math.ceil((left + right)/2)\n",
    "            if self.nodeExists(id,height,root):\n",
    "                left = id\n",
    "            else:\n",
    "                right = id-1\n",
    "        print(\"left:\",left)\n",
    "        print(\"right:\",right)\n",
    "        return upperCount + left + 1\n",
    "    def getTreeHeight(self,root):\n",
    "        height = 0\n",
    "        while root.left:\n",
    "            height +=1\n",
    "            root = root.left\n",
    "        return height\n",
    "    def nodeExists(self,id,height,node):\n",
    "        left = 0\n",
    "        right = pow(2,height) - 1\n",
    "        count = 0\n",
    "        while count < height:\n",
    "            mid = math.ceil((left+right)/2)    \n",
    "            if id >= mid:\n",
    "                node = node.right\n",
    "                left = mid\n",
    "            else:\n",
    "                node = node.left\n",
    "                right = mid - 1\n",
    "            count += 1\n",
    "        return node is not None\n"
   ]
  },
  {
   "cell_type": "code",
   "execution_count": 39,
   "metadata": {},
   "outputs": [
    {
     "name": "stdout",
     "output_type": "stream",
     "text": [
      "height: 1\n",
      "upperCount 1\n",
      "left: 0\n",
      "right: 1\n",
      "left: 0\n",
      "right: 0\n"
     ]
    },
    {
     "data": {
      "text/plain": [
       "2"
      ]
     },
     "execution_count": 39,
     "metadata": {},
     "output_type": "execute_result"
    }
   ],
   "source": [
    "root = [1,2]\n",
    "root = build(root)\n",
    "example = Solution()\n",
    "example.countNodes(root)"
   ]
  },
  {
   "cell_type": "markdown",
   "metadata": {},
   "source": [
    "Time complexity : O($log^2 N$)\n",
    "\n",
    "Space complexity : O (1)\n",
    "\n",
    "Runtime: 104 ms, faster than 57.96% of Python3 online submissions for Count Complete Tree Nodes.\n",
    "\n",
    "Memory Usage: 21.4 MB, less than 87.33% of Python3 online submissions for Count Complete Tree Nodes."
   ]
  },
  {
   "cell_type": "code",
   "execution_count": 5,
   "metadata": {},
   "outputs": [],
   "source": [
    "from binarytree import Node\n",
    "from binarytree import build"
   ]
  },
  {
   "cell_type": "code",
   "execution_count": 4,
   "metadata": {},
   "outputs": [
    {
     "name": "stdout",
     "output_type": "stream",
     "text": [
      "\n",
      "    __1__\n",
      "   /     \\\n",
      "  2       3\n",
      " / \\     /\n",
      "4   5   6\n",
      "\n"
     ]
    }
   ],
   "source": [
    "root = [1,2,3,4,5,6]\n",
    "root = build(root)\n",
    "print(root)"
   ]
  },
  {
   "cell_type": "code",
   "execution_count": 6,
   "metadata": {},
   "outputs": [
    {
     "data": {
      "text/plain": [
       "6"
      ]
     },
     "execution_count": 6,
     "metadata": {},
     "output_type": "execute_result"
    }
   ],
   "source": [
    "def nodeCount(root):\n",
    "    if root is None:\n",
    "        return 0\n",
    "    else:\n",
    "        count = 1\n",
    "    if root.left:\n",
    "        count += nodeCount(root.left)\n",
    "    if root.right:\n",
    "        count += nodeCount(root.right)\n",
    "    return count\n",
    "nodeCount(root)"
   ]
  },
  {
   "cell_type": "markdown",
   "metadata": {},
   "source": [
    "Runtime: 157 ms, faster than 13.98% of Python3 online submissions for Count Complete Tree Nodes.\n",
    "\n",
    "Memory Usage: 21.4 MB, less than 87.33% of Python3 online submissions for Count Complete Tree Nodes."
   ]
  },
  {
   "cell_type": "code",
   "execution_count": 42,
   "metadata": {},
   "outputs": [
    {
     "name": "stdout",
     "output_type": "stream",
     "text": [
      "left_height 2\n",
      "right_height: 2\n",
      "left_height 1\n",
      "right_height: 0\n",
      "left_height 0\n",
      "right_height: 0\n"
     ]
    },
    {
     "data": {
      "text/plain": [
       "6"
      ]
     },
     "execution_count": 42,
     "metadata": {},
     "output_type": "execute_result"
    }
   ],
   "source": [
    "def height(root):\n",
    "    if not root:\n",
    "        return 0\n",
    "    return 1+height(root.left)\n",
    "def countNodes(root):\n",
    "    if not root:\n",
    "        return 0\n",
    "    left_height = height(root.left)\n",
    "    print(\"left_height\",left_height)\n",
    "    right_height = height(root.right)\n",
    "    print(\"right_height:\",right_height)\n",
    "    if left_height != right_height:\n",
    "        return pow(2,right_height) + countNodes(root.left)\n",
    "    else:\n",
    "        return pow(2,left_height) + countNodes(root.right)\n",
    "root = [1,2,3,4,5,6]\n",
    "root = build(root)\n",
    "countNodes(root)"
   ]
  },
  {
   "cell_type": "markdown",
   "metadata": {},
   "source": [
    "Runtime: 136 ms, faster than 27.26% of Python3 online submissions for Count Complete Tree Nodes.\n",
    "\n",
    "Memory Usage: 21.2 MB, less than 99.76% of Python3 online submissions for Count Complete Tree Nodes."
   ]
  },
  {
   "cell_type": "code",
   "execution_count": null,
   "metadata": {},
   "outputs": [],
   "source": []
  }
 ],
 "metadata": {
  "interpreter": {
   "hash": "aee8b7b246df8f9039afb4144a1f6fd8d2ca17a180786b69acc140d282b71a49"
  },
  "kernelspec": {
   "display_name": "Python 3.9.6 64-bit",
   "language": "python",
   "name": "python3"
  },
  "language_info": {
   "codemirror_mode": {
    "name": "ipython",
    "version": 3
   },
   "file_extension": ".py",
   "mimetype": "text/x-python",
   "name": "python",
   "nbconvert_exporter": "python",
   "pygments_lexer": "ipython3",
   "version": "3.9.6"
  },
  "orig_nbformat": 4
 },
 "nbformat": 4,
 "nbformat_minor": 2
}
