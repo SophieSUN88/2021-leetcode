{
 "cells": [
  {
   "cell_type": "markdown",
   "metadata": {},
   "source": [
    "### 283 移动零\n",
    "\n",
    "给定一个数组 nums，编写一个函数将所有 0 移动到数组的末尾，同时保持非零元素的相对顺序。\n",
    "\n",
    "请注意 ，必须在不复制数组的情况下原地对数组进行操作。\n",
    "\n",
    "示例 1:\n",
    "- 输入: nums = [0,1,0,3,12]\n",
    "- 输出: [1,3,12,0,0]\n",
    "\n",
    "示例 2:\n",
    "- 输入: nums = [0]\n",
    "- 输出: [0]"
   ]
  },
  {
   "cell_type": "markdown",
   "metadata": {},
   "source": [
    "Time complexity: O(n)\n",
    "Space complexity: O(n)\n",
    "- 执行用时：44 m, 在所有 Python3 提交中击败了80.26%的用户\n",
    "- 内存消耗：15.9 MB, 在所有 Python3 提交中击败了5.16%的用户\n",
    "- 通过测试用例：74 / 74"
   ]
  },
  {
   "cell_type": "code",
   "execution_count": 5,
   "metadata": {},
   "outputs": [
    {
     "name": "stdout",
     "output_type": "stream",
     "text": [
      "[]\n"
     ]
    },
    {
     "data": {
      "text/plain": [
       "[1, 3, 12, 0, 0]"
      ]
     },
     "execution_count": 5,
     "metadata": {},
     "output_type": "execute_result"
    }
   ],
   "source": [
    "class Solution1:\n",
    "    def moveZeroes(self, nums) -> None:\n",
    "        \"\"\"\n",
    "        Do not return anything, modify nums in-place instead.\n",
    "        \"\"\"\n",
    "        n = len(nums)\n",
    "        result = []\n",
    "        print(result)\n",
    "        for i in range(n):\n",
    "            if nums[i] != 0 :\n",
    "                result.append(nums[i])\n",
    "        \n",
    "        n_zero = n - len(result)\n",
    "        result = result + [0]*n_zero\n",
    "\n",
    "        return result\n",
    "example = Solution1()\n",
    "nums=[0,1,0,3,12]\n",
    "example.moveZeroes(nums)"
   ]
  },
  {
   "cell_type": "markdown",
   "metadata": {},
   "source": [
    "Time complexity: O(n)\n",
    "Space complexity: O(1)\n",
    "- 执行用时：44 m, 在所有 Python3 提交中击败了91.79%的用户\n",
    "- 内存消耗：15.9 MB, 在所有 Python3 提交中击败了10.71%的用户\n",
    "- 通过测试用例：74 / 74"
   ]
  },
  {
   "cell_type": "code",
   "execution_count": 6,
   "metadata": {},
   "outputs": [],
   "source": [
    "#solution 2 work\n",
    "#from typing import *\n",
    "class Solution2:\n",
    "    def moveZeroes(self, nums: list[int]) -> None:\n",
    "        n = len(nums)\n",
    "        j = 0\n",
    "        for i in range(n):\n",
    "            if nums[i] != 0 :\n",
    "                nums[j] = nums[i]\n",
    "                j +=1\n",
    "        if j < n:\n",
    "            for k in range(j,n):\n",
    "                nums[k] = 0\n",
    "example = Solution2()\n",
    "nums=[0,1,0,3,12]\n",
    "example.moveZeroes(nums)"
   ]
  }
 ],
 "metadata": {
  "interpreter": {
   "hash": "aee8b7b246df8f9039afb4144a1f6fd8d2ca17a180786b69acc140d282b71a49"
  },
  "kernelspec": {
   "display_name": "Python 3.9.6 64-bit",
   "language": "python",
   "name": "python3"
  },
  "language_info": {
   "codemirror_mode": {
    "name": "ipython",
    "version": 3
   },
   "file_extension": ".py",
   "mimetype": "text/x-python",
   "name": "python",
   "nbconvert_exporter": "python",
   "pygments_lexer": "ipython3",
   "version": "3.9.6"
  },
  "orig_nbformat": 4
 },
 "nbformat": 4,
 "nbformat_minor": 2
}
