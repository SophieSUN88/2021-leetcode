{
 "cells": [
  {
   "cell_type": "markdown",
   "metadata": {},
   "source": [
    "### Array-1\n",
    "1. Problem\n",
    "- Given an array of integers, return the indices of the two numbers that add up to a given target.\n",
    "2. Question in the interview\n",
    "\n",
    "Step 1 : verify the constraints\n",
    "- Are all the numbers positive or can there be negatives?\n",
    "    - All numbers are positive\n",
    "- Are there duplicate numbers in the array?\n",
    "    - No, there are no duplicates.\n",
    "- Will there always be a solution available?\n",
    "    - No, there may not always be a solution.\n",
    "    - [1,2,7,9,3]  25\n",
    "    - [] 25\n",
    "    - [5] 25\n",
    "- What do we return if there is no solution?\n",
    "    - Just return null.\n",
    "- Can there be nultiple pairs that add up to the targets?\n",
    "    - No, only 1 pair of numbers will add up to the target.\n",
    "    - [1,3,7,9,2] 11 ok\n",
    "    - [1,3,7,9,2,4] 11 no\n",
    "\n",
    "Step 2 : Write out some test cases\n",
    "- [1,3,7,9,2]  11\n",
    "- []  11\n",
    "- [5] 11\n",
    "- [1,3,7,2] 11\n",
    "- [1,2] 3\n",
    "\n",
    "Step 3 : Figure out a solution without code\n",
    "\n",
    "Step 4 : Write out a solution in code\n",
    "\n",
    "Step 5 : double check for errors"
   ]
  },
  {
   "cell_type": "code",
   "execution_count": 12,
   "metadata": {},
   "outputs": [
    {
     "data": {
      "text/plain": [
       "[3, 4]"
      ]
     },
     "execution_count": 12,
     "metadata": {},
     "output_type": "execute_result"
    }
   ],
   "source": [
    "def match(a,b):\n",
    "    result = []\n",
    "    n = len(a)\n",
    "    #print(\"n:\",n)\n",
    "    if n>1:\n",
    "        for i in range(n-1):\n",
    "            #print(\"i:\",i)\n",
    "            for j in range(i+1,n):\n",
    "                #print(\"j:\",j)\n",
    "                if a[i] + a[j] == b:\n",
    "                    result.append(i)\n",
    "                    #print(\"result:\",result)\n",
    "                    result.append(j)\n",
    "                    #print(\"result:\",result)\n",
    "                    break\n",
    "    return result\n",
    "a=[1,3,7,9,2]\n",
    "b=11\n",
    "match(a,b)"
   ]
  },
  {
   "cell_type": "code",
   "execution_count": 13,
   "metadata": {},
   "outputs": [
    {
     "data": {
      "text/plain": [
       "[]"
      ]
     },
     "execution_count": 13,
     "metadata": {},
     "output_type": "execute_result"
    }
   ],
   "source": [
    "a=[1,2,7,2]\n",
    "match(a,b)"
   ]
  },
  {
   "cell_type": "code",
   "execution_count": 14,
   "metadata": {},
   "outputs": [
    {
     "data": {
      "text/plain": [
       "[]"
      ]
     },
     "execution_count": 14,
     "metadata": {},
     "output_type": "execute_result"
    }
   ],
   "source": [
    "a=[]\n",
    "match(a,b)"
   ]
  },
  {
   "cell_type": "code",
   "execution_count": 15,
   "metadata": {},
   "outputs": [
    {
     "data": {
      "text/plain": [
       "[]"
      ]
     },
     "execution_count": 15,
     "metadata": {},
     "output_type": "execute_result"
    }
   ],
   "source": [
    "a=[1]\n",
    "match(a,b)"
   ]
  },
  {
   "cell_type": "code",
   "execution_count": 16,
   "metadata": {},
   "outputs": [
    {
     "data": {
      "text/plain": [
       "[0, 1]"
      ]
     },
     "execution_count": 16,
     "metadata": {},
     "output_type": "execute_result"
    }
   ],
   "source": [
    "a=[1,2]\n",
    "b=3\n",
    "match(a,b)"
   ]
  },
  {
   "cell_type": "markdown",
   "metadata": {},
   "source": [
    "- Leetcode 1: Two Sum\n",
    "- Solution 1: 7203ms\n",
    "- time : O(n^2)\n",
    "- space : O(1)\n"
   ]
  },
  {
   "cell_type": "code",
   "execution_count": 21,
   "metadata": {},
   "outputs": [
    {
     "name": "stdout",
     "output_type": "stream",
     "text": [
      "None\n"
     ]
    }
   ],
   "source": [
    "def findTwoSum(a,b):\n",
    "    n = len(a)\n",
    "    #print(\"n:\",n)\n",
    "    if n>1:\n",
    "        for i in range(n-1):\n",
    "            #print(\"i:\",i)\n",
    "            for j in range(i+1,n):\n",
    "                #print(\"j:\",j)\n",
    "                if a[i] + a[j] == b:\n",
    "                    return [i,j]\n",
    "    return None\n",
    "a=[1,3,7,9,5]\n",
    "b=11\n",
    "print(findTwoSum(a,b))"
   ]
  },
  {
   "cell_type": "markdown",
   "metadata": {},
   "source": [
    "Step 8 : Can we optimize our solution？\n",
    "- Solution 2: hash map\n",
    "- Time complexity : O(n)\n",
    "- Space complexity : O(n)\n",
    "\n",
    "Runtime: 47 ms, faster than 86.93% of Python online submissions for Two Sum.\n",
    "\n",
    "Memory Usage: 14.4 MB, less than 47.28% of Python online submissions for Two Sum.\n"
   ]
  },
  {
   "cell_type": "code",
   "execution_count": 1,
   "metadata": {},
   "outputs": [],
   "source": [
    "class Solution(object):\n",
    "    # def __init__(self, nums, target):\n",
    "    #     self.nums = nums\n",
    "    #     self.target = target\n",
    "    def twoSum(self, nums, target):\n",
    "        \"\"\"\n",
    "        :type nums: List[int]\n",
    "        :type target: int\n",
    "        :rtype: List[int]\n",
    "        \"\"\"\n",
    "\n",
    "        n=len(nums)\n",
    "        dict={}\n",
    "        for i in range(n):\n",
    "            #print(\"i:\",i)\n",
    "            number = target - nums[i]\n",
    "            #print(\"number:\",number)\n",
    "            if number not in dict :\n",
    "                dict[nums[i]] = i\n",
    "                #print(\"dict:\",dict)\n",
    "            else:\n",
    "                return [dict[number], i]\n",
    "        return None"
   ]
  },
  {
   "cell_type": "code",
   "execution_count": 2,
   "metadata": {},
   "outputs": [
    {
     "data": {
      "text/plain": [
       "[0, 1]"
      ]
     },
     "execution_count": 2,
     "metadata": {},
     "output_type": "execute_result"
    }
   ],
   "source": [
    "a=[2,7,11,15]\n",
    "b=9\n",
    "example = Solution()\n",
    "example.twoSum(a,b)"
   ]
  },
  {
   "cell_type": "code",
   "execution_count": 43,
   "metadata": {},
   "outputs": [
    {
     "name": "stdout",
     "output_type": "stream",
     "text": [
      "[0, 1]\n"
     ]
    }
   ],
   "source": [
    "def findTwoSum2(num,target):\n",
    "    n=len(num)\n",
    "    dict={}\n",
    "    for i in range(n):\n",
    "        number = target - num[i]\n",
    "        if number not in dict :\n",
    "            dict[number] = i\n",
    "        else:\n",
    "            return [dict[number], i]\n",
    "    return None\n",
    "a=[2,7,11,15]\n",
    "b=9\n",
    "print(findTwoSum(a,b))"
   ]
  },
  {
   "cell_type": "code",
   "execution_count": 42,
   "metadata": {},
   "outputs": [
    {
     "name": "stdout",
     "output_type": "stream",
     "text": [
      "[3, 5]\n"
     ]
    }
   ],
   "source": [
    "def findTwoSum3(num, target):\n",
    "    numsMap = {}\n",
    "    for p in range(n):\n",
    "        currentMapVal = numsMap[num[p]]\n",
    "        if currentMapVal >=0:\n",
    "            return [currentMapVal, p]\n",
    "        else:\n",
    "            numberToFind = target - num[p]\n",
    "            numsMap[numberToFind] = p\n",
    "    return None\n",
    "a=[1,3,7,9,5,2]\n",
    "b=11\n",
    "print(findTwoSum(a,b))"
   ]
  },
  {
   "cell_type": "markdown",
   "metadata": {},
   "source": [
    "#Javascript\n",
    "/**\n",
    " * @param {number[]} nums\n",
    " * @param {number} target\n",
    " * @return {number[]}\n",
    " */\n",
    "\n",
    "\n",
    " \n",
    "var twoSum = function(nums, target) {\n",
    "    \n",
    "    const numsMap = {};\n",
    "    \n",
    "    for (let p=0; p<nums.length; p++) {\n",
    "        const currentMapVal = numsMap[nums[p]];\n",
    "        \n",
    "        if (currentMapVal >= 0 ) { \n",
    "            return [currentMapVal, p];\n",
    "        } else {\n",
    "            const numberToFind = target - nums[p];\n",
    "            numsMap[numberToFind] = p;\n",
    "        }\n",
    "    }\n",
    "    return null;\n",
    "};\n",
    "\n",
    "\n",
    "Runtime: 118 ms, faster than 46.68% of JavaScript online submissions for Two Sum.\n",
    "\n",
    "Memory Usage: 42.7 MB, less than 52.33% of JavaScript online submissions for Two Sum."
   ]
  },
  {
   "cell_type": "markdown",
   "metadata": {},
   "source": []
  }
 ],
 "metadata": {
  "interpreter": {
   "hash": "aee8b7b246df8f9039afb4144a1f6fd8d2ca17a180786b69acc140d282b71a49"
  },
  "kernelspec": {
   "display_name": "Python 3.9.6 64-bit",
   "language": "python",
   "name": "python3"
  },
  "language_info": {
   "codemirror_mode": {
    "name": "ipython",
    "version": 3
   },
   "file_extension": ".py",
   "mimetype": "text/x-python",
   "name": "python",
   "nbconvert_exporter": "python",
   "pygments_lexer": "ipython3",
   "version": "3.9.6"
  },
  "orig_nbformat": 4
 },
 "nbformat": 4,
 "nbformat_minor": 2
}
