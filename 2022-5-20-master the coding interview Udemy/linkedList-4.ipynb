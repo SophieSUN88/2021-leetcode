{
 "cells": [
  {
   "cell_type": "code",
   "execution_count": 1,
   "metadata": {},
   "outputs": [],
   "source": [
    "class Node:\n",
    "  def __init__(self, val=None, next=None):\n",
    "    self.val = val\n",
    "    self.next = next\n",
    "class LinkedList:\n",
    "    def __init__(self,head=None):\n",
    "        self.head = head\n",
    "    def insert(self,value):\n",
    "        newNode = Node(value)\n",
    "        if self.head is None:\n",
    "            self.head = newNode\n",
    "            return\n",
    "        currentNode = self.head\n",
    "        while currentNode.next:\n",
    "            currentNode= currentNode.next\n",
    "        currentNode.next = newNode"
   ]
  },
  {
   "cell_type": "markdown",
   "metadata": {},
   "source": [
    "### 142. Linked List Cycle II\n",
    "\n",
    "Given the head of a linked list, return the node where the cycle begins. If there is no cycle, return null.\n",
    "\n",
    "There is a cycle in a linked list if there is some node in the list that can be reached again by continuously following the next pointer. Internally, pos is used to denote the index of the node that tail's next pointer is connected to (0-indexed). It is -1 if there is no cycle. Note that pos is not passed as a parameter.\n",
    "\n",
    "Do not modify the linked list.\n",
    "\n",
    "EXAMPLE:\n",
    "- Input: head = [3,2,0,-4], pos = 1\n",
    "- Output: tail connects to node index 1\n",
    "- Explanation: There is a cycle in the linked list, where tail connects to the second node.\n",
    "\n",
    "EXAMPLE:\n",
    "- Input: head = [1], pos = -1\n",
    "- Output: no cycle\n",
    "- Explanation: There is no cycle in the linked list.\n"
   ]
  },
  {
   "cell_type": "code",
   "execution_count": 2,
   "metadata": {},
   "outputs": [],
   "source": [
    "linkList=LinkedList()\n",
    "linkList.insert(1)\n",
    "linkList.insert(2)\n",
    "linkList.insert(3)\n",
    "linkList.insert(4)\n",
    "linkList.insert(5)\n",
    "currentNode = linkList.head\n",
    "while currentNode.val != 2:\n",
    "    currentNode = currentNode.next\n",
    "start = currentNode\n",
    "while currentNode.val != 5:\n",
    "    currentNode = currentNode.next\n",
    "currentNode.next = start"
   ]
  },
  {
   "cell_type": "code",
   "execution_count": 3,
   "metadata": {},
   "outputs": [],
   "source": [
    "def findCircle(head):\n",
    "    currentNode = head\n",
    "    seenNode = set()\n",
    "    while currentNode not in seenNode:\n",
    "        if currentNode.next is None:\n",
    "            return False\n",
    "        seenNode.add(currentNode)\n",
    "        currentNode=currentNode.next\n",
    "    return currentNode"
   ]
  },
  {
   "cell_type": "code",
   "execution_count": 4,
   "metadata": {},
   "outputs": [
    {
     "name": "stdout",
     "output_type": "stream",
     "text": [
      "1\n",
      "2\n"
     ]
    }
   ],
   "source": [
    "head = linkList.head\n",
    "print(head.val)\n",
    "a = findCircle(head)\n",
    "print(a.val)"
   ]
  },
  {
   "cell_type": "code",
   "execution_count": null,
   "metadata": {},
   "outputs": [],
   "source": []
  },
  {
   "cell_type": "markdown",
   "metadata": {},
   "source": [
    "Time complexity : O(N)\n",
    "\n",
    "Space complexity : O(N)"
   ]
  },
  {
   "cell_type": "code",
   "execution_count": 5,
   "metadata": {},
   "outputs": [],
   "source": [
    "def findCircle2(head):\n",
    "    currentNode = head\n",
    "    seenNode = set()\n",
    "    while currentNode:\n",
    "        if currentNode not in seenNode:\n",
    "            seenNode.add(currentNode)\n",
    "            currentNode=currentNode.next\n",
    "        else:\n",
    "            break\n",
    "    return currentNode"
   ]
  },
  {
   "cell_type": "code",
   "execution_count": 6,
   "metadata": {},
   "outputs": [
    {
     "name": "stdout",
     "output_type": "stream",
     "text": [
      "1\n",
      "2\n"
     ]
    }
   ],
   "source": [
    "head = linkList.head\n",
    "print(head.val)\n",
    "a = findCircle2(head)\n",
    "print(a.val)"
   ]
  },
  {
   "cell_type": "code",
   "execution_count": 7,
   "metadata": {},
   "outputs": [
    {
     "name": "stdout",
     "output_type": "stream",
     "text": [
      "1\n",
      "False\n"
     ]
    }
   ],
   "source": [
    "linkList=LinkedList()\n",
    "linkList.insert(1)\n",
    "linkList.insert(2)\n",
    "linkList.insert(3)\n",
    "linkList.insert(4)\n",
    "linkList.insert(5)\n",
    "head = linkList.head\n",
    "print(head.val)\n",
    "a = findCircle(head)\n",
    "if a is False:\n",
    "    print(False)\n",
    "else:\n",
    "    print(a.val)"
   ]
  },
  {
   "cell_type": "code",
   "execution_count": 8,
   "metadata": {},
   "outputs": [],
   "source": [
    "def findCircle3(head):\n",
    "    slow = head\n",
    "    fast = head\n",
    "    while True :\n",
    "        slow = slow.next\n",
    "        fast = fast.next\n",
    "        if fast is None:\n",
    "            return False\n",
    "        else:\n",
    "            fast=fast.next\n",
    "        if slow == fast:\n",
    "            break\n",
    "    meet = fast\n",
    "    start = head\n",
    "    while True:\n",
    "        meet = meet.next\n",
    "        start = start.next\n",
    "        if meet == start:\n",
    "            break\n",
    "    return start\n"
   ]
  },
  {
   "cell_type": "code",
   "execution_count": 9,
   "metadata": {},
   "outputs": [
    {
     "name": "stdout",
     "output_type": "stream",
     "text": [
      "1\n",
      "3\n"
     ]
    }
   ],
   "source": [
    "linkList=LinkedList()\n",
    "linkList.insert(1)\n",
    "linkList.insert(2)\n",
    "linkList.insert(3)\n",
    "linkList.insert(4)\n",
    "linkList.insert(5)\n",
    "currentNode = linkList.head\n",
    "while currentNode.val != 3:\n",
    "    currentNode = currentNode.next\n",
    "start = currentNode\n",
    "while currentNode.val != 5:\n",
    "    currentNode = currentNode.next\n",
    "currentNode.next = start\n",
    "\n",
    "head = linkList.head\n",
    "print(head.val)\n",
    "a = findCircle3(head)\n",
    "print(a.val)"
   ]
  },
  {
   "cell_type": "markdown",
   "metadata": {},
   "source": [
    "Time complexity : O(N)\n",
    "\n",
    "Space complexity : O(1)"
   ]
  },
  {
   "cell_type": "code",
   "execution_count": null,
   "metadata": {},
   "outputs": [],
   "source": []
  },
  {
   "cell_type": "code",
   "execution_count": null,
   "metadata": {},
   "outputs": [],
   "source": []
  },
  {
   "cell_type": "code",
   "execution_count": null,
   "metadata": {},
   "outputs": [],
   "source": []
  }
 ],
 "metadata": {
  "interpreter": {
   "hash": "aee8b7b246df8f9039afb4144a1f6fd8d2ca17a180786b69acc140d282b71a49"
  },
  "kernelspec": {
   "display_name": "Python 3.9.6 64-bit",
   "language": "python",
   "name": "python3"
  },
  "language_info": {
   "codemirror_mode": {
    "name": "ipython",
    "version": 3
   },
   "file_extension": ".py",
   "mimetype": "text/x-python",
   "name": "python",
   "nbconvert_exporter": "python",
   "pygments_lexer": "ipython3",
   "version": "3.9.6"
  },
  "orig_nbformat": 4
 },
 "nbformat": 4,
 "nbformat_minor": 2
}
