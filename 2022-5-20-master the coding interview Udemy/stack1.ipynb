{
 "cells": [
  {
   "cell_type": "markdown",
   "metadata": {},
   "source": [
    "### 20. Valid Parentheses\n",
    "Given a string s containing just the characters '(', ')', '{', '}', '[' and ']', determine if the input string is valid.\n",
    "\n",
    "An input string is valid if:\n",
    "\n",
    "Open brackets must be closed by the same type of brackets.\n",
    "\n",
    "Open brackets must be closed in the correct order.\n",
    " \n",
    "\n",
    "Example 1:\n",
    "\n",
    "- Input: s = \"()\"\n",
    "- Output: true\n",
    "\n",
    "Example 2:\n",
    "\n",
    "- Input: s = \"()[]{}\"\n",
    "- Output: true\n",
    "\n",
    "Example 3:\n",
    "\n",
    "- Input: s = \"(]\"\n",
    "- Output: false"
   ]
  },
  {
   "cell_type": "code",
   "execution_count": 14,
   "metadata": {},
   "outputs": [
    {
     "data": {
      "text/plain": [
       "False"
      ]
     },
     "execution_count": 14,
     "metadata": {},
     "output_type": "execute_result"
    }
   ],
   "source": [
    "class Solution(object):\n",
    "    def isValid(self, s):\n",
    "        \"\"\"\n",
    "        :type s: str\n",
    "        :rtype: bool\n",
    "        \"\"\"\n",
    "        stack = []\n",
    "        n = len(s)\n",
    "        if n == 0:\n",
    "            return True\n",
    "        if n % 2 == 1:\n",
    "            return False\n",
    "        left = {'(','[','{'}\n",
    "        right ={')',']','}'}\n",
    "        dict = {')' : '(',']':'[','}':'{'}\n",
    "\n",
    "        if s[-1] in left:\n",
    "            return False\n",
    "\n",
    "        for i in range(n):\n",
    "            if s[i] in left:\n",
    "                stack.append(s[i])\n",
    "            if s[i] in right:\n",
    "                if len(stack) == 0:\n",
    "                    return False\n",
    "                if stack.pop() != dict[s[i]]:\n",
    "                    return False\n",
    "        if len(stack) !=0:\n",
    "            return False\n",
    "        else:\n",
    "            return True\n",
    "        \n",
    "        \n",
    "s = \"{()]\"\n",
    "example = Solution()\n",
    "example.isValid(s)"
   ]
  },
  {
   "cell_type": "markdown",
   "metadata": {},
   "source": [
    "Time complexity : O(n)\n",
    "\n",
    "Space complexity : O(n)\n",
    "\n",
    "- Runtime: 16 ms, faster than 90.50% of Python online submissions for Valid Parentheses.\n",
    "- Memory Usage: 13.8 MB, less than 5.48% of Python online submissions for Valid Parentheses."
   ]
  },
  {
   "cell_type": "markdown",
   "metadata": {},
   "source": [
    "### 1249. Minimum Remove to Make Valid Parentheses (Medium)\n",
    "\n",
    "Given a string s of '(' , ')' and lowercase English characters.\n",
    "\n",
    "Your task is to remove the minimum number of parentheses ( '(' or ')', in any positions ) so that the resulting parentheses string is valid and return any valid string.\n",
    "\n",
    "Formally, a parentheses string is valid if and only if:\n",
    "\n",
    "It is the empty string, contains only lowercase characters, or\n",
    "It can be written as AB (A concatenated with B), where A and B are valid strings, or\n",
    "It can be written as (A), where A is a valid string.\n",
    " \n",
    "\n",
    "Example 1:\n",
    "\n",
    "- Input: s = \"lee(t(c)o)de)\"\n",
    "- Output: \"lee(t(c)o)de\"\n",
    "- Explanation: \"lee(t(co)de)\" , \"lee(t(c)ode)\" would also be accepted.\n",
    "\n",
    "Example 2:\n",
    "- Input: s = \"a)b(c)d\"\n",
    "- Output: \"ab(c)d\"\n",
    "\n",
    "Example 3:\n",
    "- Input: s = \"))((\"\n",
    "- Output: \"\"\n",
    "- Explanation: An empty string is also valid."
   ]
  },
  {
   "cell_type": "code",
   "execution_count": 18,
   "metadata": {},
   "outputs": [
    {
     "data": {
      "text/plain": [
       "''"
      ]
     },
     "execution_count": 18,
     "metadata": {},
     "output_type": "execute_result"
    }
   ],
   "source": [
    "a= \"abc\"\n",
    "a[0:0]\n"
   ]
  },
  {
   "cell_type": "code",
   "execution_count": 54,
   "metadata": {},
   "outputs": [
    {
     "data": {
      "text/plain": [
       "''"
      ]
     },
     "execution_count": 54,
     "metadata": {},
     "output_type": "execute_result"
    }
   ],
   "source": [
    "# Solution 1\n",
    "class Solution:\n",
    "    def minRemoveToMakeValid(self, s) :\n",
    "        stack = []\n",
    "        n = len(s)\n",
    "        result = []\n",
    "    \n",
    "        for i in range(n):\n",
    "            if s[i] == '(':\n",
    "                stack.append(i)\n",
    "                result.append(s[i])\n",
    "            elif s[i] == ')':\n",
    "                if len(stack) >0:\n",
    "                    stack.pop()\n",
    "                    result.append(s[i])\n",
    "                else:\n",
    "                    result.append(\"\")\n",
    "            elif s[i].isalpha() and s[i].islower():\n",
    "                result.append(s[i])\n",
    "        # print(\"result:\",result)\n",
    "            \n",
    "        while len(stack) > 0:\n",
    "            i = stack.pop()\n",
    "            result[i] = \"\"\n",
    "            # print(\"result:\",result)\n",
    "        \n",
    "        return \"\".join(result)\n",
    "s=\"))((\"\n",
    "example = Solution()\n",
    "example.minRemoveToMakeValid(s)\n"
   ]
  },
  {
   "cell_type": "code",
   "execution_count": 27,
   "metadata": {},
   "outputs": [
    {
     "name": "stdout",
     "output_type": "stream",
     "text": [
      "3\n",
      "3\n",
      "2\n",
      "1\n",
      "2\n",
      "2\n",
      "result: ['(', '(']\n",
      "stack: [0, 1]\n",
      "4\n",
      "result: ['(']\n",
      "4\n",
      "result: []\n"
     ]
    },
    {
     "data": {
      "text/plain": [
       "[]"
      ]
     },
     "execution_count": 27,
     "metadata": {},
     "output_type": "execute_result"
    }
   ],
   "source": [
    "s=\"))((\"\n",
    "stack = []\n",
    "n = len(s)\n",
    "result = []\n",
    "\n",
    "for i in range(n):\n",
    "    if s[i].isalpha() and s[i].islower() :\n",
    "        print(1)\n",
    "        result.append(s[i])\n",
    "\n",
    "    elif s[i] == '(':\n",
    "        print(2)\n",
    "        result.append(s[i])\n",
    "        print(len(result))\n",
    "        stack.append(len(result)-1)\n",
    "    elif s[i] == ')':\n",
    "        print(3)\n",
    "        if len(stack) >0:\n",
    "            stack.pop()\n",
    "            result.append(s[i])\n",
    "print(\"result:\",result)\n",
    "print(\"stack:\",stack)\n",
    "while len(stack) > 0:\n",
    "    print(4)\n",
    "    i = stack.pop()\n",
    "    result = result[:i]+result[i+1:]\n",
    "    print(\"result:\",result)\n",
    "result"
   ]
  },
  {
   "cell_type": "markdown",
   "metadata": {},
   "source": [
    "Time complexity : O(n)\n",
    "Space complexity : O(n)\n",
    "- 执行用时：404 ms, 在所有 Python3 提交中击败了16.89%的用户\n",
    "- 内存消耗：18.8 MB, 在所有 Python3 提交中击败了5.07%的用户\n",
    "- 通过测试用例：62 / 62"
   ]
  },
  {
   "cell_type": "code",
   "execution_count": 43,
   "metadata": {},
   "outputs": [
    {
     "data": {
      "text/plain": [
       "'lee(t(c)o)de'"
      ]
     },
     "execution_count": 43,
     "metadata": {},
     "output_type": "execute_result"
    }
   ],
   "source": [
    "# solution 2\n",
    "class Solution:\n",
    "    def minRemoveToMakeValid(self, s) :\n",
    "        stack = []\n",
    "        res = []\n",
    "        #print(\"res:\",res)\n",
    "        for i in range(len(s)):\n",
    "            if s[i] == \"(\" : \n",
    "                stack.append(i)\n",
    "                res.append(s[i])\n",
    "            elif s[i] == \")\" and len(stack) :\n",
    "                stack.pop()\n",
    "                res.append(s[i])\n",
    "            elif s[i] == \")\":\n",
    "                res.append(\"\")\n",
    "            else:\n",
    "                res.append(s[i])\n",
    "            # print(\"i:\",i)\n",
    "            # print(\"res:\",res)\n",
    "        while len(stack) :\n",
    "            id = stack.pop()\n",
    "            res[id] = \"\"\n",
    "        return \"\".join(res)\n",
    "s=\"lee(t(c)o)de)\"\n",
    "example = Solution()\n",
    "example.minRemoveToMakeValid(s)"
   ]
  },
  {
   "cell_type": "code",
   "execution_count": 38,
   "metadata": {},
   "outputs": [
    {
     "name": "stdout",
     "output_type": "stream",
     "text": [
      "res: []\n"
     ]
    },
    {
     "data": {
      "text/plain": [
       "'lee(t(c)o)de'"
      ]
     },
     "execution_count": 38,
     "metadata": {},
     "output_type": "execute_result"
    }
   ],
   "source": [
    "\n",
    "s=\"lee(t(c)o)de)\"\n",
    "stack = []\n",
    "res = []\n",
    "print(\"res:\",res)\n",
    "for i in range(len(s)):\n",
    "    if s[i] == \"(\" : \n",
    "        stack.append(i)\n",
    "        res.append(s[i])\n",
    "    elif s[i] == \")\" and len(stack) :\n",
    "        stack.pop()\n",
    "        res.append(s[i])\n",
    "    elif s[i] == \")\":\n",
    "        res.append(\"\")\n",
    "    else:\n",
    "        res.append(s[i])\n",
    "    # print(\"i:\",i)\n",
    "    # print(\"res:\",res)\n",
    "while len(stack) :\n",
    "    id = stack.pop()\n",
    "    res[id] = \"\"\n",
    "result = \"\".join(res)\n",
    "result"
   ]
  },
  {
   "cell_type": "markdown",
   "metadata": {},
   "source": [
    "- Runtime: 180 ms, faster than 53.68% of Python online submissions for Minimum Remove to Make Valid Parentheses.\n",
    "- Memory Usage: 18.3 MB, less than 42.37% of Python online submissions for Minimum Remove to Make Valid Parentheses."
   ]
  },
  {
   "cell_type": "code",
   "execution_count": 44,
   "metadata": {},
   "outputs": [
    {
     "data": {
      "text/plain": [
       "'lee(t(c)o)de'"
      ]
     },
     "execution_count": 44,
     "metadata": {},
     "output_type": "execute_result"
    }
   ],
   "source": [
    "# solution3\n",
    "class Solution:\n",
    "    def minRemoveToMakeValid(self, s) :\n",
    "        s=\"lee(t(c)o)de)\"\n",
    "        left, right, ans = 0, s.count(')'), ''\n",
    "        for c in s:\n",
    "            if c == '(':\n",
    "                if right > 0:\n",
    "                    ans += c\n",
    "                    left += 1\n",
    "                    right -= 1  # 消耗一个对应的右括号\n",
    "            elif c == ')':\n",
    "                if left > 0:\n",
    "                    ans += c\n",
    "                    left -= 1\n",
    "                else:\n",
    "                    right -= 1  # 无效的右括号\n",
    "            else:\n",
    "                ans += c\n",
    "        return ans\n",
    "s=\"lee(t(c)o)de)\"\n",
    "example = Solution()\n",
    "example.minRemoveToMakeValid(s)"
   ]
  },
  {
   "cell_type": "markdown",
   "metadata": {},
   "source": [
    "Time complexity : O(n)\n",
    "\n",
    "Space complexity : O(1)\n",
    "\n",
    "- 执行用时：80 ms, 在所有 Python3 提交中击败了92.72%的用户\n",
    "- 内存消耗：16 MB, 在所有 Python3 提交中击败了84.55%的用户\n",
    "- 通过测试用例：62 / 62"
   ]
  }
 ],
 "metadata": {
  "interpreter": {
   "hash": "aee8b7b246df8f9039afb4144a1f6fd8d2ca17a180786b69acc140d282b71a49"
  },
  "kernelspec": {
   "display_name": "Python 3.9.6 64-bit",
   "language": "python",
   "name": "python3"
  },
  "language_info": {
   "codemirror_mode": {
    "name": "ipython",
    "version": 3
   },
   "file_extension": ".py",
   "mimetype": "text/x-python",
   "name": "python",
   "nbconvert_exporter": "python",
   "pygments_lexer": "ipython3",
   "version": "3.9.6"
  },
  "orig_nbformat": 4
 },
 "nbformat": 4,
 "nbformat_minor": 2
}
