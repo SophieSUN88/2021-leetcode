{
 "cells": [
  {
   "cell_type": "markdown",
   "metadata": {},
   "source": [
    "### String 1: 844 Backspace String Compare\n",
    "\n",
    "Given two strings s and t, return true if they are equal when both are typed into empty text editors. '#' means a backspace character.\n",
    "\n",
    "Note that after backspacing an empty text, the text will continue empty.\n",
    "\n",
    "Example 1:\n",
    "\n",
    "- Input: s = \"ab#c\", t = \"ad#c\"\n",
    "- Output: true\n",
    "- Explanation: Both s and t become \"ac\".\n",
    "\n",
    "Example 2:\n",
    "\n",
    "- Input: s = \"ab##\", t = \"c#d#\"\n",
    "- Output: true\n",
    "- Explanation: Both s and t become \"\".\n",
    "\n",
    "Example 3:\n",
    "\n",
    "- Input: s = \"a#c\", t = \"b\"\n",
    "- Output: false\n",
    "- Explanation: s becomes \"c\" while t becomes \"b\"."
   ]
  },
  {
   "cell_type": "markdown",
   "metadata": {},
   "source": [
    "constraint:\n",
    "\n",
    "- What happens when 2 #'s appear beside each other?\n",
    "    - Delete the two values before the first #\n",
    "- What happens to # when there is no character to remove?\n",
    "    - It deletes nothing then, just like backspace would.\n",
    "- Are two empty strings equal to each other?\n",
    "    - Yes, consider tweo empty strings as equal.\n",
    "- Does case sensitivity matter?\n",
    "    - Yes it does. \"a\" does not equal \"A\""
   ]
  },
  {
   "cell_type": "markdown",
   "metadata": {},
   "source": [
    "### Solution 1 : brute force\n",
    "- Time complexity: O(a+b)\n",
    "- Space complexity: O(a+b)\n",
    "- cn\n",
    "    - 执行用时：44 ms, 在所有 Python3 提交中击败了18.01%的用户\n",
    "    - 内存消耗：15.1 MB, 在所有 Python3 提交中击败了9.45%的用户\n",
    "    - 通过测试用例：114 / 114"
   ]
  },
  {
   "cell_type": "code",
   "execution_count": 26,
   "metadata": {},
   "outputs": [
    {
     "data": {
      "text/plain": [
       "True"
      ]
     },
     "execution_count": 26,
     "metadata": {},
     "output_type": "execute_result"
    }
   ],
   "source": [
    "# 44ms\n",
    "class Solution1_1(object):\n",
    "    def backspaceCompare(self, s, t):\n",
    "        \"\"\"\n",
    "        :type s: str\n",
    "        :type t: str\n",
    "        :rtype: bool\n",
    "        \"\"\"\n",
    "        def backspace(str):\n",
    "            result=\"\"\n",
    "            for i in range(len(str)):\n",
    "                if str[i].isalpha():\n",
    "                    result +=str[i]\n",
    "                elif str[i] == \"#\":\n",
    "                    if len(result)==0:\n",
    "                        continue\n",
    "                    else:\n",
    "                        result=result[:-1]\n",
    "            return result\n",
    "\n",
    "        return backspace(s)==backspace(t)\n",
    "\n",
    "s = \"ab#c\"\n",
    "t = \"ad#c\"\n",
    "example = Solution1_1()\n",
    "example.backspaceCompare(s,t)\n"
   ]
  },
  {
   "cell_type": "code",
   "execution_count": 27,
   "metadata": {},
   "outputs": [
    {
     "data": {
      "text/plain": [
       "True"
      ]
     },
     "execution_count": 27,
     "metadata": {},
     "output_type": "execute_result"
    }
   ],
   "source": [
    "s = \"ab##\"\n",
    "t = \"c#d#\"\n",
    "example = Solution1_1()\n",
    "example.backspaceCompare(s,t)"
   ]
  },
  {
   "cell_type": "code",
   "execution_count": 28,
   "metadata": {},
   "outputs": [
    {
     "data": {
      "text/plain": [
       "False"
      ]
     },
     "execution_count": 28,
     "metadata": {},
     "output_type": "execute_result"
    }
   ],
   "source": [
    "s = \"a#c\"\n",
    "t = \"b\"\n",
    "example = Solution1_1()\n",
    "example.backspaceCompare(s,t)"
   ]
  },
  {
   "cell_type": "code",
   "execution_count": 29,
   "metadata": {},
   "outputs": [
    {
     "data": {
      "text/plain": [
       "True"
      ]
     },
     "execution_count": 29,
     "metadata": {},
     "output_type": "execute_result"
    }
   ],
   "source": [
    "\n",
    "s=\"y#fo##f\"\n",
    "t=\"y#f#o##f\"\n",
    "example = Solution1_1()\n",
    "example.backspaceCompare(s,t)"
   ]
  },
  {
   "cell_type": "code",
   "execution_count": 30,
   "metadata": {},
   "outputs": [
    {
     "data": {
      "text/plain": [
       "True"
      ]
     },
     "execution_count": 30,
     "metadata": {},
     "output_type": "execute_result"
    }
   ],
   "source": [
    "# 36ms\n",
    "class Solution1_2(object):\n",
    "    def backspaceCompare(self, s, t):\n",
    "        \"\"\"\n",
    "        :type s: str\n",
    "        :type t: str\n",
    "        :rtype: bool\n",
    "        \"\"\"\n",
    "        def backspace(str):\n",
    "            result=[]\n",
    "            for i in range(len(str)):\n",
    "                if str[i].isalpha():\n",
    "                    result.append(str[i])\n",
    "                elif str[i] == \"#\":\n",
    "                    if len(result)==0:\n",
    "                        continue\n",
    "                    else:\n",
    "                        result.pop()\n",
    "            return result\n",
    "\n",
    "        return backspace(s)==backspace(t)\n",
    "\n",
    "s = \"ab#c\"\n",
    "t = \"ad#c\"\n",
    "example = Solution1_2()\n",
    "example.backspaceCompare(s,t)\n"
   ]
  },
  {
   "cell_type": "markdown",
   "metadata": {},
   "source": [
    "- cn\n",
    "    - 执行用时：32 ms, 在所有 Python3 提交中击败了92.01%的用户\n",
    "    - 内存消耗：15.2 MB, 在所有 Python3 提交中击败了5.45%的用户\n",
    "    - 通过测试用例：114 / 114"
   ]
  },
  {
   "cell_type": "code",
   "execution_count": 31,
   "metadata": {},
   "outputs": [
    {
     "data": {
      "text/plain": [
       "True"
      ]
     },
     "execution_count": 31,
     "metadata": {},
     "output_type": "execute_result"
    }
   ],
   "source": [
    "# 32ms\n",
    "class Solution1_3(object):\n",
    "    def backspaceCompare(self, s, t):\n",
    "        \"\"\"\n",
    "        :type s: str\n",
    "        :type t: str\n",
    "        :rtype: bool\n",
    "        \"\"\"\n",
    "        def backspace(str):\n",
    "            result=[]\n",
    "            for i in range(len(str)):\n",
    "                if str[i].isalpha():\n",
    "                    result.append(str[i])\n",
    "                elif str[i] == \"#\":\n",
    "                    if len(result)==0:\n",
    "                        continue\n",
    "                    else:\n",
    "                        result.pop()\n",
    "            return result\n",
    "        left = backspace(s)\n",
    "        right =backspace(t)\n",
    "        if len(left) != len(right):\n",
    "            return False\n",
    "        else:\n",
    "            for i in range(len(left)):\n",
    "                if left[i]!=right[i]:\n",
    "                    return False\n",
    "        return True\n",
    "\n",
    "s = \"ab#c\"\n",
    "t = \"ad#c\"\n",
    "example = Solution1_3()\n",
    "example.backspaceCompare(s,t)\n"
   ]
  },
  {
   "cell_type": "markdown",
   "metadata": {},
   "source": [
    "### Optimization\n",
    "1. Hint: Utilize the original strings\n",
    "2. Hint: Use the 2 pointer technique\n",
    "3. Hint: Start from the end of the strings\n"
   ]
  },
  {
   "cell_type": "markdown",
   "metadata": {},
   "source": [
    "- Time complexity: O(a+b)\n",
    "- Space complexity: O(a)\n",
    "\n",
    "- cn\n",
    "    - 执行用时：40 ms, 在所有 Python3 提交中击败了49.01%的用户\n",
    "    - 内存消耗：15 MB, 在所有 Python3 提交中击败了27.45%的用户\n",
    "    - 通过测试用例：114 / 114"
   ]
  },
  {
   "cell_type": "code",
   "execution_count": 47,
   "metadata": {},
   "outputs": [
    {
     "data": {
      "text/plain": [
       "True"
      ]
     },
     "execution_count": 47,
     "metadata": {},
     "output_type": "execute_result"
    }
   ],
   "source": [
    "#40ms\n",
    "class Solution2_1(object):\n",
    "    def backspaceCompare(self, s, t):\n",
    "        stack = []\n",
    "        for i in range(len(s)):\n",
    "            if s[i] != \"#\":\n",
    "                stack.append(s[i])\n",
    "            else:\n",
    "                if len(stack) == 0:\n",
    "                    continue\n",
    "                else:\n",
    "                    stack.pop()\n",
    "        n=len(t)\n",
    "        j=n-1\n",
    "        number=0\n",
    "        #print(\"stack1:\",stack)\n",
    "        while j >= 0:\n",
    "            #print(\"t[j]:\",t[j])\n",
    "            if t[j] != \"#\":\n",
    "                if number >0:\n",
    "                    #print(\"7\")\n",
    "                    #print(\"j:\",j)\n",
    "                    #print(\"n:\",n)\n",
    "                    j -=1\n",
    "                    number -=1\n",
    "                    continue\n",
    "\n",
    "                else:\n",
    "                    if len(stack) == 0:\n",
    "                        #print(\"1\")\n",
    "                        return False\n",
    "                    if stack[-1] != t[j]:\n",
    "                        #print(\"2\")\n",
    "                        return False\n",
    "                    else:\n",
    "                        #print(\"3\")\n",
    "                        stack.pop()\n",
    "                        #print(\"stack:\",stack)\n",
    "            else:\n",
    "                #print(\"5\")\n",
    "                number +=1\n",
    "                #print(\"number\",number)\n",
    "            \n",
    "            j -=1\n",
    "            #print(\"6\")\n",
    "            #print(\"j:\",j)\n",
    "        #print(\"stack2:\",stack)\n",
    "        if len(stack) > 0:\n",
    "            return False\n",
    "        return True\n",
    "s = \"ab#c\"\n",
    "t = \"ad#c\"\n",
    "example = Solution2_1()\n",
    "example.backspaceCompare(s,t)"
   ]
  },
  {
   "cell_type": "markdown",
   "metadata": {},
   "source": [
    "- Time complexity: O(a+b)\n",
    "- Space complexity: O(1)\n",
    "\n",
    "- cn\n",
    "    - 执行用时：44 ms, 在所有 Python3 提交中击败了18.01%的用户\n",
    "    - 内存消耗：15.2 MB, 在所有 Python3 提交中击败了5.45%的用户\n",
    "    - 通过测试用例：114 / 114"
   ]
  },
  {
   "cell_type": "code",
   "execution_count": 59,
   "metadata": {},
   "outputs": [
    {
     "data": {
      "text/plain": [
       "True"
      ]
     },
     "execution_count": 59,
     "metadata": {},
     "output_type": "execute_result"
    }
   ],
   "source": [
    "class Solution2_2(object):\n",
    "    def backspaceCompare(self, s, t):\n",
    "        n1=len(s)\n",
    "        n2=len(t)\n",
    "        p1=n1-1\n",
    "        p2=n2-1\n",
    "        while(p1>=0 or p2 >=0):\n",
    "            if s[p1] == \"#\" or t[p2] == \"#\":\n",
    "                if s[p1] == \"#\":\n",
    "                    backspace = 2\n",
    "                    while backspace>0 and p1>=0:\n",
    "                        p1 -=1\n",
    "                        backspace -=1\n",
    "                        if s[p1]==\"#\":\n",
    "                            backspace +=2\n",
    "                if t[p2] == \"#\":\n",
    "                    backspace = 2\n",
    "                    while backspace>0 and p2>=0 :\n",
    "                        p2 -=1\n",
    "                        backspace -=1\n",
    "                        if t[p2]==\"#\":\n",
    "                            backspace +=2\n",
    "            if p1<0 and p2<0:\n",
    "                return True\n",
    "            else:\n",
    "                if (p1<0 and p2>=0) or (p1>=0 and p2<0):\n",
    "                    return False\n",
    "                if s[p1] != t[p2]:\n",
    "                    return False\n",
    "                else:\n",
    "                    p1 -=1\n",
    "                    p2 -=1\n",
    "        return True\n",
    "s = \"ab##\"\n",
    "t = \"c#d#\"\n",
    "example = Solution2_2()\n",
    "example.backspaceCompare(s,t)"
   ]
  },
  {
   "cell_type": "code",
   "execution_count": 61,
   "metadata": {},
   "outputs": [
    {
     "data": {
      "text/plain": [
       "False"
      ]
     },
     "execution_count": 61,
     "metadata": {},
     "output_type": "execute_result"
    }
   ],
   "source": [
    "s = \"abd###a\"\n",
    "t = \"aaac###a\"\n",
    "example = Solution2_2()\n",
    "example.backspaceCompare(s,t)"
   ]
  },
  {
   "cell_type": "code",
   "execution_count": null,
   "metadata": {},
   "outputs": [],
   "source": []
  }
 ],
 "metadata": {
  "interpreter": {
   "hash": "aee8b7b246df8f9039afb4144a1f6fd8d2ca17a180786b69acc140d282b71a49"
  },
  "kernelspec": {
   "display_name": "Python 3.9.6 64-bit",
   "language": "python",
   "name": "python3"
  },
  "language_info": {
   "codemirror_mode": {
    "name": "ipython",
    "version": 3
   },
   "file_extension": ".py",
   "mimetype": "text/x-python",
   "name": "python",
   "nbconvert_exporter": "python",
   "pygments_lexer": "ipython3",
   "version": "3.9.6"
  },
  "orig_nbformat": 4
 },
 "nbformat": 4,
 "nbformat_minor": 2
}
