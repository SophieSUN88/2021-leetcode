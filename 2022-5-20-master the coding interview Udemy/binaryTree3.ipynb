{
 "cells": [
  {
   "cell_type": "markdown",
   "metadata": {},
   "source": [
    "### 98. Validate Binary Search Tree (medium)\n",
    "\n",
    "Given the root of a binary tree, determine if it is a valid binary search tree (BST).\n",
    "\n",
    "A valid BST is defined as follows:\n",
    "\n",
    "The left subtree of a node contains only nodes with keys less than the node's key.\n",
    "The right subtree of a node contains only nodes with keys greater than the node's key.\n",
    "Both the left and right subtrees must also be binary search trees.\n",
    "\n",
    "example 1\n",
    "\n",
    "Input: root = [2,1,3]\n",
    "Output: true\n",
    "\n",
    "example 2\n",
    "\n",
    "Input: root = [5,1,4,null,null,3,6]\n",
    "Output: false\n",
    "Explanation: The root node's value is 5 but its right child's value is 4."
   ]
  },
  {
   "cell_type": "code",
   "execution_count": 3,
   "metadata": {},
   "outputs": [],
   "source": [
    "from binarytree import Node\n",
    "from binarytree import build"
   ]
  },
  {
   "cell_type": "code",
   "execution_count": 13,
   "metadata": {},
   "outputs": [
    {
     "name": "stdout",
     "output_type": "stream",
     "text": [
      "\n",
      "  5__\n",
      " /   \\\n",
      "4     6\n",
      "     / \\\n",
      "    3   7\n",
      "\n"
     ]
    }
   ],
   "source": [
    "root = [5,4,6,None, None,3,7]\n",
    "root = build(root)\n",
    "print(root)"
   ]
  },
  {
   "cell_type": "code",
   "execution_count": 11,
   "metadata": {},
   "outputs": [
    {
     "data": {
      "text/plain": [
       "True"
      ]
     },
     "execution_count": 11,
     "metadata": {},
     "output_type": "execute_result"
    }
   ],
   "source": [
    "def isValid(root):\n",
    "    if not root:\n",
    "        return True\n",
    "    else:\n",
    "        if root.left is None and root.right is None :\n",
    "            return True\n",
    "    if root.left and root.left.val >= root.val:\n",
    "        return False\n",
    "    elif root.right and root.right.val <= root.val:\n",
    "        return False\n",
    "    else:\n",
    "        return isValid(root.left) and isValid(root.right)\n",
    "isValid(root)\n",
    "\n"
   ]
  },
  {
   "cell_type": "code",
   "execution_count": 14,
   "metadata": {},
   "outputs": [
    {
     "data": {
      "text/plain": [
       "False"
      ]
     },
     "execution_count": 14,
     "metadata": {},
     "output_type": "execute_result"
    }
   ],
   "source": [
    "import numpy as np\n",
    "def isValidBSF(root):\n",
    "    if not root:\n",
    "        return True\n",
    "    return dfs(root, -np.inf, np.inf)\n",
    "def dfs(node,min,max):\n",
    "    if node.val <= min or node.val >= max:\n",
    "        return False\n",
    "    if node.left:\n",
    "        if not dfs(node.left, min, node.val):\n",
    "            return False\n",
    "    if node.right:\n",
    "        if not dfs(node.right,node.val,max):\n",
    "            return False\n",
    "    return True\n",
    "root = [5,4,6,None, None,3,7]\n",
    "root = build(root)\n",
    "isValidBSF(root)\n",
    "\n"
   ]
  },
  {
   "cell_type": "code",
   "execution_count": null,
   "metadata": {},
   "outputs": [],
   "source": []
  }
 ],
 "metadata": {
  "interpreter": {
   "hash": "aee8b7b246df8f9039afb4144a1f6fd8d2ca17a180786b69acc140d282b71a49"
  },
  "kernelspec": {
   "display_name": "Python 3.9.6 64-bit",
   "language": "python",
   "name": "python3"
  },
  "language_info": {
   "codemirror_mode": {
    "name": "ipython",
    "version": 3
   },
   "file_extension": ".py",
   "mimetype": "text/x-python",
   "name": "python",
   "nbconvert_exporter": "python",
   "pygments_lexer": "ipython3",
   "version": "3.9.6"
  },
  "orig_nbformat": 4
 },
 "nbformat": 4,
 "nbformat_minor": 2
}
