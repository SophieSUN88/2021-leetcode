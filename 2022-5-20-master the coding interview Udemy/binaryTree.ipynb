{
 "cells": [
  {
   "cell_type": "markdown",
   "metadata": {},
   "source": [
    "### 104. Maximum Depth of Binary Tree\n",
    "\n",
    "Given the root of a binary tree, return its maximum depth.\n",
    "\n",
    "A binary tree's maximum depth is the number of nodes along the longest path from the root node down to the farthest leaf node.\n",
    "\n",
    "Example 1\n",
    "\n",
    "Input: root = [3,9,20,null,null,15,7]\n",
    "Output: 3\n",
    "\n",
    "Example 2:\n",
    "\n",
    "Input: root = [1,null,2]\n",
    "Output: 2"
   ]
  },
  {
   "cell_type": "code",
   "execution_count": 2,
   "metadata": {},
   "outputs": [],
   "source": [
    "import binarytree\n",
    "from binarytree import Node"
   ]
  },
  {
   "cell_type": "code",
   "execution_count": 3,
   "metadata": {},
   "outputs": [
    {
     "data": {
      "text/plain": [
       "3"
      ]
     },
     "execution_count": 3,
     "metadata": {},
     "output_type": "execute_result"
    }
   ],
   "source": [
    "def maxDepth(node, currentDepth):\n",
    "    if node is None:\n",
    "        return currentDepth\n",
    "    else:\n",
    "        currentDepth +=1\n",
    "    return max(maxDepth(node.left,currentDepth),maxDepth(node.right, currentDepth))\n",
    "\n",
    "node = Node(2)\n",
    "node.left = Node(1)\n",
    "node.right = Node(3)\n",
    "node.left.left = Node(4)\n",
    "maxDepth(node,0)\n"
   ]
  },
  {
   "cell_type": "markdown",
   "metadata": {},
   "source": [
    "Time complexity : O(n)\n",
    "\n",
    "Space complexity : O(n)\n",
    "\n",
    "Runtime: 47 ms, faster than 76.73% of Python3 online submissions for Maximum Depth of Binary Tree.\n",
    "\n",
    "Memory Usage: 16.2 MB, less than 54.44% of Python3 online submissions for Maximum Depth of Binary Tree."
   ]
  },
  {
   "cell_type": "code",
   "execution_count": 9,
   "metadata": {},
   "outputs": [
    {
     "name": "stdout",
     "output_type": "stream",
     "text": [
      "\n",
      "  3_______\n",
      " /        \\\n",
      "9       ___20__\n",
      "       /       \\\n",
      "      15        7\n",
      "     /  \\      /\n",
      "    1    2    3\n",
      "\n"
     ]
    }
   ],
   "source": [
    "from binarytree import build\n",
    "root = [3,9,20,None,None,15,7,None,None,None,None,1,2,3,None]\n",
    "a = build(root)\n",
    "print(a)"
   ]
  },
  {
   "cell_type": "code",
   "execution_count": 14,
   "metadata": {},
   "outputs": [
    {
     "data": {
      "text/plain": [
       "4"
      ]
     },
     "execution_count": 14,
     "metadata": {},
     "output_type": "execute_result"
    }
   ],
   "source": [
    "class Solution():\n",
    "    def maxDepth2(self, root):\n",
    "        return 0 if not root else 1 + max(self.maxDepth2(root.left), self.maxDepth2(root.right))\n",
    "example = Solution()\n",
    "example.maxDepth2(a)"
   ]
  },
  {
   "cell_type": "code",
   "execution_count": null,
   "metadata": {},
   "outputs": [],
   "source": []
  }
 ],
 "metadata": {
  "interpreter": {
   "hash": "aee8b7b246df8f9039afb4144a1f6fd8d2ca17a180786b69acc140d282b71a49"
  },
  "kernelspec": {
   "display_name": "Python 3.9.6 64-bit",
   "language": "python",
   "name": "python3"
  },
  "language_info": {
   "codemirror_mode": {
    "name": "ipython",
    "version": 3
   },
   "file_extension": ".py",
   "mimetype": "text/x-python",
   "name": "python",
   "nbconvert_exporter": "python",
   "pygments_lexer": "ipython3",
   "version": "3.9.6"
  },
  "orig_nbformat": 4
 },
 "nbformat": 4,
 "nbformat_minor": 2
}
