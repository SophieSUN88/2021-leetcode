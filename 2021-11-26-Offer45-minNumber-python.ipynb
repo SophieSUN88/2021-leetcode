{
 "cells": [
  {
   "cell_type": "markdown",
   "id": "5c02c778",
   "metadata": {},
   "source": [
    "# 剑指 Offer 45. 把数组排成最小的数\n",
    "输入一个非负整数数组，把数组里所有数字拼接起来排成一个数，打印能拼接出的所有数字中最小的一个。\n",
    "\n",
    "示例 1:\n",
    "\n",
    "输入: [10,2]\n",
    "输出: \"102\"\n",
    "示例 2:\n",
    "\n",
    "输入: [3,30,34,5,9]\n",
    "输出: \"3033459\"\n",
    " \n",
    "\n",
    "提示:\n",
    "\n",
    "0 < nums.length <= 100\n",
    "说明:\n",
    "\n",
    "输出结果可能非常大，所以你需要返回一个字符串而不是整数\n",
    "拼接起来的数字可能会有前导 0，最后结果不需要去掉前导 0\n",
    "\n",
    "\n",
    "来源：力扣（LeetCode）\n",
    "链接：https://leetcode-cn.com/problems/ba-shu-zu-pai-cheng-zui-xiao-de-shu-lcof\n",
    "著作权归领扣网络所有。商业转载请联系官方授权，非商业转载请注明出处。"
   ]
  },
  {
   "cell_type": "code",
   "execution_count": 20,
   "id": "68abb9bf",
   "metadata": {},
   "outputs": [],
   "source": [
    "def minNumber(nums):\n",
    "    def quick_sort(l , r):\n",
    "        if l >= r: return\n",
    "        i, j = l, r\n",
    "        while i < j:\n",
    "            while strs[j] + strs[l] >= strs[l] + strs[j] and i < j: j -= 1\n",
    "            while strs[i] + strs[l] <= strs[l] + strs[i] and i < j: i += 1                \n",
    "            strs[i], strs[j] = strs[j], strs[i]\n",
    "        strs[i], strs[l] = strs[l], strs[i]\n",
    "        quick_sort(l, i - 1)\n",
    "        quick_sort(i + 1, r)\n",
    "        \n",
    "    strs = [str(num) for num in nums]\n",
    "    quick_sort(0, len(strs) - 1)\n",
    "    return ''.join(strs)"
   ]
  },
  {
   "cell_type": "code",
   "execution_count": 21,
   "id": "9753bbde",
   "metadata": {},
   "outputs": [
    {
     "data": {
      "text/plain": [
       "'3033459'"
      ]
     },
     "execution_count": 21,
     "metadata": {},
     "output_type": "execute_result"
    }
   ],
   "source": [
    "nums = [3,30,34,5,9]\n",
    "minNumber(nums)"
   ]
  }
 ],
 "metadata": {
  "kernelspec": {
   "display_name": "Python 3.8.8 64-bit ('base': conda)",
   "language": "python",
   "name": "python388jvsc74a57bd040d3a090f54c6569ab1632332b64b2c03c39dcf918b08424e98f38b5ae0af88f"
  },
  "language_info": {
   "codemirror_mode": {
    "name": "ipython",
    "version": 3
   },
   "file_extension": ".py",
   "mimetype": "text/x-python",
   "name": "python",
   "nbconvert_exporter": "python",
   "pygments_lexer": "ipython3",
   "version": "3.8.8"
  }
 },
 "nbformat": 4,
 "nbformat_minor": 5
}
