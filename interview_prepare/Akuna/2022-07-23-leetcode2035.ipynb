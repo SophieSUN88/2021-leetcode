{
 "cells": [
  {
   "cell_type": "markdown",
   "metadata": {},
   "source": [
    "2035. Partition Array Into Two Arrays to Minimize Sum Difference  Hard\n",
    "\n",
    "You are given an integer array nums of 2 * n integers. You need to partition nums into two arrays of length n to minimize the absolute difference of the sums of the arrays. To partition nums, put each element of nums into one of the two arrays.\n",
    "\n",
    "Return the minimum possible absolute difference.\n",
    "\n",
    "Example 1:\n",
    "\n",
    "Input: nums = [3,9,7,3]\n",
    "Output: 2\n",
    "Explanation: One optimal partition is: [3,9] and [7,3].\n",
    "The absolute difference between the sums of the arrays is abs((3 + 9) - (7 + 3)) = 2.\n",
    "\n",
    "Example 2:\n",
    "\n",
    "Input: nums = [-36,36]\n",
    "Output: 72\n",
    "Explanation: One optimal partition is: [-36] and [36].\n",
    "The absolute difference between the sums of the arrays is abs((-36) - (36)) = 72.\n",
    "\n",
    "Example 3:\n",
    "\n",
    "Input: nums = [2,-1,0,4,-2,-9]\n",
    "Output: 0\n",
    "Explanation: One optimal partition is: [2,4,-9] and [-1,0,-2].\n",
    "The absolute difference between the sums of the arrays is abs((2 + 4 + -9) - (-1 + 0 + -2)) = 0."
   ]
  },
  {
   "cell_type": "code",
   "execution_count": 19,
   "metadata": {},
   "outputs": [
    {
     "name": "stdout",
     "output_type": "stream",
     "text": [
      "[-9, -2, -1, 0, 2, 4]\n",
      "n: 3\n",
      "8\n",
      "0\n",
      "diff: 0\n"
     ]
    },
    {
     "data": {
      "text/plain": [
       "0"
      ]
     },
     "execution_count": 19,
     "metadata": {},
     "output_type": "execute_result"
    }
   ],
   "source": [
    "from typing import List\n",
    "class Solution:\n",
    "    def minimumDifference(self, nums: List[int]) -> int:\n",
    "        nums.sort()\n",
    "        print(nums)\n",
    "        n=len(nums)//2\n",
    "        print('n:',n)\n",
    "        sum_nums=sum(nums)\n",
    "        if n==1:\n",
    "            return abs(nums[0]-nums[1])\n",
    "        if n % 2 == 0:\n",
    "            print(1)\n",
    "            sum1= sum(nums[n//2:3*n//2])\n",
    "            print('diff:',abs(sum1*2-sum_nums))\n",
    "            return abs(sum1*2-sum_nums)\n",
    "        else:\n",
    "            k=(n-1)//2\n",
    "            sum1 =sum(nums[:k+1]+nums[-k:])\n",
    "            diff1 = abs(sum1*2-sum_nums)\n",
    "            print(diff1)\n",
    "            sum2 =sum(nums[:k]+nums[-k-1:])\n",
    "            diff2 = abs(sum2*2-sum_nums)\n",
    "            print(diff2)\n",
    "            print('diff:',min(diff1,diff2))\n",
    "            return min(diff1,diff2)\n",
    "            \n",
    "nums=[0,6,11,12,12,13,13,17,18,24]\n",
    "example = Solution()\n",
    "a = example.minimumDifference(nums)\n",
    "a    \n",
    "\n",
    "\n"
   ]
  },
  {
   "cell_type": "code",
   "execution_count": 22,
   "metadata": {},
   "outputs": [
    {
     "name": "stdout",
     "output_type": "stream",
     "text": [
      "[-9, -2, -1, 0, 2, 4]\n",
      "n: 3\n",
      "8\n",
      "0\n",
      "diff: 0\n"
     ]
    },
    {
     "data": {
      "text/plain": [
       "0"
      ]
     },
     "execution_count": 22,
     "metadata": {},
     "output_type": "execute_result"
    }
   ],
   "source": [
    "nums=[2,-1,0,4,-2,-9]\n",
    "example = Solution()\n",
    "a = example.minimumDifference(nums)\n",
    "a"
   ]
  },
  {
   "cell_type": "code",
   "execution_count": 21,
   "metadata": {},
   "outputs": [
    {
     "name": "stdout",
     "output_type": "stream",
     "text": [
      "[0, 6, 11, 12, 12, 17, 18, 24]\n",
      "n: 4\n",
      "1\n",
      "diff: 4\n"
     ]
    }
   ],
   "source": [
    "nums = [0,6,11,12,12,17,18,24]\n",
    "example = Solution()\n",
    "a = example.minimumDifference(nums)"
   ]
  },
  {
   "cell_type": "code",
   "execution_count": 29,
   "metadata": {},
   "outputs": [
    {
     "name": "stdout",
     "output_type": "stream",
     "text": [
      "[0, 6, 11, 17, 18, 24]\n",
      "n: 3\n",
      "[0, 24]\n",
      "nums_new: [0, 24, 6]\n",
      "diff: 16\n",
      "min_diff: 16\n",
      "nums_new: [0, 24, 6, 11]\n",
      "diff: 6\n",
      "min_diff: 6\n",
      "nums_new: [0, 24, 6, 11, 17]\n",
      "diff: 40\n",
      "min_diff: 6\n",
      "nums_new: [0, 24, 6, 11, 17, 18]\n",
      "diff: 76\n",
      "min_diff: 6\n"
     ]
    },
    {
     "data": {
      "text/plain": [
       "6"
      ]
     },
     "execution_count": 29,
     "metadata": {},
     "output_type": "execute_result"
    }
   ],
   "source": [
    "from typing import List\n",
    "class Solution:\n",
    "    def minimumDifference(self, nums: List[int]) -> int:\n",
    "        nums.sort()\n",
    "        print(nums)\n",
    "        n=len(nums)//2\n",
    "        print('n:',n)\n",
    "        sum_nums=sum(nums)\n",
    "        if n==1:\n",
    "            return abs(nums[0]-nums[1])\n",
    "        if n % 2 == 0:\n",
    "            print(1)\n",
    "            sum1= sum(nums[n//2:3*n//2])\n",
    "            print('diff:',abs(sum1*2-sum_nums))\n",
    "            return abs(sum1*2-sum_nums)\n",
    "        else:\n",
    "            k=(n-1)//2\n",
    "            nums_new= nums[:k]+nums[-k:]\n",
    "            print(nums_new)\n",
    "            min_diff =sum_nums\n",
    "            for i in range(k,2*n-k):\n",
    "                nums_new += [nums[i]]\n",
    "                print('nums_new:',nums_new)\n",
    "                sum1 =sum(nums_new)\n",
    "                diff = abs(2*sum1 - sum_nums)\n",
    "                print('diff:',diff)\n",
    "                min_diff = min(diff,min_diff)\n",
    "                print('min_diff:',min_diff)\n",
    "\n",
    "            return min_diff\n",
    "            \n",
    "nums=[0,6,11,17,18,24]\n",
    "example = Solution()\n",
    "a = example.minimumDifference(nums)\n",
    "a "
   ]
  },
  {
   "cell_type": "code",
   "execution_count": 27,
   "metadata": {},
   "outputs": [
    {
     "data": {
      "text/plain": [
       "[6, 11, 17, 18]"
      ]
     },
     "execution_count": 27,
     "metadata": {},
     "output_type": "execute_result"
    }
   ],
   "source": [
    "nums=[0,6,11,17,18,24]\n",
    "n=3\n",
    "k=1\n",
    "a =nums[k:2*n-k]\n",
    "a"
   ]
  },
  {
   "cell_type": "code",
   "execution_count": null,
   "metadata": {},
   "outputs": [],
   "source": []
  }
 ],
 "metadata": {
  "kernelspec": {
   "display_name": "Python 3.9.6 64-bit",
   "language": "python",
   "name": "python3"
  },
  "language_info": {
   "codemirror_mode": {
    "name": "ipython",
    "version": 3
   },
   "file_extension": ".py",
   "mimetype": "text/x-python",
   "name": "python",
   "nbconvert_exporter": "python",
   "pygments_lexer": "ipython3",
   "version": "3.9.6"
  },
  "orig_nbformat": 4,
  "vscode": {
   "interpreter": {
    "hash": "aee8b7b246df8f9039afb4144a1f6fd8d2ca17a180786b69acc140d282b71a49"
   }
  }
 },
 "nbformat": 4,
 "nbformat_minor": 2
}
