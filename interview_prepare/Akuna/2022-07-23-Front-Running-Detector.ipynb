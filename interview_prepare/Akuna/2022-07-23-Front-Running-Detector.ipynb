{
 "cells": [
  {
   "cell_type": "markdown",
   "metadata": {},
   "source": [
    "### Front-Running Detector\n",
    "Front-running is defined as trading a stock or another financial asset by a broker who has inside knowledge of a future transaction that is about to affect its price substantially. It is illegal and unethical.\n",
    "\n",
    "Here's an example of front-running: Say a trader gets an order from abroker to buy 50,000 shares of Tesla. Such a huge purchase is bound to drive up the price of the stock immediately, at least in the short term. The trader sets aside the broker request for a minute and first buys some Tesla stock for their own porfolio. Then the broker's order is executed. The trader could then immediately sell the Tesla shares and collect a profit. The trader has make a profit bases on information that was not public knowledge.\n",
    "\n",
    "Your task is to create a Front-Running Detector that will process option trade data from different exchanges and determine if front-running has occurred. Your solution should be able to handle data from multiple exchanges, with the expectation that additional exchanges will need to be supported in the future. Your implementation should follow good OOP design practices. Given a trade feed, output a list of all( broker_trade_id, electronic_trade_id) pairs. Trade pairs should be orderd by the electronic trade time.\n",
    "\n",
    "A trade pair is considered front-running if all of the following conditions are met:\n",
    "- a. One trade is of typer 'Broker' and the second trade is of type 'Electronic;.\n",
    "- b. The Electronic trade occurs 1 minute or less before the Broker trade\n",
    "- c. Both trades are for the same product.\n",
    "- d. Both trades are of the same type (Call/Put).\n",
    "- e. Both trades have the same side (Buy/Sell).\n",
    "- f. Both trades have the same expiry date.\n",
    "- g. Both trades have the same strike price.\n",
    "\n",
    "Note. The incoming trades from CBOE do not have a side field, instead the quantity represents the side A positive qty represents a buy and negative represents a sell.\n",
    "\n",
    "Example:\n",
    "\n",
    "Trade1:(date = '2022-03-15',time=9:01:00,type=Broker, qty=-500,stike = 1500,expiry='2022-04-28',kind=P,exchange=CBOE,trade-id=737acm,product=ABC)\n",
    "Trade2:(date = '2022-03-15',time=9:00:24,type=Electronic, qty=-200,stike = 1500,expiry='2022-04-28',kind=P,exchange=CBOE,trade-id=w6c229,product=ABC)\n",
    "Trade3:(date = '2022-03-15',time=9:03:45,type=Electronic, qty=-100,stike = 1500,expiry='2022-04-28',kind=P,exchange=CBOE,trade-id=tssrin,product=ABC)[Fails condition(b)]\n",
    "Trade4:(date = '2022-03-15',time=9:00:53,type=Electronic, qty=-500,stike = 1500,expiry='2022-04-28',kind=P,exchange=CBOE,trade-id=lk451a,product=XYZ)[Fails condition(c)]\n",
    "Trade5:(date = '2022-03-15',time=9:00:05,type=Electronic, qty=-350,stike = 1500,expiry='2022-04-28',kind=C,exchange=CBOE,trade-id=9numpr,product=ABC)[Fails condition(d)]\n",
    "Trade6:(date = '2022-03-15',time=9:00:35,type=Electronic, qty=20,stike = 1500,expiry='2022-04-28',kind=P,exchange=CBOE,trade-id=922v3g,product=ABC)[Fails condition(e)]\n",
    "Trade7:(date = '2022-03-15',time=9:00:47,type=Electronic, qty=-150,stike = 1500,expiry='2022-04-21',kind=P,exchange=CBOE,trade-id=bg54nm,product=ABC)[Fails condition(f)]\n",
    "Trade8:(date = '2022-03-15',time=9:01:00,type=Electronic, qty=-500,stike = 1550,expiry='2022-04-28',kind=P,exchange=CBOE,trade-id=6y7fhm,product=ABC)[Fails condition(g)]\n",
    "\n",
    "OUTPUT:\n",
    "[('737ACM,'W6C229)]\n",
    "\n",
    "\n"
   ]
  },
  {
   "cell_type": "code",
   "execution_count": 31,
   "metadata": {},
   "outputs": [
    {
     "data": {
      "text/plain": [
       "[('737acm', 'w6c229')]"
      ]
     },
     "execution_count": 31,
     "metadata": {},
     "output_type": "execute_result"
    }
   ],
   "source": [
    "from typing import List, Tuple\n",
    "import datetime\n",
    "'''\n",
    "RAW_TRADE_HEADER = ['trade_id','trade_date','time_of_trade',\n",
    "'portfolio','exchange','product','product_type','expiry_dt',\n",
    "'qty','strike_price','side']\n",
    "'''\n",
    "class Solution:\n",
    "    # def __init__(self,raw_trade):\n",
    "    #     self.raw_trade=raw_trade\n",
    "\n",
    "    def process_raw_trade(self, raw_trade:List):\n",
    "        Brockers = []\n",
    "        Electronics = []\n",
    "        for i in range(len(raw_trade)):\n",
    "            trade = {}\n",
    "            trade['id'] = raw_trade[i][0]\n",
    "            trade['date'] = raw_trade[i][1]\n",
    "            trade['time'] =raw_trade[i][2]\n",
    "            trade['kind'] = raw_trade[i][3]\n",
    "            trade['exchange'] = raw_trade[i][4]\n",
    "            trade['product'] = raw_trade[i][5]\n",
    "            trade['type'] = raw_trade[i][6]\n",
    "            trade['expiry'] = raw_trade[i][7]\n",
    "            trade['qty'] = raw_trade[i][8]\n",
    "            trade['strike'] = raw_trade[i][9]\n",
    "            trade['side'] = raw_trade[i][10]\n",
    "            if trade['type'].lower() == 'broker':\n",
    "                Brockers.append(trade)\n",
    "            elif trade['type'].lower() == 'electronic':\n",
    "                Electronics.append(trade)\n",
    "        # print('Brockers:',Brockers)\n",
    "        # print('Electronics:',Electronics)\n",
    "        \n",
    "        return [Brockers,Electronics]\n",
    "\n",
    "    def run(self)-> List[Tuple[str,str]]:\n",
    "        result = []\n",
    "        a = self.process_raw_trade(raw_trade)\n",
    "        for b in a[0]:\n",
    "            for e in a[1]:\n",
    "                dt_b = datetime.datetime.strptime(b['date']+ ' ' + b['time'], '%Y-%m-%d %H:%M:%S')\n",
    "                dt_e = datetime.datetime.strptime(e['date']+ ' ' + e['time'], '%Y-%m-%d %H:%M:%S')\n",
    "                \n",
    "                # check the condition b : time_diff<= 1 min\n",
    "                if (dt_b - dt_e).seconds >60:\n",
    "                    continue\n",
    "                # check the condition c : same product\n",
    "                if b['product'] != e['product']:\n",
    "                    continue\n",
    "                # check the condition d : same type\n",
    "                if b['kind'] != e['kind']:\n",
    "                    continue\n",
    "                # check the condition e : same side\n",
    "                if b['side'] != e['side']:\n",
    "                    continue\n",
    "                # check the condition f : same expiry date\n",
    "                if b['expiry'] != e['expiry']:\n",
    "                    continue\n",
    "                # check the condition g : same strike\n",
    "                if b['strike'] != e['strike']:\n",
    "                    continue\n",
    "                result.append((b['id'],e['id']))\n",
    "        return result\n",
    "\n",
    "\n",
    "raw_trade = [[ '737acm','2022-03-15','09:01:00','P','CBOE','ABC' ,'Broker','2022-04-28', '500','1500','Sell'],\n",
    "             [ 'w6c229','2022-03-15','09:00:30','P','CBOE','ABC' ,'Electronic','2022-04-28', '500','1500','Sell'],\n",
    "             [ 'w6c229','2022-03-15','09:00:30','P','CBOE','ABC' ,'Electronic','2022-04-28', '500','1500','Buy']]\n",
    "example = Solution()\n",
    "example.process_raw_trade(raw_trade)\n",
    "example.run()\n"
   ]
  },
  {
   "cell_type": "markdown",
   "metadata": {},
   "source": [
    "- date = '2022-03-15'  'trade_date'\n",
    "- time=9:01:00  'time_of_trade'\n",
    "- type=Broker  'product_type'\n",
    "- qty=-500  'qty' ， 'side'\n",
    "- stike = 1500  'strike_price'\n",
    "- expiry='2022-04-28'  'expiry_dt'\n",
    "- kind=P  'portfolio'\n",
    "- exchange=CBOE  'exchange'\n",
    "- trade-id=737acm  'trade_id'\n",
    "- product=ABC  'product'\n"
   ]
  },
  {
   "cell_type": "markdown",
   "metadata": {},
   "source": []
  },
  {
   "cell_type": "code",
   "execution_count": null,
   "metadata": {},
   "outputs": [],
   "source": []
  }
 ],
 "metadata": {
  "kernelspec": {
   "display_name": "Python 3.9.6 64-bit",
   "language": "python",
   "name": "python3"
  },
  "language_info": {
   "codemirror_mode": {
    "name": "ipython",
    "version": 3
   },
   "file_extension": ".py",
   "mimetype": "text/x-python",
   "name": "python",
   "nbconvert_exporter": "python",
   "pygments_lexer": "ipython3",
   "version": "3.9.6"
  },
  "orig_nbformat": 4,
  "vscode": {
   "interpreter": {
    "hash": "aee8b7b246df8f9039afb4144a1f6fd8d2ca17a180786b69acc140d282b71a49"
   }
  }
 },
 "nbformat": 4,
 "nbformat_minor": 2
}
