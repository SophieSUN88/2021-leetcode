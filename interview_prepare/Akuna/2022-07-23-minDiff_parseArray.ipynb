{
 "cells": [
  {
   "cell_type": "markdown",
   "metadata": {},
   "source": [
    "hard\n",
    "input is array of positive numbers\n",
    "divide array to 2 arrays, count the difference of the sum of 2 arrays\n",
    "output: min_diff\n",
    "\n",
    "len(nums) : 500\n",
    "num : 10^5\n",
    "\n",
    "example:\n",
    "input = [1,2,3]\n",
    "\n",
    "left=[1]\n",
    "right=[2,3]\n",
    "\n",
    "left = [1,2]\n",
    "right=[3]\n",
    "\n",
    "left = [1,3]\n",
    "right = [2]"
   ]
  },
  {
   "cell_type": "code",
   "execution_count": 24,
   "metadata": {},
   "outputs": [],
   "source": [
    "def mindiff(nums):\n",
    "    nums.sort()\n",
    "    print('1,nums:',nums)\n",
    "    maxNum = nums[-1]\n",
    "    sumNum = sum(nums)\n",
    "    min_diff = sumNum\n",
    "    if maxNum >= sumNum // 2:\n",
    "        min_diff = min(2 * maxNum - sumNum,min_diff)\n",
    "        print('2,min_diff:',min_diff)\n",
    "        return min_diff\n",
    "    else:\n",
    "        for i in range(len(nums)-1):\n",
    "            maxNum = nums[-1] + nums[i]\n",
    "            if i >0 and nums[i] == nums[i-1]:\n",
    "                continue\n",
    "            nums_new = nums[:i]+nums[i+1:-1]+[maxNum]\n",
    "            print('3,nums_new',nums_new)\n",
    "            diff_new = mindiff(nums_new)\n",
    "            print('4,diff_new:',diff_new)\n",
    "            if diff_new == 0:\n",
    "                return 0\n",
    "            min_diff = min(min_diff,diff_new)\n",
    "            print('5,min_diff',min_diff)\n",
    "            \n",
    "    return min_diff\n",
    "\n",
    "\n",
    "            \n",
    "\n",
    "\n"
   ]
  },
  {
   "cell_type": "code",
   "execution_count": 25,
   "metadata": {},
   "outputs": [
    {
     "name": "stdout",
     "output_type": "stream",
     "text": [
      "1,nums: [1, 2, 3, 3, 5]\n",
      "3,nums_new [2, 3, 3, 6]\n",
      "1,nums: [2, 3, 3, 6]\n",
      "3,nums_new [3, 3, 8]\n",
      "1,nums: [3, 3, 8]\n",
      "2,min_diff: 2\n",
      "4,diff_new: 2\n",
      "5,min_diff 2\n",
      "3,nums_new [2, 3, 9]\n",
      "1,nums: [2, 3, 9]\n",
      "2,min_diff: 4\n",
      "4,diff_new: 4\n",
      "5,min_diff 2\n",
      "4,diff_new: 2\n",
      "5,min_diff 2\n",
      "3,nums_new [1, 3, 3, 7]\n",
      "1,nums: [1, 3, 3, 7]\n",
      "2,min_diff: 0\n",
      "4,diff_new: 0\n"
     ]
    },
    {
     "data": {
      "text/plain": [
       "0"
      ]
     },
     "execution_count": 25,
     "metadata": {},
     "output_type": "execute_result"
    }
   ],
   "source": [
    "nums =[1,2, 3,3, 5]\n",
    "mindiff(nums)"
   ]
  },
  {
   "cell_type": "code",
   "execution_count": 26,
   "metadata": {},
   "outputs": [
    {
     "name": "stdout",
     "output_type": "stream",
     "text": [
      "1,nums: [1, 3, 3, 3, 5]\n",
      "3,nums_new [3, 3, 3, 6]\n",
      "1,nums: [3, 3, 3, 6]\n",
      "3,nums_new [3, 3, 9]\n",
      "1,nums: [3, 3, 9]\n",
      "2,min_diff: 3\n",
      "4,diff_new: 3\n",
      "5,min_diff 3\n",
      "4,diff_new: 3\n",
      "5,min_diff 3\n",
      "3,nums_new [1, 3, 3, 8]\n",
      "1,nums: [1, 3, 3, 8]\n",
      "2,min_diff: 1\n",
      "4,diff_new: 1\n",
      "5,min_diff 1\n"
     ]
    },
    {
     "data": {
      "text/plain": [
       "1"
      ]
     },
     "execution_count": 26,
     "metadata": {},
     "output_type": "execute_result"
    }
   ],
   "source": [
    "nums =[1,3, 3,3, 5]\n",
    "mindiff(nums)"
   ]
  },
  {
   "cell_type": "code",
   "execution_count": null,
   "metadata": {},
   "outputs": [],
   "source": []
  }
 ],
 "metadata": {
  "kernelspec": {
   "display_name": "Python 3.9.6 64-bit",
   "language": "python",
   "name": "python3"
  },
  "language_info": {
   "codemirror_mode": {
    "name": "ipython",
    "version": 3
   },
   "file_extension": ".py",
   "mimetype": "text/x-python",
   "name": "python",
   "nbconvert_exporter": "python",
   "pygments_lexer": "ipython3",
   "version": "3.9.6"
  },
  "orig_nbformat": 4,
  "vscode": {
   "interpreter": {
    "hash": "aee8b7b246df8f9039afb4144a1f6fd8d2ca17a180786b69acc140d282b71a49"
   }
  }
 },
 "nbformat": 4,
 "nbformat_minor": 2
}
