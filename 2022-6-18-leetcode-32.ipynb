{
 "cells": [
  {
   "cell_type": "markdown",
   "metadata": {},
   "source": [
    "### 32. 最长有效括号 hard\n",
    "给你一个只包含 '(' 和 ')' 的字符串，找出最长有效（格式正确且连续）括号子串的长度。\n",
    "\n",
    "输入：s = \"(()\"\n",
    "输出：2\n",
    "解释：最长有效括号子串是 \"()\"\n",
    "\n",
    "输入：s = \")()())\"\n",
    "输出：4\n",
    "解释：最长有效括号子串是 \"()()\"\n",
    "\n",
    "输入：s = \"\"\n",
    "输出：0\n",
    "\n",
    "输入：s = \")(())())\"\n",
    "输出：6\n",
    "解释：最长有效括号子串是 \"()()\""
   ]
  },
  {
   "cell_type": "code",
   "execution_count": 37,
   "metadata": {},
   "outputs": [],
   "source": [
    "class Solution(object):\n",
    "    def longestValidParentheses(self, s):\n",
    "        \"\"\"\n",
    "        :type s: str\n",
    "        :rtype: int\n",
    "        \"\"\"\n",
    "        if len(s) <=1:\n",
    "            return 0\n",
    "\n",
    "        stack = []\n",
    "        l=[]\n",
    "        max_count = 0\n",
    "        count=0\n",
    "\n",
    "        for i in range(len(s)):\n",
    "            if s[i] == '(':\n",
    "                stack.append(i)\n",
    "            else:\n",
    "                if len(stack) == 0 :\n",
    "                    continue\n",
    "                else:\n",
    "                    a=stack.pop()\n",
    "                    l.append(a)\n",
    "                    l.append(i)\n",
    "                    count = i - a + 1\n",
    "        l.sort()\n",
    "        print(l)\n",
    "        print(\"n:\",len(l))\n",
    "        left = 0 \n",
    "        start = 0\n",
    "        end = 0\n",
    "        right = left + 1\n",
    "        max_count = 0\n",
    "        if len(l)==0:\n",
    "            return 0\n",
    "        while right< len(l)-1:\n",
    "            print(\"1:\")\n",
    "            if l[right] - l[left] ==1:\n",
    "                print(\"2:\")\n",
    "                right +=1\n",
    "                left +=1\n",
    "            else:\n",
    "                print(\"3:\")\n",
    "                end = left\n",
    "                count = end-start+1\n",
    "                start = right\n",
    "                left = start\n",
    "                right = left + 1\n",
    "                max_count = max(max_count,count)\n",
    "                print(count)\n",
    "                print(max_count)\n",
    "        end = right\n",
    "        count = end - start+1\n",
    "        print(count)\n",
    "        max_count = max(max_count,count)\n",
    "        print(max_count)\n",
    "        return max_count"
   ]
  },
  {
   "cell_type": "code",
   "execution_count": 39,
   "metadata": {},
   "outputs": [
    {
     "name": "stdout",
     "output_type": "stream",
     "text": [
      "[]\n",
      "n: 0\n"
     ]
    },
    {
     "data": {
      "text/plain": [
       "0"
      ]
     },
     "execution_count": 39,
     "metadata": {},
     "output_type": "execute_result"
    }
   ],
   "source": [
    "s=\")(\"\n",
    "example = Solution()\n",
    "example.longestValidParentheses(s)\n"
   ]
  },
  {
   "cell_type": "code",
   "execution_count": 40,
   "metadata": {},
   "outputs": [
    {
     "name": "stdout",
     "output_type": "stream",
     "text": [
      "[1, 2, 3, 4, 5, 6]\n",
      "n: 6\n",
      "1:\n",
      "2:\n",
      "1:\n",
      "2:\n",
      "1:\n",
      "2:\n",
      "1:\n",
      "2:\n",
      "6\n",
      "6\n"
     ]
    },
    {
     "data": {
      "text/plain": [
       "6"
      ]
     },
     "execution_count": 40,
     "metadata": {},
     "output_type": "execute_result"
    }
   ],
   "source": [
    "s = \")(())())\"\n",
    "example = Solution()\n",
    "example.longestValidParentheses(s)"
   ]
  },
  {
   "cell_type": "code",
   "execution_count": 50,
   "metadata": {},
   "outputs": [
    {
     "name": "stdout",
     "output_type": "stream",
     "text": [
      "i: 0\n",
      "stack: [-1]\n",
      "i: 1\n",
      "stack: [0]\n",
      "i: 2\n",
      "stack: [1]\n",
      "i: 3\n",
      "stack: [2]\n",
      "i: 4\n",
      "stack: [3]\n",
      "i: 5\n",
      "stack: [3, 4]\n",
      "i: 6\n",
      "stack: [3, 4, 5]\n",
      "count: 2\n",
      "max_count: 2\n",
      "i: 7\n",
      "stack: [3, 4]\n",
      "count: 4\n",
      "max_count: 4\n",
      "i: 8\n",
      "stack: [3]\n",
      "i: 9\n",
      "stack: [3, 8]\n",
      "count: 6\n",
      "max_count: 6\n",
      "i: 10\n",
      "stack: [3]\n"
     ]
    },
    {
     "data": {
      "text/plain": [
       "6"
      ]
     },
     "execution_count": 50,
     "metadata": {},
     "output_type": "execute_result"
    }
   ],
   "source": [
    "class Solution(object):\n",
    "    def longestValidParentheses(self, s):\n",
    "        \"\"\"\n",
    "        :type s: str\n",
    "        :rtype: int\n",
    "        \"\"\"\n",
    "        if len(s) == 0:\n",
    "            return 0\n",
    "        stack = [-1]\n",
    "        max_count = 0\n",
    "        for i in range(len(s)):\n",
    "            print(\"i:\",i)\n",
    "            print(\"stack:\",stack)\n",
    "            if s[i]==\"(\":\n",
    "                stack.append(i)\n",
    "            else:\n",
    "                if len(stack) == 0:\n",
    "                    continue\n",
    "                else:\n",
    "                    stack.pop()\n",
    "                    if len(stack)==0:\n",
    "                        stack.append(i)\n",
    "                    else: \n",
    "                        count = i - stack[-1]\n",
    "                        max_count = max(max_count,count) \n",
    "                        print(\"count:\",count)\n",
    "                        print(\"max_count:\",max_count)\n",
    "        return max_count\n",
    "s = \"))))(())())\"\n",
    "example = Solution()\n",
    "example.longestValidParentheses(s)\n"
   ]
  },
  {
   "cell_type": "code",
   "execution_count": 51,
   "metadata": {},
   "outputs": [
    {
     "name": "stdout",
     "output_type": "stream",
     "text": [
      "i: 0\n",
      "stack: [-1]\n",
      "i: 1\n",
      "stack: [-1, 0]\n",
      "i: 2\n",
      "stack: [-1, 0, 1]\n",
      "count: 2\n",
      "max_count: 2\n"
     ]
    },
    {
     "data": {
      "text/plain": [
       "2"
      ]
     },
     "execution_count": 51,
     "metadata": {},
     "output_type": "execute_result"
    }
   ],
   "source": [
    "s=\"(()\"\n",
    "example = Solution()\n",
    "example.longestValidParentheses(s)"
   ]
  },
  {
   "cell_type": "code",
   "execution_count": null,
   "metadata": {},
   "outputs": [],
   "source": []
  }
 ],
 "metadata": {
  "interpreter": {
   "hash": "aee8b7b246df8f9039afb4144a1f6fd8d2ca17a180786b69acc140d282b71a49"
  },
  "kernelspec": {
   "display_name": "Python 3.9.6 64-bit",
   "language": "python",
   "name": "python3"
  },
  "language_info": {
   "codemirror_mode": {
    "name": "ipython",
    "version": 3
   },
   "file_extension": ".py",
   "mimetype": "text/x-python",
   "name": "python",
   "nbconvert_exporter": "python",
   "pygments_lexer": "ipython3",
   "version": "3.9.6"
  },
  "orig_nbformat": 4
 },
 "nbformat": 4,
 "nbformat_minor": 2
}
