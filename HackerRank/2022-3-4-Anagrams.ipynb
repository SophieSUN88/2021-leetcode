{
 "cells": [
  {
   "cell_type": "markdown",
   "metadata": {},
   "source": [
    "# Anagrams\n",
    "\n",
    "Two strins are anagrams if theyare permutations of each other. In other words, both strings have the same length and the same characters. For examaple, \"aaag,mrs\" is an anagram of \"anagrams\". Given an input array of strings, write an eficient algorithm to iterate and remove any strings at position i if it is an anagram of a string contained at earlier index j in the input where j < i . In other words, given an array of strings, remove each string that is an anagram of a string earlier in the array. Then return the remaining array in sorted order.\n",
    "\n",
    "- Example\n",
    "- Input = ['code','doce','ecod','framer','frame']\n",
    "- Onput = ['code','framer','frame']\n",
    "- "
   ]
  },
  {
   "cell_type": "code",
   "execution_count": null,
   "metadata": {},
   "outputs": [],
   "source": [
    "def Anagrams(words):\n",
    "    myset=set()\n",
    "    result=[]\n",
    "    for word in words:\n",
    "        anagram=\"\".join(sorted(word))\n",
    "        if anagram in myset:\n",
    "            continue\n",
    "        myset.add(anagram)\n",
    "        result.append(word)\n",
    "    return result"
   ]
  },
  {
   "cell_type": "code",
   "execution_count": null,
   "metadata": {},
   "outputs": [],
   "source": [
    "# example\n",
    "words=['abc','bca','abcd','edf','bdca','bac']\n",
    "b=Anagrams(words)\n",
    "b "
   ]
  },
  {
   "cell_type": "markdown",
   "metadata": {},
   "source": [
    "Time complexity O(1);\n",
    "Space complexity O(n)."
   ]
  },
  {
   "cell_type": "markdown",
   "metadata": {},
   "source": [
    "### Show the process in the Anagram function as a good example"
   ]
  },
  {
   "cell_type": "code",
   "execution_count": null,
   "metadata": {},
   "outputs": [],
   "source": [
    "\n",
    "words=['abc','bca','abcd','edf','bdca','bac']\n",
    "myset=set()\n",
    "result=[]\n",
    "for word in words:\n",
    "    ## anagram is sorted word\n",
    "    anagram=\"\".join(sorted(word))\n",
    "    ## if the anagram is already in the set, it will skip this round by continue operater\n",
    "    if anagram in myset:\n",
    "        print(anagram+ \" is in myset, continue.\")\n",
    "        continue\n",
    "    ## if the anagram is not in the set, print the anagram, word, myset, result\n",
    "    ## we can see the difference between them\n",
    "    print(\"anagram is \" + anagram)\n",
    "    print(\"word is \" + word)\n",
    "    myset.add(anagram)\n",
    "    print(\"Myset is \",myset)\n",
    "    result.append(word)\n",
    "    print(\"Result is\",result)"
   ]
  }
 ],
 "metadata": {
  "interpreter": {
   "hash": "aee8b7b246df8f9039afb4144a1f6fd8d2ca17a180786b69acc140d282b71a49"
  },
  "kernelspec": {
   "display_name": "Python 3.9.6 64-bit",
   "language": "python",
   "name": "python3"
  },
  "language_info": {
   "codemirror_mode": {
    "name": "ipython",
    "version": 3
   },
   "file_extension": ".py",
   "mimetype": "text/x-python",
   "name": "python",
   "nbconvert_exporter": "python",
   "pygments_lexer": "ipython3",
   "version": "3.9.6"
  },
  "orig_nbformat": 4
 },
 "nbformat": 4,
 "nbformat_minor": 2
}
