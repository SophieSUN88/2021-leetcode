{
 "cells": [
  {
   "cell_type": "markdown",
   "metadata": {},
   "source": [
    "### question1\n",
    "Write a code to move all the negative numbers before all positive numbers in an Array. The order of the numbers in a array must be same.\n",
    "- Example: \n",
    "    - input: [5,2,7,-4,3,-8,-10]\n",
    "    - output: [-4,-8,-10,5,2,7,3]"
   ]
  },
  {
   "cell_type": "markdown",
   "metadata": {},
   "source": [
    "方法一\n",
    "1. for 循环遍历第一次,找出negative numbers，放到result\n",
    "2. for 循环遍历第二次，找出 positive numbers， 放到result\n",
    "3. return result\n",
    "Time complexity： O(2n)\n",
    "Space complexity: O(n)"
   ]
  },
  {
   "cell_type": "code",
   "execution_count": 1,
   "metadata": {},
   "outputs": [
    {
     "data": {
      "text/plain": [
       "[-4, -8, -10, 5, 2, 7, 3]"
      ]
     },
     "execution_count": 1,
     "metadata": {},
     "output_type": "execute_result"
    }
   ],
   "source": [
    "def moveNegative(nums):\n",
    "    n=len(nums)\n",
    "    result=[]\n",
    "    for i in range(n):\n",
    "        if nums[i]<0:\n",
    "            result.append(nums[i])\n",
    "    for i in range(n):\n",
    "        if nums[i] >=0:\n",
    "            result.append(nums[i])\n",
    "    return result\n",
    "nums=[5,2,7,-4,3,-8,-10]\n",
    "moveNegative(nums)"
   ]
  },
  {
   "cell_type": "markdown",
   "metadata": {},
   "source": [
    "方法二\n",
    "1. for 循环遍历一遍\n",
    "2. 找出negative numbers 放到list a\n",
    "3. 找出positive numbers 放到list b\n",
    "4. 两个list相加就是变成了一个list，因为要求负数在前面，return a+b"
   ]
  },
  {
   "cell_type": "code",
   "execution_count": 2,
   "metadata": {},
   "outputs": [
    {
     "data": {
      "text/plain": [
       "[-4, -8, -10, 5, 2, 7, 3]"
      ]
     },
     "execution_count": 2,
     "metadata": {},
     "output_type": "execute_result"
    }
   ],
   "source": [
    "def moveNegative2(nums):\n",
    "    n=len(nums)\n",
    "    a=[]\n",
    "    b=[]\n",
    "    for i in range(n):\n",
    "        if nums[i]<0:\n",
    "            a.append(nums[i])\n",
    "        else:\n",
    "            b.append(nums[i])\n",
    "    return a+b\n",
    "nums=[5,2,7,-4,3,-8,-10]\n",
    "moveNegative(nums)"
   ]
  },
  {
   "cell_type": "markdown",
   "metadata": {},
   "source": [
    "### question2\n",
    "Imagine a single column in a table that is populated with either a single digit (0-9) or a single character(a-z,A-Z). Write a SQL query to print 'Fizz' for a numeric value, or 'Buzz' for alphabetical value for all values in that column.\n",
    "- Example: \n",
    "    - input: ['d','x','T',8,'a',9,6,2,'V']\n",
    "    - output： ['Buzz','Buzz','Buzz','Fizz','Buzz','Fizz','Fizz','Fizz','Buzz']"
   ]
  },
  {
   "cell_type": "markdown",
   "metadata": {},
   "source": [
    "1. input中有字母也有数字,所以要把数字也变成string，用str(words[i])\n",
    "2. 因为isdigit()是判断一个字符串string是否是数字的。\n",
    "3. isalpha（）判断字符串string是否是字母"
   ]
  },
  {
   "cell_type": "code",
   "execution_count": 11,
   "metadata": {},
   "outputs": [
    {
     "data": {
      "text/plain": [
       "['Buzz', 'Buzz', 'Buzz', 'Fizz', 'Buzz', 'Fizz', 'Fizz', 'Fizz', 'Buzz']"
      ]
     },
     "execution_count": 11,
     "metadata": {},
     "output_type": "execute_result"
    }
   ],
   "source": [
    "def BuzzFizz(words):\n",
    "    result=[]\n",
    "    for i in range(len(words)):\n",
    "        if str(words[i]).isdigit():\n",
    "            result.append('Fizz')\n",
    "        elif str(words[i]).isalpha():\n",
    "            result.append('Buzz')\n",
    "    return result\n",
    "\n",
    "words=['d','x','T',8,'a',9,6,2,'V']\n",
    "BuzzFizz(words)\n"
   ]
  },
  {
   "cell_type": "markdown",
   "metadata": {},
   "source": [
    "### SQL result\n",
    "- 方法1\n",
    "- Case When 的公式：\n",
    "\n",
    "CASE\n",
    "    WHEN condition1 THEN result1\n",
    "    WHEN condition2 THEN result2\n",
    "    WHEN conditionN THEN resultN\n",
    "    ELSE result\n",
    "END AS ColumnName\n",
    "\n",
    "所以这题可以写成\n",
    "SELECT \n",
    "CASE\n",
    "    WHEN ( (UPPER(words)>='A' and UPPER(words)<='Z') or (LOWER(words)>='A' and LOWER(words)<='Z') ) THEN 'Buzz'\n",
    "    WHEN (words>='0' and words<='9') THEN 'Fizz'\n",
    "END AS FizzBuzz\n",
    "FROM Table\n"
   ]
  },
  {
   "cell_type": "markdown",
   "metadata": {},
   "source": [
    "方法2\n",
    "- sql语句判断是否为数字、字母、中文\n",
    "- select ascii(字段)\n",
    "    - 数字：48-57\n",
    "    - 字母：65-123\n",
    "    - 汉字：123+\n",
    "- 如，要删除某个全为数字的字段\n",
    "    - DELETE FROM table  WHERE ascii(name) between 48 and 57  \n",
    "\n",
    "- 本题可以：\n",
    "SELECT\n",
    "CASE\n",
    "    WHEN ASCII(words) between 65 and 123 THEN 'Buzz'\n",
    "    WHEN ASCII(words) between 48 and 57 THEN 'Fizz'\n",
    "END AS FizzBuzz\n",
    "FROM Table"
   ]
  },
  {
   "cell_type": "code",
   "execution_count": null,
   "metadata": {},
   "outputs": [],
   "source": []
  }
 ],
 "metadata": {
  "interpreter": {
   "hash": "aee8b7b246df8f9039afb4144a1f6fd8d2ca17a180786b69acc140d282b71a49"
  },
  "kernelspec": {
   "display_name": "Python 3.9.6 64-bit",
   "language": "python",
   "name": "python3"
  },
  "language_info": {
   "codemirror_mode": {
    "name": "ipython",
    "version": 3
   },
   "file_extension": ".py",
   "mimetype": "text/x-python",
   "name": "python",
   "nbconvert_exporter": "python",
   "pygments_lexer": "ipython3",
   "version": "3.9.6"
  },
  "orig_nbformat": 4
 },
 "nbformat": 4,
 "nbformat_minor": 2
}
