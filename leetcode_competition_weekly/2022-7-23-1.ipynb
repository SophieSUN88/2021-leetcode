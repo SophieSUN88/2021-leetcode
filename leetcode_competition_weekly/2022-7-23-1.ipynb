{
 "cells": [
  {
   "cell_type": "markdown",
   "metadata": {},
   "source": [
    "### 6124. First Letter to Appear Twice My SubmissionsBack to Contest\n",
    "\n",
    "User Accepted: 2180\n",
    "User Tried: 2752\n",
    "Total Accepted: 2181\n",
    "Total Submissions: 2790\n",
    "Difficulty: Easy\n",
    "\n",
    "Given a string s consisting of lowercase English letters, return the first letter to appear twice.\n",
    "\n",
    "Note:\n",
    "\n",
    "A letter a appears twice before another letter b if the second occurrence of a is before the second occurrence of b.\n",
    "s will contain at least one letter that appears twice.\n",
    " \n",
    "\n",
    "Example 1:\n",
    "\n",
    "Input: s = \"abccbaacz\"\n",
    "Output: \"c\"\n",
    "Explanation:\n",
    "The letter 'a' appears on the indexes 0, 5 and 6.\n",
    "The letter 'b' appears on the indexes 1 and 4.\n",
    "The letter 'c' appears on the indexes 2, 3 and 7.\n",
    "The letter 'z' appears on the index 8.\n",
    "The letter 'c' is the first letter to appear twice, because out of all the letters the index of its second occurrence is the smallest.\n",
    "Example 2:\n",
    "\n",
    "Input: s = \"abcdd\"\n",
    "Output: \"d\"\n",
    "Explanation:\n",
    "The only letter that appears twice is 'd' so we return 'd'.\n",
    " \n",
    "\n",
    "Constraints:\n",
    "\n",
    "2 <= s.length <= 100\n",
    "s consists of lowercase English letters.\n",
    "s has at least one repeated letter."
   ]
  },
  {
   "cell_type": "code",
   "execution_count": 4,
   "metadata": {},
   "outputs": [
    {
     "name": "stdout",
     "output_type": "stream",
     "text": [
      "0 : a\n",
      "a : [0]\n",
      "1 : b\n",
      "b : [1]\n",
      "2 : c\n",
      "c : [2]\n",
      "3 : c\n",
      "c : [2, 3]\n"
     ]
    },
    {
     "data": {
      "text/plain": [
       "3"
      ]
     },
     "execution_count": 4,
     "metadata": {},
     "output_type": "execute_result"
    }
   ],
   "source": [
    "class Solution:\n",
    "    def repeatedCharacter(self, s: str) -> str:\n",
    "        a = {}\n",
    "        # flag = False\n",
    "        for i in range(len(s)):\n",
    "            print(i,':',s[i])\n",
    "            if s[i] not in a:\n",
    "                a[s[i]] = []\n",
    "            a[s[i]].append(i)\n",
    "            print(s[i],':',a[s[i]])\n",
    "            if len(a[s[i]]) == 2  :\n",
    "                return s[i]\n",
    "\n",
    "\n",
    "example=Solution()\n",
    "s = \"abccbaacz\"\n",
    "a = example.repeatedCharacter(s)\n",
    "a"
   ]
  },
  {
   "cell_type": "code",
   "execution_count": null,
   "metadata": {},
   "outputs": [],
   "source": []
  },
  {
   "cell_type": "code",
   "execution_count": null,
   "metadata": {},
   "outputs": [],
   "source": []
  },
  {
   "cell_type": "code",
   "execution_count": null,
   "metadata": {},
   "outputs": [],
   "source": []
  }
 ],
 "metadata": {
  "kernelspec": {
   "display_name": "Python 3.9.6 64-bit",
   "language": "python",
   "name": "python3"
  },
  "language_info": {
   "codemirror_mode": {
    "name": "ipython",
    "version": 3
   },
   "file_extension": ".py",
   "mimetype": "text/x-python",
   "name": "python",
   "nbconvert_exporter": "python",
   "pygments_lexer": "ipython3",
   "version": "3.9.6"
  },
  "orig_nbformat": 4,
  "vscode": {
   "interpreter": {
    "hash": "aee8b7b246df8f9039afb4144a1f6fd8d2ca17a180786b69acc140d282b71a49"
   }
  }
 },
 "nbformat": 4,
 "nbformat_minor": 2
}
