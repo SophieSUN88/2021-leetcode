{
 "cells": [
  {
   "cell_type": "markdown",
   "metadata": {},
   "source": [
    "### 6126. Design a Food Rating System My SubmissionsBack to Contest\n",
    "\n",
    "#### 2353. Design a Food Rating System\n",
    "\n",
    "User Accepted: 629\n",
    "User Tried: 1094\n",
    "Total Accepted: 632\n",
    "Total Submissions: 1379\n",
    "Difficulty: Medium\n",
    "\n",
    "Design a food rating system that can do the following:\n",
    "\n",
    "Modify the rating of a food item listed in the system.\n",
    "Return the highest-rated food item for a type of cuisine in the system.\n",
    "Implement the FoodRatings class:\n",
    "\n",
    "FoodRatings(String[] foods, String[] cuisines, int[] ratings) Initializes the system. The food items are described by foods, cuisines and ratings, all of which have a length of n.\n",
    "foods[i] is the name of the ith food,\n",
    "cuisines[i] is the type of cuisine of the ith food, and\n",
    "ratings[i] is the initial rating of the ith food.\n",
    "void changeRating(String food, int newRating) Changes the rating of the food item with the name food.\n",
    "String highestRated(String cuisine) Returns the name of the food item that has the highest rating for the given type of cuisine. If there is a tie, return the item with the lexicographically smaller name.\n",
    "Note that a string x is lexicographically smaller than string y if x comes before y in dictionary order, that is, either x is a prefix of y, or if i is the first position such that x[i] != y[i], then x[i] comes before y[i] in alphabetic order.\n",
    "\n",
    " \n",
    "\n",
    "Example 1:\n",
    "\n",
    "Input\n",
    "[\"FoodRatings\", \"highestRated\", \"highestRated\", \"changeRating\", \"highestRated\", \"changeRating\", \"highestRated\"]\n",
    "[[[\"kimchi\", \"miso\", \"sushi\", \"moussaka\", \"ramen\", \"bulgogi\"], [\"korean\", \"japanese\", \"japanese\", \"greek\", \"japanese\", \"korean\"], [9, 12, 8, 15, 14, 7]], [\"korean\"], [\"japanese\"], [\"sushi\", 16], [\"japanese\"], [\"ramen\", 16], [\"japanese\"]]\n",
    "Output\n",
    "[null, \"kimchi\", \"ramen\", null, \"sushi\", null, \"ramen\"]\n",
    "\n",
    "Explanation\n",
    "FoodRatings foodRatings = new FoodRatings([\"kimchi\", \"miso\", \"sushi\", \"moussaka\", \"ramen\", \"bulgogi\"], [\"korean\", \"japanese\", \"japanese\", \"greek\", \"japanese\", \"korean\"], [9, 12, 8, 15, 14, 7]);\n",
    "foodRatings.highestRated(\"korean\"); // return \"kimchi\"\n",
    "                                    // \"kimchi\" is the highest rated korean food with a rating of 9.\n",
    "foodRatings.highestRated(\"japanese\"); // return \"ramen\"\n",
    "                                      // \"ramen\" is the highest rated japanese food with a rating of 14.\n",
    "foodRatings.changeRating(\"sushi\", 16); // \"sushi\" now has a rating of 16.\n",
    "foodRatings.highestRated(\"japanese\"); // return \"sushi\"\n",
    "                                      // \"sushi\" is the highest rated japanese food with a rating of 16.\n",
    "foodRatings.changeRating(\"ramen\", 16); // \"ramen\" now has a rating of 16.\n",
    "foodRatings.highestRated(\"japanese\"); // return \"ramen\"\n",
    "                                      // Both \"sushi\" and \"ramen\" have a rating of 16.\n",
    "                                      // However, \"ramen\" is lexicographically smaller than \"sushi\".\n",
    " \n",
    "\n",
    "Constraints:\n",
    "\n",
    "1 <= n <= 2 * 104\n",
    "n == foods.length == cuisines.length == ratings.length\n",
    "1 <= foods[i].length, cuisines[i].length <= 10\n",
    "foods[i], cuisines[i] consist of lowercase English letters.\n",
    "1 <= ratings[i] <= 108\n",
    "All the strings in foods are distinct.\n",
    "food will be the name of a food item in the system across all calls to changeRating.\n",
    "cuisine will be a type of cuisine of at least one food item in the system across all calls to highestRated.\n",
    "At most 2 * 104 calls in total will be made to changeRating and highestRated."
   ]
  },
  {
   "cell_type": "code",
   "execution_count": 1,
   "metadata": {},
   "outputs": [],
   "source": [
    "# solution 1 : make list to process\n",
    "# Time complexity: changeRating: O(n); highestRated:O(n)\n",
    "# Space complexity: O(1) \n",
    "# time limit extention\n",
    "from typing import List\n",
    "class FoodRatings:\n",
    "\n",
    "    def __init__(self, foods: List[str], cuisines: List[str], ratings: List[int]):\n",
    "        self.foods = foods\n",
    "        self.cuisines = cuisines\n",
    "        self.ratings = ratings\n",
    "        \n",
    "    def changeRating(self, food: str, newRating: int) -> None:\n",
    "        for i in range(len(self.foods)):\n",
    "            if self.foods[i] == food:\n",
    "                self.ratings[i] = newRating\n",
    "\n",
    "    def highestRated(self, cuisine: str) -> str:\n",
    "        max_rate = 0\n",
    "        max_food = ''\n",
    "        for i in range(len(self.foods)):\n",
    "            if self.cuisines[i] != cuisine:\n",
    "                continue\n",
    "            else:\n",
    "                if self.ratings[i] > max_rate:\n",
    "                    max_rate = self.ratings[i]\n",
    "                    max_food = self.foods[i]\n",
    "                    print(1,'i:',i,'   max_food:',max_food,'   max_rating:',max_rate)\n",
    "                    continue\n",
    "                elif self.ratings[i] == max_rate:\n",
    "                    # compare 2 string, the string can compare alphabeta directly\n",
    "                    if self.foods[i] < max_food:\n",
    "                        max_food = self.foods[i]\n",
    "                else:\n",
    "                    continue\n",
    "        print(3,'finally, max_food:',max_food)\n",
    "        return max_food\n",
    "                    \n",
    "# Your FoodRatings object will be instantiated and called as such:\n",
    "# obj = FoodRatings(foods, cuisines, ratings)\n",
    "# obj.changeRating(food,newRating)\n",
    "# param_2 = obj.highestRated(cuisine)"
   ]
  },
  {
   "cell_type": "markdown",
   "metadata": {},
   "source": [
    "input: [\"FoodRatings\",\"changeRating\",\"highestRated\",\"highestRated\",\"highestRated\"]\n",
    "\n",
    "[[[\"cpctxzh\",\"bryvgjqmj\",\"wedqhqrmyc\",\"ee\",\"lafzximxh\",\"lojzxfel\",\"flhs\"],[\"wbhdgqphq\",\"wbhdgqphq\",\"mxxajogm\",\"wbhdgqphq\",\"wbhdgqphq\",\"mxxajogm\",\"mxxajogm\"],\n",
    "[15,5,7,16,16,10,13]],[\"lojzxfel\",1],[\"mxxajogm\"],[\"wbhdgqphq\"],[\"mxxajogm\"]]\n",
    "\n",
    "output: [null,null,\"flhs\",\"ee\",\"flhs\"]\n",
    "\n"
   ]
  },
  {
   "cell_type": "code",
   "execution_count": 2,
   "metadata": {},
   "outputs": [
    {
     "name": "stdout",
     "output_type": "stream",
     "text": [
      "1 i: 2    max_food: wedqhqrmyc    max_rating: 7\n",
      "1 i: 6    max_food: flhs    max_rating: 13\n",
      "3 finally, max_food: flhs\n"
     ]
    },
    {
     "data": {
      "text/plain": [
       "'flhs'"
      ]
     },
     "execution_count": 2,
     "metadata": {},
     "output_type": "execute_result"
    }
   ],
   "source": [
    "s = [[\"cpctxzh\",\"bryvgjqmj\",\"wedqhqrmyc\",\"ee\",\"lafzximxh\",\"lojzxfel\",\"flhs\"],[\"wbhdgqphq\",\"wbhdgqphq\",\"mxxajogm\",\"wbhdgqphq\",\"wbhdgqphq\",\"mxxajogm\",\"mxxajogm\"],\n",
    "[15,5,7,16,16,10,13]]\n",
    "foods=s[0]\n",
    "cuisines = s[1]\n",
    "ratings = s[2]\n",
    "example = FoodRatings(foods,cuisines,ratings)\n",
    "\n",
    "s2=[\"lojzxfel\",1]\n",
    "food = s2[0]\n",
    "rating =s2[1]\n",
    "example.changeRating(food,rating)\n",
    "example.highestRated(\"mxxajogm\")\n",
    "\n"
   ]
  },
  {
   "cell_type": "code",
   "execution_count": 3,
   "metadata": {},
   "outputs": [
    {
     "name": "stdout",
     "output_type": "stream",
     "text": [
      "1 i: 0    max_food: cpctxzh    max_rating: 15\n",
      "1 i: 3    max_food: ee    max_rating: 16\n",
      "3 finally, max_food: ee\n"
     ]
    },
    {
     "data": {
      "text/plain": [
       "'ee'"
      ]
     },
     "execution_count": 3,
     "metadata": {},
     "output_type": "execute_result"
    }
   ],
   "source": [
    "example.highestRated(\"wbhdgqphq\")\n"
   ]
  },
  {
   "cell_type": "code",
   "execution_count": 4,
   "metadata": {},
   "outputs": [
    {
     "name": "stdout",
     "output_type": "stream",
     "text": [
      "1 i: 2    max_food: wedqhqrmyc    max_rating: 7\n",
      "1 i: 6    max_food: flhs    max_rating: 13\n",
      "3 finally, max_food: flhs\n"
     ]
    },
    {
     "data": {
      "text/plain": [
       "'flhs'"
      ]
     },
     "execution_count": 4,
     "metadata": {},
     "output_type": "execute_result"
    }
   ],
   "source": [
    "example.highestRated(\"mxxajogm\")"
   ]
  },
  {
   "cell_type": "code",
   "execution_count": 84,
   "metadata": {},
   "outputs": [],
   "source": [
    "# solution 2: make dictionary to process\n",
    "# Time complexity: changeRating: O(n); highestRated:O(n)\n",
    "# Space complexity: O(1) \n",
    "# time limit extention\n",
    "from typing import List\n",
    "class FoodRatings:\n",
    "\n",
    "    def __init__(self, foods: List[str], cuisines: List[str], ratings: List[int]):\n",
    "        self.cuisine_ratings={}\n",
    "        self.food_cuisine={}\n",
    "        self.food_rating={}\n",
    "        for i in range(len(foods)):\n",
    "            if cuisines[i] not in self.cuisine_ratings:\n",
    "                self.cuisine_ratings[cuisines[i]]={foods[i]:ratings[i]}\n",
    "            else:\n",
    "                self.cuisine_ratings[cuisines[i]].update({foods[i]:ratings[i]})        \n",
    "            self.food_cuisine[foods[i]]=cuisines[i]\n",
    "            self.food_rating[foods[i]]=ratings[i]\n",
    "        # print(self.food_rating)\n",
    "        # print(self.food_cuisine)\n",
    "        # print(self.cuisine_ratings)\n",
    "\n",
    "        \n",
    "    def changeRating(self, food: str, newRating: int) -> None:\n",
    "        cuisine  = self.food_cuisine[food]\n",
    "        self.cuisine_ratings[cuisine].update({food:newRating})\n",
    "        self.food_rating.update({food:newRating})\n",
    "        # print(self.food_rating)\n",
    "        # print(self.food_cuisine)\n",
    "        # print(self.cuisine_ratings)\n",
    "\n",
    "\n",
    "        \n",
    "    def highestRated(self, cuisine: str) -> str:\n",
    "        max_rate = 0\n",
    "        max_food = ''\n",
    "        for food in self.cuisine_ratings[cuisine]:\n",
    "            # print('food',food)\n",
    "            rate = self.cuisine_ratings[cuisine][food]\n",
    "            # print('rate',rate,'max_rate:',max_rate)\n",
    "            if rate > max_rate:\n",
    "                max_food = food\n",
    "                max_rate = rate\n",
    "            if rate == max_rate:\n",
    "                # print('1,food:',food,';max_food:',max_food)\n",
    "                max_food = min(max_food,food)\n",
    "                # print('2,food:',food,';max_food:',max_food)\n",
    "        return max_food\n",
    "                \n",
    "                \n"
   ]
  },
  {
   "cell_type": "code",
   "execution_count": 89,
   "metadata": {},
   "outputs": [
    {
     "name": "stdout",
     "output_type": "stream",
     "text": [
      "{'cpctxzh': 15, 'bryvgjqmj': 5, 'wedqhqrmyc': 7, 'ee': 16, 'lafzximxh': 16, 'lojzxfel': 10, 'flhs': 13}\n",
      "{'cpctxzh': 'wbhdgqphq', 'bryvgjqmj': 'wbhdgqphq', 'wedqhqrmyc': 'mxxajogm', 'ee': 'wbhdgqphq', 'lafzximxh': 'wbhdgqphq', 'lojzxfel': 'mxxajogm', 'flhs': 'mxxajogm'}\n",
      "{'wbhdgqphq': {'cpctxzh': 15, 'bryvgjqmj': 5, 'ee': 16, 'lafzximxh': 16}, 'mxxajogm': {'wedqhqrmyc': 7, 'lojzxfel': 10, 'flhs': 13}}\n"
     ]
    }
   ],
   "source": [
    "s = [[\"cpctxzh\",\"bryvgjqmj\",\"wedqhqrmyc\",\"ee\",\"lafzximxh\",\"lojzxfel\",\"flhs\"],\n",
    "[\"wbhdgqphq\",\"wbhdgqphq\",\"mxxajogm\",\"wbhdgqphq\",\"wbhdgqphq\",\"mxxajogm\",\"mxxajogm\"],\n",
    "[15,5,7,16,16,10,13]]\n",
    "foods=s[0]\n",
    "cuisines = s[1]\n",
    "ratings = s[2]\n",
    "example = FoodRatings(foods,cuisines,ratings)"
   ]
  },
  {
   "cell_type": "code",
   "execution_count": 90,
   "metadata": {},
   "outputs": [
    {
     "name": "stdout",
     "output_type": "stream",
     "text": [
      "{'cpctxzh': 15, 'bryvgjqmj': 5, 'wedqhqrmyc': 7, 'ee': 16, 'lafzximxh': 16, 'lojzxfel': 1, 'flhs': 13}\n",
      "{'cpctxzh': 'wbhdgqphq', 'bryvgjqmj': 'wbhdgqphq', 'wedqhqrmyc': 'mxxajogm', 'ee': 'wbhdgqphq', 'lafzximxh': 'wbhdgqphq', 'lojzxfel': 'mxxajogm', 'flhs': 'mxxajogm'}\n",
      "{'wbhdgqphq': {'cpctxzh': 15, 'bryvgjqmj': 5, 'ee': 16, 'lafzximxh': 16}, 'mxxajogm': {'wedqhqrmyc': 7, 'lojzxfel': 1, 'flhs': 13}}\n"
     ]
    }
   ],
   "source": [
    "\n",
    "s2=[\"lojzxfel\",1]\n",
    "food = s2[0]\n",
    "rating=s2[1]\n",
    "example.changeRating(food,rating)"
   ]
  },
  {
   "cell_type": "code",
   "execution_count": 91,
   "metadata": {},
   "outputs": [
    {
     "name": "stdout",
     "output_type": "stream",
     "text": [
      "food wedqhqrmyc\n",
      "rate 7 max_rate: 0\n",
      "1,food: wedqhqrmyc ;max_food: wedqhqrmyc\n",
      "2,food: wedqhqrmyc ;max_food: wedqhqrmyc\n",
      "food lojzxfel\n",
      "rate 1 max_rate: 7\n",
      "food flhs\n",
      "rate 13 max_rate: 7\n",
      "1,food: flhs ;max_food: flhs\n",
      "2,food: flhs ;max_food: flhs\n"
     ]
    },
    {
     "data": {
      "text/plain": [
       "'flhs'"
      ]
     },
     "execution_count": 91,
     "metadata": {},
     "output_type": "execute_result"
    }
   ],
   "source": [
    "example.highestRated(\"mxxajogm\")\n"
   ]
  },
  {
   "cell_type": "code",
   "execution_count": 92,
   "metadata": {},
   "outputs": [
    {
     "name": "stdout",
     "output_type": "stream",
     "text": [
      "food cpctxzh\n",
      "rate 15 max_rate: 0\n",
      "1,food: cpctxzh ;max_food: cpctxzh\n",
      "2,food: cpctxzh ;max_food: cpctxzh\n",
      "food bryvgjqmj\n",
      "rate 5 max_rate: 15\n",
      "food ee\n",
      "rate 16 max_rate: 15\n",
      "1,food: ee ;max_food: ee\n",
      "2,food: ee ;max_food: ee\n",
      "food lafzximxh\n",
      "rate 16 max_rate: 16\n",
      "1,food: lafzximxh ;max_food: ee\n",
      "2,food: lafzximxh ;max_food: ee\n"
     ]
    },
    {
     "data": {
      "text/plain": [
       "'ee'"
      ]
     },
     "execution_count": 92,
     "metadata": {},
     "output_type": "execute_result"
    }
   ],
   "source": [
    "example.highestRated(\"wbhdgqphq\")"
   ]
  },
  {
   "cell_type": "code",
   "execution_count": 93,
   "metadata": {},
   "outputs": [
    {
     "name": "stdout",
     "output_type": "stream",
     "text": [
      "food wedqhqrmyc\n",
      "rate 7 max_rate: 0\n",
      "1,food: wedqhqrmyc ;max_food: wedqhqrmyc\n",
      "2,food: wedqhqrmyc ;max_food: wedqhqrmyc\n",
      "food lojzxfel\n",
      "rate 1 max_rate: 7\n",
      "food flhs\n",
      "rate 13 max_rate: 7\n",
      "1,food: flhs ;max_food: flhs\n",
      "2,food: flhs ;max_food: flhs\n"
     ]
    },
    {
     "data": {
      "text/plain": [
       "'flhs'"
      ]
     },
     "execution_count": 93,
     "metadata": {},
     "output_type": "execute_result"
    }
   ],
   "source": [
    "example.highestRated(\"mxxajogm\")"
   ]
  },
  {
   "cell_type": "code",
   "execution_count": 100,
   "metadata": {},
   "outputs": [
    {
     "data": {
      "text/plain": [
       "{'a': 10, 'c': 40, 'd': 60, 'b': 100}"
      ]
     },
     "execution_count": 100,
     "metadata": {},
     "output_type": "execute_result"
    }
   ],
   "source": [
    "x ={'a':10,'b':100,'c':40,'d':60}\n",
    "x = dict(sorted(x.items(), key=lambda item: item[1]))\n",
    "x"
   ]
  },
  {
   "cell_type": "code",
   "execution_count": 112,
   "metadata": {},
   "outputs": [],
   "source": [
    "# solution 3: sort the dictionary, then the highestRating is the first one\n",
    "# Time complexity: changeRating: O(n); highestRated:O(n)\n",
    "# Space complexity: O(1) \n",
    "# time limit extention\n",
    "from typing import List\n",
    "class FoodRatings:\n",
    "\n",
    "    def __init__(self, foods: List[str], cuisines: List[str], ratings: List[int]):\n",
    "        self.cuisine_ratings={}\n",
    "        self.food_cuisine={}\n",
    "        self.food_rating={}\n",
    "        for i in range(len(foods)):\n",
    "            if cuisines[i] not in self.cuisine_ratings:\n",
    "                self.cuisine_ratings[cuisines[i]]={foods[i]:-ratings[i]}\n",
    "            else:\n",
    "                self.cuisine_ratings[cuisines[i]].update({foods[i]:-ratings[i]})        \n",
    "            self.food_cuisine[foods[i]]=cuisines[i]\n",
    "            self.food_rating[foods[i]]=ratings[i]\n",
    "            self.cuisine_ratings[cuisines[i]] = dict(sorted(self.cuisine_ratings[cuisines[i]].items(), key=lambda item: item[1]))\n",
    "\n",
    "        print(self.food_rating)\n",
    "        print(self.food_cuisine)\n",
    "        print(self.cuisine_ratings)\n",
    "\n",
    "        \n",
    "    def changeRating(self, food: str, newRating: int) -> None:\n",
    "        cuisine  = self.food_cuisine[food]\n",
    "        self.cuisine_ratings[cuisine].update({food:-newRating})\n",
    "        self.cuisine_ratings[cuisine] = dict(sorted(self.cuisine_ratings[cuisine].items(), key=lambda item: item[1]))\n",
    "        self.food_rating.update({food:newRating})\n",
    "        # print(self.food_rating)\n",
    "        # print(self.food_cuisine)\n",
    "        # print(self.cuisine_ratings)\n",
    "\n",
    "\n",
    "        \n",
    "    def highestRated(self, cuisine: str) -> str:\n",
    "        for item in self.cuisine_ratings[cuisine].items():\n",
    "            print(item[0],item[1])\n",
    "            return item[0]\n",
    "                \n",
    "                \n"
   ]
  },
  {
   "cell_type": "code",
   "execution_count": 113,
   "metadata": {},
   "outputs": [
    {
     "name": "stdout",
     "output_type": "stream",
     "text": [
      "{'cpctxzh': 15, 'bryvgjqmj': 5, 'wedqhqrmyc': 7, 'ee': 16, 'lafzximxh': 16, 'lojzxfel': 10, 'flhs': 13}\n",
      "{'cpctxzh': 'wbhdgqphq', 'bryvgjqmj': 'wbhdgqphq', 'wedqhqrmyc': 'mxxajogm', 'ee': 'wbhdgqphq', 'lafzximxh': 'wbhdgqphq', 'lojzxfel': 'mxxajogm', 'flhs': 'mxxajogm'}\n",
      "{'wbhdgqphq': {'ee': -16, 'lafzximxh': -16, 'cpctxzh': -15, 'bryvgjqmj': -5}, 'mxxajogm': {'flhs': -13, 'lojzxfel': -10, 'wedqhqrmyc': -7}}\n"
     ]
    }
   ],
   "source": [
    "s = [[\"cpctxzh\",\"bryvgjqmj\",\"wedqhqrmyc\",\"ee\",\"lafzximxh\",\"lojzxfel\",\"flhs\"],\n",
    "[\"wbhdgqphq\",\"wbhdgqphq\",\"mxxajogm\",\"wbhdgqphq\",\"wbhdgqphq\",\"mxxajogm\",\"mxxajogm\"],\n",
    "[15,5,7,16,16,10,13]]\n",
    "foods=s[0]\n",
    "cuisines = s[1]\n",
    "ratings = s[2]\n",
    "example = FoodRatings(foods,cuisines,ratings)"
   ]
  },
  {
   "cell_type": "code",
   "execution_count": 114,
   "metadata": {},
   "outputs": [
    {
     "name": "stdout",
     "output_type": "stream",
     "text": [
      "flhs -13\n"
     ]
    },
    {
     "data": {
      "text/plain": [
       "'flhs'"
      ]
     },
     "execution_count": 114,
     "metadata": {},
     "output_type": "execute_result"
    }
   ],
   "source": [
    "\n",
    "\n",
    "s2=[\"lojzxfel\",1]\n",
    "food = s2[0]\n",
    "rating=s2[1]\n",
    "example.changeRating(food,rating)\n",
    "\n",
    "example.highestRated(\"mxxajogm\")\n"
   ]
  },
  {
   "cell_type": "code",
   "execution_count": 115,
   "metadata": {},
   "outputs": [
    {
     "name": "stdout",
     "output_type": "stream",
     "text": [
      "ee -16\n"
     ]
    },
    {
     "data": {
      "text/plain": [
       "'ee'"
      ]
     },
     "execution_count": 115,
     "metadata": {},
     "output_type": "execute_result"
    }
   ],
   "source": [
    "example.highestRated(\"wbhdgqphq\")"
   ]
  },
  {
   "cell_type": "code",
   "execution_count": 116,
   "metadata": {},
   "outputs": [
    {
     "name": "stdout",
     "output_type": "stream",
     "text": [
      "flhs -13\n"
     ]
    },
    {
     "data": {
      "text/plain": [
       "'flhs'"
      ]
     },
     "execution_count": 116,
     "metadata": {},
     "output_type": "execute_result"
    }
   ],
   "source": [
    "example.highestRated(\"mxxajogm\")"
   ]
  },
  {
   "cell_type": "code",
   "execution_count": 178,
   "metadata": {},
   "outputs": [],
   "source": [
    "# solution 4: use heap to store the records\n",
    "# Time complexity: changeRating: O(log n); highestRated:O(1)\n",
    "# Space complexity: O(1)\n",
    "# It is the bese solution!!!! \n",
    "from typing import List\n",
    "import heapq as hq\n",
    "from collections import defaultdict\n",
    "\n",
    "class FoodRatings:\n",
    "\n",
    "    def __init__(self, foods: List[str], cuisines: List[str], ratings: List[int]):\n",
    "        n = len(foods)\n",
    "        self.foods = foods\n",
    "        self.cuisines = cuisines\n",
    "        self.ratings = ratings\n",
    "        self.index = dict(zip(foods, range(n)))\n",
    "        self.cuisinesMap = defaultdict(list)\n",
    "        for i, cuisine in enumerate(cuisines):\n",
    "            hq.heappush(self.cuisinesMap[cuisine], (-self.ratings[i], self.foods[i]))      \n",
    "        print(self.cuisinesMap)\n",
    "        \n",
    "    def changeRating(self, food: str, newRating: int) -> None:\n",
    "        i = self.index[food]\n",
    "        self.ratings[i] = newRating\n",
    "        cuisine = self.cuisines[i]\n",
    "        # this heappush only add the new tuple, but didn't delete the old one\n",
    "        hq.heappush(self.cuisinesMap[cuisine], (-self.ratings[i], self.foods[i]))\n",
    "        print(self.cuisinesMap[cuisine])\n",
    "     \n",
    "    def highestRated(self, cuisine: str) -> str:\n",
    "        rating, food = self.cuisinesMap[cuisine][0]\n",
    "        # because didn't delete the old one, so we need to check whether the rating is same from tuple to the ratings list.\n",
    "        # use while  loop to check until find the first right one\n",
    "        while rating != -self.ratings[self.index[food]]:  \n",
    "            # check highest rating is current, if not we can use heappop() to delete the old tuple\n",
    "            hq.heappop(self.cuisinesMap[cuisine])\n",
    "            rating, food = self.cuisinesMap[cuisine][0]\n",
    "        return food"
   ]
  },
  {
   "cell_type": "code",
   "execution_count": 187,
   "metadata": {},
   "outputs": [
    {
     "name": "stdout",
     "output_type": "stream",
     "text": [
      "defaultdict(<class 'list'>, {'wbhdgqphq': [(-16, 'ee'), (-16, 'lafzximxh'), (-15, 'cpctxzh'), (-5, 'bryvgjqmj')], 'mxxajogm': [(-13, 'flhs'), (-7, 'wedqhqrmyc'), (-10, 'lojzxfel')]})\n"
     ]
    }
   ],
   "source": [
    "s = [[\"cpctxzh\",\"bryvgjqmj\",\"wedqhqrmyc\",\"ee\",\"lafzximxh\",\"lojzxfel\",\"flhs\"],\n",
    "[\"wbhdgqphq\",\"wbhdgqphq\",\"mxxajogm\",\"wbhdgqphq\",\"wbhdgqphq\",\"mxxajogm\",\"mxxajogm\"],\n",
    "[15,5,7,16,16,10,13]]\n",
    "foods=s[0]\n",
    "cuisines = s[1]\n",
    "ratings = s[2]\n",
    "example = FoodRatings(foods,cuisines,ratings)"
   ]
  },
  {
   "cell_type": "code",
   "execution_count": 188,
   "metadata": {},
   "outputs": [
    {
     "data": {
      "text/plain": [
       "'flhs'"
      ]
     },
     "execution_count": 188,
     "metadata": {},
     "output_type": "execute_result"
    }
   ],
   "source": [
    "example.highestRated(\"mxxajogm\")"
   ]
  },
  {
   "cell_type": "code",
   "execution_count": 189,
   "metadata": {},
   "outputs": [
    {
     "data": {
      "text/plain": [
       "'ee'"
      ]
     },
     "execution_count": 189,
     "metadata": {},
     "output_type": "execute_result"
    }
   ],
   "source": [
    "example.highestRated(\"wbhdgqphq\")"
   ]
  },
  {
   "cell_type": "code",
   "execution_count": 190,
   "metadata": {},
   "outputs": [
    {
     "name": "stdout",
     "output_type": "stream",
     "text": [
      "[(-100, 'lojzxfel'), (-13, 'flhs'), (-10, 'lojzxfel'), (-7, 'wedqhqrmyc')]\n"
     ]
    }
   ],
   "source": [
    "s2=[\"lojzxfel\",100]\n",
    "food = s2[0]\n",
    "rating=s2[1]\n",
    "example.changeRating(food,rating)"
   ]
  },
  {
   "cell_type": "code",
   "execution_count": 191,
   "metadata": {},
   "outputs": [
    {
     "data": {
      "text/plain": [
       "'lojzxfel'"
      ]
     },
     "execution_count": 191,
     "metadata": {},
     "output_type": "execute_result"
    }
   ],
   "source": [
    "example.highestRated(\"mxxajogm\")"
   ]
  },
  {
   "cell_type": "code",
   "execution_count": null,
   "metadata": {},
   "outputs": [],
   "source": []
  }
 ],
 "metadata": {
  "kernelspec": {
   "display_name": "Python 3.9.6 64-bit",
   "language": "python",
   "name": "python3"
  },
  "language_info": {
   "codemirror_mode": {
    "name": "ipython",
    "version": 3
   },
   "file_extension": ".py",
   "mimetype": "text/x-python",
   "name": "python",
   "nbconvert_exporter": "python",
   "pygments_lexer": "ipython3",
   "version": "3.9.6"
  },
  "orig_nbformat": 4,
  "vscode": {
   "interpreter": {
    "hash": "aee8b7b246df8f9039afb4144a1f6fd8d2ca17a180786b69acc140d282b71a49"
   }
  }
 },
 "nbformat": 4,
 "nbformat_minor": 2
}
