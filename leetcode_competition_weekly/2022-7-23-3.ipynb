{
 "cells": [
  {
   "cell_type": "markdown",
   "metadata": {},
   "source": [
    "### 6126. Design a Food Rating System My SubmissionsBack to Contest\n",
    "\n",
    "#### 2353. Design a Food Rating System\n",
    "\n",
    "User Accepted: 629\n",
    "User Tried: 1094\n",
    "Total Accepted: 632\n",
    "Total Submissions: 1379\n",
    "Difficulty: Medium\n",
    "\n",
    "Design a food rating system that can do the following:\n",
    "\n",
    "Modify the rating of a food item listed in the system.\n",
    "Return the highest-rated food item for a type of cuisine in the system.\n",
    "Implement the FoodRatings class:\n",
    "\n",
    "FoodRatings(String[] foods, String[] cuisines, int[] ratings) Initializes the system. The food items are described by foods, cuisines and ratings, all of which have a length of n.\n",
    "foods[i] is the name of the ith food,\n",
    "cuisines[i] is the type of cuisine of the ith food, and\n",
    "ratings[i] is the initial rating of the ith food.\n",
    "void changeRating(String food, int newRating) Changes the rating of the food item with the name food.\n",
    "String highestRated(String cuisine) Returns the name of the food item that has the highest rating for the given type of cuisine. If there is a tie, return the item with the lexicographically smaller name.\n",
    "Note that a string x is lexicographically smaller than string y if x comes before y in dictionary order, that is, either x is a prefix of y, or if i is the first position such that x[i] != y[i], then x[i] comes before y[i] in alphabetic order.\n",
    "\n",
    " \n",
    "\n",
    "Example 1:\n",
    "\n",
    "Input\n",
    "[\"FoodRatings\", \"highestRated\", \"highestRated\", \"changeRating\", \"highestRated\", \"changeRating\", \"highestRated\"]\n",
    "[[[\"kimchi\", \"miso\", \"sushi\", \"moussaka\", \"ramen\", \"bulgogi\"], [\"korean\", \"japanese\", \"japanese\", \"greek\", \"japanese\", \"korean\"], [9, 12, 8, 15, 14, 7]], [\"korean\"], [\"japanese\"], [\"sushi\", 16], [\"japanese\"], [\"ramen\", 16], [\"japanese\"]]\n",
    "Output\n",
    "[null, \"kimchi\", \"ramen\", null, \"sushi\", null, \"ramen\"]\n",
    "\n",
    "Explanation\n",
    "FoodRatings foodRatings = new FoodRatings([\"kimchi\", \"miso\", \"sushi\", \"moussaka\", \"ramen\", \"bulgogi\"], [\"korean\", \"japanese\", \"japanese\", \"greek\", \"japanese\", \"korean\"], [9, 12, 8, 15, 14, 7]);\n",
    "foodRatings.highestRated(\"korean\"); // return \"kimchi\"\n",
    "                                    // \"kimchi\" is the highest rated korean food with a rating of 9.\n",
    "foodRatings.highestRated(\"japanese\"); // return \"ramen\"\n",
    "                                      // \"ramen\" is the highest rated japanese food with a rating of 14.\n",
    "foodRatings.changeRating(\"sushi\", 16); // \"sushi\" now has a rating of 16.\n",
    "foodRatings.highestRated(\"japanese\"); // return \"sushi\"\n",
    "                                      // \"sushi\" is the highest rated japanese food with a rating of 16.\n",
    "foodRatings.changeRating(\"ramen\", 16); // \"ramen\" now has a rating of 16.\n",
    "foodRatings.highestRated(\"japanese\"); // return \"ramen\"\n",
    "                                      // Both \"sushi\" and \"ramen\" have a rating of 16.\n",
    "                                      // However, \"ramen\" is lexicographically smaller than \"sushi\".\n",
    " \n",
    "\n",
    "Constraints:\n",
    "\n",
    "1 <= n <= 2 * 104\n",
    "n == foods.length == cuisines.length == ratings.length\n",
    "1 <= foods[i].length, cuisines[i].length <= 10\n",
    "foods[i], cuisines[i] consist of lowercase English letters.\n",
    "1 <= ratings[i] <= 108\n",
    "All the strings in foods are distinct.\n",
    "food will be the name of a food item in the system across all calls to changeRating.\n",
    "cuisine will be a type of cuisine of at least one food item in the system across all calls to highestRated.\n",
    "At most 2 * 104 calls in total will be made to changeRating and highestRated."
   ]
  },
  {
   "cell_type": "code",
   "execution_count": 15,
   "metadata": {},
   "outputs": [],
   "source": [
    "from typing import List\n",
    "class FoodRatings:\n",
    "\n",
    "    def __init__(self, foods: List[str], cuisines: List[str], ratings: List[int]):\n",
    "        self.foods = foods\n",
    "        self.cuisines = cuisines\n",
    "        self.ratings = ratings\n",
    "        \n",
    "    def changeRating(self, food: str, newRating: int) -> None:\n",
    "        for i in range(len(self.foods)):\n",
    "            if self.foods[i] == food:\n",
    "                self.ratings[i] = newRating\n",
    "\n",
    "    def highestRated(self, cuisine: str) -> str:\n",
    "        max_rate = 0\n",
    "        max_food = ''\n",
    "        for i in range(len(self.foods)):\n",
    "            if self.cuisines[i] != cuisine:\n",
    "                continue\n",
    "            else:\n",
    "                if self.ratings[i] > max_rate:\n",
    "                    max_rate = self.ratings[i]\n",
    "                    max_food = self.foods[i]\n",
    "                    print(1,'i:',i,'   max_food:',max_food,'   max_rating:',max_rate)\n",
    "                    continue\n",
    "                elif self.ratings[i] == max_rate:\n",
    "                    # if self.foods[i] in max_food:\n",
    "                    #     max_food = self.foods[i]\n",
    "                    # else:\n",
    "                    #     for j in range(len(self.foods[i])):\n",
    "                    #         print('j:',j)\n",
    "                    #         if j < len(max_food):\n",
    "                    #             if self.foods[i][j] > max_food[j]:\n",
    "                    #                 print(22222)\n",
    "                    #                 break\n",
    "                            \n",
    "                    #             elif self.foods[i][j] < max_food[j]:\n",
    "                    #                 print(33333)\n",
    "                    #                 print('self.foods[i][j]',self.foods[i][j],self.foods[i])\n",
    "                    #                 print('max_food[j]:',max_food[j])\n",
    "                    #                 max_food = self.foods[i]\n",
    "                    #                 print(2,'i:',i,'   max_food:',max_food,'   max_rating:',max_rate)\n",
    "                    #             else:\n",
    "                    #                 continue\n",
    "                    if self.foods[i] < max_food:\n",
    "                        max_food = self.foods[i]\n",
    "                else:\n",
    "                    continue\n",
    "        print(3,'finally, max_food:',max_food)\n",
    "        return max_food\n",
    "                    \n",
    "\n",
    "\n",
    "\n",
    "        \n",
    "\n",
    "# Your FoodRatings object will be instantiated and called as such:\n",
    "# obj = FoodRatings(foods, cuisines, ratings)\n",
    "# obj.changeRating(food,newRating)\n",
    "# param_2 = obj.highestRated(cuisine)"
   ]
  },
  {
   "cell_type": "markdown",
   "metadata": {},
   "source": [
    "input: [\"FoodRatings\",\"changeRating\",\"highestRated\",\"highestRated\",\"highestRated\"]\n",
    "\n",
    "[[[\"cpctxzh\",\"bryvgjqmj\",\"wedqhqrmyc\",\"ee\",\"lafzximxh\",\"lojzxfel\",\"flhs\"],[\"wbhdgqphq\",\"wbhdgqphq\",\"mxxajogm\",\"wbhdgqphq\",\"wbhdgqphq\",\"mxxajogm\",\"mxxajogm\"],\n",
    "[15,5,7,16,16,10,13]],[\"lojzxfel\",1],[\"mxxajogm\"],[\"wbhdgqphq\"],[\"mxxajogm\"]]\n",
    "\n",
    "output: [null,null,\"flhs\",\"ee\",\"flhs\"]\n",
    "\n"
   ]
  },
  {
   "cell_type": "code",
   "execution_count": 16,
   "metadata": {},
   "outputs": [
    {
     "name": "stdout",
     "output_type": "stream",
     "text": [
      "1 i: 2    max_food: wedqhqrmyc    max_rating: 7\n",
      "1 i: 6    max_food: flhs    max_rating: 13\n",
      "3 finally, max_food: flhs\n"
     ]
    },
    {
     "data": {
      "text/plain": [
       "'flhs'"
      ]
     },
     "execution_count": 16,
     "metadata": {},
     "output_type": "execute_result"
    }
   ],
   "source": [
    "s = [[\"cpctxzh\",\"bryvgjqmj\",\"wedqhqrmyc\",\"ee\",\"lafzximxh\",\"lojzxfel\",\"flhs\"],[\"wbhdgqphq\",\"wbhdgqphq\",\"mxxajogm\",\"wbhdgqphq\",\"wbhdgqphq\",\"mxxajogm\",\"mxxajogm\"],\n",
    "[15,5,7,16,16,10,13]]\n",
    "foods=s[0]\n",
    "cuisines = s[1]\n",
    "ratings = s[2]\n",
    "example = FoodRatings(foods,cuisines,ratings)\n",
    "\n",
    "s2=[\"lojzxfel\",1]\n",
    "food = s2[0]\n",
    "rating =s2[1]\n",
    "example.changeRating(food,rating)\n",
    "example.highestRated(\"mxxajogm\")\n",
    "\n"
   ]
  },
  {
   "cell_type": "code",
   "execution_count": 17,
   "metadata": {},
   "outputs": [
    {
     "name": "stdout",
     "output_type": "stream",
     "text": [
      "1 i: 0    max_food: cpctxzh    max_rating: 15\n",
      "1 i: 3    max_food: ee    max_rating: 16\n",
      "3 finally, max_food: ee\n"
     ]
    },
    {
     "data": {
      "text/plain": [
       "'ee'"
      ]
     },
     "execution_count": 17,
     "metadata": {},
     "output_type": "execute_result"
    }
   ],
   "source": [
    "example.highestRated(\"wbhdgqphq\")\n"
   ]
  },
  {
   "cell_type": "code",
   "execution_count": 18,
   "metadata": {},
   "outputs": [
    {
     "name": "stdout",
     "output_type": "stream",
     "text": [
      "1 i: 2    max_food: wedqhqrmyc    max_rating: 7\n",
      "1 i: 6    max_food: flhs    max_rating: 13\n",
      "3 finally, max_food: flhs\n"
     ]
    },
    {
     "data": {
      "text/plain": [
       "'flhs'"
      ]
     },
     "execution_count": 18,
     "metadata": {},
     "output_type": "execute_result"
    }
   ],
   "source": [
    "example.highestRated(\"mxxajogm\")"
   ]
  },
  {
   "cell_type": "code",
   "execution_count": 14,
   "metadata": {},
   "outputs": [
    {
     "name": "stdout",
     "output_type": "stream",
     "text": [
      "222\n"
     ]
    }
   ],
   "source": [
    "a='aebc'\n",
    "b='abcddd'\n",
    "if a < b:\n",
    "    print(111)\n",
    "else:\n",
    "    print(222)"
   ]
  },
  {
   "cell_type": "code",
   "execution_count": null,
   "metadata": {},
   "outputs": [],
   "source": []
  },
  {
   "cell_type": "code",
   "execution_count": null,
   "metadata": {},
   "outputs": [],
   "source": []
  }
 ],
 "metadata": {
  "kernelspec": {
   "display_name": "Python 3.9.6 64-bit",
   "language": "python",
   "name": "python3"
  },
  "language_info": {
   "codemirror_mode": {
    "name": "ipython",
    "version": 3
   },
   "file_extension": ".py",
   "mimetype": "text/x-python",
   "name": "python",
   "nbconvert_exporter": "python",
   "pygments_lexer": "ipython3",
   "version": "3.9.6"
  },
  "orig_nbformat": 4,
  "vscode": {
   "interpreter": {
    "hash": "aee8b7b246df8f9039afb4144a1f6fd8d2ca17a180786b69acc140d282b71a49"
   }
  }
 },
 "nbformat": 4,
 "nbformat_minor": 2
}
