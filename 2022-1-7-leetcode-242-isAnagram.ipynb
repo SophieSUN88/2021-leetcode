{
 "cells": [
  {
   "cell_type": "markdown",
   "metadata": {},
   "source": [
    "## leetcode 242. Valid Anagram (easy)\n",
    "- Given two strings s and t, return true if t is an anagram of s, and false otherwise.\n",
    "- Example 1:\n",
    "    - Input: s = \"anagram\", t = \"nagaram\"\n",
    "    - Output: true\n",
    "- Example 2:\n",
    "    - Input: s = \"rat\", t = \"car\"\n",
    "    - Output: false\n"
   ]
  },
  {
   "cell_type": "code",
   "execution_count": 1,
   "metadata": {},
   "outputs": [
    {
     "name": "stdout",
     "output_type": "stream",
     "text": [
      "True\n",
      "False\n"
     ]
    }
   ],
   "source": [
    "## Solution 1 :sort() (48ms)\n",
    "def isAnagram(s,t):\n",
    "    s=sorted(s)\n",
    "    t=sorted(t)\n",
    "    return s == t\n",
    "s1 = \"anagram\"\n",
    "t1 = \"nagaram\"\n",
    "s2 = \"rat\"\n",
    "t2 = \"car\"\n",
    "print(isAnagram(s1,t1))\n",
    "print(isAnagram(s2,t2))"
   ]
  },
  {
   "cell_type": "code",
   "execution_count": 2,
   "metadata": {},
   "outputs": [
    {
     "name": "stdout",
     "output_type": "stream",
     "text": [
      "True\n",
      "False\n"
     ]
    }
   ],
   "source": [
    "## solution 2: list (60ms)\n",
    "def isAnagram2(s,t):\n",
    "    if len(s) != len(t):\n",
    "        return False\n",
    "\n",
    "    record = [0]*26\n",
    "    for i in range(len(s)):\n",
    "        record[ord(s[i])-ord('a')]+=1        \n",
    "    for i in range(len(t)):\n",
    "        record[ord(t[i])-ord('a')]-=1\n",
    "    for i in range(26):\n",
    "        if record[i]!=0:\n",
    "            return False\n",
    "    return True\n",
    "s1 = \"anagram\"\n",
    "t1 = \"nagaram\"\n",
    "s2 = \"rat\"\n",
    "t2 = \"car\"\n",
    "print(isAnagram2(s1,t1))\n",
    "print(isAnagram2(s2,t2))"
   ]
  },
  {
   "cell_type": "code",
   "execution_count": 3,
   "metadata": {},
   "outputs": [
    {
     "name": "stdout",
     "output_type": "stream",
     "text": [
      "True\n",
      "False\n"
     ]
    }
   ],
   "source": [
    "## Solution 3:Counter() (40ms)\n",
    "\n",
    "from collections import Counter\n",
    "\n",
    "def isAnagram3(s,t):\n",
    "    return Counter(s) == Counter(t)\n",
    "s1 = \"anagram\"\n",
    "t1 = \"nagaram\"\n",
    "s2 = \"rat\"\n",
    "t2 = \"car\"\n",
    "print(isAnagram3(s1,t1))\n",
    "print(isAnagram3(s2,t2))"
   ]
  },
  {
   "cell_type": "markdown",
   "metadata": {},
   "source": [
    "### Counter()\n",
    "- Python’s Counter from collections provides a clean, efficient, and Pythonic solution.\n",
    "1. Another way to count objects with a dictionary is to use dict.get() with 0 as a default value:\n",
    "- When you call .get() this way, you get the current count of a given letter, or 0 (the default) if the letter is missing. \n",
    "- Then you increment the count by 1 and store it under the corresponding letter in the dictionary.\n"
   ]
  },
  {
   "cell_type": "code",
   "execution_count": 4,
   "metadata": {},
   "outputs": [],
   "source": [
    "#Solution 3\n",
    "def Counter(word):\n",
    "    counter={}\n",
    "    for letter in word:\n",
    "        counter[letter]=counter.get(letter,0) + 1\n",
    "    return counter"
   ]
  },
  {
   "cell_type": "markdown",
   "metadata": {},
   "source": [
    "2. You can also use defaultdict from collections to count objects within a loop:"
   ]
  },
  {
   "cell_type": "code",
   "execution_count": 5,
   "metadata": {},
   "outputs": [
    {
     "data": {
      "text/plain": [
       "defaultdict(int, {'m': 1, 'i': 4, 's': 4, 'p': 2})"
      ]
     },
     "execution_count": 5,
     "metadata": {},
     "output_type": "execute_result"
    }
   ],
   "source": [
    "from collections import defaultdict\n",
    "def Counter2(word):\n",
    "    counter = defaultdict(int)\n",
    "    for letter in word:\n",
    "        counter[letter] +=1\n",
    "    return counter\n",
    "word = \"mississippi\"\n",
    "Counter2(word)"
   ]
  },
  {
   "cell_type": "markdown",
   "metadata": {},
   "source": [
    "3. You can use .update() with both iterables and mappings of counts as arguments. If you use an iterable, the method counts its items and updates the counter accordingly:"
   ]
  },
  {
   "cell_type": "code",
   "execution_count": 6,
   "metadata": {},
   "outputs": [
    {
     "data": {
      "text/plain": [
       "Counter({'i': 6, 's': 6, 'p': 2, 'm': 2, 'o': 1, 'u': 1, 'r': 1})"
      ]
     },
     "execution_count": 6,
     "metadata": {},
     "output_type": "execute_result"
    }
   ],
   "source": [
    "from collections import Counter\n",
    "\n",
    "letters = Counter({\"i\": 4, \"s\": 4, \"p\": 2, \"m\": 1})\n",
    "\n",
    "letters.update(\"missouri\")\n",
    "letters"
   ]
  },
  {
   "cell_type": "markdown",
   "metadata": {},
   "source": [
    "- The second way to use .update() is to provide another counter or a mapping of counts as an argument. "
   ]
  },
  {
   "cell_type": "code",
   "execution_count": 7,
   "metadata": {},
   "outputs": [
    {
     "data": {
      "text/plain": [
       "Counter({'apple': 35, 'orange': 23, 'banana': 15})"
      ]
     },
     "execution_count": 7,
     "metadata": {},
     "output_type": "execute_result"
    }
   ],
   "source": [
    "from collections import Counter\n",
    "sales = Counter(apple=25, orange=15, banana=12)\n",
    "\n",
    "# Use a counter\n",
    "monday_sales = Counter(apple=10, orange=8, banana=3)\n",
    "sales.update(monday_sales)\n",
    "sales"
   ]
  },
  {
   "cell_type": "code",
   "execution_count": 8,
   "metadata": {},
   "outputs": [
    {
     "data": {
      "text/plain": [
       "Counter({'apple': 39, 'orange': 30, 'banana': 15, 'tomato': 4})"
      ]
     },
     "execution_count": 8,
     "metadata": {},
     "output_type": "execute_result"
    }
   ],
   "source": [
    "# Use a dictionary of counts\n",
    "tuesday_sales = {\"apple\": 4, \"orange\": 7, \"tomato\": 4}\n",
    "sales.update(tuesday_sales)\n",
    "sales"
   ]
  },
  {
   "cell_type": "markdown",
   "metadata": {},
   "source": [
    "4. Find the most common objects in Counter with .most_common( n )"
   ]
  },
  {
   "cell_type": "code",
   "execution_count": 9,
   "metadata": {},
   "outputs": [
    {
     "data": {
      "text/plain": [
       "[('apple', 39), ('orange', 30)]"
      ]
     },
     "execution_count": 9,
     "metadata": {},
     "output_type": "execute_result"
    }
   ],
   "source": [
    "from collections import Counter\n",
    "sales = Counter(banana=15, tomato=4, apple=39, orange=30)\n",
    "sales.most_common(2)"
   ]
  },
  {
   "cell_type": "code",
   "execution_count": 10,
   "metadata": {},
   "outputs": [
    {
     "data": {
      "text/plain": [
       "[('apple', 39), ('orange', 30), ('banana', 15), ('tomato', 4)]"
      ]
     },
     "execution_count": 10,
     "metadata": {},
     "output_type": "execute_result"
    }
   ],
   "source": [
    "sales.most_common()"
   ]
  }
 ],
 "metadata": {
  "interpreter": {
   "hash": "aee8b7b246df8f9039afb4144a1f6fd8d2ca17a180786b69acc140d282b71a49"
  },
  "kernelspec": {
   "display_name": "Python 3.9.6 64-bit",
   "language": "python",
   "name": "python3"
  },
  "language_info": {
   "codemirror_mode": {
    "name": "ipython",
    "version": 3
   },
   "file_extension": ".py",
   "mimetype": "text/x-python",
   "name": "python",
   "nbconvert_exporter": "python",
   "pygments_lexer": "ipython3",
   "version": "3.9.6"
  },
  "orig_nbformat": 4
 },
 "nbformat": 4,
 "nbformat_minor": 2
}
