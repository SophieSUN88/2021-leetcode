{
 "cells": [
  {
   "cell_type": "markdown",
   "metadata": {},
   "source": [
    "### leetcode 796. Rotate String (easy)\n",
    "- Given two strings s and goal, return true if and only if s can become goal after some number of shifts on s.\n",
    "- A shift on s consists of moving the leftmost character of s to the rightmost position.\n",
    "- For example, if s = \"abcde\", then it will be \"bcdea\" after one shift.\n",
    "- Example 1:\n",
    "    - Input: s = \"abcde\", goal = \"cdeab\"\n",
    "    - Output: true\n",
    "- Example 2:\n",
    "    - Input: s = \"abcde\", goal = \"abced\"\n",
    "    - Output: false"
   ]
  },
  {
   "cell_type": "markdown",
   "metadata": {},
   "source": [
    "#### Solution 1 (32ms)\n",
    "- find the letter in s which is equal to the first letter of string goal\n",
    "- devide string s into 2 parts, compare with string goal\n",
    "- if there are more than 1 letter in s is equal to string goal, go through them, if one combination of s is equal to string goal, return true; else return false."
   ]
  },
  {
   "cell_type": "code",
   "execution_count": 1,
   "metadata": {},
   "outputs": [
    {
     "data": {
      "text/plain": [
       "True"
      ]
     },
     "execution_count": 1,
     "metadata": {},
     "output_type": "execute_result"
    }
   ],
   "source": [
    "#Solution 1 (32ms):\n",
    "def rotateString(s,goal):\n",
    "    if len(s)!=len(goal):\n",
    "        return False\n",
    "    n=len(s)\n",
    "    left=[]\n",
    "    for i in range(n):\n",
    "        if s[i]==goal[0]:\n",
    "            left.append(i)\n",
    "    for j in left:\n",
    "        if (s[j:]==goal[:n-j]) and (s[:j]==goal[n-j:]) :\n",
    "            return True\n",
    "    return False\n",
    "s=\"bbbacddceeb\"\n",
    "goal=\"ceebbbbacdd\"\n",
    "rotateString(s,goal)"
   ]
  },
  {
   "cell_type": "markdown",
   "metadata": {},
   "source": [
    "#### Solution 2 (28ms)\n",
    "- B is the substring of A+A"
   ]
  },
  {
   "cell_type": "code",
   "execution_count": 2,
   "metadata": {},
   "outputs": [
    {
     "data": {
      "text/plain": [
       "True"
      ]
     },
     "execution_count": 2,
     "metadata": {},
     "output_type": "execute_result"
    }
   ],
   "source": [
    "# Soluton 2 (28ms)\n",
    "def rotateString2(A,B):\n",
    "    return len(A) == len(B) and B in A+A\n",
    "s=\"bbbacddceeb\"\n",
    "goal=\"ceebbbbacdd\"\n",
    "rotateString2(s,goal)"
   ]
  }
 ],
 "metadata": {
  "interpreter": {
   "hash": "aee8b7b246df8f9039afb4144a1f6fd8d2ca17a180786b69acc140d282b71a49"
  },
  "kernelspec": {
   "display_name": "Python 3.9.6 64-bit",
   "language": "python",
   "name": "python3"
  },
  "language_info": {
   "codemirror_mode": {
    "name": "ipython",
    "version": 3
   },
   "file_extension": ".py",
   "mimetype": "text/x-python",
   "name": "python",
   "nbconvert_exporter": "python",
   "pygments_lexer": "ipython3",
   "version": "3.9.6"
  },
  "orig_nbformat": 4
 },
 "nbformat": 4,
 "nbformat_minor": 2
}
