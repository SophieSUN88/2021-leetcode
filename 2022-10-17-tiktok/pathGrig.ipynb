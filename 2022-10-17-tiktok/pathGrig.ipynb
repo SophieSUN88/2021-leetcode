{
 "cells": [
  {
   "cell_type": "markdown",
   "metadata": {},
   "source": [
    "### Path on a Grid\n",
    "Description:\n",
    "\n",
    "Given a gid, how many paths are there from (0,0) to (n,m)?\n",
    "you can only move from （x,y) to (x,y+1) or (x+1,y). For 60% data, 1<=n,m<=10, for 100% data, 1<=n,m<=30.\n",
    "\n",
    "example: n = 2, m =2, ans is 6.\n",
    "\n",
    "Notice: input and output will be string.\n",
    "- input: \n",
    "- 2\n",
    "- 2\n",
    "- output:\n",
    "- 6"
   ]
  },
  {
   "cell_type": "code",
   "execution_count": 14,
   "metadata": {},
   "outputs": [
    {
     "name": "stdout",
     "output_type": "stream",
     "text": [
      "1\n",
      "1\n",
      "2\n",
      "6\n",
      "56\n"
     ]
    }
   ],
   "source": [
    "def pathCount(n,m):\n",
    "    \n",
    "    if n == 0 or m == 0:\n",
    "        return 1\n",
    "    \n",
    "    if n == 1 or m == 1:\n",
    "        return max(m+1,n+1)\n",
    "    if n > 1:\n",
    "        count = 0\n",
    "        for i in range(m+1):\n",
    "            temp = pathCount(n-1,i)\n",
    "            # print('temp:',temp)\n",
    "            count += temp\n",
    "    return count\n",
    "\n",
    "print(pathCount(n = 0, m = 3))\n",
    "print(pathCount(n = 1, m = 0))\n",
    "print(pathCount(n = 1, m = 1))\n",
    "print(pathCount(n = 2, m = 2))\n",
    "print(pathCount(n = 3, m = 5))\n"
   ]
  },
  {
   "cell_type": "code",
   "execution_count": 13,
   "metadata": {},
   "outputs": [
    {
     "name": "stdout",
     "output_type": "stream",
     "text": [
      "temp: 1\n",
      "temp: 2\n",
      "temp: 3\n",
      "temp: 1\n",
      "temp: 2\n",
      "temp: 3\n",
      "temp: 4\n",
      "temp: 1\n",
      "temp: 2\n",
      "temp: 3\n",
      "temp: 4\n",
      "temp: 5\n",
      "temp: 1\n",
      "temp: 2\n",
      "temp: 3\n",
      "temp: 4\n",
      "temp: 5\n",
      "temp: 6\n",
      "56\n"
     ]
    }
   ],
   "source": [
    "class Solution():\n",
    "    def __init__(self):\n",
    "        self.memo = {}\n",
    "        # print(self.memo)\n",
    "        \n",
    "    def pathCount(self,n,m):\n",
    "        if n == 0 or m == 0:\n",
    "            self.memo[(0,0)] = 1\n",
    "            return 1\n",
    "        \n",
    "        if n == 1 or m == 1:\n",
    "            if n == 1:\n",
    "                self.memo[(1,m)] = m + 1\n",
    "            elif m == 1:\n",
    "                self.memo[(n,1)] = n + 1    \n",
    "            return max(m+1,n+1)\n",
    "        if n > 1:\n",
    "            count = 0\n",
    "            for i in range(m+1):\n",
    "                temp = pathCount(n-1,i)\n",
    "                # print('temp:',temp)\n",
    "                count += temp\n",
    "        self.memo[(n,m)] = count\n",
    "\n",
    "        # print(self.memo)\n",
    "        return count\n",
    "\n",
    "# print(pathCount(n = 0, m = 3))\n",
    "# print(pathCount(n = 1, m = 0))\n",
    "# print(pathCount(n = 1, m = 1))\n",
    "# print(pathCount(n = 2, m = 2))\n",
    "example = Solution()\n",
    "print(example.pathCount(n = 3, m = 5))\n"
   ]
  },
  {
   "cell_type": "code",
   "execution_count": 13,
   "metadata": {},
   "outputs": [
    {
     "name": "stdout",
     "output_type": "stream",
     "text": [
      "{(2, 3): 10}\n"
     ]
    }
   ],
   "source": [
    "print(example.memo)"
   ]
  },
  {
   "cell_type": "markdown",
   "metadata": {},
   "source": [
    "### 62. Unique Paths\n",
    "Medium\n",
    "\n",
    "There is a robot on an m x n grid. The robot is initially located at the top-left corner (i.e., grid[0][0]). The robot tries to move to the bottom-right corner (i.e., grid[m - 1][n - 1]). The robot can only move either down or right at any point in time.\n",
    "\n",
    "Given the two integers m and n, return the number of possible unique paths that the robot can take to reach the bottom-right corner.\n",
    "\n",
    "The test cases are generated so that the answer will be less than or equal to 2 * 109.\n",
    "\n"
   ]
  },
  {
   "cell_type": "code",
   "execution_count": 15,
   "metadata": {},
   "outputs": [
    {
     "name": "stdout",
     "output_type": "stream",
     "text": [
      "1\n",
      "1\n",
      "2\n",
      "6\n",
      "56\n"
     ]
    }
   ],
   "source": [
    "def uniquePaths(m,n):\n",
    "    if m == 0 or n == 0:\n",
    "        return 1\n",
    "    return uniquePaths(m-1,n) + uniquePaths(m,n-1)\n",
    "\n",
    "\n",
    "print(uniquePaths(n = 0, m = 3))\n",
    "print(uniquePaths(n = 1, m = 0))\n",
    "print(uniquePaths(n = 1, m = 1))\n",
    "print(uniquePaths(n = 2, m = 2))\n",
    "print(uniquePaths(n = 3, m = 5))"
   ]
  },
  {
   "cell_type": "code",
   "execution_count": 29,
   "metadata": {},
   "outputs": [
    {
     "name": "stdout",
     "output_type": "stream",
     "text": [
      "1\n",
      "[[1], [1], [1], [1]]\n",
      "1\n",
      "1\n",
      "[[1, 1]]\n",
      "1\n",
      "1\n",
      "[[1, 1], [1, 2]]\n",
      "2\n",
      "1\n",
      "[[1, 1, 1], [1, 2, 3], [1, 3, 6]]\n",
      "6\n",
      "1\n",
      "[[1, 1, 1, 1], [1, 2, 3, 4], [1, 3, 6, 10], [1, 4, 10, 20], [1, 5, 15, 35], [1, 6, 21, 56]]\n",
      "56\n"
     ]
    }
   ],
   "source": [
    "\n",
    "def uniquePaths( m: int, n: int) -> int:\n",
    "    d = [[1] * (n+1) for _ in range(m+1)]\n",
    "    print(d[0][0])\n",
    "    \n",
    "    for col in range(1, m+1):\n",
    "        for row in range(1, n+1):\n",
    "            d[col][row] = d[col - 1][row] + d[col][row - 1]\n",
    "\n",
    "    print(d)       \n",
    "\n",
    "    return d[m][n]\n",
    "\n",
    "\n",
    "print(uniquePaths(n = 0, m = 3))\n",
    "print(uniquePaths(n = 1, m = 0))\n",
    "print(uniquePaths(n = 1, m = 1))\n",
    "print(uniquePaths(n = 2, m = 2))\n",
    "print(uniquePaths(n = 3, m = 5))\n"
   ]
  },
  {
   "cell_type": "code",
   "execution_count": null,
   "metadata": {},
   "outputs": [],
   "source": []
  }
 ],
 "metadata": {
  "kernelspec": {
   "display_name": "Python 3.9.6 64-bit",
   "language": "python",
   "name": "python3"
  },
  "language_info": {
   "codemirror_mode": {
    "name": "ipython",
    "version": 3
   },
   "file_extension": ".py",
   "mimetype": "text/x-python",
   "name": "python",
   "nbconvert_exporter": "python",
   "pygments_lexer": "ipython3",
   "version": "3.9.6"
  },
  "orig_nbformat": 4,
  "vscode": {
   "interpreter": {
    "hash": "aee8b7b246df8f9039afb4144a1f6fd8d2ca17a180786b69acc140d282b71a49"
   }
  }
 },
 "nbformat": 4,
 "nbformat_minor": 2
}
