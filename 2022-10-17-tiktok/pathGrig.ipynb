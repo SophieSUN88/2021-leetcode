{
 "cells": [
  {
   "cell_type": "markdown",
   "metadata": {},
   "source": [
    "### Path on a Grid\n",
    "Description:\n",
    "\n",
    "Given a gid, how many paths are there from (0,0) to (n,m)?\n",
    "you can only move from （x,y) to (x,y+1) or (x+1,y). For 60% data, 1<=n,m<=10, for 100% data, 1<=n,m<=30.\n",
    "\n",
    "example: n = 2, m =2, ans is 6.\n",
    "\n",
    "Notice: input and output will be string.\n",
    "- input: \n",
    "- 2\n",
    "- 2\n",
    "- output:\n",
    "- 6"
   ]
  },
  {
   "cell_type": "code",
   "execution_count": 4,
   "metadata": {},
   "outputs": [
    {
     "name": "stdout",
     "output_type": "stream",
     "text": [
      "1\n",
      "1\n",
      "2\n",
      "temp: 1\n",
      "temp: 2\n",
      "temp: 3\n",
      "6\n",
      "temp: 1\n",
      "temp: 2\n",
      "temp: 3\n",
      "temp: 4\n",
      "10\n"
     ]
    }
   ],
   "source": [
    "def pathCount(n,m):\n",
    "    \n",
    "    if n == 0 or m == 0:\n",
    "        return 1\n",
    "    \n",
    "    if n == 1 or m == 1:\n",
    "        return max(m+1,n+1)\n",
    "    if n > 1:\n",
    "        count = 0\n",
    "        for i in range(m+1):\n",
    "            temp = pathCount(n-1,i)\n",
    "            print('temp:',temp)\n",
    "            count += temp\n",
    "    return count\n",
    "\n",
    "print(pathCount(n = 0, m = 3))\n",
    "print(pathCount(n = 1, m = 0))\n",
    "print(pathCount(n = 1, m = 1))\n",
    "print(pathCount(n = 2, m = 2))\n",
    "print(pathCount(n = 2, m = 3))\n"
   ]
  },
  {
   "cell_type": "code",
   "execution_count": 14,
   "metadata": {},
   "outputs": [
    {
     "name": "stdout",
     "output_type": "stream",
     "text": [
      "{}\n",
      "temp: 1\n",
      "temp: 3\n",
      "temp: 1\n",
      "temp: 2\n",
      "temp: 3\n",
      "{(2, 2): 6}\n",
      "temp: 6\n",
      "temp: 1\n",
      "temp: 2\n",
      "temp: 3\n",
      "temp: 4\n",
      "{(2, 3): 10}\n",
      "temp: 10\n",
      "20\n"
     ]
    }
   ],
   "source": [
    "class Solution():\n",
    "    def __init__(self):\n",
    "        self.memo = {}\n",
    "        print(self.memo)\n",
    "        \n",
    "    def pathCount(self,n,m):\n",
    "        if n == 0 or m == 0:\n",
    "            self.memo[(0,0)] = 1\n",
    "            return 1\n",
    "        \n",
    "        if n == 1 or m == 1:\n",
    "            if n == 1:\n",
    "                self.memo[(1,m)] = m + 1\n",
    "            elif m == 1:\n",
    "                self.memo[(n,1)] = n + 1    \n",
    "            return max(m+1,n+1)\n",
    "        if n > 1:\n",
    "            count = 0\n",
    "            for i in range(m+1):\n",
    "                temp = pathCount(n-1,i)\n",
    "                print('temp:',temp)\n",
    "                count += temp\n",
    "        self.memo[(n,m)] = count\n",
    "\n",
    "        return count\n",
    "\n",
    "# print(pathCount(n = 0, m = 3))\n",
    "# print(pathCount(n = 1, m = 0))\n",
    "# print(pathCount(n = 1, m = 1))\n",
    "# print(pathCount(n = 2, m = 2))\n",
    "example = Solution()\n",
    "print(example.pathCount(n = 3, m = 3))\n"
   ]
  },
  {
   "cell_type": "code",
   "execution_count": 13,
   "metadata": {},
   "outputs": [
    {
     "name": "stdout",
     "output_type": "stream",
     "text": [
      "{(2, 3): 10}\n"
     ]
    }
   ],
   "source": [
    "print(example.memo)"
   ]
  },
  {
   "cell_type": "code",
   "execution_count": null,
   "metadata": {},
   "outputs": [],
   "source": []
  }
 ],
 "metadata": {
  "kernelspec": {
   "display_name": "Python 3.9.6 64-bit",
   "language": "python",
   "name": "python3"
  },
  "language_info": {
   "codemirror_mode": {
    "name": "ipython",
    "version": 3
   },
   "file_extension": ".py",
   "mimetype": "text/x-python",
   "name": "python",
   "nbconvert_exporter": "python",
   "pygments_lexer": "ipython3",
   "version": "3.9.6"
  },
  "orig_nbformat": 4,
  "vscode": {
   "interpreter": {
    "hash": "aee8b7b246df8f9039afb4144a1f6fd8d2ca17a180786b69acc140d282b71a49"
   }
  }
 },
 "nbformat": 4,
 "nbformat_minor": 2
}
