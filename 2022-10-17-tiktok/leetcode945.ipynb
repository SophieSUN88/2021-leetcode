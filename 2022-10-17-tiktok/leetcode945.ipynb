{
 "cells": [
  {
   "cell_type": "markdown",
   "metadata": {},
   "source": [
    "### 945. Minimum Increment to Make Array Unique\n",
    "Medium\n",
    "\n",
    "You are given an integer array nums. In one move, you can pick an index i where 0 <= i < nums.length and increment nums[i] by 1.\n",
    "\n",
    "Return the minimum number of moves to make every value in nums unique.\n",
    "\n",
    "The test cases are generated so that the answer fits in a 32-bit integer.\n",
    "\n",
    " \n",
    "\n",
    "Example 1:\n",
    "\n",
    "Input: nums = [1,2,2]\n",
    "Output: 1\n",
    "Explanation: After 1 move, the array could be [1, 2, 3].\n",
    "\n",
    "Example 2:\n",
    "\n",
    "Input: nums = [3,2,1,2,1,7]\n",
    "Output: 6\n",
    "Explanation: After 6 moves, the array could be [3, 4, 1, 2, 5, 7].\n",
    "It can be shown with 5 or less moves that it is impossible for the array to have all unique values.\n",
    " \n",
    "\n",
    "Constraints:\n",
    "\n",
    "1 <= nums.length <= 105\n",
    "0 <= nums[i] <= 105"
   ]
  },
  {
   "cell_type": "code",
   "execution_count": 1,
   "metadata": {},
   "outputs": [
    {
     "name": "stdout",
     "output_type": "stream",
     "text": [
      "Counter({1: 4, 3: 1, 5: 1})\n",
      "[1, 1, 1]\n",
      "1\n",
      "[1, 1]\n",
      "4\n",
      "[1]\n",
      "9\n",
      "[]\n"
     ]
    },
    {
     "data": {
      "text/plain": [
       "9"
      ]
     },
     "execution_count": 1,
     "metadata": {},
     "output_type": "execute_result"
    }
   ],
   "source": [
    "from collections import Counter\n",
    "class Solution:\n",
    "    def minIncrementForUnique(self, nums: list[int]) -> int:\n",
    "        max_val = max(nums)\n",
    "        count = Counter(nums)\n",
    "        taken = []\n",
    "        print(count)\n",
    "        \n",
    "        moves = 0\n",
    "        for x in range(len(nums) + max_val):\n",
    "            if count[x] >= 2:\n",
    "                taken.extend([x] * (count[x] - 1))\n",
    "                print(taken)\n",
    "            elif taken and count[x] == 0:\n",
    "                moves += x - taken.pop()\n",
    "                print(moves)\n",
    "                print(taken)\n",
    "                \n",
    "        return moves\n",
    "example = Solution()\n",
    "example.minIncrementForUnique(nums = [1, 1, 1, 1, 3, 5])"
   ]
  },
  {
   "cell_type": "code",
   "execution_count": null,
   "metadata": {},
   "outputs": [],
   "source": []
  }
 ],
 "metadata": {
  "kernelspec": {
   "display_name": "Python 3.9.6 64-bit",
   "language": "python",
   "name": "python3"
  },
  "language_info": {
   "codemirror_mode": {
    "name": "ipython",
    "version": 3
   },
   "file_extension": ".py",
   "mimetype": "text/x-python",
   "name": "python",
   "nbconvert_exporter": "python",
   "pygments_lexer": "ipython3",
   "version": "3.9.6"
  },
  "orig_nbformat": 4,
  "vscode": {
   "interpreter": {
    "hash": "aee8b7b246df8f9039afb4144a1f6fd8d2ca17a180786b69acc140d282b71a49"
   }
  }
 },
 "nbformat": 4,
 "nbformat_minor": 2
}
