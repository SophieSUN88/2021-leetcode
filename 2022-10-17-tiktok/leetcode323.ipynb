{
 "cells": [
  {
   "cell_type": "markdown",
   "metadata": {},
   "source": [
    "### 323. Number of Connected Components in an Undirected Graph\n",
    "Medium\n",
    "\n",
    "You have a graph of n nodes. You are given an integer n and an array edges where edges[i] = [ai, bi] indicates that there is an edge between ai and bi in the graph.\n",
    "\n",
    "Return the number of connected components in the graph.\n",
    "\n",
    " \n",
    "\n",
    "Example 1:\n",
    "\n",
    "\n",
    "Input: n = 5, edges = [[0,1],[1,2],[3,4]]\n",
    "Output: 2\n",
    "\n",
    "Example 2:\n",
    "\n",
    "\n",
    "Input: n = 5, edges = [[0,1],[1,2],[2,3],[3,4]]\n",
    "Output: 1\n",
    " \n",
    "\n",
    "Constraints:\n",
    "\n",
    "1 <= n <= 2000\n",
    "1 <= edges.length <= 5000\n",
    "edges[i].length == 2\n",
    "0 <= ai <= bi < n\n",
    "ai != bi\n",
    "There are no repeated edges."
   ]
  },
  {
   "cell_type": "code",
   "execution_count": 2,
   "metadata": {},
   "outputs": [
    {
     "name": "stdout",
     "output_type": "stream",
     "text": [
      "2\n",
      "1\n"
     ]
    }
   ],
   "source": [
    "class Solution:\n",
    "    def countComponents(self, n: int, edges: list[list[int]]) -> int:\n",
    "        \n",
    "        def dfs(adjList, visited,startNode):\n",
    "            visited[startNode] = 1\n",
    "            for i in range(len(adjList[startNode])):\n",
    "                if visited[adjList[startNode][i]] == 0:\n",
    "                    dfs(adjList,visited,adjList[startNode][i])\n",
    "        component = 0\n",
    "        visited = [0] * n\n",
    "        \n",
    "        # create adjList\n",
    "        adjList = [[] for i in range(n)]\n",
    "        \n",
    "        \n",
    "        for i in range(len(edges)):\n",
    "            adjList[edges[i][0]].append(edges[i][1])\n",
    "            adjList[edges[i][1]].append(edges[i][0])\n",
    "        \n",
    "        #check all number in n\n",
    "        for i in range(n):\n",
    "            if visited[i] == 0:\n",
    "                component +=1\n",
    "                dfs(adjList, visited, i)\n",
    "        \n",
    "        return component\n",
    "\n",
    "example = Solution()\n",
    "print(example.countComponents(5,[[0,1],[1,2],[3,4]]))\n",
    "print(example.countComponents(5,[[0,1],[1,2],[2,3],[3,4]]))"
   ]
  },
  {
   "cell_type": "code",
   "execution_count": null,
   "metadata": {},
   "outputs": [],
   "source": []
  }
 ],
 "metadata": {
  "kernelspec": {
   "display_name": "Python 3.9.6 64-bit",
   "language": "python",
   "name": "python3"
  },
  "language_info": {
   "codemirror_mode": {
    "name": "ipython",
    "version": 3
   },
   "file_extension": ".py",
   "mimetype": "text/x-python",
   "name": "python",
   "nbconvert_exporter": "python",
   "pygments_lexer": "ipython3",
   "version": "3.9.6"
  },
  "orig_nbformat": 4,
  "vscode": {
   "interpreter": {
    "hash": "aee8b7b246df8f9039afb4144a1f6fd8d2ca17a180786b69acc140d282b71a49"
   }
  }
 },
 "nbformat": 4,
 "nbformat_minor": 2
}
