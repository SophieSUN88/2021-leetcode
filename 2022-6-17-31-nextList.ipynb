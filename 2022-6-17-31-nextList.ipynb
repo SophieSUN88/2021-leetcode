{
 "cells": [
  {
   "cell_type": "markdown",
   "metadata": {},
   "source": [
    "### 31. 下一个排列 medium\n",
    "\n",
    "整数数组的一个 排列  就是将其所有成员以序列或线性顺序排列。\n",
    "\n",
    "例如，arr = [1,2,3] ，以下这些都可以视作 arr 的排列：[1,2,3]、[1,3,2]、[3,1,2]、[2,3,1] 。\n",
    "整数数组的 下一个排列 是指其整数的下一个字典序更大的排列。更正式地，如果数组的所有排列根据其字典顺序从小到大排列在一个容器中，那么数组的 下一个排列 就是在这个有序容器中排在它后面的那个排列。如果不存在下一个更大的排列，那么这个数组必须重排为字典序最小的排列（即，其元素按升序排列）。\n",
    "\n",
    "例如，arr = [1,2,3] 的下一个排列是 [1,3,2] 。\n",
    "\n",
    "类似地，arr = [2,3,1] 的下一个排列是 [3,1,2] 。\n",
    "\n",
    "而 arr = [3,2,1] 的下一个排列是 [1,2,3] ，因为 [3,2,1] 不存在一个字典序更大的排列。\n",
    "给你一个整数数组 nums ，找出 nums 的下一个排列。\n",
    "\n",
    "必须 原地 修改，只允许使用额外常数空间。\n",
    "\n",
    "输入：nums = [1,2,3]\n",
    "输出：[1,3,2]\n",
    "\n",
    "输入：nums = [3,2,1]\n",
    "输出：[1,2,3]"
   ]
  },
  {
   "cell_type": "code",
   "execution_count": 23,
   "metadata": {},
   "outputs": [],
   "source": [
    "class Solution(object):\n",
    "    def nextPermutation(self, nums):\n",
    "        right = len(nums) -1\n",
    "        while right>0:\n",
    "            if nums[right] > nums[right-1]:\n",
    "                temp = nums[right-1]\n",
    "                nums[right-1]=nums[right]\n",
    "                nums[right]=temp\n",
    "                break\n",
    "            else:\n",
    "                right -=1\n",
    "    \n",
    "\n",
    "        print(nums)\n",
    "        nums[right:]=sorted(nums[right:])\n",
    "        print(nums)"
   ]
  },
  {
   "cell_type": "code",
   "execution_count": 24,
   "metadata": {},
   "outputs": [
    {
     "name": "stdout",
     "output_type": "stream",
     "text": [
      "[5, 2, 3, 4, 1, 3, 2, 0]\n",
      "[5, 2, 3, 4, 0, 1, 2, 3]\n"
     ]
    }
   ],
   "source": [
    "example = Solution()\n",
    "nums=[5,2,3,1,4,3,2,0]\n",
    "a = example.nextPermutation(nums)"
   ]
  },
  {
   "cell_type": "code",
   "execution_count": 25,
   "metadata": {},
   "outputs": [
    {
     "name": "stdout",
     "output_type": "stream",
     "text": [
      "[5, 4, 3, 2, 1]\n",
      "[1, 2, 3, 4, 5]\n"
     ]
    }
   ],
   "source": [
    "example = Solution()\n",
    "nums=[5,4,3,2,1]\n",
    "a = example.nextPermutation(nums)"
   ]
  },
  {
   "cell_type": "code",
   "execution_count": 26,
   "metadata": {},
   "outputs": [],
   "source": [
    "class Solution(object):\n",
    "    def nextPermutation(self, nums):\n",
    "        right = len(nums)-1\n",
    "        print(nums)\n",
    "        while right>0:\n",
    "            if nums[right] > nums[right-1]:\n",
    "                a = right\n",
    "                for i in range(right+1,len(nums)):\n",
    "                    if nums[i]>nums[right-1]:\n",
    "                        a = i\n",
    "                temp = nums[right-1]\n",
    "                nums[right-1]=nums[a]\n",
    "                nums[a]=temp\n",
    "                break\n",
    "            else:\n",
    "                right -=1\n",
    "        print(nums)\n",
    "        nums[right:]=sorted(nums[right:])\n",
    "        print(nums)\n",
    "    "
   ]
  },
  {
   "cell_type": "code",
   "execution_count": 27,
   "metadata": {},
   "outputs": [
    {
     "name": "stdout",
     "output_type": "stream",
     "text": [
      "[3, 5, 7, 6, 3, 2, 1]\n",
      "[3, 6, 7, 5, 3, 2, 1]\n",
      "[3, 6, 1, 2, 3, 5, 7]\n"
     ]
    }
   ],
   "source": [
    "example = Solution()\n",
    "nums=[3,5,7,6,3,2,1]\n",
    "a = example.nextPermutation(nums)"
   ]
  },
  {
   "cell_type": "code",
   "execution_count": 28,
   "metadata": {},
   "outputs": [
    {
     "name": "stdout",
     "output_type": "stream",
     "text": [
      "[4, 3, 2]\n",
      "[4, 3, 2]\n",
      "[2, 3, 4]\n"
     ]
    }
   ],
   "source": [
    "example = Solution()\n",
    "nums=[4,3,2]\n",
    "a = example.nextPermutation(nums)"
   ]
  },
  {
   "cell_type": "code",
   "execution_count": null,
   "metadata": {},
   "outputs": [],
   "source": []
  }
 ],
 "metadata": {
  "interpreter": {
   "hash": "aee8b7b246df8f9039afb4144a1f6fd8d2ca17a180786b69acc140d282b71a49"
  },
  "kernelspec": {
   "display_name": "Python 3.9.6 64-bit",
   "language": "python",
   "name": "python3"
  },
  "language_info": {
   "codemirror_mode": {
    "name": "ipython",
    "version": 3
   },
   "file_extension": ".py",
   "mimetype": "text/x-python",
   "name": "python",
   "nbconvert_exporter": "python",
   "pygments_lexer": "ipython3",
   "version": "3.9.6"
  },
  "orig_nbformat": 4
 },
 "nbformat": 4,
 "nbformat_minor": 2
}
