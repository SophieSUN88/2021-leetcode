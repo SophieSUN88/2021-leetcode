{
 "cells": [
  {
   "cell_type": "markdown",
   "metadata": {},
   "source": [
    "## 217. Contains Duplicate\n",
    "Given an integer array nums, return true if any value appears at least twice in the array, and return false if every element is distinct.\n",
    "- Example 1:\n",
    "    - Input: nums = [1,2,3,1]\n",
    "    - Output: true\n",
    "- Example 2:\n",
    "    - Input: nums = [1,2,3,4]\n",
    "    - Output: false\n",
    "- Example 3:\n",
    "    - Input: nums = [1,1,1,3,3,4,3,2,4,2]\n",
    "    - Output: true\n"
   ]
  },
  {
   "cell_type": "markdown",
   "metadata": {},
   "source": [
    "## Solution 1\n",
    "- 56ms\n",
    "\n",
    "make a dict of all the elements in the list of numbers, when the element appear second time, return true."
   ]
  },
  {
   "cell_type": "code",
   "execution_count": 5,
   "metadata": {},
   "outputs": [
    {
     "name": "stdout",
     "output_type": "stream",
     "text": [
      "True\n",
      "False\n",
      "True\n"
     ]
    }
   ],
   "source": [
    "# solution 1\n",
    "def containsDuplicate(nums):\n",
    "        dict = {}\n",
    "        for i in nums:\n",
    "            if i in dict:\n",
    "                return True\n",
    "            dict[i]=1\n",
    "        return False\n",
    "nums1=[1,2,3,1]\n",
    "nums2 = [1,2,3,4]\n",
    "nums3=[1,1,1,3,3,4,3,2,4,2]\n",
    "print(containsDuplicate(nums1))\n",
    "print(containsDuplicate(nums2))\n",
    "print(containsDuplicate(nums3))"
   ]
  },
  {
   "cell_type": "markdown",
   "metadata": {},
   "source": [
    "## Solution 2\n",
    "- 52ms\n",
    "if the length of set(nums) < length of nums, means there exists at least one element appear more than once.\n",
    "### **set()**\n",
    "- set() method is used to convert any of the iterable to sequence of iterable elements with distinct elements, commonly called Set.   \n",
    "- **Syntax** : set(iterable)  \n",
    "- **Parameters** : Any iterable sequence like list, tuple or dictionary.  \n",
    "- **Returns** : An empty set if no element is passed. Non-repeating element iterable modified as passed as argument.   "
   ]
  },
  {
   "cell_type": "code",
   "execution_count": null,
   "metadata": {},
   "outputs": [],
   "source": [
    "# solution 2\n",
    "def containsDuplicate(nums):\n",
    "    return len(nums) != len(set(nums))"
   ]
  },
  {
   "cell_type": "markdown",
   "metadata": {},
   "source": [
    "## Solution 3\n",
    "- 56ms\n",
    "### defaultdict()\n",
    "- Defaultdict is a container like dictionaries present in the module collections. Defaultdict is a sub-class of the dictionary class that returns a dictionary-like object. The functionality of both dictionaries and defualtdict are almost same except for the fact that defualtdict never raises a KeyError. It provides a default value for the key that does not exists.\n",
    "    - Syntax: defaultdict(default_factory)\n",
    "    - Parameters:  \n",
    "        - default_factory: A function returning the default value for the dictionary defined. If this argument is absent then the dictionary raises a KeyError.\n",
    "- Using **List** as default_factory\n",
    "    - When the list class is passed as the default_factory argument, then a defaultdict is created with the values that are list.\n",
    "- Using **int** as default_factory\n",
    "    - When the int class is passed as the default_factory argument, then a defaultdict is created with default value as zero."
   ]
  },
  {
   "cell_type": "code",
   "execution_count": 5,
   "metadata": {},
   "outputs": [
    {
     "name": "stdout",
     "output_type": "stream",
     "text": [
      "True\n",
      "False\n",
      "True\n"
     ]
    }
   ],
   "source": [
    "from collections import defaultdict\n",
    "def containsDuplicate(nums):\n",
    "    hasp_map = defaultdict(int)\n",
    "    for num in nums:\n",
    "        hasp_map[num] +=1\n",
    "        if hasp_map[num] >1:\n",
    "            return True\n",
    "    return False\n",
    "nums1=[1,2,3,1]\n",
    "nums2 = [1,2,3,4]\n",
    "nums3=[1,1,1,3,3,4,3,2,4,2]\n",
    "print(containsDuplicate(nums1))\n",
    "print(containsDuplicate(nums2))\n",
    "print(containsDuplicate(nums3))"
   ]
  },
  {
   "cell_type": "markdown",
   "metadata": {},
   "source": [
    "## Solution 4 \n",
    "- 92ms\n",
    "- not good"
   ]
  },
  {
   "cell_type": "code",
   "execution_count": 8,
   "metadata": {},
   "outputs": [
    {
     "name": "stdout",
     "output_type": "stream",
     "text": [
      "True\n",
      "False\n",
      "True\n"
     ]
    }
   ],
   "source": [
    "def containsDuplicate(nums):\n",
    "    n=len(nums)\n",
    "    nums.sort()\n",
    "        \n",
    "    for i in range(n-1):\n",
    "        if nums[i] == nums[i+1]:\n",
    "            return True\n",
    "    return False\n",
    "nums1=[1,2,3,1]\n",
    "nums2 = [1,2,3,4]\n",
    "nums3=[1,1,1,3,3,4,3,2,4,2]\n",
    "print(containsDuplicate(nums1))\n",
    "print(containsDuplicate(nums2))\n",
    "print(containsDuplicate(nums3))"
   ]
  }
 ],
 "metadata": {
  "interpreter": {
   "hash": "aee8b7b246df8f9039afb4144a1f6fd8d2ca17a180786b69acc140d282b71a49"
  },
  "kernelspec": {
   "display_name": "Python 3.9.6 64-bit",
   "language": "python",
   "name": "python3"
  },
  "language_info": {
   "codemirror_mode": {
    "name": "ipython",
    "version": 3
   },
   "file_extension": ".py",
   "mimetype": "text/x-python",
   "name": "python",
   "nbconvert_exporter": "python",
   "pygments_lexer": "ipython3",
   "version": "3.9.6"
  },
  "orig_nbformat": 4
 },
 "nbformat": 4,
 "nbformat_minor": 2
}
