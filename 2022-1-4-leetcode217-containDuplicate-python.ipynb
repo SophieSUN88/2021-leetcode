{
 "cells": [
  {
   "cell_type": "markdown",
   "metadata": {},
   "source": [
    "## 217. Contains Duplicate\n",
    "Given an integer array nums, return true if any value appears at least twice in the array, and return false if every element is distinct.\n",
    "- Example 1:\n",
    "    - Input: nums = [1,2,3,1]\n",
    "    - Output: true\n",
    "- Example 2:\n",
    "    - Input: nums = [1,2,3,4]\n",
    "    - Output: false\n",
    "- Example 3:\n",
    "    - Input: nums = [1,1,1,3,3,4,3,2,4,2]\n",
    "    - Output: true\n"
   ]
  },
  {
   "cell_type": "markdown",
   "metadata": {},
   "source": [
    "## Solution 1\n",
    "make a dict of all the elements in the list of numbers, when the element appear second time, return true."
   ]
  },
  {
   "cell_type": "code",
   "execution_count": 5,
   "metadata": {},
   "outputs": [
    {
     "name": "stdout",
     "output_type": "stream",
     "text": [
      "True\n",
      "False\n",
      "True\n"
     ]
    }
   ],
   "source": [
    "# solution 1\n",
    "def containsDuplicate(nums):\n",
    "        dict = {}\n",
    "        for i in nums:\n",
    "            if i in dict:\n",
    "                return True\n",
    "            dict[i]=1\n",
    "        return False\n",
    "nums1=[1,2,3,1]\n",
    "nums2 = [1,2,3,4]\n",
    "nums3=[1,1,1,3,3,4,3,2,4,2]\n",
    "print(containsDuplicate(nums1))\n",
    "print(containsDuplicate(nums2))\n",
    "print(containsDuplicate(nums3))"
   ]
  },
  {
   "cell_type": "markdown",
   "metadata": {},
   "source": [
    "## Solution 2\n",
    "if the length of set(nums) < length of nums, means there exists at least one element appear more than once.\n",
    "### **set()**\n",
    "- set() method is used to convert any of the iterable to sequence of iterable elements with distinct elements, commonly called Set.   \n",
    "- **Syntax** : set(iterable)  \n",
    "- **Parameters** : Any iterable sequence like list, tuple or dictionary.  \n",
    "- **Returns** : An empty set if no element is passed. Non-repeating element iterable modified as passed as argument.   "
   ]
  },
  {
   "cell_type": "code",
   "execution_count": null,
   "metadata": {},
   "outputs": [],
   "source": [
    "# solution 2\n",
    "def containsDuplicate(nums):\n",
    "    return len(nums) != len(set(nums))"
   ]
  }
 ],
 "metadata": {
  "interpreter": {
   "hash": "aee8b7b246df8f9039afb4144a1f6fd8d2ca17a180786b69acc140d282b71a49"
  },
  "kernelspec": {
   "display_name": "Python 3.9.6 64-bit",
   "language": "python",
   "name": "python3"
  },
  "language_info": {
   "codemirror_mode": {
    "name": "ipython",
    "version": 3
   },
   "file_extension": ".py",
   "mimetype": "text/x-python",
   "name": "python",
   "nbconvert_exporter": "python",
   "pygments_lexer": "ipython3",
   "version": "3.9.6"
  },
  "orig_nbformat": 4
 },
 "nbformat": 4,
 "nbformat_minor": 2
}
