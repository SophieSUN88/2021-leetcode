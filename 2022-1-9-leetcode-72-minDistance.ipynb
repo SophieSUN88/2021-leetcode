{
 "cells": [
  {
   "cell_type": "markdown",
   "metadata": {},
   "source": [
    "## leetcode 72.  Edit Distance (hard)\n",
    "- Given two strings word1 and word2, return the minimum number of operations required to convert word1 to word2.\n",
    "- You have the following three operations permitted on a word:\n",
    "    - Insert a character\n",
    "    - Delete a character\n",
    "    - Replace a character\n",
    "- Example 1:\n",
    "    - Input: word1 = \"horse\", word2 = \"ros\"\n",
    "    - Output: 3\n",
    "    - Explanation: \n",
    "        - horse -> rorse (replace 'h' with 'r')\n",
    "        - rorse -> rose (remove 'r')\n",
    "        - rose -> ros (remove 'e')\n",
    "- Example 2:\n",
    "    - Input: word1 = \"intention\", word2 = \"execution\"\n",
    "    - Output: 5\n",
    "    - Explanation: \n",
    "        - intention -> inention (remove 't')\n",
    "        - inention -> enention (replace 'i' with 'e')\n",
    "        - enention -> exention (replace 'n' with 'x')\n",
    "        - exention -> exection (replace 'n' with 'c')\n",
    "        - exection -> execution (insert 'u')"
   ]
  },
  {
   "cell_type": "markdown",
   "metadata": {},
   "source": [
    "### Solution 1\n",
    "We find that:\n",
    "\n",
    "word A insert a character is equal to word B delete a character;  \n",
    "word A delete a character is equal to word B insert a character;  \n",
    "word A replace a character is equal to word B replace a character;  \n",
    "so we can say three operations are:\n",
    "- Word A insert a character;\n",
    "- Word B insert a character;\n",
    "- Word A replace a character.\n",
    "\n",
    "1. Word A insert a character: if we kown the min edit distance from wordA[0:m] to wordB[0:n-1] is a, then after a times operation, we only need add \"wordB[n]\" 1 time or not to become wordB[0:n], so minDistance is less or equal to a+1;\n",
    "2. Word B insert a character: if we know the min edit distance from wordA[0:m-1] to wordB[0:n] is b, then after b times operation, we only need delete \"wordA[m]\" 1 time or not to become wordB[0:n], so minDistance is less or equal to b+1;\n",
    "3. Word A replace a character: if we know the min edit distance from wordA[0:m-1] to wordB[0:n-1] is c, then after c times operation, we only need add \"wordB[n]\" 1 time or not to become wordB[0:n], so minDistance is less or equal to c+1.\n",
    "\n",
    "- so if wordA[i] == wordA[j]: D[i][j]=1+min (D[i][j-1],D[i-1][j],D[i-1][j-1]-1)\n",
    "- if wordA[i] != wordB[j]: D[i][j]=1+ min(D[i][j-1],D[i-1][j],D[i-1][j-1])\n",
    "- if wordA or wordB is null: D[i][0]=i, D[0][j]=j"
   ]
  },
  {
   "cell_type": "code",
   "execution_count": 1,
   "metadata": {},
   "outputs": [],
   "source": [
    "# Solution 1 (148ms)\n",
    "def minDistance(word1, word2):\n",
    "    n=len(word1)\n",
    "    m=len(word2)\n",
    "\n",
    "    # if one word is null\n",
    "    if n*m==0:\n",
    "        return n+m\n",
    "    # D[i][j]\n",
    "    D=[[0]*(m+1) for _ in range(n+1)]\n",
    "    # define the edge\n",
    "    for i in range(n+1):\n",
    "        D[i][0]=i\n",
    "    for j in range(m+1):\n",
    "        D[0][j]=j\n",
    "\n",
    "    # minDistance\n",
    "    for i in range(1,n+1):\n",
    "        for j in range(1,m+1):\n",
    "            left = D[i-1][j] + 1\n",
    "            down = D[i][j-1] + 1\n",
    "            left_down = D[i-1][j-1]\n",
    "            if word1[i-1] != word2[j-1]:\n",
    "                left_down +=1\n",
    "            D[i][j] = min(left, down, left_down)\n",
    "    return D[n][m]"
   ]
  },
  {
   "cell_type": "code",
   "execution_count": 2,
   "metadata": {},
   "outputs": [
    {
     "name": "stdout",
     "output_type": "stream",
     "text": [
      "3\n",
      "5\n"
     ]
    }
   ],
   "source": [
    "word1 = \"horse\"\n",
    "word2 = \"ros\"\n",
    "print(minDistance(word1,word2))\n",
    "word3 = \"intention\"\n",
    "word4 = \"execution\"\n",
    "print(minDistance(word3,word4))"
   ]
  },
  {
   "cell_type": "code",
   "execution_count": 3,
   "metadata": {},
   "outputs": [],
   "source": [
    "# Solution 2 (132ms)\n",
    "def minDistance2(word1, word2):\n",
    "    n=len(word1)\n",
    "    m=len(word2)\n",
    "\n",
    "    # if one word is null\n",
    "    if n*m==0:\n",
    "        return n+m\n",
    "    # D[i][j]\n",
    "    D=[[0]*(m+1) for _ in range(n+1)]\n",
    "    # define the edge\n",
    "    for i in range(n+1):\n",
    "        D[i][0]=i\n",
    "    for j in range(m+1):\n",
    "        D[0][j]=j\n",
    "\n",
    "    # minDistance\n",
    "    for i in range(1,n+1):\n",
    "        for j in range(1,m+1):\n",
    "            if word1[i-1] == word2[j-1]:\n",
    "                D[i][j]=D[i-1][j-1]\n",
    "            else:\n",
    "                D[i][j]=1+min(D[i][j-1],D[i-1][j],D[i-1][j-1])\n",
    "    return D[n][m]"
   ]
  },
  {
   "cell_type": "code",
   "execution_count": 4,
   "metadata": {},
   "outputs": [
    {
     "name": "stdout",
     "output_type": "stream",
     "text": [
      "3\n",
      "5\n"
     ]
    }
   ],
   "source": [
    "word1 = \"horse\"\n",
    "word2 = \"ros\"\n",
    "print(minDistance2(word1,word2))\n",
    "word3 = \"intention\"\n",
    "word4 = \"execution\"\n",
    "print(minDistance2(word3,word4))"
   ]
  },
  {
   "cell_type": "code",
   "execution_count": 5,
   "metadata": {},
   "outputs": [],
   "source": [
    "# Solution 3 (overtime)\n",
    "def minDistance3(word1,word2): \n",
    "    if not word1 or not word2:\n",
    "        return len(word1)+len(word2)\n",
    "    if word1[0]==word2[0]:\n",
    "        return minDistance3(word1[1:],word2[1:])\n",
    "    else:\n",
    "        inserted = 1+ minDistance3(word1,word2[1:])\n",
    "        deleted = 1+ minDistance3(word1[1:],word2)\n",
    "        replace = 1+ minDistance3(word1[1:],word2[1:])\n",
    "        return min(inserted,deleted, replace)"
   ]
  },
  {
   "cell_type": "code",
   "execution_count": 6,
   "metadata": {},
   "outputs": [
    {
     "name": "stdout",
     "output_type": "stream",
     "text": [
      "3\n",
      "5\n"
     ]
    }
   ],
   "source": [
    "word1 = \"horse\"\n",
    "word2 = \"ros\"\n",
    "print(minDistance3(word1,word2))\n",
    "word3 = \"intention\"\n",
    "word4 = \"execution\"\n",
    "print(minDistance3(word3,word4))"
   ]
  }
 ],
 "metadata": {
  "interpreter": {
   "hash": "aee8b7b246df8f9039afb4144a1f6fd8d2ca17a180786b69acc140d282b71a49"
  },
  "kernelspec": {
   "display_name": "Python 3.9.6 64-bit",
   "language": "python",
   "name": "python3"
  },
  "language_info": {
   "codemirror_mode": {
    "name": "ipython",
    "version": 3
   },
   "file_extension": ".py",
   "mimetype": "text/x-python",
   "name": "python",
   "nbconvert_exporter": "python",
   "pygments_lexer": "ipython3",
   "version": "3.9.6"
  },
  "orig_nbformat": 4
 },
 "nbformat": 4,
 "nbformat_minor": 2
}
