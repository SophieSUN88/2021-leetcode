{
 "cells": [
  {
   "cell_type": "code",
   "execution_count": 123,
   "metadata": {},
   "outputs": [
    {
     "name": "stdout",
     "output_type": "stream",
     "text": [
      "abc\n",
      "bdevfziy\n",
      "fnohopzv\n"
     ]
    }
   ],
   "source": [
    "class Solution:\n",
    "    def robotWithString(self, s: str) -> str:\n",
    "        t = []\n",
    "        min_cha = min(s)\n",
    "        p = ''\n",
    "\n",
    "        for i in range(len(s)):\n",
    "            if s[i] > min_cha:\n",
    "                t.append(s[i])\n",
    "            if s[i] == min_cha:\n",
    "                p += s[i]\n",
    "                if i == len(s)-1:\n",
    "                    break\n",
    "\n",
    "                else:\n",
    "                    min_cha = min(s[i+1:])\n",
    "                    while t:\n",
    "                        if t[-1] <= min_cha:\n",
    "                            p += t.pop()\n",
    "                        else:\n",
    "                            break\n",
    "\n",
    "                    \n",
    "        while t:\n",
    "            p += t.pop()\n",
    "        return p\n",
    "example = Solution()\n",
    "print(example.robotWithString(\"bac\"))\n",
    "print(example.robotWithString(\"bydizfve\"))\n",
    "print(example.robotWithString(\"vzhofnpo\"))"
   ]
  },
  {
   "cell_type": "code",
   "execution_count": 124,
   "metadata": {},
   "outputs": [
    {
     "name": "stdout",
     "output_type": "stream",
     "text": [
      "fnohopzv\n"
     ]
    }
   ],
   "source": [
    "from collections import Counter\n",
    "class Solution:\n",
    "    def robotWithString(self, s: str) -> str:\n",
    "        dic, t, ans = Counter(s), [], []\n",
    "        for char in s:\n",
    "            t.append(char)\n",
    "            if dic[char] == 1:\n",
    "                del dic[char]\n",
    "            else:\n",
    "                dic[char] -= 1\n",
    "            while dic and t and min(dic) >= t[-1]:\n",
    "                ans += t.pop()\n",
    "        ans += t[::-1]\n",
    "        return ''.join(ans)\n",
    "print(example.robotWithString(\"vzhofnpo\"))"
   ]
  },
  {
   "cell_type": "markdown",
   "metadata": {},
   "source": [
    "Complexity\n",
    "- Time Complexity: O(26 * N)\n",
    "- Space Complexity: O(N), for the use of stack t"
   ]
  },
  {
   "cell_type": "code",
   "execution_count": 125,
   "metadata": {},
   "outputs": [
    {
     "name": "stdout",
     "output_type": "stream",
     "text": [
      "fnohopzv\n"
     ]
    }
   ],
   "source": [
    "class Solution:\n",
    "    def deleteString(self, s: str) -> int:\n",
    "        n = len(s)\n",
    "        min_suffix, t, ans = [s[-1]] * n, [], []\n",
    "        for i in range(n - 2, -1, -1):\n",
    "            min_suffix[i] = min(s[i], min_suffix[i + 1])\n",
    "        for i, char in enumerate(s):\n",
    "            t.append(char)\n",
    "            while i + 1 < n and t and min_suffix[i + 1] >= t[-1]:\n",
    "                ans += t.pop()\n",
    "        ans += t[::-1]\n",
    "        return ''.join(ans)\n",
    "print(example.robotWithString(\"vzhofnpo\"))"
   ]
  },
  {
   "cell_type": "markdown",
   "metadata": {},
   "source": [
    "Complexity\n",
    "- Time Complexity: O(N)\n",
    "- Space Complexity: O(N), for the use of stack t and suffix array min_suffix"
   ]
  },
  {
   "cell_type": "markdown",
   "metadata": {},
   "source": []
  }
 ],
 "metadata": {
  "kernelspec": {
   "display_name": "Python 3.9.6 64-bit",
   "language": "python",
   "name": "python3"
  },
  "language_info": {
   "codemirror_mode": {
    "name": "ipython",
    "version": 3
   },
   "file_extension": ".py",
   "mimetype": "text/x-python",
   "name": "python",
   "nbconvert_exporter": "python",
   "pygments_lexer": "ipython3",
   "version": "3.9.6"
  },
  "orig_nbformat": 4,
  "vscode": {
   "interpreter": {
    "hash": "aee8b7b246df8f9039afb4144a1f6fd8d2ca17a180786b69acc140d282b71a49"
   }
  }
 },
 "nbformat": 4,
 "nbformat_minor": 2
}
