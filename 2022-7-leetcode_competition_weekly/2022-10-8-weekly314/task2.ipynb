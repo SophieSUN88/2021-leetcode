{
 "cells": [
  {
   "cell_type": "code",
   "execution_count": 11,
   "metadata": {},
   "outputs": [
    {
     "name": "stdout",
     "output_type": "stream",
     "text": [
      "a: 101\n",
      "c: 10\n",
      "diff: -1\n",
      "a: 101\n",
      "c: 010\n",
      "b: 111\n",
      "b: 7\n"
     ]
    },
    {
     "data": {
      "text/plain": [
       "7"
      ]
     },
     "execution_count": 11,
     "metadata": {},
     "output_type": "execute_result"
    }
   ],
   "source": [
    "def checkXOR(num1,num2):\n",
    "    a = str(format(num1,'b'))\n",
    "    c = str(format(num2,'b'))\n",
    "    # print('a:',a)\n",
    "    # print('c:',c)\n",
    "    n_a = len(a)\n",
    "    n_c = len(c)\n",
    "    diff = n_c - n_a\n",
    "    # print('diff:',diff)\n",
    "    if diff > 0:\n",
    "        a = '0' * diff + a\n",
    "    elif diff < 0:\n",
    "        c = '0' * abs(diff) + c\n",
    "    # print('a:',a)\n",
    "    # print('c:',c)\n",
    "    b = ''\n",
    "    for i in range(len(a)):\n",
    "        if c[i] == '1':\n",
    "            if a[i] == '0':\n",
    "                b += '1'\n",
    "            else:\n",
    "                b += '0'\n",
    "        else:\n",
    "            b += a[i]\n",
    "    # print('b:',b)\n",
    "    b = int(b,2)\n",
    "    # print('b:',b)\n",
    "    return b\n",
    "checkXOR(5,2)"
   ]
  },
  {
   "cell_type": "code",
   "execution_count": 17,
   "metadata": {},
   "outputs": [
    {
     "data": {
      "text/plain": [
       "[5, 7, 2, 3, 2]"
      ]
     },
     "execution_count": 17,
     "metadata": {},
     "output_type": "execute_result"
    }
   ],
   "source": [
    "class Solution:\n",
    "    def findArray(self, pref: list[int]) -> list[int]:\n",
    "        \n",
    "        def checkXOR(num1,num2):\n",
    "            a = str(format(num1,'b'))\n",
    "            c = str(format(num2,'b'))\n",
    "            # print('a:',a)\n",
    "            # print('c:',c)\n",
    "            n_a = len(a)\n",
    "            n_c = len(c)\n",
    "            diff = n_c - n_a\n",
    "            # print('diff:',diff)\n",
    "            if diff > 0:\n",
    "                a = '0' * diff + a\n",
    "            elif diff < 0:\n",
    "                c = '0' * abs(diff) + c\n",
    "            # print('a:',a)\n",
    "            # print('c:',c)\n",
    "            b = ''\n",
    "            for i in range(len(a)):\n",
    "                if c[i] == '1':\n",
    "                    if a[i] == '0':\n",
    "                        b += '1'\n",
    "                    else:\n",
    "                        b += '0'\n",
    "                else:\n",
    "                    b += a[i]\n",
    "            # print('b:',b)\n",
    "            b = int(b,2)\n",
    "            # print('b:',b)\n",
    "            return b\n",
    "        \n",
    "        result = [pref[0]]\n",
    "        for i in range(1,len(pref)):\n",
    "            a = pref[i-1]\n",
    "            c = pref[i]\n",
    "            b = checkXOR(a,c)\n",
    "            result.append(b)\n",
    "        # print(result)\n",
    "        return result\n",
    "\n",
    "example = Solution()\n",
    "example.findArray([5,2,0,3,1])"
   ]
  },
  {
   "cell_type": "markdown",
   "metadata": {},
   "source": [
    "- Runtime: 7583 ms, faster than 5.01% of Python3 online submissions for Find The Original Array of Prefix Xor.\n",
    "- Memory Usage: 32.7 MB, less than 76.43% of Python3 online submissions for Find The Original Array of Prefix Xor."
   ]
  },
  {
   "cell_type": "code",
   "execution_count": 18,
   "metadata": {},
   "outputs": [
    {
     "data": {
      "text/plain": [
       "[5, 7, 2, 3, 2]"
      ]
     },
     "execution_count": 18,
     "metadata": {},
     "output_type": "execute_result"
    }
   ],
   "source": [
    "class Solution:\n",
    "    def findArray(self, A):\n",
    "        for i in range(len(A) - 1, 0, -1):\n",
    "            A[i] ^= A[i - 1]\n",
    "        return A\n",
    "example = Solution()\n",
    "example.findArray([5,2,0,3,1])"
   ]
  },
  {
   "cell_type": "markdown",
   "metadata": {},
   "source": [
    "- a ^ b = c\n",
    "- a = b ^ c\n",
    "- b = a ^ c"
   ]
  },
  {
   "cell_type": "code",
   "execution_count": 20,
   "metadata": {},
   "outputs": [
    {
     "data": {
      "text/plain": [
       "[5, 7, 2, 3, 2]"
      ]
     },
     "execution_count": 20,
     "metadata": {},
     "output_type": "execute_result"
    }
   ],
   "source": [
    "class Solution:\n",
    "    def findArray(self, pref: list[int]) -> list[int]:\n",
    "        \n",
    "        result = [pref[0]]\n",
    "        for i in range(1,len(pref)):\n",
    "            a = pref[i-1]\n",
    "            c = pref[i]\n",
    "            b = a ^ c\n",
    "            # print(a,c,b)\n",
    "            result.append(b)\n",
    "        # print(result)\n",
    "        return result\n",
    "\n",
    "example = Solution()\n",
    "example.findArray([5,2,0,3,1])"
   ]
  },
  {
   "cell_type": "markdown",
   "metadata": {},
   "source": [
    "- Time complexity: O(n)\n",
    "- Space complexity: O(n)\n",
    "- Runtime: 2081 ms, faster than 36.50% of Python3 online submissions for Find The Original Array of Prefix Xor.\n",
    "- Memory Usage: 33.5 MB, less than 43.90% of Python3 online submissions for Find The Original Array of Prefix Xor."
   ]
  }
 ],
 "metadata": {
  "kernelspec": {
   "display_name": "Python 3.9.6 64-bit",
   "language": "python",
   "name": "python3"
  },
  "language_info": {
   "codemirror_mode": {
    "name": "ipython",
    "version": 3
   },
   "file_extension": ".py",
   "mimetype": "text/x-python",
   "name": "python",
   "nbconvert_exporter": "python",
   "pygments_lexer": "ipython3",
   "version": "3.9.6"
  },
  "orig_nbformat": 4,
  "vscode": {
   "interpreter": {
    "hash": "aee8b7b246df8f9039afb4144a1f6fd8d2ca17a180786b69acc140d282b71a49"
   }
  }
 },
 "nbformat": 4,
 "nbformat_minor": 2
}
