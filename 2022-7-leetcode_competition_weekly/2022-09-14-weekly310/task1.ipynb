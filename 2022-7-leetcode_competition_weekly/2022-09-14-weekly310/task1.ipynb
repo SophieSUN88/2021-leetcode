{
 "cells": [
  {
   "cell_type": "markdown",
   "metadata": {},
   "source": [
    "2404. Most Frequent Even Element My SubmissionsBack to Contest\n",
    "\n",
    "Given an integer array nums, return the most frequent even element.\n",
    "\n",
    "If there is a tie, return the smallest one. If there is no such element, return -1.\n",
    "\n",
    "\n",
    "Example 1:\n",
    "\n",
    "Input: nums = [0,1,2,2,4,4,1]\n",
    "Output: 2\n",
    "Explanation:\n",
    "The even elements are 0, 2, and 4. Of these, 2 and 4 appear the most.\n",
    "We return the smallest one, which is 2.\n",
    "\n",
    "Example 2:\n",
    "\n",
    "Input: nums = [4,4,4,9,2,4]\n",
    "Output: 4\n",
    "Explanation: 4 is the even element appears the most.\n",
    "\n",
    "Example 3:\n",
    "\n",
    "Input: nums = [29,47,21,41,13,37,25,7]\n",
    "Output: -1\n",
    "Explanation: There is no even element.\n",
    " \n",
    "\n",
    "Constraints:\n",
    "\n",
    "1 <= nums.length <= 2000\n",
    "0 <= nums[i] <= 105"
   ]
  },
  {
   "cell_type": "markdown",
   "metadata": {},
   "source": []
  },
  {
   "cell_type": "code",
   "execution_count": 5,
   "metadata": {},
   "outputs": [
    {
     "data": {
      "text/plain": [
       "2"
      ]
     },
     "execution_count": 5,
     "metadata": {},
     "output_type": "execute_result"
    }
   ],
   "source": [
    "class Solution:\n",
    "    def mostFrequentEven(self, nums: list[int]) -> int:\n",
    "        n = len(nums)\n",
    "        min_num = -1\n",
    "        count = 0\n",
    "        nums_dict = {}\n",
    "        for i in range(n):\n",
    "            # print('i:',i)\n",
    "            if nums[i] % 2 == 0:\n",
    "                nums_dict[nums[i]] =  nums_dict.get(nums[i], 0) + 1\n",
    "                if nums_dict[nums[i]] > count:\n",
    "                    min_num = nums[i]\n",
    "                    count = nums_dict[nums[i]]\n",
    "                if nums_dict[nums[i]] == count:\n",
    "                    min_num = min(min_num, nums[i])\n",
    "            # print('min_num:',min_num)\n",
    "            # print('count:',count)\n",
    "                    \n",
    "        return min_num\n",
    "\n",
    "nums = [0,1,2,2,4,4,1]\n",
    "example = Solution()\n",
    "example.mostFrequentEven(nums)"
   ]
  },
  {
   "cell_type": "markdown",
   "metadata": {},
   "source": [
    "- Time complexity: O(N)\n",
    "- Space complexity: O(1)\n",
    "- Runtime: 629 ms\n",
    "- Memory Usage: 14.3 MB"
   ]
  }
 ],
 "metadata": {
  "kernelspec": {
   "display_name": "Python 3.9.6 64-bit",
   "language": "python",
   "name": "python3"
  },
  "language_info": {
   "codemirror_mode": {
    "name": "ipython",
    "version": 3
   },
   "file_extension": ".py",
   "mimetype": "text/x-python",
   "name": "python",
   "nbconvert_exporter": "python",
   "pygments_lexer": "ipython3",
   "version": "3.9.6"
  },
  "orig_nbformat": 4,
  "vscode": {
   "interpreter": {
    "hash": "aee8b7b246df8f9039afb4144a1f6fd8d2ca17a180786b69acc140d282b71a49"
   }
  }
 },
 "nbformat": 4,
 "nbformat_minor": 2
}
