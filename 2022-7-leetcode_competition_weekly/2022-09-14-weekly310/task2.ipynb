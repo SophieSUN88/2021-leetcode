{
 "cells": [
  {
   "cell_type": "markdown",
   "metadata": {},
   "source": [
    "2405. Optimal Partition of String My SubmissionsBack to Contest\n",
    "\n",
    "Given a string s, partition the string into one or more substrings such that the characters in each substring are unique. That is, no letter appears in a single substring more than once.\n",
    "\n",
    "Return the minimum number of substrings in such a partition.\n",
    "\n",
    "Note that each character should belong to exactly one substring in a partition.\n",
    "\n",
    "Example 1:\n",
    "\n",
    "Input: s = \"abacaba\"\n",
    "Output: 4\n",
    "Explanation:\n",
    "Two possible partitions are (\"a\",\"ba\",\"cab\",\"a\") and (\"ab\",\"a\",\"ca\",\"ba\").\n",
    "It can be shown that 4 is the minimum number of substrings needed.\n",
    "\n",
    "Example 2:\n",
    "\n",
    "Input: s = \"ssssss\"\n",
    "Output: 6\n",
    "Explanation:\n",
    "The only valid partition is (\"s\",\"s\",\"s\",\"s\",\"s\",\"s\").\n",
    " \n",
    "\n",
    "Constraints:\n",
    "\n",
    "1 <= s.length <= 105\n",
    "s consists of only English lowercase letters."
   ]
  },
  {
   "cell_type": "code",
   "execution_count": 3,
   "metadata": {},
   "outputs": [
    {
     "name": "stdout",
     "output_type": "stream",
     "text": [
      "temp: ab\n",
      "count: 1\n",
      "temp: ac\n",
      "count: 2\n",
      "temp: ab\n",
      "count: 3\n"
     ]
    },
    {
     "data": {
      "text/plain": [
       "4"
      ]
     },
     "execution_count": 3,
     "metadata": {},
     "output_type": "execute_result"
    }
   ],
   "source": [
    "class Solution:\n",
    "    def partitionString(self, s: str) -> int:\n",
    "        temp = ''\n",
    "        count = 0\n",
    "        for i in range(len(s)):\n",
    "            if s[i] not in temp:\n",
    "                temp += s[i]\n",
    "            else:\n",
    "                print('temp:',temp)\n",
    "                count +=1\n",
    "                print('count:',count)\n",
    "                temp = s[i]\n",
    "        count +=1\n",
    "        return count\n",
    "s = \"abacaba\"\n",
    "example = Solution()\n",
    "example.partitionString(s)"
   ]
  },
  {
   "cell_type": "markdown",
   "metadata": {},
   "source": [
    "- Time complexity: O(n)\n",
    "- Space complexity: O(1)\n",
    "- Runtime: 268 ms\n",
    "- Memory Usage: 14.4 MB"
   ]
  }
 ],
 "metadata": {
  "kernelspec": {
   "display_name": "Python 3.9.6 64-bit",
   "language": "python",
   "name": "python3"
  },
  "language_info": {
   "codemirror_mode": {
    "name": "ipython",
    "version": 3
   },
   "file_extension": ".py",
   "mimetype": "text/x-python",
   "name": "python",
   "nbconvert_exporter": "python",
   "pygments_lexer": "ipython3",
   "version": "3.9.6"
  },
  "orig_nbformat": 4,
  "vscode": {
   "interpreter": {
    "hash": "aee8b7b246df8f9039afb4144a1f6fd8d2ca17a180786b69acc140d282b71a49"
   }
  }
 },
 "nbformat": 4,
 "nbformat_minor": 2
}
