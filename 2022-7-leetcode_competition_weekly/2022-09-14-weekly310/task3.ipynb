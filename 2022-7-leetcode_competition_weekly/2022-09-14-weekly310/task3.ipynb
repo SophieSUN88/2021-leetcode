{
 "cells": [
  {
   "cell_type": "markdown",
   "metadata": {},
   "source": [
    "2406. Divide Intervals Into Minimum Number of Groups My SubmissionsBack to Contest\n",
    "\n",
    "You are given a 2D integer array intervals where intervals[i] = [lefti, righti] represents the inclusive interval [lefti, righti].\n",
    "\n",
    "You have to divide the intervals into one or more groups such that each interval is in exactly one group, and no two intervals that are in the same group intersect each other.\n",
    "\n",
    "Return the minimum number of groups you need to make.\n",
    "\n",
    "Two intervals intersect if there is at least one common number between them. For example, the intervals [1, 5] and [5, 8] intersect.\n",
    "\n",
    "Example 1:\n",
    "\n",
    "Input: intervals = [[5,10],[6,8],[1,5],[2,3],[1,10]]\n",
    "Output: 3\n",
    "Explanation: We can divide the intervals into the following groups:\n",
    "- Group 1: [1, 5], [6, 8].\n",
    "- Group 2: [2, 3], [5, 10].\n",
    "- Group 3: [1, 10].\n",
    "It can be proven that it is not possible to divide the intervals into fewer than 3 groups.\n",
    "\n",
    "Example 2:\n",
    "\n",
    "Input: intervals = [[1,3],[5,6],[8,10],[11,13]]\n",
    "Output: 1\n",
    "Explanation: None of the intervals overlap, so we can put all of them in one group.\n",
    " \n",
    "\n",
    "Constraints:\n",
    "\n",
    "1 <= intervals.length <= $10^5$\n",
    "intervals[i].length == 2\n",
    "1 <= lefti <= righti <= $10^6$"
   ]
  },
  {
   "cell_type": "code",
   "execution_count": 12,
   "metadata": {},
   "outputs": [
    {
     "name": "stdout",
     "output_type": "stream",
     "text": [
      "i: 0\n",
      "intervals[i]: [5, 10]\n",
      "groups: [[[5, 10]]]\n",
      "i: 1\n",
      "intervals[i]: [6, 8]\n",
      "11111\n",
      "groups: [[[5, 10]], [[6, 8]]]\n",
      "i: 2\n",
      "intervals[i]: [1, 5]\n",
      "groups: [[[5, 10]], [[6, 8], [1, 5]]]\n",
      "i: 3\n",
      "intervals[i]: [2, 3]\n",
      "groups: [[[5, 10], [2, 3]], [[6, 8], [1, 5]]]\n",
      "i: 4\n",
      "intervals[i]: [1, 10]\n",
      "11111\n",
      "groups: [[[5, 10], [2, 3]], [[6, 8], [1, 5]], [[1, 10]]]\n"
     ]
    },
    {
     "data": {
      "text/plain": [
       "3"
      ]
     },
     "execution_count": 12,
     "metadata": {},
     "output_type": "execute_result"
    }
   ],
   "source": [
    "class Solution:\n",
    "    def intersect(self,group, l2):\n",
    "        for l1 in group:\n",
    "            # not insersect \n",
    "            if l1[1] > l1[0] >l2[1] > l2[0]  or l1[0] < l1[1] < l2[0] < l2[1]:\n",
    "                continue\n",
    "            else:\n",
    "                return True\n",
    "        return False\n",
    "    def minGroups(self, intervals: list[list[int]]) -> int:\n",
    "        groups = []\n",
    "        flag = False\n",
    "        for i in range(len(intervals)):\n",
    "            print('i:',i)\n",
    "            print('intervals[i]:',intervals[i])\n",
    "            if len(groups) == 0:\n",
    "                groups.append([intervals[i]])\n",
    "                print('groups:',groups)\n",
    "            else:\n",
    "                for group in groups:\n",
    "                    if not self.intersect(group,intervals[i]):\n",
    "                        group.append(intervals[i])\n",
    "                        flag = True\n",
    "                        break\n",
    "                    else:\n",
    "                        continue\n",
    "\n",
    "                if not flag:\n",
    "                    print(11111)\n",
    "                    groups.append([intervals[i]])\n",
    "                flag = False\n",
    "                print('groups:',groups)\n",
    "        return len(groups)\n",
    "\n",
    "example = Solution()\n",
    "example.minGroups(intervals=[[5,10],[6,8],[1,5],[2,3],[1,10]])\n"
   ]
  },
  {
   "cell_type": "code",
   "execution_count": 13,
   "metadata": {},
   "outputs": [
    {
     "data": {
      "text/plain": [
       "3"
      ]
     },
     "execution_count": 13,
     "metadata": {},
     "output_type": "execute_result"
    }
   ],
   "source": [
    "from heapq import *\n",
    "class Solution:\n",
    "    def minGroups(self, intervals: list[list[int]]) -> int:\n",
    "        intervals.sort()\n",
    "        gp = []\n",
    "        for interval in intervals:\n",
    "            if gp and interval[0]>gp[0]:\n",
    "                heappushpop(gp, interval[1])\n",
    "            else:\n",
    "                heappush(gp, interval[1])\n",
    "        return len(gp)\n",
    "\n",
    "example = Solution()\n",
    "example.minGroups(intervals=[[5,10],[6,8],[1,5],[2,3],[1,10]])\n"
   ]
  },
  {
   "cell_type": "code",
   "execution_count": 15,
   "metadata": {},
   "outputs": [
    {
     "data": {
      "text/plain": [
       "[[1, 5], [1, 10], [2, 3], [5, 10], [6, 8]]"
      ]
     },
     "execution_count": 15,
     "metadata": {},
     "output_type": "execute_result"
    }
   ],
   "source": [
    "intervals=[[5,10],[6,8],[1,5],[2,3],[1,10]]\n",
    "intervals.sort()\n",
    "intervals"
   ]
  },
  {
   "cell_type": "code",
   "execution_count": null,
   "metadata": {},
   "outputs": [],
   "source": []
  }
 ],
 "metadata": {
  "kernelspec": {
   "display_name": "Python 3.9.6 64-bit",
   "language": "python",
   "name": "python3"
  },
  "language_info": {
   "codemirror_mode": {
    "name": "ipython",
    "version": 3
   },
   "file_extension": ".py",
   "mimetype": "text/x-python",
   "name": "python",
   "nbconvert_exporter": "python",
   "pygments_lexer": "ipython3",
   "version": "3.9.6"
  },
  "orig_nbformat": 4,
  "vscode": {
   "interpreter": {
    "hash": "aee8b7b246df8f9039afb4144a1f6fd8d2ca17a180786b69acc140d282b71a49"
   }
  }
 },
 "nbformat": 4,
 "nbformat_minor": 2
}
