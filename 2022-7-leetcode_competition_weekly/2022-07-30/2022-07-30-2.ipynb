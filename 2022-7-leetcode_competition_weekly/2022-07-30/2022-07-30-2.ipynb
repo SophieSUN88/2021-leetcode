{
 "cells": [
  {
   "cell_type": "markdown",
   "metadata": {},
   "source": [
    "### 6133. Maximum Number of Groups Entering a Competition My SubmissionsBack to Contest\n",
    "\n",
    "Difficulty: Medium\n",
    "\n",
    "You are given a positive integer array grades which represents the grades of students in a university. You would like to enter all these students into a competition in ordered non-empty groups, such that the ordering meets the following conditions:\n",
    "\n",
    "The sum of the grades of students in the ith group is less than the sum of the grades of students in the (i + 1)th group, for all groups (except the last).\n",
    "The total number of students in the ith group is less than the total number of students in the (i + 1)th group, for all groups (except the last).\n",
    "Return the maximum number of groups that can be formed.\n",
    "\n",
    " \n",
    "\n",
    "Example 1:\n",
    "\n",
    "Input: grades = [10,6,12,7,3,5]\n",
    "Output: 3\n",
    "\n",
    "Explanation: The following is a possible way to form 3 groups of students:\n",
    "- 1st group has the students with grades = [12]. Sum of grades: 12. Student count: 1\n",
    "- 2nd group has the students with grades = [6,7]. Sum of grades: 6 + 7 = 13. Student count: 2\n",
    "- 3rd group has the students with grades = [10,3,5]. Sum of grades: 10 + 3 + 5 = 18. Student count: 3\n",
    "It can be shown that it is not possible to form more than 3 groups.\n",
    "\n",
    "Example 2:\n",
    "\n",
    "Input: grades = [8,8]\n",
    "Output: 1\n",
    "\n",
    "Explanation: We can only form 1 group, since forming 2 groups would lead to an equal number of students in both groups.\n",
    " \n",
    "\n",
    "Constraints:\n",
    "\n",
    "1 <= grades.length <= 105\n",
    "1 <= grades[i] <= 105"
   ]
  },
  {
   "cell_type": "code",
   "execution_count": 12,
   "metadata": {},
   "outputs": [
    {
     "name": "stdout",
     "output_type": "stream",
     "text": [
      "n: 16\n",
      "1\n",
      "2\n",
      "3\n",
      "4\n",
      "5\n"
     ]
    },
    {
     "data": {
      "text/plain": [
       "5"
      ]
     },
     "execution_count": 12,
     "metadata": {},
     "output_type": "execute_result"
    }
   ],
   "source": [
    "from typing import List\n",
    "class Solution:\n",
    "    def maximumGroups(self, grades: List[int]) -> int:\n",
    "        n = len(grades)\n",
    "        print(\"n:\",n)\n",
    "        k = 1\n",
    "        while k * (k+1) // 2 <= n:\n",
    "            print(k)\n",
    "            k +=1 \n",
    "        return k-1\n",
    "\n",
    "grades = [10,6,12,7,3,5,4,5,5,6,5,4,5,5,6,8]\n",
    "example = Solution()\n",
    "example.maximumGroups(grades)"
   ]
  },
  {
   "cell_type": "markdown",
   "metadata": {},
   "source": [
    "10:35-10:44"
   ]
  }
 ],
 "metadata": {
  "kernelspec": {
   "display_name": "Python 3.9.6 64-bit",
   "language": "python",
   "name": "python3"
  },
  "language_info": {
   "codemirror_mode": {
    "name": "ipython",
    "version": 3
   },
   "file_extension": ".py",
   "mimetype": "text/x-python",
   "name": "python",
   "nbconvert_exporter": "python",
   "pygments_lexer": "ipython3",
   "version": "3.9.6"
  },
  "orig_nbformat": 4,
  "vscode": {
   "interpreter": {
    "hash": "aee8b7b246df8f9039afb4144a1f6fd8d2ca17a180786b69acc140d282b71a49"
   }
  }
 },
 "nbformat": 4,
 "nbformat_minor": 2
}
