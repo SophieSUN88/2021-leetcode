{
 "cells": [
  {
   "cell_type": "markdown",
   "metadata": {},
   "source": [
    "### 6134. Find Closest Node to Given Two Nodes My SubmissionsBack to Contest\n",
    "\n",
    "Difficulty: Medium\n",
    "You are given a directed graph of n nodes numbered from 0 to n - 1, where each node has at most one outgoing edge.\n",
    "\n",
    "The graph is represented with a given 0-indexed array edges of size n, indicating that there is a directed edge from node i to node edges[i]. If there is no outgoing edge from i, then edges[i] == -1.\n",
    "\n",
    "You are also given two integers node1 and node2.\n",
    "\n",
    "Return the index of the node that can be reached from both node1 and node2, such that the maximum between the distance from node1 to that node, and from node2 to that node is minimized. If there are multiple answers, return the node with the smallest index, and if no possible answer exists, return -1.\n",
    "\n",
    "Note that edges may contain cycles.\n",
    "\n",
    " \n",
    "\n",
    "Example 1:\n",
    "\n",
    "\n",
    "Input: edges = [2,2,3,-1], node1 = 0, node2 = 1\n",
    "Output: 2\n",
    "\n",
    "Explanation: The distance from node 0 to node 2 is 1, and the distance from node 1 to node 2 is 1.\n",
    "The maximum of those two distances is 1. It can be proven that we cannot get a node with a smaller maximum distance than 1, so we return node 2.\n",
    "\n",
    "Example 2:\n",
    "\n",
    "\n",
    "Input: edges = [1,2,-1], node1 = 0, node2 = 2\n",
    "Output: 2\n",
    "\n",
    "Explanation: The distance from node 0 to node 2 is 2, and the distance from node 2 to itself is 0.\n",
    "The maximum of those two distances is 2. It can be proven that we cannot get a node with a smaller maximum distance than 2, so we return node 2.\n",
    " \n",
    "\n",
    "Constraints:\n",
    "\n",
    "n == edges.length\n",
    "2 <= n <= 105\n",
    "-1 <= edges[i] < n\n",
    "edges[i] != i\n",
    "0 <= node1, node2 < n"
   ]
  },
  {
   "cell_type": "code",
   "execution_count": 41,
   "metadata": {},
   "outputs": [
    {
     "name": "stdout",
     "output_type": "stream",
     "text": [
      "temp1: 3\n",
      "fast1: 3\n",
      "fast2: 5\n",
      "temp1: 5\n",
      "fast is none\n",
      "temp1 is None\n",
      "[4, 3, 5]\n",
      "temp1: 4\n",
      "fast1: 4\n",
      "fast2: 3\n",
      "temp1: 3\n",
      "fast1: 5\n",
      "fast is noe\n",
      "temp1: 5\n",
      "temp1 is None\n",
      "[0, 4, 3, 5]\n"
     ]
    },
    {
     "data": {
      "text/plain": [
       "4"
      ]
     },
     "execution_count": 41,
     "metadata": {},
     "output_type": "execute_result"
    }
   ],
   "source": [
    "from typing import List\n",
    "\n",
    "class Node:\n",
    "    def __init__(self,index, next = None):\n",
    "        self.value = index\n",
    "        self.next = next\n",
    "class Solution:\n",
    "    \n",
    "    def closestMeetingNode(self, edges: List[int], node1: int, node2: int) -> int:\n",
    "        def node_list(edges,node1):\n",
    "            point1 = Node(node1)\n",
    "            index = node1\n",
    "            index_fast = node1\n",
    "            temp1 = point1\n",
    "            fast = point1\n",
    "            node1_list = []\n",
    "            while temp1:\n",
    "                \n",
    "                node1_list.append(temp1.value)\n",
    "                \n",
    "\n",
    "                if edges[index] > 0:\n",
    "                    temp1.next = Node(edges[index])\n",
    "                    index = edges[index]\n",
    "                    temp1 = temp1.next \n",
    "                    print(\"temp1:\",temp1.value)\n",
    "                else:\n",
    "                    temp1.next = None\n",
    "                    temp1 = temp1.next\n",
    "                    print(\"temp1 is None\")\n",
    "                    continue\n",
    "                \n",
    "                if fast:\n",
    "                    if edges[index_fast] > 0  :\n",
    "                        fast.next = Node(edges[index_fast])\n",
    "                        index_fast =edges[index_fast]\n",
    "                        fast = fast.next\n",
    "                        print(\"fast1:\",fast.value)\n",
    "                    else:\n",
    "                        fast.next = None\n",
    "                        fast = fast.next\n",
    "                        print('fast is none')\n",
    "                        continue\n",
    "\n",
    "                    if edges[index_fast] > 0  :\n",
    "                        fast.next = Node(edges[index_fast])\n",
    "                        index_fast =edges[index_fast]\n",
    "                        fast = fast.next\n",
    "                        print(\"fast2:\",fast.value)\n",
    "\n",
    "                    else:\n",
    "                        fast.next = None\n",
    "                        fast = fast.next\n",
    "                        print('fast is noe')\n",
    "                        continue\n",
    "                    if temp1.value == fast.value:\n",
    "                        print(1111)\n",
    "                        break\n",
    "            print(node1_list)\n",
    "            return node1_list\n",
    "\n",
    "        node1_list = node_list(edges,node1)\n",
    "        node2_list = node_list(edges,node2)\n",
    "        for i in node1_list:\n",
    "            for j in node2_list:\n",
    "                if i == j:\n",
    "                    return i\n",
    "        \n",
    "\n",
    "\n",
    "\n",
    "edges = [2,2,3,-1]\n",
    "# edges = [4,3,0,5,3,-1]\n",
    "# edges = [4,4,4,5,1,2,2]\n",
    "example = Solution()\n",
    "example.closestMeetingNode(edges,0,0)\n",
    "\n",
    "\n"
   ]
  },
  {
   "cell_type": "code",
   "execution_count": null,
   "metadata": {},
   "outputs": [],
   "source": [
    "\n",
    "        "
   ]
  }
 ],
 "metadata": {
  "kernelspec": {
   "display_name": "Python 3.9.6 64-bit",
   "language": "python",
   "name": "python3"
  },
  "language_info": {
   "codemirror_mode": {
    "name": "ipython",
    "version": 3
   },
   "file_extension": ".py",
   "mimetype": "text/x-python",
   "name": "python",
   "nbconvert_exporter": "python",
   "pygments_lexer": "ipython3",
   "version": "3.9.6"
  },
  "orig_nbformat": 4,
  "vscode": {
   "interpreter": {
    "hash": "aee8b7b246df8f9039afb4144a1f6fd8d2ca17a180786b69acc140d282b71a49"
   }
  }
 },
 "nbformat": 4,
 "nbformat_minor": 2
}
