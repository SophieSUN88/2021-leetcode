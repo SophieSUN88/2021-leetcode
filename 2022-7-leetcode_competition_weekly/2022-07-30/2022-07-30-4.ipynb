{
 "cells": [
  {
   "cell_type": "markdown",
   "metadata": {},
   "source": [
    "### 2360. Longest Cycle in a Graph My SubmissionsBack to Contest\n",
    "\n",
    "Difficulty: Hard\n",
    "You are given a directed graph of n nodes numbered from 0 to n - 1, where each node has at most one outgoing edge.\n",
    "\n",
    "The graph is represented with a given 0-indexed array edges of size n, indicating that there is a directed edge from node i to node edges[i]. If there is no outgoing edge from node i, then edges[i] == -1.\n",
    "\n",
    "Return the length of the longest cycle in the graph. If no cycle exists, return -1.\n",
    "\n",
    "A cycle is a path that starts and ends at the same node.\n",
    "\n",
    " \n",
    "\n",
    "Example 1:\n",
    "\n",
    "\n",
    "Input: edges = [3,3,4,2,3]\n",
    "Output: 3\n",
    "Explanation: The longest cycle in the graph is the cycle: 2 -> 4 -> 3 -> 2.\n",
    "The length of this cycle is 3, so 3 is returned.\n",
    "\n",
    "Example 2:\n",
    "\n",
    "\n",
    "Input: edges = [2,-1,3,1]\n",
    "Output: -1\n",
    "Explanation: There are no cycles in this graph.\n",
    " \n",
    "\n",
    "Constraints:\n",
    "\n",
    "n == edges.length\n",
    "2 <= n <= 105\n",
    "-1 <= edges[i] < n\n",
    "edges[i] != i"
   ]
  },
  {
   "cell_type": "code",
   "execution_count": null,
   "metadata": {},
   "outputs": [],
   "source": []
  },
  {
   "cell_type": "code",
   "execution_count": null,
   "metadata": {},
   "outputs": [],
   "source": []
  },
  {
   "cell_type": "code",
   "execution_count": null,
   "metadata": {},
   "outputs": [],
   "source": []
  }
 ],
 "metadata": {
  "language_info": {
   "name": "python"
  },
  "orig_nbformat": 4
 },
 "nbformat": 4,
 "nbformat_minor": 2
}
