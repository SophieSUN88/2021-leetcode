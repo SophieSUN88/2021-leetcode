{
 "cells": [
  {
   "cell_type": "markdown",
   "metadata": {},
   "source": [
    "### 6132. Make Array Zero by Subtracting Equal Amounts My SubmissionsBack to Contest\n",
    "Difficulty: Easy\n",
    "\n",
    "You are given a non-negative integer array nums. In one operation, you must:\n",
    "\n",
    "Choose a positive integer x such that x is less than or equal to the smallest non-zero element in nums.\n",
    "Subtract x from every positive element in nums.\n",
    "Return the minimum number of operations to make every element in nums equal to 0.\n",
    "\n",
    " \n",
    "\n",
    "Example 1:\n",
    "\n",
    "Input: nums = [1,5,0,3,5]\n",
    "Output: 3\n",
    "\n",
    "Explanation:\n",
    "In the first operation, choose x = 1. Now, nums = [0,4,0,2,4].\n",
    "In the second operation, choose x = 2. Now, nums = [0,2,0,0,2].\n",
    "In the third operation, choose x = 2. Now, nums = [0,0,0,0,0].\n",
    "\n",
    "Example 2:\n",
    "\n",
    "Input: nums = [0]\n",
    "Output: 0\n",
    "\n",
    "Explanation: Each element in nums is already 0 so no operations are needed.\n",
    " \n",
    "\n",
    "Constraints:\n",
    "\n",
    "1 <= nums.length <= 100\n",
    "0 <= nums[i] <= 100"
   ]
  },
  {
   "cell_type": "code",
   "execution_count": 3,
   "metadata": {},
   "outputs": [
    {
     "data": {
      "text/plain": [
       "3"
      ]
     },
     "execution_count": 3,
     "metadata": {},
     "output_type": "execute_result"
    }
   ],
   "source": [
    "from typing import List\n",
    "class Solution:\n",
    "    def minimumOperations(self, nums: List[int]) -> int:\n",
    "        result = set()\n",
    "        for num in nums:\n",
    "            if num != 0 and num not in result:\n",
    "                result.add(num)\n",
    "        return len(result)\n",
    "        \n",
    "\n",
    "\n",
    "nums = [1,5,0,3,5]\n",
    "example = Solution()\n",
    "example.minimumOperations(nums)"
   ]
  },
  {
   "cell_type": "markdown",
   "metadata": {},
   "source": [
    "10:30-10:34"
   ]
  },
  {
   "cell_type": "code",
   "execution_count": null,
   "metadata": {},
   "outputs": [],
   "source": []
  },
  {
   "cell_type": "code",
   "execution_count": null,
   "metadata": {},
   "outputs": [],
   "source": []
  }
 ],
 "metadata": {
  "kernelspec": {
   "display_name": "Python 3.9.6 64-bit",
   "language": "python",
   "name": "python3"
  },
  "language_info": {
   "codemirror_mode": {
    "name": "ipython",
    "version": 3
   },
   "file_extension": ".py",
   "mimetype": "text/x-python",
   "name": "python",
   "nbconvert_exporter": "python",
   "pygments_lexer": "ipython3",
   "version": "3.9.6"
  },
  "orig_nbformat": 4,
  "vscode": {
   "interpreter": {
    "hash": "aee8b7b246df8f9039afb4144a1f6fd8d2ca17a180786b69acc140d282b71a49"
   }
  }
 },
 "nbformat": 4,
 "nbformat_minor": 2
}
