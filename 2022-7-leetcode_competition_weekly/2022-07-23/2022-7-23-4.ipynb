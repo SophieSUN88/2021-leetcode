{
 "cells": [
  {
   "cell_type": "markdown",
   "metadata": {},
   "source": [
    "### 6127. Number of Excellent Pairs My SubmissionsBack to Contest\n",
    "\n",
    "#### 2354. Number of Excellent Pairs\n",
    "\n",
    "User Accepted: 837\n",
    "User Tried: 1750\n",
    "Total Accepted: 899\n",
    "Total Submissions: 3099\n",
    "Difficulty: Hard\n",
    "\n",
    "You are given a 0-indexed positive integer array nums and a positive integer k.\n",
    "\n",
    "A pair of numbers (num1, num2) is called excellent if the following conditions are satisfied:\n",
    "\n",
    "Both the numbers num1 and num2 exist in the array nums.\n",
    "The sum of the number of set bits in num1 OR num2 and num1 AND num2 is greater than or equal to k, where OR is the bitwise OR operation and AND is the bitwise AND operation.\n",
    "Return the number of distinct excellent pairs.\n",
    "\n",
    "Two pairs (a, b) and (c, d) are considered distinct if either a != c or b != d. For example, (1, 2) and (2, 1) are distinct.\n",
    "\n",
    "Note that a pair (num1, num2) such that num1 == num2 can also be excellent if you have at least one occurrence of num1 in the array.\n",
    "\n",
    " \n",
    "\n",
    "Example 1:\n",
    "\n",
    "Input: nums = [1,2,3,1], k = 3\n",
    "Output: 5\n",
    "Explanation: The excellent pairs are the following:\n",
    "- (3, 3). (3 AND 3) and (3 OR 3) are both equal to (11) in binary. The total number of set bits is 2 + 2 = 4, which is greater than or equal to k = 3.\n",
    "- (2, 3) and (3, 2). (2 AND 3) is equal to (10) in binary, and (2 OR 3) is equal to (11) in binary. The total number of set bits is 1 + 2 = 3.\n",
    "- (1, 3) and (3, 1). (1 AND 3) is equal to (01) in binary, and (1 OR 3) is equal to (11) in binary. The total number of set bits is 1 + 2 = 3.\n",
    "So the number of excellent pairs is 5.\n",
    "\n",
    "Example 2:\n",
    "\n",
    "Input: nums = [5,1,1], k = 10\n",
    "Output: 0\n",
    "Explanation: There are no excellent pairs for this array."
   ]
  },
  {
   "cell_type": "code",
   "execution_count": 18,
   "metadata": {},
   "outputs": [],
   "source": [
    "# time too long\n",
    "from typing import List\n",
    "class Solution:\n",
    "    def countExcellentPairs(self, nums: List[int], k: int) -> int:\n",
    "        result = set()\n",
    "        nums.sort()\n",
    "        for i in range(len(nums)):\n",
    "            for j in range(len(nums)):\n",
    "                \n",
    "                if self.countSetBits(nums[i]) + self.countSetBits(nums[j]) >= k:\n",
    "                    print('nums[i]',self.countSetBits(nums[i]))\n",
    "                    print('nums[j]',self.countSetBits(nums[j]))\n",
    "                    if (nums[i],nums[j]) not in result:\n",
    "                        result.add((nums[i],nums[j]))\n",
    "                        print(result)\n",
    "        return len(result)\n",
    "\n",
    "\n",
    "        \n",
    "    def  countSetBits(self,n):\n",
    "        count = 0\n",
    "        while (n):\n",
    "            count += n & 1\n",
    "            n >>= 1\n",
    "        return count"
   ]
  },
  {
   "cell_type": "code",
   "execution_count": 19,
   "metadata": {},
   "outputs": [
    {
     "name": "stdout",
     "output_type": "stream",
     "text": [
      "nums[i] 1\n",
      "nums[j] 2\n",
      "{(1, 3)}\n",
      "nums[i] 1\n",
      "nums[j] 2\n",
      "{(2, 3), (1, 3)}\n",
      "nums[i] 2\n",
      "nums[j] 1\n",
      "{(2, 3), (1, 3), (3, 1)}\n",
      "nums[i] 2\n",
      "nums[j] 1\n",
      "{(2, 3), (3, 2), (1, 3), (3, 1)}\n",
      "nums[i] 2\n",
      "nums[j] 2\n",
      "{(3, 1), (2, 3), (3, 3), (3, 2), (1, 3)}\n",
      "nums[i] 2\n",
      "nums[j] 1\n",
      "nums[i] 1\n",
      "nums[j] 2\n"
     ]
    },
    {
     "data": {
      "text/plain": [
       "5"
      ]
     },
     "execution_count": 19,
     "metadata": {},
     "output_type": "execute_result"
    }
   ],
   "source": [
    "nums = [1,2,3,1] \n",
    "k = 3\n",
    "examle= Solution()\n",
    "examle.countExcellentPairs(nums,k)"
   ]
  },
  {
   "cell_type": "code",
   "execution_count": 8,
   "metadata": {},
   "outputs": [],
   "source": [
    "# time too long\n",
    "from typing import List\n",
    "class Solution:\n",
    "    def countExcellentPairs(self, nums: List[int], k: int) -> int:\n",
    "        result = set()\n",
    "        nums = list(set(nums))\n",
    "        n=len(nums)\n",
    "        i = n-1\n",
    "        while i >=0:\n",
    "            j =n-1\n",
    "            while j >=0:\n",
    "                \n",
    "                if self.countSetBits(nums[i]) + self.countSetBits(nums[j]) >= k:\n",
    "                    # print('nums[i]',self.countSetBits(nums[i]))\n",
    "                    # print('nums[j]',self.countSetBits(nums[j]))\n",
    "                    if (nums[i],nums[j]) not in result:\n",
    "                        result.add((nums[i],nums[j]))\n",
    "                        # print(result)\n",
    "                    j -=1\n",
    "                else:\n",
    "                    j -=1\n",
    "                    continue\n",
    "            i -=1\n",
    "        return len(result)\n",
    "\n",
    "\n",
    "        \n",
    "    def  countSetBits(self,n):\n",
    "        count = 0\n",
    "        while (n):\n",
    "            count += n & 1\n",
    "            n >>= 1\n",
    "        return count"
   ]
  },
  {
   "cell_type": "code",
   "execution_count": 9,
   "metadata": {},
   "outputs": [
    {
     "data": {
      "text/plain": [
       "5"
      ]
     },
     "execution_count": 9,
     "metadata": {},
     "output_type": "execute_result"
    }
   ],
   "source": [
    "nums = [1,2,3,1] \n",
    "k = 3\n",
    "examle= Solution()\n",
    "examle.countExcellentPairs(nums,k)"
   ]
  },
  {
   "cell_type": "code",
   "execution_count": 10,
   "metadata": {},
   "outputs": [
    {
     "data": {
      "text/plain": [
       "0"
      ]
     },
     "execution_count": 10,
     "metadata": {},
     "output_type": "execute_result"
    }
   ],
   "source": [
    "nums = [5,1,1]\n",
    "k=10\n",
    "examle= Solution()\n",
    "examle.countExcellentPairs(nums,k)"
   ]
  },
  {
   "cell_type": "code",
   "execution_count": 11,
   "metadata": {},
   "outputs": [
    {
     "data": {
      "text/plain": [
       "7568"
      ]
     },
     "execution_count": 11,
     "metadata": {},
     "output_type": "execute_result"
    }
   ],
   "source": [
    "nums= [745123522,780161922,911692878,291515362,14407582,800657985,624198170,327318213,585359689,475046415,253647481,607006144,193773180,740345687,288638626,62148920,195444115,567630485,675976710,404053108,815429249,394651351,204402513,196037308,435520151,69326238,900657931,417009691,788087674,89101495,147261023,179147246,391108168,261006719,947442692,869519137,557287962,204511054,150454379,508441073,917846620,789335735,999055845,810841158,663483743,712002146,49711011,551107101,823259177,756685512,305977547,214707124,798707203,575883326,312001764,296144914,445448565,572453004,517300168,771625989,73238714,922313152,848421606,525431023,399862870,392370160,355935135,455468812,609775395,270125020,574119054,37201941,984483544,96695229,839848442,251453685,324213598,269361289,613270367,359845759,495008173,982883976,870123636,560164536,275413875,462592203,775982309]\n",
    "k= 19\n",
    "examle= Solution()\n",
    "examle.countExcellentPairs(nums,k)"
   ]
  },
  {
   "cell_type": "code",
   "execution_count": null,
   "metadata": {},
   "outputs": [],
   "source": [
    "### Accepted\n",
    "from typing import List\n",
    "class Solution:\n",
    "    def countExcellentPairs(self, nums: List[int], k: int) -> int:\n",
    "        result = 0\n",
    "        B= sorted([self.countSetBits(a) for a in set(nums)])\n",
    "        n=len(B)\n",
    "        j = n-1\n",
    "\n",
    "        for i in range(n):\n",
    "            if B[i] + B[j] <k:\n",
    "                continue\n",
    "            while j >=1 and B[i] + B[j-1]>= k :\n",
    "                j -=1\n",
    "            result += n-j\n",
    "        return result\n",
    "\n",
    "\n",
    "        \n",
    "    def  countSetBits(self,n):\n",
    "        count = 0\n",
    "        while (n):\n",
    "            count += n & 1\n",
    "            n >>= 1\n",
    "        return count"
   ]
  },
  {
   "cell_type": "code",
   "execution_count": 12,
   "metadata": {},
   "outputs": [
    {
     "data": {
      "text/plain": [
       "7568"
      ]
     },
     "execution_count": 12,
     "metadata": {},
     "output_type": "execute_result"
    }
   ],
   "source": [
    "nums= [745123522,780161922,911692878,291515362,14407582,800657985,624198170,327318213,585359689,475046415,253647481,607006144,193773180,740345687,288638626,62148920,195444115,567630485,675976710,404053108,815429249,394651351,204402513,196037308,435520151,69326238,900657931,417009691,788087674,89101495,147261023,179147246,391108168,261006719,947442692,869519137,557287962,204511054,150454379,508441073,917846620,789335735,999055845,810841158,663483743,712002146,49711011,551107101,823259177,756685512,305977547,214707124,798707203,575883326,312001764,296144914,445448565,572453004,517300168,771625989,73238714,922313152,848421606,525431023,399862870,392370160,355935135,455468812,609775395,270125020,574119054,37201941,984483544,96695229,839848442,251453685,324213598,269361289,613270367,359845759,495008173,982883976,870123636,560164536,275413875,462592203,775982309]\n",
    "k= 19\n",
    "examle= Solution()\n",
    "examle.countExcellentPairs(nums,k)"
   ]
  },
  {
   "cell_type": "code",
   "execution_count": null,
   "metadata": {},
   "outputs": [],
   "source": []
  }
 ],
 "metadata": {
  "kernelspec": {
   "display_name": "Python 3.9.6 64-bit",
   "language": "python",
   "name": "python3"
  },
  "language_info": {
   "codemirror_mode": {
    "name": "ipython",
    "version": 3
   },
   "file_extension": ".py",
   "mimetype": "text/x-python",
   "name": "python",
   "nbconvert_exporter": "python",
   "pygments_lexer": "ipython3",
   "version": "3.9.6"
  },
  "orig_nbformat": 4,
  "vscode": {
   "interpreter": {
    "hash": "aee8b7b246df8f9039afb4144a1f6fd8d2ca17a180786b69acc140d282b71a49"
   }
  }
 },
 "nbformat": 4,
 "nbformat_minor": 2
}
