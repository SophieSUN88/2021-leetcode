{
 "cells": [
  {
   "cell_type": "markdown",
   "metadata": {},
   "source": [
    "### 6219. Sum of Number and Its Reverse\n",
    "\n",
    "Difficulty: Medium\n",
    "\n",
    "Given a non-negative integer num, return true if num can be expressed as the sum of any non-negative integer and its reverse, or false otherwise.\n",
    "\n",
    " \n",
    "\n",
    "Example 1:\n",
    "\n",
    "Input: num = 443\n",
    "Output: true\n",
    "Explanation: 172 + 271 = 443 so we return true.\n",
    "\n",
    "Example 2:\n",
    "\n",
    "Input: num = 63\n",
    "Output: false\n",
    "Explanation: 63 cannot be expressed as the sum of a non-negative integer and its reverse so we return false.\n",
    "\n",
    "Example 3:\n",
    "\n",
    "\n",
    "Input: num = 181\n",
    "Output: true\n",
    "Explanation: 140 + 041 = 181 so we return true. Note that when a number is reversed, there may be leading zeros.\n",
    " \n",
    "\n",
    "Constraints:\n",
    "\n",
    "0 <= num <= 105"
   ]
  },
  {
   "cell_type": "code",
   "execution_count": null,
   "metadata": {},
   "outputs": [],
   "source": [
    "class Solution:\n",
    "    def sumOfNumberAndReverse(self, num: int) -> bool:\n",
    "\n",
    "        if len(str(num)) == 1:\n",
    "            # print(11111)\n",
    "            if num % 2 == 0:\n",
    "                return True\n",
    "            else:\n",
    "                return False\n",
    "        if len(str(num))  == 2:\n",
    "            # print(22222)\n",
    "            if str(num)[0] == str(num)[-1]:\n",
    "                return True\n",
    "            elif str(num)[0] == '1':\n",
    "                if num % 2 == 0:\n",
    "                    return True\n",
    "                else:\n",
    "                    return False\n",
    "            else:\n",
    "                return False\n",
    "        if len(str(num)) > 2:  \n",
    "\n",
    "            if str(num)[0] == str(num)[-1]:\n",
    "                temp_num = int(str(num)[1:-1])\n",
    "                print(temp_num)\n",
    "                return self.sumOfNumberAndReverse(temp_num)\n",
    "            if str(num)[0] == '1':\n",
    "                temp_num = str(num)[1:]\n",
    "                temp_num = int(str(int(temp_num[0]) - int(temp_num[-1])) + temp_num[1:-1])\n",
    "                print(temp_num)\n",
    "                return self.sumOfNumberAndReverse(temp_num)\n",
    "            if int(str(num)[0]) == int(str(num)[-1]) + 1:\n",
    "                temp_num = str(num)\n",
    "                temp_num = int('1' + temp_num[1:-1])\n",
    "                print(temp_num)\n",
    "                return self.sumOfNumberAndReverse(temp_num)\n",
    "            else:\n",
    "                return False"
   ]
  },
  {
   "cell_type": "code",
   "execution_count": null,
   "metadata": {},
   "outputs": [],
   "source": []
  }
 ],
 "metadata": {
  "kernelspec": {
   "display_name": "Python 3.9.6 64-bit",
   "language": "python",
   "name": "python3"
  },
  "language_info": {
   "name": "python",
   "version": "3.9.6"
  },
  "orig_nbformat": 4,
  "vscode": {
   "interpreter": {
    "hash": "aee8b7b246df8f9039afb4144a1f6fd8d2ca17a180786b69acc140d282b71a49"
   }
  }
 },
 "nbformat": 4,
 "nbformat_minor": 2
}
