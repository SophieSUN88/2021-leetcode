{
 "cells": [
  {
   "cell_type": "markdown",
   "metadata": {},
   "source": [
    "### 2441. Largest Positive Integer That Exists With Its Negative \n",
    "\n",
    "Difficulty: Easy\n",
    "Given an integer array nums that does not contain any zeros, find the largest positive integer k such that -k also exists in the array.\n",
    "\n",
    "Return the positive integer k. If there is no such integer, return -1.\n",
    "\n",
    "Example 1:\n",
    "\n",
    "Input: nums = [-1,2,-3,3]\n",
    "Output: 3\n",
    "Explanation: 3 is the only valid k we can find in the array.\n",
    "\n",
    "Example 2:\n",
    "\n",
    "Input: nums = [-1,10,6,7,-7,1]\n",
    "Output: 7\n",
    "Explanation: Both 1 and 7 have their corresponding negative values in the array. 7 has a larger value.\n",
    "\n",
    "Example 3:\n",
    "\n",
    "Input: nums = [-10,8,6,7,-2,-3]\n",
    "Output: -1\n",
    "Explanation: There is no a single valid k, we return -1.\n",
    " \n",
    "\n",
    "Constraints:\n",
    "\n",
    "1 <= nums.length <= 1000\n",
    "-1000 <= nums[i] <= 1000\n",
    "nums[i] != 0"
   ]
  },
  {
   "cell_type": "code",
   "execution_count": null,
   "metadata": {},
   "outputs": [],
   "source": [
    "class Solution:\n",
    "    def findMaxK(self, nums: List[int]) -> int:\n",
    "        positive = set()\n",
    "        negative = set()\n",
    "        for i in range(len(nums)):\n",
    "            num = nums[i]\n",
    "            if num > 0:\n",
    "                positive.add(num)\n",
    "            elif num < 0:\n",
    "                negative.add(num)\n",
    "                \n",
    "        max_num = -1    \n",
    "        for num in negative:\n",
    "            if abs(num) in positive:\n",
    "                max_num = max(max_num, abs(num))\n",
    "        return max_num\n",
    "                \n",
    "        "
   ]
  }
 ],
 "metadata": {
  "kernelspec": {
   "display_name": "Python 3.9.6 64-bit",
   "language": "python",
   "name": "python3"
  },
  "language_info": {
   "name": "python",
   "version": "3.9.6"
  },
  "orig_nbformat": 4,
  "vscode": {
   "interpreter": {
    "hash": "aee8b7b246df8f9039afb4144a1f6fd8d2ca17a180786b69acc140d282b71a49"
   }
  }
 },
 "nbformat": 4,
 "nbformat_minor": 2
}
