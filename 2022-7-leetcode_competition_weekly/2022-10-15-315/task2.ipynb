{
 "cells": [
  {
   "cell_type": "markdown",
   "metadata": {},
   "source": [
    "### 2442. Count Number of Distinct Integers After Reverse Operations \n",
    "\n",
    "Difficulty: Medium\n",
    "You are given an array nums consisting of positive integers.\n",
    "\n",
    "You have to take each integer in the array, reverse its digits, and add it to the end of the array. You should apply this operation to the original integers in nums.\n",
    "\n",
    "Return the number of distinct integers in the final array.\n",
    "\n",
    " \n",
    "\n",
    "Example 1:\n",
    "\n",
    "Input: nums = [1,13,10,12,31]\n",
    "Output: 6\n",
    "Explanation: After including the reverse of each number, the resulting array is [1,13,10,12,31,1,31,1,21,13].\n",
    "The reversed integers that were added to the end of the array are underlined. Note that for the integer 10, after reversing it, it becomes 01 which is just 1.\n",
    "The number of distinct integers in this array is 6 (The numbers 1, 10, 12, 13, 21, and 31).\n",
    "\n",
    "Example 2:\n",
    "\n",
    "Input: nums = [2,2,2]\n",
    "Output: 1\n",
    "Explanation: After including the reverse of each number, the resulting array is [2,2,2,2,2,2].\n",
    "The number of distinct integers in this array is 1 (The number 2).\n",
    " \n",
    "\n",
    "Constraints:\n",
    "\n",
    "1 <= nums.length <= 105\n",
    "1 <= nums[i] <= 106"
   ]
  },
  {
   "cell_type": "code",
   "execution_count": null,
   "metadata": {},
   "outputs": [],
   "source": [
    "class Solution:\n",
    "    def countDistinctIntegers(self, nums: List[int]) -> int:\n",
    "        def reverse(num):\n",
    "            num =  int(str(num)[::-1])\n",
    "            return num\n",
    "            \n",
    "        result = set(nums)\n",
    "        for num in nums:\n",
    "            num = reverse(num)\n",
    "            \n",
    "            # print(num)\n",
    "            result.add(num)\n",
    "        return len(result)\n",
    "            \n",
    "            "
   ]
  }
 ],
 "metadata": {
  "kernelspec": {
   "display_name": "Python 3.9.6 64-bit",
   "language": "python",
   "name": "python3"
  },
  "language_info": {
   "name": "python",
   "version": "3.9.6"
  },
  "orig_nbformat": 4,
  "vscode": {
   "interpreter": {
    "hash": "aee8b7b246df8f9039afb4144a1f6fd8d2ca17a180786b69acc140d282b71a49"
   }
  }
 },
 "nbformat": 4,
 "nbformat_minor": 2
}
