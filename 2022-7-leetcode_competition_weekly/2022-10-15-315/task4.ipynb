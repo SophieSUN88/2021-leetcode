{
 "cells": [
  {
   "cell_type": "markdown",
   "metadata": {},
   "source": [
    "### 6207. Count Subarrays With Fixed Bounds \n",
    "\n",
    "You are given an integer array nums and two integers minK and maxK.\n",
    "\n",
    "A fixed-bound subarray of nums is a subarray that satisfies the following conditions:\n",
    "\n",
    "The minimum value in the subarray is equal to minK.\n",
    "The maximum value in the subarray is equal to maxK.\n",
    "Return the number of fixed-bound subarrays.\n",
    "\n",
    "A subarray is a contiguous part of an array.\n",
    "\n",
    " \n",
    "\n",
    "Example 1:\n",
    "\n",
    "Input: nums = [1,3,5,2,7,5], minK = 1, maxK = 5\n",
    "Output: 2\n",
    "Explanation: The fixed-bound subarrays are [1,3,5] and [1,3,5,2].\n",
    "\n",
    "Example 2:\n",
    "\n",
    "Input: nums = [1,1,1,1], minK = 1, maxK = 1\n",
    "Output: 10\n",
    "Explanation: Every subarray of nums is a fixed-bound subarray. There are 10 possible subarrays.\n",
    " \n",
    "\n",
    "Constraints:\n",
    "\n",
    "2 <= nums.length <= 105\n",
    "1 <= nums[i], minK, maxK <= 106"
   ]
  },
  {
   "cell_type": "code",
   "execution_count": null,
   "metadata": {},
   "outputs": [],
   "source": [
    "class Solution:\n",
    "    def countSubarrays(self, nums: List[int], minK: int, maxK: int) -> int:\n",
    "        n = len(nums)\n",
    "\n",
    "        def check(nums,start, end):\n",
    "            min_index = []\n",
    "            max_index = []\n",
    "            if min(nums[start:end+1]) == minK and max(nums[start:end+1]) == maxK:\n",
    "                if minK == maxK:\n",
    "                    k = end - start + 1\n",
    "                    return k * (k +1) / 2\n",
    "                \n",
    "                for i in range(start,end+1):\n",
    "                    if nums[i] == minK:\n",
    "                        min_index.append(i)\n",
    "                    if nums[i] == maxK:\n",
    "                        max_index.append(i)\n",
    "                \n",
    "                else:\n",
    "                    \n",
    "            else:\n",
    "                return 0\n",
    "        for i in range(n):\n",
    "            for \n",
    "        \n",
    "\n",
    "\n",
    "        return count"
   ]
  }
 ],
 "metadata": {
  "kernelspec": {
   "display_name": "Python 3.9.6 64-bit",
   "language": "python",
   "name": "python3"
  },
  "language_info": {
   "name": "python",
   "version": "3.9.6"
  },
  "orig_nbformat": 4,
  "vscode": {
   "interpreter": {
    "hash": "aee8b7b246df8f9039afb4144a1f6fd8d2ca17a180786b69acc140d282b71a49"
   }
  }
 },
 "nbformat": 4,
 "nbformat_minor": 2
}
