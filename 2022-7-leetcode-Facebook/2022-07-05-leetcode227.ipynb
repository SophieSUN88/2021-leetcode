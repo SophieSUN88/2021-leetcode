{
 "cells": [
  {
   "cell_type": "markdown",
   "metadata": {},
   "source": [
    "### 227. Basic Calculator II\n",
    "Medium\n",
    "\n",
    "Given a string s which represents an expression, evaluate this expression and return its value. \n",
    "\n",
    "The integer division should truncate toward zero.\n",
    "\n",
    "You may assume that the given expression is always valid. All intermediate results will be in the range of [-231, 231 - 1].\n",
    "\n",
    "Note: You are not allowed to use any built-in function which evaluates strings as mathematical expressions, such as eval().\n",
    "\n",
    " \n",
    "\n",
    "Example 1:\n",
    "\n",
    "Input: s = \"3+2*2\"\n",
    "Output: 7\n",
    "\n",
    "Example 2:\n",
    "\n",
    "Input: s = \" 3/2 \"\n",
    "Output: 1\n",
    "\n",
    "Example 3:\n",
    "\n",
    "Input: s = \" 3+5 / 2 \"\n",
    "Output: 5\n",
    " "
   ]
  },
  {
   "cell_type": "code",
   "execution_count": 20,
   "metadata": {},
   "outputs": [
    {
     "data": {
      "text/plain": [
       "3"
      ]
     },
     "execution_count": 20,
     "metadata": {},
     "output_type": "execute_result"
    }
   ],
   "source": [
    "class Solution:\n",
    "    def calculate(self,s):\n",
    "        if len(s) == 0:\n",
    "            return 0\n",
    "        stack = []\n",
    "        operator = '+'\n",
    "        currentNumber = 0\n",
    "        for i in range(len(s)):\n",
    "            currentChar = s[i]\n",
    "            if currentChar.isdigit():\n",
    "                currentNumber = currentNumber * 10 + int(currentChar)\n",
    "            if (not currentChar.isdigit() and not currentChar.isspace()) or i == len(s) - 1:\n",
    "                if operator == '-':\n",
    "                    stack.append(-currentNumber)\n",
    "                elif operator == '+':\n",
    "                    stack.append(currentNumber)\n",
    "                elif operator == '*':\n",
    "                    temp = stack.pop()\n",
    "                    stack.append(temp * currentNumber)\n",
    "                elif operator == '/':\n",
    "                    temp = stack.pop()\n",
    "                    stack.append(int(temp / currentNumber))\n",
    "                operator = currentChar\n",
    "                currentNumber = 0\n",
    "        result = 0 \n",
    "        while len(stack) != 0 :\n",
    "            result += stack.pop()\n",
    "        return result\n",
    "example = Solution()\n",
    "s = '2+3-4/2'\n",
    "example.calculate(s)\n",
    "\n"
   ]
  },
  {
   "cell_type": "markdown",
   "metadata": {},
   "source": [
    "- Time complexity : O(n)\n",
    "- Space complexity : O(n)"
   ]
  },
  {
   "cell_type": "code",
   "execution_count": 19,
   "metadata": {},
   "outputs": [
    {
     "data": {
      "text/plain": [
       "13"
      ]
     },
     "execution_count": 19,
     "metadata": {},
     "output_type": "execute_result"
    }
   ],
   "source": [
    "class Solution:\n",
    "    def calculate(self,s):\n",
    "        if len(s) == 0:\n",
    "            return 0\n",
    "        lastNumber = 0\n",
    "        result = 0\n",
    "        operator = '+'\n",
    "        currentNumber = 0\n",
    "        for i in range(len(s)):\n",
    "            currentChar = s[i]\n",
    "            if currentChar.isdigit():\n",
    "                currentNumber = currentNumber * 10 + int(currentChar)\n",
    "            if (not currentChar.isdigit() and not currentChar.isspace()) or i == len(s) -1:\n",
    "                if operator == '+' or operator == '-':\n",
    "                    result +=lastNumber\n",
    "                    if operator == '+':\n",
    "                        lastNumber = currentNumber\n",
    "                    elif operator == '-':\n",
    "                        lastNumber = -currentNumber\n",
    "                elif operator == '*':\n",
    "                    lastNumber = lastNumber * currentNumber\n",
    "                elif operator == '/':\n",
    "                    lastNumber = int(lastNumber / currentNumber)\n",
    "                operator = currentChar\n",
    "                currentNumber = 0\n",
    "        result += lastNumber\n",
    "        return result\n",
    "example = Solution()\n",
    "s = '14-3/2'\n",
    "example.calculate(s)"
   ]
  },
  {
   "cell_type": "markdown",
   "metadata": {},
   "source": [
    "- Time complexity : O(n)\n",
    "- Space complexity : O(1)"
   ]
  }
 ],
 "metadata": {
  "kernelspec": {
   "display_name": "Python 3.10.4 64-bit",
   "language": "python",
   "name": "python3"
  },
  "language_info": {
   "codemirror_mode": {
    "name": "ipython",
    "version": 3
   },
   "file_extension": ".py",
   "mimetype": "text/x-python",
   "name": "python",
   "nbconvert_exporter": "python",
   "pygments_lexer": "ipython3",
   "version": "3.10.4"
  },
  "orig_nbformat": 4,
  "vscode": {
   "interpreter": {
    "hash": "cee17a95f8d2b47b87e349f4ec7ba8870f89611101dbbd013b3bec42dad00d74"
   }
  }
 },
 "nbformat": 4,
 "nbformat_minor": 2
}
