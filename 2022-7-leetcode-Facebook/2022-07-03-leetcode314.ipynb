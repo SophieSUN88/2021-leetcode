{
 "cells": [
  {
   "cell_type": "markdown",
   "metadata": {},
   "source": [
    "### 314. Binary Tree Vertical Order Traversal\n",
    "Medium\n",
    "\n",
    "Given the root of a binary tree, return the vertical order traversal of its nodes' values. (i.e., from top to bottom, column by column).\n",
    "\n",
    "If two nodes are in the same row and column, the order should be from left to right.\n",
    "\n",
    "Input: root = [3,9,20,null,null,15,7]\n",
    "Output: [[9],[3,15],[20],[7]]\n",
    "\n",
    "Input: root = [3,9,8,4,0,1,7]\n",
    "Output: [[4],[9],[3,0,1],[8],[7]]\n",
    "\n",
    "Input: root = [3,9,8,4,0,1,7,null,null,null,2,5]\n",
    "Output: [[4],[9,5],[3,0,1],[8,2],[7]]\n",
    " "
   ]
  },
  {
   "cell_type": "code",
   "execution_count": 1,
   "metadata": {},
   "outputs": [],
   "source": [
    "from collections import defaultdict, deque\n",
    "def verticalOrder(root):\n",
    "    columnTable = defaultdict()\n",
    "    queue = deque([(root,0)])\n",
    "\n",
    "    while queue:\n",
    "        node, column = queue.popleft()\n",
    "\n",
    "        if node is not None:\n",
    "            columnTable[column].append(node.val)\n",
    "\n",
    "            queue.append((node.left,column-1))\n",
    "            queue.append((node.right, column +1))\n",
    "    return [columnTable[x] for x in sorted(columnTable.keys())]\n"
   ]
  },
  {
   "cell_type": "markdown",
   "metadata": {},
   "source": [
    "- Time complexity : O(N log N)\n",
    "- Space complexity : O(N)\n",
    "\n",
    "Runtime: 60 ms, faster than 30.23% of Python3 online submissions for Binary Tree Vertical Order Traversal.\n",
    "\n",
    "Memory Usage: 13.9 MB, less than 80.05% of Python3 online submissions for Binary Tree Vertical Order Traversal."
   ]
  },
  {
   "cell_type": "code",
   "execution_count": null,
   "metadata": {},
   "outputs": [],
   "source": [
    "# Definition for a binary tree node.\n",
    "# class TreeNode:\n",
    "#     def __init__(self, val=0, left=None, right=None):\n",
    "#         self.val = val\n",
    "#         self.left = left\n",
    "#         self.right = right\n",
    "from collections import deque, defaultdict\n",
    "class Solution:\n",
    "    def verticalOrder(self, root: Optional[TreeNode]) -> List[List[int]]:\n",
    "        if root is None:\n",
    "            return []\n",
    "        columnTable = defaultdict(list)\n",
    "        queue = deque([(root,0)])\n",
    "        min_column = max_column = 0\n",
    "\n",
    "        while queue:\n",
    "            node, column = queue.popleft()\n",
    "\n",
    "            if node is not None:\n",
    "                columnTable[column].append(node.val)\n",
    "                min_column = min(min_column, column)\n",
    "                max_column = max(max_column, column)\n",
    "                \n",
    "                queue.append((node.left,column-1))\n",
    "                queue.append((node.right, column +1))\n",
    "                        \n",
    "        return [columnTable[x] for x in range(min_column, max_column+1)]"
   ]
  },
  {
   "cell_type": "markdown",
   "metadata": {},
   "source": [
    "Runtime: 42 ms, faster than 75.61% of Python3 online submissions for Binary Tree Vertical Order Traversal.\n",
    "\n",
    "Memory Usage: 13.9 MB, less than 33.70% of Python3 online submissions for Binary Tree Vertical Order Traversal."
   ]
  },
  {
   "cell_type": "markdown",
   "metadata": {},
   "source": []
  }
 ],
 "metadata": {
  "kernelspec": {
   "display_name": "Python 3.10.4 64-bit",
   "language": "python",
   "name": "python3"
  },
  "language_info": {
   "codemirror_mode": {
    "name": "ipython",
    "version": 3
   },
   "file_extension": ".py",
   "mimetype": "text/x-python",
   "name": "python",
   "nbconvert_exporter": "python",
   "pygments_lexer": "ipython3",
   "version": "3.10.4"
  },
  "orig_nbformat": 4,
  "vscode": {
   "interpreter": {
    "hash": "cee17a95f8d2b47b87e349f4ec7ba8870f89611101dbbd013b3bec42dad00d74"
   }
  }
 },
 "nbformat": 4,
 "nbformat_minor": 2
}
