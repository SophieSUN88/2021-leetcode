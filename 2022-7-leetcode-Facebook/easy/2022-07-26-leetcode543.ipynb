{
 "cells": [
  {
   "cell_type": "markdown",
   "metadata": {},
   "source": [
    "### 543. Diameter of Binary Tree\n",
    "\n",
    "Easy\n",
    "\n",
    "Given the root of a binary tree, return the length of the diameter of the tree.\n",
    "\n",
    "The diameter of a binary tree is the length of the longest path between any two nodes in a tree. This path may or may not pass through the root.\n",
    "\n",
    "The length of a path between two nodes is represented by the number of edges between them.\n",
    "\n",
    " \n",
    "\n",
    "Example 1:\n",
    "\n",
    "\n",
    "Input: root = [1,2,3,4,5]\n",
    "Output: 3\n",
    "Explanation: 3 is the length of the path [4,2,1,3] or [5,2,1,3].\n",
    "\n",
    "Example 2:\n",
    "\n",
    "Input: root = [1,2]\n",
    "Output: 1\n",
    " \n",
    "\n",
    "Constraints:\n",
    "\n",
    "The number of nodes in the tree is in the range [1, 104].\n",
    "-100 <= Node.val <= 100"
   ]
  },
  {
   "cell_type": "code",
   "execution_count": 11,
   "metadata": {},
   "outputs": [
    {
     "data": {
      "text/plain": [
       "3"
      ]
     },
     "execution_count": 11,
     "metadata": {},
     "output_type": "execute_result"
    }
   ],
   "source": [
    "# Definition for a binary tree node.\n",
    "class TreeNode:\n",
    "    def __init__(self, val=0, left=None, right=None):\n",
    "        self.val = val\n",
    "        self.left = left\n",
    "        self.right = right\n",
    "class Solution:\n",
    "    \n",
    "\n",
    "    def diameterOfBinaryTree(self, root) -> int:\n",
    "        diameter_max = 0\n",
    "        def depth(root):\n",
    "            nonlocal diameter_max\n",
    "            \n",
    "            if root.left:\n",
    "                left_count = max(depth(root.left)) + 1\n",
    "            else:\n",
    "                left_count = 0\n",
    "            if root.right:\n",
    "                right_count = max(depth(root.right)) + 1\n",
    "            else:\n",
    "                right_count = 0\n",
    "            diameter = left_count +right_count\n",
    "            diameter_max = max (diameter, diameter_max)\n",
    "            return [left_count, right_count]\n",
    "        depth(root)\n",
    "        return diameter_max\n",
    "\n",
    "root = TreeNode(1)\n",
    "root.left = TreeNode(2)\n",
    "root.right = TreeNode(3)\n",
    "root.left .left = TreeNode(4)\n",
    "root.left .right = TreeNode(5)\n",
    "\n",
    "example = Solution()\n",
    "example.diameterOfBinaryTree(root)\n",
    "\n"
   ]
  },
  {
   "cell_type": "markdown",
   "metadata": {},
   "source": [
    "- Time complexity : O(N)\n",
    "- Space complexity: O(N)\n",
    "\n",
    "Runtime: 63 ms, faster than 64.85% of Python3 online submissions for Diameter of Binary Tree.\n",
    "\n",
    "Memory Usage: 16.2 MB, less than 84.29% of Python3 online submissions for Diameter of Binary Tree."
   ]
  },
  {
   "cell_type": "code",
   "execution_count": 12,
   "metadata": {},
   "outputs": [
    {
     "data": {
      "text/plain": [
       "3"
      ]
     },
     "execution_count": 12,
     "metadata": {},
     "output_type": "execute_result"
    }
   ],
   "source": [
    "class Solution:\n",
    "    def diameterOfBinaryTree(self, root: TreeNode) -> int:\n",
    "        diameter = 0\n",
    "\n",
    "        def longest_path(node):\n",
    "            if not node:\n",
    "                return 0\n",
    "            nonlocal diameter\n",
    "            # recursively find the longest path in\n",
    "            # both left child and right child\n",
    "            left_path = longest_path(node.left)\n",
    "            right_path = longest_path(node.right)\n",
    "\n",
    "            # update the diameter if left_path plus right_path is larger\n",
    "            diameter = max(diameter, left_path + right_path)\n",
    "\n",
    "            # return the longest one between left_path and right_path;\n",
    "            # remember to add 1 for the path connecting the node and its parent\n",
    "            return max(left_path, right_path) + 1\n",
    "\n",
    "        longest_path(root)\n",
    "        return diameter\n",
    "root = TreeNode(1)\n",
    "root.left = TreeNode(2)\n",
    "root.right = TreeNode(3)\n",
    "root.left .left = TreeNode(4)\n",
    "root.left .right = TreeNode(5)\n",
    "\n",
    "example = Solution()\n",
    "example.diameterOfBinaryTree(root)"
   ]
  }
 ],
 "metadata": {
  "kernelspec": {
   "display_name": "Python 3.10.4 64-bit",
   "language": "python",
   "name": "python3"
  },
  "language_info": {
   "codemirror_mode": {
    "name": "ipython",
    "version": 3
   },
   "file_extension": ".py",
   "mimetype": "text/x-python",
   "name": "python",
   "nbconvert_exporter": "python",
   "pygments_lexer": "ipython3",
   "version": "3.10.4"
  },
  "orig_nbformat": 4,
  "vscode": {
   "interpreter": {
    "hash": "cee17a95f8d2b47b87e349f4ec7ba8870f89611101dbbd013b3bec42dad00d74"
   }
  }
 },
 "nbformat": 4,
 "nbformat_minor": 2
}
