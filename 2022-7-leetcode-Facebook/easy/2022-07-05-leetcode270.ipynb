{
 "cells": [
  {
   "cell_type": "markdown",
   "metadata": {},
   "source": [
    "### 270. Closest Binary Search Tree Value\n",
    "Easy\n",
    "\n",
    "Given the root of a binary search tree and a target value, return the value in the BST that is closest to the target.\n",
    "\n",
    " \n",
    "\n",
    "Example 1:\n",
    "\n",
    "\n",
    "Input: root = [4,2,5,1,3], target = 3.714286\n",
    "Output: 4\n",
    "\n",
    "Example 2:\n",
    "\n",
    "Input: root = [1], target = 4.428571\n",
    "Output: 1\n",
    " "
   ]
  },
  {
   "cell_type": "code",
   "execution_count": null,
   "metadata": {},
   "outputs": [],
   "source": [
    "# Definition for a binary tree node.\n",
    "# class TreeNode:\n",
    "#     def __init__(self, val=0, left=None, right=None):\n",
    "#         self.val = val\n",
    "#         self.left = left\n",
    "#         self.right = right\n",
    "class Solution:\n",
    "    def closestValue(self, root, target: float) -> int:\n",
    "        if root is None:\n",
    "            return None\n",
    "\n",
    "        if root.left is None and root.right is None:\n",
    "            return root.val\n",
    "        if root.left is None and root.right:\n",
    "            right = self.closestValue(root.right, target)\n",
    "            if abs(right-target) > abs(root.val-target):\n",
    "                return root.val\n",
    "            else:\n",
    "                return right\n",
    "        if root.right is None and root.left:\n",
    "            left = self.closestValue(root.left,target)\n",
    "            if abs(left-target) > abs(root.val-target):\n",
    "                return root.val\n",
    "            else:\n",
    "                return left\n",
    "        \n",
    "        if root.left and root.right:\n",
    "            left = self.closestValue(root.left, target)\n",
    "            right = self.closestValue(root.right, target)\n",
    "            if abs(left - target) > abs(right - target):\n",
    "                min_val = right\n",
    "            else:\n",
    "                min_val = left\n",
    "            if abs(min_val - target) > abs(root.val - target):\n",
    "                min_val = root.val\n",
    "\n",
    "            \n",
    "        return min_val"
   ]
  },
  {
   "cell_type": "code",
   "execution_count": null,
   "metadata": {},
   "outputs": [],
   "source": [
    "class Solution:\n",
    "    def closestValue(self, root, target: float) -> int:\n",
    "        def inorder(r):\n",
    "            return inorder(r.left) + [r.val] + inorder(r.right) if r else []\n",
    "        \n",
    "        return min(inorder(root), key = lambda x: abs(target - x))"
   ]
  },
  {
   "cell_type": "markdown",
   "metadata": {},
   "source": [
    "Algorithm\n",
    "\n",
    "Build an inorder traversal array.\n",
    "\n",
    "Find the closest to target element in that array.\n",
    "- Time complexity : O(N) because to build inorder traversal and then to perform linear search takes linear time.\n",
    "- Space complexity : O(N) to keep inorder traversal."
   ]
  },
  {
   "cell_type": "code",
   "execution_count": null,
   "metadata": {},
   "outputs": [],
   "source": [
    "class Solution:\n",
    "    def closestValue(self, root: TreeNode, target: float) -> int:\n",
    "        closest = root.val\n",
    "        while root:\n",
    "            closest = min(root.val, closest, key = lambda x: abs(target - x))\n",
    "            root = root.left if target < root.val else root.right\n",
    "        return closest"
   ]
  },
  {
   "cell_type": "markdown",
   "metadata": {},
   "source": [
    "Time complexity :O(H) since here one goes from root down to a leaf.\n",
    "\n",
    "Space complexity :O(1)."
   ]
  }
 ],
 "metadata": {
  "language_info": {
   "name": "python"
  },
  "orig_nbformat": 4
 },
 "nbformat": 4,
 "nbformat_minor": 2
}
