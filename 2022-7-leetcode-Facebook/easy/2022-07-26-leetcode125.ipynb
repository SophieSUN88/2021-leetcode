{
 "cells": [
  {
   "cell_type": "markdown",
   "metadata": {},
   "source": [
    "### 125. Valid Palindrome\n",
    "\n",
    "Easy\n",
    "\n",
    "A phrase is a palindrome if, after converting all uppercase letters into lowercase letters and removing all non-alphanumeric characters, it reads the same forward and backward. Alphanumeric characters include letters and numbers.\n",
    "\n",
    "Given a string s, return true if it is a palindrome, or false otherwise.\n",
    "\n",
    " \n",
    "\n",
    "Example 1:\n",
    "\n",
    "Input: s = \"A man, a plan, a canal: Panama\"\n",
    "Output: true\n",
    "Explanation: \"amanaplanacanalpanama\" is a palindrome.\n",
    "\n",
    "Example 2:\n",
    "\n",
    "Input: s = \"race a car\"\n",
    "Output: false\n",
    "Explanation: \"raceacar\" is not a palindrome.\n",
    "\n",
    "Example 3:\n",
    "\n",
    "Input: s = \" \"\n",
    "Output: true\n",
    "Explanation: s is an empty string \"\" after removing non-alphanumeric characters.\n",
    "Since an empty string reads the same forward and backward, it is a palindrome.\n",
    " \n",
    "\n",
    "Constraints:\n",
    "\n",
    "1 <= s.length <= 2 * 105\n",
    "s consists only of printable ASCII characters."
   ]
  },
  {
   "cell_type": "code",
   "execution_count": 1,
   "metadata": {},
   "outputs": [
    {
     "name": "stdout",
     "output_type": "stream",
     "text": [
      "chars: amanaplanacanalpanama\n",
      "True\n",
      "chars: raceacar\n",
      "False\n"
     ]
    }
   ],
   "source": [
    "# clean the string and compare \n",
    "class Solution:\n",
    "    def isPalindrome(self, s: str) -> bool:\n",
    "        chars = ''\n",
    "        for char in s:\n",
    "            if char.isalnum():\n",
    "                chars += char.lower()\n",
    "        print('chars:',chars)\n",
    "\n",
    "        for i in range(len(chars)//2):\n",
    "            if chars[i] != chars[-i-1]:\n",
    "                return False\n",
    "        return True\n",
    "s1 = \"A man, a plan, a canal: Panama\"\n",
    "s2 = \"race a car\"\n",
    "example = Solution()\n",
    "print(example.isPalindrome(s1))\n",
    "print(example.isPalindrome(s2))"
   ]
  },
  {
   "cell_type": "markdown",
   "metadata": {},
   "source": [
    "- Time complexity: O(N)\n",
    "- Space complexity: O(N)\n",
    "\n",
    "Runtime: 59 ms, faster than 75.76% of Python3 online submissions for Valid Palindrome.\n",
    "\n",
    "Memory Usage: 14.4 MB, less than 85.64% of Python3 online submissions for Valid Palindrome."
   ]
  },
  {
   "cell_type": "code",
   "execution_count": 2,
   "metadata": {},
   "outputs": [
    {
     "name": "stdout",
     "output_type": "stream",
     "text": [
      "amanaplanacanalpanama\n",
      "True\n",
      "raceacar\n",
      "False\n"
     ]
    }
   ],
   "source": [
    "# Approach 1: Compare with Reverse\n",
    "class Solution:\n",
    "    def isPalindrome(self, s: str) -> bool:\n",
    "        filtered_chars_list = ''.join(list(filter(lambda ch: ch.isalnum(), s.lower())))\n",
    "        print(filtered_chars_list)\n",
    "\n",
    "        return filtered_chars_list == filtered_chars_list[::-1]\n",
    "s1 = \"A man, a plan, a canal: Panama\"\n",
    "s2 = \"race a car\"\n",
    "example = Solution()\n",
    "print(example.isPalindrome(s1))\n",
    "print(example.isPalindrome(s2))"
   ]
  },
  {
   "cell_type": "code",
   "execution_count": 3,
   "metadata": {},
   "outputs": [
    {
     "name": "stdout",
     "output_type": "stream",
     "text": [
      "True\n",
      "False\n"
     ]
    }
   ],
   "source": [
    "# Approach 2: Two Pointers\n",
    "class Solution:\n",
    "    def isPalindrome(self, s: str) -> bool:\n",
    "\n",
    "        i, j = 0, len(s) - 1\n",
    "\n",
    "        while i < j:\n",
    "            while i < j and not s[i].isalnum():\n",
    "                i += 1\n",
    "            while i < j and not s[j].isalnum():\n",
    "                j -= 1\n",
    "\n",
    "            if s[i].lower() != s[j].lower():\n",
    "                return False\n",
    "\n",
    "            i += 1\n",
    "            j -= 1\n",
    "\n",
    "        return True\n",
    "s1 = \"A man, a plan, a canal: Panama\"\n",
    "s2 = \"race a car\"\n",
    "example = Solution()\n",
    "print(example.isPalindrome(s1))\n",
    "print(example.isPalindrome(s2))"
   ]
  },
  {
   "cell_type": "code",
   "execution_count": null,
   "metadata": {},
   "outputs": [],
   "source": []
  }
 ],
 "metadata": {
  "kernelspec": {
   "display_name": "Python 3.10.4 64-bit",
   "language": "python",
   "name": "python3"
  },
  "language_info": {
   "codemirror_mode": {
    "name": "ipython",
    "version": 3
   },
   "file_extension": ".py",
   "mimetype": "text/x-python",
   "name": "python",
   "nbconvert_exporter": "python",
   "pygments_lexer": "ipython3",
   "version": "3.10.4"
  },
  "orig_nbformat": 4,
  "vscode": {
   "interpreter": {
    "hash": "cee17a95f8d2b47b87e349f4ec7ba8870f89611101dbbd013b3bec42dad00d74"
   }
  }
 },
 "nbformat": 4,
 "nbformat_minor": 2
}
