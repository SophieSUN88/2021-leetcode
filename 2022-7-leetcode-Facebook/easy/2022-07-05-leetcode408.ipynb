{
 "cells": [
  {
   "cell_type": "markdown",
   "metadata": {},
   "source": [
    "### 408. Valid Word Abbreviation\n",
    "Easy\n",
    "\n",
    "A string can be abbreviated by replacing any number of non-adjacent, non-empty substrings with their lengths. The lengths should not have leading zeros.\n",
    "\n",
    "For example, a string such as \"substitution\" could be abbreviated as (but not limited to):\n",
    "\n",
    "- \"s10n\" (\"s ubstitutio n\")\n",
    "- \"sub4u4\" (\"sub stit u tion\")\n",
    "- \"12\" (\"substitution\")\n",
    "- \"su3i1u2on\" (\"su bst i t u ti on\")\n",
    "- \"substitution\" (no substrings replaced)\n",
    "\n",
    "The following are not valid abbreviations:\n",
    "\n",
    "- \"s55n\" (\"s ubsti tutio n\", the replaced substrings are adjacent)\n",
    "- \"s010n\" (has leading zeros)\n",
    "- \"s0ubstitution\" (replaces an empty substring)\n",
    "\n",
    "Given a string word and an abbreviation abbr, return whether the string matches the given abbreviation.\n",
    "\n",
    "A substring is a contiguous non-empty sequence of characters within a string.\n",
    "\n",
    " \n",
    "\n",
    "Example 1:\n",
    "\n",
    "Input: word = \"internationalization\", abbr = \"i12iz4n\"\n",
    "Output: true\n",
    "Explanation: The word \"internationalization\" can be abbreviated as \"i12iz4n\" (\"i nternational iz atio n\").\n",
    "\n",
    "Example 2:\n",
    "\n",
    "Input: word = \"apple\", abbr = \"a2e\"\n",
    "Output: false\n",
    "Explanation: The word \"apple\" cannot be abbreviated as \"a2e\"."
   ]
  },
  {
   "cell_type": "code",
   "execution_count": 13,
   "metadata": {},
   "outputs": [
    {
     "data": {
      "text/plain": [
       "False"
      ]
     },
     "execution_count": 13,
     "metadata": {},
     "output_type": "execute_result"
    }
   ],
   "source": [
    "class Solution:\n",
    "    def validWordAbbreviation(self, word, abbr):\n",
    "        number_count = 0\n",
    "        last_is_digit = False\n",
    "        index = 0\n",
    "        for i in range(len(abbr)):\n",
    "            currentChar = abbr[i]\n",
    "            if currentChar.isdigit():\n",
    "                # has leading zeros -> False\n",
    "                if int(currentChar) == 0 and number_count == 0:\n",
    "                    return False\n",
    "                # if last_is_digit is False, it is the first number\n",
    "                if not last_is_digit:\n",
    "                    currentNumber = 0\n",
    "                currentNumber = currentNumber * 10 + int(currentChar)\n",
    "                last_is_digit = True\n",
    "                number_count +=1\n",
    "            if currentChar.isalpha():\n",
    "                # if last_is_digit is True, it is number then alpha, so for the number, word skip that number chars\n",
    "                if last_is_digit:\n",
    "                    index += currentNumber\n",
    "                if index > len(word)-1:\n",
    "                    return False\n",
    "\n",
    "                # word not match abbr\n",
    "                if word[index] != currentChar:\n",
    "                    return False\n",
    "                index +=1\n",
    "                last_is_digit = False\n",
    "\n",
    "            # if the last char in abbr, but the index of word not reach end\n",
    "            if i == len(abbr)-1:\n",
    "                if last_is_digit:\n",
    "                    index +=currentNumber\n",
    "                if i == len(abbr)-1:\n",
    "                    if index != len(word):\n",
    "                        return False\n",
    "\n",
    "        return True\n",
    "example = Solution()\n",
    "word = 'ab'\n",
    "abbr = 'a'\n",
    "example.validWordAbbreviation(word, abbr)"
   ]
  },
  {
   "cell_type": "code",
   "execution_count": 15,
   "metadata": {},
   "outputs": [
    {
     "data": {
      "text/plain": [
       "True"
      ]
     },
     "execution_count": 15,
     "metadata": {},
     "output_type": "execute_result"
    }
   ],
   "source": [
    "class Solution:\n",
    "    def validWordAbbreviation(self, word, abbr):\n",
    "        abbr_len = 0\n",
    "        num =''\n",
    "        for x in abbr:\n",
    "            if x.isnumeric():\n",
    "                # if it is numeric and not leading zero, save the number\n",
    "                if x == '0' and not num:\n",
    "                    return False\n",
    "                num +=x\n",
    "                continue\n",
    "            elif num != '':\n",
    "                # if the numbers sequence ended, calculate the number\n",
    "                abbr_len +=int(num)\n",
    "                num = ''\n",
    "            if abbr_len < len(word) and x != word[abbr_len]:\n",
    "                return False\n",
    "            abbr_len +=1\n",
    "        if num:\n",
    "            abbr_len +=int(num)\n",
    "        return abbr_len == len(word)\n",
    "example = Solution()\n",
    "word = 'ab'\n",
    "abbr = 'a1'\n",
    "example.validWordAbbreviation(word, abbr)\n"
   ]
  },
  {
   "cell_type": "markdown",
   "metadata": {},
   "source": [
    "- Time complexity :O(n)\n",
    "- Space complexity :O(1)\n",
    "\n",
    "Runtime: 59 ms, faster than 22.20% of Python3 online submissions for Valid Word Abbreviation.\n",
    "\n",
    "Memory Usage: 13.9 MB, less than 30.43% of Python3 online submissions for Valid Word Abbreviation."
   ]
  },
  {
   "cell_type": "code",
   "execution_count": 17,
   "metadata": {},
   "outputs": [
    {
     "data": {
      "text/plain": [
       "1"
      ]
     },
     "execution_count": 17,
     "metadata": {},
     "output_type": "execute_result"
    }
   ],
   "source": [
    "a = abs(-1)\n",
    "a"
   ]
  },
  {
   "cell_type": "code",
   "execution_count": 20,
   "metadata": {},
   "outputs": [
    {
     "data": {
      "text/plain": [
       "1"
      ]
     },
     "execution_count": 20,
     "metadata": {},
     "output_type": "execute_result"
    }
   ],
   "source": [
    "a=[1,2,3]\n",
    "target =4\n",
    "max(a,key= lambda x:abs(target-x))"
   ]
  },
  {
   "cell_type": "code",
   "execution_count": 1,
   "metadata": {},
   "outputs": [
    {
     "data": {
      "text/plain": [
       "[[1, 1], [2, 2], [1, 3]]"
      ]
     },
     "execution_count": 1,
     "metadata": {},
     "output_type": "execute_result"
    }
   ],
   "source": [
    "a=[[1,3],[2,2],[1,1]]\n",
    "sorted(a,key=lambda x:(x[0] * x[0] + x[1] * x[1]))"
   ]
  }
 ],
 "metadata": {
  "kernelspec": {
   "display_name": "Python 3.10.4 64-bit",
   "language": "python",
   "name": "python3"
  },
  "language_info": {
   "codemirror_mode": {
    "name": "ipython",
    "version": 3
   },
   "file_extension": ".py",
   "mimetype": "text/x-python",
   "name": "python",
   "nbconvert_exporter": "python",
   "pygments_lexer": "ipython3",
   "version": "3.10.4"
  },
  "orig_nbformat": 4,
  "vscode": {
   "interpreter": {
    "hash": "cee17a95f8d2b47b87e349f4ec7ba8870f89611101dbbd013b3bec42dad00d74"
   }
  }
 },
 "nbformat": 4,
 "nbformat_minor": 2
}
