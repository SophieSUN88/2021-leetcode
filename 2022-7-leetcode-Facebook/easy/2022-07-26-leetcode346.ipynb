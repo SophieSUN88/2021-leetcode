{
 "cells": [
  {
   "cell_type": "markdown",
   "metadata": {},
   "source": [
    "### 346. Moving Average from Data Stream\n",
    "\n",
    "Easy\n",
    "\n",
    "Given a stream of integers and a window size, calculate the moving average of all integers in the sliding window.\n",
    "\n",
    "Implement the MovingAverage class:\n",
    "\n",
    "MovingAverage(int size) Initializes the object with the size of the window size.\n",
    "double next(int val) Returns the moving average of the last size values of the stream.\n",
    " \n",
    "\n",
    "Example 1:\n",
    "\n",
    "Input\n",
    "[\"MovingAverage\", \"next\", \"next\", \"next\", \"next\"]\n",
    "[[3], [1], [10], [3], [5]]\n",
    "Output\n",
    "[null, 1.0, 5.5, 4.66667, 6.0]\n",
    "\n",
    "Explanation\n",
    "\n",
    "MovingAverage movingAverage = new MovingAverage(3);\n",
    "movingAverage.next(1); // return 1.0 = 1 / 1\n",
    "movingAverage.next(10); // return 5.5 = (1 + 10) / 2\n",
    "movingAverage.next(3); // return 4.66667 = (1 + 10 + 3) / 3\n",
    "movingAverage.next(5); // return 6.0 = (10 + 3 + 5) / 3\n",
    " \n",
    "\n",
    "Constraints:\n",
    "\n",
    "1 <= size <= 1000\n",
    "-105 <= val <= 105\n",
    "At most 104 calls will be made to next."
   ]
  },
  {
   "cell_type": "code",
   "execution_count": 33,
   "metadata": {},
   "outputs": [
    {
     "name": "stdout",
     "output_type": "stream",
     "text": [
      "[None, None, None]\n",
      "Window:  [None, None, 1]\n",
      "Total Count:  1\n",
      "Number:  1\n",
      "1.0\n",
      "Window:  [None, 1, 10]\n",
      "Total Count:  11\n",
      "Number:  2\n",
      "5.5\n",
      "Window:  [1, 10, 3]\n",
      "Total Count:  14\n",
      "Number:  3\n",
      "4.666666666666667\n",
      "Window:  [10, 3, 5]\n",
      "Total Count:  18\n",
      "Number:  4\n",
      "6.0\n"
     ]
    }
   ],
   "source": [
    "# Your MovingAverage object will be instantiated and called as such:\n",
    "# obj = MovingAverage(size)\n",
    "# param_1 = obj.next(val):\n",
    "class MovingAverage:\n",
    "\n",
    "    def __init__(self, size: int):\n",
    "        self.size = size\n",
    "        self.window = [None] * self.size \n",
    "        print(self.window)\n",
    "        self.totalcount = 0\n",
    "        self.number = 0\n",
    "        \n",
    "\n",
    "    def next(self, val: int) -> float:\n",
    "        # if window[0] is not None, we need to minus window[0]\n",
    "        if self.window[0]:\n",
    "            self.totalcount -= self.window[0]\n",
    "        # get the new window\n",
    "        self.window = self.window[1:] + [val]\n",
    "        print('Window: ',self.window)\n",
    "        # if window[-1] is not None, we need to add window[-1]\n",
    "        if self.window[-1] :\n",
    "            self.totalcount += self.window[-1]\n",
    "            self.number +=1\n",
    "            print('Total Count: ',self.totalcount)\n",
    "            print('Number: ',self.number)\n",
    "        # check if it is in the initialize the window period or the window is full\n",
    "        return self.totalcount / min(self.size, self.number)\n",
    "example = MovingAverage(3)\n",
    "print(example.next(1))\n",
    "print(example.next(10))\n",
    "print(example.next(3))\n",
    "print(example.next(5))\n"
   ]
  },
  {
   "cell_type": "markdown",
   "metadata": {},
   "source": [
    "- Time complexity : O(1)\n",
    "- Space complexity : O(N) , N is the window size.\n",
    "\n",
    "Runtime: 176 ms, faster than 17.74% of Python3 online submissions for Moving Average from Data Stream.\n",
    "\n",
    "Memory Usage: 17.1 MB, less than 79.06% of Python3 online submissions for Moving Average from Data Stream."
   ]
  },
  {
   "cell_type": "code",
   "execution_count": 26,
   "metadata": {},
   "outputs": [
    {
     "name": "stdout",
     "output_type": "stream",
     "text": [
      "1.0\n",
      "5.5\n",
      "4.666666666666667\n",
      "6.0\n"
     ]
    }
   ],
   "source": [
    "# solution 2, the worst\n",
    "# Array or List\n",
    "class MovingAverage:\n",
    "    def __init__(self, size: int):\n",
    "        self.size = size\n",
    "        self.queue = []\n",
    "\n",
    "    def next(self, val: int) -> float:\n",
    "        size, queue = self.size, self.queue\n",
    "        queue.append(val)\n",
    "        # calculate the sum of the moving window\n",
    "        window_sum = sum(queue[-size:])\n",
    "\n",
    "        return window_sum / min(len(queue), size)\n",
    "example = MovingAverage(3)\n",
    "print(example.next(1))\n",
    "print(example.next(10))\n",
    "print(example.next(3))\n",
    "print(example.next(5))\n"
   ]
  },
  {
   "cell_type": "markdown",
   "metadata": {},
   "source": [
    "- Time complexity : O(N), N is the window size.\n",
    "- Space complexity : O(M), M is the length of the queue \n",
    "\n",
    "Runtime: 212 ms, faster than 8.75% of Python3 online submissions for Moving Average from Data Stream.\n",
    "\n",
    "Memory Usage: 17.8 MB, less than 5.77% of Python3 online submissions for Moving Average from Data Stream."
   ]
  },
  {
   "cell_type": "code",
   "execution_count": 29,
   "metadata": {},
   "outputs": [
    {
     "name": "stdout",
     "output_type": "stream",
     "text": [
      "1.0\n",
      "5.5\n",
      "4.666666666666667\n",
      "6.0\n"
     ]
    }
   ],
   "source": [
    "# Solution 3: queue, the best\n",
    "from collections import deque\n",
    "class MovingAverage:\n",
    "    def __init__(self, size: int):\n",
    "        self.size = size\n",
    "        self.queue = deque()\n",
    "\n",
    "        self.windowSum = 0\n",
    "        self.number = 0\n",
    "    def next(self, val: int) -> float:\n",
    "        self.number +=1\n",
    "        tail = self.queue.popleft() if self.number > self.size else 0\n",
    "        self.queue.append(val)\n",
    "        self.windowSum = self.windowSum - tail + val\n",
    "        return self.windowSum / min(self.number, self.size) \n",
    "example = MovingAverage(3)\n",
    "print(example.next(1))\n",
    "print(example.next(10))\n",
    "print(example.next(3))\n",
    "print(example.next(5))\n",
    "        "
   ]
  },
  {
   "cell_type": "markdown",
   "metadata": {},
   "source": [
    "- Time complexity : O(1)\n",
    "- Space complexity : O(N), N is the window size.\n",
    "\n",
    "Runtime: 97 ms, faster than 73.01% of Python3 online submissions for Moving Average from Data Stream.\n",
    "\n",
    "Memory Usage: 17.1 MB, less than 79.06% of Python3 online submissions for Moving Average from Data Stream."
   ]
  },
  {
   "cell_type": "code",
   "execution_count": null,
   "metadata": {},
   "outputs": [],
   "source": []
  }
 ],
 "metadata": {
  "kernelspec": {
   "display_name": "Python 3.10.4 64-bit",
   "language": "python",
   "name": "python3"
  },
  "language_info": {
   "codemirror_mode": {
    "name": "ipython",
    "version": 3
   },
   "file_extension": ".py",
   "mimetype": "text/x-python",
   "name": "python",
   "nbconvert_exporter": "python",
   "pygments_lexer": "ipython3",
   "version": "3.10.4"
  },
  "orig_nbformat": 4,
  "vscode": {
   "interpreter": {
    "hash": "cee17a95f8d2b47b87e349f4ec7ba8870f89611101dbbd013b3bec42dad00d74"
   }
  }
 },
 "nbformat": 4,
 "nbformat_minor": 2
}
