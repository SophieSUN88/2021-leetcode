{
 "cells": [
  {
   "cell_type": "markdown",
   "metadata": {},
   "source": [
    "### 938. Range Sum of BST\n",
    "\n",
    "Easy\n",
    "\n",
    "Given the root node of a binary search tree and two integers low and high, return the sum of values of all nodes with a value in the inclusive range [low, high].\n",
    "\n",
    " \n",
    "\n",
    "Example 1:\n",
    "\n",
    "\n",
    "Input: root = [10,5,15,3,7,null,18], low = 7, high = 15\n",
    "Output: 32\n",
    "Explanation: Nodes 7, 10, and 15 are in the range [7, 15]. 7 + 10 + 15 = 32.\n",
    "\n",
    "Example 2:\n",
    "\n",
    "\n",
    "Input: root = [10,5,15,3,7,13,18,1,null,6], low = 6, high = 10\n",
    "Output: 23\n",
    "Explanation: Nodes 6, 7, and 10 are in the range [6, 10]. 6 + 7 + 10 = 23."
   ]
  },
  {
   "cell_type": "markdown",
   "metadata": {},
   "source": [
    "#### Depth first search\n",
    "- recuisive implementation\n",
    "- iterative implementation"
   ]
  },
  {
   "cell_type": "code",
   "execution_count": 36,
   "metadata": {},
   "outputs": [],
   "source": [
    "# solution1: recuisive implementation\n",
    "class TreeNode:\n",
    "    def __init__(self, val=0, left=None, right=None):\n",
    "        self.val = val\n",
    "        self.left = left\n",
    "        self.right = right\n",
    "class Solution:\n",
    "    def rangeSumBST(self, root, low: int, high: int) -> int:\n",
    "        \n",
    "        if low <= root.val <= high:\n",
    "            total_sum = root.val\n",
    "        else:\n",
    "            total_sum = 0\n",
    "        print('111,total_sum:',total_sum)\n",
    "        if root.left is None and root.right is None:\n",
    "            \n",
    "            return total_sum\n",
    "\n",
    "        \n",
    "        if root.left:\n",
    "            left_sum = self.rangeSumBST(root.left, low, high)\n",
    "            total_sum += left_sum\n",
    "        \n",
    "        if root.right:\n",
    "            right_sum = self.rangeSumBST(root.right, low, high)\n",
    "            total_sum += right_sum\n",
    "\n",
    "        return total_sum\n",
    "\n",
    "\n",
    "\n"
   ]
  },
  {
   "cell_type": "code",
   "execution_count": 37,
   "metadata": {},
   "outputs": [],
   "source": [
    "root = TreeNode(10)\n",
    "root.left = TreeNode(5)\n",
    "root.right = TreeNode(15)\n",
    "root.left.left = TreeNode(3)"
   ]
  },
  {
   "cell_type": "code",
   "execution_count": 38,
   "metadata": {},
   "outputs": [
    {
     "name": "stdout",
     "output_type": "stream",
     "text": [
      "111,total_sum: 10\n",
      "111,total_sum: 0\n",
      "111,total_sum: 0\n",
      "111,total_sum: 15\n"
     ]
    },
    {
     "data": {
      "text/plain": [
       "25"
      ]
     },
     "execution_count": 38,
     "metadata": {},
     "output_type": "execute_result"
    }
   ],
   "source": [
    "example = Solution()\n",
    "example.rangeSumBST(root,7,15)"
   ]
  },
  {
   "cell_type": "markdown",
   "metadata": {},
   "source": [
    "- Time complexity: O(N)\n",
    "- Space complexity: O(N)\n",
    "\n",
    "Runtime: 604 ms, faster than 5.02% of Python3 online submissions for Range Sum of BST.\n",
    "\n",
    "Memory Usage: 23.1 MB, less than 49.83% of Python3 online submissions for Range Sum of BST."
   ]
  },
  {
   "cell_type": "code",
   "execution_count": 26,
   "metadata": {},
   "outputs": [
    {
     "data": {
      "text/plain": [
       "25"
      ]
     },
     "execution_count": 26,
     "metadata": {},
     "output_type": "execute_result"
    }
   ],
   "source": [
    "class Solution:\n",
    "    def rangeSumBST(self, root, low: int, high: int) -> int:\n",
    "        def dfs(node):\n",
    "            nonlocal ans\n",
    "            if node:\n",
    "                if low <= node.val <= high:\n",
    "                    ans += node.val\n",
    "                if low < node.val:\n",
    "                    dfs(node.left)\n",
    "                if node.val < high:\n",
    "                    dfs(node.right)\n",
    "\n",
    "        ans = 0\n",
    "        dfs(root)\n",
    "        return ans\n",
    "root = TreeNode(10)\n",
    "root.left = TreeNode(5)\n",
    "root.right = TreeNode(15)\n",
    "root.left.left = TreeNode(3)\n",
    "example = Solution()\n",
    "example.rangeSumBST(root,7,15)"
   ]
  },
  {
   "cell_type": "code",
   "execution_count": 39,
   "metadata": {},
   "outputs": [
    {
     "data": {
      "text/plain": [
       "25"
      ]
     },
     "execution_count": 39,
     "metadata": {},
     "output_type": "execute_result"
    }
   ],
   "source": [
    "# iterat\n",
    "class Solution:\n",
    "    def rangeSumBST(self, root, low: int, high: int) -> int:\n",
    "        ans = 0\n",
    "        stack = [root]\n",
    "        while stack:\n",
    "            node = stack.pop()\n",
    "            if node:\n",
    "                if low <= node.val <= high:\n",
    "                    ans += node.val\n",
    "                if low < node.val:\n",
    "                    stack.append(node.left)\n",
    "                if node.val < high:\n",
    "                    stack.append(node.right)\n",
    "        return ans\n",
    "root = TreeNode(10)\n",
    "root.left = TreeNode(5)\n",
    "root.right = TreeNode(15)\n",
    "root.left.left = TreeNode(3)\n",
    "example = Solution()\n",
    "example.rangeSumBST(root,7,15)"
   ]
  },
  {
   "cell_type": "markdown",
   "metadata": {},
   "source": [
    "- Time complexity: O(N)\n",
    "- Space complexity: O(N)\n",
    "\n",
    "Runtime: 292 ms, faster than 67.29% of Python3 online submissions for Range Sum of BST.\n",
    "\n",
    "Memory Usage: 23 MB, less than 49.83% of Python3 online submissions for Range Sum of BST."
   ]
  }
 ],
 "metadata": {
  "kernelspec": {
   "display_name": "Python 3.10.4 64-bit",
   "language": "python",
   "name": "python3"
  },
  "language_info": {
   "codemirror_mode": {
    "name": "ipython",
    "version": 3
   },
   "file_extension": ".py",
   "mimetype": "text/x-python",
   "name": "python",
   "nbconvert_exporter": "python",
   "pygments_lexer": "ipython3",
   "version": "3.10.4"
  },
  "orig_nbformat": 4,
  "vscode": {
   "interpreter": {
    "hash": "cee17a95f8d2b47b87e349f4ec7ba8870f89611101dbbd013b3bec42dad00d74"
   }
  }
 },
 "nbformat": 4,
 "nbformat_minor": 2
}
