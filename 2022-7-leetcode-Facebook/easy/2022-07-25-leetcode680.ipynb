{
 "cells": [
  {
   "cell_type": "markdown",
   "metadata": {},
   "source": [
    "### 680. Valid Palindrome II\n",
    "\n",
    "Easy\n",
    "\n",
    "Given a string s, return true if the s can be palindrome after deleting at most one character from it.\n",
    "\n",
    " \n",
    "\n",
    "Example 1:\n",
    "\n",
    "Input: s = \"aba\"\n",
    "Output: true\n",
    "\n",
    "Example 2:\n",
    "\n",
    "Input: s = \"abca\"\n",
    "Output: true\n",
    "Explanation: You could delete the character 'c'.\n",
    "\n",
    "Example 3:\n",
    "\n",
    "Input: s = \"abc\"\n",
    "Output: false\n",
    " \n",
    "\n",
    "Constraints:\n",
    "\n",
    "1 <= s.length <= 105\n",
    "s consists of lowercase English letters."
   ]
  },
  {
   "cell_type": "code",
   "execution_count": 5,
   "metadata": {},
   "outputs": [
    {
     "data": {
      "text/plain": [
       "True"
      ]
     },
     "execution_count": 5,
     "metadata": {},
     "output_type": "execute_result"
    }
   ],
   "source": [
    "class Solution:\n",
    "    def palindrome(self,s):\n",
    "        l = 0 \n",
    "        r = len(s)-1\n",
    "        while l <= r:\n",
    "            if s[l] != s[r]:\n",
    "                return False\n",
    "            l +=1\n",
    "            r -=1\n",
    "        return True\n",
    "\n",
    "    def validPalindrome(self, s: str) -> bool:\n",
    "        if self.palindrome(s):\n",
    "            return True\n",
    "        else:\n",
    "            l = 0\n",
    "            r = len(s) -1\n",
    "            while l <= r :\n",
    "                if s[l] != s[r]:\n",
    "                    s_l = s[:l]+s[l+1:]\n",
    "                    s_r = s[:r]+s[r+1:]\n",
    "                    return self.palindrome(s_l) or self.palindrome(s_r)\n",
    "                l +=1\n",
    "                r -=1\n",
    "s = 'abca'\n",
    "example = Solution()\n",
    "example.validPalindrome(s)"
   ]
  },
  {
   "cell_type": "code",
   "execution_count": 3,
   "metadata": {},
   "outputs": [
    {
     "data": {
      "text/plain": [
       "True"
      ]
     },
     "execution_count": 3,
     "metadata": {},
     "output_type": "execute_result"
    }
   ],
   "source": [
    "class Solution:\n",
    "\n",
    "    def check_Palindrome(self,s,l,r):\n",
    "        while l < r:\n",
    "            if s[l] != s[r]:\n",
    "                return False\n",
    "            l +=1\n",
    "            r -=1\n",
    "        return True\n",
    "    def validPalindrome(self, s: str) -> bool:\n",
    "        l = 0\n",
    "        r = len(s) -1\n",
    "        while l < r:\n",
    "            if s[l] != s[r]:\n",
    "                return self.check_Palindrome(s, l, r-1) or self.check_Palindrome(s, l+1, r)\n",
    "            l +=1\n",
    "            r -=1\n",
    "        return True\n",
    "s = 'abca'\n",
    "example = Solution()\n",
    "example.validPalindrome(s)"
   ]
  }
 ],
 "metadata": {
  "kernelspec": {
   "display_name": "Python 3.10.4 64-bit",
   "language": "python",
   "name": "python3"
  },
  "language_info": {
   "codemirror_mode": {
    "name": "ipython",
    "version": 3
   },
   "file_extension": ".py",
   "mimetype": "text/x-python",
   "name": "python",
   "nbconvert_exporter": "python",
   "pygments_lexer": "ipython3",
   "version": "3.10.4"
  },
  "orig_nbformat": 4,
  "vscode": {
   "interpreter": {
    "hash": "cee17a95f8d2b47b87e349f4ec7ba8870f89611101dbbd013b3bec42dad00d74"
   }
  }
 },
 "nbformat": 4,
 "nbformat_minor": 2
}
