{
 "cells": [
  {
   "cell_type": "markdown",
   "metadata": {},
   "source": [
    "### 1762. Buildings With an Ocean View\n",
    "Medium\n",
    "\n",
    "There are n buildings in a line. You are given an integer array heights of size n that represents the heights of the buildings in the line.\n",
    "\n",
    "The ocean is to the right of the buildings. A building has an ocean view if the building can see the ocean without obstructions. Formally, a building has an ocean view if all the buildings to its right have a smaller height.\n",
    "\n",
    "Return a list of indices (0-indexed) of buildings that have an ocean view, sorted in increasing order.\n",
    "\n",
    " \n",
    "\n",
    "Example 1:\n",
    "\n",
    "Input: heights = [4,2,3,1]\n",
    "Output: [0,2,3]\n",
    "Explanation: Building 1 (0-indexed) does not have an ocean view because building 2 is taller.\n",
    "\n",
    "Example 2:\n",
    "\n",
    "Input: heights = [4,3,2,1]\n",
    "Output: [0,1,2,3]\n",
    "Explanation: All the buildings have an ocean view.\n",
    "\n",
    "Example 3:\n",
    "\n",
    "Input: heights = [1,3,2,4]\n",
    "Output: [3]\n",
    "Explanation: Only building 3 has an ocean view."
   ]
  },
  {
   "cell_type": "code",
   "execution_count": 4,
   "metadata": {},
   "outputs": [
    {
     "data": {
      "text/plain": [
       "[3]"
      ]
     },
     "execution_count": 4,
     "metadata": {},
     "output_type": "execute_result"
    }
   ],
   "source": [
    "class Solution:\n",
    "    def findBuildings(self,heights):\n",
    "        i = len(heights) -1\n",
    "        result = []\n",
    "        max_height = 0\n",
    "        while i >= 0:\n",
    "            if heights[i] > max_height:\n",
    "                result.append(i)\n",
    "                max_height = max(max_height,heights[i])\n",
    "            i -=1\n",
    "        result.sort()\n",
    "        return result\n",
    "example = Solution()\n",
    "heights = [1,2,3,4]\n",
    "example.findBuildings(heights)\n",
    "\n"
   ]
  },
  {
   "cell_type": "markdown",
   "metadata": {},
   "source": [
    "- Time complexity: O(n)\n",
    "- Space complexity: O(n)\n",
    "\n",
    "Runtime: 1092 ms, faster than 41.83% of Python3 online submissions for Buildings With an Ocean View.\n",
    "\n",
    "Memory Usage: 31.4 MB, less than 77.10% of Python3 online submissions for Buildings With an Ocean View."
   ]
  },
  {
   "cell_type": "code",
   "execution_count": 2,
   "metadata": {},
   "outputs": [
    {
     "data": {
      "text/plain": [
       "[3]"
      ]
     },
     "execution_count": 2,
     "metadata": {},
     "output_type": "execute_result"
    }
   ],
   "source": [
    "class Solution:\n",
    "    def findBuildings(self,heights):\n",
    "        result = []\n",
    "        stack = []\n",
    "        for i in reversed(range(len(heights))):\n",
    "            while stack and heights[i] > heights[stack[-1]]:\n",
    "                stack.pop()\n",
    "            if not stack:\n",
    "                result.append(i)\n",
    "            stack.append(i)\n",
    "        result.reverse()\n",
    "        return result\n",
    "example = Solution()\n",
    "heights = [1,2,3,4]\n",
    "example.findBuildings(heights)"
   ]
  },
  {
   "cell_type": "markdown",
   "metadata": {},
   "source": [
    "Runtime: 782 ms, faster than 83.36% of Python3 online submissions for Buildings With an Ocean View.\n",
    "\n",
    "Memory Usage: 31.1 MB, less than 81.16% of Python3 online submissions for Buildings With an Ocean View."
   ]
  }
 ],
 "metadata": {
  "kernelspec": {
   "display_name": "Python 3.10.4 64-bit",
   "language": "python",
   "name": "python3"
  },
  "language_info": {
   "codemirror_mode": {
    "name": "ipython",
    "version": 3
   },
   "file_extension": ".py",
   "mimetype": "text/x-python",
   "name": "python",
   "nbconvert_exporter": "python",
   "pygments_lexer": "ipython3",
   "version": "3.10.4"
  },
  "orig_nbformat": 4,
  "vscode": {
   "interpreter": {
    "hash": "cee17a95f8d2b47b87e349f4ec7ba8870f89611101dbbd013b3bec42dad00d74"
   }
  }
 },
 "nbformat": 4,
 "nbformat_minor": 2
}
