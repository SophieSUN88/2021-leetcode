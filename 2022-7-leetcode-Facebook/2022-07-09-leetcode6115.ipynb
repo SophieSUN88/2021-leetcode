{
 "cells": [
  {
   "cell_type": "markdown",
   "metadata": {},
   "source": [
    "6115. Count the Number of Ideal Arrays\n",
    "\n",
    "Difficulty:Hard\n",
    "You are given two integers n and maxValue, which are used to describe an ideal array.\n",
    "\n",
    "A 0-indexed integer array arr of length n is considered ideal if the following conditions hold:\n",
    "\n",
    "Every arr[i] is a value from 1 to maxValue, for 0 <= i < n.\n",
    "Every arr[i] is divisible by arr[i - 1], for 0 < i < n.\n",
    "Return the number of distinct ideal arrays of length n. Since the answer may be very large, return it modulo 109 + 7.\n",
    "\n",
    " \n",
    "\n",
    "Example 1:\n",
    "\n",
    "Input: n = 2, maxValue = 5\n",
    "Output: 10\n",
    "Explanation: The following are the possible ideal arrays:\n",
    "- Arrays starting with the value 1 (5 arrays): [1,1], [1,2], [1,3], [1,4], [1,5]\n",
    "- Arrays starting with the value 2 (2 arrays): [2,2], [2,4]\n",
    "- Arrays starting with the value 3 (1 array): [3,3]\n",
    "- Arrays starting with the value 4 (1 array): [4,4]\n",
    "- Arrays starting with the value 5 (1 array): [5,5]\n",
    "There are a total of 5 + 2 + 1 + 1 + 1 = 10 distinct ideal arrays.\n",
    "\n",
    "Example 2:\n",
    "\n",
    "Input: n = 5, maxValue = 3\n",
    "Output: 11\n",
    "Explanation: The following are the possible ideal arrays:\n",
    "- Arrays starting with the value 1 (9 arrays): \n",
    "   - With no other distinct values (1 array): [1,1,1,1,1] \n",
    "   - With 2nd distinct value 2 (4 arrays): [1,1,1,1,2], [1,1,1,2,2], [1,1,2,2,2], [1,2,2,2,2]\n",
    "   - With 2nd distinct value 3 (4 arrays): [1,1,1,1,3], [1,1,1,3,3], [1,1,3,3,3], [1,3,3,3,3]\n",
    "- Arrays starting with the value 2 (1 array): [2,2,2,2,2]\n",
    "- Arrays starting with the value 3 (1 array): [3,3,3,3,3]\n",
    "There are a total of 9 + 1 + 1 = 11 distinct ideal arrays."
   ]
  },
  {
   "cell_type": "code",
   "execution_count": 14,
   "metadata": {},
   "outputs": [
    {
     "name": "stdout",
     "output_type": "stream",
     "text": [
      "{1: 1, 2: 1, 3: 1}\n",
      "{1: 1, 2: 2, 3: 2}\n",
      "{1: 1, 2: 3, 3: 3}\n"
     ]
    },
    {
     "data": {
      "text/plain": [
       "9"
      ]
     },
     "execution_count": 14,
     "metadata": {},
     "output_type": "execute_result"
    }
   ],
   "source": [
    "class Solution:\n",
    "    def idealArrays(self, n: int, maxValue: int) -> int:\n",
    "        def idealDict(n,maxValue):\n",
    "            if n ==1:\n",
    "                dict = {}\n",
    "                for i in range(1,maxValue+1):\n",
    "                    if i not in dict:\n",
    "                        dict[i] =1\n",
    "                return dict\n",
    "            if n >= 2:\n",
    "                last_dict = idealDict(n-1,maxValue)\n",
    "                print(last_dict)\n",
    "                dict = {}\n",
    "                for i in range(1,maxValue+1):\n",
    "                    temp = maxValue // i\n",
    "                    if temp > 1:\n",
    "                        for k in range(1,temp+1):\n",
    "                            number = k * i\n",
    "                            if number not in dict:\n",
    "                                dict[number] = last_dict[i]\n",
    "                            else:\n",
    "                                dict[number] +=last_dict[i]\n",
    "                    elif temp == 1:\n",
    "                        number = i\n",
    "                        if number not in dict:\n",
    "                            dict[number] = last_dict[i]\n",
    "                        else:\n",
    "                            dict[number] += last_dict[i]\n",
    "                return dict\n",
    "        dict = idealDict(n,maxValue)\n",
    "        result = 0 \n",
    "        for i in dict:\n",
    "            result += dict[i]\n",
    "        return result\n",
    "n=4\n",
    "maxValue = 3\n",
    "example = Solution()\n",
    "example.idealArrays(n,maxValue)"
   ]
  },
  {
   "cell_type": "code",
   "execution_count": 10,
   "metadata": {},
   "outputs": [
    {
     "name": "stdout",
     "output_type": "stream",
     "text": [
      "{1: 1, 2: 1, 3: 1, 4: 1, 5: 1}\n",
      "{1: 1, 2: 2, 3: 2, 4: 3, 5: 2}\n"
     ]
    },
    {
     "data": {
      "text/plain": [
       "{1: 1, 2: 3, 3: 3, 4: 6, 5: 3}"
      ]
     },
     "execution_count": 10,
     "metadata": {},
     "output_type": "execute_result"
    }
   ],
   "source": [
    "def idealDict(n,maxValue):\n",
    "    if n ==1:\n",
    "        dict = {}\n",
    "        for i in range(1,maxValue+1):\n",
    "            if i not in dict:\n",
    "                dict[i] =1\n",
    "        return dict\n",
    "    if n >= 2:\n",
    "        last_dict = idealDict(n-1,maxValue)\n",
    "        dict = {}\n",
    "        for i in range(1,maxValue+1):\n",
    "            temp = maxValue // i\n",
    "            if temp > 1:\n",
    "                for k in range(1,temp+1):\n",
    "                    number = k * i\n",
    "                    if number not in dict:\n",
    "                        dict[number] = last_dict[i]\n",
    "                    else:\n",
    "                        dict[number] +=last_dict[i]\n",
    "            elif temp == 1:\n",
    "                number = i\n",
    "                if number not in dict:\n",
    "                    dict[number] = last_dict[i]\n",
    "                else:\n",
    "                    dict[number] += last_dict[i]\n",
    "        return dict\n",
    "idealDict(n=3,maxValue=5)"
   ]
  },
  {
   "cell_type": "code",
   "execution_count": null,
   "metadata": {},
   "outputs": [],
   "source": []
  }
 ],
 "metadata": {
  "kernelspec": {
   "display_name": "Python 3.10.4 64-bit",
   "language": "python",
   "name": "python3"
  },
  "language_info": {
   "codemirror_mode": {
    "name": "ipython",
    "version": 3
   },
   "file_extension": ".py",
   "mimetype": "text/x-python",
   "name": "python",
   "nbconvert_exporter": "python",
   "pygments_lexer": "ipython3",
   "version": "3.10.4"
  },
  "orig_nbformat": 4,
  "vscode": {
   "interpreter": {
    "hash": "cee17a95f8d2b47b87e349f4ec7ba8870f89611101dbbd013b3bec42dad00d74"
   }
  }
 },
 "nbformat": 4,
 "nbformat_minor": 2
}
