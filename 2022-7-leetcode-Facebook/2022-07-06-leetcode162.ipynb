{
 "cells": [
  {
   "cell_type": "markdown",
   "metadata": {},
   "source": [
    "### 162. Find Peak Element\n",
    "Medium\n",
    "\n",
    "A peak element is an element that is strictly greater than its neighbors.\n",
    "\n",
    "Given a 0-indexed integer array nums, find a peak element, and return its index. If the array contains multiple peaks, return the index to any of the peaks.\n",
    "\n",
    "You may imagine that nums[-1] = nums[n] = -∞. In other words, an element is always considered to be strictly greater than a neighbor that is outside the array.\n",
    "\n",
    "You must write an algorithm that runs in O(log n) time.\n",
    "\n",
    " \n",
    "\n",
    "Example 1:\n",
    "\n",
    "Input: nums = [1,2,3,1]\n",
    "Output: 2\n",
    "Explanation: 3 is a peak element and your function should return the index number 2.\n",
    "\n",
    "Example 2:\n",
    "\n",
    "Input: nums = [1,2,1,3,5,6,4]\n",
    "Output: 5\n",
    "Explanation: Your function can return either index number 1 where the peak element is 2, or index number 5 where the peak element is 6.\n",
    " "
   ]
  },
  {
   "cell_type": "code",
   "execution_count": 1,
   "metadata": {},
   "outputs": [
    {
     "data": {
      "text/plain": [
       "2"
      ]
     },
     "execution_count": 1,
     "metadata": {},
     "output_type": "execute_result"
    }
   ],
   "source": [
    "from typing import List\n",
    "class Solution:\n",
    "    def findPeakElement(self, nums: List[int]) -> int:\n",
    "        n=len(nums)\n",
    "        if n == 1:\n",
    "            return 0\n",
    "        for i in range(n-1):\n",
    "            if nums[i] >nums[i+1]:\n",
    "                return i\n",
    "        return n-1\n",
    "example = Solution()\n",
    "nums = [1,2,3,1]\n",
    "example.findPeakElement(nums)"
   ]
  },
  {
   "cell_type": "markdown",
   "metadata": {},
   "source": [
    "- Time complexity: O(n)\n",
    "- Space complexity: O(1)"
   ]
  },
  {
   "cell_type": "code",
   "execution_count": 2,
   "metadata": {},
   "outputs": [
    {
     "data": {
      "text/plain": [
       "2"
      ]
     },
     "execution_count": 2,
     "metadata": {},
     "output_type": "execute_result"
    }
   ],
   "source": [
    "class Solution:\n",
    "    def findPeakElement(self, nums):\n",
    "        return self.search(nums,0,len(nums)-1)\n",
    "    def search(self,nums,l,r):\n",
    "        if l==r:\n",
    "            return l\n",
    "        mid = (l+r)//2\n",
    "        if nums[mid] > nums[mid+1]:\n",
    "            return self.search(nums,l,mid)\n",
    "        return self.search(nums,mid+1,r)\n",
    "example = Solution()\n",
    "nums = [1,2,3,1]\n",
    "example.findPeakElement(nums)\n",
    "        \n"
   ]
  },
  {
   "cell_type": "markdown",
   "metadata": {},
   "source": [
    "- Time complexity: O(log n)\n",
    "- Space complexity: O(1)"
   ]
  }
 ],
 "metadata": {
  "kernelspec": {
   "display_name": "Python 3.10.4 64-bit",
   "language": "python",
   "name": "python3"
  },
  "language_info": {
   "codemirror_mode": {
    "name": "ipython",
    "version": 3
   },
   "file_extension": ".py",
   "mimetype": "text/x-python",
   "name": "python",
   "nbconvert_exporter": "python",
   "pygments_lexer": "ipython3",
   "version": "3.10.4"
  },
  "orig_nbformat": 4,
  "vscode": {
   "interpreter": {
    "hash": "cee17a95f8d2b47b87e349f4ec7ba8870f89611101dbbd013b3bec42dad00d74"
   }
  }
 },
 "nbformat": 4,
 "nbformat_minor": 2
}
