{
 "cells": [
  {
   "cell_type": "markdown",
   "metadata": {},
   "source": [
    "6114. Move Pieces to Obtain a String\n",
    "Difficulty:Medium\n",
    "You are given two strings start and target, both of length n. Each string consists only of the characters 'L', 'R', and '_' where:\n",
    "\n",
    "The characters 'L' and 'R' represent pieces, where a piece 'L' can move to the left only if there is a blank space directly to its left, and a piece 'R' can move to the right only if there is a blank space directly to its right.\n",
    "The character '_' represents a blank space that can be occupied by any of the 'L' or 'R' pieces.\n",
    "Return true if it is possible to obtain the string target by moving the pieces of the string start any number of times. Otherwise, return false.\n",
    "\n",
    " \n",
    "\n",
    "Example 1:\n",
    "\n",
    "Input: start = \"_L__R__R_\", target = \"L______RR\"\n",
    "Output: true\n",
    "Explanation: We can obtain the string target from start by doing the following moves:\n",
    "- Move the first piece one step to the left, start becomes equal to \"L___R__R_\".\n",
    "- Move the last piece one step to the right, start becomes equal to \"L___R___R\".\n",
    "- Move the second piece three steps to the right, start becomes equal to \"L______RR\".\n",
    "Since it is possible to get the string target from start, we return true.\n",
    "\n",
    "Example 2:\n",
    "\n",
    "Input: start = \"R_L_\", target = \"__LR\"\n",
    "Output: false\n",
    "Explanation: The 'R' piece in the string start can move one step to the right to obtain \"_RL_\".\n",
    "After that, no pieces can move anymore, so it is impossible to obtain the string target from start.\n",
    "\n",
    "Example 3:\n",
    "\n",
    "Input: start = \"_R\", target = \"R_\"\n",
    "Output: false\n",
    "Explanation: The piece in the string start can move only to the right, so it is impossible to obtain the string target from start."
   ]
  },
  {
   "cell_type": "code",
   "execution_count": 9,
   "metadata": {},
   "outputs": [
    {
     "data": {
      "text/plain": [
       "True"
      ]
     },
     "execution_count": 9,
     "metadata": {},
     "output_type": "execute_result"
    }
   ],
   "source": [
    "class Solution:\n",
    "    def canChange(self, start: str, target: str) -> bool:\n",
    "\n",
    "        def str_stack(str):\n",
    "            str_stack=[]\n",
    "            for i in range(len(str)):\n",
    "                if str[i] == 'L':\n",
    "                    str_stack.append(['L',i])\n",
    "                if str[i] == 'R':\n",
    "                    str_stack.append(['R',i])\n",
    "            return str_stack\n",
    "        start_stack = str_stack(start)\n",
    "        target_stack = str_stack(target)\n",
    "        n1=len(start_stack)\n",
    "        n2=len(target_stack)\n",
    "        if n1 != n2:\n",
    "            return False\n",
    "        else:\n",
    "            for i in range(n1):\n",
    "                if start_stack[i][0] != target_stack[i][0]:\n",
    "                    return False\n",
    "                else:\n",
    "                    if start_stack[i][0] == 'L':\n",
    "                        if start_stack[i][1] < target_stack[i][1]:\n",
    "                            return False\n",
    "                    if start_stack[i][0] == 'R':\n",
    "                        if start_stack[i][1] > target_stack[i][1]:\n",
    "                            return False\n",
    "        return True\n",
    "\n",
    "start = \"_L__R__R_\"\n",
    "target = \"L______RR\"\n",
    "example = Solution()\n",
    "example.canChange(start, target)\n",
    "\n",
    "\n",
    "            \n",
    "        "
   ]
  },
  {
   "cell_type": "code",
   "execution_count": 10,
   "metadata": {},
   "outputs": [
    {
     "data": {
      "text/plain": [
       "False"
      ]
     },
     "execution_count": 10,
     "metadata": {},
     "output_type": "execute_result"
    }
   ],
   "source": [
    "start = \"R_L_\"\n",
    "target = \"__LR\"\n",
    "example = Solution()\n",
    "example.canChange(start, target)"
   ]
  },
  {
   "cell_type": "code",
   "execution_count": 11,
   "metadata": {},
   "outputs": [
    {
     "data": {
      "text/plain": [
       "False"
      ]
     },
     "execution_count": 11,
     "metadata": {},
     "output_type": "execute_result"
    }
   ],
   "source": [
    "start = \"_R\"\n",
    "target = \"R_\"\n",
    "example = Solution()\n",
    "example.canChange(start, target)"
   ]
  }
 ],
 "metadata": {
  "kernelspec": {
   "display_name": "Python 3.10.4 64-bit",
   "language": "python",
   "name": "python3"
  },
  "language_info": {
   "codemirror_mode": {
    "name": "ipython",
    "version": 3
   },
   "file_extension": ".py",
   "mimetype": "text/x-python",
   "name": "python",
   "nbconvert_exporter": "python",
   "pygments_lexer": "ipython3",
   "version": "3.10.4"
  },
  "orig_nbformat": 4,
  "vscode": {
   "interpreter": {
    "hash": "cee17a95f8d2b47b87e349f4ec7ba8870f89611101dbbd013b3bec42dad00d74"
   }
  }
 },
 "nbformat": 4,
 "nbformat_minor": 2
}
