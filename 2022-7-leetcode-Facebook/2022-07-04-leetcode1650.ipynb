{
 "cells": [
  {
   "cell_type": "markdown",
   "metadata": {},
   "source": [
    "### 236 / 1650. Lowest Common Ancestor of a Binary Tree III\n",
    "Medium\n",
    "\n",
    "Given two nodes of a binary tree p and q, return their lowest common ancestor (LCA).\n",
    "\n",
    "Each node will have a reference to its parent node. The definition for Node is below:\n",
    "\n",
    "class Node {\n",
    "    public int val;\n",
    "    public Node left;\n",
    "    public Node right;\n",
    "    public Node parent;\n",
    "}\n",
    "According to the definition of LCA on Wikipedia: \"The lowest common ancestor of two nodes p and q in a tree T is the lowest node that has both p and q as descendants (where we allow a node to be a descendant of itself).\"\n",
    "\n",
    " \n",
    "\n",
    "Example 1:\n",
    "\n",
    "\n",
    "Input: root = [3,5,1,6,2,0,8,null,null,7,4], p = 5, q = 1\n",
    "Output: 3\n",
    "Explanation: The LCA of nodes 5 and 1 is 3.\n",
    "Example 2:\n",
    "\n",
    "\n",
    "Input: root = [3,5,1,6,2,0,8,null,null,7,4], p = 5, q = 4\n",
    "Output: 5\n",
    "Explanation: The LCA of nodes 5 and 4 is 5 since a node can be a descendant of itself according to the LCA definition."
   ]
  },
  {
   "cell_type": "code",
   "execution_count": 1,
   "metadata": {},
   "outputs": [],
   "source": [
    "class Node:\n",
    "    def __init__(self, val):\n",
    "        self.val = val\n",
    "        self.left = None\n",
    "        self.right = None\n",
    "        self.parent = None"
   ]
  },
  {
   "cell_type": "code",
   "execution_count": null,
   "metadata": {},
   "outputs": [],
   "source": [
    "class Solution:\n",
    "    def lowestCommonAncestor(self, p, q):\n",
    "        def is_parent(node, target):\n",
    "            if node  == target:\n",
    "                return True\n",
    "            if node is None:\n",
    "                return False\n",
    "            return is_parent(node.parent, target)\n",
    "        q_desc_of_p = is_parent(q, p)\n",
    "        if q_desc_of_p:\n",
    "            return p\n",
    "        p_desc_of_q = is_parent(p,q)\n",
    "        if p_desc_of_q:\n",
    "            return q\n",
    "        \n",
    "        def get_root(node):\n",
    "            if node.parent == None:\n",
    "                return node\n",
    "            return get_root(node.parent)\n",
    "        \n",
    "        root = get_root(p)\n",
    "        ans = None\n",
    "        def lca(p,q,root):\n",
    "            nonlocal ans\n",
    "\n",
    "            if root is None:\n",
    "                return None\n",
    "            if root == p or root == q:\n",
    "                return root\n",
    "            left = lca(p,q,root.left)\n",
    "            right = lca(p,q,root.right)\n",
    "\n",
    "            if left and right :\n",
    "                return root\n",
    "            if not left:\n",
    "                return right\n",
    "            if not right:\n",
    "                return left\n",
    "\n",
    "        return lca(p,q,root)\n",
    "\n"
   ]
  },
  {
   "cell_type": "markdown",
   "metadata": {},
   "source": [
    "- Time complexity : O (n)\n",
    "- Space complexity : O (n)\n",
    "\n",
    "Runtime: 134 ms, faster than 16.25% of Python3 online submissions for Lowest Common Ancestor of a Binary Tree III.\n",
    "\n",
    "Memory Usage: 18.5 MB, less than 33.44% of Python3 online submissions for Lowest Common Ancestor of a Binary Tree III."
   ]
  },
  {
   "cell_type": "code",
   "execution_count": null,
   "metadata": {},
   "outputs": [],
   "source": [
    "class Solution:\n",
    "    def __init__(self):\n",
    "        self.ans = None\n",
    "    def lowestCommonAncestor(self, root, p, q):\n",
    "        def recurse_tree(current_node):\n",
    "            # if reached the end of a brance, return False\n",
    "            if not current_node:\n",
    "                return False\n",
    "            # left recursion\n",
    "            left = recurse_tree(current_node.left)\n",
    "            # right recursion\n",
    "            right = recurse_tree(current_node.right)\n",
    "            # if current_node is one of p or q\n",
    "            mid = current_node == p or current_node == q\n",
    "\n",
    "            # if any two of the three flags left, right, mid become true\n",
    "            if mid + left + right >= 2:\n",
    "                self.ans = current_node\n",
    "            # return true if either of the three bool values is True\n",
    "            return mid or left or right\n",
    "        recurse_tree(root)\n",
    "        return self.ans"
   ]
  },
  {
   "cell_type": "code",
   "execution_count": null,
   "metadata": {},
   "outputs": [],
   "source": [
    "class Solution:\n",
    "    def findLCA(self,root, p , q):\n",
    "        # Base case\n",
    "        if root is None:\n",
    "            return None\n",
    "        # if either p, q match with root, return root\n",
    "        if p == root or q == root:\n",
    "            return root\n",
    "        # look for the node in left and right subtrees\n",
    "        left_lca = self.findLCA(root.left, p,q)\n",
    "        right_lca = self.findLCA(root.right, p,q)\n",
    "        # if both of the above call return non-null, then the node is the LCA\n",
    "        if left_lca and right_lca:\n",
    "            return root\n",
    "        # otherwise, check if left subtree or right subtree is LCA\n",
    "        if left_lca is not None:\n",
    "            return left_lca\n",
    "        else:\n",
    "            return right_lca"
   ]
  },
  {
   "cell_type": "markdown",
   "metadata": {},
   "source": [
    "- Time complexity: O (N)\n",
    "- Space complexity : O (N)\n",
    "\n",
    "Runtime: 125 ms, faster than 32.11% of Python3 online submissions for Lowest Common Ancestor of a Binary Tree.\n",
    "\n",
    "Memory Usage: 26.3 MB, less than 30.52% of Python3 online submissions for Lowest Common Ancestor of a Binary Tree."
   ]
  },
  {
   "cell_type": "code",
   "execution_count": null,
   "metadata": {},
   "outputs": [],
   "source": []
  }
 ],
 "metadata": {
  "kernelspec": {
   "display_name": "Python 3.10.4 64-bit",
   "language": "python",
   "name": "python3"
  },
  "language_info": {
   "codemirror_mode": {
    "name": "ipython",
    "version": 3
   },
   "file_extension": ".py",
   "mimetype": "text/x-python",
   "name": "python",
   "nbconvert_exporter": "python",
   "pygments_lexer": "ipython3",
   "version": "3.10.4"
  },
  "orig_nbformat": 4,
  "vscode": {
   "interpreter": {
    "hash": "cee17a95f8d2b47b87e349f4ec7ba8870f89611101dbbd013b3bec42dad00d74"
   }
  }
 },
 "nbformat": 4,
 "nbformat_minor": 2
}
