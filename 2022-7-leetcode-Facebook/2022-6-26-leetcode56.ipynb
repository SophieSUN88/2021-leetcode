{
 "cells": [
  {
   "cell_type": "markdown",
   "metadata": {},
   "source": [
    "### 56. Merge Intervals  Medium\n",
    "Given an array of intervals where intervals[i] = [starti, endi], merge all overlapping intervals, and return an array of the non-overlapping intervals that cover all the intervals in the input.\n",
    "\n",
    "Example 1:\n",
    "\n",
    "- Input: intervals = [[1,3],[2,6],[8,10],[15,18]]\n",
    "- Output: [[1,6],[8,10],[15,18]]\n",
    "- Explanation: Since intervals [1,3] and [2,6] overlap, merge them into [1,6].\n",
    "\n",
    "Example 2:\n",
    "\n",
    "- Input: intervals = [[1,4],[4,5]]\n",
    "- Output: [[1,5]]\n",
    "- Explanation: Intervals [1,4] and [4,5] are considered overlapping."
   ]
  },
  {
   "cell_type": "code",
   "execution_count": 1,
   "metadata": {},
   "outputs": [
    {
     "data": {
      "text/plain": [
       "[[1, 10]]"
      ]
     },
     "execution_count": 1,
     "metadata": {},
     "output_type": "execute_result"
    }
   ],
   "source": [
    "from typing import List\n",
    "class Solution:\n",
    "    def merge(self, intervals: List[List[int]]) -> List[List[int]]:\n",
    "        i = 0 \n",
    "        intervals.sort()\n",
    "        while i < len(intervals)-1:\n",
    "            if intervals[i][1] >= intervals[i+1][0]:\n",
    "                if intervals[i][0] > intervals[i+1][1]:\n",
    "                    temp = intervals[i]\n",
    "                    intervals[i] = intervals[i+1]\n",
    "                    intervals[i+1] = temp\n",
    "                else:\n",
    "                    if intervals[i][1] < intervals[i+1][1]:\n",
    "                        intervals[i][1] = intervals[i+1][1] \n",
    "                    if intervals[i][0] > intervals[i+1][0]:\n",
    "                        intervals[i][0] = intervals[i+1][0]\n",
    "                    intervals = intervals[:i+1] + intervals[i+2:]\n",
    "            else:\n",
    "                i +=1\n",
    "        return intervals\n",
    "example = Solution()\n",
    "intervals = [[2,3],[4,5],[6,7],[8,9],[1,10]]\n",
    "a = example.merge(intervals)            \n",
    "a\n",
    "         "
   ]
  },
  {
   "cell_type": "markdown",
   "metadata": {},
   "source": [
    "- Time complexity: O($n^2$)\n",
    "- Space complexity: O(1)\n",
    "\n",
    "Runtime: 450 ms, faster than 5.03% of Python3 online submissions for Merge Intervals.\n",
    "\n",
    "Memory Usage: 18.1 MB, less than 83.92% of Python3 online submissions for Merge Intervals."
   ]
  },
  {
   "cell_type": "code",
   "execution_count": 2,
   "metadata": {},
   "outputs": [
    {
     "data": {
      "text/plain": [
       "[[1, 6]]"
      ]
     },
     "execution_count": 2,
     "metadata": {},
     "output_type": "execute_result"
    }
   ],
   "source": [
    "# left[1] < right[1] \n",
    "# left[1] > right[0]\n",
    "# left[0] < right[0]\n",
    "example = Solution()\n",
    "intervals = [[1,4],[3,6]]\n",
    "a = example.merge(intervals)            \n",
    "a"
   ]
  },
  {
   "cell_type": "code",
   "execution_count": 3,
   "metadata": {},
   "outputs": [
    {
     "data": {
      "text/plain": [
       "[[0, 4]]"
      ]
     },
     "execution_count": 3,
     "metadata": {},
     "output_type": "execute_result"
    }
   ],
   "source": [
    "# left[1] > right[1] \n",
    "# left[0] > right[0]\n",
    "example = Solution()\n",
    "intervals = [[1,4],[0,1]]\n",
    "a = example.merge(intervals)            \n",
    "a\n"
   ]
  },
  {
   "cell_type": "code",
   "execution_count": 4,
   "metadata": {},
   "outputs": [
    {
     "data": {
      "text/plain": [
       "[[0, 0], [1, 4]]"
      ]
     },
     "execution_count": 4,
     "metadata": {},
     "output_type": "execute_result"
    }
   ],
   "source": [
    "# left[1] > right[1]\n",
    "# left[0] > right[1]\n",
    "example = Solution()\n",
    "intervals = [[1,4],[0,0]]\n",
    "a = example.merge(intervals)            \n",
    "a"
   ]
  },
  {
   "cell_type": "code",
   "execution_count": 10,
   "metadata": {},
   "outputs": [
    {
     "data": {
      "text/plain": [
       "[[1, 10]]"
      ]
     },
     "execution_count": 10,
     "metadata": {},
     "output_type": "execute_result"
    }
   ],
   "source": [
    "from typing import List\n",
    "class Solution:\n",
    "    def merge(self, intervals: List[List[int]]) -> List[List[int]]:\n",
    "        i = 0 \n",
    "        intervals.sort()\n",
    "        stack = []\n",
    "        stack.append(intervals[0])\n",
    "        for i in range(1,len(intervals)):\n",
    "            if stack[-1][0] <= intervals[i][0] <= stack[-1][1]:\n",
    "                stack[-1][1] = max(stack[-1][1], intervals[i][1])\n",
    "            else:\n",
    "                stack.append(intervals[i])\n",
    "        return stack\n",
    "example = Solution()\n",
    "intervals = [[2,3],[4,5],[6,7],[8,9],[1,10]]\n",
    "a = example.merge(intervals)            \n",
    "a"
   ]
  },
  {
   "cell_type": "markdown",
   "metadata": {},
   "source": [
    "- Time complexity: O(nlogn) for sorting, after soring, it is O(n), linear relationship.\n",
    "- Space complexity: O(n)\n",
    "\n",
    "Runtime: 149 ms, faster than 95.47% of Python3 online submissions for Merge Intervals.\n",
    "\n",
    "Memory Usage: 18.1 MB, less than 51.08% of Python3 online submissions for Merge Intervals."
   ]
  },
  {
   "cell_type": "code",
   "execution_count": 18,
   "metadata": {},
   "outputs": [
    {
     "data": {
      "text/plain": [
       "[[1, 10]]"
      ]
     },
     "execution_count": 18,
     "metadata": {},
     "output_type": "execute_result"
    }
   ],
   "source": [
    "from typing import List\n",
    "class Solution:\n",
    "    def merge(self, intervals: List[List[int]]) -> List[List[int]]:\n",
    "        intervals.sort(key=lambda x: x[0])\n",
    "        index = 0\n",
    "        # print(intervals)\n",
    "        for i in range(1,len(intervals)):\n",
    "            if intervals[index][0] <= intervals[i][0] <= intervals[index][1]:\n",
    "                intervals[index][1] = max(intervals[index][1], intervals[i][1])\n",
    "                # print(1)\n",
    "                # print(intervals)\n",
    "            else:\n",
    "                index +=1\n",
    "                intervals[index] = intervals[i]\n",
    "                # print(2)\n",
    "                # print(intervals)\n",
    "        \n",
    "        return intervals[:index+1]\n",
    "        \n",
    "example = Solution()\n",
    "intervals = [[2,3],[4,5],[6,7],[8,9],[1,10]]\n",
    "a = example.merge(intervals)            \n",
    "a"
   ]
  },
  {
   "cell_type": "markdown",
   "metadata": {},
   "source": [
    "- Time complexity: O(nlogn) for sorting, after soring, it is O(n), linear relationship.\n",
    "- Space complexity: O(1)\n",
    "\n",
    "Runtime: 237 ms, faster than 38.24% of Python3 online submissions for Merge Intervals.\n",
    "\n",
    "Memory Usage: 18.1 MB, less than 83.92% of Python3 online submissions for Merge Intervals."
   ]
  },
  {
   "cell_type": "code",
   "execution_count": 22,
   "metadata": {},
   "outputs": [
    {
     "data": {
      "text/plain": [
       "4"
      ]
     },
     "execution_count": 22,
     "metadata": {},
     "output_type": "execute_result"
    }
   ],
   "source": [
    "class Solution:\n",
    "    def minPartitions(self, n: str) -> int:\n",
    "        b = []\n",
    "        for i in n:\n",
    "            b.append(int(i))\n",
    "        return max(b)\n",
    "example = Solution()\n",
    "n='1234'\n",
    "a= example.minPartitions(n)\n",
    "a"
   ]
  },
  {
   "cell_type": "markdown",
   "metadata": {},
   "source": [
    "- Time complexity: O(n)\n",
    "- Space complexity: O(n)\n",
    "\n",
    "Runtime: 500 ms, faster than 6.41% of Python3 online submissions for Partitioning Into Minimum Number Of Deci-Binary Numbers.\n",
    "\n",
    "Memory Usage: 15.7 MB, less than 14.59% of Python3 online submissions for Partitioning Into Minimum Number Of Deci-Binary Numbers."
   ]
  },
  {
   "cell_type": "code",
   "execution_count": 24,
   "metadata": {},
   "outputs": [
    {
     "data": {
      "text/plain": [
       "4"
      ]
     },
     "execution_count": 24,
     "metadata": {},
     "output_type": "execute_result"
    }
   ],
   "source": [
    "class Solution:\n",
    "    def minPartitions(self, n: str) -> int:\n",
    "        max_count = 0\n",
    "        for i in n:\n",
    "            if int(i) > max_count:\n",
    "                max_count = int(i)\n",
    "            if max_count == 9:\n",
    "                return max_count\n",
    "        return max_count\n",
    "example = Solution()\n",
    "n='1234'\n",
    "a= example.minPartitions(n)\n",
    "a"
   ]
  },
  {
   "cell_type": "markdown",
   "metadata": {},
   "source": [
    "- Time complexity: O(n)\n",
    "- Space complexity: O(1)\n",
    "\n",
    "Runtime: 467 ms, faster than 8.01% of Python3 online submissions for Partitioning Into Minimum Number Of Deci-Binary Numbers.\n",
    "\n",
    "Memory Usage: 14.8 MB, less than 50.25% of Python3 online submissions for Partitioning Into Minimum Number Of Deci-Binary Numbers."
   ]
  },
  {
   "cell_type": "code",
   "execution_count": 26,
   "metadata": {},
   "outputs": [
    {
     "data": {
      "text/plain": [
       "'3'"
      ]
     },
     "execution_count": 26,
     "metadata": {},
     "output_type": "execute_result"
    }
   ],
   "source": [
    "a='12312'\n",
    "max(a)"
   ]
  },
  {
   "cell_type": "code",
   "execution_count": 27,
   "metadata": {},
   "outputs": [
    {
     "data": {
      "text/plain": [
       "4"
      ]
     },
     "execution_count": 27,
     "metadata": {},
     "output_type": "execute_result"
    }
   ],
   "source": [
    "class Solution:\n",
    "    def minPartitions(self, n: str) -> int:\n",
    "        return int(max(n))\n",
    "example = Solution()\n",
    "n='1234'\n",
    "a= example.minPartitions(n)\n",
    "a"
   ]
  },
  {
   "cell_type": "markdown",
   "metadata": {},
   "source": [
    "- Time complexity: O(n)\n",
    "- Space complexity: O(1)\n",
    "\n",
    "Runtime: 82 ms, faster than 80.27% of Python3 online submissions for Partitioning Into Minimum Number Of Deci-Binary Numbers.\n",
    "\n",
    "Memory Usage: 14.7 MB, less than 50.25% of Python3 online submissions for Partitioning Into Minimum Number Of Deci-Binary Numbers."
   ]
  },
  {
   "cell_type": "markdown",
   "metadata": {},
   "source": []
  }
 ],
 "metadata": {
  "kernelspec": {
   "display_name": "Python 3.10.4 64-bit",
   "language": "python",
   "name": "python3"
  },
  "language_info": {
   "codemirror_mode": {
    "name": "ipython",
    "version": 3
   },
   "file_extension": ".py",
   "mimetype": "text/x-python",
   "name": "python",
   "nbconvert_exporter": "python",
   "pygments_lexer": "ipython3",
   "version": "3.10.4"
  },
  "orig_nbformat": 4,
  "vscode": {
   "interpreter": {
    "hash": "cee17a95f8d2b47b87e349f4ec7ba8870f89611101dbbd013b3bec42dad00d74"
   }
  }
 },
 "nbformat": 4,
 "nbformat_minor": 2
}
