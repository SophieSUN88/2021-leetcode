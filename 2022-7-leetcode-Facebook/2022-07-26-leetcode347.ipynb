{
 "cells": [
  {
   "cell_type": "markdown",
   "metadata": {},
   "source": [
    "### 347. Top K Frequent Elements\n",
    "\n",
    "Medium\n",
    "\n",
    "Given an integer array nums and an integer k, return the k most frequent elements. You may return the answer in any order.\n",
    "\n",
    " \n",
    "\n",
    "Example 1:\n",
    "\n",
    "Input: nums = [1,1,1,2,2,3], k = 2\n",
    "Output: [1,2]\n",
    "\n",
    "Example 2:\n",
    "\n",
    "Input: nums = [1], k = 1\n",
    "Output: [1]\n",
    " \n",
    "\n",
    "Constraints:\n",
    "\n",
    "1 <= nums.length <= 105\n",
    "k is in the range [1, the number of unique elements in the array].\n",
    "It is guaranteed that the answer is unique."
   ]
  },
  {
   "cell_type": "code",
   "execution_count": 4,
   "metadata": {},
   "outputs": [
    {
     "data": {
      "text/plain": [
       "[2, 1]"
      ]
     },
     "execution_count": 4,
     "metadata": {},
     "output_type": "execute_result"
    }
   ],
   "source": [
    "from typing import List\n",
    "import heapq \n",
    "class Solution:\n",
    "    def topKFrequent(self, nums: List[int], k: int) -> List[int]:\n",
    "        nums_dict = {}\n",
    "        # time O(N)\n",
    "        for num in nums:\n",
    "            if num not in nums_dict:\n",
    "                nums_dict[num] = 1\n",
    "            else:\n",
    "                nums_dict[num] +=1\n",
    "        # time O(N log K) \n",
    "        heap = [(-value, key) for key, value in nums_dict.items()]\n",
    "        largest = heapq.nsmallest(k,heap)\n",
    "        largest_keys = [key for value, key in largest]\n",
    "        return largest_keys\n",
    "\n",
    "\n",
    "        \n",
    "\n",
    "nums = [1,1,2,2,2,2,2,2,3]\n",
    "k = 2\n",
    "example = Solution()\n",
    "example.topKFrequent(nums,k)"
   ]
  },
  {
   "cell_type": "markdown",
   "metadata": {},
   "source": [
    "- Time complexity : O(N log K)\n",
    "- Space complexity : O(N)\n",
    "\n",
    "Runtime: 142 ms, faster than 64.90% of Python3 online submissions for Top K Frequent Elements.\n",
    "\n",
    "Memory Usage: 18.6 MB, less than 70.57% of Python3 online submissions for Top K Frequent Elements."
   ]
  },
  {
   "cell_type": "code",
   "execution_count": 20,
   "metadata": {},
   "outputs": [
    {
     "name": "stdout",
     "output_type": "stream",
     "text": [
      "Counter({2: 6, 1: 2, 3: 1})\n"
     ]
    },
    {
     "data": {
      "text/plain": [
       "[2, 1]"
      ]
     },
     "execution_count": 20,
     "metadata": {},
     "output_type": "execute_result"
    }
   ],
   "source": [
    "from collections import Counter\n",
    "from typing import List\n",
    "import heapq \n",
    "class Solution:\n",
    "    def topKFrequent(self, nums: List[int], k: int) -> List[int]: \n",
    "        # O(1) time \n",
    "        if k == len(nums):\n",
    "            return nums\n",
    "        \n",
    "        # 1. build hash map : character and how often it appears\n",
    "        # O(N) time\n",
    "        count = Counter(nums) \n",
    "        print(count)  \n",
    "        # 2-3. build heap of top k frequent elements and\n",
    "        # convert it into an output array\n",
    "        # O(N log k) time\n",
    "\n",
    "        return heapq.nlargest(k, count.keys(), key=count.get) \n",
    "    \n",
    "nums = [1,1,2,2,2,2,2,2,3]\n",
    "k = 2\n",
    "example = Solution()\n",
    "example.topKFrequent(nums,k)"
   ]
  },
  {
   "cell_type": "code",
   "execution_count": 17,
   "metadata": {},
   "outputs": [
    {
     "data": {
      "text/plain": [
       "[2, 1]"
      ]
     },
     "execution_count": 17,
     "metadata": {},
     "output_type": "execute_result"
    }
   ],
   "source": [
    "from typing import List\n",
    "import heapq \n",
    "class Solution:\n",
    "    def topKFrequent(self, nums: List[int], k: int) -> List[int]:\n",
    "        nums_dict = {}\n",
    "        # time O(N)\n",
    "        for num in nums:\n",
    "            if num not in nums_dict:\n",
    "                nums_dict[num] = 1\n",
    "            else:\n",
    "                nums_dict[num] +=1\n",
    "        # time O(N log K) \n",
    "        return heapq.nlargest(k, nums_dict.keys(), key=nums_dict.get)  #dictionary keys ordered by their values.\n",
    "        # equal to \n",
    "#        return sorted(dictionary, key=dictionary.get, reverse=True)[:10]\n",
    "\n",
    "nums = [1,1,2,2,2,2,2,2,3]\n",
    "k = 2\n",
    "example = Solution()\n",
    "example.topKFrequent(nums,k)"
   ]
  },
  {
   "cell_type": "code",
   "execution_count": 22,
   "metadata": {},
   "outputs": [
    {
     "data": {
      "text/plain": [
       "[{'name': 'YHOO', 'shares': 45, 'price': 16.35},\n",
       " {'name': 'FB', 'shares': 200, 'price': 21.09},\n",
       " {'name': 'HPQ', 'shares': 35, 'price': 31.75}]"
      ]
     },
     "execution_count": 22,
     "metadata": {},
     "output_type": "execute_result"
    }
   ],
   "source": [
    "portfolio = [\n",
    "   {'name': 'IBM', 'shares': 100, 'price': 91.1},\n",
    "   {'name': 'AAPL', 'shares': 50, 'price': 543.22},\n",
    "   {'name': 'FB', 'shares': 200, 'price': 21.09},\n",
    "   {'name': 'HPQ', 'shares': 35, 'price': 31.75},\n",
    "   {'name': 'YHOO', 'shares': 45, 'price': 16.35},\n",
    "   {'name': 'ACME', 'shares': 75, 'price': 115.65}\n",
    "]\n",
    "\n",
    "cheap = heapq.nsmallest(3, portfolio, key=lambda s: s['price'])\n",
    "cheap"
   ]
  },
  {
   "cell_type": "code",
   "execution_count": null,
   "metadata": {},
   "outputs": [],
   "source": []
  }
 ],
 "metadata": {
  "kernelspec": {
   "display_name": "Python 3.10.4 64-bit",
   "language": "python",
   "name": "python3"
  },
  "language_info": {
   "codemirror_mode": {
    "name": "ipython",
    "version": 3
   },
   "file_extension": ".py",
   "mimetype": "text/x-python",
   "name": "python",
   "nbconvert_exporter": "python",
   "pygments_lexer": "ipython3",
   "version": "3.10.4"
  },
  "orig_nbformat": 4,
  "vscode": {
   "interpreter": {
    "hash": "cee17a95f8d2b47b87e349f4ec7ba8870f89611101dbbd013b3bec42dad00d74"
   }
  }
 },
 "nbformat": 4,
 "nbformat_minor": 2
}
