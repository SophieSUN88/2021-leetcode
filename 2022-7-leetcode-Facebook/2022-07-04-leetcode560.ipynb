{
 "cells": [
  {
   "cell_type": "markdown",
   "metadata": {},
   "source": [
    "### 560. Subarray Sum Equals K\n",
    "Medium\n",
    "\n",
    "Given an array of integers nums and an integer k, return the total number of subarrays whose sum equals to k.\n",
    "\n",
    "A subarray is a contiguous non-empty sequence of elements within an array.\n",
    "\n",
    " \n",
    "\n",
    "Example 1:\n",
    "\n",
    "Input: nums = [1,1,1], k = 2\n",
    "Output: 2\n",
    "Example 2:\n",
    "\n",
    "Input: nums = [1,2,3], k = 3\n",
    "Output: 2"
   ]
  },
  {
   "cell_type": "code",
   "execution_count": 7,
   "metadata": {},
   "outputs": [
    {
     "data": {
      "text/plain": [
       "3"
      ]
     },
     "execution_count": 7,
     "metadata": {},
     "output_type": "execute_result"
    }
   ],
   "source": [
    "from typing import List\n",
    "class Solution:\n",
    "    def subarraySum(self, nums: List[int], k: int) -> int:\n",
    "        # Brute force\n",
    "        count = 0 \n",
    "        for i in range(len(nums)):\n",
    "            sub_sum = 0\n",
    "            for j in range(i,len(nums)):\n",
    "                sub_sum += nums[j]\n",
    "                if sub_sum == k:\n",
    "                    count +=1\n",
    "\n",
    "        return count\n",
    "example = Solution()\n",
    "nums =[1,-1,0]\n",
    "a = example.subarraySum(nums,0)\n",
    "a\n",
    "        "
   ]
  },
  {
   "cell_type": "markdown",
   "metadata": {},
   "source": [
    "- Time complexity : O($n^2$)\n",
    "- Space complexity : O(1)\n"
   ]
  },
  {
   "cell_type": "code",
   "execution_count": 1,
   "metadata": {},
   "outputs": [
    {
     "name": "stdout",
     "output_type": "stream",
     "text": [
      "1\n",
      "2\n"
     ]
    }
   ],
   "source": [
    "class Solution:\n",
    "    def subarraySum(self, nums: List[int], k: int) -> int:\n",
    "        # cumulative sum\n",
    "        count = 0\n",
    "        sums = [0] * (len(nums)+1)\n",
    "        for i in range(1,len(nums)+1):\n",
    "            sums[i]=sums[i-1] + nums[i-1]\n",
    "        for i in range(len(nums)):\n",
    "            for j in range(i+1,len(nums)+1):\n",
    "                if sums[j] - sums[i] == k:\n",
    "                    count +=1\n",
    "        return count"
   ]
  },
  {
   "cell_type": "markdown",
   "metadata": {},
   "source": [
    "- Time complexity : O($n^2$)\n",
    "- Space complexity : O(n)\n"
   ]
  },
  {
   "cell_type": "markdown",
   "metadata": {},
   "source": [
    "# Using hashmap- Best\n",
    "- Time complexity : O(n)\n",
    "- Space complexity : O(1)\n",
    "\n",
    "Runtime: 453 ms, faster than 41.05% of Python3 online submissions for Subarray Sum Equals K.\n",
    "\n",
    "Memory Usage: 16.5 MB, less than 73.29% of Python3 online submissions for Subarray Sum Equals K."
   ]
  },
  {
   "cell_type": "code",
   "execution_count": 11,
   "metadata": {},
   "outputs": [
    {
     "data": {
      "text/plain": [
       "0"
      ]
     },
     "execution_count": 11,
     "metadata": {},
     "output_type": "execute_result"
    }
   ],
   "source": [
    "class Solution:\n",
    "    def subarraySum(self,nums,k):\n",
    "        # Using hashmap- Best\n",
    "        match = {0:1}\n",
    "        sub_sum = 0\n",
    "        count = 0\n",
    "        for i in range(len(nums)):\n",
    "            sub_sum +=nums[i]\n",
    "            if sub_sum - k in match:\n",
    "                count += match[sub_sum - k]\n",
    "            if sub_sum not in match:\n",
    "                match[sub_sum] = 1\n",
    "            else:\n",
    "                match[sub_sum] +=1\n",
    "        return count\n",
    "nums = [1]\n",
    "example = Solution()\n",
    "example.subarraySum(nums,0)\n",
    "            "
   ]
  },
  {
   "cell_type": "code",
   "execution_count": null,
   "metadata": {},
   "outputs": [],
   "source": []
  }
 ],
 "metadata": {
  "kernelspec": {
   "display_name": "Python 3.10.4 64-bit",
   "language": "python",
   "name": "python3"
  },
  "language_info": {
   "codemirror_mode": {
    "name": "ipython",
    "version": 3
   },
   "file_extension": ".py",
   "mimetype": "text/x-python",
   "name": "python",
   "nbconvert_exporter": "python",
   "pygments_lexer": "ipython3",
   "version": "3.10.4"
  },
  "orig_nbformat": 4,
  "vscode": {
   "interpreter": {
    "hash": "cee17a95f8d2b47b87e349f4ec7ba8870f89611101dbbd013b3bec42dad00d74"
   }
  }
 },
 "nbformat": 4,
 "nbformat_minor": 2
}
