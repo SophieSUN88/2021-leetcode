{
 "cells": [
  {
   "cell_type": "markdown",
   "metadata": {},
   "source": [
    "### 680. Valid Palindrome II\n",
    "Easy\n",
    "\n",
    "Given a string s, return true if the s can be palindrome after deleting at most one character from it.\n",
    "\n",
    " \n",
    "\n",
    "Example 1:\n",
    "\n",
    "Input: s = \"aba\"\n",
    "Output: true\n",
    "Example 2:\n",
    "\n",
    "Input: s = \"abca\"\n",
    "Output: true\n",
    "Explanation: You could delete the character 'c'.\n",
    "Example 3:\n",
    "\n",
    "Input: s = \"abc\"\n",
    "Output: false"
   ]
  },
  {
   "cell_type": "code",
   "execution_count": 2,
   "metadata": {},
   "outputs": [
    {
     "data": {
      "text/plain": [
       "False"
      ]
     },
     "execution_count": 2,
     "metadata": {},
     "output_type": "execute_result"
    }
   ],
   "source": [
    "def palindrome(s):\n",
    "    l = 0 \n",
    "    r = len(s)-1\n",
    "    while l <= r:\n",
    "        if s[l] != s[r]:\n",
    "            return False\n",
    "        l +=1\n",
    "        r -=1\n",
    "    return True\n",
    "s= 'abaa'\n",
    "palindrome(s)"
   ]
  },
  {
   "cell_type": "code",
   "execution_count": 5,
   "metadata": {},
   "outputs": [
    {
     "data": {
      "text/plain": [
       "False"
      ]
     },
     "execution_count": 5,
     "metadata": {},
     "output_type": "execute_result"
    }
   ],
   "source": [
    "def validPalindrome(s):\n",
    "    if palindrome(s):\n",
    "        return True\n",
    "    else:\n",
    "        l = 0\n",
    "        r = len(s) -1\n",
    "        while l <= r :\n",
    "            if s[l] != s[r]:\n",
    "                s_l = s[:l]+s[l+1:]\n",
    "                s_r = s[:r]+s[r+1:]\n",
    "                return palindrome(s_l) or palindrome(s_r)\n",
    "            l +=1\n",
    "            r -=1\n",
    "s = 'abc'\n",
    "validPalindrome(s)"
   ]
  },
  {
   "cell_type": "markdown",
   "metadata": {},
   "source": [
    "- Time complexity: O(n)\n",
    "- Space complexity: O(n)\n",
    "\n",
    "Runtime: 215 ms, faster than 48.22% of Python3 online submissions for Valid Palindrome II.\n",
    "\n",
    "Memory Usage: 14.5 MB, less than 45.43% of Python3 online submissions for Valid Palindrome II."
   ]
  },
  {
   "cell_type": "code",
   "execution_count": null,
   "metadata": {},
   "outputs": [],
   "source": [
    "def check_Palindrome(s,l,r):\n",
    "    while l < r:\n",
    "        if s[l] != s[r]:\n",
    "            return False\n",
    "        l +=1\n",
    "        r -=1\n",
    "    return True\n",
    "def validPalindrome(s):\n",
    "    l = 0\n",
    "    r = len(s) -1\n",
    "    while l < r:\n",
    "        if s[l] != s[r]:\n",
    "            return check_Palindrome(s, l, r-1) or check_Palindrome(s, l+1, r)\n",
    "        l +=1\n",
    "        r -=1\n",
    "    return True\n",
    "\n"
   ]
  },
  {
   "cell_type": "markdown",
   "metadata": {},
   "source": [
    "- Time complexity : O(N)\n",
    "- Space complexity : O(1)\n",
    "\n",
    "Runtime: 302 ms, faster than 21.40% of Python3 online submissions for Valid Palindrome II.\n",
    "\n",
    "Memory Usage: 14.5 MB, less than 88.18% of Python3 online submissions for Valid Palindrome II."
   ]
  },
  {
   "cell_type": "code",
   "execution_count": 6,
   "metadata": {},
   "outputs": [],
   "source": [
    "from collections import defaultdict\n",
    "a = defaultdict()"
   ]
  },
  {
   "cell_type": "code",
   "execution_count": null,
   "metadata": {},
   "outputs": [],
   "source": []
  }
 ],
 "metadata": {
  "kernelspec": {
   "display_name": "Python 3.10.4 64-bit",
   "language": "python",
   "name": "python3"
  },
  "language_info": {
   "codemirror_mode": {
    "name": "ipython",
    "version": 3
   },
   "file_extension": ".py",
   "mimetype": "text/x-python",
   "name": "python",
   "nbconvert_exporter": "python",
   "pygments_lexer": "ipython3",
   "version": "3.10.4"
  },
  "orig_nbformat": 4,
  "vscode": {
   "interpreter": {
    "hash": "cee17a95f8d2b47b87e349f4ec7ba8870f89611101dbbd013b3bec42dad00d74"
   }
  }
 },
 "nbformat": 4,
 "nbformat_minor": 2
}
