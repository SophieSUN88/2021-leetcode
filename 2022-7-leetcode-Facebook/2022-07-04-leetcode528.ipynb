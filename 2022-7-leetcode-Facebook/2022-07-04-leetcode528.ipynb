{
 "cells": [
  {
   "cell_type": "markdown",
   "metadata": {},
   "source": [
    "### 528. Random Pick with Weight\n",
    "Medium\n",
    "\n",
    "You are given a 0-indexed array of positive integers w where w[i] describes the weight of the ith index.\n",
    "\n",
    "You need to implement the function pickIndex(), which randomly picks an index in the range [0, w.length - 1] (inclusive) and returns it. The probability of picking an index i is w[i] / sum(w).\n",
    "\n",
    "For example, if w = [1, 3], the probability of picking index 0 is 1 / (1 + 3) = 0.25 (i.e., 25%), and the probability of picking index 1 is 3 / (1 + 3) = 0.75 (i.e., 75%).\n",
    " \n",
    "\n",
    "Example 1:\n",
    "\n",
    "Input\n",
    "[\"Solution\",\"pickIndex\"]\n",
    "[[[1]],[]]\n",
    "Output\n",
    "[null,0]\n",
    "\n",
    "Explanation\n",
    "Solution solution = new Solution([1]);\n",
    "solution.pickIndex(); // return 0. The only option is to return 0 since there is only one element in w."
   ]
  },
  {
   "cell_type": "code",
   "execution_count": 4,
   "metadata": {},
   "outputs": [],
   "source": [
    "import random\n",
    "class Solution:\n",
    "    def __init__(self, w):\n",
    "        self.prefix_sums = []\n",
    "        prefix_sum = 0\n",
    "        for weight in w:\n",
    "            prefix_sum += weight\n",
    "            self.prefix_sums.append(prefix_sum)\n",
    "        self.total_sum = prefix_sum\n",
    "    def pickIndex(self):\n",
    "        target = self.total_sum * random.random()\n",
    "        for i, prefix_sum in enumerate(self.prefix_sums):\n",
    "            if target < prefix_sum:\n",
    "                return i"
   ]
  },
  {
   "cell_type": "code",
   "execution_count": 7,
   "metadata": {},
   "outputs": [
    {
     "data": {
      "text/plain": [
       "1"
      ]
     },
     "execution_count": 7,
     "metadata": {},
     "output_type": "execute_result"
    }
   ],
   "source": [
    "w = [1,4]\n",
    "example = Solution(w)\n",
    "example.pickIndex()"
   ]
  },
  {
   "cell_type": "markdown",
   "metadata": {},
   "source": [
    "- Time complexity: O(n)\n",
    "- Space complexity : O(1)\n",
    "\n",
    "Runtime: 8267 ms, faster than 7.06% of Python3 online submissions for Random Pick with Weight.\n",
    "\n",
    "Memory Usage: 18.4 MB, less than 94.90% of Python3 online submissions for Random Pick with Weight."
   ]
  },
  {
   "cell_type": "code",
   "execution_count": 19,
   "metadata": {},
   "outputs": [],
   "source": [
    "import random\n",
    "class Solution:\n",
    "    def __init__(self, w):\n",
    "        self.prefix_sums = []\n",
    "        prefix_sum = 0\n",
    "        for weight in w:\n",
    "            prefix_sum += weight\n",
    "            self.prefix_sums.append(prefix_sum)\n",
    "        self.total_sum = prefix_sum\n",
    "    def pickIndex(self):\n",
    "        target = self.total_sum * random.random()\n",
    "        # run binary search to find the target zone\n",
    "        low, high = 0, len(self.prefix_sums)-1\n",
    "        while low < high:\n",
    "            mid = (low + high)//2\n",
    "            if target > self.prefix_sums[mid]:\n",
    "                low = mid +1\n",
    "            else:\n",
    "                high = mid\n",
    "        return low"
   ]
  },
  {
   "cell_type": "code",
   "execution_count": 31,
   "metadata": {},
   "outputs": [
    {
     "data": {
      "text/plain": [
       "1"
      ]
     },
     "execution_count": 31,
     "metadata": {},
     "output_type": "execute_result"
    }
   ],
   "source": [
    "w = [1,4]\n",
    "example = Solution(w)\n",
    "example.pickIndex()"
   ]
  },
  {
   "cell_type": "markdown",
   "metadata": {},
   "source": [
    "- Time complexity : O(log n)\n",
    "- Space complexity : O(1)\n",
    "\n",
    "Runtime: 221 ms, faster than 92.69% of Python3 online submissions for Random Pick with Weight.\n",
    "\n",
    "Memory Usage: 18.7 MB, less than 23.45% of Python3 online submissions for Random Pick with Weight."
   ]
  },
  {
   "cell_type": "markdown",
   "metadata": {},
   "source": []
  }
 ],
 "metadata": {
  "kernelspec": {
   "display_name": "Python 3.10.4 64-bit",
   "language": "python",
   "name": "python3"
  },
  "language_info": {
   "codemirror_mode": {
    "name": "ipython",
    "version": 3
   },
   "file_extension": ".py",
   "mimetype": "text/x-python",
   "name": "python",
   "nbconvert_exporter": "python",
   "pygments_lexer": "ipython3",
   "version": "3.10.4"
  },
  "orig_nbformat": 4,
  "vscode": {
   "interpreter": {
    "hash": "cee17a95f8d2b47b87e349f4ec7ba8870f89611101dbbd013b3bec42dad00d74"
   }
  }
 },
 "nbformat": 4,
 "nbformat_minor": 2
}
