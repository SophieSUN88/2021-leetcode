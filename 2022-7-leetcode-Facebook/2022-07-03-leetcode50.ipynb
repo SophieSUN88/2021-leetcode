{
 "cells": [
  {
   "cell_type": "markdown",
   "metadata": {},
   "source": [
    "### leetcode 50. Pow(x, n)\n",
    "Medium\n",
    "\n",
    "Implement pow(x, n), which calculates x raised to the power n (i.e., xn)."
   ]
  },
  {
   "cell_type": "code",
   "execution_count": null,
   "metadata": {},
   "outputs": [],
   "source": [
    "class Solution:\n",
    "    def myPow(self, x: float, n: int) -> float:\n",
    "        # solution 1\n",
    "        if n < 0 :\n",
    "            x = 1/x\n",
    "            n = -n\n",
    "        result = 1\n",
    "        for i in range(n):\n",
    "            result = result * x\n",
    "        return result\n",
    "        "
   ]
  },
  {
   "cell_type": "markdown",
   "metadata": {},
   "source": [
    "- Time complexity : O(n)\n",
    "- space complexity : O(1)"
   ]
  },
  {
   "cell_type": "code",
   "execution_count": 5,
   "metadata": {},
   "outputs": [
    {
     "data": {
      "text/plain": [
       "0.0001"
      ]
     },
     "execution_count": 5,
     "metadata": {},
     "output_type": "execute_result"
    }
   ],
   "source": [
    "class Solution:\n",
    "    def fastPow(self, x, n):\n",
    "        if n == 0:\n",
    "            return 1.0\n",
    "        k = n//2\n",
    "        half = self.fastPow(x,k)\n",
    "        if n % 2 == 0:\n",
    "            return half * half\n",
    "        else:\n",
    "            return half * half * x\n",
    "        \n",
    "    def myPow(self, x: float, n: int) -> float:\n",
    "        if n < 0 :\n",
    "            x = 1/x\n",
    "            n = -n\n",
    "        return self.fastPow(x,n)\n",
    "\n",
    "example = Solution()\n",
    "example.myPow(100,-2)"
   ]
  },
  {
   "cell_type": "markdown",
   "metadata": {},
   "source": [
    "- Time complexity : O(log n)\n",
    "- Space complexity : O (log n)\n",
    "\n",
    "Runtime: 34 ms, faster than 87.39% of Python3 online submissions for Pow(x, n).\n",
    "\n",
    "Memory Usage: 13.9 MB, less than 18.91% of Python3 online submissions for Pow(x, n)."
   ]
  },
  {
   "cell_type": "code",
   "execution_count": null,
   "metadata": {},
   "outputs": [],
   "source": [
    "# solution 3\n",
    "class Solution:\n",
    "    def myPow(self, x: float, n: int) -> float:\n",
    "        if n < 0 :\n",
    "            x = 1/x\n",
    "            n = -n\n",
    "        result = 1\n",
    "        product = x\n",
    "        i= n\n",
    "        while i >0:\n",
    "            if i % 2 == 1:\n",
    "                result = result * product\n",
    "            product = product * product\n",
    "            i = i // 2\n",
    "        return result\n"
   ]
  },
  {
   "cell_type": "code",
   "execution_count": null,
   "metadata": {},
   "outputs": [],
   "source": []
  },
  {
   "cell_type": "code",
   "execution_count": null,
   "metadata": {},
   "outputs": [],
   "source": []
  }
 ],
 "metadata": {
  "kernelspec": {
   "display_name": "Python 3.10.4 64-bit",
   "language": "python",
   "name": "python3"
  },
  "language_info": {
   "codemirror_mode": {
    "name": "ipython",
    "version": 3
   },
   "file_extension": ".py",
   "mimetype": "text/x-python",
   "name": "python",
   "nbconvert_exporter": "python",
   "pygments_lexer": "ipython3",
   "version": "3.10.4"
  },
  "orig_nbformat": 4,
  "vscode": {
   "interpreter": {
    "hash": "cee17a95f8d2b47b87e349f4ec7ba8870f89611101dbbd013b3bec42dad00d74"
   }
  }
 },
 "nbformat": 4,
 "nbformat_minor": 2
}
