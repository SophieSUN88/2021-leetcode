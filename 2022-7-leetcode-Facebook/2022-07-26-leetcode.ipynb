{
 "cells": [
  {
   "cell_type": "markdown",
   "metadata": {},
   "source": [
    "### 523. Continuous Subarray Sum\n",
    "\n",
    "Medium\n",
    "\n",
    "Given an integer array nums and an integer k, return true if nums has a continuous subarray of size at least two whose elements sum up to a multiple of k, or false otherwise.\n",
    "\n",
    "An integer x is a multiple of k if there exists an integer n such that x = n * k. 0 is always a multiple of k.\n",
    "\n",
    " \n",
    "\n",
    "Example 1:\n",
    "\n",
    "Input: nums = [23,2,4,6,7], k = 6\n",
    "Output: true\n",
    "Explanation: [2, 4] is a continuous subarray of size 2 whose elements sum up to 6.\n",
    "\n",
    "Example 2:\n",
    "\n",
    "Input: nums = [23,2,6,4,7], k = 6\n",
    "Output: true\n",
    "Explanation: [23, 2, 6, 4, 7] is an continuous subarray of size 5 whose elements sum up to 42.\n",
    "42 is a multiple of 6 because 42 = 7 * 6 and 7 is an integer.\n",
    "\n",
    "Example 3:\n",
    "\n",
    "Input: nums = [23,2,6,4,7], k = 13\n",
    "Output: false"
   ]
  },
  {
   "cell_type": "code",
   "execution_count": 1,
   "metadata": {},
   "outputs": [
    {
     "data": {
      "text/plain": [
       "True"
      ]
     },
     "execution_count": 1,
     "metadata": {},
     "output_type": "execute_result"
    }
   ],
   "source": [
    "# sulution: use dictionary, it is better\n",
    "from typing import List\n",
    "'''\n",
    "prefix sum hash table\n",
    "O(n), O(n)\n",
    "'''\n",
    "class Solution:\n",
    "    def checkSubarraySum(self, nums: List[int], k: int) -> bool:\n",
    "        # previously encountered previous sums at their index\n",
    "        prefix_sums = {0: -1}\n",
    "        \n",
    "        nums = [num % k for num in nums]\n",
    "        prefix_sum = 0\n",
    "        for i, num in enumerate(nums):\n",
    "            prefix_sum += num\n",
    "            prefix_sum %= k\n",
    "            # if the prefix_sum exist, that means after that index to i, the nums add together can multipy k\n",
    "            if prefix_sum in prefix_sums:\n",
    "                # to make sure at least 2 nums\n",
    "                if i - prefix_sums[prefix_sum] > 1:\n",
    "                    return True\n",
    "            else:\n",
    "                # only keep earliest encounter's index, in case of dups e.g. [2,2], k = 2\n",
    "                prefix_sums[prefix_sum] = i\n",
    "        return False\n",
    "nums = [23,2,4,6,7] \n",
    "k = 6\n",
    "example = Solution()\n",
    "example.checkSubarraySum(nums,k)"
   ]
  },
  {
   "cell_type": "markdown",
   "metadata": {},
   "source": [
    "- Time complexity : O(N)\n",
    "- Space complexity : O(N)\n",
    "\n",
    "Runtime: 1530 ms, faster than 27.31% of Python3 online submissions for Continuous Subarray Sum.\n",
    "\n",
    "Memory Usage: 33.8 MB, less than 14.05% of Python3 online submissions for Continuous Subarray Sum."
   ]
  },
  {
   "cell_type": "code",
   "execution_count": null,
   "metadata": {},
   "outputs": [],
   "source": [
    "# Solution : rude, time limit exceeded\n",
    "class Solution:\n",
    "    def checkSubarraySum(self, nums: List[int], k: int) -> bool:\n",
    "        for i in range(len(nums)-1):\n",
    "            for j in range(i+1,len(nums)):\n",
    "                # print(nums[i:j+1])\n",
    "                # print(sum(nums[i:j+1]))\n",
    "                if sum(nums[i:j+1]) % k ==0:\n",
    "                    return True\n",
    "        return False"
   ]
  }
 ],
 "metadata": {
  "kernelspec": {
   "display_name": "Python 3.9.6 64-bit",
   "language": "python",
   "name": "python3"
  },
  "language_info": {
   "codemirror_mode": {
    "name": "ipython",
    "version": 3
   },
   "file_extension": ".py",
   "mimetype": "text/x-python",
   "name": "python",
   "nbconvert_exporter": "python",
   "pygments_lexer": "ipython3",
   "version": "3.9.6"
  },
  "orig_nbformat": 4,
  "vscode": {
   "interpreter": {
    "hash": "aee8b7b246df8f9039afb4144a1f6fd8d2ca17a180786b69acc140d282b71a49"
   }
  }
 },
 "nbformat": 4,
 "nbformat_minor": 2
}
