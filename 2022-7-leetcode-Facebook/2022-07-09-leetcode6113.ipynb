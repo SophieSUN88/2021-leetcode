{
 "cells": [
  {
   "cell_type": "markdown",
   "metadata": {},
   "source": [
    "6113. Smallest Number in Infinite Set\n",
    "Difficulty:Medium\n",
    "You have a set which contains all positive integers [1, 2, 3, 4, 5, ...].\n",
    "\n",
    "Implement the SmallestInfiniteSet class:\n",
    "\n",
    "SmallestInfiniteSet() Initializes the SmallestInfiniteSet object to contain all positive integers.\n",
    "int popSmallest() Removes and returns the smallest integer contained in the infinite set.\n",
    "void addBack(int num) Adds a positive integer num back into the infinite set, if it is not already in the infinite set.\n",
    " \n",
    "\n",
    "Example 1:\n",
    "\n",
    "Input\n",
    "[\"SmallestInfiniteSet\", \"addBack\", \"popSmallest\", \"popSmallest\", \"popSmallest\", \"addBack\", \"popSmallest\", \"popSmallest\", \"popSmallest\"]\n",
    "[[], [2], [], [], [], [1], [], [], []]\n",
    "Output\n",
    "[null, null, 1, 2, 3, null, 1, 4, 5]\n",
    "\n",
    "Explanation\n",
    "SmallestInfiniteSet smallestInfiniteSet = new SmallestInfiniteSet();\n",
    "\n",
    "smallestInfiniteSet.addBack(2);    // 2 is already in the set, so no change is made.\n",
    "\n",
    "smallestInfiniteSet.popSmallest(); // return 1, since 1 is the smallest number, and remove it from the set.\n",
    "\n",
    "smallestInfiniteSet.popSmallest(); // return 2, and remove it from the set.\n",
    "\n",
    "smallestInfiniteSet.popSmallest(); // return 3, and remove it from the set.\n",
    "\n",
    "smallestInfiniteSet.addBack(1);    // 1 is added back to the set.\n",
    "\n",
    "smallestInfiniteSet.popSmallest(); // return 1, since 1 was added back to the set and\n",
    "\n",
    "                                   // is the smallest number, and remove it from the set.\n",
    "                                   \n",
    "smallestInfiniteSet.popSmallest(); // return 4, and remove it from the set.\n",
    "\n",
    "smallestInfiniteSet.popSmallest(); // return 5, and remove it from the set."
   ]
  },
  {
   "cell_type": "code",
   "execution_count": 1,
   "metadata": {},
   "outputs": [],
   "source": [
    "# Your SmallestInfiniteSet object will be instantiated and called as such:\n",
    "# obj = SmallestInfiniteSet()\n",
    "# param_1 = obj.popSmallest()\n",
    "# obj.addBack(num)"
   ]
  },
  {
   "cell_type": "code",
   "execution_count": null,
   "metadata": {},
   "outputs": [],
   "source": [
    "import heapq\n",
    "class SmallestInfiniteSet:\n",
    "\n",
    "    def __init__(self):\n",
    "        self.hp = []\n",
    "        for i in range(1,1001):\n",
    "            heapq.heappush(self.hp,i)\n",
    "\n",
    "    \n",
    "    def popSmallest(self) -> int:\n",
    "        if self.hp:\n",
    "            return heapq.heappop(self.hp)\n",
    "    \n",
    "    def addBack(self, num: int) -> None:\n",
    "        if num not in self.hp:\n",
    "            heapq.heappush(self.hp,num)\n",
    "\n",
    "\n"
   ]
  },
  {
   "cell_type": "markdown",
   "metadata": {},
   "source": [
    "Runtime: 341 ms, faster than 46.67% of Python3 online submissions for Smallest Number in Infinite Set.\n",
    "\n",
    "Memory Usage: 14.7 MB, less than 60.00% of Python3 online submissions for Smallest Number in Infinite Set."
   ]
  },
  {
   "cell_type": "code",
   "execution_count": null,
   "metadata": {},
   "outputs": [],
   "source": []
  }
 ],
 "metadata": {
  "kernelspec": {
   "display_name": "Python 3.10.4 64-bit",
   "language": "python",
   "name": "python3"
  },
  "language_info": {
   "codemirror_mode": {
    "name": "ipython",
    "version": 3
   },
   "file_extension": ".py",
   "mimetype": "text/x-python",
   "name": "python",
   "nbconvert_exporter": "python",
   "pygments_lexer": "ipython3",
   "version": "3.10.4"
  },
  "orig_nbformat": 4,
  "vscode": {
   "interpreter": {
    "hash": "cee17a95f8d2b47b87e349f4ec7ba8870f89611101dbbd013b3bec42dad00d74"
   }
  }
 },
 "nbformat": 4,
 "nbformat_minor": 2
}
