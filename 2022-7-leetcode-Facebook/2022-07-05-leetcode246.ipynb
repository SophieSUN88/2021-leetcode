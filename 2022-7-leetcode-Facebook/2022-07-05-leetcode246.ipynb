{
 "cells": [
  {
   "cell_type": "markdown",
   "metadata": {},
   "source": [
    "### 246. Strobogrammatic Number\n",
    "\n",
    "Easy\n",
    "\n",
    "Given a string num which represents an integer, return true if num is a strobogrammatic number.\n",
    "\n",
    "A strobogrammatic number is a number that looks the same when rotated 180 degrees (looked at upside down).\n",
    "\n",
    " \n",
    "\n",
    "Example 1:\n",
    "\n",
    "Input: num = \"69\"\n",
    "Output: true\n",
    "\n",
    "Example 2:\n",
    "\n",
    "Input: num = \"88\"\n",
    "Output: true\n",
    "\n",
    "Example 3:\n",
    "\n",
    "Input: num = \"962\"\n",
    "Output: false\n",
    " \n",
    "\n",
    "Constraints:\n",
    "\n",
    "1 <= num.length <= 50\n",
    "num consists of only digits.\n",
    "num does not contain any leading zeros except for zero itself."
   ]
  },
  {
   "cell_type": "code",
   "execution_count": 1,
   "metadata": {},
   "outputs": [
    {
     "data": {
      "text/plain": [
       "False"
      ]
     },
     "execution_count": 1,
     "metadata": {},
     "output_type": "execute_result"
    }
   ],
   "source": [
    "class Solution:\n",
    "    def isStrobogrammatic(self, num: str) -> bool:\n",
    "        dict = {'6':'9','9':'6','0':'0','1':'1','8':'8'}\n",
    "        for i in range(len(num)):\n",
    "            if num[i] not in dict:\n",
    "                return False\n",
    "            if num[i] in dict:\n",
    "                if num[-i-1] != dict[num[i]]:\n",
    "                    return False\n",
    "            \n",
    "        return True\n",
    "example = Solution()\n",
    "num='6'\n",
    "example.isStrobogrammatic(num)"
   ]
  },
  {
   "cell_type": "code",
   "execution_count": 2,
   "metadata": {},
   "outputs": [
    {
     "data": {
      "text/plain": [
       "False"
      ]
     },
     "execution_count": 2,
     "metadata": {},
     "output_type": "execute_result"
    }
   ],
   "source": [
    "example = Solution()\n",
    "num='962'\n",
    "example.isStrobogrammatic(num)"
   ]
  },
  {
   "cell_type": "code",
   "execution_count": null,
   "metadata": {},
   "outputs": [],
   "source": []
  }
 ],
 "metadata": {
  "kernelspec": {
   "display_name": "Python 3.10.4 64-bit",
   "language": "python",
   "name": "python3"
  },
  "language_info": {
   "codemirror_mode": {
    "name": "ipython",
    "version": 3
   },
   "file_extension": ".py",
   "mimetype": "text/x-python",
   "name": "python",
   "nbconvert_exporter": "python",
   "pygments_lexer": "ipython3",
   "version": "3.10.4"
  },
  "orig_nbformat": 4,
  "vscode": {
   "interpreter": {
    "hash": "cee17a95f8d2b47b87e349f4ec7ba8870f89611101dbbd013b3bec42dad00d74"
   }
  }
 },
 "nbformat": 4,
 "nbformat_minor": 2
}
