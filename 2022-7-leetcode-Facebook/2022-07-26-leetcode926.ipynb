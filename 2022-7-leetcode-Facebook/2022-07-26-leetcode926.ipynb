{
 "cells": [
  {
   "cell_type": "markdown",
   "metadata": {},
   "source": [
    "### 921. Minimum Add to Make Parentheses Valid\n",
    "\n",
    "Medium\n",
    "\n",
    "A parentheses string is valid if and only if:\n",
    "\n",
    "It is the empty string,\n",
    "It can be written as AB (A concatenated with B), where A and B are valid strings, or\n",
    "It can be written as (A), where A is a valid string.\n",
    "You are given a parentheses string s. In one move, you can insert a parenthesis at any position of the string.\n",
    "\n",
    "For example, if s = \"()))\", you can insert an opening parenthesis to be \"(()))\" or a closing parenthesis to be \"())))\".\n",
    "Return the minimum number of moves required to make s valid.\n",
    "\n",
    " \n",
    "\n",
    "Example 1:\n",
    "\n",
    "Input: s = \"())\"\n",
    "Output: 1\n",
    "\n",
    "Example 2:\n",
    "\n",
    "Input: s = \"(((\"\n",
    "Output: 3"
   ]
  },
  {
   "cell_type": "code",
   "execution_count": 2,
   "metadata": {},
   "outputs": [
    {
     "data": {
      "text/plain": [
       "1"
      ]
     },
     "execution_count": 2,
     "metadata": {},
     "output_type": "execute_result"
    }
   ],
   "source": [
    "class Solution:\n",
    "    def minAddToMakeValid(self, s: str) -> int:\n",
    "        str_stack = []\n",
    "        char_dict = {')':'('}\n",
    "        for char in s:\n",
    "            if char == '(':\n",
    "                str_stack.append(char)\n",
    "            else:\n",
    "                if len(str_stack) > 0 and char_dict[char] == str_stack[-1]:\n",
    "                    str_stack.pop()\n",
    "                else:\n",
    "                    str_stack.append(char)\n",
    "        return len(str_stack)\n",
    "s = \"())\"\n",
    "example = Solution()\n",
    "example.minAddToMakeValid(s)"
   ]
  },
  {
   "cell_type": "code",
   "execution_count": 3,
   "metadata": {},
   "outputs": [
    {
     "data": {
      "text/plain": [
       "4"
      ]
     },
     "execution_count": 3,
     "metadata": {},
     "output_type": "execute_result"
    }
   ],
   "source": [
    "s = \"()())())))\"\n",
    "example = Solution()\n",
    "example.minAddToMakeValid(s)"
   ]
  },
  {
   "cell_type": "markdown",
   "metadata": {},
   "source": [
    "- Time complexity: O(N)\n",
    "- Space complexity: O(N)"
   ]
  },
  {
   "cell_type": "code",
   "execution_count": 4,
   "metadata": {},
   "outputs": [
    {
     "data": {
      "text/plain": [
       "4"
      ]
     },
     "execution_count": 4,
     "metadata": {},
     "output_type": "execute_result"
    }
   ],
   "source": [
    "class Solution:\n",
    "    def minAddToMakeValid(self, s: str) -> int:\n",
    "        ans = bal = 0\n",
    "        for symbol in s:\n",
    "            bal += 1 if symbol == '(' else -1\n",
    "            # It is guaranteed bal >= -1\n",
    "            if bal == -1:\n",
    "                ans += 1\n",
    "                bal += 1\n",
    "        return ans + bal\n",
    "s = \"()())())))\"\n",
    "example = Solution()\n",
    "example.minAddToMakeValid(s)"
   ]
  },
  {
   "cell_type": "markdown",
   "metadata": {},
   "source": [
    "- Time complexity: O(N)\n",
    "- Space complexity: O(1)\n",
    "\n",
    "Runtime: 47 ms, faster than 51.66% of Python3 online submissions for Minimum Add to Make Parentheses Valid.\n",
    "\n",
    "Memory Usage: 14 MB, less than 10.35% of Python3 online submissions for Minimum Add to Make Parentheses Valid."
   ]
  }
 ],
 "metadata": {
  "kernelspec": {
   "display_name": "Python 3.9.6 64-bit",
   "language": "python",
   "name": "python3"
  },
  "language_info": {
   "codemirror_mode": {
    "name": "ipython",
    "version": 3
   },
   "file_extension": ".py",
   "mimetype": "text/x-python",
   "name": "python",
   "nbconvert_exporter": "python",
   "pygments_lexer": "ipython3",
   "version": "3.9.6"
  },
  "orig_nbformat": 4,
  "vscode": {
   "interpreter": {
    "hash": "aee8b7b246df8f9039afb4144a1f6fd8d2ca17a180786b69acc140d282b71a49"
   }
  }
 },
 "nbformat": 4,
 "nbformat_minor": 2
}
