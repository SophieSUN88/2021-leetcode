{
 "cells": [
  {
   "cell_type": "markdown",
   "id": "6d6782d6",
   "metadata": {},
   "source": [
    "## 9. Palindrome Number\n",
    "\n",
    "Given an integer x, return true if x is palindrome integer.\n",
    "\n",
    "An integer is a palindrome when it reads the same backward as forward.\n",
    "\n",
    "For example, 121 is a palindrome while 123 is not."
   ]
  },
  {
   "cell_type": "code",
   "execution_count": 8,
   "id": "fed61621",
   "metadata": {},
   "outputs": [
    {
     "data": {
      "text/plain": [
       "True"
      ]
     },
     "execution_count": 8,
     "metadata": {},
     "output_type": "execute_result"
    }
   ],
   "source": [
    "# Solution 1\n",
    "def palidromeInt(x):\n",
    "    x=str(x)\n",
    "    return x==x[::-1]\n",
    "palidromeInt(121)"
   ]
  },
  {
   "cell_type": "code",
   "execution_count": 10,
   "id": "edb22e73",
   "metadata": {},
   "outputs": [
    {
     "data": {
      "text/plain": [
       "False"
      ]
     },
     "execution_count": 10,
     "metadata": {},
     "output_type": "execute_result"
    }
   ],
   "source": [
    "def palidromeInt2(x):\n",
    "    return x>=0 and x==int(str(x)[::-1])\n",
    "palidromeInt2(123)"
   ]
  },
  {
   "cell_type": "code",
   "execution_count": 12,
   "id": "c54e5cef",
   "metadata": {},
   "outputs": [
    {
     "data": {
      "text/plain": [
       "True"
      ]
     },
     "execution_count": 12,
     "metadata": {},
     "output_type": "execute_result"
    }
   ],
   "source": [
    "# Solution 2\n",
    "# 翻转一半的数字，比较新旧两个数字是否相等\n",
    "def palindromInt3(x):\n",
    "    if x<0 or (x%10==0 and x!=0):\n",
    "        return False\n",
    "    ans =0\n",
    "    while x>ans:\n",
    "        ans=ans*10+x%10\n",
    "        x//=10\n",
    "    return x==ans or x==(ans//10)\n",
    "palindromInt3(1234321)"
   ]
  },
  {
   "cell_type": "markdown",
   "id": "433c60e9",
   "metadata": {},
   "source": [
    "# 125. 验证回文串\n",
    "- 给定一个字符串，验证它是否是回文串，只考虑字母和数字字符，可以忽略字母的大小写。\n",
    "- 说明：本题中，我们将空字符串定义为有效的回文串。\n",
    "- 示例 1:  \n",
    "输入: \"A man, a plan, a canal: Panama\"  \n",
    "输出: true  \n",
    "解释：\"amanaplanacanalpanama\" 是回文串  \n",
    "- 示例 2:   \n",
    "输入: \"race a car\"  \n",
    "输出: false  \n",
    "解释：\"raceacar\" 不是回文串  \n",
    "链接：https://leetcode-cn.com/problems/valid-palindrome"
   ]
  },
  {
   "cell_type": "markdown",
   "id": "d4db1d9a",
   "metadata": {},
   "source": [
    "### solution1: go trough all letter in str"
   ]
  },
  {
   "cell_type": "code",
   "execution_count": 52,
   "id": "077e1197",
   "metadata": {},
   "outputs": [
    {
     "data": {
      "text/plain": [
       "True"
      ]
     },
     "execution_count": 52,
     "metadata": {},
     "output_type": "execute_result"
    }
   ],
   "source": [
    "\n",
    "def palidrome1(str):\n",
    "    return str==str[::-1]\n",
    "palidrome1(\"!a121a!\")"
   ]
  },
  {
   "cell_type": "markdown",
   "id": "fd301982",
   "metadata": {},
   "source": [
    "### solution2: compare half of str is enouph to decide palidrome"
   ]
  },
  {
   "cell_type": "code",
   "execution_count": 62,
   "id": "08d885f4",
   "metadata": {},
   "outputs": [
    {
     "data": {
      "text/plain": [
       "False"
      ]
     },
     "execution_count": 62,
     "metadata": {},
     "output_type": "execute_result"
    }
   ],
   "source": [
    "# solution1: compare half of str is enouph to decide palidrome\n",
    "def palidrome2_1(str):\n",
    "    n=len(str)\n",
    "    if n % 2 == 1:\n",
    "        k=int((n-1)/2)\n",
    "    else:\n",
    "        k=int(n/2)\n",
    "        \n",
    "    for i in range(k):\n",
    "        if str[i] != str[n-1-i]:\n",
    "            return False\n",
    "    return True\n",
    "str=\"123\"\n",
    "palidrome2_1(str)"
   ]
  },
  {
   "cell_type": "code",
   "execution_count": 61,
   "id": "73c46c38",
   "metadata": {},
   "outputs": [
    {
     "data": {
      "text/plain": [
       "False"
      ]
     },
     "execution_count": 61,
     "metadata": {},
     "output_type": "execute_result"
    }
   ],
   "source": [
    "def palidrome2_2(str):\n",
    "    n=len(str)\n",
    "    k=n//2\n",
    "        \n",
    "    for i in range(k):\n",
    "        if str[i] != str[n-1-i]:\n",
    "            return False\n",
    "    return True\n",
    "str=\"123\"\n",
    "palidrome2_2(str)"
   ]
  },
  {
   "cell_type": "markdown",
   "id": "2ea60382",
   "metadata": {},
   "source": [
    "### Solution 3: two INDEX 双指针方法\n"
   ]
  },
  {
   "cell_type": "code",
   "execution_count": 1,
   "id": "8e988007",
   "metadata": {},
   "outputs": [
    {
     "data": {
      "text/plain": [
       "False"
      ]
     },
     "execution_count": 1,
     "metadata": {},
     "output_type": "execute_result"
    }
   ],
   "source": [
    "# s include alphabet and numerics only\n",
    "def palindrome3_1(s):\n",
    "    n=len(s)\n",
    "    l=0\n",
    "    r=n-1\n",
    "    while l<=r:\n",
    "        if s[l] == s[r]:\n",
    "            l +=1\n",
    "            r -+1\n",
    "        else:\n",
    "            return False\n",
    "    return True\n",
    "palindrome3_1(\"123\")"
   ]
  },
  {
   "cell_type": "markdown",
   "id": "ef5645a6",
   "metadata": {},
   "source": [
    "## Perparation str for palindrome\n",
    "Only leave alphabet and numeric in the str\n",
    "1. isalnum(): skip the simbol "
   ]
  },
  {
   "cell_type": "code",
   "execution_count": null,
   "id": "6e1bea6f",
   "metadata": {},
   "outputs": [],
   "source": [
    "# isalnum(): skip the simbol\n",
    "# if s includes other simbol, \n",
    "# remove the special symbol and left alphabet and numbers only\n",
    "def palindrome3_2(s):\n",
    "    n=len(s)\n",
    "    l,r=0,n-1\n",
    "    while l<r:\n",
    "        while l < r and not s[l].isalnum():\n",
    "            l +=1\n",
    "        while l < r and not s[r].isalnum():\n",
    "            r -=1\n",
    "        if l < r:\n",
    "            if s[l].lower() != s[r].lower():\n",
    "                return False\n",
    "            l,r=l+1,r-1\n",
    "    \n",
    "    return True\n",
    "palindrome3_2(\"1d3dgt4 d.2\")\n"
   ]
  },
  {
   "cell_type": "markdown",
   "id": "502ff75e",
   "metadata": {},
   "source": [
    "2. join(): remove the special simbol , only leave the alphabet and numeric, to find the good string first, then palindrome later."
   ]
  },
  {
   "cell_type": "code",
   "execution_count": 54,
   "id": "4af2b84c",
   "metadata": {},
   "outputs": [
    {
     "data": {
      "text/plain": [
       "'amanaplanacanalpanama'"
      ]
     },
     "execution_count": 54,
     "metadata": {},
     "output_type": "execute_result"
    }
   ],
   "source": [
    "s=\"A man, a plan, a canal: Panama\"\n",
    "a=[]\n",
    "for ch in s:\n",
    "    if ch.isalnum():\n",
    "        a.append(ch.lower())\n",
    "sgood=\"\".join(a)\n",
    "sgood"
   ]
  },
  {
   "cell_type": "markdown",
   "id": "d919fc00",
   "metadata": {},
   "source": [
    "-  the code above equal to "
   ]
  },
  {
   "cell_type": "code",
   "execution_count": 55,
   "id": "bbbe9547",
   "metadata": {},
   "outputs": [
    {
     "data": {
      "text/plain": [
       "'13g5af'"
      ]
     },
     "execution_count": 55,
     "metadata": {},
     "output_type": "execute_result"
    }
   ],
   "source": [
    "\n",
    "s=\"1,3,g,5,af\"\n",
    "sgood = \"\".join(ch.lower() for ch in s if ch.isalnum())\n",
    "sgood"
   ]
  },
  {
   "cell_type": "markdown",
   "id": "a4fa31ef",
   "metadata": {},
   "source": [
    "3. use RE to find the alphabet and numeric first"
   ]
  },
  {
   "cell_type": "code",
   "execution_count": 4,
   "id": "2cac76ea",
   "metadata": {},
   "outputs": [
    {
     "data": {
      "text/plain": [
       "'432ada234'"
      ]
     },
     "execution_count": 4,
     "metadata": {},
     "output_type": "execute_result"
    }
   ],
   "source": [
    "import re\n",
    "s=\"4.3-2a,d+a234,![]\"\n",
    "p=''.join(re.findall(r'[a-zA-Z0-9]',s)).lower()\n",
    "p"
   ]
  },
  {
   "cell_type": "markdown",
   "id": "21b0b6b8",
   "metadata": {},
   "source": [
    "4. use re.sub, replace the str want to remove with \"\""
   ]
  },
  {
   "cell_type": "code",
   "execution_count": 19,
   "id": "26769c5b",
   "metadata": {},
   "outputs": [
    {
     "name": "stdout",
     "output_type": "stream",
     "text": [
      "abc xxx abc xxwx\n"
     ]
    }
   ],
   "source": [
    "# re.sub(pattern, repl, string, count=None) \n",
    "# include the optional count parameter to specify the maximum number of pattern occurrences \n",
    "# to be replaced by repl in string.\n",
    "a=\"abc xx1x ab9c xxwx2\" \n",
    "b=re.sub(\"0|1|2|3|4|5|6|7|8|9\",\"\",a)\n",
    "print(b)"
   ]
  },
  {
   "cell_type": "code",
   "execution_count": 20,
   "id": "96a01b46",
   "metadata": {},
   "outputs": [
    {
     "name": "stdout",
     "output_type": "stream",
     "text": [
      "['one', 'two', 'three']\n",
      "one-two-three\n"
     ]
    }
   ],
   "source": [
    "# It is also possible to use splitlines(), which returns a list split with various newline characters, \n",
    "# and join(), which combines lists with strings.\n",
    "s_lines_multi = 'one\\ntwo\\r\\nthree'\n",
    "print(s_lines_multi.splitlines())\n",
    "print(\"-\".join(s_lines_multi.splitlines()))\n",
    "\n",
    "# Use the translate() method to replace multiple different characters.\n",
    "# The translation table specified in translate() is created by the str.maketrans().\n",
    "# Specify a dictionary whose key is the old character and whose value is the new string in the str.maketrans().\n",
    "# The old character must be a character (a string of length 1). The new string is a string or None, where None removes old characters.\n",
    "s = 'one two one two one'\n",
    "print(s.translate(str.maketrans({'o': 'O', 't': 'T'})))\n",
    "print(s.translate(str.maketrans({'o': 'XXX', 't': None})))\n",
    "#str.maketrans() can also take three strings as arguments instead of a dictionary.\n",
    "print(s.translate(str.maketrans('ow', 'XY', 'n')))\n"
   ]
  },
  {
   "cell_type": "code",
   "execution_count": null,
   "id": "06d45d82",
   "metadata": {},
   "outputs": [],
   "source": []
  },
  {
   "cell_type": "code",
   "execution_count": null,
   "id": "3b9c8257",
   "metadata": {},
   "outputs": [],
   "source": []
  },
  {
   "cell_type": "code",
   "execution_count": null,
   "id": "53f298c7",
   "metadata": {},
   "outputs": [],
   "source": []
  }
 ],
 "metadata": {
  "kernelspec": {
   "display_name": "Python 3",
   "language": "python",
   "name": "python3"
  },
  "language_info": {
   "codemirror_mode": {
    "name": "ipython",
    "version": 3
   },
   "file_extension": ".py",
   "mimetype": "text/x-python",
   "name": "python",
   "nbconvert_exporter": "python",
   "pygments_lexer": "ipython3",
   "version": "3.9.6"
  }
 },
 "nbformat": 4,
 "nbformat_minor": 5
}
