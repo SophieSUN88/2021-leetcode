{
 "cells": [
  {
   "cell_type": "markdown",
   "metadata": {},
   "source": [
    "## 剑指 Offer 09. 用两个栈实现队列-简单\n",
    "- 用两个栈实现一个队列。队列的声明如下，请实现它的两个函数 appendTail 和 deleteHead ，分别完成在队列尾部插入整数和在队列头部删除整数的功能。(若队列中没有元素，deleteHead 操作返回 -1 )\n",
    "- 示例 1：\n",
    "- 输入：\n",
    "    - [\"CQueue\",\"appendTail\",\"deleteHead\",\"deleteHead\"]\n",
    "    - [[],[3],[],[]]\n",
    "- 输出：[null,null,3,-1]\n",
    "- 示例 2：\n",
    "- 输入：\n",
    "    - [\"CQueue\",\"deleteHead\",\"appendTail\",\"appendTail\",\"deleteHead\",\"deleteHead\"]\n",
    "    - [[],[],[5],[2],[],[]]\n",
    "- 输出：[null,-1,null,null,5,2]\n",
    "\n",
    "链接：https://leetcode-cn.com/problems/yong-liang-ge-zhan-shi-xian-dui-lie-lcof\n",
    "\n"
   ]
  },
  {
   "cell_type": "markdown",
   "metadata": {},
   "source": [
    "**解题思路**  \n",
    "- 栈无法实现队列功能： 栈底元素（对应队首元素）无法直接删除，需要将上方所有元素出栈。\n",
    "- 双栈可实现列表倒序： 设有含三个元素的栈 A=[1,2,3] 和空栈 B=[]。若循环执行 A 元素出栈并添加入栈 B ，直到栈 A 为空，则 A=[] , B=[3,2,1] ，即 栈 B 元素实现栈 A 元素倒序 。\n",
    "- 利用栈 B 删除队首元素： 倒序后，B 执行出栈则相当于删除了 A 的栈底元素，即对应队首元素。\n",
    "\n",
    "**函数设计**  \n",
    "题目只要求实现 加入队尾appendTail() 和 删除队首deleteHead() 两个函数的正常工作，因此我们可以设计栈 A 用于加入队尾操作，栈 B 用于将元素倒序，从而实现删除队首元素。\n",
    "\n",
    "- 加入队尾 appendTail()函数： 将数字 val 加入栈 A 即可。\n",
    "- 删除队首deleteHead()函数： 有以下三种情况。\n",
    "    - 1. 当栈 B 不为空： B中仍有已完成倒序的元素，因此直接返回 B 的栈顶元素。\n",
    "    - 2. 否则，当 A 为空： 即两个栈都为空，无元素，因此返回 −1 。\n",
    "    - 3. 否则： 将栈 A 元素全部转移至栈 B 中，实现元素倒序，并返回栈 B 的栈顶元素。  \n",
    "    \n",
    "链接：https://leetcode-cn.com/problems/yong-liang-ge-zhan-shi-xian-dui-lie-lcof/solution/mian-shi-ti-09-yong-liang-ge-zhan-shi-xian-dui-l-2/"
   ]
  },
  {
   "cell_type": "code",
   "execution_count": 4,
   "metadata": {},
   "outputs": [],
   "source": [
    "class CQueue:\n",
    "    #生成stack A, Stack B\n",
    "    def __init__(self):\n",
    "        self.A, self.B = [], []\n",
    "    # add value\n",
    "    def appendTail(self, value: int) -> None:\n",
    "        self.A.append(value)\n",
    "    # delete head\n",
    "    def deleteHead(self) -> int:\n",
    "        # if B 非空，删除末尾的value，就是A的第一个value\n",
    "        if self.B: return self.B.pop()\n",
    "        # B 空， A kong，返回-1\n",
    "        if not self.A: return -1\n",
    "        # B 空, A 非 空， A的最后一个value都给到B，知道A为空，然后删除B的最后一个\n",
    "        while self.A:\n",
    "            self.B.append(self.A.pop())\n",
    "        return self.B.pop()\n"
   ]
  },
  {
   "cell_type": "markdown",
   "metadata": {},
   "source": [
    "我们先来看一下题目要求，设计一个支持 push ，pop ，top 操作，并能在常数时间内检索到最小元素的栈。\n",
    "思路如下，我们需要通过两个栈来实现，栈A用来执行正常的操作，栈B用来保存,栈A当前的最小元素，下面我们通过一个视频进行说明。\n",
    "1.我们执行入栈操作时，先观察需要入栈的元素是否小于栈 B 的栈顶元素，如果小于则两个栈都执行入栈操作。\n",
    "2.栈 B 的栈顶元素则是，栈 A 此时的最小值。则 getmin 只需返回栈 B 的栈顶元素即可。\n",
    "3.出栈时，需要进行对比，若栈 A 和栈 B 栈顶元素相同，则同时出栈，此时 B 的栈顶保存的仍为此时栈 A 的最小元素。\n",
    "\n",
    "链接：https://leetcode-cn.com/problems/bao-han-minhan-shu-de-zhan-lcof/solution/yi-xia-jiu-neng-du-dong-de-ti-jie-fu-zhu-yhbx/\n"
   ]
  },
  {
   "cell_type": "code",
   "execution_count": null,
   "metadata": {},
   "outputs": [],
   "source": [
    "class MinStack:\n",
    "\n",
    "    def __init__(self):\n",
    "        \"\"\"\n",
    "        initialize your data structure here.\n",
    "        \"\"\"\n",
    "        self.A=[]\n",
    "        self.B=[]\n",
    "\n",
    "\n",
    "    def push(self, x: int) -> None:\n",
    "        self.A.append(x)\n",
    "        if not self.B or self.B[-1] > x:\n",
    "            self.B.append(x)\n",
    "\n",
    "\n",
    "    def pop(self) -> None:\n",
    "        y=self.A.pop()\n",
    "        if y==self.B[-1]:\n",
    "            self.B.pop()\n",
    "\n",
    "\n",
    "    def top(self) -> int:\n",
    "        return self.A[-1]\n",
    "\n",
    "\n",
    "    def min(self) -> int:\n",
    "        return self.B[-1]\n"
   ]
  }
 ],
 "metadata": {
  "interpreter": {
   "hash": "aee8b7b246df8f9039afb4144a1f6fd8d2ca17a180786b69acc140d282b71a49"
  },
  "kernelspec": {
   "display_name": "Python 3.9.6 64-bit",
   "language": "python",
   "name": "python3"
  },
  "language_info": {
   "codemirror_mode": {
    "name": "ipython",
    "version": 3
   },
   "file_extension": ".py",
   "mimetype": "text/x-python",
   "name": "python",
   "nbconvert_exporter": "python",
   "pygments_lexer": "ipython3",
   "version": "3.9.6"
  },
  "orig_nbformat": 4
 },
 "nbformat": 4,
 "nbformat_minor": 2
}
