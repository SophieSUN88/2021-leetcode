{
 "cells": [
  {
   "cell_type": "markdown",
   "metadata": {},
   "source": [
    "### leetcode 73. Set Matrix Zeroes (medium)\n",
    "- Given an m x n integer matrix matrix, if an element is 0, set its entire row and column to 0's, and return the matrix.\n",
    "- You must do it in place.\n",
    "- Example 1:\n",
    "    - Input: matrix = [[1,1,1],[1,0,1],[1,1,1]]\n",
    "    - Output: [[1,0,1],[0,0,0],[1,0,1]]\n",
    "- Example 2:\n",
    "    - Input: matrix = [[0,1,2,0],[3,4,5,2],[1,3,1,5]]\n",
    "    - Output: [[0,0,0,0],[0,4,5,0],[0,3,1,0]]\n"
   ]
  },
  {
   "cell_type": "code",
   "execution_count": 1,
   "metadata": {},
   "outputs": [],
   "source": [
    "# Solution 1 (68ms)\n",
    "def setZero1(matrix):\n",
    "    i_sum=[]\n",
    "    j_sum=[]\n",
    "    n=len(matrix)\n",
    "    m=len(matrix[0])\n",
    "    for i in range(n):\n",
    "        for j in range(m):\n",
    "            if matrix[i][j]==0:\n",
    "                i_sum.append(i)\n",
    "                j_sum.append(j)\n",
    "    for i in range(n):\n",
    "        for j in range(m):\n",
    "            if (i in i_sum or j in j_sum) and matrix[i][j] != 0:\n",
    "                matrix[i][j] = 0\n"
   ]
  },
  {
   "cell_type": "code",
   "execution_count": 2,
   "metadata": {},
   "outputs": [
    {
     "name": "stdout",
     "output_type": "stream",
     "text": [
      "[[1, 0, 1], [0, 0, 0], [1, 0, 1]]\n",
      "[[0, 0, 0, 0], [0, 4, 5, 0], [0, 3, 1, 0]]\n"
     ]
    }
   ],
   "source": [
    "matrix1=[[1,1,1],[1,0,1],[1,1,1]]\n",
    "matrix2 = [[0,1,2,0],[3,4,5,2],[1,3,1,5]]\n",
    "setZero1(matrix1)\n",
    "setZero1(matrix2)\n",
    "print(matrix1)\n",
    "print(matrix2)"
   ]
  },
  {
   "cell_type": "code",
   "execution_count": 3,
   "metadata": {},
   "outputs": [],
   "source": [
    "# Solution 2 (44ms)\n",
    "def setZero2(matrix):\n",
    "    m=len(matrix)\n",
    "    n=len(matrix[0])\n",
    "    row=[False]*m\n",
    "    col=[False]*n\n",
    "\n",
    "    for i in range(m):\n",
    "        for j in range(n):\n",
    "            if matrix[i][j]==0:\n",
    "                row[i]=True\n",
    "                col[j]=True\n",
    "    for i in range(m):\n",
    "        for j in range(n):\n",
    "            if row[i] or col[j]:\n",
    "                matrix[i][j]=0\n",
    "    \n"
   ]
  },
  {
   "cell_type": "code",
   "execution_count": 4,
   "metadata": {},
   "outputs": [
    {
     "name": "stdout",
     "output_type": "stream",
     "text": [
      "[[1, 0, 1], [0, 0, 0], [1, 0, 1]]\n",
      "[[0, 0, 0, 0], [0, 4, 5, 0], [0, 3, 1, 0]]\n"
     ]
    }
   ],
   "source": [
    "matrix1=[[1,1,1],[1,0,1],[1,1,1]]\n",
    "matrix2 = [[0,1,2,0],[3,4,5,2],[1,3,1,5]]\n",
    "setZero2(matrix1)\n",
    "setZero2(matrix2)\n",
    "print(matrix1)\n",
    "print(matrix2)"
   ]
  },
  {
   "cell_type": "code",
   "execution_count": 5,
   "metadata": {},
   "outputs": [],
   "source": [
    "# solution3 (36ms)\n",
    "def setZero3(matrix):\n",
    "    flag_col = False\n",
    "    row = len(matrix)\n",
    "    col = len(matrix[0])\n",
    "    for i in range(row):\n",
    "        if matrix[i][0] == 0: flag_col = True\n",
    "        for j in range(1,col):\n",
    "            if matrix[i][j] == 0:\n",
    "                matrix[i][0] = matrix[0][j] = 0\n",
    "        \n",
    "    for i in range(row - 1, -1, -1):\n",
    "        for j in range(col - 1, 0, -1):\n",
    "            if matrix[i][0] == 0 or matrix[0][j] == 0:\n",
    "                matrix[i][j] = 0\n",
    "        if flag_col == True: \n",
    "            matrix[i][0] = 0\n"
   ]
  },
  {
   "cell_type": "code",
   "execution_count": 6,
   "metadata": {},
   "outputs": [
    {
     "name": "stdout",
     "output_type": "stream",
     "text": [
      "[[1, 0, 1], [0, 0, 0], [1, 0, 1]]\n",
      "[[0, 0, 0, 0], [0, 4, 5, 0], [0, 3, 1, 0]]\n"
     ]
    }
   ],
   "source": [
    "matrix1=[[1,1,1],[1,0,1],[1,1,1]]\n",
    "matrix2 = [[0,1,2,0],[3,4,5,2],[1,3,1,5]]\n",
    "setZero3(matrix1)\n",
    "setZero3(matrix2)\n",
    "print(matrix1)\n",
    "print(matrix2)"
   ]
  }
 ],
 "metadata": {
  "interpreter": {
   "hash": "aee8b7b246df8f9039afb4144a1f6fd8d2ca17a180786b69acc140d282b71a49"
  },
  "kernelspec": {
   "display_name": "Python 3.9.6 64-bit",
   "language": "python",
   "name": "python3"
  },
  "language_info": {
   "codemirror_mode": {
    "name": "ipython",
    "version": 3
   },
   "file_extension": ".py",
   "mimetype": "text/x-python",
   "name": "python",
   "nbconvert_exporter": "python",
   "pygments_lexer": "ipython3",
   "version": "3.9.6"
  },
  "orig_nbformat": 4
 },
 "nbformat": 4,
 "nbformat_minor": 2
}
