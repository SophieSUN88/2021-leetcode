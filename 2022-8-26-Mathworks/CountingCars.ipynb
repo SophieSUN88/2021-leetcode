{
 "cells": [
  {
   "cell_type": "markdown",
   "metadata": {},
   "source": [
    "### Counting Cars\n",
    "A company is monitoring the number of cars in a parking lot each hour. Each hour they save the number of cars currently in the lot into an array of integers, numCars. The company would like to query numCars such that given a starting hour hj denoting the index in numCars, they know how many times the parking lot reached peak capacity by the end of the data collection. The peak capacity is defined as the maximum number of cars that parked in the lot from hj to the end of data collection, inclusively.\n",
    "\n",
    "Write a function that takes in an array of queries, hourStartQ, and outputs an array of the corresponding peak capacity frequencies. The output array, maxFrequency, will have one value for each query."
   ]
  },
  {
   "cell_type": "code",
   "execution_count": 2,
   "metadata": {},
   "outputs": [
    {
     "name": "stdout",
     "output_type": "stream",
     "text": [
      "0.2\n",
      "0.2\n",
      "0.0\n",
      "0.0\n"
     ]
    },
    {
     "data": {
      "text/plain": [
       "[0.2, 0.2, 0.0, 0.0]"
      ]
     },
     "execution_count": 2,
     "metadata": {},
     "output_type": "execute_result"
    }
   ],
   "source": [
    "from unicodedata import numeric\n",
    "\n",
    "\n",
    "class Solution():\n",
    "    def CountCars(self, numCars:list, hourStartQ:list) -> list:\n",
    "        n = len(numCars)\n",
    "        peakNumCars = max(numCars)\n",
    "        maxFrequencies = []\n",
    "        for i in range(len(hourStartQ)):\n",
    "            count = 0\n",
    "            for j in range(hourStartQ[i],n):\n",
    "                if numCars[j] == peakNumCars:\n",
    "                    count +=1\n",
    "            frequency = float(format(count / n, '.2f'))\n",
    "            # print(frequency)\n",
    "            maxFrequencies.append(frequency)\n",
    "        return maxFrequencies\n",
    "\n",
    "\n",
    "numCars = [5,4,5,3,2]\n",
    "hourStartQ = [1,2,4,5]\n",
    "example = Solution()\n",
    "example.CountCars(numCars, hourStartQ)\n"
   ]
  },
  {
   "cell_type": "code",
   "execution_count": null,
   "metadata": {},
   "outputs": [],
   "source": []
  }
 ],
 "metadata": {
  "kernelspec": {
   "display_name": "Python 3.9.6 64-bit",
   "language": "python",
   "name": "python3"
  },
  "language_info": {
   "codemirror_mode": {
    "name": "ipython",
    "version": 3
   },
   "file_extension": ".py",
   "mimetype": "text/x-python",
   "name": "python",
   "nbconvert_exporter": "python",
   "pygments_lexer": "ipython3",
   "version": "3.9.6"
  },
  "orig_nbformat": 4,
  "vscode": {
   "interpreter": {
    "hash": "aee8b7b246df8f9039afb4144a1f6fd8d2ca17a180786b69acc140d282b71a49"
   }
  }
 },
 "nbformat": 4,
 "nbformat_minor": 2
}
