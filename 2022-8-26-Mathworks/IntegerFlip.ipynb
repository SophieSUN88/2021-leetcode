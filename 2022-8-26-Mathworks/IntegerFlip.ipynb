{
 "cells": [
  {
   "cell_type": "markdown",
   "metadata": {},
   "source": [
    "### Integer Flip\n",
    "\n",
    "Given an integer n , find the value of 1/n. 1/n will end in a sequence of infinitely repeating difits. Print the digits of the repeating sequence twice with a space between the first and second repetition.\n",
    "\n",
    "For example, if N = 8, 1/N is 1/8=0.125000000... so print 0.1250 0 . If N = 9 , 1/N is 1/9=0.111111... so print 0.1 1.\n",
    "\n",
    "Constraints: 2<= N <= $10^5$"
   ]
  },
  {
   "cell_type": "code",
   "execution_count": 16,
   "metadata": {},
   "outputs": [
    {
     "name": "stdout",
     "output_type": "stream",
     "text": [
      "s: 0.142857142857142849212692681248881854116916656494140625000000000000000000000000000000000000000000000000000000000000000000\n",
      "result: 0.142857 142857\n"
     ]
    },
    {
     "data": {
      "text/plain": [
       "'0.142857 142857'"
      ]
     },
     "execution_count": 16,
     "metadata": {},
     "output_type": "execute_result"
    }
   ],
   "source": [
    "\n",
    "\n",
    "\n",
    "class Solution():\n",
    "    # find the repeat length\n",
    "    def Length(self, n):\n",
    "        L = 1\n",
    "        while(True):\n",
    "            if (10 ** L - 1 ) % n == 0:\n",
    "                break\n",
    "            L +=1\n",
    "        return L\n",
    "\n",
    "    # check whether 1/n is a repeating decimal\n",
    "    def check(self, n):\n",
    "        if n == 2 or n == 5:\n",
    "            return True\n",
    "        if n % 2 == 0:\n",
    "            return self.check(n//2)\n",
    "        if n % 5 == 0:\n",
    "            return self.check(n//5)\n",
    "        return False\n",
    "\n",
    "    def IntegerFlip(self, n):\n",
    "        # if it is not a repeat decimal, end with '0 0'\n",
    "        if self.check(n):\n",
    "            s = str(1/n)\n",
    "            result = s + '0 0'\n",
    "            print('s:',s)\n",
    "            print('result:',result)\n",
    "            return result\n",
    "        else:\n",
    "            # if it is a repeat decimal, find the repeat length first\n",
    "            L = self.Length(n)\n",
    "            s = format(1 / n, f'.{L*20}f')\n",
    "            print('s:',s)\n",
    "            \n",
    "            for i in range(L *10):\n",
    "                a = s[i:i+L]\n",
    "                b = s[i+L:i+2 * L]\n",
    "                if a == b:\n",
    "                    result = s[:i] + a + ' ' + a\n",
    "                    print(\"result:\",result)\n",
    "                    return result\n",
    "\n",
    "example = Solution()\n",
    "example.IntegerFlip(n = 7)\n"
   ]
  }
 ],
 "metadata": {
  "kernelspec": {
   "display_name": "Python 3.9.6 64-bit",
   "language": "python",
   "name": "python3"
  },
  "language_info": {
   "codemirror_mode": {
    "name": "ipython",
    "version": 3
   },
   "file_extension": ".py",
   "mimetype": "text/x-python",
   "name": "python",
   "nbconvert_exporter": "python",
   "pygments_lexer": "ipython3",
   "version": "3.9.6"
  },
  "orig_nbformat": 4,
  "vscode": {
   "interpreter": {
    "hash": "aee8b7b246df8f9039afb4144a1f6fd8d2ca17a180786b69acc140d282b71a49"
   }
  }
 },
 "nbformat": 4,
 "nbformat_minor": 2
}
