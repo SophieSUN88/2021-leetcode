{
 "cells": [
  {
   "cell_type": "markdown",
   "metadata": {},
   "source": [
    "### Subarrays of Fruit\n",
    "\n",
    "Isabella is preparing her daughter's fruit snack bowl and she wants to ensure her daughter eats the necessary nutrients. Each fruit is represented by a different integer indicating how many nutrients that fruit provides. Given an array of integers representing the individual fruit nutrients and a required nutrient amount, find how many subarrays of fruits will equal the required amount of nutrients. A subarray is a contiguous segment of an array.\n",
    "\n",
    "Example:\n",
    "- Input:\n",
    "    - fruitNutrients = [1,2,3,0]\n",
    "    - reqNutrient = 3\n",
    "- Output = 3\n",
    "- Explanation:These 3 list: [1,2],[3],[3,0] ; total nutrients is equal to 3."
   ]
  },
  {
   "cell_type": "code",
   "execution_count": 13,
   "metadata": {},
   "outputs": [
    {
     "data": {
      "text/plain": [
       "4"
      ]
     },
     "execution_count": 13,
     "metadata": {},
     "output_type": "execute_result"
    }
   ],
   "source": [
    "class Solution():\n",
    "    def fruitNutrient(self, fruitNutrients, reqNutrient):\n",
    "        count = 0\n",
    "        for i in range(len(fruitNutrients)):\n",
    "            if fruitNutrients[i] == reqNutrient:\n",
    "                count +=1\n",
    "            for j in range(i+1,len(fruitNutrients)):\n",
    "                if sum(fruitNutrients[i:j+1]) == reqNutrient:\n",
    "                    count +=1\n",
    "                elif sum(fruitNutrients[i:j+1]) > reqNutrient:\n",
    "                    break\n",
    "        return count\n",
    "\n",
    "fruitNutrients = [1,2,3,0,0]\n",
    "reqNutrients = 3\n",
    "example = Solution()\n",
    "example.fruitNutrient(fruitNutrients,reqNutrients)"
   ]
  },
  {
   "cell_type": "code",
   "execution_count": null,
   "metadata": {},
   "outputs": [],
   "source": []
  }
 ],
 "metadata": {
  "kernelspec": {
   "display_name": "Python 3.9.6 64-bit",
   "language": "python",
   "name": "python3"
  },
  "language_info": {
   "codemirror_mode": {
    "name": "ipython",
    "version": 3
   },
   "file_extension": ".py",
   "mimetype": "text/x-python",
   "name": "python",
   "nbconvert_exporter": "python",
   "pygments_lexer": "ipython3",
   "version": "3.9.6"
  },
  "orig_nbformat": 4,
  "vscode": {
   "interpreter": {
    "hash": "aee8b7b246df8f9039afb4144a1f6fd8d2ca17a180786b69acc140d282b71a49"
   }
  }
 },
 "nbformat": 4,
 "nbformat_minor": 2
}
