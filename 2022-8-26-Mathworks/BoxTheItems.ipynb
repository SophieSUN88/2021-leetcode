{
 "cells": [
  {
   "cell_type": "markdown",
   "metadata": {},
   "source": [
    "### Box the Items\n",
    "You run a packing company. You only have one kind of box that has a weight limit of total. Irrespective of how many items are in a box, the total weight cannot exceed total. Items to be boxed can vary in integer weights from 1 to k, inclusive. Calculate the number of possible ways to achieve total as a sum of the weights of items.\n",
    "\n",
    "Example: total =7, k = 2\n",
    "\n",
    "To reach a total weight of 7, there are 4 different ways that items with weights between 1 and 2 can be combined:[1,1,1,1,1,1,1],[1,1,1,1,1,2],[1,1,1,2,2],[1,2,2,2]\n",
    "\n",
    "Note: Order of items does not matter i.e. [1,2,2,2] is same as [2,1,2,2]"
   ]
  },
  {
   "cell_type": "code",
   "execution_count": null,
   "metadata": {},
   "outputs": [],
   "source": [
    "class Solution():\n",
    "    def BoxItems(self, total:int, k:int) -> int:\n",
    "        reachable = \n",
    "\n",
    "                \n",
    "\n",
    "\n"
   ]
  }
 ],
 "metadata": {
  "kernelspec": {
   "display_name": "Python 3.9.6 64-bit",
   "language": "python",
   "name": "python3"
  },
  "language_info": {
   "name": "python",
   "version": "3.9.6"
  },
  "orig_nbformat": 4,
  "vscode": {
   "interpreter": {
    "hash": "aee8b7b246df8f9039afb4144a1f6fd8d2ca17a180786b69acc140d282b71a49"
   }
  }
 },
 "nbformat": 4,
 "nbformat_minor": 2
}
