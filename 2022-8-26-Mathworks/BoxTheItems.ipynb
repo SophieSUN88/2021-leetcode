{
 "cells": [
  {
   "cell_type": "markdown",
   "metadata": {},
   "source": [
    "### Box the Items\n",
    "You run a packing company. You only have one kind of box that has a weight limit of total. Irrespective of how many items are in a box, the total weight cannot exceed total. Items to be boxed can vary in integer weights from 1 to k, inclusive. Calculate the number of possible ways to achieve total as a sum of the weights of items.\n",
    "\n",
    "Example: total =7, k = 2\n",
    "\n",
    "To reach a total weight of 7, there are 4 different ways that items with weights between 1 and 2 can be combined:[1,1,1,1,1,1,1],[1,1,1,1,1,2],[1,1,1,2,2],[1,2,2,2]\n",
    "\n",
    "Note: Order of items does not matter i.e. [1,2,2,2] is same as [2,1,2,2]"
   ]
  },
  {
   "cell_type": "code",
   "execution_count": null,
   "metadata": {},
   "outputs": [],
   "source": [
    "class Solution():\n",
    "    def BoxItems(self, total:int, k:int) -> int:\n",
    "        count = 0\n",
    "        for i in range(k):\n",
    "            j = i\n",
    "            numSum = 0\n",
    "            while j < k+1:\n",
    "                numSum += j\n",
    "                if numSum == total:\n",
    "                    count +=1\n",
    "                    j += 1\n",
    "                \n",
    "\n",
    "\n"
   ]
  }
 ],
 "metadata": {
  "language_info": {
   "name": "python"
  },
  "orig_nbformat": 4
 },
 "nbformat": 4,
 "nbformat_minor": 2
}
