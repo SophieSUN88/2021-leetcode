{
 "cells": [
  {
   "cell_type": "markdown",
   "metadata": {},
   "source": [
    "### Fun Anagrams\n",
    "Pranav is fond of words. He has two lists: a list of words called words, and a list of phrases call phrases.\n",
    "\n",
    "From the list of words, he wants to figure out which words are anagrams(see note below). Then, he wants to figure out how many different phrases he can make by replacing any anagram word with one of its corresponding anagrams in the list of phrases.\n",
    "\n",
    "An Anagram is a word formed by rearranging the letters of another word.\n",
    "\n",
    "Returns: int[]: an array of m integers that denote the number of phrases that can be formed by replacing anagram words in each phrase."
   ]
  },
  {
   "cell_type": "code",
   "execution_count": 26,
   "metadata": {},
   "outputs": [
    {
     "name": "stdout",
     "output_type": "stream",
     "text": [
      "word_dict: {'estw': 2, 'ahs': 1, 'dgoo': 1}\n",
      "['west', 'has', 'good', 'stew'] phrase_dict: {'estw': 2}\n",
      "['good', 'stew'] phrase_dict: {'estw': 1}\n"
     ]
    },
    {
     "data": {
      "text/plain": [
       "[4, 2]"
      ]
     },
     "execution_count": 26,
     "metadata": {},
     "output_type": "execute_result"
    }
   ],
   "source": [
    "from typing import List\n",
    "from collections import Counter\n",
    "\n",
    "class Solution():\n",
    "    def FunAnagrams(self, words: List, phrases: List) -> int:\n",
    "        def Anagrams(word1 , word2):\n",
    "            return Counter(word1) == Counter(word2)\n",
    "        word_dict = {}\n",
    "        for word in words:\n",
    "            word = \"\".join(sorted(list(word)))\n",
    "            if word not in word_dict:\n",
    "                word_dict[word] = 1\n",
    "            else:\n",
    "                word_dict[word] +=1\n",
    "        print(\"word_dict:\",word_dict)\n",
    "\n",
    "        result = []\n",
    "        for phrase in phrases:\n",
    "            phrase = phrase.split(' ')\n",
    "            phrase_dict = {}\n",
    "            for word in phrase:\n",
    "                word = \"\".join(sorted(list(word)))\n",
    "                if word in word_dict and word_dict[word] > 1 :\n",
    "                    if word not in phrase_dict:\n",
    "                        phrase_dict[word] = 1\n",
    "                    else:\n",
    "                        phrase_dict[word] += 1\n",
    "            print(phrase,\"phrase_dict:\",phrase_dict)\n",
    "            result.append(phrase_dict[word] * word_dict[word])\n",
    "        return result\n",
    "\n",
    "words = ['west','has','stew','good']\n",
    "phrases = ['west has good stew','good stew']\n",
    "example = Solution()\n",
    "example.FunAnagrams(words, phrases)"
   ]
  },
  {
   "cell_type": "code",
   "execution_count": null,
   "metadata": {},
   "outputs": [],
   "source": []
  }
 ],
 "metadata": {
  "kernelspec": {
   "display_name": "Python 3.9.6 64-bit",
   "language": "python",
   "name": "python3"
  },
  "language_info": {
   "codemirror_mode": {
    "name": "ipython",
    "version": 3
   },
   "file_extension": ".py",
   "mimetype": "text/x-python",
   "name": "python",
   "nbconvert_exporter": "python",
   "pygments_lexer": "ipython3",
   "version": "3.9.6"
  },
  "orig_nbformat": 4,
  "vscode": {
   "interpreter": {
    "hash": "aee8b7b246df8f9039afb4144a1f6fd8d2ca17a180786b69acc140d282b71a49"
   }
  }
 },
 "nbformat": 4,
 "nbformat_minor": 2
}
